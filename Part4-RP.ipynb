{
 "cells": [
  {
   "cell_type": "code",
   "execution_count": 1,
   "metadata": {},
   "outputs": [],
   "source": [
    "import pickle as pk\n",
    "import pandas as pd\n",
    "import numpy as np\n",
    "import copy\n",
    "\n",
    "data=pd.read_csv(\"./Data/BankChurners.csv\")\n",
    "\n",
    "data['Attrition_Flag'] = data['Attrition_Flag'].map({1: 'Existing Customer', 0: 'Attrited Customer'})\n"
   ]
  },
  {
   "cell_type": "code",
   "execution_count": 5,
   "metadata": {},
   "outputs": [],
   "source": [
    "import numpy as np # linear algebra\n",
    "import pandas as pd # data processing, CSV file I/O (e.g. pd.read_csv)\n",
    "import matplotlib.pyplot as plt\n",
    "import seaborn as sns\n",
    "%matplotlib inline\n",
    "\n",
    "\n",
    "from sklearn.tree import DecisionTreeClassifier\n",
    "from sklearn.metrics import roc_curve, auc\n",
    "\n",
    "from sklearn.model_selection import KFold, cross_val_score\n",
    "from sklearn.preprocessing import StandardScaler, OneHotEncoder, LabelEncoder\n",
    "\n",
    "# # print)str\n",
    "# scaled_x_train=pd.read_csv(\"./Data/scaled_x_train_smote2.csv\")\n",
    "# scaled_x_test=pd.read_csv(\"./Data/scaled_x_test_smote2.csv\")\n",
    "# # pd.read_csv(\"./Data/scaled_x_test_smote2.csv\")\n",
    "# scaled_x_cv=pd.read_csv(\"./Data/scaled_x_cv_smote2.csv\")\n",
    "\n",
    "y_test_copy=pd.read_csv(\"./Data/y_test_smote3.csv\")\n",
    "x_test=pd.read_csv(\"./Data/x_test_smote3.csv\")\n",
    "\n",
    "X_train_res=pd.read_csv(\"./Data/X_train_res_smote3.csv\")\n",
    "y_train_res=pd.read_csv(\"./Data/y_train_res_smote3.csv\")\n",
    "\n",
    "X_train_res=X_train_res.drop('Unnamed: 0',axis=1)\n",
    "y_train_res=y_train_res.drop('Unnamed: 0',axis=1)\n",
    "x_test=x_test.drop('Unnamed: 0',axis=1)\n",
    "\n",
    "\n",
    "y_test_copy=y_test_copy.drop('Unnamed: 0',axis=1)\n",
    "# scaled_x_test=scaled_x_test.drop('Unnamed: 0',axis=1)\n",
    "# scaled_x_cv=scaled_x_cv.drop('Unnamed: 0',axis=1)\n",
    "\n",
    "\n",
    "y_test=y_test_copy\n",
    "\n",
    "y_valid=pd.read_csv(\"./Data/y_valid_smote3.csv\")\n",
    "x_valid=pd.read_csv(\"./Data/x_valid_smote3.csv\")\n",
    "\n",
    "x_valid=x_valid.drop('Unnamed: 0',axis=1)\n",
    "y_valid=y_valid.drop('Unnamed: 0',axis=1)\n",
    "\n",
    "y_valid.shape\n",
    "\n",
    "\n",
    "\n",
    "\n",
    "y_train_res['Attrition_Flag']=y_train_res['Attrition_Flag'].map({'Existing Customer': 1, 'Attrited Customer': 0})\n",
    "y_valid['Attrition_Flag']=y_valid['Attrition_Flag'].map({'Existing Customer': 1, 'Attrited Customer': 0})\n",
    "y_test_copy['Attrition_Flag']=y_test_copy['Attrition_Flag'].map({'Existing Customer': 1, 'Attrited Customer': 0})\n",
    "\n"
   ]
  },
  {
   "cell_type": "code",
   "execution_count": 6,
   "metadata": {},
   "outputs": [
    {
     "data": {
      "text/plain": [
       "(7675, 32)"
      ]
     },
     "execution_count": 6,
     "metadata": {},
     "output_type": "execute_result"
    }
   ],
   "source": [
    "#  Scaling features\n",
    "scaler = StandardScaler()\n",
    "scaler.fit(X_train_res)\n",
    "\n",
    "scaled_x_train = scaler.transform(X_train_res)\n",
    "scaled_x_test = scaler.transform(x_test)\n",
    "\n",
    "\n",
    "scaled_x_valid=scaler.transform(x_valid)\n",
    "# scaled_y_cv =scaler.transform(y_cv)\n",
    "\n",
    "scaled_x_train.shape\n",
    "\n",
    "\n",
    "scaled_x_train.shape"
   ]
  },
  {
   "cell_type": "code",
   "execution_count": 7,
   "metadata": {},
   "outputs": [],
   "source": [
    "X=scaled_x_train"
   ]
  },
  {
   "cell_type": "code",
   "execution_count": 8,
   "metadata": {},
   "outputs": [],
   "source": [
    "from sklearn import mixture\n",
    "gmm = mixture.GaussianMixture(n_components=5,\n",
    "                                      covariance_type='diag')\n",
    "gmmData=gmm.fit(X)\n",
    "\n",
    "\n",
    "\n",
    "gmmDataDf=gmmData.predict_proba(X)\n",
    "\n",
    "gmmDataDf=pd.DataFrame(gmmDataDf)"
   ]
  },
  {
   "cell_type": "code",
   "execution_count": 10,
   "metadata": {},
   "outputs": [],
   "source": [
    "icaTestData=gmmData.predict_proba(scaled_x_test)\n",
    "icavalidData=gmmData.predict_proba(scaled_x_valid)"
   ]
  },
  {
   "cell_type": "code",
   "execution_count": 6,
   "metadata": {},
   "outputs": [],
   "source": [
    "# pca_reload = pk.load(open(\"pca_finalDF_data1.pkl\",'rb'))\n",
    "# result_new = pca_reload .transform(X)"
   ]
  },
  {
   "cell_type": "code",
   "execution_count": 7,
   "metadata": {},
   "outputs": [],
   "source": [
    "# pca_reload.shape"
   ]
  },
  {
   "cell_type": "code",
   "execution_count": 8,
   "metadata": {},
   "outputs": [],
   "source": [
    "def create_model(  hidden_layers,learning_rate):\n",
    "  # Initialize the constructor\n",
    "    model =  keras.Sequential()\n",
    "      # Add an input layer\n",
    "    activation='sigmoid'\n",
    "    model.add(layers.Dense(256, activation=activation, input_shape=input_shape))\n",
    "    for i in range(hidden_layers):\n",
    "          # Add one hidden layer\n",
    "        model.add(layers.Dense(8, activation=activation))\n",
    "\n",
    "      # Add an output layer \n",
    "    model.add(layers.Dense(1, activation=activation))\n",
    "    opt = keras.optimizers.Adam(learning_rate=learning_rate)\n",
    "      #compile model\n",
    "    model.compile(loss='binary_crossentropy', optimizer=opt, metrics=\n",
    "      ['accuracy'])\n",
    "\n",
    "    return model\n"
   ]
  },
  {
   "cell_type": "code",
   "execution_count": 11,
   "metadata": {},
   "outputs": [],
   "source": [
    "\n",
    "import joblib\n",
    "\n",
    "# joblib.dump(DTmodel, 'DTgrid_NLP.pkl')\n",
    "\n",
    "from sklearn import metrics\n",
    "\n",
    "# tfidf_vector_X = xtrain_tfidf_ngram.toarray()  #//shape - (3,6)\n",
    "# tfidf_vector_valid= xvalid_tfidf_ngram.toarray() #//shape - (3,6)\n",
    "# tfidf_vector_X = tfidf_vector_X[:, :, None] #//shape - (3,6,1) \n",
    "# tfidf_vector_valid = tfidf_vector_valid[:, :, None] #//shape - (3,6,1)\n",
    "\n",
    "\n",
    "# tfidf_vector_X.shape[1:]\n",
    "\n",
    "from tensorflow import keras\n",
    "from tensorflow.keras import layers\n",
    "\n",
    "# input_shape= [x_train.shape[1]]\n",
    "\n",
    "# NNmodel = create_model(optimizer='adam', activation = 'sigmoid', hidden_layers=1,learning_rate=0.01)\n",
    "\n",
    "\n",
    "\n",
    "\n",
    "from sklearn.model_selection import RandomizedSearchCV, GridSearchCV\n",
    "from sklearn.metrics import roc_auc_score\n",
    "from sklearn.model_selection import StratifiedKFold\n"
   ]
  },
  {
   "cell_type": "code",
   "execution_count": 10,
   "metadata": {},
   "outputs": [],
   "source": [
    "# sess.run(optimizer._lr)\n",
    "def create_modelWithDropBatch(  hidden_layers,learning_rate):\n",
    "  # Initialize the constructor\n",
    "    model =  keras.Sequential()\n",
    "      # Add an input layer\n",
    "    activation='sigmoid'\n",
    "    model.add(layers.Dense(256, activation=activation, input_shape=input_shape))\n",
    "    for i in range(hidden_layers):\n",
    "          # Add one hidden layer\n",
    "        model.add(layers.BatchNormalization())\n",
    "        model.add(layers.Dropout(0.5))\n",
    "        model.add(layers.Dense(8, activation='relu'))\n",
    "\n",
    "      # Add an output layer \n",
    "    model.add(layers.Dense(1, activation=activation))\n",
    "    opt = keras.optimizers.Adam(learning_rate=learning_rate)\n",
    "      #compile model\n",
    "    model.compile(loss='binary_crossentropy', optimizer=opt, metrics=\n",
    "      ['accuracy'])\n",
    "\n",
    "    return model\n",
    "\n"
   ]
  },
  {
   "cell_type": "code",
   "execution_count": 11,
   "metadata": {},
   "outputs": [],
   "source": [
    "from tensorflow.keras.wrappers.scikit_learn import KerasClassifier"
   ]
  },
  {
   "cell_type": "code",
   "execution_count": 12,
   "metadata": {},
   "outputs": [
    {
     "data": {
      "text/plain": [
       "(7675, 5)"
      ]
     },
     "execution_count": 12,
     "metadata": {},
     "output_type": "execute_result"
    }
   ],
   "source": [
    "gmmDataDf.shape\n",
    "# input_shape"
   ]
  },
  {
   "cell_type": "code",
   "execution_count": 14,
   "metadata": {},
   "outputs": [],
   "source": [
    "from tensorflow.keras.wrappers.scikit_learn import KerasClassifier"
   ]
  },
  {
   "cell_type": "code",
   "execution_count": 16,
   "metadata": {},
   "outputs": [],
   "source": [
    "# sess.run(optimizer._lr)\n",
    "def create_modelWithDropBatch(  hidden_layers,learning_rate):\n",
    "  # Initialize the constructor\n",
    "    model =  keras.Sequential()\n",
    "      # Add an input layer\n",
    "    activation='sigmoid'\n",
    "    model.add(layers.Dense(256, activation=activation, input_shape=input_shape))\n",
    "    for i in range(hidden_layers):\n",
    "          # Add one hidden layer\n",
    "        model.add(layers.BatchNormalization())\n",
    "        model.add(layers.Dropout(0.5))\n",
    "        model.add(layers.Dense(8, activation='relu'))\n",
    "\n",
    "      # Add an output layer \n",
    "    model.add(layers.Dense(1, activation=activation))\n",
    "    opt = keras.optimizers.Adam(learning_rate=learning_rate)\n",
    "      #compile model\n",
    "    model.compile(loss='binary_crossentropy', optimizer=opt, metrics=\n",
    "      ['accuracy'])\n",
    "\n",
    "    return model\n",
    "\n"
   ]
  },
  {
   "cell_type": "code",
   "execution_count": 18,
   "metadata": {},
   "outputs": [
    {
     "name": "stdout",
     "output_type": "stream",
     "text": [
      "{'hidden_layers': 10, 'learning_rate': 0.001}\n",
      "0.6685342073440552\n"
     ]
    }
   ],
   "source": [
    "\n",
    "input_shape=[5]\n",
    "#\n",
    "model_Batch_drop_relu =  KerasClassifier(build_fn=create_modelWithDropBatch, verbose = False)  \n",
    "\n",
    "param_grid={'learning_rate':[0.1,0.001,0.01,0.05,0.05,0.5],'hidden_layers':[2,4,6,8,10]}\n",
    "\n",
    "gridNN_Batch_drop_relu = GridSearchCV(estimator = model_Batch_drop_relu, param_grid = param_grid)\n",
    "\n",
    "model_Batch_drop_relu.get_params()\n",
    "\n",
    "history_Batch_drop_relu = gridNN_Batch_drop_relu.fit(\n",
    "     gmmDataDf, y_train_res,\n",
    "    validation_data=(icavalidData, y_valid),\n",
    "    batch_size=512,\n",
    "    epochs=200,\n",
    "#     callbacks=[early_stopping],\n",
    ")\n",
    "\n",
    "print(history_Batch_drop_relu.best_params_)\n",
    "\n",
    "print(history_Batch_drop_relu.best_score_)\n",
    "# print(grid.best_params_)"
   ]
  },
  {
   "cell_type": "code",
   "execution_count": 24,
   "metadata": {},
   "outputs": [],
   "source": [
    "# sess.run(optimizer._lr)\n",
    "def create_modelWithDropBatch2(  hidden_layers,learning_rate):\n",
    "  # Initialize the constructor\n",
    "    model =  keras.Sequential()\n",
    "      # Add an input layer\n",
    "    activation='sigmoid'\n",
    "    model.add(layers.Dense(256, activation=activation, input_shape=input_shape))\n",
    "    for i in range(hidden_layers):\n",
    "          # Add one hidden layer\n",
    "        model.add(layers.BatchNormalization())\n",
    "        model.add(layers.Dropout(0.5))\n",
    "        model.add(layers.Dense(256, activation='relu'))\n",
    "\n",
    "      # Add an output layer \n",
    "    model.add(layers.Dense(1, activation=activation))\n",
    "    opt = keras.optimizers.Adam(learning_rate=learning_rate)\n",
    "      #compile model\n",
    "    model.compile(loss='binary_crossentropy', optimizer=opt, metrics=\n",
    "      ['accuracy'])\n",
    "\n",
    "    return model\n",
    "\n"
   ]
  },
  {
   "cell_type": "code",
   "execution_count": 28,
   "metadata": {},
   "outputs": [
    {
     "name": "stdout",
     "output_type": "stream",
     "text": [
      "{'hidden_layers': 2, 'learning_rate': 0.5}\n",
      "0.666710102558136\n"
     ]
    }
   ],
   "source": [
    "\n",
    "input_shape=[5]\n",
    "#\n",
    "model_Batch_drop_relu2 =  KerasClassifier(build_fn=create_modelWithDropBatch2, verbose = False)  \n",
    "\n",
    "param_grid={'learning_rate':[0.1,0.001,0.01,0.05,0.05,0.5],'hidden_layers':[2,4,6,8,10]}\n",
    "\n",
    "gridNN_Batch_drop_relu2 = GridSearchCV(estimator = model_Batch_drop_relu2, param_grid = param_grid)\n",
    "\n",
    "model_Batch_drop_relu2.get_params()\n",
    "\n",
    "history_Batch_drop_relu2 = gridNN_Batch_drop_relu2.fit(\n",
    "     gmmDataDf, y_train_res,\n",
    "    validation_data=(icavalidData, y_valid),\n",
    "    batch_size=512,\n",
    "    epochs=200,\n",
    "#     callbacks=[early_stopping],\n",
    ")\n",
    "\n",
    "print(history_Batch_drop_relu2.best_params_)\n",
    "\n",
    "print(history_Batch_drop_relu2.best_score_)\n",
    "# print(grid.best_params_)"
   ]
  },
  {
   "cell_type": "code",
   "execution_count": 25,
   "metadata": {
    "scrolled": true
   },
   "outputs": [
    {
     "name": "stdout",
     "output_type": "stream",
     "text": [
      "Epoch 1/200\n",
      "15/15 [==============================] - 4s 75ms/step - loss: 0.7610 - accuracy: 0.6085 - val_loss: 0.6469 - val_accuracy: 0.8327\n",
      "Epoch 2/200\n",
      "15/15 [==============================] - 1s 47ms/step - loss: 0.6883 - accuracy: 0.6303 - val_loss: 0.6046 - val_accuracy: 0.8327\n",
      "Epoch 3/200\n",
      "15/15 [==============================] - 1s 46ms/step - loss: 0.6806 - accuracy: 0.6294 - val_loss: 0.5526 - val_accuracy: 0.8327\n",
      "Epoch 4/200\n",
      "15/15 [==============================] - 1s 48ms/step - loss: 0.6622 - accuracy: 0.6560 - val_loss: 0.5328 - val_accuracy: 0.8327\n",
      "Epoch 5/200\n",
      "15/15 [==============================] - 1s 49ms/step - loss: 0.6341 - accuracy: 0.6856 - val_loss: 0.5047 - val_accuracy: 0.8327\n",
      "Epoch 6/200\n",
      "15/15 [==============================] - 1s 47ms/step - loss: 0.6125 - accuracy: 0.7160 - val_loss: 0.5079 - val_accuracy: 0.8327\n",
      "Epoch 7/200\n",
      "15/15 [==============================] - 1s 48ms/step - loss: 0.5956 - accuracy: 0.7289 - val_loss: 0.4888 - val_accuracy: 0.8327\n",
      "Epoch 8/200\n",
      "15/15 [==============================] - 1s 46ms/step - loss: 0.5739 - accuracy: 0.7484 - val_loss: 0.5057 - val_accuracy: 0.8327\n",
      "Epoch 9/200\n",
      "15/15 [==============================] - 1s 47ms/step - loss: 0.5614 - accuracy: 0.7530 - val_loss: 0.5063 - val_accuracy: 0.8327\n",
      "Epoch 10/200\n",
      "15/15 [==============================] - 1s 48ms/step - loss: 0.5624 - accuracy: 0.7638 - val_loss: 0.5060 - val_accuracy: 0.8327\n",
      "Epoch 11/200\n",
      "15/15 [==============================] - 1s 52ms/step - loss: 0.5646 - accuracy: 0.7569 - val_loss: 0.4922 - val_accuracy: 0.8327\n",
      "Epoch 12/200\n",
      "15/15 [==============================] - 1s 51ms/step - loss: 0.5530 - accuracy: 0.7674 - val_loss: 0.4767 - val_accuracy: 0.8327\n",
      "Epoch 13/200\n",
      "15/15 [==============================] - 1s 50ms/step - loss: 0.5656 - accuracy: 0.7627 - val_loss: 0.4582 - val_accuracy: 0.8327\n",
      "Epoch 14/200\n",
      "15/15 [==============================] - 1s 49ms/step - loss: 0.5526 - accuracy: 0.7657 - val_loss: 0.4606 - val_accuracy: 0.8327\n",
      "Epoch 15/200\n",
      "15/15 [==============================] - 1s 47ms/step - loss: 0.5713 - accuracy: 0.7559 - val_loss: 0.4573 - val_accuracy: 0.8327\n",
      "Epoch 16/200\n",
      "15/15 [==============================] - 1s 48ms/step - loss: 0.5526 - accuracy: 0.7619 - val_loss: 0.4736 - val_accuracy: 0.8327\n",
      "Epoch 17/200\n",
      "15/15 [==============================] - 1s 51ms/step - loss: 0.5501 - accuracy: 0.7715 - val_loss: 0.4690 - val_accuracy: 0.8327\n",
      "Epoch 18/200\n",
      "15/15 [==============================] - 1s 48ms/step - loss: 0.5436 - accuracy: 0.7752 - val_loss: 0.4673 - val_accuracy: 0.8327\n",
      "Epoch 19/200\n",
      "15/15 [==============================] - 1s 52ms/step - loss: 0.5430 - accuracy: 0.7734 - val_loss: 0.4784 - val_accuracy: 0.8327\n",
      "Epoch 20/200\n",
      "15/15 [==============================] - 1s 49ms/step - loss: 0.5416 - accuracy: 0.7732 - val_loss: 0.4543 - val_accuracy: 0.8327\n",
      "Epoch 21/200\n",
      "15/15 [==============================] - 1s 47ms/step - loss: 0.5426 - accuracy: 0.7731 - val_loss: 0.4651 - val_accuracy: 0.8327\n",
      "Epoch 22/200\n",
      "15/15 [==============================] - 1s 50ms/step - loss: 0.5332 - accuracy: 0.7779 - val_loss: 0.4667 - val_accuracy: 0.8327\n",
      "Epoch 23/200\n",
      "15/15 [==============================] - 1s 50ms/step - loss: 0.5423 - accuracy: 0.7713 - val_loss: 0.4615 - val_accuracy: 0.8327\n",
      "Epoch 24/200\n",
      "15/15 [==============================] - 1s 49ms/step - loss: 0.5398 - accuracy: 0.7716 - val_loss: 0.4620 - val_accuracy: 0.8327\n",
      "Epoch 25/200\n",
      "15/15 [==============================] - 1s 50ms/step - loss: 0.5360 - accuracy: 0.7748 - val_loss: 0.4918 - val_accuracy: 0.8327\n",
      "Epoch 26/200\n",
      "15/15 [==============================] - 1s 52ms/step - loss: 0.5394 - accuracy: 0.7793 - val_loss: 0.4814 - val_accuracy: 0.8327\n",
      "Epoch 27/200\n",
      "15/15 [==============================] - 1s 50ms/step - loss: 0.5343 - accuracy: 0.7771 - val_loss: 0.4650 - val_accuracy: 0.8327\n",
      "Epoch 28/200\n",
      "15/15 [==============================] - 1s 56ms/step - loss: 0.5391 - accuracy: 0.7737 - val_loss: 0.4605 - val_accuracy: 0.8327\n",
      "Epoch 29/200\n",
      "15/15 [==============================] - 1s 53ms/step - loss: 0.5410 - accuracy: 0.7738 - val_loss: 0.4543 - val_accuracy: 0.8327\n",
      "Epoch 30/200\n",
      "15/15 [==============================] - 1s 54ms/step - loss: 0.5404 - accuracy: 0.7685 - val_loss: 0.4605 - val_accuracy: 0.8327\n",
      "Epoch 31/200\n",
      "15/15 [==============================] - 1s 52ms/step - loss: 0.5312 - accuracy: 0.7744 - val_loss: 0.4719 - val_accuracy: 0.8327\n",
      "Epoch 32/200\n",
      "15/15 [==============================] - 1s 48ms/step - loss: 0.5344 - accuracy: 0.7734 - val_loss: 0.4721 - val_accuracy: 0.8139\n",
      "Epoch 33/200\n",
      "15/15 [==============================] - 1s 48ms/step - loss: 0.5242 - accuracy: 0.7815 - val_loss: 0.4902 - val_accuracy: 0.8139\n",
      "Epoch 34/200\n",
      "15/15 [==============================] - 1s 53ms/step - loss: 0.5365 - accuracy: 0.7737 - val_loss: 0.4873 - val_accuracy: 0.8139\n",
      "Epoch 35/200\n",
      "15/15 [==============================] - 1s 47ms/step - loss: 0.5314 - accuracy: 0.7739 - val_loss: 0.4865 - val_accuracy: 0.8139\n",
      "Epoch 36/200\n",
      "15/15 [==============================] - 1s 49ms/step - loss: 0.5291 - accuracy: 0.7730 - val_loss: 0.4934 - val_accuracy: 0.8139\n",
      "Epoch 37/200\n",
      "15/15 [==============================] - 1s 50ms/step - loss: 0.5284 - accuracy: 0.7765 - val_loss: 0.4925 - val_accuracy: 0.8139\n",
      "Epoch 38/200\n",
      "15/15 [==============================] - 1s 49ms/step - loss: 0.5339 - accuracy: 0.7734 - val_loss: 0.4920 - val_accuracy: 0.8139\n",
      "Epoch 39/200\n",
      "15/15 [==============================] - 1s 55ms/step - loss: 0.5365 - accuracy: 0.7691 - val_loss: 0.4918 - val_accuracy: 0.8139\n",
      "Epoch 40/200\n",
      "15/15 [==============================] - 1s 55ms/step - loss: 0.5256 - accuracy: 0.7803 - val_loss: 0.5088 - val_accuracy: 0.8139\n",
      "Epoch 41/200\n",
      "15/15 [==============================] - 1s 55ms/step - loss: 0.5343 - accuracy: 0.7709 - val_loss: 0.4861 - val_accuracy: 0.8139\n",
      "Epoch 42/200\n",
      "15/15 [==============================] - 1s 49ms/step - loss: 0.5372 - accuracy: 0.7697 - val_loss: 0.4979 - val_accuracy: 0.8139\n",
      "Epoch 43/200\n",
      "15/15 [==============================] - 1s 61ms/step - loss: 0.5317 - accuracy: 0.7789 - val_loss: 0.5052 - val_accuracy: 0.8139\n",
      "Epoch 44/200\n",
      "15/15 [==============================] - 1s 47ms/step - loss: 0.5274 - accuracy: 0.7761 - val_loss: 0.4985 - val_accuracy: 0.8139\n",
      "Epoch 45/200\n",
      "15/15 [==============================] - 1s 50ms/step - loss: 0.5239 - accuracy: 0.7779 - val_loss: 0.5236 - val_accuracy: 0.8139\n",
      "Epoch 46/200\n",
      "15/15 [==============================] - 1s 47ms/step - loss: 0.5177 - accuracy: 0.7813 - val_loss: 0.5087 - val_accuracy: 0.8139\n",
      "Epoch 47/200\n",
      "15/15 [==============================] - 1s 46ms/step - loss: 0.5180 - accuracy: 0.7808 - val_loss: 0.5063 - val_accuracy: 0.8139\n",
      "Epoch 48/200\n",
      "15/15 [==============================] - 1s 44ms/step - loss: 0.5275 - accuracy: 0.7737 - val_loss: 0.5141 - val_accuracy: 0.8139\n",
      "Epoch 49/200\n",
      "15/15 [==============================] - 1s 49ms/step - loss: 0.5268 - accuracy: 0.7726 - val_loss: 0.5111 - val_accuracy: 0.8139\n",
      "Epoch 50/200\n",
      "15/15 [==============================] - 1s 49ms/step - loss: 0.5269 - accuracy: 0.7744 - val_loss: 0.5176 - val_accuracy: 0.8139\n",
      "Epoch 51/200\n",
      "15/15 [==============================] - 1s 55ms/step - loss: 0.5213 - accuracy: 0.7765 - val_loss: 0.5323 - val_accuracy: 0.8139\n",
      "Epoch 52/200\n",
      "15/15 [==============================] - 1s 51ms/step - loss: 0.5311 - accuracy: 0.7746 - val_loss: 0.5123 - val_accuracy: 0.8139\n",
      "Epoch 53/200\n",
      "15/15 [==============================] - 1s 48ms/step - loss: 0.5242 - accuracy: 0.7770 - val_loss: 0.5100 - val_accuracy: 0.8139\n",
      "Epoch 54/200\n",
      "15/15 [==============================] - 1s 50ms/step - loss: 0.5155 - accuracy: 0.7801 - val_loss: 0.5223 - val_accuracy: 0.8139\n",
      "Epoch 55/200\n",
      "15/15 [==============================] - 1s 56ms/step - loss: 0.5181 - accuracy: 0.7843 - val_loss: 0.5140 - val_accuracy: 0.8139\n",
      "Epoch 56/200\n",
      "15/15 [==============================] - 1s 48ms/step - loss: 0.5226 - accuracy: 0.7792 - val_loss: 0.5077 - val_accuracy: 0.8139\n",
      "Epoch 57/200\n",
      "15/15 [==============================] - 1s 48ms/step - loss: 0.5190 - accuracy: 0.7802 - val_loss: 0.5092 - val_accuracy: 0.8139\n",
      "Epoch 58/200\n"
     ]
    },
    {
     "name": "stdout",
     "output_type": "stream",
     "text": [
      "15/15 [==============================] - 1s 47ms/step - loss: 0.5301 - accuracy: 0.7721 - val_loss: 0.5041 - val_accuracy: 0.8139\n",
      "Epoch 59/200\n",
      "15/15 [==============================] - 1s 48ms/step - loss: 0.5171 - accuracy: 0.7784 - val_loss: 0.5146 - val_accuracy: 0.8139\n",
      "Epoch 60/200\n",
      "15/15 [==============================] - 1s 45ms/step - loss: 0.5189 - accuracy: 0.7813 - val_loss: 0.5095 - val_accuracy: 0.8139\n",
      "Epoch 61/200\n",
      "15/15 [==============================] - 1s 55ms/step - loss: 0.5166 - accuracy: 0.7825 - val_loss: 0.5060 - val_accuracy: 0.8139\n",
      "Epoch 62/200\n",
      "15/15 [==============================] - 1s 45ms/step - loss: 0.5191 - accuracy: 0.7809 - val_loss: 0.5066 - val_accuracy: 0.8139\n",
      "Epoch 63/200\n",
      "15/15 [==============================] - 1s 46ms/step - loss: 0.5254 - accuracy: 0.7754 - val_loss: 0.4992 - val_accuracy: 0.8139\n",
      "Epoch 64/200\n",
      "15/15 [==============================] - 1s 47ms/step - loss: 0.5268 - accuracy: 0.7770 - val_loss: 0.5221 - val_accuracy: 0.8139\n",
      "Epoch 65/200\n",
      "15/15 [==============================] - 1s 50ms/step - loss: 0.5228 - accuracy: 0.7731 - val_loss: 0.4991 - val_accuracy: 0.8139\n",
      "Epoch 66/200\n",
      "15/15 [==============================] - 1s 46ms/step - loss: 0.5274 - accuracy: 0.7711 - val_loss: 0.5005 - val_accuracy: 0.8139\n",
      "Epoch 67/200\n",
      "15/15 [==============================] - 1s 46ms/step - loss: 0.5127 - accuracy: 0.7834 - val_loss: 0.5162 - val_accuracy: 0.8139\n",
      "Epoch 68/200\n",
      "15/15 [==============================] - 1s 48ms/step - loss: 0.5240 - accuracy: 0.7788 - val_loss: 0.5202 - val_accuracy: 0.8139\n",
      "Epoch 69/200\n",
      "15/15 [==============================] - 1s 46ms/step - loss: 0.5178 - accuracy: 0.7775 - val_loss: 0.4978 - val_accuracy: 0.8139\n",
      "Epoch 70/200\n",
      "15/15 [==============================] - 1s 45ms/step - loss: 0.5215 - accuracy: 0.7754 - val_loss: 0.5041 - val_accuracy: 0.8139\n",
      "Epoch 71/200\n",
      "15/15 [==============================] - 1s 45ms/step - loss: 0.5115 - accuracy: 0.7832 - val_loss: 0.5180 - val_accuracy: 0.8139\n",
      "Epoch 72/200\n",
      "15/15 [==============================] - 1s 48ms/step - loss: 0.5267 - accuracy: 0.7743 - val_loss: 0.5081 - val_accuracy: 0.8139\n",
      "Epoch 73/200\n",
      "15/15 [==============================] - 1s 43ms/step - loss: 0.5205 - accuracy: 0.7795 - val_loss: 0.5093 - val_accuracy: 0.8139\n",
      "Epoch 74/200\n",
      "15/15 [==============================] - 1s 48ms/step - loss: 0.5182 - accuracy: 0.7793 - val_loss: 0.5142 - val_accuracy: 0.8139\n",
      "Epoch 75/200\n",
      "15/15 [==============================] - 1s 50ms/step - loss: 0.5239 - accuracy: 0.7761 - val_loss: 0.5024 - val_accuracy: 0.8139\n",
      "Epoch 76/200\n",
      "15/15 [==============================] - 1s 50ms/step - loss: 0.5304 - accuracy: 0.7676 - val_loss: 0.5072 - val_accuracy: 0.8139\n",
      "Epoch 77/200\n",
      "15/15 [==============================] - 1s 44ms/step - loss: 0.5199 - accuracy: 0.7766 - val_loss: 0.5077 - val_accuracy: 0.8139\n",
      "Epoch 78/200\n",
      "15/15 [==============================] - 1s 45ms/step - loss: 0.5194 - accuracy: 0.7776 - val_loss: 0.5110 - val_accuracy: 0.8139\n",
      "Epoch 79/200\n",
      "15/15 [==============================] - 1s 49ms/step - loss: 0.5093 - accuracy: 0.7831 - val_loss: 0.4991 - val_accuracy: 0.8139\n",
      "Epoch 80/200\n",
      "15/15 [==============================] - 1s 46ms/step - loss: 0.5263 - accuracy: 0.7716 - val_loss: 0.4979 - val_accuracy: 0.8139\n",
      "Epoch 81/200\n",
      "15/15 [==============================] - 1s 45ms/step - loss: 0.5145 - accuracy: 0.7812 - val_loss: 0.5270 - val_accuracy: 0.8139\n",
      "Epoch 82/200\n",
      "15/15 [==============================] - 1s 47ms/step - loss: 0.5248 - accuracy: 0.7744 - val_loss: 0.5048 - val_accuracy: 0.8139\n",
      "Epoch 83/200\n",
      "15/15 [==============================] - 1s 44ms/step - loss: 0.5112 - accuracy: 0.7815 - val_loss: 0.5139 - val_accuracy: 0.8139\n",
      "Epoch 84/200\n",
      "15/15 [==============================] - 1s 45ms/step - loss: 0.5263 - accuracy: 0.7730 - val_loss: 0.5121 - val_accuracy: 0.8139\n",
      "Epoch 85/200\n",
      "15/15 [==============================] - 1s 47ms/step - loss: 0.5314 - accuracy: 0.7689 - val_loss: 0.5102 - val_accuracy: 0.8139\n",
      "Epoch 86/200\n",
      "15/15 [==============================] - 1s 46ms/step - loss: 0.5233 - accuracy: 0.7750 - val_loss: 0.5074 - val_accuracy: 0.8139\n",
      "Epoch 87/200\n",
      "15/15 [==============================] - 1s 45ms/step - loss: 0.5211 - accuracy: 0.7797 - val_loss: 0.5103 - val_accuracy: 0.8139\n",
      "Epoch 88/200\n",
      "15/15 [==============================] - 1s 46ms/step - loss: 0.5277 - accuracy: 0.7713 - val_loss: 0.5013 - val_accuracy: 0.8139\n",
      "Epoch 89/200\n",
      "15/15 [==============================] - 1s 45ms/step - loss: 0.5239 - accuracy: 0.7759 - val_loss: 0.5084 - val_accuracy: 0.8139\n",
      "Epoch 90/200\n",
      "15/15 [==============================] - 1s 45ms/step - loss: 0.5187 - accuracy: 0.7774 - val_loss: 0.5025 - val_accuracy: 0.8139\n",
      "Epoch 91/200\n",
      "15/15 [==============================] - 1s 46ms/step - loss: 0.5079 - accuracy: 0.7847 - val_loss: 0.5075 - val_accuracy: 0.8139\n",
      "Epoch 92/200\n",
      "15/15 [==============================] - 1s 45ms/step - loss: 0.5199 - accuracy: 0.7794 - val_loss: 0.5039 - val_accuracy: 0.8139\n",
      "Epoch 93/200\n",
      "15/15 [==============================] - 1s 47ms/step - loss: 0.5197 - accuracy: 0.7763 - val_loss: 0.5011 - val_accuracy: 0.8139\n",
      "Epoch 94/200\n",
      "15/15 [==============================] - 1s 46ms/step - loss: 0.5134 - accuracy: 0.7806 - val_loss: 0.5107 - val_accuracy: 0.8139\n",
      "Epoch 95/200\n",
      "15/15 [==============================] - 1s 46ms/step - loss: 0.5191 - accuracy: 0.7769 - val_loss: 0.5131 - val_accuracy: 0.8139\n",
      "Epoch 96/200\n",
      "15/15 [==============================] - 1s 41ms/step - loss: 0.5283 - accuracy: 0.7696 - val_loss: 0.5037 - val_accuracy: 0.8139\n",
      "Epoch 97/200\n",
      "15/15 [==============================] - 1s 38ms/step - loss: 0.5184 - accuracy: 0.7781 - val_loss: 0.5133 - val_accuracy: 0.8139\n",
      "Epoch 98/200\n",
      "15/15 [==============================] - 1s 41ms/step - loss: 0.5181 - accuracy: 0.7767 - val_loss: 0.5113 - val_accuracy: 0.8139\n",
      "Epoch 99/200\n",
      "15/15 [==============================] - 1s 44ms/step - loss: 0.5144 - accuracy: 0.7807 - val_loss: 0.5071 - val_accuracy: 0.8139\n",
      "Epoch 100/200\n",
      "15/15 [==============================] - 1s 44ms/step - loss: 0.5268 - accuracy: 0.7736 - val_loss: 0.5073 - val_accuracy: 0.8139\n",
      "Epoch 101/200\n",
      "15/15 [==============================] - 1s 45ms/step - loss: 0.5313 - accuracy: 0.7670 - val_loss: 0.4937 - val_accuracy: 0.8139\n",
      "Epoch 102/200\n",
      "15/15 [==============================] - 1s 45ms/step - loss: 0.5199 - accuracy: 0.7771 - val_loss: 0.5120 - val_accuracy: 0.8139\n",
      "Epoch 103/200\n",
      "15/15 [==============================] - 1s 47ms/step - loss: 0.5162 - accuracy: 0.7780 - val_loss: 0.5066 - val_accuracy: 0.8139\n",
      "Epoch 104/200\n",
      "15/15 [==============================] - 1s 46ms/step - loss: 0.5147 - accuracy: 0.7787 - val_loss: 0.5007 - val_accuracy: 0.8139\n",
      "Epoch 105/200\n",
      "15/15 [==============================] - 1s 46ms/step - loss: 0.5198 - accuracy: 0.7768 - val_loss: 0.5107 - val_accuracy: 0.8139\n",
      "Epoch 106/200\n",
      "15/15 [==============================] - 1s 45ms/step - loss: 0.5152 - accuracy: 0.7805 - val_loss: 0.5041 - val_accuracy: 0.8139\n",
      "Epoch 107/200\n",
      "15/15 [==============================] - 1s 45ms/step - loss: 0.5230 - accuracy: 0.7736 - val_loss: 0.5000 - val_accuracy: 0.8139\n",
      "Epoch 108/200\n",
      "15/15 [==============================] - 1s 45ms/step - loss: 0.5178 - accuracy: 0.7782 - val_loss: 0.5073 - val_accuracy: 0.8139\n",
      "Epoch 109/200\n",
      "15/15 [==============================] - 1s 44ms/step - loss: 0.5092 - accuracy: 0.7871 - val_loss: 0.5145 - val_accuracy: 0.8139\n",
      "Epoch 110/200\n",
      "15/15 [==============================] - 1s 45ms/step - loss: 0.5189 - accuracy: 0.7787 - val_loss: 0.5038 - val_accuracy: 0.8139\n",
      "Epoch 111/200\n",
      "15/15 [==============================] - 1s 45ms/step - loss: 0.5151 - accuracy: 0.7816 - val_loss: 0.5056 - val_accuracy: 0.8139\n",
      "Epoch 112/200\n",
      "15/15 [==============================] - 1s 45ms/step - loss: 0.5115 - accuracy: 0.7812 - val_loss: 0.5189 - val_accuracy: 0.8139\n",
      "Epoch 113/200\n",
      "15/15 [==============================] - 1s 47ms/step - loss: 0.5202 - accuracy: 0.7781 - val_loss: 0.5048 - val_accuracy: 0.8139\n",
      "Epoch 114/200\n",
      "15/15 [==============================] - 1s 45ms/step - loss: 0.5251 - accuracy: 0.7739 - val_loss: 0.5073 - val_accuracy: 0.8139\n",
      "Epoch 115/200\n"
     ]
    },
    {
     "name": "stdout",
     "output_type": "stream",
     "text": [
      "15/15 [==============================] - 1s 45ms/step - loss: 0.5300 - accuracy: 0.7696 - val_loss: 0.5024 - val_accuracy: 0.8139\n",
      "Epoch 116/200\n",
      "15/15 [==============================] - 1s 45ms/step - loss: 0.5200 - accuracy: 0.7752 - val_loss: 0.5085 - val_accuracy: 0.8139\n",
      "Epoch 117/200\n",
      "15/15 [==============================] - 1s 46ms/step - loss: 0.5227 - accuracy: 0.7755 - val_loss: 0.5072 - val_accuracy: 0.8139\n",
      "Epoch 118/200\n",
      "15/15 [==============================] - 1s 44ms/step - loss: 0.5169 - accuracy: 0.7785 - val_loss: 0.5049 - val_accuracy: 0.8139\n",
      "Epoch 119/200\n",
      "15/15 [==============================] - 1s 45ms/step - loss: 0.5185 - accuracy: 0.7747 - val_loss: 0.5084 - val_accuracy: 0.8139\n",
      "Epoch 120/200\n",
      "15/15 [==============================] - 1s 46ms/step - loss: 0.5111 - accuracy: 0.7835 - val_loss: 0.5082 - val_accuracy: 0.8139\n",
      "Epoch 121/200\n",
      "15/15 [==============================] - 1s 44ms/step - loss: 0.5179 - accuracy: 0.7770 - val_loss: 0.5107 - val_accuracy: 0.8139\n",
      "Epoch 122/200\n",
      "15/15 [==============================] - 1s 46ms/step - loss: 0.5160 - accuracy: 0.7786 - val_loss: 0.5088 - val_accuracy: 0.8139\n",
      "Epoch 123/200\n",
      "15/15 [==============================] - 1s 45ms/step - loss: 0.5201 - accuracy: 0.7778 - val_loss: 0.5151 - val_accuracy: 0.8139\n",
      "Epoch 124/200\n",
      "15/15 [==============================] - 1s 45ms/step - loss: 0.5109 - accuracy: 0.7830 - val_loss: 0.5073 - val_accuracy: 0.8139\n",
      "Epoch 125/200\n",
      "15/15 [==============================] - 1s 46ms/step - loss: 0.5112 - accuracy: 0.7826 - val_loss: 0.5047 - val_accuracy: 0.8139\n",
      "Epoch 126/200\n",
      "15/15 [==============================] - 1s 46ms/step - loss: 0.5133 - accuracy: 0.7810 - val_loss: 0.5063 - val_accuracy: 0.8139\n",
      "Epoch 127/200\n",
      "15/15 [==============================] - 1s 47ms/step - loss: 0.5267 - accuracy: 0.7712 - val_loss: 0.5034 - val_accuracy: 0.8139\n",
      "Epoch 128/200\n",
      "15/15 [==============================] - 1s 44ms/step - loss: 0.5328 - accuracy: 0.7677 - val_loss: 0.4998 - val_accuracy: 0.8139\n",
      "Epoch 129/200\n",
      "15/15 [==============================] - 1s 46ms/step - loss: 0.5242 - accuracy: 0.7751 - val_loss: 0.5163 - val_accuracy: 0.8139\n",
      "Epoch 130/200\n",
      "15/15 [==============================] - 1s 47ms/step - loss: 0.5188 - accuracy: 0.7758 - val_loss: 0.4995 - val_accuracy: 0.8139\n",
      "Epoch 131/200\n",
      "15/15 [==============================] - 1s 46ms/step - loss: 0.5204 - accuracy: 0.7742 - val_loss: 0.5088 - val_accuracy: 0.8139\n",
      "Epoch 132/200\n",
      "15/15 [==============================] - 1s 45ms/step - loss: 0.5244 - accuracy: 0.7726 - val_loss: 0.5063 - val_accuracy: 0.8139\n",
      "Epoch 133/200\n",
      "15/15 [==============================] - 1s 54ms/step - loss: 0.5144 - accuracy: 0.7807 - val_loss: 0.5089 - val_accuracy: 0.8139\n",
      "Epoch 134/200\n",
      "15/15 [==============================] - 1s 45ms/step - loss: 0.5198 - accuracy: 0.7771 - val_loss: 0.5100 - val_accuracy: 0.8139\n",
      "Epoch 135/200\n",
      "15/15 [==============================] - 1s 43ms/step - loss: 0.5183 - accuracy: 0.7752 - val_loss: 0.5030 - val_accuracy: 0.8139\n",
      "Epoch 136/200\n",
      "15/15 [==============================] - 1s 46ms/step - loss: 0.5233 - accuracy: 0.7726 - val_loss: 0.5176 - val_accuracy: 0.8139\n",
      "Epoch 137/200\n",
      "15/15 [==============================] - 1s 45ms/step - loss: 0.5238 - accuracy: 0.7723 - val_loss: 0.4980 - val_accuracy: 0.8139\n",
      "Epoch 138/200\n",
      "15/15 [==============================] - 1s 46ms/step - loss: 0.5171 - accuracy: 0.7788 - val_loss: 0.5178 - val_accuracy: 0.8139\n",
      "Epoch 139/200\n",
      "15/15 [==============================] - 1s 45ms/step - loss: 0.5219 - accuracy: 0.7711 - val_loss: 0.4984 - val_accuracy: 0.8139\n",
      "Epoch 140/200\n",
      "15/15 [==============================] - 1s 46ms/step - loss: 0.5154 - accuracy: 0.7802 - val_loss: 0.5145 - val_accuracy: 0.8139\n",
      "Epoch 141/200\n",
      "15/15 [==============================] - 1s 46ms/step - loss: 0.5214 - accuracy: 0.7756 - val_loss: 0.5054 - val_accuracy: 0.8139\n",
      "Epoch 142/200\n",
      "15/15 [==============================] - 1s 44ms/step - loss: 0.5206 - accuracy: 0.7760 - val_loss: 0.5085 - val_accuracy: 0.8139\n",
      "Epoch 143/200\n",
      "15/15 [==============================] - 1s 43ms/step - loss: 0.5124 - accuracy: 0.7818 - val_loss: 0.5113 - val_accuracy: 0.8139\n",
      "Epoch 144/200\n",
      "15/15 [==============================] - 1s 45ms/step - loss: 0.5240 - accuracy: 0.7702 - val_loss: 0.4985 - val_accuracy: 0.8139\n",
      "Epoch 145/200\n",
      "15/15 [==============================] - 1s 46ms/step - loss: 0.5204 - accuracy: 0.7774 - val_loss: 0.5107 - val_accuracy: 0.8139\n",
      "Epoch 146/200\n",
      "15/15 [==============================] - 1s 46ms/step - loss: 0.5182 - accuracy: 0.7756 - val_loss: 0.5058 - val_accuracy: 0.8139\n",
      "Epoch 147/200\n",
      "15/15 [==============================] - 1s 45ms/step - loss: 0.5232 - accuracy: 0.7721 - val_loss: 0.5097 - val_accuracy: 0.8139\n",
      "Epoch 148/200\n",
      "15/15 [==============================] - 1s 42ms/step - loss: 0.5223 - accuracy: 0.7755 - val_loss: 0.5167 - val_accuracy: 0.8139\n",
      "Epoch 149/200\n",
      "15/15 [==============================] - 1s 38ms/step - loss: 0.5174 - accuracy: 0.7735 - val_loss: 0.5036 - val_accuracy: 0.8139\n",
      "Epoch 150/200\n",
      "15/15 [==============================] - 1s 39ms/step - loss: 0.5213 - accuracy: 0.7750 - val_loss: 0.5141 - val_accuracy: 0.8139\n",
      "Epoch 151/200\n",
      "15/15 [==============================] - 1s 45ms/step - loss: 0.5112 - accuracy: 0.7828 - val_loss: 0.5053 - val_accuracy: 0.8139\n",
      "Epoch 152/200\n",
      "15/15 [==============================] - 1s 45ms/step - loss: 0.5138 - accuracy: 0.7813 - val_loss: 0.5109 - val_accuracy: 0.8139\n",
      "Epoch 153/200\n",
      "15/15 [==============================] - 1s 45ms/step - loss: 0.5124 - accuracy: 0.7796 - val_loss: 0.5088 - val_accuracy: 0.8139\n",
      "Epoch 154/200\n",
      "15/15 [==============================] - 1s 45ms/step - loss: 0.5178 - accuracy: 0.7783 - val_loss: 0.5134 - val_accuracy: 0.8139\n",
      "Epoch 155/200\n",
      "15/15 [==============================] - 1s 45ms/step - loss: 0.5270 - accuracy: 0.7722 - val_loss: 0.5065 - val_accuracy: 0.8139\n",
      "Epoch 156/200\n",
      "15/15 [==============================] - 1s 45ms/step - loss: 0.5132 - accuracy: 0.7801 - val_loss: 0.5016 - val_accuracy: 0.8139\n",
      "Epoch 157/200\n",
      "15/15 [==============================] - 1s 45ms/step - loss: 0.5180 - accuracy: 0.7769 - val_loss: 0.5121 - val_accuracy: 0.8139\n",
      "Epoch 158/200\n",
      "15/15 [==============================] - 1s 45ms/step - loss: 0.5154 - accuracy: 0.7821 - val_loss: 0.5029 - val_accuracy: 0.8139\n",
      "Epoch 159/200\n",
      "15/15 [==============================] - 1s 45ms/step - loss: 0.5224 - accuracy: 0.7734 - val_loss: 0.5038 - val_accuracy: 0.8139\n",
      "Epoch 160/200\n",
      "15/15 [==============================] - 1s 45ms/step - loss: 0.5169 - accuracy: 0.7779 - val_loss: 0.5067 - val_accuracy: 0.8139\n",
      "Epoch 161/200\n",
      "15/15 [==============================] - 1s 44ms/step - loss: 0.5131 - accuracy: 0.7814 - val_loss: 0.5111 - val_accuracy: 0.8139\n",
      "Epoch 162/200\n",
      "15/15 [==============================] - 1s 44ms/step - loss: 0.5129 - accuracy: 0.7808 - val_loss: 0.5014 - val_accuracy: 0.8139\n",
      "Epoch 163/200\n",
      "15/15 [==============================] - 1s 48ms/step - loss: 0.5262 - accuracy: 0.7716 - val_loss: 0.5084 - val_accuracy: 0.8139\n",
      "Epoch 164/200\n",
      "15/15 [==============================] - 1s 44ms/step - loss: 0.5199 - accuracy: 0.7766 - val_loss: 0.5099 - val_accuracy: 0.8139\n",
      "Epoch 165/200\n",
      "15/15 [==============================] - 1s 43ms/step - loss: 0.5116 - accuracy: 0.7808 - val_loss: 0.5082 - val_accuracy: 0.8139\n",
      "Epoch 166/200\n",
      "15/15 [==============================] - 1s 47ms/step - loss: 0.5184 - accuracy: 0.7763 - val_loss: 0.5037 - val_accuracy: 0.8139\n",
      "Epoch 167/200\n",
      "15/15 [==============================] - 1s 45ms/step - loss: 0.5166 - accuracy: 0.7786 - val_loss: 0.5085 - val_accuracy: 0.8139\n",
      "Epoch 168/200\n",
      "15/15 [==============================] - 1s 42ms/step - loss: 0.5146 - accuracy: 0.7773 - val_loss: 0.5063 - val_accuracy: 0.8139\n",
      "Epoch 169/200\n",
      "15/15 [==============================] - 1s 40ms/step - loss: 0.5234 - accuracy: 0.7726 - val_loss: 0.4996 - val_accuracy: 0.8139\n",
      "Epoch 170/200\n",
      "15/15 [==============================] - 1s 42ms/step - loss: 0.5192 - accuracy: 0.7759 - val_loss: 0.5064 - val_accuracy: 0.8139\n",
      "Epoch 171/200\n",
      "15/15 [==============================] - 1s 50ms/step - loss: 0.5242 - accuracy: 0.7696 - val_loss: 0.4993 - val_accuracy: 0.8139\n"
     ]
    },
    {
     "name": "stdout",
     "output_type": "stream",
     "text": [
      "Epoch 172/200\n",
      "15/15 [==============================] - 1s 41ms/step - loss: 0.5179 - accuracy: 0.7763 - val_loss: 0.5101 - val_accuracy: 0.8139\n",
      "Epoch 173/200\n",
      "15/15 [==============================] - 1s 41ms/step - loss: 0.5256 - accuracy: 0.7706 - val_loss: 0.5055 - val_accuracy: 0.8139\n",
      "Epoch 174/200\n",
      "15/15 [==============================] - 1s 49ms/step - loss: 0.5202 - accuracy: 0.7775 - val_loss: 0.5078 - val_accuracy: 0.8139\n",
      "Epoch 175/200\n",
      "15/15 [==============================] - 1s 58ms/step - loss: 0.5149 - accuracy: 0.7804 - val_loss: 0.5150 - val_accuracy: 0.8139\n",
      "Epoch 176/200\n",
      "15/15 [==============================] - 1s 54ms/step - loss: 0.5165 - accuracy: 0.7792 - val_loss: 0.5088 - val_accuracy: 0.8139\n",
      "Epoch 177/200\n",
      "15/15 [==============================] - 1s 52ms/step - loss: 0.5084 - accuracy: 0.7842 - val_loss: 0.5114 - val_accuracy: 0.8139\n",
      "Epoch 178/200\n",
      "15/15 [==============================] - 1s 58ms/step - loss: 0.5117 - accuracy: 0.7843 - val_loss: 0.5155 - val_accuracy: 0.8139\n",
      "Epoch 179/200\n",
      "15/15 [==============================] - 1s 56ms/step - loss: 0.5158 - accuracy: 0.7796 - val_loss: 0.5041 - val_accuracy: 0.8139\n",
      "Epoch 180/200\n",
      "15/15 [==============================] - 1s 49ms/step - loss: 0.5163 - accuracy: 0.7768 - val_loss: 0.5069 - val_accuracy: 0.8139\n",
      "Epoch 181/200\n",
      "15/15 [==============================] - 1s 49ms/step - loss: 0.5144 - accuracy: 0.7796 - val_loss: 0.5085 - val_accuracy: 0.8139\n",
      "Epoch 182/200\n",
      "15/15 [==============================] - 1s 48ms/step - loss: 0.5199 - accuracy: 0.7757 - val_loss: 0.5040 - val_accuracy: 0.8139\n",
      "Epoch 183/200\n",
      "15/15 [==============================] - 1s 46ms/step - loss: 0.5188 - accuracy: 0.7784 - val_loss: 0.5106 - val_accuracy: 0.8139\n",
      "Epoch 184/200\n",
      "15/15 [==============================] - 1s 49ms/step - loss: 0.5212 - accuracy: 0.7755 - val_loss: 0.5088 - val_accuracy: 0.8139\n",
      "Epoch 185/200\n",
      "15/15 [==============================] - 1s 49ms/step - loss: 0.5177 - accuracy: 0.7771 - val_loss: 0.5002 - val_accuracy: 0.8139\n",
      "Epoch 186/200\n",
      "15/15 [==============================] - 1s 46ms/step - loss: 0.5252 - accuracy: 0.7724 - val_loss: 0.5054 - val_accuracy: 0.8139\n",
      "Epoch 187/200\n",
      "15/15 [==============================] - 1s 48ms/step - loss: 0.5190 - accuracy: 0.7780 - val_loss: 0.5121 - val_accuracy: 0.8139\n",
      "Epoch 188/200\n",
      "15/15 [==============================] - 1s 48ms/step - loss: 0.5152 - accuracy: 0.7778 - val_loss: 0.5078 - val_accuracy: 0.8139\n",
      "Epoch 189/200\n",
      "15/15 [==============================] - 1s 51ms/step - loss: 0.5193 - accuracy: 0.7761 - val_loss: 0.5049 - val_accuracy: 0.8139\n",
      "Epoch 190/200\n",
      "15/15 [==============================] - 1s 48ms/step - loss: 0.5118 - accuracy: 0.7816 - val_loss: 0.5158 - val_accuracy: 0.8139\n",
      "Epoch 191/200\n",
      "15/15 [==============================] - 1s 49ms/step - loss: 0.5174 - accuracy: 0.7767 - val_loss: 0.5035 - val_accuracy: 0.8139\n",
      "Epoch 192/200\n",
      "15/15 [==============================] - 1s 50ms/step - loss: 0.5176 - accuracy: 0.7758 - val_loss: 0.5091 - val_accuracy: 0.8139\n",
      "Epoch 193/200\n",
      "15/15 [==============================] - 1s 47ms/step - loss: 0.5162 - accuracy: 0.7757 - val_loss: 0.5013 - val_accuracy: 0.8139\n",
      "Epoch 194/200\n",
      "15/15 [==============================] - 1s 46ms/step - loss: 0.5174 - accuracy: 0.7777 - val_loss: 0.5069 - val_accuracy: 0.8139\n",
      "Epoch 195/200\n",
      "15/15 [==============================] - 1s 46ms/step - loss: 0.5220 - accuracy: 0.7743 - val_loss: 0.5082 - val_accuracy: 0.8139\n",
      "Epoch 196/200\n",
      "15/15 [==============================] - 1s 44ms/step - loss: 0.5090 - accuracy: 0.7852 - val_loss: 0.5217 - val_accuracy: 0.8139\n",
      "Epoch 197/200\n",
      "15/15 [==============================] - 1s 45ms/step - loss: 0.5152 - accuracy: 0.7773 - val_loss: 0.5032 - val_accuracy: 0.8139\n",
      "Epoch 198/200\n",
      "15/15 [==============================] - 1s 45ms/step - loss: 0.5285 - accuracy: 0.7704 - val_loss: 0.5154 - val_accuracy: 0.8139\n",
      "Epoch 199/200\n",
      "15/15 [==============================] - 1s 46ms/step - loss: 0.5178 - accuracy: 0.7737 - val_loss: 0.5068 - val_accuracy: 0.8139\n",
      "Epoch 200/200\n",
      "15/15 [==============================] - 1s 41ms/step - loss: 0.5069 - accuracy: 0.7843 - val_loss: 0.5155 - val_accuracy: 0.8139\n",
      "Time:  144.8932831139973\n"
     ]
    }
   ],
   "source": [
    "import timeit\n",
    "\n",
    "start = timeit.default_timer()\n",
    "\n",
    "#Your statements here\n",
    "\n",
    "bestNNew=create_modelWithDropBatch2(hidden_layers= 10, learning_rate= 0.001)\n",
    "historyNew = bestNNew.fit(\n",
    "     gmmDataDf, y_train_res,\n",
    "    validation_data=(icavalidData, y_valid),\n",
    "    batch_size=512,\n",
    "    epochs=200,\n",
    "#     callbacks=[early_stopping],\n",
    ")\n",
    "stop = timeit.default_timer()\n",
    "\n",
    "print('Time: ', stop - start)  \n",
    "\n"
   ]
  },
  {
   "cell_type": "code",
   "execution_count": 30,
   "metadata": {},
   "outputs": [],
   "source": [
    "\n",
    "def plotconfusionMatrix(modelObj,ytest,xtest):\n",
    "#     model_DecTreeClass2.fit(X_train_res, y_train_res)\n",
    "    y_pred_DecTreeClass2 = modelObj.predict_classes(xtest)\n",
    "    conf_mat2 = metrics.confusion_matrix(ytest, y_pred_DecTreeClass2)\n",
    "    plt.figure(figsize=(8,6))\n",
    "    sns.heatmap(conf_mat2,annot=True)\n",
    "    plt.title(\"Confusion_matrix\")\n",
    "    plt.xlabel(\"Predicted Class\")\n",
    "    plt.ylabel(\"Actual class\")\n",
    "    plt.show()\n",
    "    print('Confusion matrix: \\n', conf_mat2)\n",
    "    print('TP: ', conf_mat2[1,1])\n",
    "    print('TN: ', conf_mat2[0,0])\n",
    "    print('FP: ', conf_mat2[0,1])\n",
    "    print('FN: ', conf_mat2[1,0])\n",
    "\n",
    "def getMetrics(modelObj,xTrain,yTrain,xValid,yValid):\n",
    "    y_pred_DecTreeClass2 = modelObj.predict_classes(xValid)\n",
    "    print('Classification report: \\n', metrics.classification_report(yValid, y_pred_DecTreeClass2))\n",
    "    print('Training Accuracy_Score:',metrics.accuracy_score(yTrain, modelObj.predict_classes(xTrain))*100,'%')\n",
    "    print('Training Precision:',metrics.precision_score(yTrain, modelObj.predict_classes(xTrain))*100,'%')\n",
    "    print('Training Recall:',metrics.recall_score(yTrain, modelObj.predict_classes(xTrain))*100,'%')\n",
    "    \n",
    "    print('Training F1 Score:',metrics.f1_score(yTrain, modelObj.predict_classes(xTrain))*100,'%')\n",
    "\n",
    "    \n",
    "    print('Validation Accuracy_Score:',metrics.accuracy_score(yValid, y_pred_DecTreeClass2)*100,'%')\n",
    "    print('Validation Precision:',metrics.precision_score(yValid, y_pred_DecTreeClass2)*100,'%')\n",
    "    print('Validation Recall:',metrics.recall_score(yValid, y_pred_DecTreeClass2)*100,'%')\n",
    "    \n",
    "    print('Validation F1 Score:',metrics.f1_score(yValid, y_pred_DecTreeClass2)*100,'%')\n",
    "\n"
   ]
  },
  {
   "cell_type": "code",
   "execution_count": 32,
   "metadata": {},
   "outputs": [
    {
     "name": "stderr",
     "output_type": "stream",
     "text": [
      "/home/dheekshitha-vibha/miniconda3/envs/myenv/lib/python3.6/site-packages/tensorflow/python/keras/engine/sequential.py:450: UserWarning: `model.predict_classes()` is deprecated and will be removed after 2021-01-01. Please use instead:* `np.argmax(model.predict(x), axis=-1)`,   if your model does multi-class classification   (e.g. if it uses a `softmax` last-layer activation).* `(model.predict(x) > 0.5).astype(\"int32\")`,   if your model does binary classification   (e.g. if it uses a `sigmoid` last-layer activation).\n",
      "  warnings.warn('`model.predict_classes()` is deprecated and '\n"
     ]
    },
    {
     "data": {
      "image/png": "[encoded data removed]",
      "text/plain": [
       "<Figure size 576x432 with 2 Axes>"
      ]
     },
     "metadata": {
      "needs_background": "light"
     },
     "output_type": "display_data"
    },
    {
     "name": "stdout",
     "output_type": "stream",
     "text": [
      "Confusion matrix: \n",
      " [[   4  335]\n",
      " [  42 1645]]\n",
      "TP:  1645\n",
      "TN:  4\n",
      "FP:  335\n",
      "FN:  42\n",
      "Classification report: \n",
      "               precision    recall  f1-score   support\n",
      "\n",
      "           0       0.09      0.01      0.02       339\n",
      "           1       0.83      0.98      0.90      1687\n",
      "\n",
      "    accuracy                           0.81      2026\n",
      "   macro avg       0.46      0.49      0.46      2026\n",
      "weighted avg       0.71      0.81      0.75      2026\n",
      "\n"
     ]
    },
    {
     "name": "stderr",
     "output_type": "stream",
     "text": [
      "/home/dheekshitha-vibha/miniconda3/envs/myenv/lib/python3.6/site-packages/tensorflow/python/keras/engine/sequential.py:450: UserWarning: `model.predict_classes()` is deprecated and will be removed after 2021-01-01. Please use instead:* `np.argmax(model.predict(x), axis=-1)`,   if your model does multi-class classification   (e.g. if it uses a `softmax` last-layer activation).* `(model.predict(x) > 0.5).astype(\"int32\")`,   if your model does binary classification   (e.g. if it uses a `sigmoid` last-layer activation).\n",
      "  warnings.warn('`model.predict_classes()` is deprecated and '\n",
      "/home/dheekshitha-vibha/miniconda3/envs/myenv/lib/python3.6/site-packages/tensorflow/python/keras/engine/sequential.py:450: UserWarning: `model.predict_classes()` is deprecated and will be removed after 2021-01-01. Please use instead:* `np.argmax(model.predict(x), axis=-1)`,   if your model does multi-class classification   (e.g. if it uses a `softmax` last-layer activation).* `(model.predict(x) > 0.5).astype(\"int32\")`,   if your model does binary classification   (e.g. if it uses a `sigmoid` last-layer activation).\n",
      "  warnings.warn('`model.predict_classes()` is deprecated and '\n"
     ]
    },
    {
     "name": "stdout",
     "output_type": "stream",
     "text": [
      "Training Accuracy_Score: 77.7328990228013 %\n"
     ]
    },
    {
     "name": "stderr",
     "output_type": "stream",
     "text": [
      "/home/dheekshitha-vibha/miniconda3/envs/myenv/lib/python3.6/site-packages/tensorflow/python/keras/engine/sequential.py:450: UserWarning: `model.predict_classes()` is deprecated and will be removed after 2021-01-01. Please use instead:* `np.argmax(model.predict(x), axis=-1)`,   if your model does multi-class classification   (e.g. if it uses a `softmax` last-layer activation).* `(model.predict(x) > 0.5).astype(\"int32\")`,   if your model does binary classification   (e.g. if it uses a `sigmoid` last-layer activation).\n",
      "  warnings.warn('`model.predict_classes()` is deprecated and '\n"
     ]
    },
    {
     "name": "stdout",
     "output_type": "stream",
     "text": [
      "Training Precision: 75.90453025235634 %\n"
     ]
    },
    {
     "name": "stderr",
     "output_type": "stream",
     "text": [
      "/home/dheekshitha-vibha/miniconda3/envs/myenv/lib/python3.6/site-packages/tensorflow/python/keras/engine/sequential.py:450: UserWarning: `model.predict_classes()` is deprecated and will be removed after 2021-01-01. Please use instead:* `np.argmax(model.predict(x), axis=-1)`,   if your model does multi-class classification   (e.g. if it uses a `softmax` last-layer activation).* `(model.predict(x) > 0.5).astype(\"int32\")`,   if your model does binary classification   (e.g. if it uses a `sigmoid` last-layer activation).\n",
      "  warnings.warn('`model.predict_classes()` is deprecated and '\n"
     ]
    },
    {
     "name": "stdout",
     "output_type": "stream",
     "text": [
      "Training Recall: 97.57670510064492 %\n"
     ]
    },
    {
     "name": "stderr",
     "output_type": "stream",
     "text": [
      "/home/dheekshitha-vibha/miniconda3/envs/myenv/lib/python3.6/site-packages/tensorflow/python/keras/engine/sequential.py:450: UserWarning: `model.predict_classes()` is deprecated and will be removed after 2021-01-01. Please use instead:* `np.argmax(model.predict(x), axis=-1)`,   if your model does multi-class classification   (e.g. if it uses a `softmax` last-layer activation).* `(model.predict(x) > 0.5).astype(\"int32\")`,   if your model does binary classification   (e.g. if it uses a `sigmoid` last-layer activation).\n",
      "  warnings.warn('`model.predict_classes()` is deprecated and '\n"
     ]
    },
    {
     "name": "stdout",
     "output_type": "stream",
     "text": [
      "Training F1 Score: 85.38691748610516 %\n",
      "Validation Accuracy_Score: 81.39190523198421 %\n",
      "Validation Precision: 83.08080808080808 %\n",
      "Validation Recall: 97.5103734439834 %\n",
      "Validation F1 Score: 89.71911644395965 %\n"
     ]
    }
   ],
   "source": [
    "plotconfusionMatrix(bestNNew,y_valid['Attrition_Flag'],icavalidData)\n",
    "\n",
    "getMetrics(bestNNew,gmmDataDf,y_train_res['Attrition_Flag'],icavalidData,y_valid['Attrition_Flag'])"
   ]
  },
  {
   "cell_type": "code",
   "execution_count": 26,
   "metadata": {
    "scrolled": false
   },
   "outputs": [
    {
     "data": {
      "text/plain": [
       "<AxesSubplot:title={'center':'Accuracy'}>"
      ]
     },
     "execution_count": 26,
     "metadata": {},
     "output_type": "execute_result"
    },
    {
     "data": {
      "image/png": "[encoded data removed]",
      "text/plain": [
       "<Figure size 432x288 with 1 Axes>"
      ]
     },
     "metadata": {
      "needs_background": "light"
     },
     "output_type": "display_data"
    },
    {
     "data": {
      "image/png": "[encoded data removed]",
      "text/plain": [
       "<Figure size 432x288 with 1 Axes>"
      ]
     },
     "metadata": {
      "needs_background": "light"
     },
     "output_type": "display_data"
    }
   ],
   "source": [
    "history_df = pd.DataFrame(historyNew.history)\n",
    "history_df.loc[:, ['loss', 'val_loss']].plot(title=\"Cross-entropy\")\n",
    "history_df.loc[:, ['accuracy', 'val_accuracy']].plot(title=\"Accuracy\")\n",
    "\n",
    "\n"
   ]
  }
 ],
 "metadata": {
  "kernelspec": {
   "display_name": "myenv",
   "language": "python",
   "name": "myenv"
  },
  "language_info": {
   "codemirror_mode": {
    "name": "ipython",
    "version": 3
   },
   "file_extension": ".py",
   "mimetype": "text/x-python",
   "name": "python",
   "nbconvert_exporter": "python",
   "pygments_lexer": "ipython3",
   "version": "3.6.12"
  }
 },
 "nbformat": 4,
 "nbformat_minor": 4
}
