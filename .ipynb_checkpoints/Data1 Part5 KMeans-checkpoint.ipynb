{
 "cells": [
  {
   "cell_type": "code",
   "execution_count": 1,
   "metadata": {},
   "outputs": [],
   "source": [
    "import pickle as pk\n",
    "import pandas as pd\n",
    "import numpy as np\n",
    "import copy\n",
    "\n",
    "data=pd.read_csv(\"./Data/BankChurners.csv\")\n",
    "\n",
    "data['Attrition_Flag'] = data['Attrition_Flag'].map({1: 'Existing Customer', 0: 'Attrited Customer'})\n"
   ]
  },
  {
   "cell_type": "code",
   "execution_count": 2,
   "metadata": {},
   "outputs": [],
   "source": [
    "import numpy as np # linear algebra\n",
    "import pandas as pd # data processing, CSV file I/O (e.g. pd.read_csv)\n",
    "import matplotlib.pyplot as plt\n",
    "import seaborn as sns\n",
    "%matplotlib inline\n",
    "\n",
    "\n",
    "from sklearn.tree import DecisionTreeClassifier\n",
    "from sklearn.metrics import roc_curve, auc\n",
    "\n",
    "from sklearn.model_selection import KFold, cross_val_score\n",
    "from sklearn.preprocessing import StandardScaler, OneHotEncoder, LabelEncoder\n",
    "\n",
    "# # print)str\n",
    "# scaled_x_train=pd.read_csv(\"./Data/scaled_x_train_smote2.csv\")\n",
    "# scaled_x_test=pd.read_csv(\"./Data/scaled_x_test_smote2.csv\")\n",
    "# # pd.read_csv(\"./Data/scaled_x_test_smote2.csv\")\n",
    "# scaled_x_cv=pd.read_csv(\"./Data/scaled_x_cv_smote2.csv\")\n",
    "\n",
    "y_test_copy=pd.read_csv(\"./Data/y_test_smote3.csv\")\n",
    "x_test=pd.read_csv(\"./Data/x_test_smote3.csv\")\n",
    "\n",
    "X_train_res=pd.read_csv(\"./Data/X_train_res_smote3.csv\")\n",
    "y_train_res=pd.read_csv(\"./Data/y_train_res_smote3.csv\")\n",
    "\n",
    "X_train_res=X_train_res.drop('Unnamed: 0',axis=1)\n",
    "y_train_res=y_train_res.drop('Unnamed: 0',axis=1)\n",
    "x_test=x_test.drop('Unnamed: 0',axis=1)\n",
    "\n",
    "\n",
    "y_test_copy=y_test_copy.drop('Unnamed: 0',axis=1)\n",
    "# scaled_x_test=scaled_x_test.drop('Unnamed: 0',axis=1)\n",
    "# scaled_x_cv=scaled_x_cv.drop('Unnamed: 0',axis=1)\n",
    "\n",
    "\n",
    "y_test=y_test_copy\n",
    "\n",
    "y_valid=pd.read_csv(\"./Data/y_valid_smote3.csv\")\n",
    "x_valid=pd.read_csv(\"./Data/x_valid_smote3.csv\")\n",
    "\n",
    "x_valid=x_valid.drop('Unnamed: 0',axis=1)\n",
    "y_valid=y_valid.drop('Unnamed: 0',axis=1)\n",
    "\n",
    "y_valid.shape\n",
    "\n",
    "\n",
    "\n",
    "\n",
    "y_train_res['Attrition_Flag']=y_train_res['Attrition_Flag'].map({'Existing Customer': 1, 'Attrited Customer': 0})\n",
    "y_valid['Attrition_Flag']=y_valid['Attrition_Flag'].map({'Existing Customer': 1, 'Attrited Customer': 0})\n",
    "y_test_copy['Attrition_Flag']=y_test_copy['Attrition_Flag'].map({'Existing Customer': 1, 'Attrited Customer': 0})\n",
    "\n"
   ]
  },
  {
   "cell_type": "code",
   "execution_count": 3,
   "metadata": {},
   "outputs": [
    {
     "data": {
      "text/plain": [
       "(7675, 32)"
      ]
     },
     "execution_count": 3,
     "metadata": {},
     "output_type": "execute_result"
    }
   ],
   "source": [
    "#  Scaling features\n",
    "scaler = StandardScaler()\n",
    "scaler.fit(X_train_res)\n",
    "\n",
    "scaled_x_train = scaler.transform(X_train_res)\n",
    "scaled_x_test = scaler.transform(x_test)\n",
    "\n",
    "\n",
    "scaled_x_valid=scaler.transform(x_valid)\n",
    "# scaled_y_cv =scaler.transform(y_cv)\n",
    "\n",
    "scaled_x_train.shape\n",
    "\n",
    "\n",
    "scaled_x_train.shape"
   ]
  },
  {
   "cell_type": "code",
   "execution_count": 4,
   "metadata": {},
   "outputs": [],
   "source": [
    "from sklearn.cluster import KMeans\n",
    "from sklearn.metrics import silhouette_samples, silhouette_score"
   ]
  },
  {
   "cell_type": "code",
   "execution_count": 10,
   "metadata": {},
   "outputs": [
    {
     "name": "stdout",
     "output_type": "stream",
     "text": [
      "(7675, 34)\n"
     ]
    }
   ],
   "source": [
    "kmeanModel= KMeans(n_clusters=16, init='k-means++', max_iter=1000, n_init=10, random_state=0)\n",
    "Xtrain=kmeanModel.fit_transform(scaled_x_train)\n",
    "\n",
    "# scaled_x_train[:,5].shape\n",
    "kmeanModel.predict(scaled_x_train)\n",
    "y_train_res.shape\n",
    "\n",
    "df=pd.DataFrame(columns=X_train_res.columns)\n",
    "df.shape\n",
    "\n",
    "df=pd.DataFrame(scaled_x_train)\n",
    "df.columns=X_train_res.columns\n",
    "\n",
    "\n",
    "\n",
    "#                 ['k_means','target','1','2','3','4','5'])\n",
    "# df['5']=scaled_x_train[:,5]\n",
    "# df['6']=scaled_x_train[:,6]\n",
    "df['k_means']=kmeanModel.predict(scaled_x_train)\n",
    "df['target']=y_train_res\n",
    "print(df.shape)"
   ]
  },
  {
   "cell_type": "code",
   "execution_count": 11,
   "metadata": {},
   "outputs": [],
   "source": [
    "Xvalid=kmeanModel.transform(scaled_x_valid)"
   ]
  },
  {
   "cell_type": "code",
   "execution_count": 101,
   "metadata": {},
   "outputs": [
    {
     "data": {
      "text/plain": [
       "(7675, 32)"
      ]
     },
     "execution_count": 101,
     "metadata": {},
     "output_type": "execute_result"
    }
   ],
   "source": [
    "XtrainData.shape"
   ]
  },
  {
   "cell_type": "code",
   "execution_count": 99,
   "metadata": {},
   "outputs": [
    {
     "data": {
      "text/plain": [
       "array([[ 7.35582623,  5.60375117,  7.18623168, ...,  5.14904066,\n",
       "         6.7546215 , 27.46151671],\n",
       "       [ 9.71587409,  8.92641324,  9.03088296, ...,  8.55344962,\n",
       "         9.24700354, 27.63178362],\n",
       "       [ 8.12208827,  7.48258923,  7.41857019, ...,  7.18346448,\n",
       "         7.68531536, 27.27520064],\n",
       "       ...,\n",
       "       [ 6.99264225,  5.48579692,  6.06326103, ...,  4.93452826,\n",
       "         6.32122702, 27.14940592],\n",
       "       [ 8.05842462,  7.22606344,  8.15337096, ...,  7.16621905,\n",
       "         4.44736499, 27.62435391],\n",
       "       [ 7.4890939 ,  5.34455036,  7.40699903, ...,  6.25830121,\n",
       "         6.86015692, 27.12932602]])"
      ]
     },
     "execution_count": 99,
     "metadata": {},
     "output_type": "execute_result"
    }
   ],
   "source": [
    "Xvalid"
   ]
  },
  {
   "cell_type": "code",
   "execution_count": 22,
   "metadata": {},
   "outputs": [
    {
     "data": {
      "text/plain": [
       "array([10,  6,  8, ..., 11, 14,  8], dtype=int32)"
      ]
     },
     "execution_count": 22,
     "metadata": {},
     "output_type": "execute_result"
    }
   ],
   "source": [
    "XValidclusters=kmeanModel.predict(scaled_x_valid)\n",
    "XValidclusters"
   ]
  },
  {
   "cell_type": "code",
   "execution_count": 26,
   "metadata": {
    "scrolled": true
   },
   "outputs": [],
   "source": [
    "XValidclusters=pd.DataFrame(XValidclusters,columns=[\"Cluster\"])"
   ]
  },
  {
   "cell_type": "code",
   "execution_count": 81,
   "metadata": {},
   "outputs": [
    {
     "data": {
      "text/plain": [
       "(7675, 16)"
      ]
     },
     "execution_count": 81,
     "metadata": {},
     "output_type": "execute_result"
    }
   ],
   "source": [
    "XtrainClusters=kmeanModel.predict(scaled_x_train)\n",
    "XtrainClusters=pd.DataFrame(XtrainClusters,columns=[\"Cluster\"])\n",
    "XtrainClustersEn = pd.get_dummies(XtrainClusters['Cluster'])\n",
    "XtrainClustersEn.shape"
   ]
  },
  {
   "cell_type": "code",
   "execution_count": 83,
   "metadata": {},
   "outputs": [
    {
     "data": {
      "text/plain": [
       "(7675, 32)"
      ]
     },
     "execution_count": 83,
     "metadata": {},
     "output_type": "execute_result"
    }
   ],
   "source": [
    "z=np.array(XtrainClustersEn)\n",
    "z\n",
    "\n",
    "# XValidclustersEn[[0,1],]\n",
    "\n",
    "k=Xtrain\n",
    "\n",
    "\n",
    "XtrainData=np.append(k,z,1)\n",
    "XtrainData.shape"
   ]
  },
  {
   "cell_type": "code",
   "execution_count": 28,
   "metadata": {},
   "outputs": [],
   "source": [
    "# enc = OneHotEncoder(handle_unknown='ignore')"
   ]
  },
  {
   "cell_type": "code",
   "execution_count": 33,
   "metadata": {},
   "outputs": [],
   "source": [
    "# enc.fit(XValidclusters)"
   ]
  },
  {
   "cell_type": "code",
   "execution_count": 34,
   "metadata": {},
   "outputs": [
    {
     "data": {
      "text/plain": [
       "array([10,  6,  8, 14, 11,  0,  3,  5,  9, 12,  1,  4,  2,  7, 13, 15],\n",
       "      dtype=int32)"
      ]
     },
     "execution_count": 34,
     "metadata": {},
     "output_type": "execute_result"
    }
   ],
   "source": [
    "XValidclusters.Cluster.unique()"
   ]
  },
  {
   "cell_type": "code",
   "execution_count": 35,
   "metadata": {},
   "outputs": [
    {
     "data": {
      "text/plain": [
       "(2026, 16)"
      ]
     },
     "execution_count": 35,
     "metadata": {},
     "output_type": "execute_result"
    }
   ],
   "source": [
    "XValidclustersEn = pd.get_dummies(XValidclusters['Cluster'])\n",
    "XValidclustersEn.shape"
   ]
  },
  {
   "cell_type": "code",
   "execution_count": 46,
   "metadata": {},
   "outputs": [
    {
     "data": {
      "text/plain": [
       "array([[ 7.35582623,  5.60375117,  7.18623168, ...,  5.14904066,\n",
       "         6.7546215 , 27.46151671],\n",
       "       [ 9.71587409,  8.92641324,  9.03088296, ...,  8.55344962,\n",
       "         9.24700354, 27.63178362],\n",
       "       [ 8.12208827,  7.48258923,  7.41857019, ...,  7.18346448,\n",
       "         7.68531536, 27.27520064],\n",
       "       ...,\n",
       "       [ 6.99264225,  5.48579692,  6.06326103, ...,  4.93452826,\n",
       "         6.32122702, 27.14940592],\n",
       "       [ 8.05842462,  7.22606344,  8.15337096, ...,  7.16621905,\n",
       "         4.44736499, 27.62435391],\n",
       "       [ 7.4890939 ,  5.34455036,  7.40699903, ...,  6.25830121,\n",
       "         6.86015692, 27.12932602]])"
      ]
     },
     "execution_count": 46,
     "metadata": {},
     "output_type": "execute_result"
    }
   ],
   "source": [
    "Xvalid"
   ]
  },
  {
   "cell_type": "code",
   "execution_count": 53,
   "metadata": {},
   "outputs": [
    {
     "data": {
      "text/plain": [
       "array([ 7.35582623,  5.60375117,  7.18623168,  6.49747395,  4.63301126,\n",
       "        5.90254497,  8.16734168, 12.38278229,  6.96429959,  7.46312683,\n",
       "        3.88727625,  6.54522355,  6.11853051,  5.14904066,  6.7546215 ,\n",
       "       27.46151671])"
      ]
     },
     "execution_count": 53,
     "metadata": {},
     "output_type": "execute_result"
    }
   ],
   "source": [
    "Xvalid[0]"
   ]
  },
  {
   "cell_type": "code",
   "execution_count": 73,
   "metadata": {},
   "outputs": [
    {
     "data": {
      "text/plain": [
       "array([[0, 0, 0, ..., 0, 0, 0],\n",
       "       [0, 0, 0, ..., 0, 0, 0],\n",
       "       [0, 0, 0, ..., 0, 0, 0],\n",
       "       ...,\n",
       "       [0, 0, 0, ..., 0, 0, 0],\n",
       "       [0, 0, 0, ..., 0, 1, 0],\n",
       "       [0, 0, 0, ..., 0, 0, 0]], dtype=uint8)"
      ]
     },
     "execution_count": 73,
     "metadata": {},
     "output_type": "execute_result"
    }
   ],
   "source": [
    "z=np.array(XValidclustersEn)\n",
    "z"
   ]
  },
  {
   "cell_type": "code",
   "execution_count": 64,
   "metadata": {
    "scrolled": true
   },
   "outputs": [],
   "source": [
    "# XValidclustersEn[[0,1],]"
   ]
  },
  {
   "cell_type": "code",
   "execution_count": 74,
   "metadata": {},
   "outputs": [],
   "source": [
    "k=Xvalid\n"
   ]
  },
  {
   "cell_type": "code",
   "execution_count": 77,
   "metadata": {},
   "outputs": [],
   "source": [
    "XvalidData=np.append(k,z,1)"
   ]
  },
  {
   "cell_type": "code",
   "execution_count": 102,
   "metadata": {},
   "outputs": [],
   "source": [
    "scaled_XKmeans = scaler.transform(XtrainData)\n",
    "scaled_XValid = scaler.transform(XvalidData)\n",
    "\n",
    "\n",
    "# scaled_x_valid=scaler.transform(x_valid)\n"
   ]
  },
  {
   "cell_type": "code",
   "execution_count": 118,
   "metadata": {},
   "outputs": [],
   "source": [
    "# df['k_means']=kmeanModel.predict(scaled_x_train)\n",
    "# df['target']=y_train_res\n",
    "from sklearn.preprocessing import normalize\n",
    "scaled_XKmeans=normalize(scaled_XKmeans, norm='l2', axis=1, copy=True, return_norm=False)\n",
    "scaled_XValid=normalize(scaled_XValid, norm='l2', axis=1, copy=True, return_norm=False)"
   ]
  },
  {
   "cell_type": "code",
   "execution_count": 5,
   "metadata": {},
   "outputs": [],
   "source": [
    "# pca_reload = pk.load(open(\"pca_finalDF_data1.pkl\",'rb'))\n",
    "# result_new = pca_reload .transform(X)"
   ]
  },
  {
   "cell_type": "code",
   "execution_count": 7,
   "metadata": {},
   "outputs": [
    {
     "data": {
      "text/plain": [
       "(7675, 23)"
      ]
     },
     "execution_count": 7,
     "metadata": {},
     "output_type": "execute_result"
    }
   ],
   "source": [
    "# pca_reload.shape"
   ]
  },
  {
   "cell_type": "code",
   "execution_count": 11,
   "metadata": {},
   "outputs": [],
   "source": [
    "def create_model(  hidden_layers,learning_rate):\n",
    "  # Initialize the constructor\n",
    "    model =  keras.Sequential()\n",
    "      # Add an input layer\n",
    "    activation='sigmoid'\n",
    "    model.add(layers.Dense(256, activation=activation, input_shape=input_shape))\n",
    "    for i in range(hidden_layers):\n",
    "          # Add one hidden layer\n",
    "        model.add(layers.Dense(8, activation=activation))\n",
    "\n",
    "      # Add an output layer \n",
    "    model.add(layers.Dense(1, activation=activation))\n",
    "    opt = keras.optimizers.Adam(learning_rate=learning_rate)\n",
    "      #compile model\n",
    "    model.compile(loss='binary_crossentropy', optimizer=opt, metrics=\n",
    "      ['accuracy'])\n",
    "\n",
    "    return model\n"
   ]
  },
  {
   "cell_type": "code",
   "execution_count": 13,
   "metadata": {},
   "outputs": [],
   "source": [
    "\n",
    "import joblib\n",
    "\n",
    "# joblib.dump(DTmodel, 'DTgrid_NLP.pkl')\n",
    "\n",
    "from sklearn import metrics\n",
    "\n",
    "# tfidf_vector_X = xtrain_tfidf_ngram.toarray()  #//shape - (3,6)\n",
    "# tfidf_vector_valid= xvalid_tfidf_ngram.toarray() #//shape - (3,6)\n",
    "# tfidf_vector_X = tfidf_vector_X[:, :, None] #//shape - (3,6,1) \n",
    "# tfidf_vector_valid = tfidf_vector_valid[:, :, None] #//shape - (3,6,1)\n",
    "\n",
    "\n",
    "# tfidf_vector_X.shape[1:]\n",
    "\n",
    "from tensorflow import keras\n",
    "from tensorflow.keras import layers\n",
    "\n",
    "# input_shape= [x_train.shape[1]]\n",
    "\n",
    "# NNmodel = create_model(optimizer='adam', activation = 'sigmoid', hidden_layers=1,learning_rate=0.01)\n",
    "\n",
    "\n",
    "\n",
    "\n",
    "from sklearn.model_selection import RandomizedSearchCV, GridSearchCV\n",
    "from sklearn.metrics import roc_auc_score\n",
    "from sklearn.model_selection import StratifiedKFold\n"
   ]
  },
  {
   "cell_type": "code",
   "execution_count": 14,
   "metadata": {},
   "outputs": [],
   "source": [
    "# sess.run(optimizer._lr)\n",
    "def create_modelWithDropBatch(  hidden_layers,learning_rate):\n",
    "  # Initialize the constructor\n",
    "    model =  keras.Sequential()\n",
    "      # Add an input layer\n",
    "    activation='sigmoid'\n",
    "    model.add(layers.Dense(256, activation=activation, input_shape=input_shape)) #thisone inc\n",
    "    for i in range(hidden_layers):\n",
    "          # Add one hidden layer\n",
    "        model.add(layers.BatchNormalization())\n",
    "        model.add(layers.Dropout(0.5))\n",
    "        model.add(layers.Dense(8, activation='relu')) #thisone inc 256\n",
    "\n",
    "      # Add an output layer \n",
    "    model.add(layers.Dense(1, activation=activation))\n",
    "    opt = keras.optimizers.Adam(learning_rate=learning_rate)\n",
    "      #compile model\n",
    "    model.compile(loss='binary_crossentropy', optimizer=opt, metrics=\n",
    "      ['accuracy'])\n",
    "\n",
    "    return model\n",
    "\n"
   ]
  },
  {
   "cell_type": "code",
   "execution_count": 16,
   "metadata": {},
   "outputs": [],
   "source": [
    "from tensorflow.keras.wrappers.scikit_learn import KerasClassifier"
   ]
  },
  {
   "cell_type": "code",
   "execution_count": 20,
   "metadata": {},
   "outputs": [
    {
     "data": {
      "text/plain": [
       "[32]"
      ]
     },
     "execution_count": 20,
     "metadata": {},
     "output_type": "execute_result"
    }
   ],
   "source": [
    "# pca_finalDF.shape\n",
    "# input_shape"
   ]
  },
  {
   "cell_type": "code",
   "execution_count": 17,
   "metadata": {},
   "outputs": [],
   "source": [
    "model_Batch_drop_relu =  KerasClassifier(build_fn=create_modelWithDropBatch, verbose = False)  "
   ]
  },
  {
   "cell_type": "code",
   "execution_count": 85,
   "metadata": {},
   "outputs": [
    {
     "data": {
      "text/plain": [
       "(2026, 32)"
      ]
     },
     "execution_count": 85,
     "metadata": {},
     "output_type": "execute_result"
    }
   ],
   "source": [
    "XvalidData.shape"
   ]
  },
  {
   "cell_type": "code",
   "execution_count": null,
   "metadata": {},
   "outputs": [],
   "source": [
    "Xvalid."
   ]
  },
  {
   "cell_type": "code",
   "execution_count": 86,
   "metadata": {
    "scrolled": true
   },
   "outputs": [
    {
     "name": "stdout",
     "output_type": "stream",
     "text": [
      "{'hidden_layers': 2, 'learning_rate': 0.001}\n",
      "0.8832573294639587\n"
     ]
    }
   ],
   "source": [
    "\n",
    "input_shape=[32]\n",
    "#\n",
    "model_Batch_drop_relu =  KerasClassifier(build_fn=create_modelWithDropBatch, verbose = False)  \n",
    "\n",
    "param_grid={'learning_rate':[0.1,0.001,0.01,0.05,0.05,0.5],'hidden_layers':[2,4,6,8,10]}\n",
    "\n",
    "gridNN_Batch_drop_relu = GridSearchCV(estimator = model_Batch_drop_relu, param_grid = param_grid)\n",
    "\n",
    "model_Batch_drop_relu.get_params()\n",
    "\n",
    "history_Batch_drop_relu = gridNN_Batch_drop_relu.fit(\n",
    "     XtrainData, y_train_res,\n",
    "    validation_data=(XvalidData, y_valid),\n",
    "    batch_size=512,\n",
    "    epochs=200,\n",
    "#     callbacks=[early_stopping],\n",
    ")\n",
    "\n",
    "print(history_Batch_drop_relu.best_params_)\n",
    "\n",
    "print(history_Batch_drop_relu.best_score_)\n",
    "# print(grid.best_params_)"
   ]
  },
  {
   "cell_type": "code",
   "execution_count": 87,
   "metadata": {},
   "outputs": [],
   "source": [
    "# import timeit\n",
    "\n",
    "# start = timeit.default_timer()\n",
    "\n",
    "# #Your statements here\n",
    "\n",
    "# bestNN=create_modelWithDropBatch(hidden_layers= 6, learning_rate= 0.05)\n",
    "# history2 = bestNN.fit(\n",
    "#      pca_finalDF, y_train_res,\n",
    "#     validation_data=(pcavalidData, y_valid),\n",
    "#     batch_size=512,\n",
    "#     epochs=200,\n",
    "# #     callbacks=[early_stopping],\n",
    "# )\n",
    "# stop = timeit.default_timer()\n",
    "\n",
    "# print('Time: ', stop - start)  \n"
   ]
  },
  {
   "cell_type": "code",
   "execution_count": 58,
   "metadata": {},
   "outputs": [],
   "source": [
    "# sess.run(optimizer._lr)\n",
    "def create_modelWithDropBatchOpt(  hidden_layers,learning_rate):\n",
    "  # Initialize the constructor\n",
    "    model =  keras.Sequential()\n",
    "      # Add an input layer\n",
    "    activation='sigmoid'\n",
    "    model.add(layers.Dense(256, activation=activation, input_shape=input_shape))\n",
    "    for i in range(hidden_layers):\n",
    "          # Add one hidden layer\n",
    "        model.add(layers.BatchNormalization())\n",
    "        model.add(layers.Dropout(0.5))\n",
    "        model.add(layers.Dense(8, activation='tanh'))\n",
    "\n",
    "      # Add an output layer \n",
    "    model.add(layers.Dense(1, activation=activation))\n",
    "    opt = keras.optimizers.Adam(learning_rate=learning_rate)\n",
    "      #compile model\n",
    "    model.compile(loss='binary_crossentropy', optimizer=opt, metrics=\n",
    "      ['accuracy'])\n",
    "\n",
    "    return model\n",
    "\n"
   ]
  },
  {
   "cell_type": "code",
   "execution_count": 96,
   "metadata": {
    "collapsed": true
   },
   "outputs": [
    {
     "data": {
      "text/html": [
       "<div>\n",
       "<style scoped>\n",
       "    .dataframe tbody tr th:only-of-type {\n",
       "        vertical-align: middle;\n",
       "    }\n",
       "\n",
       "    .dataframe tbody tr th {\n",
       "        vertical-align: top;\n",
       "    }\n",
       "\n",
       "    .dataframe thead th {\n",
       "        text-align: right;\n",
       "    }\n",
       "</style>\n",
       "<table border=\"1\" class=\"dataframe\">\n",
       "  <thead>\n",
       "    <tr style=\"text-align: right;\">\n",
       "      <th></th>\n",
       "      <th>Attrition_Flag</th>\n",
       "    </tr>\n",
       "  </thead>\n",
       "  <tbody>\n",
       "    <tr>\n",
       "      <th>0</th>\n",
       "      <td>1</td>\n",
       "    </tr>\n",
       "    <tr>\n",
       "      <th>1</th>\n",
       "      <td>1</td>\n",
       "    </tr>\n",
       "    <tr>\n",
       "      <th>2</th>\n",
       "      <td>1</td>\n",
       "    </tr>\n",
       "    <tr>\n",
       "      <th>3</th>\n",
       "      <td>1</td>\n",
       "    </tr>\n",
       "    <tr>\n",
       "      <th>4</th>\n",
       "      <td>1</td>\n",
       "    </tr>\n",
       "    <tr>\n",
       "      <th>...</th>\n",
       "      <td>...</td>\n",
       "    </tr>\n",
       "    <tr>\n",
       "      <th>2021</th>\n",
       "      <td>1</td>\n",
       "    </tr>\n",
       "    <tr>\n",
       "      <th>2022</th>\n",
       "      <td>0</td>\n",
       "    </tr>\n",
       "    <tr>\n",
       "      <th>2023</th>\n",
       "      <td>1</td>\n",
       "    </tr>\n",
       "    <tr>\n",
       "      <th>2024</th>\n",
       "      <td>1</td>\n",
       "    </tr>\n",
       "    <tr>\n",
       "      <th>2025</th>\n",
       "      <td>1</td>\n",
       "    </tr>\n",
       "  </tbody>\n",
       "</table>\n",
       "<p>2026 rows × 1 columns</p>\n",
       "</div>"
      ],
      "text/plain": [
       "      Attrition_Flag\n",
       "0                  1\n",
       "1                  1\n",
       "2                  1\n",
       "3                  1\n",
       "4                  1\n",
       "...              ...\n",
       "2021               1\n",
       "2022               0\n",
       "2023               1\n",
       "2024               1\n",
       "2025               1\n",
       "\n",
       "[2026 rows x 1 columns]"
      ]
     },
     "execution_count": 96,
     "metadata": {},
     "output_type": "execute_result"
    }
   ],
   "source": [
    "y_valid"
   ]
  },
  {
   "cell_type": "code",
   "execution_count": 127,
   "metadata": {},
   "outputs": [
    {
     "data": {
      "text/plain": [
       "array([[ 0.01948457,  0.02918462,  0.03451587, ..., -0.00055809,\n",
       "         0.15137822, -0.00123852],\n",
       "       [ 0.01721252,  0.02667761,  0.02651348, ..., -0.00059958,\n",
       "        -0.00023342, -0.0013306 ],\n",
       "       [ 0.0190794 ,  0.03337567,  0.03016379, ..., -0.00059295,\n",
       "        -0.00023084, -0.00131588],\n",
       "       ...,\n",
       "       [ 0.01277982,  0.01521045,  0.01948226, ...,  0.06456833,\n",
       "        -0.00023805, -0.00135696],\n",
       "       [ 0.01438093,  0.02352488,  0.02788791, ..., -0.00060237,\n",
       "        -0.00023451, -0.00133679],\n",
       "       [ 0.01223158,  0.01222023,  0.01984454, ...,  0.06543778,\n",
       "        -0.00024125, -0.00137523]])"
      ]
     },
     "execution_count": 127,
     "metadata": {},
     "output_type": "execute_result"
    }
   ],
   "source": [
    "scaled_XKmeans"
   ]
  },
  {
   "cell_type": "code",
   "execution_count": 126,
   "metadata": {
    "scrolled": true
   },
   "outputs": [
    {
     "data": {
      "text/plain": [
       "array([[ 0.01503103,  0.02082295,  0.02752151, ..., -0.0006037 ,\n",
       "        -0.00023503, -0.00133973],\n",
       "       [ 0.02267979,  0.03898833,  0.03545706, ..., -0.00055858,\n",
       "        -0.00021746, -0.0012396 ],\n",
       "       [ 0.01788544,  0.03246936,  0.02852477, ..., -0.00059624,\n",
       "        -0.00023212, -0.00132317],\n",
       "       ...,\n",
       "       [ 0.01390084,  0.02055242,  0.02145434, ..., -0.00061832,\n",
       "        -0.00024072, -0.00137219],\n",
       "       [ 0.01714393,  0.02998885,  0.03186489, ..., -0.0005797 ,\n",
       "         0.15724032, -0.00128648],\n",
       "       [ 0.01565251,  0.01926616,  0.02897343, ..., -0.00060704,\n",
       "        -0.00023633, -0.00134715]])"
      ]
     },
     "execution_count": 126,
     "metadata": {},
     "output_type": "execute_result"
    }
   ],
   "source": [
    "scaled_XValid"
   ]
  },
  {
   "cell_type": "code",
   "execution_count": null,
   "metadata": {},
   "outputs": [],
   "source": [
    "# create_modelWithDropBatch3\n",
    "# sess.run(optimizer._lr)\n",
    "def create_modelWithDropBatch3(  hidden_layers,learning_rate):\n",
    "  # Initialize the constructor\n",
    "    model =  keras.Sequential()\n",
    "      # Add an input layer\n",
    "    activation='sigmoid'\n",
    "    model.add(layers.Dense(256, activation=activation, input_shape=input_shape)) #thisone inc\n",
    "    for i in range(hidden_layers):\n",
    "          # Add one hidden layer\n",
    "#         model.add(layers.BatchNormalization())\n",
    "        model.add(layers.Dropout(0.5))\n",
    "        model.add(layers.Dense(256, activation='relu')) #thisone inc 256\n",
    "\n",
    "      # Add an output layer \n",
    "    model.add(layers.Dense(1, activation=activation))\n",
    "    opt = keras.optimizers.Adam(learning_rate=learning_rate)\n",
    "      #compile model\n",
    "    model.compile(loss='binary_crossentropy', optimizer=opt, metrics=\n",
    "      ['accuracy'])\n",
    "\n",
    "    return model\n",
    "\n"
   ]
  },
  {
   "cell_type": "code",
   "execution_count": null,
   "metadata": {},
   "outputs": [],
   "source": [
    "\n",
    "\n",
    "import timeit\n",
    "\n",
    "start = timeit.default_timer()\n",
    "\n",
    "#Your statements here\n",
    "\n",
    "bestNN2=create_modelWithDropBatch3(hidden_layers= 2, learning_rate= 0.001)\n",
    "history3 = bestNN2.fit(\n",
    "     scaled_XKmeans, y_train_res,\n",
    "    validation_data=(scaled_XValid, y_valid),\n",
    "    batch_size=512,\n",
    "    epochs=200,\n",
    "#     callbacks=[early_stopping],\n",
    ")\n",
    "stop = timeit.default_timer()\n",
    "\n",
    "print('Time: ', stop - start)  \n"
   ]
  },
  {
   "cell_type": "code",
   "execution_count": 131,
   "metadata": {
    "scrolled": true
   },
   "outputs": [
    {
     "name": "stdout",
     "output_type": "stream",
     "text": [
      "Epoch 1/200\n",
      "15/15 [==============================] - 1s 22ms/step - loss: 0.5433 - accuracy: 0.7374 - val_loss: 0.9448 - val_accuracy: 0.1673\n",
      "Epoch 2/200\n",
      "15/15 [==============================] - 0s 12ms/step - loss: 0.4138 - accuracy: 0.8215 - val_loss: 1.0830 - val_accuracy: 0.1673\n",
      "Epoch 3/200\n",
      "15/15 [==============================] - 0s 11ms/step - loss: 0.3768 - accuracy: 0.8424 - val_loss: 1.0579 - val_accuracy: 0.1673\n",
      "Epoch 4/200\n",
      "15/15 [==============================] - 0s 11ms/step - loss: 0.3211 - accuracy: 0.8656 - val_loss: 1.0342 - val_accuracy: 0.1673\n",
      "Epoch 5/200\n",
      "15/15 [==============================] - 0s 11ms/step - loss: 0.3259 - accuracy: 0.8645 - val_loss: 0.9897 - val_accuracy: 0.1673\n",
      "Epoch 6/200\n",
      "15/15 [==============================] - 0s 11ms/step - loss: 0.3130 - accuracy: 0.8715 - val_loss: 0.9868 - val_accuracy: 0.1673\n",
      "Epoch 7/200\n",
      "15/15 [==============================] - 0s 11ms/step - loss: 0.3082 - accuracy: 0.8735 - val_loss: 1.0604 - val_accuracy: 0.1673\n",
      "Epoch 8/200\n",
      "15/15 [==============================] - 0s 11ms/step - loss: 0.3024 - accuracy: 0.8774 - val_loss: 1.0969 - val_accuracy: 0.1673\n",
      "Epoch 9/200\n",
      "15/15 [==============================] - 0s 11ms/step - loss: 0.2920 - accuracy: 0.8846 - val_loss: 1.1669 - val_accuracy: 0.1673\n",
      "Epoch 10/200\n",
      "15/15 [==============================] - 0s 11ms/step - loss: 0.3010 - accuracy: 0.8788 - val_loss: 1.1021 - val_accuracy: 0.1673\n",
      "Epoch 11/200\n",
      "15/15 [==============================] - 0s 11ms/step - loss: 0.2906 - accuracy: 0.8811 - val_loss: 1.0913 - val_accuracy: 0.1673\n",
      "Epoch 12/200\n",
      "15/15 [==============================] - 0s 10ms/step - loss: 0.2888 - accuracy: 0.8868 - val_loss: 1.0996 - val_accuracy: 0.1673\n",
      "Epoch 13/200\n",
      "15/15 [==============================] - 0s 11ms/step - loss: 0.2728 - accuracy: 0.8941 - val_loss: 1.1318 - val_accuracy: 0.1673\n",
      "Epoch 14/200\n",
      "15/15 [==============================] - 0s 11ms/step - loss: 0.2692 - accuracy: 0.8920 - val_loss: 1.0293 - val_accuracy: 0.1673\n",
      "Epoch 15/200\n",
      "15/15 [==============================] - 0s 11ms/step - loss: 0.2849 - accuracy: 0.8847 - val_loss: 1.0351 - val_accuracy: 0.1673\n",
      "Epoch 16/200\n",
      "15/15 [==============================] - 0s 11ms/step - loss: 0.2775 - accuracy: 0.8864 - val_loss: 1.0902 - val_accuracy: 0.1673\n",
      "Epoch 17/200\n",
      "15/15 [==============================] - 0s 13ms/step - loss: 0.2773 - accuracy: 0.8891 - val_loss: 1.0960 - val_accuracy: 0.1673\n",
      "Epoch 18/200\n",
      "15/15 [==============================] - 0s 11ms/step - loss: 0.2726 - accuracy: 0.8911 - val_loss: 1.0371 - val_accuracy: 0.1673\n",
      "Epoch 19/200\n",
      "15/15 [==============================] - 0s 11ms/step - loss: 0.2692 - accuracy: 0.8942 - val_loss: 1.0553 - val_accuracy: 0.1673\n",
      "Epoch 20/200\n",
      "15/15 [==============================] - 0s 13ms/step - loss: 0.2555 - accuracy: 0.9003 - val_loss: 1.0359 - val_accuracy: 0.1673\n",
      "Epoch 21/200\n",
      "15/15 [==============================] - 0s 14ms/step - loss: 0.2586 - accuracy: 0.8971 - val_loss: 1.0191 - val_accuracy: 0.1673\n",
      "Epoch 22/200\n",
      "15/15 [==============================] - 0s 12ms/step - loss: 0.2460 - accuracy: 0.9034 - val_loss: 0.9407 - val_accuracy: 0.1673\n",
      "Epoch 23/200\n",
      "15/15 [==============================] - 0s 12ms/step - loss: 0.2492 - accuracy: 0.9010 - val_loss: 0.9083 - val_accuracy: 0.1673\n",
      "Epoch 24/200\n",
      "15/15 [==============================] - 0s 13ms/step - loss: 0.2552 - accuracy: 0.8927 - val_loss: 0.8709 - val_accuracy: 0.1673\n",
      "Epoch 25/200\n",
      "15/15 [==============================] - 0s 13ms/step - loss: 0.2494 - accuracy: 0.8979 - val_loss: 0.9334 - val_accuracy: 0.1673\n",
      "Epoch 26/200\n",
      "15/15 [==============================] - 0s 14ms/step - loss: 0.2620 - accuracy: 0.8964 - val_loss: 0.9677 - val_accuracy: 0.1673\n",
      "Epoch 27/200\n",
      "15/15 [==============================] - 0s 12ms/step - loss: 0.2564 - accuracy: 0.8968 - val_loss: 0.9511 - val_accuracy: 0.1673\n",
      "Epoch 28/200\n",
      "15/15 [==============================] - 0s 12ms/step - loss: 0.2538 - accuracy: 0.8990 - val_loss: 1.1217 - val_accuracy: 0.1673\n",
      "Epoch 29/200\n",
      "15/15 [==============================] - 0s 12ms/step - loss: 0.2470 - accuracy: 0.8975 - val_loss: 0.9455 - val_accuracy: 0.1683\n",
      "Epoch 30/200\n",
      "15/15 [==============================] - 0s 14ms/step - loss: 0.2530 - accuracy: 0.8982 - val_loss: 1.1204 - val_accuracy: 0.1673\n",
      "Epoch 31/200\n",
      "15/15 [==============================] - 0s 12ms/step - loss: 0.2351 - accuracy: 0.9077 - val_loss: 1.1521 - val_accuracy: 0.1703\n",
      "Epoch 32/200\n",
      "15/15 [==============================] - 0s 12ms/step - loss: 0.2436 - accuracy: 0.9019 - val_loss: 1.2400 - val_accuracy: 0.1718\n",
      "Epoch 33/200\n",
      "15/15 [==============================] - 0s 12ms/step - loss: 0.2380 - accuracy: 0.9060 - val_loss: 0.9623 - val_accuracy: 0.2522\n",
      "Epoch 34/200\n",
      "15/15 [==============================] - 0s 14ms/step - loss: 0.2387 - accuracy: 0.9021 - val_loss: 0.9902 - val_accuracy: 0.3124\n",
      "Epoch 35/200\n",
      "15/15 [==============================] - 0s 14ms/step - loss: 0.2369 - accuracy: 0.9020 - val_loss: 0.7607 - val_accuracy: 0.4941\n",
      "Epoch 36/200\n",
      "15/15 [==============================] - 0s 12ms/step - loss: 0.2330 - accuracy: 0.9030 - val_loss: 0.5349 - val_accuracy: 0.7557\n",
      "Epoch 37/200\n",
      "15/15 [==============================] - 0s 13ms/step - loss: 0.2387 - accuracy: 0.8997 - val_loss: 0.4583 - val_accuracy: 0.8193\n",
      "Epoch 38/200\n",
      "15/15 [==============================] - 0s 13ms/step - loss: 0.2227 - accuracy: 0.9080 - val_loss: 0.3918 - val_accuracy: 0.8524\n",
      "Epoch 39/200\n",
      "15/15 [==============================] - 0s 14ms/step - loss: 0.2236 - accuracy: 0.9094 - val_loss: 0.4247 - val_accuracy: 0.8460\n",
      "Epoch 40/200\n",
      "15/15 [==============================] - 0s 12ms/step - loss: 0.2306 - accuracy: 0.9084 - val_loss: 0.5277 - val_accuracy: 0.7517\n",
      "Epoch 41/200\n",
      "15/15 [==============================] - 0s 13ms/step - loss: 0.2373 - accuracy: 0.9061 - val_loss: 0.5130 - val_accuracy: 0.7631\n",
      "Epoch 42/200\n",
      "15/15 [==============================] - 0s 14ms/step - loss: 0.2439 - accuracy: 0.9043 - val_loss: 0.5112 - val_accuracy: 0.7621\n",
      "Epoch 43/200\n",
      "15/15 [==============================] - 0s 14ms/step - loss: 0.2254 - accuracy: 0.9097 - val_loss: 0.3569 - val_accuracy: 0.8549\n",
      "Epoch 44/200\n",
      "15/15 [==============================] - 0s 13ms/step - loss: 0.2307 - accuracy: 0.9064 - val_loss: 0.4790 - val_accuracy: 0.7784\n",
      "Epoch 45/200\n",
      "15/15 [==============================] - 0s 31ms/step - loss: 0.2233 - accuracy: 0.9077 - val_loss: 0.3790 - val_accuracy: 0.8421\n",
      "Epoch 46/200\n",
      "15/15 [==============================] - 0s 13ms/step - loss: 0.2236 - accuracy: 0.9091 - val_loss: 0.3942 - val_accuracy: 0.8416\n",
      "Epoch 47/200\n",
      "15/15 [==============================] - 0s 13ms/step - loss: 0.2319 - accuracy: 0.9053 - val_loss: 0.4740 - val_accuracy: 0.7912\n",
      "Epoch 48/200\n",
      "15/15 [==============================] - 0s 13ms/step - loss: 0.2294 - accuracy: 0.9065 - val_loss: 0.3770 - val_accuracy: 0.8465\n",
      "Epoch 49/200\n",
      "15/15 [==============================] - 0s 13ms/step - loss: 0.2144 - accuracy: 0.9152 - val_loss: 0.2945 - val_accuracy: 0.8736\n",
      "Epoch 50/200\n",
      "15/15 [==============================] - 0s 12ms/step - loss: 0.2286 - accuracy: 0.9095 - val_loss: 0.2863 - val_accuracy: 0.8766\n",
      "Epoch 51/200\n",
      "15/15 [==============================] - 0s 12ms/step - loss: 0.2236 - accuracy: 0.9097 - val_loss: 0.3429 - val_accuracy: 0.8618\n",
      "Epoch 52/200\n",
      "15/15 [==============================] - 0s 11ms/step - loss: 0.2279 - accuracy: 0.9032 - val_loss: 0.3085 - val_accuracy: 0.8692\n",
      "Epoch 53/200\n",
      "15/15 [==============================] - 0s 12ms/step - loss: 0.2258 - accuracy: 0.9063 - val_loss: 0.2848 - val_accuracy: 0.8766\n",
      "Epoch 54/200\n",
      "15/15 [==============================] - 0s 12ms/step - loss: 0.2299 - accuracy: 0.9099 - val_loss: 0.2755 - val_accuracy: 0.8796\n",
      "Epoch 55/200\n",
      "15/15 [==============================] - 0s 11ms/step - loss: 0.2197 - accuracy: 0.9074 - val_loss: 0.2928 - val_accuracy: 0.8825\n",
      "Epoch 56/200\n",
      "15/15 [==============================] - 0s 11ms/step - loss: 0.2123 - accuracy: 0.9154 - val_loss: 0.2807 - val_accuracy: 0.8791\n",
      "Epoch 57/200\n",
      "15/15 [==============================] - 0s 12ms/step - loss: 0.2241 - accuracy: 0.9061 - val_loss: 0.3018 - val_accuracy: 0.8820\n",
      "Epoch 58/200\n"
     ]
    },
    {
     "name": "stdout",
     "output_type": "stream",
     "text": [
      "15/15 [==============================] - 0s 12ms/step - loss: 0.2237 - accuracy: 0.9074 - val_loss: 0.3176 - val_accuracy: 0.8638\n",
      "Epoch 59/200\n",
      "15/15 [==============================] - 0s 13ms/step - loss: 0.2189 - accuracy: 0.9097 - val_loss: 0.2765 - val_accuracy: 0.8830\n",
      "Epoch 60/200\n",
      "15/15 [==============================] - 0s 11ms/step - loss: 0.2104 - accuracy: 0.9122 - val_loss: 0.2816 - val_accuracy: 0.8771\n",
      "Epoch 61/200\n",
      "15/15 [==============================] - 0s 12ms/step - loss: 0.2171 - accuracy: 0.9089 - val_loss: 0.3158 - val_accuracy: 0.8653\n",
      "Epoch 62/200\n",
      "15/15 [==============================] - 0s 13ms/step - loss: 0.2216 - accuracy: 0.9103 - val_loss: 0.2931 - val_accuracy: 0.8801\n",
      "Epoch 63/200\n",
      "15/15 [==============================] - 0s 11ms/step - loss: 0.2247 - accuracy: 0.9059 - val_loss: 0.3176 - val_accuracy: 0.8731\n",
      "Epoch 64/200\n",
      "15/15 [==============================] - 0s 13ms/step - loss: 0.2146 - accuracy: 0.9144 - val_loss: 0.4092 - val_accuracy: 0.8218\n",
      "Epoch 65/200\n",
      "15/15 [==============================] - 0s 11ms/step - loss: 0.2202 - accuracy: 0.9097 - val_loss: 0.5006 - val_accuracy: 0.7966\n",
      "Epoch 66/200\n",
      "15/15 [==============================] - 0s 12ms/step - loss: 0.2213 - accuracy: 0.9085 - val_loss: 0.3533 - val_accuracy: 0.8559\n",
      "Epoch 67/200\n",
      "15/15 [==============================] - 0s 13ms/step - loss: 0.2136 - accuracy: 0.9092 - val_loss: 0.3575 - val_accuracy: 0.8583\n",
      "Epoch 68/200\n",
      "15/15 [==============================] - 0s 13ms/step - loss: 0.2068 - accuracy: 0.9126 - val_loss: 0.3823 - val_accuracy: 0.8514\n",
      "Epoch 69/200\n",
      "15/15 [==============================] - 0s 11ms/step - loss: 0.2130 - accuracy: 0.9132 - val_loss: 0.3334 - val_accuracy: 0.8657\n",
      "Epoch 70/200\n",
      "15/15 [==============================] - 0s 12ms/step - loss: 0.2241 - accuracy: 0.9072 - val_loss: 0.4438 - val_accuracy: 0.8129\n",
      "Epoch 71/200\n",
      "15/15 [==============================] - 0s 11ms/step - loss: 0.2136 - accuracy: 0.9143 - val_loss: 0.4263 - val_accuracy: 0.8233\n",
      "Epoch 72/200\n",
      "15/15 [==============================] - 0s 11ms/step - loss: 0.2104 - accuracy: 0.9156 - val_loss: 0.4587 - val_accuracy: 0.8115\n",
      "Epoch 73/200\n",
      "15/15 [==============================] - 0s 12ms/step - loss: 0.2181 - accuracy: 0.9095 - val_loss: 0.3394 - val_accuracy: 0.8613\n",
      "Epoch 74/200\n",
      "15/15 [==============================] - 0s 11ms/step - loss: 0.2195 - accuracy: 0.9093 - val_loss: 0.3636 - val_accuracy: 0.8569\n",
      "Epoch 75/200\n",
      "15/15 [==============================] - 0s 11ms/step - loss: 0.2069 - accuracy: 0.9185 - val_loss: 0.4193 - val_accuracy: 0.8386\n",
      "Epoch 76/200\n",
      "15/15 [==============================] - 0s 12ms/step - loss: 0.2044 - accuracy: 0.9188 - val_loss: 0.2811 - val_accuracy: 0.8820\n",
      "Epoch 77/200\n",
      "15/15 [==============================] - 0s 10ms/step - loss: 0.1989 - accuracy: 0.9209 - val_loss: 0.3003 - val_accuracy: 0.8751\n",
      "Epoch 78/200\n",
      "15/15 [==============================] - 0s 11ms/step - loss: 0.2126 - accuracy: 0.9099 - val_loss: 0.3013 - val_accuracy: 0.8722\n",
      "Epoch 79/200\n",
      "15/15 [==============================] - 0s 11ms/step - loss: 0.2136 - accuracy: 0.9118 - val_loss: 0.2946 - val_accuracy: 0.8786\n",
      "Epoch 80/200\n",
      "15/15 [==============================] - 0s 11ms/step - loss: 0.2058 - accuracy: 0.9136 - val_loss: 0.2963 - val_accuracy: 0.8662\n",
      "Epoch 81/200\n",
      "15/15 [==============================] - 0s 13ms/step - loss: 0.2199 - accuracy: 0.9097 - val_loss: 0.3040 - val_accuracy: 0.8662\n",
      "Epoch 82/200\n",
      "15/15 [==============================] - 0s 12ms/step - loss: 0.2070 - accuracy: 0.9161 - val_loss: 0.3121 - val_accuracy: 0.8722\n",
      "Epoch 83/200\n",
      "15/15 [==============================] - 0s 12ms/step - loss: 0.2112 - accuracy: 0.9138 - val_loss: 0.2859 - val_accuracy: 0.8801\n",
      "Epoch 84/200\n",
      "15/15 [==============================] - 0s 13ms/step - loss: 0.2078 - accuracy: 0.9158 - val_loss: 0.2933 - val_accuracy: 0.8791\n",
      "Epoch 85/200\n",
      "15/15 [==============================] - 0s 12ms/step - loss: 0.2112 - accuracy: 0.9176 - val_loss: 0.2856 - val_accuracy: 0.8786\n",
      "Epoch 86/200\n",
      "15/15 [==============================] - 0s 11ms/step - loss: 0.2089 - accuracy: 0.9106 - val_loss: 0.3045 - val_accuracy: 0.8786\n",
      "Epoch 87/200\n",
      "15/15 [==============================] - 0s 11ms/step - loss: 0.2129 - accuracy: 0.9119 - val_loss: 0.2650 - val_accuracy: 0.8899\n",
      "Epoch 88/200\n",
      "15/15 [==============================] - 0s 13ms/step - loss: 0.2051 - accuracy: 0.9128 - val_loss: 0.2891 - val_accuracy: 0.8820\n",
      "Epoch 89/200\n",
      "15/15 [==============================] - 0s 12ms/step - loss: 0.2154 - accuracy: 0.9125 - val_loss: 0.2940 - val_accuracy: 0.8791\n",
      "Epoch 90/200\n",
      "15/15 [==============================] - 0s 13ms/step - loss: 0.2093 - accuracy: 0.9147 - val_loss: 0.2807 - val_accuracy: 0.8835\n",
      "Epoch 91/200\n",
      "15/15 [==============================] - 0s 12ms/step - loss: 0.2058 - accuracy: 0.9156 - val_loss: 0.3113 - val_accuracy: 0.8638\n",
      "Epoch 92/200\n",
      "15/15 [==============================] - 0s 13ms/step - loss: 0.2042 - accuracy: 0.9139 - val_loss: 0.2758 - val_accuracy: 0.8880\n",
      "Epoch 93/200\n",
      "15/15 [==============================] - 0s 13ms/step - loss: 0.2072 - accuracy: 0.9191 - val_loss: 0.2642 - val_accuracy: 0.8949\n",
      "Epoch 94/200\n",
      "15/15 [==============================] - 0s 12ms/step - loss: 0.2073 - accuracy: 0.9159 - val_loss: 0.2659 - val_accuracy: 0.8889\n",
      "Epoch 95/200\n",
      "15/15 [==============================] - 0s 14ms/step - loss: 0.2057 - accuracy: 0.9126 - val_loss: 0.3021 - val_accuracy: 0.8741\n",
      "Epoch 96/200\n",
      "15/15 [==============================] - 0s 13ms/step - loss: 0.1999 - accuracy: 0.9194 - val_loss: 0.2786 - val_accuracy: 0.8855\n",
      "Epoch 97/200\n",
      "15/15 [==============================] - 0s 12ms/step - loss: 0.2117 - accuracy: 0.9139 - val_loss: 0.3132 - val_accuracy: 0.8736\n",
      "Epoch 98/200\n",
      "15/15 [==============================] - 0s 14ms/step - loss: 0.2039 - accuracy: 0.9168 - val_loss: 0.2726 - val_accuracy: 0.8894\n",
      "Epoch 99/200\n",
      "15/15 [==============================] - 0s 13ms/step - loss: 0.2132 - accuracy: 0.9116 - val_loss: 0.2860 - val_accuracy: 0.8825\n",
      "Epoch 100/200\n",
      "15/15 [==============================] - 0s 13ms/step - loss: 0.2104 - accuracy: 0.9143 - val_loss: 0.2955 - val_accuracy: 0.8791\n",
      "Epoch 101/200\n",
      "15/15 [==============================] - 0s 14ms/step - loss: 0.1957 - accuracy: 0.9197 - val_loss: 0.4247 - val_accuracy: 0.8406\n",
      "Epoch 102/200\n",
      "15/15 [==============================] - 0s 13ms/step - loss: 0.2046 - accuracy: 0.9162 - val_loss: 0.3956 - val_accuracy: 0.8514\n",
      "Epoch 103/200\n",
      "15/15 [==============================] - 0s 13ms/step - loss: 0.2023 - accuracy: 0.9141 - val_loss: 0.4076 - val_accuracy: 0.8450\n",
      "Epoch 104/200\n",
      "15/15 [==============================] - 0s 13ms/step - loss: 0.1932 - accuracy: 0.9179 - val_loss: 0.3738 - val_accuracy: 0.8564\n",
      "Epoch 105/200\n",
      "15/15 [==============================] - 0s 12ms/step - loss: 0.2047 - accuracy: 0.9181 - val_loss: 0.2769 - val_accuracy: 0.8894\n",
      "Epoch 106/200\n",
      "15/15 [==============================] - 0s 11ms/step - loss: 0.1979 - accuracy: 0.9190 - val_loss: 0.2980 - val_accuracy: 0.8791\n",
      "Epoch 107/200\n",
      "15/15 [==============================] - 0s 11ms/step - loss: 0.2023 - accuracy: 0.9146 - val_loss: 0.2853 - val_accuracy: 0.8810\n",
      "Epoch 108/200\n",
      "15/15 [==============================] - 0s 12ms/step - loss: 0.2129 - accuracy: 0.9120 - val_loss: 0.2762 - val_accuracy: 0.8909\n",
      "Epoch 109/200\n",
      "15/15 [==============================] - 0s 11ms/step - loss: 0.2011 - accuracy: 0.9185 - val_loss: 0.2831 - val_accuracy: 0.8850\n",
      "Epoch 110/200\n",
      "15/15 [==============================] - 0s 12ms/step - loss: 0.2048 - accuracy: 0.9151 - val_loss: 0.2645 - val_accuracy: 0.8885\n",
      "Epoch 111/200\n",
      "15/15 [==============================] - 0s 12ms/step - loss: 0.2097 - accuracy: 0.9120 - val_loss: 0.2617 - val_accuracy: 0.8870\n",
      "Epoch 112/200\n",
      "15/15 [==============================] - 0s 11ms/step - loss: 0.2036 - accuracy: 0.9152 - val_loss: 0.2665 - val_accuracy: 0.8914\n",
      "Epoch 113/200\n",
      "15/15 [==============================] - 0s 13ms/step - loss: 0.1975 - accuracy: 0.9174 - val_loss: 0.2935 - val_accuracy: 0.8766\n",
      "Epoch 114/200\n",
      "15/15 [==============================] - 0s 11ms/step - loss: 0.2026 - accuracy: 0.9173 - val_loss: 0.2684 - val_accuracy: 0.8880\n",
      "Epoch 115/200\n"
     ]
    },
    {
     "name": "stdout",
     "output_type": "stream",
     "text": [
      "15/15 [==============================] - 0s 11ms/step - loss: 0.1991 - accuracy: 0.9184 - val_loss: 0.2854 - val_accuracy: 0.8791\n",
      "Epoch 116/200\n",
      "15/15 [==============================] - 0s 11ms/step - loss: 0.2086 - accuracy: 0.9123 - val_loss: 0.2953 - val_accuracy: 0.8731\n",
      "Epoch 117/200\n",
      "15/15 [==============================] - 0s 12ms/step - loss: 0.2057 - accuracy: 0.9134 - val_loss: 0.2717 - val_accuracy: 0.8845\n",
      "Epoch 118/200\n",
      "15/15 [==============================] - 0s 10ms/step - loss: 0.1984 - accuracy: 0.9203 - val_loss: 0.2934 - val_accuracy: 0.8771\n",
      "Epoch 119/200\n",
      "15/15 [==============================] - 0s 11ms/step - loss: 0.1990 - accuracy: 0.9176 - val_loss: 0.3274 - val_accuracy: 0.8662\n",
      "Epoch 120/200\n",
      "15/15 [==============================] - 0s 11ms/step - loss: 0.1989 - accuracy: 0.9207 - val_loss: 0.3130 - val_accuracy: 0.8702\n",
      "Epoch 121/200\n",
      "15/15 [==============================] - 0s 11ms/step - loss: 0.1955 - accuracy: 0.9204 - val_loss: 0.2737 - val_accuracy: 0.8825\n",
      "Epoch 122/200\n",
      "15/15 [==============================] - 0s 12ms/step - loss: 0.1890 - accuracy: 0.9198 - val_loss: 0.2991 - val_accuracy: 0.8810\n",
      "Epoch 123/200\n",
      "15/15 [==============================] - 0s 12ms/step - loss: 0.1892 - accuracy: 0.9232 - val_loss: 0.3039 - val_accuracy: 0.8736\n",
      "Epoch 124/200\n",
      "15/15 [==============================] - 0s 12ms/step - loss: 0.1921 - accuracy: 0.9240 - val_loss: 0.2710 - val_accuracy: 0.8880\n",
      "Epoch 125/200\n",
      "15/15 [==============================] - 0s 12ms/step - loss: 0.1931 - accuracy: 0.9187 - val_loss: 0.3282 - val_accuracy: 0.8751\n",
      "Epoch 126/200\n",
      "15/15 [==============================] - 0s 11ms/step - loss: 0.2059 - accuracy: 0.9145 - val_loss: 0.2858 - val_accuracy: 0.8870\n",
      "Epoch 127/200\n",
      "15/15 [==============================] - 0s 11ms/step - loss: 0.1984 - accuracy: 0.9193 - val_loss: 0.2863 - val_accuracy: 0.8865\n",
      "Epoch 128/200\n",
      "15/15 [==============================] - 0s 12ms/step - loss: 0.2158 - accuracy: 0.9136 - val_loss: 0.3159 - val_accuracy: 0.8825\n",
      "Epoch 129/200\n",
      "15/15 [==============================] - 0s 12ms/step - loss: 0.2029 - accuracy: 0.9185 - val_loss: 0.3304 - val_accuracy: 0.8736\n",
      "Epoch 130/200\n",
      "15/15 [==============================] - 0s 11ms/step - loss: 0.1906 - accuracy: 0.9242 - val_loss: 0.3312 - val_accuracy: 0.8741\n",
      "Epoch 131/200\n",
      "15/15 [==============================] - 0s 11ms/step - loss: 0.2018 - accuracy: 0.9121 - val_loss: 0.2963 - val_accuracy: 0.8682\n",
      "Epoch 132/200\n",
      "15/15 [==============================] - 0s 11ms/step - loss: 0.1959 - accuracy: 0.9214 - val_loss: 0.3035 - val_accuracy: 0.8687\n",
      "Epoch 133/200\n",
      "15/15 [==============================] - 0s 10ms/step - loss: 0.1999 - accuracy: 0.9185 - val_loss: 0.2517 - val_accuracy: 0.8954\n",
      "Epoch 134/200\n",
      "15/15 [==============================] - 0s 11ms/step - loss: 0.2023 - accuracy: 0.9107 - val_loss: 0.2605 - val_accuracy: 0.8924\n",
      "Epoch 135/200\n",
      "15/15 [==============================] - 0s 11ms/step - loss: 0.1840 - accuracy: 0.9257 - val_loss: 0.3731 - val_accuracy: 0.8411\n",
      "Epoch 136/200\n",
      "15/15 [==============================] - 0s 12ms/step - loss: 0.2002 - accuracy: 0.9168 - val_loss: 0.2724 - val_accuracy: 0.8899\n",
      "Epoch 137/200\n",
      "15/15 [==============================] - 0s 11ms/step - loss: 0.1902 - accuracy: 0.9202 - val_loss: 0.3153 - val_accuracy: 0.8618\n",
      "Epoch 138/200\n",
      "15/15 [==============================] - 0s 11ms/step - loss: 0.1956 - accuracy: 0.9180 - val_loss: 0.3416 - val_accuracy: 0.8574\n",
      "Epoch 139/200\n",
      "15/15 [==============================] - 0s 11ms/step - loss: 0.1952 - accuracy: 0.9214 - val_loss: 0.4599 - val_accuracy: 0.8228\n",
      "Epoch 140/200\n",
      "15/15 [==============================] - 0s 11ms/step - loss: 0.1886 - accuracy: 0.9206 - val_loss: 0.4163 - val_accuracy: 0.8411\n",
      "Epoch 141/200\n",
      "15/15 [==============================] - 0s 11ms/step - loss: 0.1912 - accuracy: 0.9237 - val_loss: 0.4995 - val_accuracy: 0.7991\n",
      "Epoch 142/200\n",
      "15/15 [==============================] - 0s 11ms/step - loss: 0.1901 - accuracy: 0.9226 - val_loss: 0.2846 - val_accuracy: 0.8830\n",
      "Epoch 143/200\n",
      "15/15 [==============================] - 0s 13ms/step - loss: 0.1882 - accuracy: 0.9224 - val_loss: 0.2597 - val_accuracy: 0.8934\n",
      "Epoch 144/200\n",
      "15/15 [==============================] - 0s 12ms/step - loss: 0.1964 - accuracy: 0.9195 - val_loss: 0.2730 - val_accuracy: 0.8845\n",
      "Epoch 145/200\n",
      "15/15 [==============================] - 0s 12ms/step - loss: 0.2056 - accuracy: 0.9163 - val_loss: 0.2820 - val_accuracy: 0.8885\n",
      "Epoch 146/200\n",
      "15/15 [==============================] - 0s 11ms/step - loss: 0.1952 - accuracy: 0.9213 - val_loss: 0.2916 - val_accuracy: 0.8766\n",
      "Epoch 147/200\n",
      "15/15 [==============================] - 0s 11ms/step - loss: 0.1951 - accuracy: 0.9203 - val_loss: 0.2705 - val_accuracy: 0.8889\n",
      "Epoch 148/200\n",
      "15/15 [==============================] - 0s 12ms/step - loss: 0.1935 - accuracy: 0.9212 - val_loss: 0.2693 - val_accuracy: 0.8959\n",
      "Epoch 149/200\n",
      "15/15 [==============================] - 0s 13ms/step - loss: 0.1910 - accuracy: 0.9196 - val_loss: 0.3276 - val_accuracy: 0.8727\n",
      "Epoch 150/200\n",
      "15/15 [==============================] - 0s 12ms/step - loss: 0.2079 - accuracy: 0.9152 - val_loss: 0.3240 - val_accuracy: 0.8731\n",
      "Epoch 151/200\n",
      "15/15 [==============================] - 0s 11ms/step - loss: 0.1900 - accuracy: 0.9242 - val_loss: 0.3101 - val_accuracy: 0.8806\n",
      "Epoch 152/200\n",
      "15/15 [==============================] - 0s 11ms/step - loss: 0.1927 - accuracy: 0.9198 - val_loss: 0.3275 - val_accuracy: 0.8697\n",
      "Epoch 153/200\n",
      "15/15 [==============================] - 0s 11ms/step - loss: 0.1923 - accuracy: 0.9212 - val_loss: 0.3722 - val_accuracy: 0.8588\n",
      "Epoch 154/200\n",
      "15/15 [==============================] - 0s 11ms/step - loss: 0.1943 - accuracy: 0.9213 - val_loss: 0.3587 - val_accuracy: 0.8608\n",
      "Epoch 155/200\n",
      "15/15 [==============================] - 0s 11ms/step - loss: 0.1914 - accuracy: 0.9197 - val_loss: 0.3002 - val_accuracy: 0.8717\n",
      "Epoch 156/200\n",
      "15/15 [==============================] - 0s 12ms/step - loss: 0.1984 - accuracy: 0.9200 - val_loss: 0.3383 - val_accuracy: 0.8569\n",
      "Epoch 157/200\n",
      "15/15 [==============================] - 0s 12ms/step - loss: 0.1908 - accuracy: 0.9242 - val_loss: 0.3166 - val_accuracy: 0.8692\n",
      "Epoch 158/200\n",
      "15/15 [==============================] - 0s 11ms/step - loss: 0.1870 - accuracy: 0.9246 - val_loss: 0.3073 - val_accuracy: 0.8776\n",
      "Epoch 159/200\n",
      "15/15 [==============================] - 0s 11ms/step - loss: 0.2005 - accuracy: 0.9188 - val_loss: 0.2982 - val_accuracy: 0.8746\n",
      "Epoch 160/200\n",
      "15/15 [==============================] - 0s 11ms/step - loss: 0.1965 - accuracy: 0.9221 - val_loss: 0.2777 - val_accuracy: 0.8860\n",
      "Epoch 161/200\n",
      "15/15 [==============================] - 0s 11ms/step - loss: 0.1887 - accuracy: 0.9251 - val_loss: 0.2806 - val_accuracy: 0.8815\n",
      "Epoch 162/200\n",
      "15/15 [==============================] - 0s 11ms/step - loss: 0.1854 - accuracy: 0.9271 - val_loss: 0.2738 - val_accuracy: 0.8914\n",
      "Epoch 163/200\n",
      "15/15 [==============================] - 0s 11ms/step - loss: 0.1907 - accuracy: 0.9211 - val_loss: 0.2763 - val_accuracy: 0.8914\n",
      "Epoch 164/200\n",
      "15/15 [==============================] - 0s 12ms/step - loss: 0.1832 - accuracy: 0.9241 - val_loss: 0.2962 - val_accuracy: 0.8781\n",
      "Epoch 165/200\n",
      "15/15 [==============================] - 0s 12ms/step - loss: 0.1966 - accuracy: 0.9145 - val_loss: 0.2958 - val_accuracy: 0.8840\n",
      "Epoch 166/200\n",
      "15/15 [==============================] - 0s 10ms/step - loss: 0.2041 - accuracy: 0.9135 - val_loss: 0.3006 - val_accuracy: 0.8820\n",
      "Epoch 167/200\n",
      "15/15 [==============================] - 0s 12ms/step - loss: 0.2003 - accuracy: 0.9178 - val_loss: 0.3368 - val_accuracy: 0.8687\n",
      "Epoch 168/200\n",
      "15/15 [==============================] - 0s 12ms/step - loss: 0.1952 - accuracy: 0.9180 - val_loss: 0.2905 - val_accuracy: 0.8860\n",
      "Epoch 169/200\n",
      "15/15 [==============================] - 0s 12ms/step - loss: 0.1833 - accuracy: 0.9252 - val_loss: 0.3224 - val_accuracy: 0.8756\n",
      "Epoch 170/200\n",
      "15/15 [==============================] - 0s 11ms/step - loss: 0.1936 - accuracy: 0.9214 - val_loss: 0.3306 - val_accuracy: 0.8662\n",
      "Epoch 171/200\n",
      "15/15 [==============================] - 0s 13ms/step - loss: 0.1983 - accuracy: 0.9194 - val_loss: 0.4744 - val_accuracy: 0.8228\n"
     ]
    },
    {
     "name": "stdout",
     "output_type": "stream",
     "text": [
      "Epoch 172/200\n",
      "15/15 [==============================] - 0s 10ms/step - loss: 0.1944 - accuracy: 0.9178 - val_loss: 0.3794 - val_accuracy: 0.8514\n",
      "Epoch 173/200\n",
      "15/15 [==============================] - 0s 10ms/step - loss: 0.1890 - accuracy: 0.9236 - val_loss: 0.3352 - val_accuracy: 0.8697\n",
      "Epoch 174/200\n",
      "15/15 [==============================] - 0s 12ms/step - loss: 0.1818 - accuracy: 0.9241 - val_loss: 0.3464 - val_accuracy: 0.8613\n",
      "Epoch 175/200\n",
      "15/15 [==============================] - 0s 24ms/step - loss: 0.1971 - accuracy: 0.9194 - val_loss: 0.3106 - val_accuracy: 0.8756\n",
      "Epoch 176/200\n",
      "15/15 [==============================] - 0s 12ms/step - loss: 0.1952 - accuracy: 0.9199 - val_loss: 0.3194 - val_accuracy: 0.8741\n",
      "Epoch 177/200\n",
      "15/15 [==============================] - 0s 10ms/step - loss: 0.1855 - accuracy: 0.9234 - val_loss: 0.3283 - val_accuracy: 0.8697\n",
      "Epoch 178/200\n",
      "15/15 [==============================] - 0s 10ms/step - loss: 0.1934 - accuracy: 0.9197 - val_loss: 0.3420 - val_accuracy: 0.8583\n",
      "Epoch 179/200\n",
      "15/15 [==============================] - 0s 11ms/step - loss: 0.1895 - accuracy: 0.9203 - val_loss: 0.3273 - val_accuracy: 0.8682\n",
      "Epoch 180/200\n",
      "15/15 [==============================] - 0s 12ms/step - loss: 0.1824 - accuracy: 0.9271 - val_loss: 0.3051 - val_accuracy: 0.8756\n",
      "Epoch 181/200\n",
      "15/15 [==============================] - 0s 10ms/step - loss: 0.2000 - accuracy: 0.9169 - val_loss: 0.2797 - val_accuracy: 0.8781\n",
      "Epoch 182/200\n",
      "15/15 [==============================] - 0s 10ms/step - loss: 0.1862 - accuracy: 0.9200 - val_loss: 0.2844 - val_accuracy: 0.8815\n",
      "Epoch 183/200\n",
      "15/15 [==============================] - 0s 10ms/step - loss: 0.1832 - accuracy: 0.9236 - val_loss: 0.2801 - val_accuracy: 0.8801\n",
      "Epoch 184/200\n",
      "15/15 [==============================] - 0s 12ms/step - loss: 0.1860 - accuracy: 0.9240 - val_loss: 0.2645 - val_accuracy: 0.8894\n",
      "Epoch 185/200\n",
      "15/15 [==============================] - 0s 10ms/step - loss: 0.1923 - accuracy: 0.9188 - val_loss: 0.3146 - val_accuracy: 0.8707\n",
      "Epoch 186/200\n",
      "15/15 [==============================] - 0s 10ms/step - loss: 0.1895 - accuracy: 0.9197 - val_loss: 0.2776 - val_accuracy: 0.8889\n",
      "Epoch 187/200\n",
      "15/15 [==============================] - 0s 11ms/step - loss: 0.1834 - accuracy: 0.9249 - val_loss: 0.2586 - val_accuracy: 0.8949\n",
      "Epoch 188/200\n",
      "15/15 [==============================] - 0s 12ms/step - loss: 0.1944 - accuracy: 0.9217 - val_loss: 0.2616 - val_accuracy: 0.8959\n",
      "Epoch 189/200\n",
      "15/15 [==============================] - 0s 12ms/step - loss: 0.1912 - accuracy: 0.9214 - val_loss: 0.2819 - val_accuracy: 0.8761\n",
      "Epoch 190/200\n",
      "15/15 [==============================] - 0s 11ms/step - loss: 0.1903 - accuracy: 0.9213 - val_loss: 0.2918 - val_accuracy: 0.8806\n",
      "Epoch 191/200\n",
      "15/15 [==============================] - 0s 11ms/step - loss: 0.1834 - accuracy: 0.9273 - val_loss: 0.3032 - val_accuracy: 0.8796\n",
      "Epoch 192/200\n",
      "15/15 [==============================] - 0s 13ms/step - loss: 0.1939 - accuracy: 0.9172 - val_loss: 0.3217 - val_accuracy: 0.8653\n",
      "Epoch 193/200\n",
      "15/15 [==============================] - 0s 12ms/step - loss: 0.1811 - accuracy: 0.9233 - val_loss: 0.2843 - val_accuracy: 0.8825\n",
      "Epoch 194/200\n",
      "15/15 [==============================] - 0s 11ms/step - loss: 0.1839 - accuracy: 0.9215 - val_loss: 0.4098 - val_accuracy: 0.8366\n",
      "Epoch 195/200\n",
      "15/15 [==============================] - 0s 12ms/step - loss: 0.1858 - accuracy: 0.9219 - val_loss: 0.2924 - val_accuracy: 0.8801\n",
      "Epoch 196/200\n",
      "15/15 [==============================] - 0s 12ms/step - loss: 0.1872 - accuracy: 0.9209 - val_loss: 0.3129 - val_accuracy: 0.8766\n",
      "Epoch 197/200\n",
      "15/15 [==============================] - 0s 11ms/step - loss: 0.1938 - accuracy: 0.9211 - val_loss: 0.2868 - val_accuracy: 0.8880\n",
      "Epoch 198/200\n",
      "15/15 [==============================] - 0s 11ms/step - loss: 0.1838 - accuracy: 0.9239 - val_loss: 0.3066 - val_accuracy: 0.8801\n",
      "Epoch 199/200\n",
      "15/15 [==============================] - 0s 13ms/step - loss: 0.1947 - accuracy: 0.9229 - val_loss: 0.3476 - val_accuracy: 0.8603\n",
      "Epoch 200/200\n",
      "15/15 [==============================] - 0s 13ms/step - loss: 0.1907 - accuracy: 0.9202 - val_loss: 0.2982 - val_accuracy: 0.8885\n",
      "Time:  36.664972871003556\n"
     ]
    }
   ],
   "source": [
    "\n",
    "\n",
    "import timeit\n",
    "\n",
    "start = timeit.default_timer()\n",
    "\n",
    "#Your statements here\n",
    "\n",
    "bestNN2=create_modelWithDropBatch2(hidden_layers= 2, learning_rate= 0.001)\n",
    "history3 = bestNN2.fit(\n",
    "     scaled_XKmeans, y_train_res,\n",
    "    validation_data=(scaled_XValid, y_valid),\n",
    "    batch_size=512,\n",
    "    epochs=200,\n",
    "#     callbacks=[early_stopping],\n",
    ")\n",
    "stop = timeit.default_timer()\n",
    "\n",
    "print('Time: ', stop - start)  \n"
   ]
  },
  {
   "cell_type": "code",
   "execution_count": 132,
   "metadata": {
    "scrolled": false
   },
   "outputs": [
    {
     "name": "stderr",
     "output_type": "stream",
     "text": [
      "/home/dheekshitha-vibha/miniconda3/envs/myenv/lib/python3.6/site-packages/tensorflow/python/keras/engine/sequential.py:450: UserWarning: `model.predict_classes()` is deprecated and will be removed after 2021-01-01. Please use instead:* `np.argmax(model.predict(x), axis=-1)`,   if your model does multi-class classification   (e.g. if it uses a `softmax` last-layer activation).* `(model.predict(x) > 0.5).astype(\"int32\")`,   if your model does binary classification   (e.g. if it uses a `sigmoid` last-layer activation).\n",
      "  warnings.warn('`model.predict_classes()` is deprecated and '\n"
     ]
    },
    {
     "name": "stdout",
     "output_type": "stream",
     "text": [
      "Accuracy_Score: 66.67100977198697 %\n",
      "precision_score: 66.67100977198697 %\n",
      "recall_score: 100.0 %\n"
     ]
    },
    {
     "data": {
      "image/png": "[encoded data removed]",
      "text/plain": [
       "<Figure size 432x288 with 1 Axes>"
      ]
     },
     "metadata": {
      "needs_background": "light"
     },
     "output_type": "display_data"
    },
    {
     "data": {
      "image/png": "[encoded data removed]",
      "text/plain": [
       "<Figure size 432x288 with 1 Axes>"
      ]
     },
     "metadata": {
      "needs_background": "light"
     },
     "output_type": "display_data"
    }
   ],
   "source": [
    "history_df = pd.DataFrame(history3.history)\n",
    "history_df.loc[:, ['loss', 'val_loss']].plot(title=\"Cross-entropy\")\n",
    "history_df.loc[:, ['accuracy', 'val_accuracy']].plot(title=\"Accuracy\")\n",
    "\n",
    "y_pred_SVM = bestNN2.predict_classes(XtrainData)\n",
    "\n",
    "\n",
    "# print('Classification report: \\n', metrics.classification_report(y_test, model))\n",
    "print('Accuracy_Score:',metrics.accuracy_score(y_train_res, y_pred_SVM)*100,'%')\n",
    "\n",
    "\n",
    "print('precision_score:',metrics.precision_score(y_train_res, y_pred_SVM)*100,'%')\n",
    "\n",
    "print('recall_score:',metrics.recall_score(y_train_res, y_pred_SVM)*100,'%')"
   ]
  },
  {
   "cell_type": "code",
   "execution_count": 90,
   "metadata": {
    "scrolled": true
   },
   "outputs": [
    {
     "name": "stdout",
     "output_type": "stream",
     "text": [
      "Epoch 1/200\n",
      "15/15 [==============================] - 1s 18ms/step - loss: 0.8632 - accuracy: 0.4324 - val_loss: 0.5199 - val_accuracy: 0.8327\n",
      "Epoch 2/200\n",
      "15/15 [==============================] - 0s 7ms/step - loss: 0.6379 - accuracy: 0.5595 - val_loss: 0.5136 - val_accuracy: 0.8327\n",
      "Epoch 3/200\n",
      "15/15 [==============================] - 0s 7ms/step - loss: 0.5906 - accuracy: 0.6102 - val_loss: 0.5506 - val_accuracy: 0.8327\n",
      "Epoch 4/200\n",
      "15/15 [==============================] - 0s 7ms/step - loss: 0.5462 - accuracy: 0.6781 - val_loss: 0.5859 - val_accuracy: 0.8327\n",
      "Epoch 5/200\n",
      "15/15 [==============================] - 0s 7ms/step - loss: 0.5108 - accuracy: 0.7391 - val_loss: 0.5972 - val_accuracy: 0.8327\n",
      "Epoch 6/200\n",
      "15/15 [==============================] - 0s 7ms/step - loss: 0.4679 - accuracy: 0.7746 - val_loss: 0.6064 - val_accuracy: 0.8346\n",
      "Epoch 7/200\n",
      "15/15 [==============================] - 0s 7ms/step - loss: 0.4433 - accuracy: 0.7987 - val_loss: 0.5476 - val_accuracy: 0.8327\n",
      "Epoch 8/200\n",
      "15/15 [==============================] - 0s 7ms/step - loss: 0.4204 - accuracy: 0.8156 - val_loss: 0.5760 - val_accuracy: 0.8386\n",
      "Epoch 9/200\n",
      "15/15 [==============================] - 0s 8ms/step - loss: 0.4033 - accuracy: 0.8294 - val_loss: 0.5384 - val_accuracy: 0.8475\n",
      "Epoch 10/200\n",
      "15/15 [==============================] - 0s 7ms/step - loss: 0.3877 - accuracy: 0.8376 - val_loss: 0.5112 - val_accuracy: 0.8583\n",
      "Epoch 11/200\n",
      "15/15 [==============================] - 0s 7ms/step - loss: 0.3813 - accuracy: 0.8411 - val_loss: 0.5718 - val_accuracy: 0.8361\n",
      "Epoch 12/200\n",
      "15/15 [==============================] - 0s 7ms/step - loss: 0.3661 - accuracy: 0.8514 - val_loss: 0.5552 - val_accuracy: 0.8455\n",
      "Epoch 13/200\n",
      "15/15 [==============================] - 0s 7ms/step - loss: 0.3593 - accuracy: 0.8538 - val_loss: 0.6510 - val_accuracy: 0.6269\n",
      "Epoch 14/200\n",
      "15/15 [==============================] - 0s 7ms/step - loss: 0.3557 - accuracy: 0.8642 - val_loss: 0.7086 - val_accuracy: 0.3327\n",
      "Epoch 15/200\n",
      "15/15 [==============================] - 0s 6ms/step - loss: 0.3427 - accuracy: 0.8688 - val_loss: 0.6699 - val_accuracy: 0.5513\n",
      "Epoch 16/200\n",
      "15/15 [==============================] - 0s 7ms/step - loss: 0.3379 - accuracy: 0.8691 - val_loss: 0.5357 - val_accuracy: 0.8213\n",
      "Epoch 17/200\n",
      "15/15 [==============================] - 0s 8ms/step - loss: 0.3324 - accuracy: 0.8747 - val_loss: 0.6561 - val_accuracy: 0.5587\n",
      "Epoch 18/200\n",
      "15/15 [==============================] - 0s 7ms/step - loss: 0.3157 - accuracy: 0.8814 - val_loss: 0.8999 - val_accuracy: 0.1871\n",
      "Epoch 19/200\n",
      "15/15 [==============================] - 0s 7ms/step - loss: 0.3194 - accuracy: 0.8808 - val_loss: 0.7891 - val_accuracy: 0.2868\n",
      "Epoch 20/200\n",
      "15/15 [==============================] - 0s 7ms/step - loss: 0.3241 - accuracy: 0.8756 - val_loss: 0.7251 - val_accuracy: 0.3687\n",
      "Epoch 21/200\n",
      "15/15 [==============================] - 0s 7ms/step - loss: 0.3127 - accuracy: 0.8755 - val_loss: 0.4412 - val_accuracy: 0.8786\n",
      "Epoch 22/200\n",
      "15/15 [==============================] - 0s 7ms/step - loss: 0.3084 - accuracy: 0.8796 - val_loss: 0.4761 - val_accuracy: 0.8500\n",
      "Epoch 23/200\n",
      "15/15 [==============================] - 0s 7ms/step - loss: 0.3085 - accuracy: 0.8914 - val_loss: 0.5112 - val_accuracy: 0.7971\n",
      "Epoch 24/200\n",
      "15/15 [==============================] - 0s 7ms/step - loss: 0.3044 - accuracy: 0.8819 - val_loss: 0.5718 - val_accuracy: 0.6974\n",
      "Epoch 25/200\n",
      "15/15 [==============================] - 0s 6ms/step - loss: 0.3031 - accuracy: 0.8877 - val_loss: 0.4717 - val_accuracy: 0.8307\n",
      "Epoch 26/200\n",
      "15/15 [==============================] - 0s 7ms/step - loss: 0.2939 - accuracy: 0.8907 - val_loss: 0.3683 - val_accuracy: 0.8835\n",
      "Epoch 27/200\n",
      "15/15 [==============================] - 0s 8ms/step - loss: 0.2870 - accuracy: 0.8911 - val_loss: 0.3881 - val_accuracy: 0.8840\n",
      "Epoch 28/200\n",
      "15/15 [==============================] - 0s 8ms/step - loss: 0.2971 - accuracy: 0.8883 - val_loss: 0.3753 - val_accuracy: 0.8855\n",
      "Epoch 29/200\n",
      "15/15 [==============================] - 0s 8ms/step - loss: 0.2974 - accuracy: 0.8867 - val_loss: 0.6996 - val_accuracy: 0.5721\n",
      "Epoch 30/200\n",
      "15/15 [==============================] - 0s 6ms/step - loss: 0.2992 - accuracy: 0.8868 - val_loss: 0.6250 - val_accuracy: 0.6333\n",
      "Epoch 31/200\n",
      "15/15 [==============================] - 0s 7ms/step - loss: 0.2943 - accuracy: 0.8918 - val_loss: 0.3999 - val_accuracy: 0.8588\n",
      "Epoch 32/200\n",
      "15/15 [==============================] - 0s 7ms/step - loss: 0.2894 - accuracy: 0.8925 - val_loss: 0.3481 - val_accuracy: 0.8781\n",
      "Epoch 33/200\n",
      "15/15 [==============================] - 0s 7ms/step - loss: 0.2834 - accuracy: 0.8919 - val_loss: 0.4138 - val_accuracy: 0.8248\n",
      "Epoch 34/200\n",
      "15/15 [==============================] - 0s 7ms/step - loss: 0.2813 - accuracy: 0.8966 - val_loss: 0.4094 - val_accuracy: 0.8268\n",
      "Epoch 35/200\n",
      "15/15 [==============================] - 0s 7ms/step - loss: 0.2890 - accuracy: 0.8888 - val_loss: 0.3626 - val_accuracy: 0.8667\n",
      "Epoch 36/200\n",
      "15/15 [==============================] - 0s 6ms/step - loss: 0.2895 - accuracy: 0.8939 - val_loss: 0.3528 - val_accuracy: 0.8707\n",
      "Epoch 37/200\n",
      "15/15 [==============================] - 0s 6ms/step - loss: 0.2818 - accuracy: 0.8954 - val_loss: 0.4190 - val_accuracy: 0.8342\n",
      "Epoch 38/200\n",
      "15/15 [==============================] - 0s 7ms/step - loss: 0.2770 - accuracy: 0.8970 - val_loss: 0.4685 - val_accuracy: 0.7720\n",
      "Epoch 39/200\n",
      "15/15 [==============================] - 0s 7ms/step - loss: 0.2946 - accuracy: 0.8912 - val_loss: 0.3487 - val_accuracy: 0.8598\n",
      "Epoch 40/200\n",
      "15/15 [==============================] - 0s 7ms/step - loss: 0.2788 - accuracy: 0.8984 - val_loss: 0.3573 - val_accuracy: 0.8578\n",
      "Epoch 41/200\n",
      "15/15 [==============================] - 0s 6ms/step - loss: 0.2772 - accuracy: 0.8965 - val_loss: 0.3432 - val_accuracy: 0.8534\n",
      "Epoch 42/200\n",
      "15/15 [==============================] - 0s 7ms/step - loss: 0.2683 - accuracy: 0.8954 - val_loss: 0.3186 - val_accuracy: 0.8687\n",
      "Epoch 43/200\n",
      "15/15 [==============================] - 0s 7ms/step - loss: 0.2762 - accuracy: 0.9001 - val_loss: 0.3607 - val_accuracy: 0.8554\n",
      "Epoch 44/200\n",
      "15/15 [==============================] - 0s 6ms/step - loss: 0.2792 - accuracy: 0.8958 - val_loss: 0.4562 - val_accuracy: 0.7991\n",
      "Epoch 45/200\n",
      "15/15 [==============================] - 0s 7ms/step - loss: 0.2815 - accuracy: 0.8964 - val_loss: 0.3111 - val_accuracy: 0.8840\n",
      "Epoch 46/200\n",
      "15/15 [==============================] - 0s 7ms/step - loss: 0.2809 - accuracy: 0.8978 - val_loss: 0.3518 - val_accuracy: 0.8524\n",
      "Epoch 47/200\n",
      "15/15 [==============================] - 0s 7ms/step - loss: 0.2791 - accuracy: 0.8947 - val_loss: 0.3088 - val_accuracy: 0.8850\n",
      "Epoch 48/200\n",
      "15/15 [==============================] - 0s 6ms/step - loss: 0.2687 - accuracy: 0.9015 - val_loss: 0.3720 - val_accuracy: 0.8519\n",
      "Epoch 49/200\n",
      "15/15 [==============================] - 0s 7ms/step - loss: 0.2671 - accuracy: 0.8970 - val_loss: 0.3468 - val_accuracy: 0.8613\n",
      "Epoch 50/200\n",
      "15/15 [==============================] - 0s 7ms/step - loss: 0.2715 - accuracy: 0.9000 - val_loss: 0.3514 - val_accuracy: 0.8667\n",
      "Epoch 51/200\n",
      "15/15 [==============================] - 0s 7ms/step - loss: 0.2734 - accuracy: 0.8952 - val_loss: 0.5702 - val_accuracy: 0.7468\n",
      "Epoch 52/200\n",
      "15/15 [==============================] - 0s 7ms/step - loss: 0.2663 - accuracy: 0.8977 - val_loss: 0.3065 - val_accuracy: 0.8776\n",
      "Epoch 53/200\n",
      "15/15 [==============================] - 0s 7ms/step - loss: 0.2617 - accuracy: 0.9034 - val_loss: 1.1162 - val_accuracy: 0.5291\n",
      "Epoch 54/200\n",
      "15/15 [==============================] - 0s 6ms/step - loss: 0.2750 - accuracy: 0.9025 - val_loss: 0.6701 - val_accuracy: 0.7127\n",
      "Epoch 55/200\n",
      "15/15 [==============================] - 0s 7ms/step - loss: 0.2634 - accuracy: 0.9023 - val_loss: 0.8575 - val_accuracy: 0.6249\n",
      "Epoch 56/200\n",
      "15/15 [==============================] - 0s 7ms/step - loss: 0.2695 - accuracy: 0.8976 - val_loss: 0.3058 - val_accuracy: 0.8771\n",
      "Epoch 57/200\n",
      "15/15 [==============================] - 0s 8ms/step - loss: 0.2675 - accuracy: 0.8968 - val_loss: 0.3425 - val_accuracy: 0.8593\n",
      "Epoch 58/200\n",
      "15/15 [==============================] - 0s 6ms/step - loss: 0.2704 - accuracy: 0.8972 - val_loss: 0.3104 - val_accuracy: 0.8712\n"
     ]
    },
    {
     "name": "stdout",
     "output_type": "stream",
     "text": [
      "Epoch 59/200\n",
      "15/15 [==============================] - 0s 6ms/step - loss: 0.2634 - accuracy: 0.9008 - val_loss: 1.1163 - val_accuracy: 0.4773\n",
      "Epoch 60/200\n",
      "15/15 [==============================] - 0s 6ms/step - loss: 0.2686 - accuracy: 0.9001 - val_loss: 1.0017 - val_accuracy: 0.5000\n",
      "Epoch 61/200\n",
      "15/15 [==============================] - 0s 6ms/step - loss: 0.2553 - accuracy: 0.9005 - val_loss: 0.4226 - val_accuracy: 0.8169\n",
      "Epoch 62/200\n",
      "15/15 [==============================] - 0s 8ms/step - loss: 0.2711 - accuracy: 0.8972 - val_loss: 0.3241 - val_accuracy: 0.8736\n",
      "Epoch 63/200\n",
      "15/15 [==============================] - 0s 7ms/step - loss: 0.2693 - accuracy: 0.8999 - val_loss: 0.3060 - val_accuracy: 0.8756\n",
      "Epoch 64/200\n",
      "15/15 [==============================] - 0s 6ms/step - loss: 0.2668 - accuracy: 0.8977 - val_loss: 0.3825 - val_accuracy: 0.8460\n",
      "Epoch 65/200\n",
      "15/15 [==============================] - 0s 6ms/step - loss: 0.2654 - accuracy: 0.8986 - val_loss: 0.4579 - val_accuracy: 0.8124\n",
      "Epoch 66/200\n",
      "15/15 [==============================] - 0s 18ms/step - loss: 0.2671 - accuracy: 0.9011 - val_loss: 0.4442 - val_accuracy: 0.8203\n",
      "Epoch 67/200\n",
      "15/15 [==============================] - 0s 6ms/step - loss: 0.2676 - accuracy: 0.9003 - val_loss: 0.2947 - val_accuracy: 0.8835\n",
      "Epoch 68/200\n",
      "15/15 [==============================] - 0s 7ms/step - loss: 0.2748 - accuracy: 0.8977 - val_loss: 0.3425 - val_accuracy: 0.8633\n",
      "Epoch 69/200\n",
      "15/15 [==============================] - 0s 6ms/step - loss: 0.2610 - accuracy: 0.8989 - val_loss: 0.2981 - val_accuracy: 0.8820\n",
      "Epoch 70/200\n",
      "15/15 [==============================] - 0s 8ms/step - loss: 0.2642 - accuracy: 0.8978 - val_loss: 0.3036 - val_accuracy: 0.8835\n",
      "Epoch 71/200\n",
      "15/15 [==============================] - 0s 6ms/step - loss: 0.2673 - accuracy: 0.9016 - val_loss: 0.3161 - val_accuracy: 0.8771\n",
      "Epoch 72/200\n",
      "15/15 [==============================] - 0s 6ms/step - loss: 0.2643 - accuracy: 0.9041 - val_loss: 0.3446 - val_accuracy: 0.8603\n",
      "Epoch 73/200\n",
      "15/15 [==============================] - 0s 6ms/step - loss: 0.2664 - accuracy: 0.8997 - val_loss: 0.3004 - val_accuracy: 0.8820\n",
      "Epoch 74/200\n",
      "15/15 [==============================] - 0s 6ms/step - loss: 0.2623 - accuracy: 0.8986 - val_loss: 0.3016 - val_accuracy: 0.8830\n",
      "Epoch 75/200\n",
      "15/15 [==============================] - 0s 7ms/step - loss: 0.2703 - accuracy: 0.8959 - val_loss: 0.3337 - val_accuracy: 0.8751\n",
      "Epoch 76/200\n",
      "15/15 [==============================] - 0s 7ms/step - loss: 0.2659 - accuracy: 0.9006 - val_loss: 0.3720 - val_accuracy: 0.8569\n",
      "Epoch 77/200\n",
      "15/15 [==============================] - 0s 7ms/step - loss: 0.2686 - accuracy: 0.8922 - val_loss: 0.3415 - val_accuracy: 0.8613\n",
      "Epoch 78/200\n",
      "15/15 [==============================] - 0s 6ms/step - loss: 0.2618 - accuracy: 0.9044 - val_loss: 0.3184 - val_accuracy: 0.8746\n",
      "Epoch 79/200\n",
      "15/15 [==============================] - 0s 7ms/step - loss: 0.2672 - accuracy: 0.8985 - val_loss: 0.4184 - val_accuracy: 0.8485\n",
      "Epoch 80/200\n",
      "15/15 [==============================] - 0s 7ms/step - loss: 0.2729 - accuracy: 0.8973 - val_loss: 0.3030 - val_accuracy: 0.8791\n",
      "Epoch 81/200\n",
      "15/15 [==============================] - 0s 7ms/step - loss: 0.2706 - accuracy: 0.8955 - val_loss: 0.3096 - val_accuracy: 0.8820\n",
      "Epoch 82/200\n",
      "15/15 [==============================] - 0s 7ms/step - loss: 0.2646 - accuracy: 0.9013 - val_loss: 0.4063 - val_accuracy: 0.8401\n",
      "Epoch 83/200\n",
      "15/15 [==============================] - 0s 7ms/step - loss: 0.2472 - accuracy: 0.9036 - val_loss: 0.4007 - val_accuracy: 0.8366\n",
      "Epoch 84/200\n",
      "15/15 [==============================] - 0s 7ms/step - loss: 0.2525 - accuracy: 0.9055 - val_loss: 0.3206 - val_accuracy: 0.8771\n",
      "Epoch 85/200\n",
      "15/15 [==============================] - 0s 8ms/step - loss: 0.2625 - accuracy: 0.9026 - val_loss: 0.3059 - val_accuracy: 0.8786\n",
      "Epoch 86/200\n",
      "15/15 [==============================] - 0s 7ms/step - loss: 0.2596 - accuracy: 0.9008 - val_loss: 0.2998 - val_accuracy: 0.8840\n",
      "Epoch 87/200\n",
      "15/15 [==============================] - 0s 7ms/step - loss: 0.2684 - accuracy: 0.8981 - val_loss: 0.3109 - val_accuracy: 0.8781\n",
      "Epoch 88/200\n",
      "15/15 [==============================] - 0s 6ms/step - loss: 0.2686 - accuracy: 0.8950 - val_loss: 0.2986 - val_accuracy: 0.8801\n",
      "Epoch 89/200\n",
      "15/15 [==============================] - 0s 7ms/step - loss: 0.2685 - accuracy: 0.8977 - val_loss: 0.4168 - val_accuracy: 0.8287\n",
      "Epoch 90/200\n",
      "15/15 [==============================] - 0s 7ms/step - loss: 0.2706 - accuracy: 0.8943 - val_loss: 0.5359 - val_accuracy: 0.7700\n",
      "Epoch 91/200\n",
      "15/15 [==============================] - 0s 8ms/step - loss: 0.2684 - accuracy: 0.8992 - val_loss: 2.4397 - val_accuracy: 0.2438\n",
      "Epoch 92/200\n",
      "15/15 [==============================] - 0s 6ms/step - loss: 0.2526 - accuracy: 0.9075 - val_loss: 0.6629 - val_accuracy: 0.7241\n",
      "Epoch 93/200\n",
      "15/15 [==============================] - 0s 7ms/step - loss: 0.2666 - accuracy: 0.8967 - val_loss: 0.5566 - val_accuracy: 0.7636\n",
      "Epoch 94/200\n",
      "15/15 [==============================] - 0s 6ms/step - loss: 0.2644 - accuracy: 0.9032 - val_loss: 0.4748 - val_accuracy: 0.8139\n",
      "Epoch 95/200\n",
      "15/15 [==============================] - 0s 7ms/step - loss: 0.2595 - accuracy: 0.9009 - val_loss: 0.3405 - val_accuracy: 0.8628\n",
      "Epoch 96/200\n",
      "15/15 [==============================] - 0s 6ms/step - loss: 0.2722 - accuracy: 0.8975 - val_loss: 0.3953 - val_accuracy: 0.8401\n",
      "Epoch 97/200\n",
      "15/15 [==============================] - 0s 6ms/step - loss: 0.2670 - accuracy: 0.8988 - val_loss: 0.3864 - val_accuracy: 0.8455\n",
      "Epoch 98/200\n",
      "15/15 [==============================] - 0s 6ms/step - loss: 0.2651 - accuracy: 0.8988 - val_loss: 0.3021 - val_accuracy: 0.8810\n",
      "Epoch 99/200\n",
      "15/15 [==============================] - 0s 6ms/step - loss: 0.2692 - accuracy: 0.9008 - val_loss: 0.5167 - val_accuracy: 0.7848\n",
      "Epoch 100/200\n",
      "15/15 [==============================] - 0s 6ms/step - loss: 0.2628 - accuracy: 0.8995 - val_loss: 1.2072 - val_accuracy: 0.5202\n",
      "Epoch 101/200\n",
      "15/15 [==============================] - 0s 6ms/step - loss: 0.2685 - accuracy: 0.8977 - val_loss: 0.3069 - val_accuracy: 0.8791\n",
      "Epoch 102/200\n",
      "15/15 [==============================] - 0s 6ms/step - loss: 0.2572 - accuracy: 0.9025 - val_loss: 0.3355 - val_accuracy: 0.8662\n",
      "Epoch 103/200\n",
      "15/15 [==============================] - 0s 6ms/step - loss: 0.2559 - accuracy: 0.9055 - val_loss: 0.7489 - val_accuracy: 0.6836\n",
      "Epoch 104/200\n",
      "15/15 [==============================] - 0s 6ms/step - loss: 0.2610 - accuracy: 0.9020 - val_loss: 0.3087 - val_accuracy: 0.8771\n",
      "Epoch 105/200\n",
      "15/15 [==============================] - 0s 6ms/step - loss: 0.2658 - accuracy: 0.9031 - val_loss: 0.3606 - val_accuracy: 0.8648\n",
      "Epoch 106/200\n",
      "15/15 [==============================] - 0s 7ms/step - loss: 0.2650 - accuracy: 0.9015 - val_loss: 0.3095 - val_accuracy: 0.8776\n",
      "Epoch 107/200\n",
      "15/15 [==============================] - 0s 6ms/step - loss: 0.2657 - accuracy: 0.8995 - val_loss: 0.4105 - val_accuracy: 0.8480\n",
      "Epoch 108/200\n",
      "15/15 [==============================] - 0s 7ms/step - loss: 0.2735 - accuracy: 0.8943 - val_loss: 0.4078 - val_accuracy: 0.8238\n",
      "Epoch 109/200\n",
      "15/15 [==============================] - 0s 6ms/step - loss: 0.2552 - accuracy: 0.9039 - val_loss: 0.3014 - val_accuracy: 0.8806\n",
      "Epoch 110/200\n",
      "15/15 [==============================] - 0s 6ms/step - loss: 0.2694 - accuracy: 0.8994 - val_loss: 0.3086 - val_accuracy: 0.8776\n",
      "Epoch 111/200\n",
      "15/15 [==============================] - 0s 6ms/step - loss: 0.2534 - accuracy: 0.9000 - val_loss: 0.3500 - val_accuracy: 0.8603\n",
      "Epoch 112/200\n",
      "15/15 [==============================] - 0s 6ms/step - loss: 0.2674 - accuracy: 0.8999 - val_loss: 0.3423 - val_accuracy: 0.8712\n",
      "Epoch 113/200\n",
      "15/15 [==============================] - 0s 6ms/step - loss: 0.2634 - accuracy: 0.8987 - val_loss: 0.3821 - val_accuracy: 0.8475\n",
      "Epoch 114/200\n",
      "15/15 [==============================] - 0s 6ms/step - loss: 0.2625 - accuracy: 0.8992 - val_loss: 0.5507 - val_accuracy: 0.7779\n",
      "Epoch 115/200\n",
      "15/15 [==============================] - 0s 6ms/step - loss: 0.2516 - accuracy: 0.9033 - val_loss: 0.3173 - val_accuracy: 0.8761\n",
      "Epoch 116/200\n"
     ]
    },
    {
     "name": "stdout",
     "output_type": "stream",
     "text": [
      "15/15 [==============================] - 0s 6ms/step - loss: 0.2608 - accuracy: 0.8996 - val_loss: 0.3047 - val_accuracy: 0.8835\n",
      "Epoch 117/200\n",
      "15/15 [==============================] - 0s 6ms/step - loss: 0.2610 - accuracy: 0.9006 - val_loss: 0.3922 - val_accuracy: 0.8534\n",
      "Epoch 118/200\n",
      "15/15 [==============================] - 0s 6ms/step - loss: 0.2678 - accuracy: 0.8987 - val_loss: 0.3104 - val_accuracy: 0.8761\n",
      "Epoch 119/200\n",
      "15/15 [==============================] - 0s 8ms/step - loss: 0.2629 - accuracy: 0.9019 - val_loss: 0.3981 - val_accuracy: 0.8337\n",
      "Epoch 120/200\n",
      "15/15 [==============================] - 0s 7ms/step - loss: 0.2521 - accuracy: 0.9075 - val_loss: 0.2984 - val_accuracy: 0.8835\n",
      "Epoch 121/200\n",
      "15/15 [==============================] - 0s 6ms/step - loss: 0.2759 - accuracy: 0.8949 - val_loss: 0.6519 - val_accuracy: 0.7103\n",
      "Epoch 122/200\n",
      "15/15 [==============================] - 0s 6ms/step - loss: 0.2641 - accuracy: 0.9012 - val_loss: 1.0256 - val_accuracy: 0.5686\n",
      "Epoch 123/200\n",
      "15/15 [==============================] - 0s 6ms/step - loss: 0.2653 - accuracy: 0.9010 - val_loss: 0.3441 - val_accuracy: 0.8618\n",
      "Epoch 124/200\n",
      "15/15 [==============================] - 0s 6ms/step - loss: 0.2685 - accuracy: 0.9017 - val_loss: 0.3149 - val_accuracy: 0.8801\n",
      "Epoch 125/200\n",
      "15/15 [==============================] - 0s 6ms/step - loss: 0.2848 - accuracy: 0.8939 - val_loss: 0.3270 - val_accuracy: 0.8722\n",
      "Epoch 126/200\n",
      "15/15 [==============================] - 0s 6ms/step - loss: 0.2607 - accuracy: 0.9021 - val_loss: 0.3024 - val_accuracy: 0.8835\n",
      "Epoch 127/200\n",
      "15/15 [==============================] - 0s 7ms/step - loss: 0.2580 - accuracy: 0.8990 - val_loss: 0.4329 - val_accuracy: 0.8425\n",
      "Epoch 128/200\n",
      "15/15 [==============================] - 0s 7ms/step - loss: 0.2409 - accuracy: 0.9114 - val_loss: 0.2993 - val_accuracy: 0.8840\n",
      "Epoch 129/200\n",
      "15/15 [==============================] - 0s 7ms/step - loss: 0.2534 - accuracy: 0.9006 - val_loss: 0.3802 - val_accuracy: 0.8564\n",
      "Epoch 130/200\n",
      "15/15 [==============================] - 0s 6ms/step - loss: 0.2585 - accuracy: 0.9044 - val_loss: 0.4273 - val_accuracy: 0.8139\n",
      "Epoch 131/200\n",
      "15/15 [==============================] - 0s 7ms/step - loss: 0.2599 - accuracy: 0.9006 - val_loss: 0.3044 - val_accuracy: 0.8820\n",
      "Epoch 132/200\n",
      "15/15 [==============================] - 0s 6ms/step - loss: 0.2664 - accuracy: 0.8948 - val_loss: 0.2987 - val_accuracy: 0.8830\n",
      "Epoch 133/200\n",
      "15/15 [==============================] - 0s 6ms/step - loss: 0.2635 - accuracy: 0.8987 - val_loss: 0.5693 - val_accuracy: 0.7359\n",
      "Epoch 134/200\n",
      "15/15 [==============================] - 0s 7ms/step - loss: 0.2533 - accuracy: 0.9003 - val_loss: 0.4723 - val_accuracy: 0.7586\n",
      "Epoch 135/200\n",
      "15/15 [==============================] - 0s 6ms/step - loss: 0.2759 - accuracy: 0.8942 - val_loss: 0.3090 - val_accuracy: 0.8766\n",
      "Epoch 136/200\n",
      "15/15 [==============================] - 0s 7ms/step - loss: 0.2667 - accuracy: 0.9001 - val_loss: 0.3840 - val_accuracy: 0.8386\n",
      "Epoch 137/200\n",
      "15/15 [==============================] - 0s 8ms/step - loss: 0.2511 - accuracy: 0.9056 - val_loss: 0.3046 - val_accuracy: 0.8815\n",
      "Epoch 138/200\n",
      "15/15 [==============================] - 0s 7ms/step - loss: 0.2627 - accuracy: 0.8999 - val_loss: 0.2958 - val_accuracy: 0.8825\n",
      "Epoch 139/200\n",
      "15/15 [==============================] - 0s 7ms/step - loss: 0.2544 - accuracy: 0.9058 - val_loss: 0.3591 - val_accuracy: 0.8524\n",
      "Epoch 140/200\n",
      "15/15 [==============================] - 0s 8ms/step - loss: 0.2613 - accuracy: 0.8973 - val_loss: 0.2989 - val_accuracy: 0.8860\n",
      "Epoch 141/200\n",
      "15/15 [==============================] - 0s 7ms/step - loss: 0.2537 - accuracy: 0.9010 - val_loss: 0.3030 - val_accuracy: 0.8766\n",
      "Epoch 142/200\n",
      "15/15 [==============================] - 0s 6ms/step - loss: 0.2553 - accuracy: 0.8993 - val_loss: 0.3323 - val_accuracy: 0.8707\n",
      "Epoch 143/200\n",
      "15/15 [==============================] - 0s 6ms/step - loss: 0.2548 - accuracy: 0.9049 - val_loss: 0.2958 - val_accuracy: 0.8835\n",
      "Epoch 144/200\n",
      "15/15 [==============================] - 0s 6ms/step - loss: 0.2634 - accuracy: 0.9017 - val_loss: 0.3165 - val_accuracy: 0.8712\n",
      "Epoch 145/200\n",
      "15/15 [==============================] - 0s 6ms/step - loss: 0.2512 - accuracy: 0.9069 - val_loss: 0.4712 - val_accuracy: 0.8406\n",
      "Epoch 146/200\n",
      "15/15 [==============================] - 0s 6ms/step - loss: 0.2561 - accuracy: 0.9063 - val_loss: 0.3587 - val_accuracy: 0.8623\n",
      "Epoch 147/200\n",
      "15/15 [==============================] - 0s 6ms/step - loss: 0.2636 - accuracy: 0.8954 - val_loss: 0.3102 - val_accuracy: 0.8825\n",
      "Epoch 148/200\n",
      "15/15 [==============================] - 0s 6ms/step - loss: 0.2582 - accuracy: 0.9014 - val_loss: 0.3105 - val_accuracy: 0.8825\n",
      "Epoch 149/200\n",
      "15/15 [==============================] - 0s 6ms/step - loss: 0.2650 - accuracy: 0.9000 - val_loss: 0.3215 - val_accuracy: 0.8687\n",
      "Epoch 150/200\n",
      "15/15 [==============================] - 0s 6ms/step - loss: 0.2564 - accuracy: 0.9029 - val_loss: 0.4631 - val_accuracy: 0.7957\n",
      "Epoch 151/200\n",
      "15/15 [==============================] - 0s 7ms/step - loss: 0.2657 - accuracy: 0.8934 - val_loss: 0.3251 - val_accuracy: 0.8677\n",
      "Epoch 152/200\n",
      "15/15 [==============================] - 0s 10ms/step - loss: 0.2579 - accuracy: 0.9031 - val_loss: 0.3265 - val_accuracy: 0.8741\n",
      "Epoch 153/200\n",
      "15/15 [==============================] - 0s 9ms/step - loss: 0.2561 - accuracy: 0.9022 - val_loss: 0.2976 - val_accuracy: 0.8880\n",
      "Epoch 154/200\n",
      "15/15 [==============================] - 0s 9ms/step - loss: 0.2489 - accuracy: 0.9022 - val_loss: 0.3309 - val_accuracy: 0.8756\n",
      "Epoch 155/200\n",
      "15/15 [==============================] - 0s 9ms/step - loss: 0.2598 - accuracy: 0.9016 - val_loss: 0.3682 - val_accuracy: 0.8495\n",
      "Epoch 156/200\n",
      "15/15 [==============================] - 0s 8ms/step - loss: 0.2576 - accuracy: 0.8998 - val_loss: 0.3988 - val_accuracy: 0.8598\n",
      "Epoch 157/200\n",
      "15/15 [==============================] - 0s 7ms/step - loss: 0.2586 - accuracy: 0.8982 - val_loss: 0.4079 - val_accuracy: 0.8524\n",
      "Epoch 158/200\n",
      "15/15 [==============================] - 0s 6ms/step - loss: 0.2685 - accuracy: 0.8950 - val_loss: 0.4246 - val_accuracy: 0.8504\n",
      "Epoch 159/200\n",
      "15/15 [==============================] - 0s 7ms/step - loss: 0.2508 - accuracy: 0.9070 - val_loss: 0.4252 - val_accuracy: 0.8534\n",
      "Epoch 160/200\n",
      "15/15 [==============================] - 0s 7ms/step - loss: 0.2586 - accuracy: 0.9011 - val_loss: 0.3112 - val_accuracy: 0.8845\n",
      "Epoch 161/200\n",
      "15/15 [==============================] - 0s 7ms/step - loss: 0.2439 - accuracy: 0.9096 - val_loss: 0.3133 - val_accuracy: 0.8806\n",
      "Epoch 162/200\n",
      "15/15 [==============================] - 0s 6ms/step - loss: 0.2621 - accuracy: 0.8990 - val_loss: 0.3253 - val_accuracy: 0.8702\n",
      "Epoch 163/200\n",
      "15/15 [==============================] - 0s 7ms/step - loss: 0.2628 - accuracy: 0.8997 - val_loss: 0.3773 - val_accuracy: 0.8608\n",
      "Epoch 164/200\n",
      "15/15 [==============================] - 0s 7ms/step - loss: 0.2498 - accuracy: 0.9090 - val_loss: 0.3465 - val_accuracy: 0.8741\n",
      "Epoch 165/200\n",
      "15/15 [==============================] - 0s 7ms/step - loss: 0.2606 - accuracy: 0.8983 - val_loss: 0.3674 - val_accuracy: 0.8578\n",
      "Epoch 166/200\n",
      "15/15 [==============================] - 0s 7ms/step - loss: 0.2628 - accuracy: 0.9030 - val_loss: 0.3871 - val_accuracy: 0.8455\n",
      "Epoch 167/200\n",
      "15/15 [==============================] - 0s 6ms/step - loss: 0.2538 - accuracy: 0.9038 - val_loss: 0.3434 - val_accuracy: 0.8588\n",
      "Epoch 168/200\n",
      "15/15 [==============================] - 0s 6ms/step - loss: 0.2589 - accuracy: 0.9007 - val_loss: 0.3338 - val_accuracy: 0.8687\n",
      "Epoch 169/200\n",
      "15/15 [==============================] - 0s 6ms/step - loss: 0.2609 - accuracy: 0.9023 - val_loss: 0.2970 - val_accuracy: 0.8885\n",
      "Epoch 170/200\n",
      "15/15 [==============================] - 0s 7ms/step - loss: 0.2642 - accuracy: 0.9013 - val_loss: 0.3111 - val_accuracy: 0.8761\n",
      "Epoch 171/200\n",
      "15/15 [==============================] - 0s 7ms/step - loss: 0.2638 - accuracy: 0.8986 - val_loss: 0.3379 - val_accuracy: 0.8662\n",
      "Epoch 172/200\n",
      "15/15 [==============================] - 0s 19ms/step - loss: 0.2585 - accuracy: 0.9017 - val_loss: 0.3487 - val_accuracy: 0.8574\n",
      "Epoch 173/200\n"
     ]
    },
    {
     "name": "stdout",
     "output_type": "stream",
     "text": [
      "15/15 [==============================] - 0s 7ms/step - loss: 0.2494 - accuracy: 0.9023 - val_loss: 0.3096 - val_accuracy: 0.8756\n",
      "Epoch 174/200\n",
      "15/15 [==============================] - 0s 7ms/step - loss: 0.2481 - accuracy: 0.9063 - val_loss: 0.2952 - val_accuracy: 0.8840\n",
      "Epoch 175/200\n",
      "15/15 [==============================] - 0s 6ms/step - loss: 0.2464 - accuracy: 0.9070 - val_loss: 0.2966 - val_accuracy: 0.8835\n",
      "Epoch 176/200\n",
      "15/15 [==============================] - 0s 7ms/step - loss: 0.2581 - accuracy: 0.9025 - val_loss: 0.4157 - val_accuracy: 0.8233\n",
      "Epoch 177/200\n",
      "15/15 [==============================] - 0s 7ms/step - loss: 0.2579 - accuracy: 0.9071 - val_loss: 0.3303 - val_accuracy: 0.8712\n",
      "Epoch 178/200\n",
      "15/15 [==============================] - 0s 6ms/step - loss: 0.2564 - accuracy: 0.9049 - val_loss: 0.2924 - val_accuracy: 0.8825\n",
      "Epoch 179/200\n",
      "15/15 [==============================] - 0s 6ms/step - loss: 0.2641 - accuracy: 0.8954 - val_loss: 0.2920 - val_accuracy: 0.8860\n",
      "Epoch 180/200\n",
      "15/15 [==============================] - 0s 6ms/step - loss: 0.2622 - accuracy: 0.8987 - val_loss: 0.2960 - val_accuracy: 0.8840\n",
      "Epoch 181/200\n",
      "15/15 [==============================] - 0s 7ms/step - loss: 0.2515 - accuracy: 0.9013 - val_loss: 0.3079 - val_accuracy: 0.8806\n",
      "Epoch 182/200\n",
      "15/15 [==============================] - 0s 6ms/step - loss: 0.2569 - accuracy: 0.9006 - val_loss: 0.3100 - val_accuracy: 0.8810\n",
      "Epoch 183/200\n",
      "15/15 [==============================] - 0s 7ms/step - loss: 0.2550 - accuracy: 0.9032 - val_loss: 0.3109 - val_accuracy: 0.8810\n",
      "Epoch 184/200\n",
      "15/15 [==============================] - 0s 6ms/step - loss: 0.2491 - accuracy: 0.9042 - val_loss: 0.3766 - val_accuracy: 0.8509\n",
      "Epoch 185/200\n",
      "15/15 [==============================] - 0s 7ms/step - loss: 0.2558 - accuracy: 0.9010 - val_loss: 0.5473 - val_accuracy: 0.7804\n",
      "Epoch 186/200\n",
      "15/15 [==============================] - 0s 7ms/step - loss: 0.2539 - accuracy: 0.9045 - val_loss: 0.3193 - val_accuracy: 0.8746\n",
      "Epoch 187/200\n",
      "15/15 [==============================] - 0s 6ms/step - loss: 0.2641 - accuracy: 0.9002 - val_loss: 0.3099 - val_accuracy: 0.8776\n",
      "Epoch 188/200\n",
      "15/15 [==============================] - 0s 6ms/step - loss: 0.2561 - accuracy: 0.9005 - val_loss: 0.3107 - val_accuracy: 0.8746\n",
      "Epoch 189/200\n",
      "15/15 [==============================] - 0s 7ms/step - loss: 0.2503 - accuracy: 0.9057 - val_loss: 0.3596 - val_accuracy: 0.8539\n",
      "Epoch 190/200\n",
      "15/15 [==============================] - 0s 6ms/step - loss: 0.2596 - accuracy: 0.8988 - val_loss: 0.3116 - val_accuracy: 0.8820\n",
      "Epoch 191/200\n",
      "15/15 [==============================] - 0s 8ms/step - loss: 0.2516 - accuracy: 0.9013 - val_loss: 0.3140 - val_accuracy: 0.8830\n",
      "Epoch 192/200\n",
      "15/15 [==============================] - 0s 7ms/step - loss: 0.2486 - accuracy: 0.9057 - val_loss: 0.3633 - val_accuracy: 0.8544\n",
      "Epoch 193/200\n",
      "15/15 [==============================] - 0s 7ms/step - loss: 0.2440 - accuracy: 0.9103 - val_loss: 0.6831 - val_accuracy: 0.7009\n",
      "Epoch 194/200\n",
      "15/15 [==============================] - 0s 6ms/step - loss: 0.2605 - accuracy: 0.9001 - val_loss: 0.4258 - val_accuracy: 0.8213\n",
      "Epoch 195/200\n",
      "15/15 [==============================] - 0s 7ms/step - loss: 0.2609 - accuracy: 0.8969 - val_loss: 0.3570 - val_accuracy: 0.8702\n",
      "Epoch 196/200\n",
      "15/15 [==============================] - 0s 7ms/step - loss: 0.2546 - accuracy: 0.9029 - val_loss: 0.3718 - val_accuracy: 0.8460\n",
      "Epoch 197/200\n",
      "15/15 [==============================] - 0s 6ms/step - loss: 0.2692 - accuracy: 0.8968 - val_loss: 0.3004 - val_accuracy: 0.8835\n",
      "Epoch 198/200\n",
      "15/15 [==============================] - 0s 6ms/step - loss: 0.2630 - accuracy: 0.9010 - val_loss: 0.2950 - val_accuracy: 0.8830\n",
      "Epoch 199/200\n",
      "15/15 [==============================] - 0s 6ms/step - loss: 0.2630 - accuracy: 0.8991 - val_loss: 0.3135 - val_accuracy: 0.8751\n",
      "Epoch 200/200\n",
      "15/15 [==============================] - 0s 6ms/step - loss: 0.2501 - accuracy: 0.9027 - val_loss: 0.3227 - val_accuracy: 0.8766\n",
      "Time:  21.352326711996284\n"
     ]
    }
   ],
   "source": [
    "import timeit\n",
    "\n",
    "start = timeit.default_timer()\n",
    "\n",
    "#Your statements here\n",
    "\n",
    "bestNN2=create_modelWithDropBatch(hidden_layers= 2, learning_rate= 0.001)\n",
    "history3 = bestNN2.fit(\n",
    "     XtrainData, y_train_res,\n",
    "    validation_data=(XvalidData, y_valid),\n",
    "    batch_size=512,\n",
    "    epochs=200,\n",
    "#     callbacks=[early_stopping],\n",
    ")\n",
    "stop = timeit.default_timer()\n",
    "\n",
    "print('Time: ', stop - start)  \n"
   ]
  },
  {
   "cell_type": "code",
   "execution_count": 93,
   "metadata": {
    "scrolled": false
   },
   "outputs": [
    {
     "name": "stderr",
     "output_type": "stream",
     "text": [
      "/home/dheekshitha-vibha/miniconda3/envs/myenv/lib/python3.6/site-packages/tensorflow/python/keras/engine/sequential.py:450: UserWarning: `model.predict_classes()` is deprecated and will be removed after 2021-01-01. Please use instead:* `np.argmax(model.predict(x), axis=-1)`,   if your model does multi-class classification   (e.g. if it uses a `softmax` last-layer activation).* `(model.predict(x) > 0.5).astype(\"int32\")`,   if your model does binary classification   (e.g. if it uses a `sigmoid` last-layer activation).\n",
      "  warnings.warn('`model.predict_classes()` is deprecated and '\n"
     ]
    },
    {
     "name": "stdout",
     "output_type": "stream",
     "text": [
      "Accuracy_Score: 90.76221498371335 %\n",
      "precision_score: 91.64777021919879 %\n",
      "recall_score: 94.78209888606605 %\n"
     ]
    },
    {
     "data": {
      "image/png": "[encoded data removed]",
      "text/plain": [
       "<Figure size 432x288 with 1 Axes>"
      ]
     },
     "metadata": {
      "needs_background": "light"
     },
     "output_type": "display_data"
    },
    {
     "data": {
      "image/png": "[encoded data removed]",
      "text/plain": [
       "<Figure size 432x288 with 1 Axes>"
      ]
     },
     "metadata": {
      "needs_background": "light"
     },
     "output_type": "display_data"
    }
   ],
   "source": [
    "history_df = pd.DataFrame(history3.history)\n",
    "history_df.loc[:, ['loss', 'val_loss']].plot(title=\"Cross-entropy\")\n",
    "history_df.loc[:, ['accuracy', 'val_accuracy']].plot(title=\"Accuracy\")\n",
    "\n",
    "y_pred_SVM = bestNN2.predict_classes(XtrainData)\n",
    "\n",
    "\n",
    "# print('Classification report: \\n', metrics.classification_report(y_test, model))\n",
    "print('Accuracy_Score:',metrics.accuracy_score(y_train_res, y_pred_SVM)*100,'%')\n",
    "\n",
    "\n",
    "print('precision_score:',metrics.precision_score(y_train_res, y_pred_SVM)*100,'%')\n",
    "\n",
    "print('recall_score:',metrics.recall_score(y_train_res, y_pred_SVM)*100,'%')"
   ]
  },
  {
   "cell_type": "code",
   "execution_count": 130,
   "metadata": {},
   "outputs": [],
   "source": [
    "# sess.run(optimizer._lr)\n",
    "def create_modelWithDropBatch2(  hidden_layers,learning_rate):\n",
    "  # Initialize the constructor\n",
    "    model =  keras.Sequential()\n",
    "      # Add an input layer\n",
    "    activation='sigmoid'\n",
    "    model.add(layers.Dense(256, activation=activation, input_shape=input_shape)) #thisone inc\n",
    "    for i in range(hidden_layers):\n",
    "          # Add one hidden layer\n",
    "        model.add(layers.BatchNormalization())\n",
    "        model.add(layers.Dropout(0.5))\n",
    "        model.add(layers.Dense(256, activation='relu')) #thisone inc 256\n",
    "\n",
    "      # Add an output layer \n",
    "    model.add(layers.Dense(1, activation=activation))\n",
    "    opt = keras.optimizers.Adam(learning_rate=learning_rate)\n",
    "      #compile model\n",
    "    model.compile(loss='binary_crossentropy', optimizer=opt, metrics=\n",
    "      ['accuracy'])\n",
    "\n",
    "    return model\n",
    "\n"
   ]
  },
  {
   "cell_type": "code",
   "execution_count": 94,
   "metadata": {},
   "outputs": [],
   "source": [
    "def plotconfusionMatrix(modelObj,ytest,xtest):\n",
    "#     model_DecTreeClass2.fit(X_train_res, y_train_res)\n",
    "    y_pred_DecTreeClass2 = modelObj.predict_classes(xtest)\n",
    "    conf_mat2 = metrics.confusion_matrix(ytest, y_pred_DecTreeClass2)\n",
    "    plt.figure(figsize=(8,6))\n",
    "    sns.heatmap(conf_mat2,annot=True)\n",
    "    plt.title(\"Confusion_matrix\")\n",
    "    plt.xlabel(\"Predicted Class\")\n",
    "    plt.ylabel(\"Actual class\")\n",
    "    plt.show()\n",
    "    print('Confusion matrix: \\n', conf_mat2)\n",
    "    print('TP: ', conf_mat2[1,1])\n",
    "    print('TN: ', conf_mat2[0,0])\n",
    "    print('FP: ', conf_mat2[0,1])\n",
    "    print('FN: ', conf_mat2[1,0])\n",
    "\n",
    "def getMetrics(modelObj,xTrain,yTrain,xValid,yValid):\n",
    "    y_pred_DecTreeClass2 = modelObj.predict_classes(xValid)\n",
    "    print('Classification report: \\n', metrics.classification_report(yValid, y_pred_DecTreeClass2))\n",
    "    print('Training Accuracy_Score:',metrics.accuracy_score(yTrain, modelObj.predict_classes(xTrain))*100,'%')\n",
    "    print('Training Precision:',metrics.precision_score(yTrain, modelObj.predict_classes(xTrain))*100,'%')\n",
    "    print('Training Recall:',metrics.recall_score(yTrain, modelObj.predict_classes(xTrain))*100,'%')\n",
    "    \n",
    "    print('Training F1 Score:',metrics.f1_score(yTrain, modelObj.predict_classes(xTrain))*100,'%')\n",
    "\n",
    "    \n",
    "    print('Validation Accuracy_Score:',metrics.accuracy_score(yValid, y_pred_DecTreeClass2)*100,'%')\n",
    "    print('Validation Precision:',metrics.precision_score(yValid, y_pred_DecTreeClass2)*100,'%')\n",
    "    print('Validation Recall:',metrics.recall_score(yValid, y_pred_DecTreeClass2)*100,'%')\n",
    "    \n",
    "    print('Validation F1 Score:',metrics.f1_score(yValid, y_pred_DecTreeClass2)*100,'%')"
   ]
  },
  {
   "cell_type": "code",
   "execution_count": 95,
   "metadata": {},
   "outputs": [
    {
     "name": "stderr",
     "output_type": "stream",
     "text": [
      "/home/dheekshitha-vibha/miniconda3/envs/myenv/lib/python3.6/site-packages/tensorflow/python/keras/engine/sequential.py:450: UserWarning: `model.predict_classes()` is deprecated and will be removed after 2021-01-01. Please use instead:* `np.argmax(model.predict(x), axis=-1)`,   if your model does multi-class classification   (e.g. if it uses a `softmax` last-layer activation).* `(model.predict(x) > 0.5).astype(\"int32\")`,   if your model does binary classification   (e.g. if it uses a `sigmoid` last-layer activation).\n",
      "  warnings.warn('`model.predict_classes()` is deprecated and '\n"
     ]
    },
    {
     "data": {
      "image/png": "[encoded data removed]",
      "text/plain": [
       "<Figure size 576x432 with 2 Axes>"
      ]
     },
     "metadata": {
      "needs_background": "light"
     },
     "output_type": "display_data"
    },
    {
     "name": "stdout",
     "output_type": "stream",
     "text": [
      "Confusion matrix: \n",
      " [[ 181  158]\n",
      " [  92 1595]]\n",
      "TP:  1595\n",
      "TN:  181\n",
      "FP:  158\n",
      "FN:  92\n",
      "Classification report: \n",
      "               precision    recall  f1-score   support\n",
      "\n",
      "           0       0.66      0.53      0.59       339\n",
      "           1       0.91      0.95      0.93      1687\n",
      "\n",
      "    accuracy                           0.88      2026\n",
      "   macro avg       0.79      0.74      0.76      2026\n",
      "weighted avg       0.87      0.88      0.87      2026\n",
      "\n"
     ]
    },
    {
     "name": "stderr",
     "output_type": "stream",
     "text": [
      "/home/dheekshitha-vibha/miniconda3/envs/myenv/lib/python3.6/site-packages/tensorflow/python/keras/engine/sequential.py:450: UserWarning: `model.predict_classes()` is deprecated and will be removed after 2021-01-01. Please use instead:* `np.argmax(model.predict(x), axis=-1)`,   if your model does multi-class classification   (e.g. if it uses a `softmax` last-layer activation).* `(model.predict(x) > 0.5).astype(\"int32\")`,   if your model does binary classification   (e.g. if it uses a `sigmoid` last-layer activation).\n",
      "  warnings.warn('`model.predict_classes()` is deprecated and '\n",
      "/home/dheekshitha-vibha/miniconda3/envs/myenv/lib/python3.6/site-packages/tensorflow/python/keras/engine/sequential.py:450: UserWarning: `model.predict_classes()` is deprecated and will be removed after 2021-01-01. Please use instead:* `np.argmax(model.predict(x), axis=-1)`,   if your model does multi-class classification   (e.g. if it uses a `softmax` last-layer activation).* `(model.predict(x) > 0.5).astype(\"int32\")`,   if your model does binary classification   (e.g. if it uses a `sigmoid` last-layer activation).\n",
      "  warnings.warn('`model.predict_classes()` is deprecated and '\n"
     ]
    },
    {
     "name": "stdout",
     "output_type": "stream",
     "text": [
      "Training Accuracy_Score: 90.76221498371335 %\n",
      "Training Precision: 91.64777021919879 %\n"
     ]
    },
    {
     "name": "stderr",
     "output_type": "stream",
     "text": [
      "/home/dheekshitha-vibha/miniconda3/envs/myenv/lib/python3.6/site-packages/tensorflow/python/keras/engine/sequential.py:450: UserWarning: `model.predict_classes()` is deprecated and will be removed after 2021-01-01. Please use instead:* `np.argmax(model.predict(x), axis=-1)`,   if your model does multi-class classification   (e.g. if it uses a `softmax` last-layer activation).* `(model.predict(x) > 0.5).astype(\"int32\")`,   if your model does binary classification   (e.g. if it uses a `sigmoid` last-layer activation).\n",
      "  warnings.warn('`model.predict_classes()` is deprecated and '\n",
      "/home/dheekshitha-vibha/miniconda3/envs/myenv/lib/python3.6/site-packages/tensorflow/python/keras/engine/sequential.py:450: UserWarning: `model.predict_classes()` is deprecated and will be removed after 2021-01-01. Please use instead:* `np.argmax(model.predict(x), axis=-1)`,   if your model does multi-class classification   (e.g. if it uses a `softmax` last-layer activation).* `(model.predict(x) > 0.5).astype(\"int32\")`,   if your model does binary classification   (e.g. if it uses a `sigmoid` last-layer activation).\n",
      "  warnings.warn('`model.predict_classes()` is deprecated and '\n"
     ]
    },
    {
     "name": "stdout",
     "output_type": "stream",
     "text": [
      "Training Recall: 94.78209888606605 %\n",
      "Training F1 Score: 93.1885867998847 %\n",
      "Validation Accuracy_Score: 87.6604146100691 %\n",
      "Validation Precision: 90.98687963491157 %\n",
      "Validation Recall: 94.5465323058684 %\n",
      "Validation F1 Score: 92.73255813953489 %\n"
     ]
    },
    {
     "name": "stderr",
     "output_type": "stream",
     "text": [
      "/home/dheekshitha-vibha/miniconda3/envs/myenv/lib/python3.6/site-packages/tensorflow/python/keras/engine/sequential.py:450: UserWarning: `model.predict_classes()` is deprecated and will be removed after 2021-01-01. Please use instead:* `np.argmax(model.predict(x), axis=-1)`,   if your model does multi-class classification   (e.g. if it uses a `softmax` last-layer activation).* `(model.predict(x) > 0.5).astype(\"int32\")`,   if your model does binary classification   (e.g. if it uses a `sigmoid` last-layer activation).\n",
      "  warnings.warn('`model.predict_classes()` is deprecated and '\n"
     ]
    }
   ],
   "source": [
    "\n",
    "plotconfusionMatrix(bestNN2,y_valid['Attrition_Flag'],XvalidData)\n",
    "\n",
    "getMetrics(bestNN2,XtrainData,y_train_res['Attrition_Flag'],XvalidData,y_valid['Attrition_Flag'])"
   ]
  },
  {
   "cell_type": "code",
   "execution_count": 24,
   "metadata": {
    "collapsed": true
   },
   "outputs": [
    {
     "name": "stdout",
     "output_type": "stream",
     "text": [
      "Epoch 1/200\n",
      "15/15 [==============================] - 3s 40ms/step - loss: 0.6623 - accuracy: 0.6391 - val_loss: 0.4683 - val_accuracy: 0.8327\n",
      "Epoch 2/200\n",
      "15/15 [==============================] - 0s 10ms/step - loss: 0.6202 - accuracy: 0.6660 - val_loss: 0.4198 - val_accuracy: 0.8327\n",
      "Epoch 3/200\n",
      "15/15 [==============================] - 0s 10ms/step - loss: 0.5873 - accuracy: 0.6659 - val_loss: 0.4588 - val_accuracy: 0.8327\n",
      "Epoch 4/200\n",
      "15/15 [==============================] - 0s 11ms/step - loss: 0.5397 - accuracy: 0.7060 - val_loss: 0.7450 - val_accuracy: 0.8327\n",
      "Epoch 5/200\n",
      "15/15 [==============================] - 0s 10ms/step - loss: 0.4673 - accuracy: 0.7970 - val_loss: 1.0956 - val_accuracy: 0.8327\n",
      "Epoch 6/200\n",
      "15/15 [==============================] - 0s 10ms/step - loss: 0.4239 - accuracy: 0.8370 - val_loss: 0.9415 - val_accuracy: 0.8327\n",
      "Epoch 7/200\n",
      "15/15 [==============================] - 0s 10ms/step - loss: 0.3949 - accuracy: 0.8522 - val_loss: 0.7908 - val_accuracy: 0.8327\n",
      "Epoch 8/200\n",
      "15/15 [==============================] - 0s 10ms/step - loss: 0.3988 - accuracy: 0.8584 - val_loss: 0.4759 - val_accuracy: 0.8327\n",
      "Epoch 9/200\n",
      "15/15 [==============================] - 0s 10ms/step - loss: 0.3891 - accuracy: 0.8573 - val_loss: 0.5439 - val_accuracy: 0.8337\n",
      "Epoch 10/200\n",
      "15/15 [==============================] - 0s 10ms/step - loss: 0.3649 - accuracy: 0.8744 - val_loss: 0.6518 - val_accuracy: 0.8470\n",
      "Epoch 11/200\n",
      "15/15 [==============================] - 0s 10ms/step - loss: 0.3564 - accuracy: 0.8747 - val_loss: 0.4978 - val_accuracy: 0.8524\n",
      "Epoch 12/200\n",
      "15/15 [==============================] - 0s 9ms/step - loss: 0.3700 - accuracy: 0.8713 - val_loss: 0.3923 - val_accuracy: 0.8662\n",
      "Epoch 13/200\n",
      "15/15 [==============================] - 0s 9ms/step - loss: 0.3431 - accuracy: 0.8735 - val_loss: 0.3938 - val_accuracy: 0.8638\n",
      "Epoch 14/200\n",
      "15/15 [==============================] - 0s 10ms/step - loss: 0.3516 - accuracy: 0.8787 - val_loss: 0.3517 - val_accuracy: 0.8756\n",
      "Epoch 15/200\n",
      "15/15 [==============================] - 0s 9ms/step - loss: 0.3496 - accuracy: 0.8764 - val_loss: 0.4252 - val_accuracy: 0.8450\n",
      "Epoch 16/200\n",
      "15/15 [==============================] - 0s 10ms/step - loss: 0.3476 - accuracy: 0.8764 - val_loss: 0.3909 - val_accuracy: 0.8608\n",
      "Epoch 17/200\n",
      "15/15 [==============================] - 0s 10ms/step - loss: 0.3323 - accuracy: 0.8855 - val_loss: 0.3776 - val_accuracy: 0.8613\n",
      "Epoch 18/200\n",
      "15/15 [==============================] - 0s 10ms/step - loss: 0.3399 - accuracy: 0.8845 - val_loss: 0.3669 - val_accuracy: 0.8727\n",
      "Epoch 19/200\n",
      "15/15 [==============================] - 0s 10ms/step - loss: 0.3237 - accuracy: 0.8904 - val_loss: 0.3833 - val_accuracy: 0.8608\n",
      "Epoch 20/200\n",
      "15/15 [==============================] - 0s 10ms/step - loss: 0.3289 - accuracy: 0.8848 - val_loss: 0.3749 - val_accuracy: 0.8756\n",
      "Epoch 21/200\n",
      "15/15 [==============================] - 0s 11ms/step - loss: 0.3222 - accuracy: 0.8900 - val_loss: 0.3348 - val_accuracy: 0.8845\n",
      "Epoch 22/200\n",
      "15/15 [==============================] - 0s 10ms/step - loss: 0.3248 - accuracy: 0.8845 - val_loss: 0.3406 - val_accuracy: 0.8801\n",
      "Epoch 23/200\n",
      "15/15 [==============================] - 0s 12ms/step - loss: 0.3103 - accuracy: 0.8940 - val_loss: 0.3429 - val_accuracy: 0.8820\n",
      "Epoch 24/200\n",
      "15/15 [==============================] - 0s 11ms/step - loss: 0.3081 - accuracy: 0.8919 - val_loss: 0.3244 - val_accuracy: 0.8904\n",
      "Epoch 25/200\n",
      "15/15 [==============================] - 0s 12ms/step - loss: 0.3081 - accuracy: 0.8928 - val_loss: 0.3255 - val_accuracy: 0.8894\n",
      "Epoch 26/200\n",
      "15/15 [==============================] - 0s 11ms/step - loss: 0.3091 - accuracy: 0.8924 - val_loss: 0.3403 - val_accuracy: 0.8840\n",
      "Epoch 27/200\n",
      "15/15 [==============================] - 0s 11ms/step - loss: 0.3073 - accuracy: 0.8975 - val_loss: 0.3430 - val_accuracy: 0.8820\n",
      "Epoch 28/200\n",
      "15/15 [==============================] - 0s 10ms/step - loss: 0.2961 - accuracy: 0.8979 - val_loss: 0.3188 - val_accuracy: 0.8909\n",
      "Epoch 29/200\n",
      "15/15 [==============================] - 0s 10ms/step - loss: 0.3095 - accuracy: 0.8925 - val_loss: 0.3471 - val_accuracy: 0.8756\n",
      "Epoch 30/200\n",
      "15/15 [==============================] - 0s 9ms/step - loss: 0.3026 - accuracy: 0.8972 - val_loss: 0.3213 - val_accuracy: 0.8894\n",
      "Epoch 31/200\n",
      "15/15 [==============================] - 0s 9ms/step - loss: 0.3147 - accuracy: 0.8942 - val_loss: 0.3262 - val_accuracy: 0.8894\n",
      "Epoch 32/200\n",
      "15/15 [==============================] - 0s 9ms/step - loss: 0.3018 - accuracy: 0.8949 - val_loss: 0.3218 - val_accuracy: 0.8904\n",
      "Epoch 33/200\n",
      "15/15 [==============================] - 0s 10ms/step - loss: 0.2997 - accuracy: 0.9023 - val_loss: 0.3184 - val_accuracy: 0.8904\n",
      "Epoch 34/200\n",
      "15/15 [==============================] - 0s 9ms/step - loss: 0.3009 - accuracy: 0.8977 - val_loss: 0.3311 - val_accuracy: 0.8924\n",
      "Epoch 35/200\n",
      "15/15 [==============================] - 0s 11ms/step - loss: 0.2946 - accuracy: 0.9020 - val_loss: 0.3341 - val_accuracy: 0.8894\n",
      "Epoch 36/200\n",
      "15/15 [==============================] - 0s 10ms/step - loss: 0.2857 - accuracy: 0.9021 - val_loss: 0.3273 - val_accuracy: 0.8860\n",
      "Epoch 37/200\n",
      "15/15 [==============================] - 0s 10ms/step - loss: 0.2902 - accuracy: 0.9041 - val_loss: 0.3268 - val_accuracy: 0.8904\n",
      "Epoch 38/200\n",
      "15/15 [==============================] - 0s 10ms/step - loss: 0.2963 - accuracy: 0.8991 - val_loss: 0.3349 - val_accuracy: 0.8840\n",
      "Epoch 39/200\n",
      "15/15 [==============================] - 0s 10ms/step - loss: 0.2933 - accuracy: 0.8993 - val_loss: 0.3431 - val_accuracy: 0.8875\n",
      "Epoch 40/200\n",
      "15/15 [==============================] - 0s 10ms/step - loss: 0.2901 - accuracy: 0.9040 - val_loss: 0.3375 - val_accuracy: 0.8855\n",
      "Epoch 41/200\n",
      "15/15 [==============================] - 0s 9ms/step - loss: 0.2698 - accuracy: 0.9082 - val_loss: 0.3237 - val_accuracy: 0.8889\n",
      "Epoch 42/200\n",
      "15/15 [==============================] - 0s 9ms/step - loss: 0.2992 - accuracy: 0.8949 - val_loss: 0.3256 - val_accuracy: 0.8924\n",
      "Epoch 43/200\n",
      "15/15 [==============================] - 0s 9ms/step - loss: 0.3002 - accuracy: 0.8999 - val_loss: 0.3780 - val_accuracy: 0.8653\n",
      "Epoch 44/200\n",
      "15/15 [==============================] - 0s 9ms/step - loss: 0.2826 - accuracy: 0.9011 - val_loss: 0.3268 - val_accuracy: 0.8909\n",
      "Epoch 45/200\n",
      "15/15 [==============================] - 0s 10ms/step - loss: 0.2964 - accuracy: 0.8980 - val_loss: 0.3278 - val_accuracy: 0.8939\n",
      "Epoch 46/200\n",
      "15/15 [==============================] - 0s 10ms/step - loss: 0.2797 - accuracy: 0.9049 - val_loss: 0.3674 - val_accuracy: 0.8731\n",
      "Epoch 47/200\n",
      "15/15 [==============================] - 0s 9ms/step - loss: 0.2965 - accuracy: 0.8976 - val_loss: 0.3340 - val_accuracy: 0.8850\n",
      "Epoch 48/200\n",
      "15/15 [==============================] - 0s 9ms/step - loss: 0.2799 - accuracy: 0.9059 - val_loss: 0.3143 - val_accuracy: 0.8978\n",
      "Epoch 49/200\n",
      "15/15 [==============================] - 0s 9ms/step - loss: 0.2903 - accuracy: 0.9042 - val_loss: 0.3234 - val_accuracy: 0.8973\n",
      "Epoch 50/200\n",
      "15/15 [==============================] - 0s 9ms/step - loss: 0.2697 - accuracy: 0.9126 - val_loss: 0.3188 - val_accuracy: 0.8949\n",
      "Epoch 51/200\n",
      "15/15 [==============================] - 0s 9ms/step - loss: 0.2719 - accuracy: 0.9108 - val_loss: 0.3460 - val_accuracy: 0.8845\n",
      "Epoch 52/200\n",
      "15/15 [==============================] - 0s 10ms/step - loss: 0.2639 - accuracy: 0.9120 - val_loss: 0.3192 - val_accuracy: 0.8978\n",
      "Epoch 53/200\n",
      "15/15 [==============================] - 0s 9ms/step - loss: 0.2766 - accuracy: 0.9048 - val_loss: 0.3122 - val_accuracy: 0.8949\n",
      "Epoch 54/200\n",
      "15/15 [==============================] - 0s 9ms/step - loss: 0.2860 - accuracy: 0.9055 - val_loss: 0.3202 - val_accuracy: 0.8939\n",
      "Epoch 55/200\n",
      "15/15 [==============================] - 0s 9ms/step - loss: 0.2738 - accuracy: 0.9079 - val_loss: 0.3524 - val_accuracy: 0.8889\n",
      "Epoch 56/200\n",
      "15/15 [==============================] - 0s 9ms/step - loss: 0.2823 - accuracy: 0.9068 - val_loss: 0.3128 - val_accuracy: 0.8968\n",
      "Epoch 57/200\n",
      "15/15 [==============================] - 0s 9ms/step - loss: 0.2672 - accuracy: 0.9092 - val_loss: 0.3130 - val_accuracy: 0.8909\n",
      "Epoch 58/200\n",
      "15/15 [==============================] - 0s 9ms/step - loss: 0.2716 - accuracy: 0.9098 - val_loss: 0.3121 - val_accuracy: 0.8954\n",
      "Epoch 59/200\n",
      "15/15 [==============================] - 0s 9ms/step - loss: 0.2567 - accuracy: 0.9093 - val_loss: 0.3121 - val_accuracy: 0.8909\n",
      "Epoch 60/200\n",
      "15/15 [==============================] - 0s 9ms/step - loss: 0.2763 - accuracy: 0.9053 - val_loss: 0.3227 - val_accuracy: 0.8944\n",
      "Epoch 61/200\n",
      "15/15 [==============================] - 0s 9ms/step - loss: 0.2509 - accuracy: 0.9150 - val_loss: 0.3001 - val_accuracy: 0.8963\n",
      "Epoch 62/200\n",
      "15/15 [==============================] - 0s 8ms/step - loss: 0.2643 - accuracy: 0.9097 - val_loss: 0.3145 - val_accuracy: 0.8954\n",
      "Epoch 63/200\n",
      "15/15 [==============================] - 0s 9ms/step - loss: 0.2624 - accuracy: 0.9123 - val_loss: 0.3140 - val_accuracy: 0.8909\n",
      "Epoch 64/200\n",
      "15/15 [==============================] - 0s 9ms/step - loss: 0.2577 - accuracy: 0.9141 - val_loss: 0.3050 - val_accuracy: 0.8939\n",
      "Epoch 65/200\n",
      "15/15 [==============================] - 0s 9ms/step - loss: 0.2706 - accuracy: 0.9070 - val_loss: 0.3154 - val_accuracy: 0.8944\n",
      "Epoch 66/200\n",
      "15/15 [==============================] - 0s 9ms/step - loss: 0.2690 - accuracy: 0.9111 - val_loss: 0.3258 - val_accuracy: 0.8889\n",
      "Epoch 67/200\n",
      "15/15 [==============================] - 0s 9ms/step - loss: 0.2682 - accuracy: 0.9100 - val_loss: 0.3309 - val_accuracy: 0.8885\n",
      "Epoch 68/200\n",
      "15/15 [==============================] - 0s 9ms/step - loss: 0.2673 - accuracy: 0.9117 - val_loss: 0.3235 - val_accuracy: 0.8934\n",
      "Epoch 69/200\n",
      "15/15 [==============================] - 0s 9ms/step - loss: 0.2696 - accuracy: 0.9079 - val_loss: 0.3218 - val_accuracy: 0.8924\n",
      "Epoch 70/200\n",
      "15/15 [==============================] - 0s 8ms/step - loss: 0.2773 - accuracy: 0.9044 - val_loss: 0.3191 - val_accuracy: 0.8973\n",
      "Epoch 71/200\n",
      "15/15 [==============================] - 0s 10ms/step - loss: 0.2652 - accuracy: 0.9114 - val_loss: 0.3209 - val_accuracy: 0.8894\n",
      "Epoch 72/200\n",
      "15/15 [==============================] - 0s 9ms/step - loss: 0.2605 - accuracy: 0.9170 - val_loss: 0.3218 - val_accuracy: 0.8899\n",
      "Epoch 73/200\n",
      "15/15 [==============================] - 0s 9ms/step - loss: 0.2636 - accuracy: 0.9125 - val_loss: 0.3238 - val_accuracy: 0.8919\n",
      "Epoch 74/200\n",
      "15/15 [==============================] - 0s 9ms/step - loss: 0.2707 - accuracy: 0.9122 - val_loss: 0.3531 - val_accuracy: 0.8914\n",
      "Epoch 75/200\n",
      "15/15 [==============================] - 0s 9ms/step - loss: 0.2465 - accuracy: 0.9201 - val_loss: 0.3211 - val_accuracy: 0.8919\n",
      "Epoch 76/200\n",
      "15/15 [==============================] - 0s 9ms/step - loss: 0.2533 - accuracy: 0.9178 - val_loss: 0.3179 - val_accuracy: 0.8934\n",
      "Epoch 77/200\n",
      "15/15 [==============================] - 0s 9ms/step - loss: 0.2648 - accuracy: 0.9134 - val_loss: 0.3530 - val_accuracy: 0.8810\n",
      "Epoch 78/200\n",
      "15/15 [==============================] - 0s 9ms/step - loss: 0.2594 - accuracy: 0.9136 - val_loss: 0.3202 - val_accuracy: 0.8934\n",
      "Epoch 79/200\n",
      "15/15 [==============================] - 0s 9ms/step - loss: 0.2663 - accuracy: 0.9081 - val_loss: 0.3261 - val_accuracy: 0.8944\n",
      "Epoch 80/200\n",
      "15/15 [==============================] - 0s 9ms/step - loss: 0.2797 - accuracy: 0.9073 - val_loss: 0.3444 - val_accuracy: 0.8835\n",
      "Epoch 81/200\n",
      "15/15 [==============================] - 0s 9ms/step - loss: 0.2565 - accuracy: 0.9142 - val_loss: 0.3274 - val_accuracy: 0.8889\n",
      "Epoch 82/200\n",
      "15/15 [==============================] - 0s 9ms/step - loss: 0.2452 - accuracy: 0.9206 - val_loss: 0.3186 - val_accuracy: 0.8978\n",
      "Epoch 83/200\n",
      "15/15 [==============================] - 0s 10ms/step - loss: 0.2524 - accuracy: 0.9152 - val_loss: 0.3188 - val_accuracy: 0.8949\n",
      "Epoch 84/200\n",
      "15/15 [==============================] - 0s 10ms/step - loss: 0.2418 - accuracy: 0.9191 - val_loss: 0.3277 - val_accuracy: 0.8889\n",
      "Epoch 85/200\n",
      "15/15 [==============================] - 0s 9ms/step - loss: 0.2785 - accuracy: 0.9031 - val_loss: 0.3319 - val_accuracy: 0.8904\n",
      "Epoch 86/200\n",
      "15/15 [==============================] - 0s 9ms/step - loss: 0.2450 - accuracy: 0.9172 - val_loss: 0.2983 - val_accuracy: 0.8978\n",
      "Epoch 87/200\n",
      "15/15 [==============================] - 0s 9ms/step - loss: 0.2601 - accuracy: 0.9152 - val_loss: 0.3040 - val_accuracy: 0.8949\n",
      "Epoch 88/200\n",
      "15/15 [==============================] - 0s 9ms/step - loss: 0.2485 - accuracy: 0.9173 - val_loss: 0.3083 - val_accuracy: 0.8978\n",
      "Epoch 89/200\n",
      "15/15 [==============================] - 0s 9ms/step - loss: 0.2592 - accuracy: 0.9114 - val_loss: 0.3150 - val_accuracy: 0.8934\n",
      "Epoch 90/200\n",
      "15/15 [==============================] - 0s 9ms/step - loss: 0.2300 - accuracy: 0.9235 - val_loss: 0.3190 - val_accuracy: 0.8968\n",
      "Epoch 91/200\n",
      "15/15 [==============================] - 0s 9ms/step - loss: 0.2361 - accuracy: 0.9216 - val_loss: 0.3289 - val_accuracy: 0.8880\n",
      "Epoch 92/200\n",
      "15/15 [==============================] - 0s 9ms/step - loss: 0.2557 - accuracy: 0.9147 - val_loss: 0.3149 - val_accuracy: 0.8929\n",
      "Epoch 93/200\n",
      "15/15 [==============================] - 0s 10ms/step - loss: 0.2422 - accuracy: 0.9183 - val_loss: 0.3151 - val_accuracy: 0.8954\n",
      "Epoch 94/200\n",
      "15/15 [==============================] - 0s 21ms/step - loss: 0.2484 - accuracy: 0.9147 - val_loss: 0.3162 - val_accuracy: 0.8959\n",
      "Epoch 95/200\n",
      "15/15 [==============================] - 0s 9ms/step - loss: 0.2601 - accuracy: 0.9126 - val_loss: 0.3219 - val_accuracy: 0.8944\n",
      "Epoch 96/200\n",
      "15/15 [==============================] - 0s 10ms/step - loss: 0.2313 - accuracy: 0.9203 - val_loss: 0.3184 - val_accuracy: 0.8959\n",
      "Epoch 97/200\n",
      "15/15 [==============================] - 0s 9ms/step - loss: 0.2522 - accuracy: 0.9168 - val_loss: 0.3219 - val_accuracy: 0.8934\n",
      "Epoch 98/200\n",
      "15/15 [==============================] - 0s 10ms/step - loss: 0.2433 - accuracy: 0.9218 - val_loss: 0.3180 - val_accuracy: 0.8988\n",
      "Epoch 99/200\n",
      "15/15 [==============================] - 0s 9ms/step - loss: 0.2523 - accuracy: 0.9163 - val_loss: 0.3249 - val_accuracy: 0.8899\n",
      "Epoch 100/200\n",
      "15/15 [==============================] - 0s 9ms/step - loss: 0.2509 - accuracy: 0.9158 - val_loss: 0.3078 - val_accuracy: 0.8963\n",
      "Epoch 101/200\n",
      "15/15 [==============================] - 0s 10ms/step - loss: 0.2474 - accuracy: 0.9200 - val_loss: 0.3386 - val_accuracy: 0.8914\n",
      "Epoch 102/200\n",
      "15/15 [==============================] - 0s 10ms/step - loss: 0.2419 - accuracy: 0.9221 - val_loss: 0.3265 - val_accuracy: 0.8983\n",
      "Epoch 103/200\n",
      "15/15 [==============================] - 0s 9ms/step - loss: 0.2349 - accuracy: 0.9192 - val_loss: 0.3109 - val_accuracy: 0.8954\n",
      "Epoch 104/200\n",
      "15/15 [==============================] - 0s 10ms/step - loss: 0.2401 - accuracy: 0.9201 - val_loss: 0.3330 - val_accuracy: 0.8894\n",
      "Epoch 105/200\n",
      "15/15 [==============================] - 0s 9ms/step - loss: 0.2515 - accuracy: 0.9132 - val_loss: 0.3398 - val_accuracy: 0.8880\n",
      "Epoch 106/200\n",
      "15/15 [==============================] - 0s 10ms/step - loss: 0.2533 - accuracy: 0.9134 - val_loss: 0.3556 - val_accuracy: 0.8820\n",
      "Epoch 107/200\n",
      "15/15 [==============================] - 0s 9ms/step - loss: 0.2473 - accuracy: 0.9134 - val_loss: 0.3231 - val_accuracy: 0.8944\n",
      "Epoch 108/200\n",
      "15/15 [==============================] - 0s 8ms/step - loss: 0.2397 - accuracy: 0.9218 - val_loss: 0.3273 - val_accuracy: 0.8909\n",
      "Epoch 109/200\n",
      "15/15 [==============================] - 0s 9ms/step - loss: 0.2474 - accuracy: 0.9183 - val_loss: 0.3142 - val_accuracy: 0.8954\n",
      "Epoch 110/200\n",
      "15/15 [==============================] - 0s 9ms/step - loss: 0.2376 - accuracy: 0.9239 - val_loss: 0.3184 - val_accuracy: 0.8914\n",
      "Epoch 111/200\n",
      "15/15 [==============================] - 0s 8ms/step - loss: 0.2585 - accuracy: 0.9111 - val_loss: 0.3178 - val_accuracy: 0.8924\n",
      "Epoch 112/200\n",
      "15/15 [==============================] - 0s 10ms/step - loss: 0.2426 - accuracy: 0.9204 - val_loss: 0.3179 - val_accuracy: 0.8939\n",
      "Epoch 113/200\n",
      "15/15 [==============================] - 0s 9ms/step - loss: 0.2529 - accuracy: 0.9174 - val_loss: 0.3246 - val_accuracy: 0.8909\n",
      "Epoch 114/200\n",
      "15/15 [==============================] - 0s 9ms/step - loss: 0.2356 - accuracy: 0.9187 - val_loss: 0.3395 - val_accuracy: 0.8963\n",
      "Epoch 115/200\n"
     ]
    },
    {
     "name": "stdout",
     "output_type": "stream",
     "text": [
      "15/15 [==============================] - 0s 9ms/step - loss: 0.2342 - accuracy: 0.9259 - val_loss: 0.3220 - val_accuracy: 0.8904\n",
      "Epoch 116/200\n",
      "15/15 [==============================] - 0s 9ms/step - loss: 0.2422 - accuracy: 0.9194 - val_loss: 0.3243 - val_accuracy: 0.8949\n",
      "Epoch 117/200\n",
      "15/15 [==============================] - 0s 9ms/step - loss: 0.2286 - accuracy: 0.9257 - val_loss: 0.3209 - val_accuracy: 0.8954\n",
      "Epoch 118/200\n",
      "15/15 [==============================] - 0s 9ms/step - loss: 0.2565 - accuracy: 0.9148 - val_loss: 0.3398 - val_accuracy: 0.8924\n",
      "Epoch 119/200\n",
      "15/15 [==============================] - 0s 9ms/step - loss: 0.2322 - accuracy: 0.9224 - val_loss: 0.3266 - val_accuracy: 0.8929\n",
      "Epoch 120/200\n",
      "15/15 [==============================] - 0s 10ms/step - loss: 0.2212 - accuracy: 0.9267 - val_loss: 0.3258 - val_accuracy: 0.8919\n",
      "Epoch 121/200\n",
      "15/15 [==============================] - 0s 8ms/step - loss: 0.2392 - accuracy: 0.9205 - val_loss: 0.3386 - val_accuracy: 0.8860\n",
      "Epoch 122/200\n",
      "15/15 [==============================] - 0s 9ms/step - loss: 0.2530 - accuracy: 0.9161 - val_loss: 0.3237 - val_accuracy: 0.8939\n",
      "Epoch 123/200\n",
      "15/15 [==============================] - 0s 9ms/step - loss: 0.2410 - accuracy: 0.9213 - val_loss: 0.3465 - val_accuracy: 0.8968\n",
      "Epoch 124/200\n",
      "15/15 [==============================] - 0s 8ms/step - loss: 0.2474 - accuracy: 0.9158 - val_loss: 0.3166 - val_accuracy: 0.8963\n",
      "Epoch 125/200\n",
      "15/15 [==============================] - 0s 10ms/step - loss: 0.2342 - accuracy: 0.9246 - val_loss: 0.3164 - val_accuracy: 0.8949\n",
      "Epoch 126/200\n",
      "15/15 [==============================] - 0s 8ms/step - loss: 0.2290 - accuracy: 0.9273 - val_loss: 0.3213 - val_accuracy: 0.8904\n",
      "Epoch 127/200\n",
      "15/15 [==============================] - 0s 9ms/step - loss: 0.2382 - accuracy: 0.9187 - val_loss: 0.3258 - val_accuracy: 0.8934\n",
      "Epoch 128/200\n",
      "15/15 [==============================] - 0s 9ms/step - loss: 0.2325 - accuracy: 0.9256 - val_loss: 0.3226 - val_accuracy: 0.8983\n",
      "Epoch 129/200\n",
      "15/15 [==============================] - 0s 8ms/step - loss: 0.2397 - accuracy: 0.9213 - val_loss: 0.3260 - val_accuracy: 0.8934\n",
      "Epoch 130/200\n",
      "15/15 [==============================] - 0s 9ms/step - loss: 0.2284 - accuracy: 0.9268 - val_loss: 0.3196 - val_accuracy: 0.8934\n",
      "Epoch 131/200\n",
      "15/15 [==============================] - 0s 9ms/step - loss: 0.2310 - accuracy: 0.9257 - val_loss: 0.3226 - val_accuracy: 0.8949\n",
      "Epoch 132/200\n",
      "15/15 [==============================] - 0s 8ms/step - loss: 0.2321 - accuracy: 0.9213 - val_loss: 0.3353 - val_accuracy: 0.8914\n",
      "Epoch 133/200\n",
      "15/15 [==============================] - 0s 9ms/step - loss: 0.2246 - accuracy: 0.9258 - val_loss: 0.3221 - val_accuracy: 0.8968\n",
      "Epoch 134/200\n",
      "15/15 [==============================] - 0s 8ms/step - loss: 0.2316 - accuracy: 0.9240 - val_loss: 0.3198 - val_accuracy: 0.9008\n",
      "Epoch 135/200\n",
      "15/15 [==============================] - 0s 8ms/step - loss: 0.2272 - accuracy: 0.9299 - val_loss: 0.3185 - val_accuracy: 0.8983\n",
      "Epoch 136/200\n",
      "15/15 [==============================] - 0s 11ms/step - loss: 0.2351 - accuracy: 0.9198 - val_loss: 0.3245 - val_accuracy: 0.8924\n",
      "Epoch 137/200\n",
      "15/15 [==============================] - 0s 8ms/step - loss: 0.2362 - accuracy: 0.9264 - val_loss: 0.3150 - val_accuracy: 0.8959\n",
      "Epoch 138/200\n",
      "15/15 [==============================] - 0s 9ms/step - loss: 0.2493 - accuracy: 0.9198 - val_loss: 0.3141 - val_accuracy: 0.8959\n",
      "Epoch 139/200\n",
      "15/15 [==============================] - 0s 10ms/step - loss: 0.2359 - accuracy: 0.9229 - val_loss: 0.3281 - val_accuracy: 0.8875\n",
      "Epoch 140/200\n",
      "15/15 [==============================] - 0s 10ms/step - loss: 0.2534 - accuracy: 0.9154 - val_loss: 0.3148 - val_accuracy: 0.8919\n",
      "Epoch 141/200\n",
      "15/15 [==============================] - 0s 10ms/step - loss: 0.2418 - accuracy: 0.9218 - val_loss: 0.3069 - val_accuracy: 0.8963\n",
      "Epoch 142/200\n",
      "15/15 [==============================] - 0s 10ms/step - loss: 0.2222 - accuracy: 0.9248 - val_loss: 0.3169 - val_accuracy: 0.8973\n",
      "Epoch 143/200\n",
      "15/15 [==============================] - 0s 10ms/step - loss: 0.2341 - accuracy: 0.9254 - val_loss: 0.3260 - val_accuracy: 0.8919\n",
      "Epoch 144/200\n",
      "15/15 [==============================] - 0s 10ms/step - loss: 0.2281 - accuracy: 0.9260 - val_loss: 0.3325 - val_accuracy: 0.8880\n",
      "Epoch 145/200\n",
      "15/15 [==============================] - 0s 10ms/step - loss: 0.2482 - accuracy: 0.9127 - val_loss: 0.3327 - val_accuracy: 0.8899\n",
      "Epoch 146/200\n",
      "15/15 [==============================] - 0s 10ms/step - loss: 0.2373 - accuracy: 0.9158 - val_loss: 0.3081 - val_accuracy: 0.9003\n",
      "Epoch 147/200\n",
      "15/15 [==============================] - 0s 11ms/step - loss: 0.2386 - accuracy: 0.9213 - val_loss: 0.3141 - val_accuracy: 0.8949\n",
      "Epoch 148/200\n",
      "15/15 [==============================] - 0s 10ms/step - loss: 0.2292 - accuracy: 0.9243 - val_loss: 0.3260 - val_accuracy: 0.8909\n",
      "Epoch 149/200\n",
      "15/15 [==============================] - 0s 10ms/step - loss: 0.2362 - accuracy: 0.9257 - val_loss: 0.3333 - val_accuracy: 0.8929\n",
      "Epoch 150/200\n",
      "15/15 [==============================] - 0s 10ms/step - loss: 0.2448 - accuracy: 0.9190 - val_loss: 0.3216 - val_accuracy: 0.8983\n",
      "Epoch 151/200\n",
      "15/15 [==============================] - 0s 10ms/step - loss: 0.2323 - accuracy: 0.9239 - val_loss: 0.3270 - val_accuracy: 0.8973\n",
      "Epoch 152/200\n",
      "15/15 [==============================] - 0s 10ms/step - loss: 0.2357 - accuracy: 0.9228 - val_loss: 0.3430 - val_accuracy: 0.8919\n",
      "Epoch 153/200\n",
      "15/15 [==============================] - 0s 10ms/step - loss: 0.2282 - accuracy: 0.9281 - val_loss: 0.3094 - val_accuracy: 0.8959\n",
      "Epoch 154/200\n",
      "15/15 [==============================] - 0s 10ms/step - loss: 0.2319 - accuracy: 0.9256 - val_loss: 0.3173 - val_accuracy: 0.8924\n",
      "Epoch 155/200\n",
      "15/15 [==============================] - 0s 9ms/step - loss: 0.2344 - accuracy: 0.9284 - val_loss: 0.3247 - val_accuracy: 0.8924\n",
      "Epoch 156/200\n",
      "15/15 [==============================] - 0s 9ms/step - loss: 0.2196 - accuracy: 0.9249 - val_loss: 0.3141 - val_accuracy: 0.8978\n",
      "Epoch 157/200\n",
      "15/15 [==============================] - 0s 10ms/step - loss: 0.2198 - accuracy: 0.9268 - val_loss: 0.3192 - val_accuracy: 0.8973\n",
      "Epoch 158/200\n",
      "15/15 [==============================] - 0s 10ms/step - loss: 0.2280 - accuracy: 0.9256 - val_loss: 0.3046 - val_accuracy: 0.9018\n",
      "Epoch 159/200\n",
      "15/15 [==============================] - 0s 10ms/step - loss: 0.2333 - accuracy: 0.9225 - val_loss: 0.3081 - val_accuracy: 0.8968\n",
      "Epoch 160/200\n",
      "15/15 [==============================] - 0s 10ms/step - loss: 0.2401 - accuracy: 0.9205 - val_loss: 0.3080 - val_accuracy: 0.8939\n",
      "Epoch 161/200\n",
      "15/15 [==============================] - 0s 10ms/step - loss: 0.2258 - accuracy: 0.9304 - val_loss: 0.3142 - val_accuracy: 0.8959\n",
      "Epoch 162/200\n",
      "15/15 [==============================] - 0s 10ms/step - loss: 0.2337 - accuracy: 0.9248 - val_loss: 0.3290 - val_accuracy: 0.8909\n",
      "Epoch 163/200\n",
      "15/15 [==============================] - 0s 9ms/step - loss: 0.2248 - accuracy: 0.9253 - val_loss: 0.3545 - val_accuracy: 0.8815\n",
      "Epoch 164/200\n",
      "15/15 [==============================] - 0s 9ms/step - loss: 0.2397 - accuracy: 0.9203 - val_loss: 0.3023 - val_accuracy: 0.8988\n",
      "Epoch 165/200\n",
      "15/15 [==============================] - 0s 8ms/step - loss: 0.2277 - accuracy: 0.9243 - val_loss: 0.2951 - val_accuracy: 0.8983\n",
      "Epoch 166/200\n",
      "15/15 [==============================] - 0s 10ms/step - loss: 0.2258 - accuracy: 0.9280 - val_loss: 0.3156 - val_accuracy: 0.8968\n",
      "Epoch 167/200\n",
      "15/15 [==============================] - 0s 10ms/step - loss: 0.2236 - accuracy: 0.9243 - val_loss: 0.3396 - val_accuracy: 0.8894\n",
      "Epoch 168/200\n",
      "15/15 [==============================] - 0s 9ms/step - loss: 0.2275 - accuracy: 0.9237 - val_loss: 0.3207 - val_accuracy: 0.8973\n",
      "Epoch 169/200\n",
      "15/15 [==============================] - 0s 11ms/step - loss: 0.2180 - accuracy: 0.9280 - val_loss: 0.3111 - val_accuracy: 0.8959\n",
      "Epoch 170/200\n",
      "15/15 [==============================] - 0s 10ms/step - loss: 0.2254 - accuracy: 0.9249 - val_loss: 0.3207 - val_accuracy: 0.8919\n",
      "Epoch 171/200\n",
      "15/15 [==============================] - 0s 10ms/step - loss: 0.2272 - accuracy: 0.9237 - val_loss: 0.3137 - val_accuracy: 0.8944\n",
      "Epoch 172/200\n",
      "15/15 [==============================] - 0s 10ms/step - loss: 0.2107 - accuracy: 0.9312 - val_loss: 0.3296 - val_accuracy: 0.8949\n",
      "Epoch 173/200\n",
      "15/15 [==============================] - 0s 9ms/step - loss: 0.2382 - accuracy: 0.9204 - val_loss: 0.3304 - val_accuracy: 0.8934\n",
      "Epoch 174/200\n",
      "15/15 [==============================] - 0s 9ms/step - loss: 0.2162 - accuracy: 0.9292 - val_loss: 0.3146 - val_accuracy: 0.8924\n",
      "Epoch 175/200\n",
      "15/15 [==============================] - 0s 11ms/step - loss: 0.2195 - accuracy: 0.9279 - val_loss: 0.3263 - val_accuracy: 0.8914\n",
      "Epoch 176/200\n",
      "15/15 [==============================] - 0s 9ms/step - loss: 0.2138 - accuracy: 0.9282 - val_loss: 0.3228 - val_accuracy: 0.8949\n",
      "Epoch 177/200\n",
      "15/15 [==============================] - 0s 9ms/step - loss: 0.2353 - accuracy: 0.9214 - val_loss: 0.3019 - val_accuracy: 0.8963\n",
      "Epoch 178/200\n",
      "15/15 [==============================] - 0s 9ms/step - loss: 0.2303 - accuracy: 0.9242 - val_loss: 0.3207 - val_accuracy: 0.8944\n",
      "Epoch 179/200\n",
      "15/15 [==============================] - 0s 10ms/step - loss: 0.2136 - accuracy: 0.9322 - val_loss: 0.3065 - val_accuracy: 0.8963\n",
      "Epoch 180/200\n",
      "15/15 [==============================] - 0s 9ms/step - loss: 0.2327 - accuracy: 0.9231 - val_loss: 0.3247 - val_accuracy: 0.8944\n",
      "Epoch 181/200\n",
      "15/15 [==============================] - 0s 9ms/step - loss: 0.2215 - accuracy: 0.9310 - val_loss: 0.3264 - val_accuracy: 0.8899\n",
      "Epoch 182/200\n",
      "15/15 [==============================] - 0s 9ms/step - loss: 0.2224 - accuracy: 0.9271 - val_loss: 0.3213 - val_accuracy: 0.8939\n",
      "Epoch 183/200\n",
      "15/15 [==============================] - 0s 10ms/step - loss: 0.2169 - accuracy: 0.9284 - val_loss: 0.3115 - val_accuracy: 0.8988\n",
      "Epoch 184/200\n",
      "15/15 [==============================] - 0s 9ms/step - loss: 0.2166 - accuracy: 0.9272 - val_loss: 0.3129 - val_accuracy: 0.8973\n",
      "Epoch 185/200\n",
      "15/15 [==============================] - 0s 9ms/step - loss: 0.2159 - accuracy: 0.9285 - val_loss: 0.3127 - val_accuracy: 0.8949\n",
      "Epoch 186/200\n",
      "15/15 [==============================] - 0s 10ms/step - loss: 0.2124 - accuracy: 0.9282 - val_loss: 0.3257 - val_accuracy: 0.8904\n",
      "Epoch 187/200\n",
      "15/15 [==============================] - 0s 10ms/step - loss: 0.2332 - accuracy: 0.9229 - val_loss: 0.3290 - val_accuracy: 0.8924\n",
      "Epoch 188/200\n",
      "15/15 [==============================] - 0s 10ms/step - loss: 0.2369 - accuracy: 0.9208 - val_loss: 0.3266 - val_accuracy: 0.8939\n",
      "Epoch 189/200\n",
      "15/15 [==============================] - 0s 9ms/step - loss: 0.2271 - accuracy: 0.9233 - val_loss: 0.3380 - val_accuracy: 0.9008\n",
      "Epoch 190/200\n",
      "15/15 [==============================] - 0s 20ms/step - loss: 0.2076 - accuracy: 0.9322 - val_loss: 0.3296 - val_accuracy: 0.8914\n",
      "Epoch 191/200\n",
      "15/15 [==============================] - 0s 10ms/step - loss: 0.2261 - accuracy: 0.9230 - val_loss: 0.3271 - val_accuracy: 0.8954\n",
      "Epoch 192/200\n",
      "15/15 [==============================] - 0s 11ms/step - loss: 0.2292 - accuracy: 0.9239 - val_loss: 0.3045 - val_accuracy: 0.9008\n",
      "Epoch 193/200\n",
      "15/15 [==============================] - 0s 9ms/step - loss: 0.2279 - accuracy: 0.9272 - val_loss: 0.3227 - val_accuracy: 0.9008\n",
      "Epoch 194/200\n",
      "15/15 [==============================] - 0s 11ms/step - loss: 0.2121 - accuracy: 0.9341 - val_loss: 0.3156 - val_accuracy: 0.8993\n",
      "Epoch 195/200\n",
      "15/15 [==============================] - 0s 9ms/step - loss: 0.2185 - accuracy: 0.9286 - val_loss: 0.3182 - val_accuracy: 0.9003\n",
      "Epoch 196/200\n",
      "15/15 [==============================] - 0s 10ms/step - loss: 0.2244 - accuracy: 0.9253 - val_loss: 0.3232 - val_accuracy: 0.8993\n",
      "Epoch 197/200\n",
      "15/15 [==============================] - 0s 10ms/step - loss: 0.2291 - accuracy: 0.9243 - val_loss: 0.3126 - val_accuracy: 0.8963\n",
      "Epoch 198/200\n",
      "15/15 [==============================] - 0s 10ms/step - loss: 0.2365 - accuracy: 0.9199 - val_loss: 0.3278 - val_accuracy: 0.8963\n",
      "Epoch 199/200\n",
      "15/15 [==============================] - 0s 10ms/step - loss: 0.2156 - accuracy: 0.9311 - val_loss: 0.3344 - val_accuracy: 0.8954\n",
      "Epoch 200/200\n",
      "15/15 [==============================] - 0s 10ms/step - loss: 0.2131 - accuracy: 0.9323 - val_loss: 0.3396 - val_accuracy: 0.8993\n",
      "Time:  31.456388755999797\n"
     ]
    }
   ],
   "source": [
    "import timeit\n",
    "\n",
    "start = timeit.default_timer()\n",
    "\n",
    "#Your statements here\n",
    "\n",
    "bestNN=create_modelWithDropBatch(hidden_layers= 6, learning_rate= 0.05)\n",
    "history2 = bestNN.fit(\n",
    "     pca_finalDF, y_train_res,\n",
    "    validation_data=(pcavalidData, y_valid),\n",
    "    batch_size=512,\n",
    "    epochs=200,\n",
    "#     callbacks=[early_stopping],\n",
    ")\n",
    "stop = timeit.default_timer()\n",
    "\n",
    "print('Time: ', stop - start)  \n"
   ]
  },
  {
   "cell_type": "code",
   "execution_count": 26,
   "metadata": {},
   "outputs": [
    {
     "data": {
      "text/plain": [
       "<AxesSubplot:title={'center':'Accuracy'}>"
      ]
     },
     "execution_count": 26,
     "metadata": {},
     "output_type": "execute_result"
    },
    {
     "data": {
      "image/png": "[encoded data removed]",
      "text/plain": [
       "<Figure size 432x288 with 1 Axes>"
      ]
     },
     "metadata": {
      "needs_background": "light"
     },
     "output_type": "display_data"
    },
    {
     "data": {
      "image/png": "[encoded data removed]",
      "text/plain": [
       "<Figure size 432x288 with 1 Axes>"
      ]
     },
     "metadata": {
      "needs_background": "light"
     },
     "output_type": "display_data"
    }
   ],
   "source": [
    "history_df = pd.DataFrame(history2.history)\n",
    "history_df.loc[:, ['loss', 'val_loss']].plot(title=\"Cross-entropy\")\n",
    "history_df.loc[:, ['accuracy', 'val_accuracy']].plot(title=\"Accuracy\")"
   ]
  },
  {
   "cell_type": "code",
   "execution_count": 55,
   "metadata": {
    "scrolled": true
   },
   "outputs": [
    {
     "name": "stdout",
     "output_type": "stream",
     "text": [
      "Accuracy_Score: 33.328990228013026 %\n",
      "precision_score: 0.0 %\n",
      "recall_score: 0.0 %\n"
     ]
    },
    {
     "name": "stderr",
     "output_type": "stream",
     "text": [
      "/home/dheekshitha-vibha/miniconda3/envs/myenv/lib/python3.6/site-packages/tensorflow/python/keras/engine/sequential.py:450: UserWarning: `model.predict_classes()` is deprecated and will be removed after 2021-01-01. Please use instead:* `np.argmax(model.predict(x), axis=-1)`,   if your model does multi-class classification   (e.g. if it uses a `softmax` last-layer activation).* `(model.predict(x) > 0.5).astype(\"int32\")`,   if your model does binary classification   (e.g. if it uses a `sigmoid` last-layer activation).\n",
      "  warnings.warn('`model.predict_classes()` is deprecated and '\n",
      "/home/dheekshitha-vibha/miniconda3/envs/myenv/lib/python3.6/site-packages/sklearn/metrics/_classification.py:1245: UndefinedMetricWarning: Precision is ill-defined and being set to 0.0 due to no predicted samples. Use `zero_division` parameter to control this behavior.\n",
      "  _warn_prf(average, modifier, msg_start, len(result))\n"
     ]
    }
   ],
   "source": [
    "y_pred_SVM = bestNN.predict_classes(pca_finalDF)\n",
    "\n",
    "\n",
    "# print('Classification report: \\n', metrics.classification_report(y_test, model))\n",
    "print('Accuracy_Score:',metrics.accuracy_score(y_train_res, y_pred_SVM)*100,'%')\n",
    "\n",
    "\n",
    "print('precision_score:',metrics.precision_score(y_train_res, y_pred_SVM)*100,'%')\n",
    "\n",
    "print('recall_score:',metrics.recall_score(y_train_res, y_pred_SVM)*100,'%')"
   ]
  },
  {
   "cell_type": "code",
   "execution_count": 52,
   "metadata": {
    "scrolled": false
   },
   "outputs": [
    {
     "name": "stderr",
     "output_type": "stream",
     "text": [
      "/home/dheekshitha-vibha/miniconda3/envs/myenv/lib/python3.6/site-packages/tensorflow/python/keras/engine/sequential.py:450: UserWarning: `model.predict_classes()` is deprecated and will be removed after 2021-01-01. Please use instead:* `np.argmax(model.predict(x), axis=-1)`,   if your model does multi-class classification   (e.g. if it uses a `softmax` last-layer activation).* `(model.predict(x) > 0.5).astype(\"int32\")`,   if your model does binary classification   (e.g. if it uses a `sigmoid` last-layer activation).\n",
      "  warnings.warn('`model.predict_classes()` is deprecated and '\n"
     ]
    },
    {
     "data": {
      "image/png": "[encoded data removed]",
      "text/plain": [
       "<Figure size 576x432 with 2 Axes>"
      ]
     },
     "metadata": {
      "needs_background": "light"
     },
     "output_type": "display_data"
    },
    {
     "name": "stdout",
     "output_type": "stream",
     "text": [
      "Confusion matrix: \n",
      " [[ 339    0]\n",
      " [1687    0]]\n",
      "TP:  0\n",
      "TN:  339\n",
      "FP:  0\n",
      "FN:  1687\n",
      "Classification report: \n",
      "               precision    recall  f1-score   support\n",
      "\n",
      "           0       0.17      1.00      0.29       339\n",
      "           1       0.00      0.00      0.00      1687\n",
      "\n",
      "    accuracy                           0.17      2026\n",
      "   macro avg       0.08      0.50      0.14      2026\n",
      "weighted avg       0.03      0.17      0.05      2026\n",
      "\n"
     ]
    },
    {
     "name": "stderr",
     "output_type": "stream",
     "text": [
      "/home/dheekshitha-vibha/miniconda3/envs/myenv/lib/python3.6/site-packages/tensorflow/python/keras/engine/sequential.py:450: UserWarning: `model.predict_classes()` is deprecated and will be removed after 2021-01-01. Please use instead:* `np.argmax(model.predict(x), axis=-1)`,   if your model does multi-class classification   (e.g. if it uses a `softmax` last-layer activation).* `(model.predict(x) > 0.5).astype(\"int32\")`,   if your model does binary classification   (e.g. if it uses a `sigmoid` last-layer activation).\n",
      "  warnings.warn('`model.predict_classes()` is deprecated and '\n",
      "/home/dheekshitha-vibha/miniconda3/envs/myenv/lib/python3.6/site-packages/sklearn/metrics/_classification.py:1245: UndefinedMetricWarning: Precision and F-score are ill-defined and being set to 0.0 in labels with no predicted samples. Use `zero_division` parameter to control this behavior.\n",
      "  _warn_prf(average, modifier, msg_start, len(result))\n",
      "/home/dheekshitha-vibha/miniconda3/envs/myenv/lib/python3.6/site-packages/sklearn/metrics/_classification.py:1245: UndefinedMetricWarning: Precision and F-score are ill-defined and being set to 0.0 in labels with no predicted samples. Use `zero_division` parameter to control this behavior.\n",
      "  _warn_prf(average, modifier, msg_start, len(result))\n",
      "/home/dheekshitha-vibha/miniconda3/envs/myenv/lib/python3.6/site-packages/sklearn/metrics/_classification.py:1245: UndefinedMetricWarning: Precision and F-score are ill-defined and being set to 0.0 in labels with no predicted samples. Use `zero_division` parameter to control this behavior.\n",
      "  _warn_prf(average, modifier, msg_start, len(result))\n",
      "/home/dheekshitha-vibha/miniconda3/envs/myenv/lib/python3.6/site-packages/tensorflow/python/keras/engine/sequential.py:450: UserWarning: `model.predict_classes()` is deprecated and will be removed after 2021-01-01. Please use instead:* `np.argmax(model.predict(x), axis=-1)`,   if your model does multi-class classification   (e.g. if it uses a `softmax` last-layer activation).* `(model.predict(x) > 0.5).astype(\"int32\")`,   if your model does binary classification   (e.g. if it uses a `sigmoid` last-layer activation).\n",
      "  warnings.warn('`model.predict_classes()` is deprecated and '\n"
     ]
    },
    {
     "name": "stdout",
     "output_type": "stream",
     "text": [
      "Training Accuracy_Score: 33.328990228013026 %\n",
      "Training Precision: 0.0 %\n"
     ]
    },
    {
     "name": "stderr",
     "output_type": "stream",
     "text": [
      "/home/dheekshitha-vibha/miniconda3/envs/myenv/lib/python3.6/site-packages/tensorflow/python/keras/engine/sequential.py:450: UserWarning: `model.predict_classes()` is deprecated and will be removed after 2021-01-01. Please use instead:* `np.argmax(model.predict(x), axis=-1)`,   if your model does multi-class classification   (e.g. if it uses a `softmax` last-layer activation).* `(model.predict(x) > 0.5).astype(\"int32\")`,   if your model does binary classification   (e.g. if it uses a `sigmoid` last-layer activation).\n",
      "  warnings.warn('`model.predict_classes()` is deprecated and '\n",
      "/home/dheekshitha-vibha/miniconda3/envs/myenv/lib/python3.6/site-packages/sklearn/metrics/_classification.py:1245: UndefinedMetricWarning: Precision is ill-defined and being set to 0.0 due to no predicted samples. Use `zero_division` parameter to control this behavior.\n",
      "  _warn_prf(average, modifier, msg_start, len(result))\n",
      "/home/dheekshitha-vibha/miniconda3/envs/myenv/lib/python3.6/site-packages/tensorflow/python/keras/engine/sequential.py:450: UserWarning: `model.predict_classes()` is deprecated and will be removed after 2021-01-01. Please use instead:* `np.argmax(model.predict(x), axis=-1)`,   if your model does multi-class classification   (e.g. if it uses a `softmax` last-layer activation).* `(model.predict(x) > 0.5).astype(\"int32\")`,   if your model does binary classification   (e.g. if it uses a `sigmoid` last-layer activation).\n",
      "  warnings.warn('`model.predict_classes()` is deprecated and '\n"
     ]
    },
    {
     "name": "stdout",
     "output_type": "stream",
     "text": [
      "Training Recall: 0.0 %\n"
     ]
    },
    {
     "name": "stderr",
     "output_type": "stream",
     "text": [
      "/home/dheekshitha-vibha/miniconda3/envs/myenv/lib/python3.6/site-packages/tensorflow/python/keras/engine/sequential.py:450: UserWarning: `model.predict_classes()` is deprecated and will be removed after 2021-01-01. Please use instead:* `np.argmax(model.predict(x), axis=-1)`,   if your model does multi-class classification   (e.g. if it uses a `softmax` last-layer activation).* `(model.predict(x) > 0.5).astype(\"int32\")`,   if your model does binary classification   (e.g. if it uses a `sigmoid` last-layer activation).\n",
      "  warnings.warn('`model.predict_classes()` is deprecated and '\n"
     ]
    },
    {
     "name": "stdout",
     "output_type": "stream",
     "text": [
      "Training F1 Score: 0.0 %\n",
      "Validation Accuracy_Score: 16.732477788746298 %\n",
      "Validation Precision: 0.0 %\n",
      "Validation Recall: 0.0 %\n",
      "Validation F1 Score: 0.0 %\n"
     ]
    },
    {
     "name": "stderr",
     "output_type": "stream",
     "text": [
      "/home/dheekshitha-vibha/miniconda3/envs/myenv/lib/python3.6/site-packages/sklearn/metrics/_classification.py:1245: UndefinedMetricWarning: Precision is ill-defined and being set to 0.0 due to no predicted samples. Use `zero_division` parameter to control this behavior.\n",
      "  _warn_prf(average, modifier, msg_start, len(result))\n"
     ]
    }
   ],
   "source": [
    "\n",
    "plotconfusionMatrix(bestNN,y_valid['Attrition_Flag'],pcavalidData)\n",
    "\n",
    "getMetrics(bestNN,pca_finalDF,y_train_res['Attrition_Flag'],pcavalidData,y_valid['Attrition_Flag'])"
   ]
  }
 ],
 "metadata": {
  "kernelspec": {
   "display_name": "myenv",
   "language": "python",
   "name": "myenv"
  },
  "language_info": {
   "codemirror_mode": {
    "name": "ipython",
    "version": 3
   },
   "file_extension": ".py",
   "mimetype": "text/x-python",
   "name": "python",
   "nbconvert_exporter": "python",
   "pygments_lexer": "ipython3",
   "version": "3.6.12"
  }
 },
 "nbformat": 4,
 "nbformat_minor": 4
}
