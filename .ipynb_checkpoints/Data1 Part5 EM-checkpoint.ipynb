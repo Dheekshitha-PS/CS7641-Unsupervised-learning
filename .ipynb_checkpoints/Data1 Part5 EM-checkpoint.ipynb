{
 "cells": [
  {
   "cell_type": "code",
   "execution_count": 1,
   "metadata": {},
   "outputs": [],
   "source": [
    "import pickle as pk\n",
    "import pandas as pd\n",
    "import numpy as np\n",
    "import copy\n",
    "\n",
    "data=pd.read_csv(\"./Data/BankChurners.csv\")\n",
    "\n",
    "data['Attrition_Flag'] = data['Attrition_Flag'].map({1: 'Existing Customer', 0: 'Attrited Customer'})\n"
   ]
  },
  {
   "cell_type": "code",
   "execution_count": 2,
   "metadata": {},
   "outputs": [],
   "source": [
    "import numpy as np # linear algebra\n",
    "import pandas as pd # data processing, CSV file I/O (e.g. pd.read_csv)\n",
    "import matplotlib.pyplot as plt\n",
    "import seaborn as sns\n",
    "%matplotlib inline\n",
    "\n",
    "\n",
    "from sklearn.tree import DecisionTreeClassifier\n",
    "from sklearn.metrics import roc_curve, auc\n",
    "\n",
    "from sklearn.model_selection import KFold, cross_val_score\n",
    "from sklearn.preprocessing import StandardScaler, OneHotEncoder, LabelEncoder\n",
    "\n",
    "# # print)str\n",
    "# scaled_x_train=pd.read_csv(\"./Data/scaled_x_train_smote2.csv\")\n",
    "# scaled_x_test=pd.read_csv(\"./Data/scaled_x_test_smote2.csv\")\n",
    "# # pd.read_csv(\"./Data/scaled_x_test_smote2.csv\")\n",
    "# scaled_x_cv=pd.read_csv(\"./Data/scaled_x_cv_smote2.csv\")\n",
    "\n",
    "y_test_copy=pd.read_csv(\"./Data/y_test_smote3.csv\")\n",
    "x_test=pd.read_csv(\"./Data/x_test_smote3.csv\")\n",
    "\n",
    "X_train_res=pd.read_csv(\"./Data/X_train_res_smote3.csv\")\n",
    "y_train_res=pd.read_csv(\"./Data/y_train_res_smote3.csv\")\n",
    "\n",
    "X_train_res=X_train_res.drop('Unnamed: 0',axis=1)\n",
    "y_train_res=y_train_res.drop('Unnamed: 0',axis=1)\n",
    "x_test=x_test.drop('Unnamed: 0',axis=1)\n",
    "\n",
    "\n",
    "y_test_copy=y_test_copy.drop('Unnamed: 0',axis=1)\n",
    "# scaled_x_test=scaled_x_test.drop('Unnamed: 0',axis=1)\n",
    "# scaled_x_cv=scaled_x_cv.drop('Unnamed: 0',axis=1)\n",
    "\n",
    "\n",
    "y_test=y_test_copy\n",
    "\n",
    "y_valid=pd.read_csv(\"./Data/y_valid_smote3.csv\")\n",
    "x_valid=pd.read_csv(\"./Data/x_valid_smote3.csv\")\n",
    "\n",
    "x_valid=x_valid.drop('Unnamed: 0',axis=1)\n",
    "y_valid=y_valid.drop('Unnamed: 0',axis=1)\n",
    "\n",
    "y_valid.shape\n",
    "\n",
    "\n",
    "\n",
    "\n",
    "y_train_res['Attrition_Flag']=y_train_res['Attrition_Flag'].map({'Existing Customer': 1, 'Attrited Customer': 0})\n",
    "y_valid['Attrition_Flag']=y_valid['Attrition_Flag'].map({'Existing Customer': 1, 'Attrited Customer': 0})\n",
    "y_test_copy['Attrition_Flag']=y_test_copy['Attrition_Flag'].map({'Existing Customer': 1, 'Attrited Customer': 0})\n",
    "\n"
   ]
  },
  {
   "cell_type": "code",
   "execution_count": 3,
   "metadata": {},
   "outputs": [
    {
     "data": {
      "text/plain": [
       "(7675, 32)"
      ]
     },
     "execution_count": 3,
     "metadata": {},
     "output_type": "execute_result"
    }
   ],
   "source": [
    "#  Scaling features\n",
    "scaler = StandardScaler()\n",
    "scaler.fit(X_train_res)\n",
    "\n",
    "scaled_x_train = scaler.transform(X_train_res)\n",
    "scaled_x_test = scaler.transform(x_test)\n",
    "\n",
    "\n",
    "scaled_x_valid=scaler.transform(x_valid)\n",
    "# scaled_y_cv =scaler.transform(y_cv)\n",
    "\n",
    "scaled_x_train.shape\n",
    "\n",
    "\n",
    "scaled_x_train.shape"
   ]
  },
  {
   "cell_type": "code",
   "execution_count": 4,
   "metadata": {},
   "outputs": [],
   "source": [
    "from sklearn.cluster import KMeans\n",
    "from sklearn.metrics import silhouette_samples, silhouette_score"
   ]
  },
  {
   "cell_type": "code",
   "execution_count": 7,
   "metadata": {},
   "outputs": [],
   "source": [
    "X=scaled_x_train\n",
    "from sklearn import mixture"
   ]
  },
  {
   "cell_type": "code",
   "execution_count": 9,
   "metadata": {
    "scrolled": true
   },
   "outputs": [],
   "source": [
    "gmm = mixture.GaussianMixture(n_components=5,\n",
    "                                      covariance_type='diag')\n",
    "gmmData=gmm.fit(X)\n",
    "\n",
    "\n",
    "\n",
    "df=pd.DataFrame(columns=X_train_res.columns)\n",
    "df.shape\n",
    "\n",
    "df=pd.DataFrame(scaled_x_train)\n",
    "df.columns=X_train_res.columns\n",
    "\n",
    "\n",
    "\n",
    "#                 ['k_means','target','1','2','3','4','5'])\n",
    "# df['5']=scaled_x_train[:,5]\n",
    "# df['6']=scaled_x_train[:,6]\n",
    "# df['k_means']\n",
    "=gmmData.predict_proba(X)\n",
    "# df['target']=y_train_res\n",
    "# print(df.shape)"
   ]
  },
  {
   "cell_type": "code",
   "execution_count": 10,
   "metadata": {},
   "outputs": [],
   "source": [
    "Xvalid=gmm.predict_proba(scaled_x_valid)"
   ]
  },
  {
   "cell_type": "code",
   "execution_count": 11,
   "metadata": {},
   "outputs": [
    {
     "data": {
      "text/plain": [
       "array([[1.00000000e+00, 0.00000000e+00, 3.16147350e-16, 0.00000000e+00,\n",
       "        4.79056587e-36],\n",
       "       [0.00000000e+00, 1.00000000e+00, 0.00000000e+00, 0.00000000e+00,\n",
       "        0.00000000e+00],\n",
       "       [1.00000000e+00, 0.00000000e+00, 0.00000000e+00, 0.00000000e+00,\n",
       "        5.67792316e-23],\n",
       "       ...,\n",
       "       [0.00000000e+00, 0.00000000e+00, 0.00000000e+00, 1.00000000e+00,\n",
       "        0.00000000e+00],\n",
       "       [0.00000000e+00, 0.00000000e+00, 1.00000000e+00, 0.00000000e+00,\n",
       "        1.79222636e-24],\n",
       "       [1.00000000e+00, 0.00000000e+00, 4.52297816e-14, 0.00000000e+00,\n",
       "        8.91451607e-37]])"
      ]
     },
     "execution_count": 11,
     "metadata": {},
     "output_type": "execute_result"
    }
   ],
   "source": [
    "Xvalid"
   ]
  },
  {
   "cell_type": "code",
   "execution_count": 12,
   "metadata": {},
   "outputs": [
    {
     "data": {
      "text/plain": [
       "array([0, 1, 0, ..., 3, 2, 0])"
      ]
     },
     "execution_count": 12,
     "metadata": {},
     "output_type": "execute_result"
    }
   ],
   "source": [
    "XValidclusters=gmm.predict(scaled_x_valid)\n",
    "XValidclusters"
   ]
  },
  {
   "cell_type": "code",
   "execution_count": 13,
   "metadata": {
    "scrolled": true
   },
   "outputs": [],
   "source": [
    "XValidclusters=pd.DataFrame(XValidclusters,columns=[\"Cluster\"])"
   ]
  },
  {
   "cell_type": "code",
   "execution_count": 15,
   "metadata": {
    "scrolled": true
   },
   "outputs": [
    {
     "data": {
      "text/plain": [
       "(7675, 5)"
      ]
     },
     "execution_count": 15,
     "metadata": {},
     "output_type": "execute_result"
    }
   ],
   "source": [
    "XtrainClusters=gmm.predict(scaled_x_train)\n",
    "XtrainClusters=pd.DataFrame(XtrainClusters,columns=[\"Cluster\"])\n",
    "XtrainClustersEn = pd.get_dummies(XtrainClusters['Cluster'])\n",
    "XtrainClustersEn.shape"
   ]
  },
  {
   "cell_type": "code",
   "execution_count": 16,
   "metadata": {},
   "outputs": [],
   "source": [
    "Xtrain=gmmData.predict_proba(X)\n"
   ]
  },
  {
   "cell_type": "code",
   "execution_count": 17,
   "metadata": {},
   "outputs": [
    {
     "data": {
      "text/plain": [
       "(7675, 10)"
      ]
     },
     "execution_count": 17,
     "metadata": {},
     "output_type": "execute_result"
    }
   ],
   "source": [
    "z=np.array(XtrainClustersEn)\n",
    "z\n",
    "\n",
    "# XValidclustersEn[[0,1],]\n",
    "\n",
    "k=Xtrain\n",
    "\n",
    "\n",
    "XtrainData=np.append(k,z,1)\n",
    "XtrainData.shape"
   ]
  },
  {
   "cell_type": "code",
   "execution_count": 28,
   "metadata": {},
   "outputs": [],
   "source": [
    "# enc = OneHotEncoder(handle_unknown='ignore')"
   ]
  },
  {
   "cell_type": "code",
   "execution_count": 33,
   "metadata": {},
   "outputs": [],
   "source": [
    "# enc.fit(XValidclusters)"
   ]
  },
  {
   "cell_type": "code",
   "execution_count": 18,
   "metadata": {},
   "outputs": [
    {
     "data": {
      "text/plain": [
       "array([0, 1, 2, 3, 4])"
      ]
     },
     "execution_count": 18,
     "metadata": {},
     "output_type": "execute_result"
    }
   ],
   "source": [
    "XValidclusters.Cluster.unique()"
   ]
  },
  {
   "cell_type": "code",
   "execution_count": 19,
   "metadata": {},
   "outputs": [
    {
     "data": {
      "text/plain": [
       "(2026, 5)"
      ]
     },
     "execution_count": 19,
     "metadata": {},
     "output_type": "execute_result"
    }
   ],
   "source": [
    "XValidclustersEn = pd.get_dummies(XValidclusters['Cluster'])\n",
    "XValidclustersEn.shape"
   ]
  },
  {
   "cell_type": "code",
   "execution_count": 46,
   "metadata": {
    "scrolled": true
   },
   "outputs": [
    {
     "data": {
      "text/plain": [
       "array([[ 7.35582623,  5.60375117,  7.18623168, ...,  5.14904066,\n",
       "         6.7546215 , 27.46151671],\n",
       "       [ 9.71587409,  8.92641324,  9.03088296, ...,  8.55344962,\n",
       "         9.24700354, 27.63178362],\n",
       "       [ 8.12208827,  7.48258923,  7.41857019, ...,  7.18346448,\n",
       "         7.68531536, 27.27520064],\n",
       "       ...,\n",
       "       [ 6.99264225,  5.48579692,  6.06326103, ...,  4.93452826,\n",
       "         6.32122702, 27.14940592],\n",
       "       [ 8.05842462,  7.22606344,  8.15337096, ...,  7.16621905,\n",
       "         4.44736499, 27.62435391],\n",
       "       [ 7.4890939 ,  5.34455036,  7.40699903, ...,  6.25830121,\n",
       "         6.86015692, 27.12932602]])"
      ]
     },
     "execution_count": 46,
     "metadata": {},
     "output_type": "execute_result"
    }
   ],
   "source": [
    "Xvalid"
   ]
  },
  {
   "cell_type": "code",
   "execution_count": 53,
   "metadata": {},
   "outputs": [
    {
     "data": {
      "text/plain": [
       "array([ 7.35582623,  5.60375117,  7.18623168,  6.49747395,  4.63301126,\n",
       "        5.90254497,  8.16734168, 12.38278229,  6.96429959,  7.46312683,\n",
       "        3.88727625,  6.54522355,  6.11853051,  5.14904066,  6.7546215 ,\n",
       "       27.46151671])"
      ]
     },
     "execution_count": 53,
     "metadata": {},
     "output_type": "execute_result"
    }
   ],
   "source": [
    "Xvalid[0]"
   ]
  },
  {
   "cell_type": "code",
   "execution_count": 20,
   "metadata": {
    "scrolled": true
   },
   "outputs": [
    {
     "data": {
      "text/plain": [
       "array([[1, 0, 0, 0, 0],\n",
       "       [0, 1, 0, 0, 0],\n",
       "       [1, 0, 0, 0, 0],\n",
       "       ...,\n",
       "       [0, 0, 0, 1, 0],\n",
       "       [0, 0, 1, 0, 0],\n",
       "       [1, 0, 0, 0, 0]], dtype=uint8)"
      ]
     },
     "execution_count": 20,
     "metadata": {},
     "output_type": "execute_result"
    }
   ],
   "source": [
    "z=np.array(XValidclustersEn)\n",
    "z"
   ]
  },
  {
   "cell_type": "code",
   "execution_count": 64,
   "metadata": {
    "scrolled": true
   },
   "outputs": [],
   "source": [
    "# XValidclustersEn[[0,1],]"
   ]
  },
  {
   "cell_type": "code",
   "execution_count": 21,
   "metadata": {},
   "outputs": [],
   "source": [
    "k=Xvalid\n"
   ]
  },
  {
   "cell_type": "code",
   "execution_count": 22,
   "metadata": {},
   "outputs": [],
   "source": [
    "XvalidData=np.append(k,z,1)"
   ]
  },
  {
   "cell_type": "code",
   "execution_count": null,
   "metadata": {},
   "outputs": [],
   "source": []
  },
  {
   "cell_type": "code",
   "execution_count": 14,
   "metadata": {},
   "outputs": [],
   "source": [
    "# df['k_means']=kmeanModel.predict(scaled_x_train)\n",
    "# df['target']=y_train_res\n"
   ]
  },
  {
   "cell_type": "code",
   "execution_count": 5,
   "metadata": {},
   "outputs": [],
   "source": [
    "# pca_reload = pk.load(open(\"pca_finalDF_data1.pkl\",'rb'))\n",
    "# result_new = pca_reload .transform(X)"
   ]
  },
  {
   "cell_type": "code",
   "execution_count": 7,
   "metadata": {},
   "outputs": [
    {
     "data": {
      "text/plain": [
       "(7675, 23)"
      ]
     },
     "execution_count": 7,
     "metadata": {},
     "output_type": "execute_result"
    }
   ],
   "source": [
    "# pca_reload.shape"
   ]
  },
  {
   "cell_type": "code",
   "execution_count": 11,
   "metadata": {},
   "outputs": [],
   "source": [
    "def create_model(  hidden_layers,learning_rate):\n",
    "  # Initialize the constructor\n",
    "    model =  keras.Sequential()\n",
    "      # Add an input layer\n",
    "    activation='sigmoid'\n",
    "    model.add(layers.Dense(256, activation=activation, input_shape=input_shape))\n",
    "    for i in range(hidden_layers):\n",
    "          # Add one hidden layer\n",
    "        model.add(layers.Dense(8, activation=activation))\n",
    "\n",
    "      # Add an output layer \n",
    "    model.add(layers.Dense(1, activation=activation))\n",
    "    opt = keras.optimizers.Adam(learning_rate=learning_rate)\n",
    "      #compile model\n",
    "    model.compile(loss='binary_crossentropy', optimizer=opt, metrics=\n",
    "      ['accuracy'])\n",
    "\n",
    "    return model\n"
   ]
  },
  {
   "cell_type": "code",
   "execution_count": 23,
   "metadata": {},
   "outputs": [],
   "source": [
    "\n",
    "import joblib\n",
    "\n",
    "# joblib.dump(DTmodel, 'DTgrid_NLP.pkl')\n",
    "\n",
    "from sklearn import metrics\n",
    "\n",
    "# tfidf_vector_X = xtrain_tfidf_ngram.toarray()  #//shape - (3,6)\n",
    "# tfidf_vector_valid= xvalid_tfidf_ngram.toarray() #//shape - (3,6)\n",
    "# tfidf_vector_X = tfidf_vector_X[:, :, None] #//shape - (3,6,1) \n",
    "# tfidf_vector_valid = tfidf_vector_valid[:, :, None] #//shape - (3,6,1)\n",
    "\n",
    "\n",
    "# tfidf_vector_X.shape[1:]\n",
    "\n",
    "from tensorflow import keras\n",
    "from tensorflow.keras import layers\n",
    "\n",
    "# input_shape= [x_train.shape[1]]\n",
    "\n",
    "# NNmodel = create_model(optimizer='adam', activation = 'sigmoid', hidden_layers=1,learning_rate=0.01)\n",
    "\n",
    "\n",
    "\n",
    "\n",
    "from sklearn.model_selection import RandomizedSearchCV, GridSearchCV\n",
    "from sklearn.metrics import roc_auc_score\n",
    "from sklearn.model_selection import StratifiedKFold\n"
   ]
  },
  {
   "cell_type": "code",
   "execution_count": 24,
   "metadata": {},
   "outputs": [],
   "source": [
    "# sess.run(optimizer._lr)\n",
    "def create_modelWithDropBatch(  hidden_layers,learning_rate):\n",
    "  # Initialize the constructor\n",
    "    model =  keras.Sequential()\n",
    "      # Add an input layer\n",
    "    activation='sigmoid'\n",
    "    model.add(layers.Dense(256, activation=activation, input_shape=input_shape))\n",
    "    for i in range(hidden_layers):\n",
    "          # Add one hidden layer\n",
    "        model.add(layers.BatchNormalization())\n",
    "        model.add(layers.Dropout(0.5))\n",
    "        model.add(layers.Dense(8, activation='relu'))\n",
    "\n",
    "      # Add an output layer \n",
    "    model.add(layers.Dense(1, activation=activation))\n",
    "    opt = keras.optimizers.Adam(learning_rate=learning_rate)\n",
    "      #compile model\n",
    "    model.compile(loss='binary_crossentropy', optimizer=opt, metrics=\n",
    "      ['accuracy'])\n",
    "\n",
    "    return model\n",
    "\n"
   ]
  },
  {
   "cell_type": "code",
   "execution_count": 25,
   "metadata": {},
   "outputs": [],
   "source": [
    "from tensorflow.keras.wrappers.scikit_learn import KerasClassifier"
   ]
  },
  {
   "cell_type": "code",
   "execution_count": 20,
   "metadata": {},
   "outputs": [
    {
     "data": {
      "text/plain": [
       "[32]"
      ]
     },
     "execution_count": 20,
     "metadata": {},
     "output_type": "execute_result"
    }
   ],
   "source": [
    "# pca_finalDF.shape\n",
    "# input_shape"
   ]
  },
  {
   "cell_type": "code",
   "execution_count": 26,
   "metadata": {},
   "outputs": [],
   "source": [
    "model_Batch_drop_relu =  KerasClassifier(build_fn=create_modelWithDropBatch, verbose = False)  "
   ]
  },
  {
   "cell_type": "code",
   "execution_count": 27,
   "metadata": {},
   "outputs": [
    {
     "data": {
      "text/plain": [
       "(2026, 10)"
      ]
     },
     "execution_count": 27,
     "metadata": {},
     "output_type": "execute_result"
    }
   ],
   "source": [
    "XvalidData.shape"
   ]
  },
  {
   "cell_type": "code",
   "execution_count": 28,
   "metadata": {},
   "outputs": [],
   "source": [
    "# Xvalid."
   ]
  },
  {
   "cell_type": "code",
   "execution_count": 29,
   "metadata": {
    "scrolled": true
   },
   "outputs": [
    {
     "name": "stdout",
     "output_type": "stream",
     "text": [
      "{'hidden_layers': 2, 'learning_rate': 0.5}\n",
      "0.666710102558136\n"
     ]
    }
   ],
   "source": [
    "\n",
    "input_shape=[10]\n",
    "#\n",
    "model_Batch_drop_relu =  KerasClassifier(build_fn=create_modelWithDropBatch, verbose = False)  \n",
    "\n",
    "param_grid={'learning_rate':[0.1,0.001,0.01,0.05,0.05,0.5],'hidden_layers':[2,4,6,8,10]}\n",
    "\n",
    "gridNN_Batch_drop_relu = GridSearchCV(estimator = model_Batch_drop_relu, param_grid = param_grid)\n",
    "\n",
    "model_Batch_drop_relu.get_params()\n",
    "\n",
    "history_Batch_drop_relu = gridNN_Batch_drop_relu.fit(\n",
    "     XtrainData, y_train_res,\n",
    "    validation_data=(XvalidData, y_valid),\n",
    "    batch_size=512,\n",
    "    epochs=200,\n",
    "#     callbacks=[early_stopping],\n",
    ")\n",
    "\n",
    "print(history_Batch_drop_relu.best_params_)\n",
    "\n",
    "print(history_Batch_drop_relu.best_score_)\n",
    "# print(grid.best_params_)"
   ]
  },
  {
   "cell_type": "code",
   "execution_count": 61,
   "metadata": {
    "scrolled": true
   },
   "outputs": [
    {
     "name": "stderr",
     "output_type": "stream",
     "text": [
      "/home/dheekshitha-vibha/miniconda3/envs/myenv/lib/python3.6/site-packages/tensorflow/python/keras/engine/sequential.py:450: UserWarning: `model.predict_classes()` is deprecated and will be removed after 2021-01-01. Please use instead:* `np.argmax(model.predict(x), axis=-1)`,   if your model does multi-class classification   (e.g. if it uses a `softmax` last-layer activation).* `(model.predict(x) > 0.5).astype(\"int32\")`,   if your model does binary classification   (e.g. if it uses a `sigmoid` last-layer activation).\n",
      "  warnings.warn('`model.predict_classes()` is deprecated and '\n"
     ]
    },
    {
     "name": "stdout",
     "output_type": "stream",
     "text": [
      "Accuracy_Score: 66.67100977198697 %\n",
      "precision_score: 66.67100977198697 %\n",
      "recall_score: 100.0 %\n"
     ]
    },
    {
     "data": {
      "image/png": "[encoded data removed]",
      "text/plain": [
       "<Figure size 432x288 with 1 Axes>"
      ]
     },
     "metadata": {
      "needs_background": "light"
     },
     "output_type": "display_data"
    },
    {
     "data": {
      "image/png": "[encoded data removed]",
      "text/plain": [
       "<Figure size 432x288 with 1 Axes>"
      ]
     },
     "metadata": {
      "needs_background": "light"
     },
     "output_type": "display_data"
    }
   ],
   "source": [
    "history_df = pd.DataFrame(history3.history)\n",
    "history_df.loc[:, ['loss', 'val_loss']].plot(title=\"Cross-entropy\")\n",
    "history_df.loc[:, ['accuracy', 'val_accuracy']].plot(title=\"Accuracy\")\n",
    "\n",
    "y_pred_SVM = bestNN2.predict_classes(pca_finalDF)\n",
    "\n",
    "\n",
    "# print('Classification report: \\n', metrics.classification_report(y_test, model))\n",
    "print('Accuracy_Score:',metrics.accuracy_score(y_train_res, y_pred_SVM)*100,'%')\n",
    "\n",
    "\n",
    "print('precision_score:',metrics.precision_score(y_train_res, y_pred_SVM)*100,'%')\n",
    "\n",
    "print('recall_score:',metrics.recall_score(y_train_res, y_pred_SVM)*100,'%')"
   ]
  },
  {
   "cell_type": "code",
   "execution_count": null,
   "metadata": {},
   "outputs": [],
   "source": []
  },
  {
   "cell_type": "code",
   "execution_count": 30,
   "metadata": {},
   "outputs": [],
   "source": [
    "def plotconfusionMatrix(modelObj,ytest,xtest):\n",
    "#     model_DecTreeClass2.fit(X_train_res, y_train_res)\n",
    "    y_pred_DecTreeClass2 = modelObj.predict_classes(xtest)\n",
    "    conf_mat2 = metrics.confusion_matrix(ytest, y_pred_DecTreeClass2)\n",
    "    plt.figure(figsize=(8,6))\n",
    "    sns.heatmap(conf_mat2,annot=True)\n",
    "    plt.title(\"Confusion_matrix\")\n",
    "    plt.xlabel(\"Predicted Class\")\n",
    "    plt.ylabel(\"Actual class\")\n",
    "    plt.show()\n",
    "    print('Confusion matrix: \\n', conf_mat2)\n",
    "    print('TP: ', conf_mat2[1,1])\n",
    "    print('TN: ', conf_mat2[0,0])\n",
    "    print('FP: ', conf_mat2[0,1])\n",
    "    print('FN: ', conf_mat2[1,0])\n",
    "\n",
    "def getMetrics(modelObj,xTrain,yTrain,xValid,yValid):\n",
    "    y_pred_DecTreeClass2 = modelObj.predict_classes(xValid)\n",
    "    print('Classification report: \\n', metrics.classification_report(yValid, y_pred_DecTreeClass2))\n",
    "    print('Training Accuracy_Score:',metrics.accuracy_score(yTrain, modelObj.predict_classes(xTrain))*100,'%')\n",
    "    print('Training Precision:',metrics.precision_score(yTrain, modelObj.predict_classes(xTrain))*100,'%')\n",
    "    print('Training Recall:',metrics.recall_score(yTrain, modelObj.predict_classes(xTrain))*100,'%')\n",
    "    \n",
    "    print('Training F1 Score:',metrics.f1_score(yTrain, modelObj.predict_classes(xTrain))*100,'%')\n",
    "\n",
    "    \n",
    "    print('Validation Accuracy_Score:',metrics.accuracy_score(yValid, y_pred_DecTreeClass2)*100,'%')\n",
    "    print('Validation Precision:',metrics.precision_score(yValid, y_pred_DecTreeClass2)*100,'%')\n",
    "    print('Validation Recall:',metrics.recall_score(yValid, y_pred_DecTreeClass2)*100,'%')\n",
    "    \n",
    "    print('Validation F1 Score:',metrics.f1_score(yValid, y_pred_DecTreeClass2)*100,'%')\n",
    "\n"
   ]
  },
  {
   "cell_type": "code",
   "execution_count": 32,
   "metadata": {},
   "outputs": [
    {
     "ename": "NameError",
     "evalue": "name 'bestNN2' is not defined",
     "output_type": "error",
     "traceback": [
      "\u001b[0;31m---------------------------------------------------------------------------\u001b[0m",
      "\u001b[0;31mNameError\u001b[0m                                 Traceback (most recent call last)",
      "\u001b[0;32m<ipython-input-32-606624df9271>\u001b[0m in \u001b[0;36m<module>\u001b[0;34m\u001b[0m\n\u001b[0;32m----> 1\u001b[0;31m \u001b[0mplotconfusionMatrix\u001b[0m\u001b[0;34m(\u001b[0m\u001b[0mbestNN2\u001b[0m\u001b[0;34m,\u001b[0m\u001b[0my_valid\u001b[0m\u001b[0;34m[\u001b[0m\u001b[0;34m'Attrition_Flag'\u001b[0m\u001b[0;34m]\u001b[0m\u001b[0;34m,\u001b[0m\u001b[0mXvalidData\u001b[0m\u001b[0;34m)\u001b[0m\u001b[0;34m\u001b[0m\u001b[0;34m\u001b[0m\u001b[0m\n\u001b[0m\u001b[1;32m      2\u001b[0m \u001b[0;34m\u001b[0m\u001b[0m\n\u001b[1;32m      3\u001b[0m \u001b[0mgetMetrics\u001b[0m\u001b[0;34m(\u001b[0m\u001b[0mbestNN2\u001b[0m\u001b[0;34m,\u001b[0m\u001b[0mXtrainData\u001b[0m\u001b[0;34m,\u001b[0m\u001b[0my_train_res\u001b[0m\u001b[0;34m[\u001b[0m\u001b[0;34m'Attrition_Flag'\u001b[0m\u001b[0;34m]\u001b[0m\u001b[0;34m,\u001b[0m\u001b[0mXvalidData\u001b[0m\u001b[0;34m,\u001b[0m\u001b[0my_valid\u001b[0m\u001b[0;34m[\u001b[0m\u001b[0;34m'Attrition_Flag'\u001b[0m\u001b[0;34m]\u001b[0m\u001b[0;34m)\u001b[0m\u001b[0;34m\u001b[0m\u001b[0;34m\u001b[0m\u001b[0m\n",
      "\u001b[0;31mNameError\u001b[0m: name 'bestNN2' is not defined"
     ]
    }
   ],
   "source": [
    "\n",
    "plotconfusionMatrix(bestNN2,y_valid['Attrition_Flag'],XvalidData)\n",
    "\n",
    "getMetrics(bestNN2,XtrainData,y_train_res['Attrition_Flag'],XvalidData,y_valid['Attrition_Flag'])"
   ]
  },
  {
   "cell_type": "code",
   "execution_count": 43,
   "metadata": {},
   "outputs": [],
   "source": [
    "# import timeit\n",
    "\n",
    "# start = timeit.default_timer()\n",
    "\n",
    "# #Your statements here\n",
    "\n",
    "# bestNN=create_modelWithDropBatch(hidden_layers= 6, learning_rate= 0.05)\n",
    "# history2 = bestNN.fit(\n",
    "#      pca_finalDF, y_train_res,\n",
    "#     validation_data=(pcavalidData, y_valid),\n",
    "#     batch_size=512,\n",
    "#     epochs=200,\n",
    "# #     callbacks=[early_stopping],\n",
    "# )\n",
    "# stop = timeit.default_timer()\n",
    "\n",
    "# print('Time: ', stop - start)  \n"
   ]
  },
  {
   "cell_type": "code",
   "execution_count": 58,
   "metadata": {},
   "outputs": [],
   "source": [
    "# sess.run(optimizer._lr)\n",
    "def create_modelWithDropBatchOpt(  hidden_layers,learning_rate):\n",
    "  # Initialize the constructor\n",
    "    model =  keras.Sequential()\n",
    "      # Add an input layer\n",
    "    activation='sigmoid'\n",
    "    model.add(layers.Dense(256, activation=activation, input_shape=input_shape))\n",
    "    for i in range(hidden_layers):\n",
    "          # Add one hidden layer\n",
    "        model.add(layers.BatchNormalization())\n",
    "        model.add(layers.Dropout(0.5))\n",
    "        model.add(layers.Dense(8, activation='tanh'))\n",
    "\n",
    "      # Add an output layer \n",
    "    model.add(layers.Dense(1, activation=activation))\n",
    "    opt = keras.optimizers.Adam(learning_rate=learning_rate)\n",
    "      #compile model\n",
    "    model.compile(loss='binary_crossentropy', optimizer=opt, metrics=\n",
    "      ['accuracy'])\n",
    "\n",
    "    return model\n",
    "\n"
   ]
  },
  {
   "cell_type": "code",
   "execution_count": 59,
   "metadata": {},
   "outputs": [
    {
     "name": "stdout",
     "output_type": "stream",
     "text": [
      "Epoch 1/200\n",
      "15/15 [==============================] - 2s 24ms/step - loss: 0.6749 - accuracy: 0.6062 - val_loss: 0.4747 - val_accuracy: 0.8198\n",
      "Epoch 2/200\n",
      "15/15 [==============================] - 0s 7ms/step - loss: 0.6015 - accuracy: 0.6675 - val_loss: 0.5322 - val_accuracy: 0.6283\n",
      "Epoch 3/200\n",
      "15/15 [==============================] - 0s 8ms/step - loss: 0.5281 - accuracy: 0.7441 - val_loss: 0.4508 - val_accuracy: 0.8346\n",
      "Epoch 4/200\n",
      "15/15 [==============================] - 0s 7ms/step - loss: 0.5596 - accuracy: 0.7346 - val_loss: 0.4505 - val_accuracy: 0.8337\n",
      "Epoch 5/200\n",
      "15/15 [==============================] - 0s 7ms/step - loss: 0.5606 - accuracy: 0.7462 - val_loss: 0.4551 - val_accuracy: 0.8327\n",
      "Epoch 6/200\n",
      "15/15 [==============================] - 0s 7ms/step - loss: 0.5630 - accuracy: 0.7420 - val_loss: 0.4615 - val_accuracy: 0.8351\n",
      "Epoch 7/200\n",
      "15/15 [==============================] - 0s 8ms/step - loss: 0.5641 - accuracy: 0.7366 - val_loss: 0.4525 - val_accuracy: 0.8406\n",
      "Epoch 8/200\n",
      "15/15 [==============================] - 0s 7ms/step - loss: 0.5501 - accuracy: 0.7476 - val_loss: 0.4402 - val_accuracy: 0.8416\n",
      "Epoch 9/200\n",
      "15/15 [==============================] - 0s 7ms/step - loss: 0.5528 - accuracy: 0.7461 - val_loss: 0.4481 - val_accuracy: 0.8411\n",
      "Epoch 10/200\n",
      "15/15 [==============================] - 0s 7ms/step - loss: 0.5554 - accuracy: 0.7469 - val_loss: 0.4371 - val_accuracy: 0.8371\n",
      "Epoch 11/200\n",
      "15/15 [==============================] - 0s 8ms/step - loss: 0.5596 - accuracy: 0.7470 - val_loss: 0.4458 - val_accuracy: 0.8381\n",
      "Epoch 12/200\n",
      "15/15 [==============================] - 0s 8ms/step - loss: 0.5672 - accuracy: 0.7414 - val_loss: 0.4723 - val_accuracy: 0.7912\n",
      "Epoch 13/200\n",
      "15/15 [==============================] - 0s 8ms/step - loss: 0.5331 - accuracy: 0.7625 - val_loss: 0.4603 - val_accuracy: 0.7878\n",
      "Epoch 14/200\n",
      "15/15 [==============================] - 0s 7ms/step - loss: 0.5626 - accuracy: 0.7321 - val_loss: 0.4522 - val_accuracy: 0.7962\n",
      "Epoch 15/200\n",
      "15/15 [==============================] - 0s 7ms/step - loss: 0.5618 - accuracy: 0.7318 - val_loss: 0.4629 - val_accuracy: 0.7670\n",
      "Epoch 16/200\n",
      "15/15 [==============================] - 0s 7ms/step - loss: 0.5806 - accuracy: 0.7185 - val_loss: 0.5057 - val_accuracy: 0.7192\n",
      "Epoch 17/200\n",
      "15/15 [==============================] - 0s 7ms/step - loss: 0.5834 - accuracy: 0.7156 - val_loss: 0.5229 - val_accuracy: 0.7221\n",
      "Epoch 18/200\n",
      "15/15 [==============================] - 0s 8ms/step - loss: 0.5832 - accuracy: 0.7180 - val_loss: 0.4980 - val_accuracy: 0.7354\n",
      "Epoch 19/200\n",
      "15/15 [==============================] - 0s 7ms/step - loss: 0.5803 - accuracy: 0.7199 - val_loss: 0.5054 - val_accuracy: 0.7364\n",
      "Epoch 20/200\n",
      "15/15 [==============================] - 0s 7ms/step - loss: 0.5639 - accuracy: 0.7394 - val_loss: 0.4885 - val_accuracy: 0.7739\n",
      "Epoch 21/200\n",
      "15/15 [==============================] - 0s 7ms/step - loss: 0.5664 - accuracy: 0.7337 - val_loss: 0.4635 - val_accuracy: 0.8031\n",
      "Epoch 22/200\n",
      "15/15 [==============================] - 0s 8ms/step - loss: 0.5616 - accuracy: 0.7262 - val_loss: 0.4577 - val_accuracy: 0.7843\n",
      "Epoch 23/200\n",
      "15/15 [==============================] - 0s 8ms/step - loss: 0.5605 - accuracy: 0.7220 - val_loss: 0.4574 - val_accuracy: 0.7838\n",
      "Epoch 24/200\n",
      "15/15 [==============================] - 0s 8ms/step - loss: 0.5497 - accuracy: 0.7372 - val_loss: 0.4604 - val_accuracy: 0.7853\n",
      "Epoch 25/200\n",
      "15/15 [==============================] - 0s 8ms/step - loss: 0.5595 - accuracy: 0.7300 - val_loss: 0.4663 - val_accuracy: 0.7675\n",
      "Epoch 26/200\n",
      "15/15 [==============================] - 0s 7ms/step - loss: 0.5436 - accuracy: 0.7429 - val_loss: 0.4642 - val_accuracy: 0.7562\n",
      "Epoch 27/200\n",
      "15/15 [==============================] - 0s 7ms/step - loss: 0.5411 - accuracy: 0.7369 - val_loss: 0.4628 - val_accuracy: 0.7463\n",
      "Epoch 28/200\n",
      "15/15 [==============================] - 0s 7ms/step - loss: 0.5337 - accuracy: 0.7421 - val_loss: 0.4682 - val_accuracy: 0.7330\n",
      "Epoch 29/200\n",
      "15/15 [==============================] - 0s 7ms/step - loss: 0.5399 - accuracy: 0.7386 - val_loss: 0.4660 - val_accuracy: 0.7340\n",
      "Epoch 30/200\n",
      "15/15 [==============================] - 0s 8ms/step - loss: 0.5231 - accuracy: 0.7575 - val_loss: 0.4730 - val_accuracy: 0.7552\n",
      "Epoch 31/200\n",
      "15/15 [==============================] - 0s 8ms/step - loss: 0.5386 - accuracy: 0.7431 - val_loss: 0.4867 - val_accuracy: 0.7246\n",
      "Epoch 32/200\n",
      "15/15 [==============================] - 0s 8ms/step - loss: 0.5279 - accuracy: 0.7465 - val_loss: 0.4566 - val_accuracy: 0.7843\n",
      "Epoch 33/200\n",
      "15/15 [==============================] - 0s 8ms/step - loss: 0.5478 - accuracy: 0.7315 - val_loss: 0.4465 - val_accuracy: 0.7695\n",
      "Epoch 34/200\n",
      "15/15 [==============================] - 0s 8ms/step - loss: 0.5643 - accuracy: 0.7179 - val_loss: 0.4334 - val_accuracy: 0.8268\n",
      "Epoch 35/200\n",
      "15/15 [==============================] - 0s 8ms/step - loss: 0.5662 - accuracy: 0.7074 - val_loss: 0.4385 - val_accuracy: 0.8277\n",
      "Epoch 36/200\n",
      "15/15 [==============================] - 0s 19ms/step - loss: 0.5713 - accuracy: 0.7074 - val_loss: 0.4304 - val_accuracy: 0.8159\n",
      "Epoch 37/200\n",
      "15/15 [==============================] - 0s 7ms/step - loss: 0.5679 - accuracy: 0.7253 - val_loss: 0.4456 - val_accuracy: 0.8006\n",
      "Epoch 38/200\n",
      "15/15 [==============================] - 0s 8ms/step - loss: 0.5557 - accuracy: 0.7349 - val_loss: 0.4857 - val_accuracy: 0.7241\n",
      "Epoch 39/200\n",
      "15/15 [==============================] - 0s 8ms/step - loss: 0.5695 - accuracy: 0.7149 - val_loss: 0.5214 - val_accuracy: 0.6767\n",
      "Epoch 40/200\n",
      "15/15 [==============================] - 0s 7ms/step - loss: 0.5783 - accuracy: 0.6935 - val_loss: 0.5089 - val_accuracy: 0.6807\n",
      "Epoch 41/200\n",
      "15/15 [==============================] - 0s 8ms/step - loss: 0.5779 - accuracy: 0.7065 - val_loss: 0.4978 - val_accuracy: 0.6821\n",
      "Epoch 42/200\n",
      "15/15 [==============================] - 0s 7ms/step - loss: 0.5581 - accuracy: 0.7221 - val_loss: 0.4937 - val_accuracy: 0.6964\n",
      "Epoch 43/200\n",
      "15/15 [==============================] - 0s 7ms/step - loss: 0.5730 - accuracy: 0.7099 - val_loss: 0.4906 - val_accuracy: 0.6994\n",
      "Epoch 44/200\n",
      "15/15 [==============================] - 0s 7ms/step - loss: 0.5722 - accuracy: 0.7004 - val_loss: 0.4488 - val_accuracy: 0.7912\n",
      "Epoch 45/200\n",
      "15/15 [==============================] - 0s 7ms/step - loss: 0.5543 - accuracy: 0.7401 - val_loss: 0.4409 - val_accuracy: 0.8421\n",
      "Epoch 46/200\n",
      "15/15 [==============================] - 0s 7ms/step - loss: 0.5620 - accuracy: 0.7363 - val_loss: 0.4392 - val_accuracy: 0.8485\n",
      "Epoch 47/200\n",
      "15/15 [==============================] - 0s 7ms/step - loss: 0.5643 - accuracy: 0.7403 - val_loss: 0.4339 - val_accuracy: 0.8460\n",
      "Epoch 48/200\n",
      "15/15 [==============================] - 0s 7ms/step - loss: 0.5601 - accuracy: 0.7386 - val_loss: 0.4371 - val_accuracy: 0.8475\n",
      "Epoch 49/200\n",
      "15/15 [==============================] - 0s 7ms/step - loss: 0.5689 - accuracy: 0.7311 - val_loss: 0.4537 - val_accuracy: 0.8302\n",
      "Epoch 50/200\n",
      "15/15 [==============================] - 0s 7ms/step - loss: 0.5635 - accuracy: 0.7338 - val_loss: 0.4958 - val_accuracy: 0.7246\n",
      "Epoch 51/200\n",
      "15/15 [==============================] - 0s 7ms/step - loss: 0.5686 - accuracy: 0.7283 - val_loss: 0.5195 - val_accuracy: 0.6945\n",
      "Epoch 52/200\n",
      "15/15 [==============================] - 0s 7ms/step - loss: 0.5768 - accuracy: 0.7090 - val_loss: 0.4697 - val_accuracy: 0.7498\n",
      "Epoch 53/200\n",
      "15/15 [==============================] - 0s 7ms/step - loss: 0.5701 - accuracy: 0.7119 - val_loss: 0.4549 - val_accuracy: 0.8327\n",
      "Epoch 54/200\n",
      "15/15 [==============================] - 0s 7ms/step - loss: 0.5946 - accuracy: 0.6579 - val_loss: 0.4579 - val_accuracy: 0.7818\n",
      "Epoch 55/200\n",
      "15/15 [==============================] - 0s 7ms/step - loss: 0.5965 - accuracy: 0.6736 - val_loss: 0.4721 - val_accuracy: 0.8327\n",
      "Epoch 56/200\n",
      "15/15 [==============================] - 0s 7ms/step - loss: 0.5952 - accuracy: 0.6740 - val_loss: 0.4787 - val_accuracy: 0.7246\n",
      "Epoch 57/200\n",
      "15/15 [==============================] - 0s 8ms/step - loss: 0.6003 - accuracy: 0.6616 - val_loss: 0.5028 - val_accuracy: 0.6555\n",
      "Epoch 58/200\n",
      "15/15 [==============================] - 0s 7ms/step - loss: 0.6005 - accuracy: 0.6584 - val_loss: 0.4806 - val_accuracy: 0.8327\n"
     ]
    },
    {
     "name": "stdout",
     "output_type": "stream",
     "text": [
      "Epoch 59/200\n",
      "15/15 [==============================] - 0s 7ms/step - loss: 0.6115 - accuracy: 0.6544 - val_loss: 0.4730 - val_accuracy: 0.8327\n",
      "Epoch 60/200\n",
      "15/15 [==============================] - 0s 7ms/step - loss: 0.6130 - accuracy: 0.6618 - val_loss: 0.4931 - val_accuracy: 0.8327\n",
      "Epoch 61/200\n",
      "15/15 [==============================] - 0s 7ms/step - loss: 0.6045 - accuracy: 0.6698 - val_loss: 0.4777 - val_accuracy: 0.7522\n",
      "Epoch 62/200\n",
      "15/15 [==============================] - 0s 8ms/step - loss: 0.6067 - accuracy: 0.6675 - val_loss: 0.4762 - val_accuracy: 0.8327\n",
      "Epoch 63/200\n",
      "15/15 [==============================] - 0s 8ms/step - loss: 0.6098 - accuracy: 0.6595 - val_loss: 0.4785 - val_accuracy: 0.8327\n",
      "Epoch 64/200\n",
      "15/15 [==============================] - 0s 7ms/step - loss: 0.6053 - accuracy: 0.6601 - val_loss: 0.4672 - val_accuracy: 0.8327\n",
      "Epoch 65/200\n",
      "15/15 [==============================] - 0s 7ms/step - loss: 0.6093 - accuracy: 0.6726 - val_loss: 0.4873 - val_accuracy: 0.8327\n",
      "Epoch 66/200\n",
      "15/15 [==============================] - 0s 7ms/step - loss: 0.6273 - accuracy: 0.6680 - val_loss: 0.4873 - val_accuracy: 0.8327\n",
      "Epoch 67/200\n",
      "15/15 [==============================] - 0s 8ms/step - loss: 0.6349 - accuracy: 0.6650 - val_loss: 0.4953 - val_accuracy: 0.8327\n",
      "Epoch 68/200\n",
      "15/15 [==============================] - 0s 7ms/step - loss: 0.6356 - accuracy: 0.6599 - val_loss: 0.4835 - val_accuracy: 0.8327\n",
      "Epoch 69/200\n",
      "15/15 [==============================] - 0s 7ms/step - loss: 0.6388 - accuracy: 0.6638 - val_loss: 0.4983 - val_accuracy: 0.8327\n",
      "Epoch 70/200\n",
      "15/15 [==============================] - 0s 7ms/step - loss: 0.6351 - accuracy: 0.6690 - val_loss: 0.5153 - val_accuracy: 0.8327\n",
      "Epoch 71/200\n",
      "15/15 [==============================] - 0s 7ms/step - loss: 0.6371 - accuracy: 0.6669 - val_loss: 0.5237 - val_accuracy: 0.8327\n",
      "Epoch 72/200\n",
      "15/15 [==============================] - 0s 8ms/step - loss: 0.6421 - accuracy: 0.6612 - val_loss: 0.4812 - val_accuracy: 0.8327\n",
      "Epoch 73/200\n",
      "15/15 [==============================] - 0s 8ms/step - loss: 0.6407 - accuracy: 0.6673 - val_loss: 0.5399 - val_accuracy: 0.8327\n",
      "Epoch 74/200\n",
      "15/15 [==============================] - 0s 7ms/step - loss: 0.6401 - accuracy: 0.6655 - val_loss: 0.4987 - val_accuracy: 0.8327\n",
      "Epoch 75/200\n",
      "15/15 [==============================] - 0s 7ms/step - loss: 0.6389 - accuracy: 0.6650 - val_loss: 0.5218 - val_accuracy: 0.8327\n",
      "Epoch 76/200\n",
      "15/15 [==============================] - 0s 7ms/step - loss: 0.6344 - accuracy: 0.6705 - val_loss: 0.5177 - val_accuracy: 0.8327\n",
      "Epoch 77/200\n",
      "15/15 [==============================] - 0s 7ms/step - loss: 0.6403 - accuracy: 0.6633 - val_loss: 0.5334 - val_accuracy: 0.8327\n",
      "Epoch 78/200\n",
      "15/15 [==============================] - 0s 9ms/step - loss: 0.6367 - accuracy: 0.6675 - val_loss: 0.5021 - val_accuracy: 0.8327\n",
      "Epoch 79/200\n",
      "15/15 [==============================] - 0s 7ms/step - loss: 0.6391 - accuracy: 0.6663 - val_loss: 0.5282 - val_accuracy: 0.8327\n",
      "Epoch 80/200\n",
      "15/15 [==============================] - 0s 7ms/step - loss: 0.6403 - accuracy: 0.6628 - val_loss: 0.5360 - val_accuracy: 0.8327\n",
      "Epoch 81/200\n",
      "15/15 [==============================] - 0s 7ms/step - loss: 0.6370 - accuracy: 0.6689 - val_loss: 0.5586 - val_accuracy: 0.8327\n",
      "Epoch 82/200\n",
      "15/15 [==============================] - 0s 7ms/step - loss: 0.6378 - accuracy: 0.6688 - val_loss: 0.5408 - val_accuracy: 0.8327\n",
      "Epoch 83/200\n",
      "15/15 [==============================] - 0s 8ms/step - loss: 0.6348 - accuracy: 0.6710 - val_loss: 0.5241 - val_accuracy: 0.8327\n",
      "Epoch 84/200\n",
      "15/15 [==============================] - 0s 8ms/step - loss: 0.6346 - accuracy: 0.6705 - val_loss: 0.5264 - val_accuracy: 0.8327\n",
      "Epoch 85/200\n",
      "15/15 [==============================] - 0s 7ms/step - loss: 0.6386 - accuracy: 0.6647 - val_loss: 0.5196 - val_accuracy: 0.8327\n",
      "Epoch 86/200\n",
      "15/15 [==============================] - 0s 8ms/step - loss: 0.6412 - accuracy: 0.6617 - val_loss: 0.5202 - val_accuracy: 0.8327\n",
      "Epoch 87/200\n",
      "15/15 [==============================] - 0s 8ms/step - loss: 0.6384 - accuracy: 0.6643 - val_loss: 0.5154 - val_accuracy: 0.8327\n",
      "Epoch 88/200\n",
      "15/15 [==============================] - 0s 8ms/step - loss: 0.6392 - accuracy: 0.6621 - val_loss: 0.5159 - val_accuracy: 0.8327\n",
      "Epoch 89/200\n",
      "15/15 [==============================] - 0s 7ms/step - loss: 0.6365 - accuracy: 0.6685 - val_loss: 0.4746 - val_accuracy: 0.8327\n",
      "Epoch 90/200\n",
      "15/15 [==============================] - 0s 7ms/step - loss: 0.6396 - accuracy: 0.6637 - val_loss: 0.4835 - val_accuracy: 0.8327\n",
      "Epoch 91/200\n",
      "15/15 [==============================] - 0s 7ms/step - loss: 0.6365 - accuracy: 0.6673 - val_loss: 0.5071 - val_accuracy: 0.8327\n",
      "Epoch 92/200\n",
      "15/15 [==============================] - 0s 8ms/step - loss: 0.6380 - accuracy: 0.6662 - val_loss: 0.5140 - val_accuracy: 0.8327\n",
      "Epoch 93/200\n",
      "15/15 [==============================] - 0s 8ms/step - loss: 0.6369 - accuracy: 0.6700 - val_loss: 0.5385 - val_accuracy: 0.8327\n",
      "Epoch 94/200\n",
      "15/15 [==============================] - 0s 7ms/step - loss: 0.6328 - accuracy: 0.6727 - val_loss: 0.5231 - val_accuracy: 0.8327\n",
      "Epoch 95/200\n",
      "15/15 [==============================] - 0s 7ms/step - loss: 0.6329 - accuracy: 0.6727 - val_loss: 0.5203 - val_accuracy: 0.8327\n",
      "Epoch 96/200\n",
      "15/15 [==============================] - 0s 7ms/step - loss: 0.6385 - accuracy: 0.6660 - val_loss: 0.5124 - val_accuracy: 0.8327\n",
      "Epoch 97/200\n",
      "15/15 [==============================] - 0s 7ms/step - loss: 0.6328 - accuracy: 0.6743 - val_loss: 0.5603 - val_accuracy: 0.8327\n",
      "Epoch 98/200\n",
      "15/15 [==============================] - 0s 7ms/step - loss: 0.6387 - accuracy: 0.6665 - val_loss: 0.5505 - val_accuracy: 0.8327\n",
      "Epoch 99/200\n",
      "15/15 [==============================] - 0s 7ms/step - loss: 0.6386 - accuracy: 0.6639 - val_loss: 0.5156 - val_accuracy: 0.8327\n",
      "Epoch 100/200\n",
      "15/15 [==============================] - 0s 7ms/step - loss: 0.6359 - accuracy: 0.6692 - val_loss: 0.5386 - val_accuracy: 0.8327\n",
      "Epoch 101/200\n",
      "15/15 [==============================] - 0s 8ms/step - loss: 0.6375 - accuracy: 0.6681 - val_loss: 0.5281 - val_accuracy: 0.8327\n",
      "Epoch 102/200\n",
      "15/15 [==============================] - 0s 8ms/step - loss: 0.6376 - accuracy: 0.6669 - val_loss: 0.5440 - val_accuracy: 0.8327\n",
      "Epoch 103/200\n",
      "15/15 [==============================] - 0s 8ms/step - loss: 0.6355 - accuracy: 0.6720 - val_loss: 0.5323 - val_accuracy: 0.8327\n",
      "Epoch 104/200\n",
      "15/15 [==============================] - 0s 9ms/step - loss: 0.6413 - accuracy: 0.6607 - val_loss: 0.5111 - val_accuracy: 0.8327\n",
      "Epoch 105/200\n",
      "15/15 [==============================] - 0s 7ms/step - loss: 0.6360 - accuracy: 0.6688 - val_loss: 0.5173 - val_accuracy: 0.8327\n",
      "Epoch 106/200\n",
      "15/15 [==============================] - 0s 8ms/step - loss: 0.6354 - accuracy: 0.6718 - val_loss: 0.5273 - val_accuracy: 0.8327\n",
      "Epoch 107/200\n",
      "15/15 [==============================] - 0s 7ms/step - loss: 0.6391 - accuracy: 0.6639 - val_loss: 0.5257 - val_accuracy: 0.8327\n",
      "Epoch 108/200\n",
      "15/15 [==============================] - 0s 8ms/step - loss: 0.6387 - accuracy: 0.6684 - val_loss: 0.5324 - val_accuracy: 0.8327\n",
      "Epoch 109/200\n",
      "15/15 [==============================] - 0s 8ms/step - loss: 0.6361 - accuracy: 0.6689 - val_loss: 0.5467 - val_accuracy: 0.8327\n",
      "Epoch 110/200\n",
      "15/15 [==============================] - 0s 8ms/step - loss: 0.6403 - accuracy: 0.6657 - val_loss: 0.5117 - val_accuracy: 0.8327\n",
      "Epoch 111/200\n",
      "15/15 [==============================] - 0s 7ms/step - loss: 0.6365 - accuracy: 0.6645 - val_loss: 0.5208 - val_accuracy: 0.8327\n",
      "Epoch 112/200\n",
      "15/15 [==============================] - 0s 7ms/step - loss: 0.6315 - accuracy: 0.6734 - val_loss: 0.5575 - val_accuracy: 0.8327\n",
      "Epoch 113/200\n",
      "15/15 [==============================] - 0s 7ms/step - loss: 0.6346 - accuracy: 0.6715 - val_loss: 0.5209 - val_accuracy: 0.8327\n",
      "Epoch 114/200\n",
      "15/15 [==============================] - 0s 8ms/step - loss: 0.6372 - accuracy: 0.6666 - val_loss: 0.5033 - val_accuracy: 0.8327\n",
      "Epoch 115/200\n",
      "15/15 [==============================] - 0s 7ms/step - loss: 0.6375 - accuracy: 0.6659 - val_loss: 0.5399 - val_accuracy: 0.8327\n",
      "Epoch 116/200\n",
      "15/15 [==============================] - 0s 7ms/step - loss: 0.6392 - accuracy: 0.6629 - val_loss: 0.5096 - val_accuracy: 0.8327\n",
      "Epoch 117/200\n",
      "15/15 [==============================] - 0s 7ms/step - loss: 0.6407 - accuracy: 0.6631 - val_loss: 0.5436 - val_accuracy: 0.8327\n",
      "Epoch 118/200\n",
      "15/15 [==============================] - 0s 7ms/step - loss: 0.6394 - accuracy: 0.6642 - val_loss: 0.5815 - val_accuracy: 0.8327\n",
      "Epoch 119/200\n",
      "15/15 [==============================] - 0s 7ms/step - loss: 0.6368 - accuracy: 0.6664 - val_loss: 0.5300 - val_accuracy: 0.8327\n",
      "Epoch 120/200\n",
      "15/15 [==============================] - 0s 7ms/step - loss: 0.6353 - accuracy: 0.6697 - val_loss: 0.5474 - val_accuracy: 0.8327\n",
      "Epoch 121/200\n",
      "15/15 [==============================] - 0s 7ms/step - loss: 0.6346 - accuracy: 0.6678 - val_loss: 0.5407 - val_accuracy: 0.8327\n",
      "Epoch 122/200\n",
      "15/15 [==============================] - 0s 7ms/step - loss: 0.6402 - accuracy: 0.6650 - val_loss: 0.5666 - val_accuracy: 0.8327\n",
      "Epoch 123/200\n",
      "15/15 [==============================] - 0s 7ms/step - loss: 0.6404 - accuracy: 0.6670 - val_loss: 0.5395 - val_accuracy: 0.8327\n",
      "Epoch 124/200\n",
      "15/15 [==============================] - 0s 7ms/step - loss: 0.6371 - accuracy: 0.6709 - val_loss: 0.5390 - val_accuracy: 0.8327\n",
      "Epoch 125/200\n",
      "15/15 [==============================] - 0s 7ms/step - loss: 0.6390 - accuracy: 0.6640 - val_loss: 0.4861 - val_accuracy: 0.8327\n",
      "Epoch 126/200\n",
      "15/15 [==============================] - 0s 7ms/step - loss: 0.6360 - accuracy: 0.6721 - val_loss: 0.5335 - val_accuracy: 0.8327\n",
      "Epoch 127/200\n",
      "15/15 [==============================] - 0s 7ms/step - loss: 0.6417 - accuracy: 0.6606 - val_loss: 0.5102 - val_accuracy: 0.8327\n",
      "Epoch 128/200\n",
      "15/15 [==============================] - 0s 7ms/step - loss: 0.6346 - accuracy: 0.6709 - val_loss: 0.5318 - val_accuracy: 0.8327\n",
      "Epoch 129/200\n",
      "15/15 [==============================] - 0s 7ms/step - loss: 0.6359 - accuracy: 0.6695 - val_loss: 0.5602 - val_accuracy: 0.8327\n",
      "Epoch 130/200\n",
      "15/15 [==============================] - 0s 18ms/step - loss: 0.6348 - accuracy: 0.6717 - val_loss: 0.5417 - val_accuracy: 0.8327\n",
      "Epoch 131/200\n",
      "15/15 [==============================] - 0s 7ms/step - loss: 0.6330 - accuracy: 0.6742 - val_loss: 0.5286 - val_accuracy: 0.8327\n",
      "Epoch 132/200\n",
      "15/15 [==============================] - 0s 8ms/step - loss: 0.6400 - accuracy: 0.6643 - val_loss: 0.5177 - val_accuracy: 0.8327\n",
      "Epoch 133/200\n",
      "15/15 [==============================] - 0s 7ms/step - loss: 0.6372 - accuracy: 0.6670 - val_loss: 0.5312 - val_accuracy: 0.8327\n",
      "Epoch 134/200\n",
      "15/15 [==============================] - 0s 7ms/step - loss: 0.6306 - accuracy: 0.6750 - val_loss: 0.5584 - val_accuracy: 0.8327\n",
      "Epoch 135/200\n",
      "15/15 [==============================] - 0s 7ms/step - loss: 0.6378 - accuracy: 0.6650 - val_loss: 0.5115 - val_accuracy: 0.8327\n",
      "Epoch 136/200\n",
      "15/15 [==============================] - 0s 7ms/step - loss: 0.6389 - accuracy: 0.6657 - val_loss: 0.5263 - val_accuracy: 0.8327\n",
      "Epoch 137/200\n",
      "15/15 [==============================] - 0s 7ms/step - loss: 0.6427 - accuracy: 0.6587 - val_loss: 0.5139 - val_accuracy: 0.8327\n",
      "Epoch 138/200\n",
      "15/15 [==============================] - 0s 7ms/step - loss: 0.6366 - accuracy: 0.6688 - val_loss: 0.5105 - val_accuracy: 0.8327\n",
      "Epoch 139/200\n",
      "15/15 [==============================] - 0s 7ms/step - loss: 0.6457 - accuracy: 0.6557 - val_loss: 0.4773 - val_accuracy: 0.8327\n",
      "Epoch 140/200\n",
      "15/15 [==============================] - 0s 7ms/step - loss: 0.6363 - accuracy: 0.6703 - val_loss: 0.5452 - val_accuracy: 0.8327\n",
      "Epoch 141/200\n",
      "15/15 [==============================] - 0s 7ms/step - loss: 0.6362 - accuracy: 0.6698 - val_loss: 0.5260 - val_accuracy: 0.8327\n",
      "Epoch 142/200\n",
      "15/15 [==============================] - 0s 7ms/step - loss: 0.6327 - accuracy: 0.6729 - val_loss: 0.5263 - val_accuracy: 0.8327\n",
      "Epoch 143/200\n",
      "15/15 [==============================] - 0s 7ms/step - loss: 0.6410 - accuracy: 0.6611 - val_loss: 0.4792 - val_accuracy: 0.8327\n",
      "Epoch 144/200\n",
      "15/15 [==============================] - 0s 8ms/step - loss: 0.6385 - accuracy: 0.6666 - val_loss: 0.5165 - val_accuracy: 0.8327\n",
      "Epoch 145/200\n",
      "15/15 [==============================] - 0s 7ms/step - loss: 0.6343 - accuracy: 0.6702 - val_loss: 0.5249 - val_accuracy: 0.8327\n",
      "Epoch 146/200\n",
      "15/15 [==============================] - 0s 8ms/step - loss: 0.6397 - accuracy: 0.6648 - val_loss: 0.5109 - val_accuracy: 0.8327\n",
      "Epoch 147/200\n",
      "15/15 [==============================] - 0s 8ms/step - loss: 0.6409 - accuracy: 0.6646 - val_loss: 0.5255 - val_accuracy: 0.8327\n",
      "Epoch 148/200\n",
      "15/15 [==============================] - 0s 9ms/step - loss: 0.6385 - accuracy: 0.6670 - val_loss: 0.4874 - val_accuracy: 0.8327\n",
      "Epoch 149/200\n",
      "15/15 [==============================] - 0s 9ms/step - loss: 0.6378 - accuracy: 0.6673 - val_loss: 0.5039 - val_accuracy: 0.8327\n",
      "Epoch 150/200\n",
      "15/15 [==============================] - 0s 9ms/step - loss: 0.6388 - accuracy: 0.6640 - val_loss: 0.5392 - val_accuracy: 0.8327\n",
      "Epoch 151/200\n",
      "15/15 [==============================] - 0s 8ms/step - loss: 0.6395 - accuracy: 0.6667 - val_loss: 0.5044 - val_accuracy: 0.8327\n",
      "Epoch 152/200\n",
      "15/15 [==============================] - 0s 7ms/step - loss: 0.6353 - accuracy: 0.6708 - val_loss: 0.5300 - val_accuracy: 0.8327\n",
      "Epoch 153/200\n",
      "15/15 [==============================] - 0s 7ms/step - loss: 0.6376 - accuracy: 0.6657 - val_loss: 0.5438 - val_accuracy: 0.8327\n",
      "Epoch 154/200\n",
      "15/15 [==============================] - 0s 8ms/step - loss: 0.6355 - accuracy: 0.6699 - val_loss: 0.5640 - val_accuracy: 0.8327\n",
      "Epoch 155/200\n",
      "15/15 [==============================] - 0s 8ms/step - loss: 0.6403 - accuracy: 0.6649 - val_loss: 0.5500 - val_accuracy: 0.8327\n",
      "Epoch 156/200\n",
      "15/15 [==============================] - 0s 8ms/step - loss: 0.6426 - accuracy: 0.6593 - val_loss: 0.4885 - val_accuracy: 0.8327\n",
      "Epoch 157/200\n",
      "15/15 [==============================] - 0s 7ms/step - loss: 0.6380 - accuracy: 0.6666 - val_loss: 0.5013 - val_accuracy: 0.8327\n",
      "Epoch 158/200\n",
      "15/15 [==============================] - 0s 8ms/step - loss: 0.6377 - accuracy: 0.6677 - val_loss: 0.5135 - val_accuracy: 0.8327\n",
      "Epoch 159/200\n",
      "15/15 [==============================] - 0s 8ms/step - loss: 0.6422 - accuracy: 0.6600 - val_loss: 0.4908 - val_accuracy: 0.8327\n",
      "Epoch 160/200\n",
      "15/15 [==============================] - 0s 8ms/step - loss: 0.6366 - accuracy: 0.6700 - val_loss: 0.5025 - val_accuracy: 0.8327\n",
      "Epoch 161/200\n",
      "15/15 [==============================] - 0s 7ms/step - loss: 0.6392 - accuracy: 0.6654 - val_loss: 0.5002 - val_accuracy: 0.8327\n",
      "Epoch 162/200\n",
      "15/15 [==============================] - 0s 8ms/step - loss: 0.6364 - accuracy: 0.6705 - val_loss: 0.5375 - val_accuracy: 0.8327\n",
      "Epoch 163/200\n",
      "15/15 [==============================] - 0s 7ms/step - loss: 0.6397 - accuracy: 0.6628 - val_loss: 0.5251 - val_accuracy: 0.8327\n",
      "Epoch 164/200\n",
      "15/15 [==============================] - 0s 7ms/step - loss: 0.6357 - accuracy: 0.6708 - val_loss: 0.5396 - val_accuracy: 0.8327\n",
      "Epoch 165/200\n",
      "15/15 [==============================] - 0s 7ms/step - loss: 0.6371 - accuracy: 0.6691 - val_loss: 0.5063 - val_accuracy: 0.8327\n",
      "Epoch 166/200\n",
      "15/15 [==============================] - 0s 7ms/step - loss: 0.6391 - accuracy: 0.6659 - val_loss: 0.5147 - val_accuracy: 0.8327\n",
      "Epoch 167/200\n",
      "15/15 [==============================] - 0s 8ms/step - loss: 0.6304 - accuracy: 0.6760 - val_loss: 0.5596 - val_accuracy: 0.8327\n",
      "Epoch 168/200\n",
      "15/15 [==============================] - 0s 7ms/step - loss: 0.6375 - accuracy: 0.6718 - val_loss: 0.5525 - val_accuracy: 0.8327\n",
      "Epoch 169/200\n",
      "15/15 [==============================] - 0s 7ms/step - loss: 0.6363 - accuracy: 0.6693 - val_loss: 0.4934 - val_accuracy: 0.8327\n",
      "Epoch 170/200\n",
      "15/15 [==============================] - 0s 8ms/step - loss: 0.6364 - accuracy: 0.6677 - val_loss: 0.5192 - val_accuracy: 0.8327\n",
      "Epoch 171/200\n",
      "15/15 [==============================] - 0s 8ms/step - loss: 0.6326 - accuracy: 0.6736 - val_loss: 0.5047 - val_accuracy: 0.8327\n",
      "Epoch 172/200\n",
      "15/15 [==============================] - 0s 7ms/step - loss: 0.6377 - accuracy: 0.6675 - val_loss: 0.5252 - val_accuracy: 0.8327\n",
      "Epoch 173/200\n"
     ]
    },
    {
     "name": "stdout",
     "output_type": "stream",
     "text": [
      "15/15 [==============================] - 0s 7ms/step - loss: 0.6415 - accuracy: 0.6625 - val_loss: 0.5094 - val_accuracy: 0.8327\n",
      "Epoch 174/200\n",
      "15/15 [==============================] - 0s 8ms/step - loss: 0.6454 - accuracy: 0.6586 - val_loss: 0.5074 - val_accuracy: 0.8327\n",
      "Epoch 175/200\n",
      "15/15 [==============================] - 0s 7ms/step - loss: 0.6376 - accuracy: 0.6669 - val_loss: 0.5518 - val_accuracy: 0.8327\n",
      "Epoch 176/200\n",
      "15/15 [==============================] - 0s 7ms/step - loss: 0.6365 - accuracy: 0.6712 - val_loss: 0.5627 - val_accuracy: 0.8327\n",
      "Epoch 177/200\n",
      "15/15 [==============================] - 0s 7ms/step - loss: 0.6370 - accuracy: 0.6690 - val_loss: 0.5200 - val_accuracy: 0.8327\n",
      "Epoch 178/200\n",
      "15/15 [==============================] - 0s 7ms/step - loss: 0.6412 - accuracy: 0.6620 - val_loss: 0.5074 - val_accuracy: 0.8327\n",
      "Epoch 179/200\n",
      "15/15 [==============================] - 0s 7ms/step - loss: 0.6368 - accuracy: 0.6699 - val_loss: 0.5526 - val_accuracy: 0.8327\n",
      "Epoch 180/200\n",
      "15/15 [==============================] - 0s 8ms/step - loss: 0.6352 - accuracy: 0.6719 - val_loss: 0.5655 - val_accuracy: 0.8327\n",
      "Epoch 181/200\n",
      "15/15 [==============================] - 0s 8ms/step - loss: 0.6409 - accuracy: 0.6645 - val_loss: 0.5105 - val_accuracy: 0.8327\n",
      "Epoch 182/200\n",
      "15/15 [==============================] - 0s 8ms/step - loss: 0.6345 - accuracy: 0.6720 - val_loss: 0.5481 - val_accuracy: 0.8327\n",
      "Epoch 183/200\n",
      "15/15 [==============================] - 0s 7ms/step - loss: 0.6414 - accuracy: 0.6618 - val_loss: 0.5406 - val_accuracy: 0.8327\n",
      "Epoch 184/200\n",
      "15/15 [==============================] - 0s 8ms/step - loss: 0.6378 - accuracy: 0.6663 - val_loss: 0.5187 - val_accuracy: 0.8327\n",
      "Epoch 185/200\n",
      "15/15 [==============================] - 0s 8ms/step - loss: 0.6337 - accuracy: 0.6711 - val_loss: 0.5758 - val_accuracy: 0.8327\n",
      "Epoch 186/200\n",
      "15/15 [==============================] - 0s 7ms/step - loss: 0.6388 - accuracy: 0.6696 - val_loss: 0.5262 - val_accuracy: 0.8327\n",
      "Epoch 187/200\n",
      "15/15 [==============================] - 0s 8ms/step - loss: 0.6372 - accuracy: 0.6669 - val_loss: 0.5400 - val_accuracy: 0.8327\n",
      "Epoch 188/200\n",
      "15/15 [==============================] - 0s 7ms/step - loss: 0.6364 - accuracy: 0.6684 - val_loss: 0.6024 - val_accuracy: 0.8327\n",
      "Epoch 189/200\n",
      "15/15 [==============================] - 0s 7ms/step - loss: 0.6401 - accuracy: 0.6710 - val_loss: 0.5852 - val_accuracy: 0.8327\n",
      "Epoch 190/200\n",
      "15/15 [==============================] - 0s 8ms/step - loss: 0.6387 - accuracy: 0.6657 - val_loss: 0.5154 - val_accuracy: 0.8327\n",
      "Epoch 191/200\n",
      "15/15 [==============================] - 0s 8ms/step - loss: 0.6345 - accuracy: 0.6727 - val_loss: 0.5099 - val_accuracy: 0.8327\n",
      "Epoch 192/200\n",
      "15/15 [==============================] - 0s 7ms/step - loss: 0.6371 - accuracy: 0.6685 - val_loss: 0.5300 - val_accuracy: 0.8327\n",
      "Epoch 193/200\n",
      "15/15 [==============================] - 0s 8ms/step - loss: 0.6347 - accuracy: 0.6721 - val_loss: 0.5290 - val_accuracy: 0.8327\n",
      "Epoch 194/200\n",
      "15/15 [==============================] - 0s 8ms/step - loss: 0.6415 - accuracy: 0.6626 - val_loss: 0.4902 - val_accuracy: 0.8327\n",
      "Epoch 195/200\n",
      "15/15 [==============================] - 0s 7ms/step - loss: 0.6384 - accuracy: 0.6674 - val_loss: 0.5324 - val_accuracy: 0.8327\n",
      "Epoch 196/200\n",
      "15/15 [==============================] - 0s 7ms/step - loss: 0.6434 - accuracy: 0.6571 - val_loss: 0.5045 - val_accuracy: 0.8327\n",
      "Epoch 197/200\n",
      "15/15 [==============================] - 0s 8ms/step - loss: 0.6427 - accuracy: 0.6599 - val_loss: 0.5033 - val_accuracy: 0.8327\n",
      "Epoch 198/200\n",
      "15/15 [==============================] - 0s 7ms/step - loss: 0.6354 - accuracy: 0.6705 - val_loss: 0.4987 - val_accuracy: 0.8327\n",
      "Epoch 199/200\n",
      "15/15 [==============================] - 0s 8ms/step - loss: 0.6453 - accuracy: 0.6594 - val_loss: 0.4828 - val_accuracy: 0.8327\n",
      "Epoch 200/200\n",
      "15/15 [==============================] - 0s 8ms/step - loss: 0.6412 - accuracy: 0.6680 - val_loss: 0.4917 - val_accuracy: 0.8327\n",
      "Time:  24.75034437099748\n"
     ]
    }
   ],
   "source": [
    "import timeit\n",
    "\n",
    "start = timeit.default_timer()\n",
    "\n",
    "#Your statements here\n",
    "\n",
    "bestNN2=create_modelWithDropBatchOpt(hidden_layers= 6, learning_rate= 0.05)\n",
    "history3 = bestNN2.fit(\n",
    "     pca_finalDF, y_train_res,\n",
    "    validation_data=(pcavalidData, y_valid),\n",
    "    batch_size=512,\n",
    "    epochs=200,\n",
    "#     callbacks=[early_stopping],\n",
    ")\n",
    "stop = timeit.default_timer()\n",
    "\n",
    "print('Time: ', stop - start)  \n"
   ]
  },
  {
   "cell_type": "code",
   "execution_count": 24,
   "metadata": {
    "scrolled": true
   },
   "outputs": [
    {
     "name": "stdout",
     "output_type": "stream",
     "text": [
      "Epoch 1/200\n",
      "15/15 [==============================] - 3s 40ms/step - loss: 0.6623 - accuracy: 0.6391 - val_loss: 0.4683 - val_accuracy: 0.8327\n",
      "Epoch 2/200\n",
      "15/15 [==============================] - 0s 10ms/step - loss: 0.6202 - accuracy: 0.6660 - val_loss: 0.4198 - val_accuracy: 0.8327\n",
      "Epoch 3/200\n",
      "15/15 [==============================] - 0s 10ms/step - loss: 0.5873 - accuracy: 0.6659 - val_loss: 0.4588 - val_accuracy: 0.8327\n",
      "Epoch 4/200\n",
      "15/15 [==============================] - 0s 11ms/step - loss: 0.5397 - accuracy: 0.7060 - val_loss: 0.7450 - val_accuracy: 0.8327\n",
      "Epoch 5/200\n",
      "15/15 [==============================] - 0s 10ms/step - loss: 0.4673 - accuracy: 0.7970 - val_loss: 1.0956 - val_accuracy: 0.8327\n",
      "Epoch 6/200\n",
      "15/15 [==============================] - 0s 10ms/step - loss: 0.4239 - accuracy: 0.8370 - val_loss: 0.9415 - val_accuracy: 0.8327\n",
      "Epoch 7/200\n",
      "15/15 [==============================] - 0s 10ms/step - loss: 0.3949 - accuracy: 0.8522 - val_loss: 0.7908 - val_accuracy: 0.8327\n",
      "Epoch 8/200\n",
      "15/15 [==============================] - 0s 10ms/step - loss: 0.3988 - accuracy: 0.8584 - val_loss: 0.4759 - val_accuracy: 0.8327\n",
      "Epoch 9/200\n",
      "15/15 [==============================] - 0s 10ms/step - loss: 0.3891 - accuracy: 0.8573 - val_loss: 0.5439 - val_accuracy: 0.8337\n",
      "Epoch 10/200\n",
      "15/15 [==============================] - 0s 10ms/step - loss: 0.3649 - accuracy: 0.8744 - val_loss: 0.6518 - val_accuracy: 0.8470\n",
      "Epoch 11/200\n",
      "15/15 [==============================] - 0s 10ms/step - loss: 0.3564 - accuracy: 0.8747 - val_loss: 0.4978 - val_accuracy: 0.8524\n",
      "Epoch 12/200\n",
      "15/15 [==============================] - 0s 9ms/step - loss: 0.3700 - accuracy: 0.8713 - val_loss: 0.3923 - val_accuracy: 0.8662\n",
      "Epoch 13/200\n",
      "15/15 [==============================] - 0s 9ms/step - loss: 0.3431 - accuracy: 0.8735 - val_loss: 0.3938 - val_accuracy: 0.8638\n",
      "Epoch 14/200\n",
      "15/15 [==============================] - 0s 10ms/step - loss: 0.3516 - accuracy: 0.8787 - val_loss: 0.3517 - val_accuracy: 0.8756\n",
      "Epoch 15/200\n",
      "15/15 [==============================] - 0s 9ms/step - loss: 0.3496 - accuracy: 0.8764 - val_loss: 0.4252 - val_accuracy: 0.8450\n",
      "Epoch 16/200\n",
      "15/15 [==============================] - 0s 10ms/step - loss: 0.3476 - accuracy: 0.8764 - val_loss: 0.3909 - val_accuracy: 0.8608\n",
      "Epoch 17/200\n",
      "15/15 [==============================] - 0s 10ms/step - loss: 0.3323 - accuracy: 0.8855 - val_loss: 0.3776 - val_accuracy: 0.8613\n",
      "Epoch 18/200\n",
      "15/15 [==============================] - 0s 10ms/step - loss: 0.3399 - accuracy: 0.8845 - val_loss: 0.3669 - val_accuracy: 0.8727\n",
      "Epoch 19/200\n",
      "15/15 [==============================] - 0s 10ms/step - loss: 0.3237 - accuracy: 0.8904 - val_loss: 0.3833 - val_accuracy: 0.8608\n",
      "Epoch 20/200\n",
      "15/15 [==============================] - 0s 10ms/step - loss: 0.3289 - accuracy: 0.8848 - val_loss: 0.3749 - val_accuracy: 0.8756\n",
      "Epoch 21/200\n",
      "15/15 [==============================] - 0s 11ms/step - loss: 0.3222 - accuracy: 0.8900 - val_loss: 0.3348 - val_accuracy: 0.8845\n",
      "Epoch 22/200\n",
      "15/15 [==============================] - 0s 10ms/step - loss: 0.3248 - accuracy: 0.8845 - val_loss: 0.3406 - val_accuracy: 0.8801\n",
      "Epoch 23/200\n",
      "15/15 [==============================] - 0s 12ms/step - loss: 0.3103 - accuracy: 0.8940 - val_loss: 0.3429 - val_accuracy: 0.8820\n",
      "Epoch 24/200\n",
      "15/15 [==============================] - 0s 11ms/step - loss: 0.3081 - accuracy: 0.8919 - val_loss: 0.3244 - val_accuracy: 0.8904\n",
      "Epoch 25/200\n",
      "15/15 [==============================] - 0s 12ms/step - loss: 0.3081 - accuracy: 0.8928 - val_loss: 0.3255 - val_accuracy: 0.8894\n",
      "Epoch 26/200\n",
      "15/15 [==============================] - 0s 11ms/step - loss: 0.3091 - accuracy: 0.8924 - val_loss: 0.3403 - val_accuracy: 0.8840\n",
      "Epoch 27/200\n",
      "15/15 [==============================] - 0s 11ms/step - loss: 0.3073 - accuracy: 0.8975 - val_loss: 0.3430 - val_accuracy: 0.8820\n",
      "Epoch 28/200\n",
      "15/15 [==============================] - 0s 10ms/step - loss: 0.2961 - accuracy: 0.8979 - val_loss: 0.3188 - val_accuracy: 0.8909\n",
      "Epoch 29/200\n",
      "15/15 [==============================] - 0s 10ms/step - loss: 0.3095 - accuracy: 0.8925 - val_loss: 0.3471 - val_accuracy: 0.8756\n",
      "Epoch 30/200\n",
      "15/15 [==============================] - 0s 9ms/step - loss: 0.3026 - accuracy: 0.8972 - val_loss: 0.3213 - val_accuracy: 0.8894\n",
      "Epoch 31/200\n",
      "15/15 [==============================] - 0s 9ms/step - loss: 0.3147 - accuracy: 0.8942 - val_loss: 0.3262 - val_accuracy: 0.8894\n",
      "Epoch 32/200\n",
      "15/15 [==============================] - 0s 9ms/step - loss: 0.3018 - accuracy: 0.8949 - val_loss: 0.3218 - val_accuracy: 0.8904\n",
      "Epoch 33/200\n",
      "15/15 [==============================] - 0s 10ms/step - loss: 0.2997 - accuracy: 0.9023 - val_loss: 0.3184 - val_accuracy: 0.8904\n",
      "Epoch 34/200\n",
      "15/15 [==============================] - 0s 9ms/step - loss: 0.3009 - accuracy: 0.8977 - val_loss: 0.3311 - val_accuracy: 0.8924\n",
      "Epoch 35/200\n",
      "15/15 [==============================] - 0s 11ms/step - loss: 0.2946 - accuracy: 0.9020 - val_loss: 0.3341 - val_accuracy: 0.8894\n",
      "Epoch 36/200\n",
      "15/15 [==============================] - 0s 10ms/step - loss: 0.2857 - accuracy: 0.9021 - val_loss: 0.3273 - val_accuracy: 0.8860\n",
      "Epoch 37/200\n",
      "15/15 [==============================] - 0s 10ms/step - loss: 0.2902 - accuracy: 0.9041 - val_loss: 0.3268 - val_accuracy: 0.8904\n",
      "Epoch 38/200\n",
      "15/15 [==============================] - 0s 10ms/step - loss: 0.2963 - accuracy: 0.8991 - val_loss: 0.3349 - val_accuracy: 0.8840\n",
      "Epoch 39/200\n",
      "15/15 [==============================] - 0s 10ms/step - loss: 0.2933 - accuracy: 0.8993 - val_loss: 0.3431 - val_accuracy: 0.8875\n",
      "Epoch 40/200\n",
      "15/15 [==============================] - 0s 10ms/step - loss: 0.2901 - accuracy: 0.9040 - val_loss: 0.3375 - val_accuracy: 0.8855\n",
      "Epoch 41/200\n",
      "15/15 [==============================] - 0s 9ms/step - loss: 0.2698 - accuracy: 0.9082 - val_loss: 0.3237 - val_accuracy: 0.8889\n",
      "Epoch 42/200\n",
      "15/15 [==============================] - 0s 9ms/step - loss: 0.2992 - accuracy: 0.8949 - val_loss: 0.3256 - val_accuracy: 0.8924\n",
      "Epoch 43/200\n",
      "15/15 [==============================] - 0s 9ms/step - loss: 0.3002 - accuracy: 0.8999 - val_loss: 0.3780 - val_accuracy: 0.8653\n",
      "Epoch 44/200\n",
      "15/15 [==============================] - 0s 9ms/step - loss: 0.2826 - accuracy: 0.9011 - val_loss: 0.3268 - val_accuracy: 0.8909\n",
      "Epoch 45/200\n",
      "15/15 [==============================] - 0s 10ms/step - loss: 0.2964 - accuracy: 0.8980 - val_loss: 0.3278 - val_accuracy: 0.8939\n",
      "Epoch 46/200\n",
      "15/15 [==============================] - 0s 10ms/step - loss: 0.2797 - accuracy: 0.9049 - val_loss: 0.3674 - val_accuracy: 0.8731\n",
      "Epoch 47/200\n",
      "15/15 [==============================] - 0s 9ms/step - loss: 0.2965 - accuracy: 0.8976 - val_loss: 0.3340 - val_accuracy: 0.8850\n",
      "Epoch 48/200\n",
      "15/15 [==============================] - 0s 9ms/step - loss: 0.2799 - accuracy: 0.9059 - val_loss: 0.3143 - val_accuracy: 0.8978\n",
      "Epoch 49/200\n",
      "15/15 [==============================] - 0s 9ms/step - loss: 0.2903 - accuracy: 0.9042 - val_loss: 0.3234 - val_accuracy: 0.8973\n",
      "Epoch 50/200\n",
      "15/15 [==============================] - 0s 9ms/step - loss: 0.2697 - accuracy: 0.9126 - val_loss: 0.3188 - val_accuracy: 0.8949\n",
      "Epoch 51/200\n",
      "15/15 [==============================] - 0s 9ms/step - loss: 0.2719 - accuracy: 0.9108 - val_loss: 0.3460 - val_accuracy: 0.8845\n",
      "Epoch 52/200\n",
      "15/15 [==============================] - 0s 10ms/step - loss: 0.2639 - accuracy: 0.9120 - val_loss: 0.3192 - val_accuracy: 0.8978\n",
      "Epoch 53/200\n",
      "15/15 [==============================] - 0s 9ms/step - loss: 0.2766 - accuracy: 0.9048 - val_loss: 0.3122 - val_accuracy: 0.8949\n",
      "Epoch 54/200\n",
      "15/15 [==============================] - 0s 9ms/step - loss: 0.2860 - accuracy: 0.9055 - val_loss: 0.3202 - val_accuracy: 0.8939\n",
      "Epoch 55/200\n",
      "15/15 [==============================] - 0s 9ms/step - loss: 0.2738 - accuracy: 0.9079 - val_loss: 0.3524 - val_accuracy: 0.8889\n",
      "Epoch 56/200\n",
      "15/15 [==============================] - 0s 9ms/step - loss: 0.2823 - accuracy: 0.9068 - val_loss: 0.3128 - val_accuracy: 0.8968\n",
      "Epoch 57/200\n",
      "15/15 [==============================] - 0s 9ms/step - loss: 0.2672 - accuracy: 0.9092 - val_loss: 0.3130 - val_accuracy: 0.8909\n",
      "Epoch 58/200\n",
      "15/15 [==============================] - 0s 9ms/step - loss: 0.2716 - accuracy: 0.9098 - val_loss: 0.3121 - val_accuracy: 0.8954\n",
      "Epoch 59/200\n",
      "15/15 [==============================] - 0s 9ms/step - loss: 0.2567 - accuracy: 0.9093 - val_loss: 0.3121 - val_accuracy: 0.8909\n",
      "Epoch 60/200\n",
      "15/15 [==============================] - 0s 9ms/step - loss: 0.2763 - accuracy: 0.9053 - val_loss: 0.3227 - val_accuracy: 0.8944\n",
      "Epoch 61/200\n",
      "15/15 [==============================] - 0s 9ms/step - loss: 0.2509 - accuracy: 0.9150 - val_loss: 0.3001 - val_accuracy: 0.8963\n",
      "Epoch 62/200\n",
      "15/15 [==============================] - 0s 8ms/step - loss: 0.2643 - accuracy: 0.9097 - val_loss: 0.3145 - val_accuracy: 0.8954\n",
      "Epoch 63/200\n",
      "15/15 [==============================] - 0s 9ms/step - loss: 0.2624 - accuracy: 0.9123 - val_loss: 0.3140 - val_accuracy: 0.8909\n",
      "Epoch 64/200\n",
      "15/15 [==============================] - 0s 9ms/step - loss: 0.2577 - accuracy: 0.9141 - val_loss: 0.3050 - val_accuracy: 0.8939\n",
      "Epoch 65/200\n",
      "15/15 [==============================] - 0s 9ms/step - loss: 0.2706 - accuracy: 0.9070 - val_loss: 0.3154 - val_accuracy: 0.8944\n",
      "Epoch 66/200\n",
      "15/15 [==============================] - 0s 9ms/step - loss: 0.2690 - accuracy: 0.9111 - val_loss: 0.3258 - val_accuracy: 0.8889\n",
      "Epoch 67/200\n",
      "15/15 [==============================] - 0s 9ms/step - loss: 0.2682 - accuracy: 0.9100 - val_loss: 0.3309 - val_accuracy: 0.8885\n",
      "Epoch 68/200\n",
      "15/15 [==============================] - 0s 9ms/step - loss: 0.2673 - accuracy: 0.9117 - val_loss: 0.3235 - val_accuracy: 0.8934\n",
      "Epoch 69/200\n",
      "15/15 [==============================] - 0s 9ms/step - loss: 0.2696 - accuracy: 0.9079 - val_loss: 0.3218 - val_accuracy: 0.8924\n",
      "Epoch 70/200\n",
      "15/15 [==============================] - 0s 8ms/step - loss: 0.2773 - accuracy: 0.9044 - val_loss: 0.3191 - val_accuracy: 0.8973\n",
      "Epoch 71/200\n",
      "15/15 [==============================] - 0s 10ms/step - loss: 0.2652 - accuracy: 0.9114 - val_loss: 0.3209 - val_accuracy: 0.8894\n",
      "Epoch 72/200\n",
      "15/15 [==============================] - 0s 9ms/step - loss: 0.2605 - accuracy: 0.9170 - val_loss: 0.3218 - val_accuracy: 0.8899\n",
      "Epoch 73/200\n",
      "15/15 [==============================] - 0s 9ms/step - loss: 0.2636 - accuracy: 0.9125 - val_loss: 0.3238 - val_accuracy: 0.8919\n",
      "Epoch 74/200\n",
      "15/15 [==============================] - 0s 9ms/step - loss: 0.2707 - accuracy: 0.9122 - val_loss: 0.3531 - val_accuracy: 0.8914\n",
      "Epoch 75/200\n",
      "15/15 [==============================] - 0s 9ms/step - loss: 0.2465 - accuracy: 0.9201 - val_loss: 0.3211 - val_accuracy: 0.8919\n",
      "Epoch 76/200\n",
      "15/15 [==============================] - 0s 9ms/step - loss: 0.2533 - accuracy: 0.9178 - val_loss: 0.3179 - val_accuracy: 0.8934\n",
      "Epoch 77/200\n",
      "15/15 [==============================] - 0s 9ms/step - loss: 0.2648 - accuracy: 0.9134 - val_loss: 0.3530 - val_accuracy: 0.8810\n",
      "Epoch 78/200\n",
      "15/15 [==============================] - 0s 9ms/step - loss: 0.2594 - accuracy: 0.9136 - val_loss: 0.3202 - val_accuracy: 0.8934\n",
      "Epoch 79/200\n",
      "15/15 [==============================] - 0s 9ms/step - loss: 0.2663 - accuracy: 0.9081 - val_loss: 0.3261 - val_accuracy: 0.8944\n",
      "Epoch 80/200\n",
      "15/15 [==============================] - 0s 9ms/step - loss: 0.2797 - accuracy: 0.9073 - val_loss: 0.3444 - val_accuracy: 0.8835\n",
      "Epoch 81/200\n",
      "15/15 [==============================] - 0s 9ms/step - loss: 0.2565 - accuracy: 0.9142 - val_loss: 0.3274 - val_accuracy: 0.8889\n",
      "Epoch 82/200\n",
      "15/15 [==============================] - 0s 9ms/step - loss: 0.2452 - accuracy: 0.9206 - val_loss: 0.3186 - val_accuracy: 0.8978\n",
      "Epoch 83/200\n",
      "15/15 [==============================] - 0s 10ms/step - loss: 0.2524 - accuracy: 0.9152 - val_loss: 0.3188 - val_accuracy: 0.8949\n",
      "Epoch 84/200\n",
      "15/15 [==============================] - 0s 10ms/step - loss: 0.2418 - accuracy: 0.9191 - val_loss: 0.3277 - val_accuracy: 0.8889\n",
      "Epoch 85/200\n",
      "15/15 [==============================] - 0s 9ms/step - loss: 0.2785 - accuracy: 0.9031 - val_loss: 0.3319 - val_accuracy: 0.8904\n",
      "Epoch 86/200\n",
      "15/15 [==============================] - 0s 9ms/step - loss: 0.2450 - accuracy: 0.9172 - val_loss: 0.2983 - val_accuracy: 0.8978\n",
      "Epoch 87/200\n",
      "15/15 [==============================] - 0s 9ms/step - loss: 0.2601 - accuracy: 0.9152 - val_loss: 0.3040 - val_accuracy: 0.8949\n",
      "Epoch 88/200\n",
      "15/15 [==============================] - 0s 9ms/step - loss: 0.2485 - accuracy: 0.9173 - val_loss: 0.3083 - val_accuracy: 0.8978\n",
      "Epoch 89/200\n",
      "15/15 [==============================] - 0s 9ms/step - loss: 0.2592 - accuracy: 0.9114 - val_loss: 0.3150 - val_accuracy: 0.8934\n",
      "Epoch 90/200\n",
      "15/15 [==============================] - 0s 9ms/step - loss: 0.2300 - accuracy: 0.9235 - val_loss: 0.3190 - val_accuracy: 0.8968\n",
      "Epoch 91/200\n",
      "15/15 [==============================] - 0s 9ms/step - loss: 0.2361 - accuracy: 0.9216 - val_loss: 0.3289 - val_accuracy: 0.8880\n",
      "Epoch 92/200\n",
      "15/15 [==============================] - 0s 9ms/step - loss: 0.2557 - accuracy: 0.9147 - val_loss: 0.3149 - val_accuracy: 0.8929\n",
      "Epoch 93/200\n",
      "15/15 [==============================] - 0s 10ms/step - loss: 0.2422 - accuracy: 0.9183 - val_loss: 0.3151 - val_accuracy: 0.8954\n",
      "Epoch 94/200\n",
      "15/15 [==============================] - 0s 21ms/step - loss: 0.2484 - accuracy: 0.9147 - val_loss: 0.3162 - val_accuracy: 0.8959\n",
      "Epoch 95/200\n",
      "15/15 [==============================] - 0s 9ms/step - loss: 0.2601 - accuracy: 0.9126 - val_loss: 0.3219 - val_accuracy: 0.8944\n",
      "Epoch 96/200\n",
      "15/15 [==============================] - 0s 10ms/step - loss: 0.2313 - accuracy: 0.9203 - val_loss: 0.3184 - val_accuracy: 0.8959\n",
      "Epoch 97/200\n",
      "15/15 [==============================] - 0s 9ms/step - loss: 0.2522 - accuracy: 0.9168 - val_loss: 0.3219 - val_accuracy: 0.8934\n",
      "Epoch 98/200\n",
      "15/15 [==============================] - 0s 10ms/step - loss: 0.2433 - accuracy: 0.9218 - val_loss: 0.3180 - val_accuracy: 0.8988\n",
      "Epoch 99/200\n",
      "15/15 [==============================] - 0s 9ms/step - loss: 0.2523 - accuracy: 0.9163 - val_loss: 0.3249 - val_accuracy: 0.8899\n",
      "Epoch 100/200\n",
      "15/15 [==============================] - 0s 9ms/step - loss: 0.2509 - accuracy: 0.9158 - val_loss: 0.3078 - val_accuracy: 0.8963\n",
      "Epoch 101/200\n",
      "15/15 [==============================] - 0s 10ms/step - loss: 0.2474 - accuracy: 0.9200 - val_loss: 0.3386 - val_accuracy: 0.8914\n",
      "Epoch 102/200\n",
      "15/15 [==============================] - 0s 10ms/step - loss: 0.2419 - accuracy: 0.9221 - val_loss: 0.3265 - val_accuracy: 0.8983\n",
      "Epoch 103/200\n",
      "15/15 [==============================] - 0s 9ms/step - loss: 0.2349 - accuracy: 0.9192 - val_loss: 0.3109 - val_accuracy: 0.8954\n",
      "Epoch 104/200\n",
      "15/15 [==============================] - 0s 10ms/step - loss: 0.2401 - accuracy: 0.9201 - val_loss: 0.3330 - val_accuracy: 0.8894\n",
      "Epoch 105/200\n",
      "15/15 [==============================] - 0s 9ms/step - loss: 0.2515 - accuracy: 0.9132 - val_loss: 0.3398 - val_accuracy: 0.8880\n",
      "Epoch 106/200\n",
      "15/15 [==============================] - 0s 10ms/step - loss: 0.2533 - accuracy: 0.9134 - val_loss: 0.3556 - val_accuracy: 0.8820\n",
      "Epoch 107/200\n",
      "15/15 [==============================] - 0s 9ms/step - loss: 0.2473 - accuracy: 0.9134 - val_loss: 0.3231 - val_accuracy: 0.8944\n",
      "Epoch 108/200\n",
      "15/15 [==============================] - 0s 8ms/step - loss: 0.2397 - accuracy: 0.9218 - val_loss: 0.3273 - val_accuracy: 0.8909\n",
      "Epoch 109/200\n",
      "15/15 [==============================] - 0s 9ms/step - loss: 0.2474 - accuracy: 0.9183 - val_loss: 0.3142 - val_accuracy: 0.8954\n",
      "Epoch 110/200\n",
      "15/15 [==============================] - 0s 9ms/step - loss: 0.2376 - accuracy: 0.9239 - val_loss: 0.3184 - val_accuracy: 0.8914\n",
      "Epoch 111/200\n",
      "15/15 [==============================] - 0s 8ms/step - loss: 0.2585 - accuracy: 0.9111 - val_loss: 0.3178 - val_accuracy: 0.8924\n",
      "Epoch 112/200\n",
      "15/15 [==============================] - 0s 10ms/step - loss: 0.2426 - accuracy: 0.9204 - val_loss: 0.3179 - val_accuracy: 0.8939\n",
      "Epoch 113/200\n",
      "15/15 [==============================] - 0s 9ms/step - loss: 0.2529 - accuracy: 0.9174 - val_loss: 0.3246 - val_accuracy: 0.8909\n",
      "Epoch 114/200\n",
      "15/15 [==============================] - 0s 9ms/step - loss: 0.2356 - accuracy: 0.9187 - val_loss: 0.3395 - val_accuracy: 0.8963\n",
      "Epoch 115/200\n"
     ]
    },
    {
     "name": "stdout",
     "output_type": "stream",
     "text": [
      "15/15 [==============================] - 0s 9ms/step - loss: 0.2342 - accuracy: 0.9259 - val_loss: 0.3220 - val_accuracy: 0.8904\n",
      "Epoch 116/200\n",
      "15/15 [==============================] - 0s 9ms/step - loss: 0.2422 - accuracy: 0.9194 - val_loss: 0.3243 - val_accuracy: 0.8949\n",
      "Epoch 117/200\n",
      "15/15 [==============================] - 0s 9ms/step - loss: 0.2286 - accuracy: 0.9257 - val_loss: 0.3209 - val_accuracy: 0.8954\n",
      "Epoch 118/200\n",
      "15/15 [==============================] - 0s 9ms/step - loss: 0.2565 - accuracy: 0.9148 - val_loss: 0.3398 - val_accuracy: 0.8924\n",
      "Epoch 119/200\n",
      "15/15 [==============================] - 0s 9ms/step - loss: 0.2322 - accuracy: 0.9224 - val_loss: 0.3266 - val_accuracy: 0.8929\n",
      "Epoch 120/200\n",
      "15/15 [==============================] - 0s 10ms/step - loss: 0.2212 - accuracy: 0.9267 - val_loss: 0.3258 - val_accuracy: 0.8919\n",
      "Epoch 121/200\n",
      "15/15 [==============================] - 0s 8ms/step - loss: 0.2392 - accuracy: 0.9205 - val_loss: 0.3386 - val_accuracy: 0.8860\n",
      "Epoch 122/200\n",
      "15/15 [==============================] - 0s 9ms/step - loss: 0.2530 - accuracy: 0.9161 - val_loss: 0.3237 - val_accuracy: 0.8939\n",
      "Epoch 123/200\n",
      "15/15 [==============================] - 0s 9ms/step - loss: 0.2410 - accuracy: 0.9213 - val_loss: 0.3465 - val_accuracy: 0.8968\n",
      "Epoch 124/200\n",
      "15/15 [==============================] - 0s 8ms/step - loss: 0.2474 - accuracy: 0.9158 - val_loss: 0.3166 - val_accuracy: 0.8963\n",
      "Epoch 125/200\n",
      "15/15 [==============================] - 0s 10ms/step - loss: 0.2342 - accuracy: 0.9246 - val_loss: 0.3164 - val_accuracy: 0.8949\n",
      "Epoch 126/200\n",
      "15/15 [==============================] - 0s 8ms/step - loss: 0.2290 - accuracy: 0.9273 - val_loss: 0.3213 - val_accuracy: 0.8904\n",
      "Epoch 127/200\n",
      "15/15 [==============================] - 0s 9ms/step - loss: 0.2382 - accuracy: 0.9187 - val_loss: 0.3258 - val_accuracy: 0.8934\n",
      "Epoch 128/200\n",
      "15/15 [==============================] - 0s 9ms/step - loss: 0.2325 - accuracy: 0.9256 - val_loss: 0.3226 - val_accuracy: 0.8983\n",
      "Epoch 129/200\n",
      "15/15 [==============================] - 0s 8ms/step - loss: 0.2397 - accuracy: 0.9213 - val_loss: 0.3260 - val_accuracy: 0.8934\n",
      "Epoch 130/200\n",
      "15/15 [==============================] - 0s 9ms/step - loss: 0.2284 - accuracy: 0.9268 - val_loss: 0.3196 - val_accuracy: 0.8934\n",
      "Epoch 131/200\n",
      "15/15 [==============================] - 0s 9ms/step - loss: 0.2310 - accuracy: 0.9257 - val_loss: 0.3226 - val_accuracy: 0.8949\n",
      "Epoch 132/200\n",
      "15/15 [==============================] - 0s 8ms/step - loss: 0.2321 - accuracy: 0.9213 - val_loss: 0.3353 - val_accuracy: 0.8914\n",
      "Epoch 133/200\n",
      "15/15 [==============================] - 0s 9ms/step - loss: 0.2246 - accuracy: 0.9258 - val_loss: 0.3221 - val_accuracy: 0.8968\n",
      "Epoch 134/200\n",
      "15/15 [==============================] - 0s 8ms/step - loss: 0.2316 - accuracy: 0.9240 - val_loss: 0.3198 - val_accuracy: 0.9008\n",
      "Epoch 135/200\n",
      "15/15 [==============================] - 0s 8ms/step - loss: 0.2272 - accuracy: 0.9299 - val_loss: 0.3185 - val_accuracy: 0.8983\n",
      "Epoch 136/200\n",
      "15/15 [==============================] - 0s 11ms/step - loss: 0.2351 - accuracy: 0.9198 - val_loss: 0.3245 - val_accuracy: 0.8924\n",
      "Epoch 137/200\n",
      "15/15 [==============================] - 0s 8ms/step - loss: 0.2362 - accuracy: 0.9264 - val_loss: 0.3150 - val_accuracy: 0.8959\n",
      "Epoch 138/200\n",
      "15/15 [==============================] - 0s 9ms/step - loss: 0.2493 - accuracy: 0.9198 - val_loss: 0.3141 - val_accuracy: 0.8959\n",
      "Epoch 139/200\n",
      "15/15 [==============================] - 0s 10ms/step - loss: 0.2359 - accuracy: 0.9229 - val_loss: 0.3281 - val_accuracy: 0.8875\n",
      "Epoch 140/200\n",
      "15/15 [==============================] - 0s 10ms/step - loss: 0.2534 - accuracy: 0.9154 - val_loss: 0.3148 - val_accuracy: 0.8919\n",
      "Epoch 141/200\n",
      "15/15 [==============================] - 0s 10ms/step - loss: 0.2418 - accuracy: 0.9218 - val_loss: 0.3069 - val_accuracy: 0.8963\n",
      "Epoch 142/200\n",
      "15/15 [==============================] - 0s 10ms/step - loss: 0.2222 - accuracy: 0.9248 - val_loss: 0.3169 - val_accuracy: 0.8973\n",
      "Epoch 143/200\n",
      "15/15 [==============================] - 0s 10ms/step - loss: 0.2341 - accuracy: 0.9254 - val_loss: 0.3260 - val_accuracy: 0.8919\n",
      "Epoch 144/200\n",
      "15/15 [==============================] - 0s 10ms/step - loss: 0.2281 - accuracy: 0.9260 - val_loss: 0.3325 - val_accuracy: 0.8880\n",
      "Epoch 145/200\n",
      "15/15 [==============================] - 0s 10ms/step - loss: 0.2482 - accuracy: 0.9127 - val_loss: 0.3327 - val_accuracy: 0.8899\n",
      "Epoch 146/200\n",
      "15/15 [==============================] - 0s 10ms/step - loss: 0.2373 - accuracy: 0.9158 - val_loss: 0.3081 - val_accuracy: 0.9003\n",
      "Epoch 147/200\n",
      "15/15 [==============================] - 0s 11ms/step - loss: 0.2386 - accuracy: 0.9213 - val_loss: 0.3141 - val_accuracy: 0.8949\n",
      "Epoch 148/200\n",
      "15/15 [==============================] - 0s 10ms/step - loss: 0.2292 - accuracy: 0.9243 - val_loss: 0.3260 - val_accuracy: 0.8909\n",
      "Epoch 149/200\n",
      "15/15 [==============================] - 0s 10ms/step - loss: 0.2362 - accuracy: 0.9257 - val_loss: 0.3333 - val_accuracy: 0.8929\n",
      "Epoch 150/200\n",
      "15/15 [==============================] - 0s 10ms/step - loss: 0.2448 - accuracy: 0.9190 - val_loss: 0.3216 - val_accuracy: 0.8983\n",
      "Epoch 151/200\n",
      "15/15 [==============================] - 0s 10ms/step - loss: 0.2323 - accuracy: 0.9239 - val_loss: 0.3270 - val_accuracy: 0.8973\n",
      "Epoch 152/200\n",
      "15/15 [==============================] - 0s 10ms/step - loss: 0.2357 - accuracy: 0.9228 - val_loss: 0.3430 - val_accuracy: 0.8919\n",
      "Epoch 153/200\n",
      "15/15 [==============================] - 0s 10ms/step - loss: 0.2282 - accuracy: 0.9281 - val_loss: 0.3094 - val_accuracy: 0.8959\n",
      "Epoch 154/200\n",
      "15/15 [==============================] - 0s 10ms/step - loss: 0.2319 - accuracy: 0.9256 - val_loss: 0.3173 - val_accuracy: 0.8924\n",
      "Epoch 155/200\n",
      "15/15 [==============================] - 0s 9ms/step - loss: 0.2344 - accuracy: 0.9284 - val_loss: 0.3247 - val_accuracy: 0.8924\n",
      "Epoch 156/200\n",
      "15/15 [==============================] - 0s 9ms/step - loss: 0.2196 - accuracy: 0.9249 - val_loss: 0.3141 - val_accuracy: 0.8978\n",
      "Epoch 157/200\n",
      "15/15 [==============================] - 0s 10ms/step - loss: 0.2198 - accuracy: 0.9268 - val_loss: 0.3192 - val_accuracy: 0.8973\n",
      "Epoch 158/200\n",
      "15/15 [==============================] - 0s 10ms/step - loss: 0.2280 - accuracy: 0.9256 - val_loss: 0.3046 - val_accuracy: 0.9018\n",
      "Epoch 159/200\n",
      "15/15 [==============================] - 0s 10ms/step - loss: 0.2333 - accuracy: 0.9225 - val_loss: 0.3081 - val_accuracy: 0.8968\n",
      "Epoch 160/200\n",
      "15/15 [==============================] - 0s 10ms/step - loss: 0.2401 - accuracy: 0.9205 - val_loss: 0.3080 - val_accuracy: 0.8939\n",
      "Epoch 161/200\n",
      "15/15 [==============================] - 0s 10ms/step - loss: 0.2258 - accuracy: 0.9304 - val_loss: 0.3142 - val_accuracy: 0.8959\n",
      "Epoch 162/200\n",
      "15/15 [==============================] - 0s 10ms/step - loss: 0.2337 - accuracy: 0.9248 - val_loss: 0.3290 - val_accuracy: 0.8909\n",
      "Epoch 163/200\n",
      "15/15 [==============================] - 0s 9ms/step - loss: 0.2248 - accuracy: 0.9253 - val_loss: 0.3545 - val_accuracy: 0.8815\n",
      "Epoch 164/200\n",
      "15/15 [==============================] - 0s 9ms/step - loss: 0.2397 - accuracy: 0.9203 - val_loss: 0.3023 - val_accuracy: 0.8988\n",
      "Epoch 165/200\n",
      "15/15 [==============================] - 0s 8ms/step - loss: 0.2277 - accuracy: 0.9243 - val_loss: 0.2951 - val_accuracy: 0.8983\n",
      "Epoch 166/200\n",
      "15/15 [==============================] - 0s 10ms/step - loss: 0.2258 - accuracy: 0.9280 - val_loss: 0.3156 - val_accuracy: 0.8968\n",
      "Epoch 167/200\n",
      "15/15 [==============================] - 0s 10ms/step - loss: 0.2236 - accuracy: 0.9243 - val_loss: 0.3396 - val_accuracy: 0.8894\n",
      "Epoch 168/200\n",
      "15/15 [==============================] - 0s 9ms/step - loss: 0.2275 - accuracy: 0.9237 - val_loss: 0.3207 - val_accuracy: 0.8973\n",
      "Epoch 169/200\n",
      "15/15 [==============================] - 0s 11ms/step - loss: 0.2180 - accuracy: 0.9280 - val_loss: 0.3111 - val_accuracy: 0.8959\n",
      "Epoch 170/200\n",
      "15/15 [==============================] - 0s 10ms/step - loss: 0.2254 - accuracy: 0.9249 - val_loss: 0.3207 - val_accuracy: 0.8919\n",
      "Epoch 171/200\n",
      "15/15 [==============================] - 0s 10ms/step - loss: 0.2272 - accuracy: 0.9237 - val_loss: 0.3137 - val_accuracy: 0.8944\n",
      "Epoch 172/200\n",
      "15/15 [==============================] - 0s 10ms/step - loss: 0.2107 - accuracy: 0.9312 - val_loss: 0.3296 - val_accuracy: 0.8949\n",
      "Epoch 173/200\n",
      "15/15 [==============================] - 0s 9ms/step - loss: 0.2382 - accuracy: 0.9204 - val_loss: 0.3304 - val_accuracy: 0.8934\n",
      "Epoch 174/200\n",
      "15/15 [==============================] - 0s 9ms/step - loss: 0.2162 - accuracy: 0.9292 - val_loss: 0.3146 - val_accuracy: 0.8924\n",
      "Epoch 175/200\n",
      "15/15 [==============================] - 0s 11ms/step - loss: 0.2195 - accuracy: 0.9279 - val_loss: 0.3263 - val_accuracy: 0.8914\n",
      "Epoch 176/200\n",
      "15/15 [==============================] - 0s 9ms/step - loss: 0.2138 - accuracy: 0.9282 - val_loss: 0.3228 - val_accuracy: 0.8949\n",
      "Epoch 177/200\n",
      "15/15 [==============================] - 0s 9ms/step - loss: 0.2353 - accuracy: 0.9214 - val_loss: 0.3019 - val_accuracy: 0.8963\n",
      "Epoch 178/200\n",
      "15/15 [==============================] - 0s 9ms/step - loss: 0.2303 - accuracy: 0.9242 - val_loss: 0.3207 - val_accuracy: 0.8944\n",
      "Epoch 179/200\n",
      "15/15 [==============================] - 0s 10ms/step - loss: 0.2136 - accuracy: 0.9322 - val_loss: 0.3065 - val_accuracy: 0.8963\n",
      "Epoch 180/200\n",
      "15/15 [==============================] - 0s 9ms/step - loss: 0.2327 - accuracy: 0.9231 - val_loss: 0.3247 - val_accuracy: 0.8944\n",
      "Epoch 181/200\n",
      "15/15 [==============================] - 0s 9ms/step - loss: 0.2215 - accuracy: 0.9310 - val_loss: 0.3264 - val_accuracy: 0.8899\n",
      "Epoch 182/200\n",
      "15/15 [==============================] - 0s 9ms/step - loss: 0.2224 - accuracy: 0.9271 - val_loss: 0.3213 - val_accuracy: 0.8939\n",
      "Epoch 183/200\n",
      "15/15 [==============================] - 0s 10ms/step - loss: 0.2169 - accuracy: 0.9284 - val_loss: 0.3115 - val_accuracy: 0.8988\n",
      "Epoch 184/200\n",
      "15/15 [==============================] - 0s 9ms/step - loss: 0.2166 - accuracy: 0.9272 - val_loss: 0.3129 - val_accuracy: 0.8973\n",
      "Epoch 185/200\n",
      "15/15 [==============================] - 0s 9ms/step - loss: 0.2159 - accuracy: 0.9285 - val_loss: 0.3127 - val_accuracy: 0.8949\n",
      "Epoch 186/200\n",
      "15/15 [==============================] - 0s 10ms/step - loss: 0.2124 - accuracy: 0.9282 - val_loss: 0.3257 - val_accuracy: 0.8904\n",
      "Epoch 187/200\n",
      "15/15 [==============================] - 0s 10ms/step - loss: 0.2332 - accuracy: 0.9229 - val_loss: 0.3290 - val_accuracy: 0.8924\n",
      "Epoch 188/200\n",
      "15/15 [==============================] - 0s 10ms/step - loss: 0.2369 - accuracy: 0.9208 - val_loss: 0.3266 - val_accuracy: 0.8939\n",
      "Epoch 189/200\n",
      "15/15 [==============================] - 0s 9ms/step - loss: 0.2271 - accuracy: 0.9233 - val_loss: 0.3380 - val_accuracy: 0.9008\n",
      "Epoch 190/200\n",
      "15/15 [==============================] - 0s 20ms/step - loss: 0.2076 - accuracy: 0.9322 - val_loss: 0.3296 - val_accuracy: 0.8914\n",
      "Epoch 191/200\n",
      "15/15 [==============================] - 0s 10ms/step - loss: 0.2261 - accuracy: 0.9230 - val_loss: 0.3271 - val_accuracy: 0.8954\n",
      "Epoch 192/200\n",
      "15/15 [==============================] - 0s 11ms/step - loss: 0.2292 - accuracy: 0.9239 - val_loss: 0.3045 - val_accuracy: 0.9008\n",
      "Epoch 193/200\n",
      "15/15 [==============================] - 0s 9ms/step - loss: 0.2279 - accuracy: 0.9272 - val_loss: 0.3227 - val_accuracy: 0.9008\n",
      "Epoch 194/200\n",
      "15/15 [==============================] - 0s 11ms/step - loss: 0.2121 - accuracy: 0.9341 - val_loss: 0.3156 - val_accuracy: 0.8993\n",
      "Epoch 195/200\n",
      "15/15 [==============================] - 0s 9ms/step - loss: 0.2185 - accuracy: 0.9286 - val_loss: 0.3182 - val_accuracy: 0.9003\n",
      "Epoch 196/200\n",
      "15/15 [==============================] - 0s 10ms/step - loss: 0.2244 - accuracy: 0.9253 - val_loss: 0.3232 - val_accuracy: 0.8993\n",
      "Epoch 197/200\n",
      "15/15 [==============================] - 0s 10ms/step - loss: 0.2291 - accuracy: 0.9243 - val_loss: 0.3126 - val_accuracy: 0.8963\n",
      "Epoch 198/200\n",
      "15/15 [==============================] - 0s 10ms/step - loss: 0.2365 - accuracy: 0.9199 - val_loss: 0.3278 - val_accuracy: 0.8963\n",
      "Epoch 199/200\n",
      "15/15 [==============================] - 0s 10ms/step - loss: 0.2156 - accuracy: 0.9311 - val_loss: 0.3344 - val_accuracy: 0.8954\n",
      "Epoch 200/200\n",
      "15/15 [==============================] - 0s 10ms/step - loss: 0.2131 - accuracy: 0.9323 - val_loss: 0.3396 - val_accuracy: 0.8993\n",
      "Time:  31.456388755999797\n"
     ]
    }
   ],
   "source": [
    "import timeit\n",
    "\n",
    "start = timeit.default_timer()\n",
    "\n",
    "#Your statements here\n",
    "\n",
    "bestNN=create_modelWithDropBatch(hidden_layers= 6, learning_rate= 0.05)\n",
    "history2 = bestNN.fit(\n",
    "     pca_finalDF, y_train_res,\n",
    "    validation_data=(pcavalidData, y_valid),\n",
    "    batch_size=512,\n",
    "    epochs=200,\n",
    "#     callbacks=[early_stopping],\n",
    ")\n",
    "stop = timeit.default_timer()\n",
    "\n",
    "print('Time: ', stop - start)  \n"
   ]
  },
  {
   "cell_type": "code",
   "execution_count": 51,
   "metadata": {},
   "outputs": [],
   "source": [
    "def plotconfusionMatrix(modelObj,ytest,xtest):\n",
    "#     model_DecTreeClass2.fit(X_train_res, y_train_res)\n",
    "    y_pred_DecTreeClass2 = modelObj.predict_classes(xtest)\n",
    "    conf_mat2 = metrics.confusion_matrix(ytest, y_pred_DecTreeClass2)\n",
    "    plt.figure(figsize=(8,6))\n",
    "    sns.heatmap(conf_mat2,annot=True)\n",
    "    plt.title(\"Confusion_matrix\")\n",
    "    plt.xlabel(\"Predicted Class\")\n",
    "    plt.ylabel(\"Actual class\")\n",
    "    plt.show()\n",
    "    print('Confusion matrix: \\n', conf_mat2)\n",
    "    print('TP: ', conf_mat2[1,1])\n",
    "    print('TN: ', conf_mat2[0,0])\n",
    "    print('FP: ', conf_mat2[0,1])\n",
    "    print('FN: ', conf_mat2[1,0])\n",
    "\n",
    "def getMetrics(modelObj,xTrain,yTrain,xValid,yValid):\n",
    "    y_pred_DecTreeClass2 = modelObj.predict_classes(xValid)\n",
    "    print('Classification report: \\n', metrics.classification_report(yValid, y_pred_DecTreeClass2))\n",
    "    print('Training Accuracy_Score:',metrics.accuracy_score(yTrain, modelObj.predict_classes(xTrain))*100,'%')\n",
    "    print('Training Precision:',metrics.precision_score(yTrain, modelObj.predict_classes(xTrain))*100,'%')\n",
    "    print('Training Recall:',metrics.recall_score(yTrain, modelObj.predict_classes(xTrain))*100,'%')\n",
    "    \n",
    "    print('Training F1 Score:',metrics.f1_score(yTrain, modelObj.predict_classes(xTrain))*100,'%')\n",
    "\n",
    "    \n",
    "    print('Validation Accuracy_Score:',metrics.accuracy_score(yValid, y_pred_DecTreeClass2)*100,'%')\n",
    "    print('Validation Precision:',metrics.precision_score(yValid, y_pred_DecTreeClass2)*100,'%')\n",
    "    print('Validation Recall:',metrics.recall_score(yValid, y_pred_DecTreeClass2)*100,'%')\n",
    "    \n",
    "    print('Validation F1 Score:',metrics.f1_score(yValid, y_pred_DecTreeClass2)*100,'%')"
   ]
  },
  {
   "cell_type": "code",
   "execution_count": 26,
   "metadata": {},
   "outputs": [
    {
     "data": {
      "text/plain": [
       "<AxesSubplot:title={'center':'Accuracy'}>"
      ]
     },
     "execution_count": 26,
     "metadata": {},
     "output_type": "execute_result"
    },
    {
     "data": {
      "image/png": "[encoded data removed]",
      "text/plain": [
       "<Figure size 432x288 with 1 Axes>"
      ]
     },
     "metadata": {
      "needs_background": "light"
     },
     "output_type": "display_data"
    },
    {
     "data": {
      "image/png": "[encoded data removed]",
      "text/plain": [
       "<Figure size 432x288 with 1 Axes>"
      ]
     },
     "metadata": {
      "needs_background": "light"
     },
     "output_type": "display_data"
    }
   ],
   "source": [
    "history_df = pd.DataFrame(history2.history)\n",
    "history_df.loc[:, ['loss', 'val_loss']].plot(title=\"Cross-entropy\")\n",
    "history_df.loc[:, ['accuracy', 'val_accuracy']].plot(title=\"Accuracy\")"
   ]
  },
  {
   "cell_type": "code",
   "execution_count": 55,
   "metadata": {
    "scrolled": true
   },
   "outputs": [
    {
     "name": "stdout",
     "output_type": "stream",
     "text": [
      "Accuracy_Score: 33.328990228013026 %\n",
      "precision_score: 0.0 %\n",
      "recall_score: 0.0 %\n"
     ]
    },
    {
     "name": "stderr",
     "output_type": "stream",
     "text": [
      "/home/dheekshitha-vibha/miniconda3/envs/myenv/lib/python3.6/site-packages/tensorflow/python/keras/engine/sequential.py:450: UserWarning: `model.predict_classes()` is deprecated and will be removed after 2021-01-01. Please use instead:* `np.argmax(model.predict(x), axis=-1)`,   if your model does multi-class classification   (e.g. if it uses a `softmax` last-layer activation).* `(model.predict(x) > 0.5).astype(\"int32\")`,   if your model does binary classification   (e.g. if it uses a `sigmoid` last-layer activation).\n",
      "  warnings.warn('`model.predict_classes()` is deprecated and '\n",
      "/home/dheekshitha-vibha/miniconda3/envs/myenv/lib/python3.6/site-packages/sklearn/metrics/_classification.py:1245: UndefinedMetricWarning: Precision is ill-defined and being set to 0.0 due to no predicted samples. Use `zero_division` parameter to control this behavior.\n",
      "  _warn_prf(average, modifier, msg_start, len(result))\n"
     ]
    }
   ],
   "source": [
    "y_pred_SVM = bestNN.predict_classes(pca_finalDF)\n",
    "\n",
    "\n",
    "# print('Classification report: \\n', metrics.classification_report(y_test, model))\n",
    "print('Accuracy_Score:',metrics.accuracy_score(y_train_res, y_pred_SVM)*100,'%')\n",
    "\n",
    "\n",
    "print('precision_score:',metrics.precision_score(y_train_res, y_pred_SVM)*100,'%')\n",
    "\n",
    "print('recall_score:',metrics.recall_score(y_train_res, y_pred_SVM)*100,'%')"
   ]
  },
  {
   "cell_type": "code",
   "execution_count": 52,
   "metadata": {
    "scrolled": false
   },
   "outputs": [
    {
     "name": "stderr",
     "output_type": "stream",
     "text": [
      "/home/dheekshitha-vibha/miniconda3/envs/myenv/lib/python3.6/site-packages/tensorflow/python/keras/engine/sequential.py:450: UserWarning: `model.predict_classes()` is deprecated and will be removed after 2021-01-01. Please use instead:* `np.argmax(model.predict(x), axis=-1)`,   if your model does multi-class classification   (e.g. if it uses a `softmax` last-layer activation).* `(model.predict(x) > 0.5).astype(\"int32\")`,   if your model does binary classification   (e.g. if it uses a `sigmoid` last-layer activation).\n",
      "  warnings.warn('`model.predict_classes()` is deprecated and '\n"
     ]
    },
    {
     "data": {
      "image/png": "[encoded data removed]",
      "text/plain": [
       "<Figure size 576x432 with 2 Axes>"
      ]
     },
     "metadata": {
      "needs_background": "light"
     },
     "output_type": "display_data"
    },
    {
     "name": "stdout",
     "output_type": "stream",
     "text": [
      "Confusion matrix: \n",
      " [[ 339    0]\n",
      " [1687    0]]\n",
      "TP:  0\n",
      "TN:  339\n",
      "FP:  0\n",
      "FN:  1687\n",
      "Classification report: \n",
      "               precision    recall  f1-score   support\n",
      "\n",
      "           0       0.17      1.00      0.29       339\n",
      "           1       0.00      0.00      0.00      1687\n",
      "\n",
      "    accuracy                           0.17      2026\n",
      "   macro avg       0.08      0.50      0.14      2026\n",
      "weighted avg       0.03      0.17      0.05      2026\n",
      "\n"
     ]
    },
    {
     "name": "stderr",
     "output_type": "stream",
     "text": [
      "/home/dheekshitha-vibha/miniconda3/envs/myenv/lib/python3.6/site-packages/tensorflow/python/keras/engine/sequential.py:450: UserWarning: `model.predict_classes()` is deprecated and will be removed after 2021-01-01. Please use instead:* `np.argmax(model.predict(x), axis=-1)`,   if your model does multi-class classification   (e.g. if it uses a `softmax` last-layer activation).* `(model.predict(x) > 0.5).astype(\"int32\")`,   if your model does binary classification   (e.g. if it uses a `sigmoid` last-layer activation).\n",
      "  warnings.warn('`model.predict_classes()` is deprecated and '\n",
      "/home/dheekshitha-vibha/miniconda3/envs/myenv/lib/python3.6/site-packages/sklearn/metrics/_classification.py:1245: UndefinedMetricWarning: Precision and F-score are ill-defined and being set to 0.0 in labels with no predicted samples. Use `zero_division` parameter to control this behavior.\n",
      "  _warn_prf(average, modifier, msg_start, len(result))\n",
      "/home/dheekshitha-vibha/miniconda3/envs/myenv/lib/python3.6/site-packages/sklearn/metrics/_classification.py:1245: UndefinedMetricWarning: Precision and F-score are ill-defined and being set to 0.0 in labels with no predicted samples. Use `zero_division` parameter to control this behavior.\n",
      "  _warn_prf(average, modifier, msg_start, len(result))\n",
      "/home/dheekshitha-vibha/miniconda3/envs/myenv/lib/python3.6/site-packages/sklearn/metrics/_classification.py:1245: UndefinedMetricWarning: Precision and F-score are ill-defined and being set to 0.0 in labels with no predicted samples. Use `zero_division` parameter to control this behavior.\n",
      "  _warn_prf(average, modifier, msg_start, len(result))\n",
      "/home/dheekshitha-vibha/miniconda3/envs/myenv/lib/python3.6/site-packages/tensorflow/python/keras/engine/sequential.py:450: UserWarning: `model.predict_classes()` is deprecated and will be removed after 2021-01-01. Please use instead:* `np.argmax(model.predict(x), axis=-1)`,   if your model does multi-class classification   (e.g. if it uses a `softmax` last-layer activation).* `(model.predict(x) > 0.5).astype(\"int32\")`,   if your model does binary classification   (e.g. if it uses a `sigmoid` last-layer activation).\n",
      "  warnings.warn('`model.predict_classes()` is deprecated and '\n"
     ]
    },
    {
     "name": "stdout",
     "output_type": "stream",
     "text": [
      "Training Accuracy_Score: 33.328990228013026 %\n",
      "Training Precision: 0.0 %\n"
     ]
    },
    {
     "name": "stderr",
     "output_type": "stream",
     "text": [
      "/home/dheekshitha-vibha/miniconda3/envs/myenv/lib/python3.6/site-packages/tensorflow/python/keras/engine/sequential.py:450: UserWarning: `model.predict_classes()` is deprecated and will be removed after 2021-01-01. Please use instead:* `np.argmax(model.predict(x), axis=-1)`,   if your model does multi-class classification   (e.g. if it uses a `softmax` last-layer activation).* `(model.predict(x) > 0.5).astype(\"int32\")`,   if your model does binary classification   (e.g. if it uses a `sigmoid` last-layer activation).\n",
      "  warnings.warn('`model.predict_classes()` is deprecated and '\n",
      "/home/dheekshitha-vibha/miniconda3/envs/myenv/lib/python3.6/site-packages/sklearn/metrics/_classification.py:1245: UndefinedMetricWarning: Precision is ill-defined and being set to 0.0 due to no predicted samples. Use `zero_division` parameter to control this behavior.\n",
      "  _warn_prf(average, modifier, msg_start, len(result))\n",
      "/home/dheekshitha-vibha/miniconda3/envs/myenv/lib/python3.6/site-packages/tensorflow/python/keras/engine/sequential.py:450: UserWarning: `model.predict_classes()` is deprecated and will be removed after 2021-01-01. Please use instead:* `np.argmax(model.predict(x), axis=-1)`,   if your model does multi-class classification   (e.g. if it uses a `softmax` last-layer activation).* `(model.predict(x) > 0.5).astype(\"int32\")`,   if your model does binary classification   (e.g. if it uses a `sigmoid` last-layer activation).\n",
      "  warnings.warn('`model.predict_classes()` is deprecated and '\n"
     ]
    },
    {
     "name": "stdout",
     "output_type": "stream",
     "text": [
      "Training Recall: 0.0 %\n"
     ]
    },
    {
     "name": "stderr",
     "output_type": "stream",
     "text": [
      "/home/dheekshitha-vibha/miniconda3/envs/myenv/lib/python3.6/site-packages/tensorflow/python/keras/engine/sequential.py:450: UserWarning: `model.predict_classes()` is deprecated and will be removed after 2021-01-01. Please use instead:* `np.argmax(model.predict(x), axis=-1)`,   if your model does multi-class classification   (e.g. if it uses a `softmax` last-layer activation).* `(model.predict(x) > 0.5).astype(\"int32\")`,   if your model does binary classification   (e.g. if it uses a `sigmoid` last-layer activation).\n",
      "  warnings.warn('`model.predict_classes()` is deprecated and '\n"
     ]
    },
    {
     "name": "stdout",
     "output_type": "stream",
     "text": [
      "Training F1 Score: 0.0 %\n",
      "Validation Accuracy_Score: 16.732477788746298 %\n",
      "Validation Precision: 0.0 %\n",
      "Validation Recall: 0.0 %\n",
      "Validation F1 Score: 0.0 %\n"
     ]
    },
    {
     "name": "stderr",
     "output_type": "stream",
     "text": [
      "/home/dheekshitha-vibha/miniconda3/envs/myenv/lib/python3.6/site-packages/sklearn/metrics/_classification.py:1245: UndefinedMetricWarning: Precision is ill-defined and being set to 0.0 due to no predicted samples. Use `zero_division` parameter to control this behavior.\n",
      "  _warn_prf(average, modifier, msg_start, len(result))\n"
     ]
    }
   ],
   "source": [
    "\n",
    "plotconfusionMatrix(bestNN,y_valid['Attrition_Flag'],pcavalidData)\n",
    "\n",
    "getMetrics(bestNN,pca_finalDF,y_train_res['Attrition_Flag'],pcavalidData,y_valid['Attrition_Flag'])"
   ]
  }
 ],
 "metadata": {
  "kernelspec": {
   "display_name": "myenv",
   "language": "python",
   "name": "myenv"
  },
  "language_info": {
   "codemirror_mode": {
    "name": "ipython",
    "version": 3
   },
   "file_extension": ".py",
   "mimetype": "text/x-python",
   "name": "python",
   "nbconvert_exporter": "python",
   "pygments_lexer": "ipython3",
   "version": "3.6.12"
  }
 },
 "nbformat": 4,
 "nbformat_minor": 4
}
