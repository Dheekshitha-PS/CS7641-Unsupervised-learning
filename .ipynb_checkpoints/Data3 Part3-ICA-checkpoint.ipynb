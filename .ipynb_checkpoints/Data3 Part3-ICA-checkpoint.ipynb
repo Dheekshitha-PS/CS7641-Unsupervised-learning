{
 "cells": [
  {
   "cell_type": "code",
   "execution_count": 1,
   "metadata": {},
   "outputs": [],
   "source": [
    "import pickle as pk\n",
    "import pandas as pd\n",
    "import numpy as np\n",
    "import copy\n",
    "\n",
    "data=pd.read_csv(\"./Data/BankChurners.csv\")\n",
    "\n",
    "data['Attrition_Flag'] = data['Attrition_Flag'].map({1: 'Existing Customer', 0: 'Attrited Customer'})\n"
   ]
  },
  {
   "cell_type": "code",
   "execution_count": 2,
   "metadata": {},
   "outputs": [],
   "source": [
    "import numpy as np # linear algebra\n",
    "import pandas as pd # data processing, CSV file I/O (e.g. pd.read_csv)\n",
    "import matplotlib.pyplot as plt\n",
    "import seaborn as sns\n",
    "%matplotlib inline\n",
    "\n",
    "\n",
    "from sklearn.tree import DecisionTreeClassifier\n",
    "from sklearn.metrics import roc_curve, auc\n",
    "\n",
    "from sklearn.model_selection import KFold, cross_val_score\n",
    "from sklearn.preprocessing import StandardScaler, OneHotEncoder, LabelEncoder\n",
    "\n",
    "# # print)str\n",
    "# scaled_x_train=pd.read_csv(\"./Data/scaled_x_train_smote2.csv\")\n",
    "# scaled_x_test=pd.read_csv(\"./Data/scaled_x_test_smote2.csv\")\n",
    "# # pd.read_csv(\"./Data/scaled_x_test_smote2.csv\")\n",
    "# scaled_x_cv=pd.read_csv(\"./Data/scaled_x_cv_smote2.csv\")\n",
    "\n",
    "y_test_copy=pd.read_csv(\"./Data/y_test_smote3.csv\")\n",
    "x_test=pd.read_csv(\"./Data/x_test_smote3.csv\")\n",
    "\n",
    "X_train_res=pd.read_csv(\"./Data/X_train_res_smote3.csv\")\n",
    "y_train_res=pd.read_csv(\"./Data/y_train_res_smote3.csv\")\n",
    "\n",
    "X_train_res=X_train_res.drop('Unnamed: 0',axis=1)\n",
    "y_train_res=y_train_res.drop('Unnamed: 0',axis=1)\n",
    "x_test=x_test.drop('Unnamed: 0',axis=1)\n",
    "\n",
    "\n",
    "y_test_copy=y_test_copy.drop('Unnamed: 0',axis=1)\n",
    "# scaled_x_test=scaled_x_test.drop('Unnamed: 0',axis=1)\n",
    "# scaled_x_cv=scaled_x_cv.drop('Unnamed: 0',axis=1)\n",
    "\n",
    "\n",
    "y_test=y_test_copy\n",
    "\n",
    "y_valid=pd.read_csv(\"./Data/y_valid_smote3.csv\")\n",
    "x_valid=pd.read_csv(\"./Data/x_valid_smote3.csv\")\n",
    "\n",
    "x_valid=x_valid.drop('Unnamed: 0',axis=1)\n",
    "y_valid=y_valid.drop('Unnamed: 0',axis=1)\n",
    "\n",
    "y_valid.shape\n",
    "\n",
    "\n",
    "\n",
    "\n",
    "y_train_res['Attrition_Flag']=y_train_res['Attrition_Flag'].map({'Existing Customer': 1, 'Attrited Customer': 0})\n",
    "y_valid['Attrition_Flag']=y_valid['Attrition_Flag'].map({'Existing Customer': 1, 'Attrited Customer': 0})\n",
    "y_test_copy['Attrition_Flag']=y_test_copy['Attrition_Flag'].map({'Existing Customer': 1, 'Attrited Customer': 0})\n",
    "\n"
   ]
  },
  {
   "cell_type": "code",
   "execution_count": 3,
   "metadata": {},
   "outputs": [
    {
     "data": {
      "text/plain": [
       "(7675, 32)"
      ]
     },
     "execution_count": 3,
     "metadata": {},
     "output_type": "execute_result"
    }
   ],
   "source": [
    "#  Scaling features\n",
    "scaler = StandardScaler()\n",
    "scaler.fit(X_train_res)\n",
    "\n",
    "scaled_x_train = scaler.transform(X_train_res)\n",
    "scaled_x_test = scaler.transform(x_test)\n",
    "\n",
    "\n",
    "scaled_x_valid=scaler.transform(x_valid)\n",
    "# scaled_y_cv =scaler.transform(y_cv)\n",
    "\n",
    "scaled_x_train.shape\n",
    "\n",
    "\n",
    "scaled_x_train.shape"
   ]
  },
  {
   "cell_type": "code",
   "execution_count": 4,
   "metadata": {},
   "outputs": [],
   "source": [
    "from sklearn.decomposition import FastICA\n",
    "ICAFinal = FastICA(n_components=23)\n",
    "IndependentComponentValues=ICAFinal.fit_transform(scaled_x_train)"
   ]
  },
  {
   "cell_type": "code",
   "execution_count": 5,
   "metadata": {},
   "outputs": [],
   "source": [
    "icaTestData=ICAFinal.transform(scaled_x_test)\n",
    "icavalidData=ICAFinal.transform(scaled_x_valid)"
   ]
  },
  {
   "cell_type": "code",
   "execution_count": 23,
   "metadata": {},
   "outputs": [
    {
     "data": {
      "text/plain": [
       "array([[ 0.00461802, -0.00551663,  0.0175603 , ..., -0.00377041,\n",
       "         0.00245851, -0.01310097],\n",
       "       [ 0.00349665, -0.00186684,  0.00987765, ..., -0.00147589,\n",
       "         0.00094835, -0.01290331],\n",
       "       [ 0.00212189,  0.00190269,  0.00980882, ..., -0.0019781 ,\n",
       "         0.00171047,  0.01188609],\n",
       "       ...,\n",
       "       [ 0.00419987, -0.00219551, -0.00524866, ..., -0.00578505,\n",
       "         0.00392358, -0.01397355],\n",
       "       [ 0.00102356, -0.00378594, -0.01357186, ..., -0.00527492,\n",
       "         0.00287264, -0.00038979],\n",
       "       [ 0.00303201, -0.00540123, -0.00359942, ..., -0.0022023 ,\n",
       "         0.00166978,  0.01255029]])"
      ]
     },
     "execution_count": 23,
     "metadata": {},
     "output_type": "execute_result"
    }
   ],
   "source": [
    "icavalidData"
   ]
  },
  {
   "cell_type": "code",
   "execution_count": 6,
   "metadata": {},
   "outputs": [],
   "source": [
    "# pca_reload = pk.load(open(\"pca_finalDF_data1.pkl\",'rb'))\n",
    "# result_new = pca_reload .transform(X)"
   ]
  },
  {
   "cell_type": "code",
   "execution_count": 7,
   "metadata": {},
   "outputs": [],
   "source": [
    "# pca_reload.shape"
   ]
  },
  {
   "cell_type": "code",
   "execution_count": 8,
   "metadata": {},
   "outputs": [],
   "source": [
    "def create_model(  hidden_layers,learning_rate):\n",
    "  # Initialize the constructor\n",
    "    model =  keras.Sequential()\n",
    "      # Add an input layer\n",
    "    activation='sigmoid'\n",
    "    model.add(layers.Dense(256, activation=activation, input_shape=input_shape))\n",
    "    for i in range(hidden_layers):\n",
    "          # Add one hidden layer\n",
    "        model.add(layers.Dense(8, activation=activation))\n",
    "\n",
    "      # Add an output layer \n",
    "    model.add(layers.Dense(1, activation=activation))\n",
    "    opt = keras.optimizers.Adam(learning_rate=learning_rate)\n",
    "      #compile model\n",
    "    model.compile(loss='binary_crossentropy', optimizer=opt, metrics=\n",
    "      ['accuracy'])\n",
    "\n",
    "    return model\n"
   ]
  },
  {
   "cell_type": "code",
   "execution_count": 9,
   "metadata": {},
   "outputs": [],
   "source": [
    "\n",
    "import joblib\n",
    "\n",
    "# joblib.dump(DTmodel, 'DTgrid_NLP.pkl')\n",
    "\n",
    "from sklearn import metrics\n",
    "\n",
    "# tfidf_vector_X = xtrain_tfidf_ngram.toarray()  #//shape - (3,6)\n",
    "# tfidf_vector_valid= xvalid_tfidf_ngram.toarray() #//shape - (3,6)\n",
    "# tfidf_vector_X = tfidf_vector_X[:, :, None] #//shape - (3,6,1) \n",
    "# tfidf_vector_valid = tfidf_vector_valid[:, :, None] #//shape - (3,6,1)\n",
    "\n",
    "\n",
    "# tfidf_vector_X.shape[1:]\n",
    "\n",
    "from tensorflow import keras\n",
    "from tensorflow.keras import layers\n",
    "\n",
    "# input_shape= [x_train.shape[1]]\n",
    "\n",
    "# NNmodel = create_model(optimizer='adam', activation = 'sigmoid', hidden_layers=1,learning_rate=0.01)\n",
    "\n",
    "\n",
    "\n",
    "\n",
    "from sklearn.model_selection import RandomizedSearchCV, GridSearchCV\n",
    "from sklearn.metrics import roc_auc_score\n",
    "from sklearn.model_selection import StratifiedKFold\n"
   ]
  },
  {
   "cell_type": "code",
   "execution_count": 24,
   "metadata": {},
   "outputs": [],
   "source": [
    "# sess.run(optimizer._lr)\n",
    "def create_modelWithDropBatch(  hidden_layers,learning_rate):\n",
    "  # Initialize the constructor\n",
    "    model =  keras.Sequential()\n",
    "      # Add an input layer\n",
    "    activation='sigmoid'\n",
    "    model.add(layers.Dense(256, activation=activation, input_shape=input_shape))\n",
    "    for i in range(hidden_layers):\n",
    "          # Add one hidden layer\n",
    "        model.add(layers.BatchNormalization())\n",
    "        model.add(layers.Dropout(0.5))\n",
    "        model.add(layers.Dense(256, activation='relu'))\n",
    "\n",
    "      # Add an output layer \n",
    "    model.add(layers.Dense(1, activation=activation))\n",
    "    opt = keras.optimizers.Adam(learning_rate=learning_rate)\n",
    "      #compile model\n",
    "    model.compile(loss='binary_crossentropy', optimizer=opt, metrics=\n",
    "      ['accuracy'])\n",
    "\n",
    "    return model\n",
    "\n"
   ]
  },
  {
   "cell_type": "code",
   "execution_count": 25,
   "metadata": {},
   "outputs": [],
   "source": [
    "from tensorflow.keras.wrappers.scikit_learn import KerasClassifier"
   ]
  },
  {
   "cell_type": "code",
   "execution_count": 12,
   "metadata": {},
   "outputs": [],
   "source": [
    "# pca_finalDF.shape\n",
    "# input_shape"
   ]
  },
  {
   "cell_type": "code",
   "execution_count": 26,
   "metadata": {},
   "outputs": [
    {
     "name": "stdout",
     "output_type": "stream",
     "text": [
      "{'hidden_layers': 2, 'learning_rate': 0.001}\n",
      "0.9009772062301635\n"
     ]
    }
   ],
   "source": [
    "\n",
    "input_shape=[23]\n",
    "#\n",
    "model_Batch_drop_relu =  KerasClassifier(build_fn=create_modelWithDropBatch, verbose = False)  \n",
    "\n",
    "param_grid={'learning_rate':[0.1,0.001,0.01,0.05,0.05,0.5],'hidden_layers':[2,4,6,8,10]}\n",
    "\n",
    "gridNN_Batch_drop_relu = GridSearchCV(estimator = model_Batch_drop_relu, param_grid = param_grid)\n",
    "\n",
    "model_Batch_drop_relu.get_params()\n",
    "\n",
    "history_Batch_drop_relu = gridNN_Batch_drop_relu.fit(\n",
    "     IndependentComponentValues, y_train_res,\n",
    "    validation_data=(icavalidData, y_valid),\n",
    "    batch_size=512,\n",
    "    epochs=200,\n",
    "#     callbacks=[early_stopping],\n",
    ")\n",
    "\n",
    "print(history_Batch_drop_relu.best_params_)\n",
    "\n",
    "print(history_Batch_drop_relu.best_score_)\n",
    "# print(grid.best_params_)"
   ]
  },
  {
   "cell_type": "code",
   "execution_count": 28,
   "metadata": {},
   "outputs": [],
   "source": [
    "# jb"
   ]
  },
  {
   "cell_type": "code",
   "execution_count": 29,
   "metadata": {
    "scrolled": true
   },
   "outputs": [
    {
     "name": "stdout",
     "output_type": "stream",
     "text": [
      "Epoch 1/200\n",
      "15/15 [==============================] - 1s 27ms/step - loss: 0.5496 - accuracy: 0.7142 - val_loss: 0.4630 - val_accuracy: 0.8327\n",
      "Epoch 2/200\n",
      "15/15 [==============================] - 0s 16ms/step - loss: 0.3183 - accuracy: 0.8749 - val_loss: 0.4628 - val_accuracy: 0.8327\n",
      "Epoch 3/200\n",
      "15/15 [==============================] - 0s 14ms/step - loss: 0.2914 - accuracy: 0.8836 - val_loss: 0.4510 - val_accuracy: 0.8327\n",
      "Epoch 4/200\n",
      "15/15 [==============================] - 0s 13ms/step - loss: 0.2803 - accuracy: 0.8918 - val_loss: 0.4543 - val_accuracy: 0.8327\n",
      "Epoch 5/200\n",
      "15/15 [==============================] - 0s 14ms/step - loss: 0.2882 - accuracy: 0.8846 - val_loss: 0.4610 - val_accuracy: 0.8327\n",
      "Epoch 6/200\n",
      "15/15 [==============================] - 0s 13ms/step - loss: 0.2754 - accuracy: 0.8921 - val_loss: 0.4632 - val_accuracy: 0.8327\n",
      "Epoch 7/200\n",
      "15/15 [==============================] - 0s 14ms/step - loss: 0.2553 - accuracy: 0.8978 - val_loss: 0.4745 - val_accuracy: 0.8327\n",
      "Epoch 8/200\n",
      "15/15 [==============================] - 0s 13ms/step - loss: 0.2536 - accuracy: 0.9024 - val_loss: 0.4968 - val_accuracy: 0.8327\n",
      "Epoch 9/200\n",
      "15/15 [==============================] - 0s 13ms/step - loss: 0.2536 - accuracy: 0.8997 - val_loss: 0.5110 - val_accuracy: 0.8327\n",
      "Epoch 10/200\n",
      "15/15 [==============================] - 0s 13ms/step - loss: 0.2499 - accuracy: 0.9010 - val_loss: 0.5098 - val_accuracy: 0.8327\n",
      "Epoch 11/200\n",
      "15/15 [==============================] - 0s 13ms/step - loss: 0.2361 - accuracy: 0.9073 - val_loss: 0.5014 - val_accuracy: 0.8327\n",
      "Epoch 12/200\n",
      "15/15 [==============================] - 0s 12ms/step - loss: 0.2434 - accuracy: 0.9076 - val_loss: 0.5014 - val_accuracy: 0.8327\n",
      "Epoch 13/200\n",
      "15/15 [==============================] - 0s 13ms/step - loss: 0.2400 - accuracy: 0.9076 - val_loss: 0.5209 - val_accuracy: 0.8327\n",
      "Epoch 14/200\n",
      "15/15 [==============================] - 0s 15ms/step - loss: 0.2404 - accuracy: 0.9013 - val_loss: 0.5187 - val_accuracy: 0.8327\n",
      "Epoch 15/200\n",
      "15/15 [==============================] - 0s 14ms/step - loss: 0.2348 - accuracy: 0.9045 - val_loss: 0.5256 - val_accuracy: 0.8327\n",
      "Epoch 16/200\n",
      "15/15 [==============================] - 0s 13ms/step - loss: 0.2355 - accuracy: 0.9083 - val_loss: 0.5373 - val_accuracy: 0.8327\n",
      "Epoch 17/200\n",
      "15/15 [==============================] - 0s 12ms/step - loss: 0.2462 - accuracy: 0.9006 - val_loss: 0.5280 - val_accuracy: 0.8327\n",
      "Epoch 18/200\n",
      "15/15 [==============================] - 0s 13ms/step - loss: 0.2294 - accuracy: 0.9122 - val_loss: 0.5374 - val_accuracy: 0.8327\n",
      "Epoch 19/200\n",
      "15/15 [==============================] - 0s 13ms/step - loss: 0.2390 - accuracy: 0.9044 - val_loss: 0.5315 - val_accuracy: 0.8327\n",
      "Epoch 20/200\n",
      "15/15 [==============================] - 0s 13ms/step - loss: 0.2334 - accuracy: 0.9084 - val_loss: 0.5404 - val_accuracy: 0.8327\n",
      "Epoch 21/200\n",
      "15/15 [==============================] - 0s 15ms/step - loss: 0.2297 - accuracy: 0.9070 - val_loss: 0.5247 - val_accuracy: 0.8327\n",
      "Epoch 22/200\n",
      "15/15 [==============================] - 0s 13ms/step - loss: 0.2309 - accuracy: 0.9075 - val_loss: 0.5162 - val_accuracy: 0.8327\n",
      "Epoch 23/200\n",
      "15/15 [==============================] - 0s 13ms/step - loss: 0.2166 - accuracy: 0.9164 - val_loss: 0.5203 - val_accuracy: 0.8327\n",
      "Epoch 24/200\n",
      "15/15 [==============================] - 0s 14ms/step - loss: 0.2147 - accuracy: 0.9169 - val_loss: 0.5049 - val_accuracy: 0.8327\n",
      "Epoch 25/200\n",
      "15/15 [==============================] - 0s 14ms/step - loss: 0.2210 - accuracy: 0.9107 - val_loss: 0.4995 - val_accuracy: 0.8327\n",
      "Epoch 26/200\n",
      "15/15 [==============================] - 0s 13ms/step - loss: 0.2222 - accuracy: 0.9103 - val_loss: 0.5077 - val_accuracy: 0.8327\n",
      "Epoch 27/200\n",
      "15/15 [==============================] - 0s 14ms/step - loss: 0.2158 - accuracy: 0.9206 - val_loss: 0.4928 - val_accuracy: 0.8327\n",
      "Epoch 28/200\n",
      "15/15 [==============================] - 0s 13ms/step - loss: 0.2146 - accuracy: 0.9131 - val_loss: 0.4900 - val_accuracy: 0.8327\n",
      "Epoch 29/200\n",
      "15/15 [==============================] - 0s 13ms/step - loss: 0.2134 - accuracy: 0.9157 - val_loss: 0.4645 - val_accuracy: 0.8327\n",
      "Epoch 30/200\n",
      "15/15 [==============================] - 0s 13ms/step - loss: 0.2133 - accuracy: 0.9187 - val_loss: 0.4457 - val_accuracy: 0.8327\n",
      "Epoch 31/200\n",
      "15/15 [==============================] - 0s 12ms/step - loss: 0.2189 - accuracy: 0.9103 - val_loss: 0.4434 - val_accuracy: 0.8327\n",
      "Epoch 32/200\n",
      "15/15 [==============================] - 0s 13ms/step - loss: 0.2192 - accuracy: 0.9105 - val_loss: 0.4538 - val_accuracy: 0.8460\n",
      "Epoch 33/200\n",
      "15/15 [==============================] - 0s 13ms/step - loss: 0.2105 - accuracy: 0.9139 - val_loss: 0.4438 - val_accuracy: 0.8509\n",
      "Epoch 34/200\n",
      "15/15 [==============================] - 0s 13ms/step - loss: 0.2281 - accuracy: 0.9065 - val_loss: 0.4332 - val_accuracy: 0.8554\n",
      "Epoch 35/200\n",
      "15/15 [==============================] - 0s 14ms/step - loss: 0.2086 - accuracy: 0.9117 - val_loss: 0.5687 - val_accuracy: 0.7058\n",
      "Epoch 36/200\n",
      "15/15 [==============================] - 0s 14ms/step - loss: 0.2109 - accuracy: 0.9103 - val_loss: 0.4928 - val_accuracy: 0.7873\n",
      "Epoch 37/200\n",
      "15/15 [==============================] - 0s 13ms/step - loss: 0.2064 - accuracy: 0.9171 - val_loss: 0.4871 - val_accuracy: 0.7858\n",
      "Epoch 38/200\n",
      "15/15 [==============================] - 0s 14ms/step - loss: 0.2040 - accuracy: 0.9220 - val_loss: 0.4302 - val_accuracy: 0.8253\n",
      "Epoch 39/200\n",
      "15/15 [==============================] - 0s 13ms/step - loss: 0.2020 - accuracy: 0.9169 - val_loss: 0.4440 - val_accuracy: 0.8085\n",
      "Epoch 40/200\n",
      "15/15 [==============================] - 0s 13ms/step - loss: 0.1991 - accuracy: 0.9181 - val_loss: 0.4720 - val_accuracy: 0.7779\n",
      "Epoch 41/200\n",
      "15/15 [==============================] - 0s 14ms/step - loss: 0.2028 - accuracy: 0.9194 - val_loss: 0.5656 - val_accuracy: 0.7108\n",
      "Epoch 42/200\n",
      "15/15 [==============================] - 0s 12ms/step - loss: 0.2063 - accuracy: 0.9183 - val_loss: 0.5460 - val_accuracy: 0.7325\n",
      "Epoch 43/200\n",
      "15/15 [==============================] - 0s 13ms/step - loss: 0.2070 - accuracy: 0.9159 - val_loss: 0.4725 - val_accuracy: 0.7700\n",
      "Epoch 44/200\n",
      "15/15 [==============================] - 0s 13ms/step - loss: 0.2051 - accuracy: 0.9199 - val_loss: 0.4675 - val_accuracy: 0.7887\n",
      "Epoch 45/200\n",
      "15/15 [==============================] - 0s 13ms/step - loss: 0.2019 - accuracy: 0.9254 - val_loss: 0.4685 - val_accuracy: 0.7813\n",
      "Epoch 46/200\n",
      "15/15 [==============================] - 0s 13ms/step - loss: 0.1875 - accuracy: 0.9255 - val_loss: 0.4116 - val_accuracy: 0.8095\n",
      "Epoch 47/200\n",
      "15/15 [==============================] - 0s 14ms/step - loss: 0.1879 - accuracy: 0.9260 - val_loss: 0.3632 - val_accuracy: 0.8381\n",
      "Epoch 48/200\n",
      "15/15 [==============================] - 0s 13ms/step - loss: 0.2047 - accuracy: 0.9182 - val_loss: 0.3256 - val_accuracy: 0.8534\n",
      "Epoch 49/200\n",
      "15/15 [==============================] - 1s 43ms/step - loss: 0.1844 - accuracy: 0.9290 - val_loss: 0.3074 - val_accuracy: 0.8722\n",
      "Epoch 50/200\n",
      "15/15 [==============================] - 0s 13ms/step - loss: 0.1811 - accuracy: 0.9263 - val_loss: 0.2928 - val_accuracy: 0.8820\n",
      "Epoch 51/200\n",
      "15/15 [==============================] - 0s 13ms/step - loss: 0.1876 - accuracy: 0.9238 - val_loss: 0.3368 - val_accuracy: 0.8588\n",
      "Epoch 52/200\n",
      "15/15 [==============================] - 0s 14ms/step - loss: 0.1905 - accuracy: 0.9256 - val_loss: 0.2958 - val_accuracy: 0.8717\n",
      "Epoch 53/200\n",
      "15/15 [==============================] - 0s 13ms/step - loss: 0.1912 - accuracy: 0.9235 - val_loss: 0.2838 - val_accuracy: 0.8865\n",
      "Epoch 54/200\n",
      "15/15 [==============================] - 0s 14ms/step - loss: 0.1867 - accuracy: 0.9231 - val_loss: 0.2497 - val_accuracy: 0.9028\n",
      "Epoch 55/200\n",
      "15/15 [==============================] - 0s 13ms/step - loss: 0.1913 - accuracy: 0.9236 - val_loss: 0.2456 - val_accuracy: 0.9042\n",
      "Epoch 56/200\n",
      "15/15 [==============================] - 0s 13ms/step - loss: 0.1853 - accuracy: 0.9285 - val_loss: 0.2647 - val_accuracy: 0.8968\n",
      "Epoch 57/200\n",
      "15/15 [==============================] - 0s 14ms/step - loss: 0.1891 - accuracy: 0.9270 - val_loss: 0.2650 - val_accuracy: 0.8934\n",
      "Epoch 58/200\n"
     ]
    },
    {
     "name": "stdout",
     "output_type": "stream",
     "text": [
      "15/15 [==============================] - 0s 14ms/step - loss: 0.1909 - accuracy: 0.9229 - val_loss: 0.2643 - val_accuracy: 0.8949\n",
      "Epoch 59/200\n",
      "15/15 [==============================] - 0s 12ms/step - loss: 0.1871 - accuracy: 0.9281 - val_loss: 0.2864 - val_accuracy: 0.8939\n",
      "Epoch 60/200\n",
      "15/15 [==============================] - 0s 13ms/step - loss: 0.1859 - accuracy: 0.9233 - val_loss: 0.2966 - val_accuracy: 0.8835\n",
      "Epoch 61/200\n",
      "15/15 [==============================] - 0s 12ms/step - loss: 0.1898 - accuracy: 0.9248 - val_loss: 0.3117 - val_accuracy: 0.8810\n",
      "Epoch 62/200\n",
      "15/15 [==============================] - 0s 13ms/step - loss: 0.1765 - accuracy: 0.9289 - val_loss: 0.3239 - val_accuracy: 0.8850\n",
      "Epoch 63/200\n",
      "15/15 [==============================] - 0s 13ms/step - loss: 0.1836 - accuracy: 0.9220 - val_loss: 0.3260 - val_accuracy: 0.8840\n",
      "Epoch 64/200\n",
      "15/15 [==============================] - 0s 12ms/step - loss: 0.1879 - accuracy: 0.9214 - val_loss: 0.3060 - val_accuracy: 0.8850\n",
      "Epoch 65/200\n",
      "15/15 [==============================] - 0s 13ms/step - loss: 0.1800 - accuracy: 0.9255 - val_loss: 0.2699 - val_accuracy: 0.8914\n",
      "Epoch 66/200\n",
      "15/15 [==============================] - 0s 13ms/step - loss: 0.1774 - accuracy: 0.9289 - val_loss: 0.2722 - val_accuracy: 0.8944\n",
      "Epoch 67/200\n",
      "15/15 [==============================] - 0s 12ms/step - loss: 0.1848 - accuracy: 0.9223 - val_loss: 0.2713 - val_accuracy: 0.8949\n",
      "Epoch 68/200\n",
      "15/15 [==============================] - 0s 13ms/step - loss: 0.1717 - accuracy: 0.9333 - val_loss: 0.2578 - val_accuracy: 0.8959\n",
      "Epoch 69/200\n",
      "15/15 [==============================] - 0s 12ms/step - loss: 0.1743 - accuracy: 0.9283 - val_loss: 0.2485 - val_accuracy: 0.9033\n",
      "Epoch 70/200\n",
      "15/15 [==============================] - 0s 13ms/step - loss: 0.1771 - accuracy: 0.9277 - val_loss: 0.2519 - val_accuracy: 0.9033\n",
      "Epoch 71/200\n",
      "15/15 [==============================] - 0s 14ms/step - loss: 0.1690 - accuracy: 0.9334 - val_loss: 0.2595 - val_accuracy: 0.9072\n",
      "Epoch 72/200\n",
      "15/15 [==============================] - 0s 13ms/step - loss: 0.1766 - accuracy: 0.9317 - val_loss: 0.2703 - val_accuracy: 0.8988\n",
      "Epoch 73/200\n",
      "15/15 [==============================] - 0s 14ms/step - loss: 0.1706 - accuracy: 0.9300 - val_loss: 0.2773 - val_accuracy: 0.8959\n",
      "Epoch 74/200\n",
      "15/15 [==============================] - 0s 12ms/step - loss: 0.1787 - accuracy: 0.9262 - val_loss: 0.2766 - val_accuracy: 0.8949\n",
      "Epoch 75/200\n",
      "15/15 [==============================] - 0s 12ms/step - loss: 0.1716 - accuracy: 0.9326 - val_loss: 0.2731 - val_accuracy: 0.8949\n",
      "Epoch 76/200\n",
      "15/15 [==============================] - 0s 13ms/step - loss: 0.1750 - accuracy: 0.9267 - val_loss: 0.2698 - val_accuracy: 0.8954\n",
      "Epoch 77/200\n",
      "15/15 [==============================] - 0s 13ms/step - loss: 0.1764 - accuracy: 0.9311 - val_loss: 0.2716 - val_accuracy: 0.8924\n",
      "Epoch 78/200\n",
      "15/15 [==============================] - 0s 13ms/step - loss: 0.1698 - accuracy: 0.9310 - val_loss: 0.2920 - val_accuracy: 0.8771\n",
      "Epoch 79/200\n",
      "15/15 [==============================] - 0s 13ms/step - loss: 0.1707 - accuracy: 0.9338 - val_loss: 0.2768 - val_accuracy: 0.8820\n",
      "Epoch 80/200\n",
      "15/15 [==============================] - 0s 12ms/step - loss: 0.1707 - accuracy: 0.9311 - val_loss: 0.3148 - val_accuracy: 0.8766\n",
      "Epoch 81/200\n",
      "15/15 [==============================] - 0s 13ms/step - loss: 0.1721 - accuracy: 0.9314 - val_loss: 0.3198 - val_accuracy: 0.8766\n",
      "Epoch 82/200\n",
      "15/15 [==============================] - 0s 13ms/step - loss: 0.1774 - accuracy: 0.9258 - val_loss: 0.2714 - val_accuracy: 0.8889\n",
      "Epoch 83/200\n",
      "15/15 [==============================] - 0s 12ms/step - loss: 0.1719 - accuracy: 0.9296 - val_loss: 0.2773 - val_accuracy: 0.8870\n",
      "Epoch 84/200\n",
      "15/15 [==============================] - 0s 13ms/step - loss: 0.1690 - accuracy: 0.9260 - val_loss: 0.2830 - val_accuracy: 0.8786\n",
      "Epoch 85/200\n",
      "15/15 [==============================] - 0s 12ms/step - loss: 0.1646 - accuracy: 0.9326 - val_loss: 0.2937 - val_accuracy: 0.8677\n",
      "Epoch 86/200\n",
      "15/15 [==============================] - 0s 12ms/step - loss: 0.1674 - accuracy: 0.9318 - val_loss: 0.2879 - val_accuracy: 0.8776\n",
      "Epoch 87/200\n",
      "15/15 [==============================] - 0s 13ms/step - loss: 0.1576 - accuracy: 0.9355 - val_loss: 0.2743 - val_accuracy: 0.8840\n",
      "Epoch 88/200\n",
      "15/15 [==============================] - 0s 12ms/step - loss: 0.1768 - accuracy: 0.9274 - val_loss: 0.2640 - val_accuracy: 0.8865\n",
      "Epoch 89/200\n",
      "15/15 [==============================] - 0s 13ms/step - loss: 0.1550 - accuracy: 0.9399 - val_loss: 0.2952 - val_accuracy: 0.8870\n",
      "Epoch 90/200\n",
      "15/15 [==============================] - 0s 13ms/step - loss: 0.1675 - accuracy: 0.9300 - val_loss: 0.2739 - val_accuracy: 0.8924\n",
      "Epoch 91/200\n",
      "15/15 [==============================] - 0s 12ms/step - loss: 0.1622 - accuracy: 0.9345 - val_loss: 0.2547 - val_accuracy: 0.9008\n",
      "Epoch 92/200\n",
      "15/15 [==============================] - 0s 13ms/step - loss: 0.1579 - accuracy: 0.9374 - val_loss: 0.2552 - val_accuracy: 0.9057\n",
      "Epoch 93/200\n",
      "15/15 [==============================] - 0s 13ms/step - loss: 0.1680 - accuracy: 0.9351 - val_loss: 0.2681 - val_accuracy: 0.8993\n",
      "Epoch 94/200\n",
      "15/15 [==============================] - 0s 10ms/step - loss: 0.1645 - accuracy: 0.9302 - val_loss: 0.2644 - val_accuracy: 0.8983\n",
      "Epoch 95/200\n",
      "15/15 [==============================] - 0s 13ms/step - loss: 0.1614 - accuracy: 0.9345 - val_loss: 0.2931 - val_accuracy: 0.8870\n",
      "Epoch 96/200\n",
      "15/15 [==============================] - 0s 12ms/step - loss: 0.1626 - accuracy: 0.9340 - val_loss: 0.3088 - val_accuracy: 0.8820\n",
      "Epoch 97/200\n",
      "15/15 [==============================] - 0s 12ms/step - loss: 0.1545 - accuracy: 0.9365 - val_loss: 0.3869 - val_accuracy: 0.8509\n",
      "Epoch 98/200\n",
      "15/15 [==============================] - 0s 13ms/step - loss: 0.1626 - accuracy: 0.9323 - val_loss: 0.3439 - val_accuracy: 0.8623\n",
      "Epoch 99/200\n",
      "15/15 [==============================] - 0s 13ms/step - loss: 0.1433 - accuracy: 0.9429 - val_loss: 0.3295 - val_accuracy: 0.8776\n",
      "Epoch 100/200\n",
      "15/15 [==============================] - 0s 12ms/step - loss: 0.1610 - accuracy: 0.9342 - val_loss: 0.2880 - val_accuracy: 0.8929\n",
      "Epoch 101/200\n",
      "15/15 [==============================] - 0s 13ms/step - loss: 0.1541 - accuracy: 0.9376 - val_loss: 0.3058 - val_accuracy: 0.8776\n",
      "Epoch 102/200\n",
      "15/15 [==============================] - 0s 13ms/step - loss: 0.1553 - accuracy: 0.9364 - val_loss: 0.3029 - val_accuracy: 0.8840\n",
      "Epoch 103/200\n",
      "15/15 [==============================] - 0s 12ms/step - loss: 0.1508 - accuracy: 0.9371 - val_loss: 0.2901 - val_accuracy: 0.8815\n",
      "Epoch 104/200\n",
      "15/15 [==============================] - 0s 13ms/step - loss: 0.1554 - accuracy: 0.9369 - val_loss: 0.2642 - val_accuracy: 0.8885\n",
      "Epoch 105/200\n",
      "15/15 [==============================] - 0s 12ms/step - loss: 0.1514 - accuracy: 0.9414 - val_loss: 0.2681 - val_accuracy: 0.8919\n",
      "Epoch 106/200\n",
      "15/15 [==============================] - 0s 13ms/step - loss: 0.1556 - accuracy: 0.9368 - val_loss: 0.2927 - val_accuracy: 0.8815\n",
      "Epoch 107/200\n",
      "15/15 [==============================] - 0s 13ms/step - loss: 0.1609 - accuracy: 0.9358 - val_loss: 0.2722 - val_accuracy: 0.8904\n",
      "Epoch 108/200\n",
      "15/15 [==============================] - 0s 12ms/step - loss: 0.1617 - accuracy: 0.9331 - val_loss: 0.2730 - val_accuracy: 0.8875\n",
      "Epoch 109/200\n",
      "15/15 [==============================] - 0s 13ms/step - loss: 0.1577 - accuracy: 0.9363 - val_loss: 0.2620 - val_accuracy: 0.8944\n",
      "Epoch 110/200\n",
      "15/15 [==============================] - 0s 12ms/step - loss: 0.1603 - accuracy: 0.9361 - val_loss: 0.2537 - val_accuracy: 0.8949\n",
      "Epoch 111/200\n",
      "15/15 [==============================] - 0s 13ms/step - loss: 0.1588 - accuracy: 0.9358 - val_loss: 0.2430 - val_accuracy: 0.8993\n",
      "Epoch 112/200\n",
      "15/15 [==============================] - 0s 13ms/step - loss: 0.1498 - accuracy: 0.9397 - val_loss: 0.2504 - val_accuracy: 0.8988\n",
      "Epoch 113/200\n",
      "15/15 [==============================] - 0s 12ms/step - loss: 0.1475 - accuracy: 0.9399 - val_loss: 0.2606 - val_accuracy: 0.8949\n",
      "Epoch 114/200\n",
      "15/15 [==============================] - 0s 13ms/step - loss: 0.1433 - accuracy: 0.9420 - val_loss: 0.2532 - val_accuracy: 0.8963\n",
      "Epoch 115/200\n"
     ]
    },
    {
     "name": "stdout",
     "output_type": "stream",
     "text": [
      "15/15 [==============================] - 0s 13ms/step - loss: 0.1563 - accuracy: 0.9365 - val_loss: 0.2627 - val_accuracy: 0.8968\n",
      "Epoch 116/200\n",
      "15/15 [==============================] - 0s 12ms/step - loss: 0.1462 - accuracy: 0.9402 - val_loss: 0.2510 - val_accuracy: 0.8959\n",
      "Epoch 117/200\n",
      "15/15 [==============================] - 0s 13ms/step - loss: 0.1626 - accuracy: 0.9335 - val_loss: 0.2685 - val_accuracy: 0.8919\n",
      "Epoch 118/200\n",
      "15/15 [==============================] - 0s 12ms/step - loss: 0.1675 - accuracy: 0.9312 - val_loss: 0.2739 - val_accuracy: 0.8919\n",
      "Epoch 119/200\n",
      "15/15 [==============================] - 0s 13ms/step - loss: 0.1576 - accuracy: 0.9409 - val_loss: 0.2923 - val_accuracy: 0.8835\n",
      "Epoch 120/200\n",
      "15/15 [==============================] - 0s 13ms/step - loss: 0.1450 - accuracy: 0.9398 - val_loss: 0.2795 - val_accuracy: 0.8909\n",
      "Epoch 121/200\n",
      "15/15 [==============================] - 0s 12ms/step - loss: 0.1523 - accuracy: 0.9369 - val_loss: 0.2411 - val_accuracy: 0.9042\n",
      "Epoch 122/200\n",
      "15/15 [==============================] - 0s 13ms/step - loss: 0.1443 - accuracy: 0.9435 - val_loss: 0.2337 - val_accuracy: 0.9126\n",
      "Epoch 123/200\n",
      "15/15 [==============================] - 0s 12ms/step - loss: 0.1516 - accuracy: 0.9361 - val_loss: 0.2423 - val_accuracy: 0.9042\n",
      "Epoch 124/200\n",
      "15/15 [==============================] - 0s 12ms/step - loss: 0.1534 - accuracy: 0.9355 - val_loss: 0.2664 - val_accuracy: 0.8899\n",
      "Epoch 125/200\n",
      "15/15 [==============================] - 0s 13ms/step - loss: 0.1591 - accuracy: 0.9332 - val_loss: 0.2910 - val_accuracy: 0.8865\n",
      "Epoch 126/200\n",
      "15/15 [==============================] - 0s 12ms/step - loss: 0.1419 - accuracy: 0.9425 - val_loss: 0.2818 - val_accuracy: 0.8894\n",
      "Epoch 127/200\n",
      "15/15 [==============================] - 0s 12ms/step - loss: 0.1447 - accuracy: 0.9383 - val_loss: 0.2948 - val_accuracy: 0.8806\n",
      "Epoch 128/200\n",
      "15/15 [==============================] - 0s 13ms/step - loss: 0.1446 - accuracy: 0.9407 - val_loss: 0.2782 - val_accuracy: 0.8939\n",
      "Epoch 129/200\n",
      "15/15 [==============================] - 0s 12ms/step - loss: 0.1410 - accuracy: 0.9393 - val_loss: 0.2429 - val_accuracy: 0.9003\n",
      "Epoch 130/200\n",
      "15/15 [==============================] - 0s 13ms/step - loss: 0.1332 - accuracy: 0.9481 - val_loss: 0.2323 - val_accuracy: 0.9097\n",
      "Epoch 131/200\n",
      "15/15 [==============================] - 0s 12ms/step - loss: 0.1509 - accuracy: 0.9389 - val_loss: 0.2338 - val_accuracy: 0.9107\n",
      "Epoch 132/200\n",
      "15/15 [==============================] - 0s 12ms/step - loss: 0.1494 - accuracy: 0.9395 - val_loss: 0.2346 - val_accuracy: 0.9052\n",
      "Epoch 133/200\n",
      "15/15 [==============================] - 0s 13ms/step - loss: 0.1438 - accuracy: 0.9431 - val_loss: 0.2409 - val_accuracy: 0.9038\n",
      "Epoch 134/200\n",
      "15/15 [==============================] - 0s 12ms/step - loss: 0.1502 - accuracy: 0.9364 - val_loss: 0.2962 - val_accuracy: 0.8870\n",
      "Epoch 135/200\n",
      "15/15 [==============================] - 0s 26ms/step - loss: 0.1427 - accuracy: 0.9419 - val_loss: 0.2775 - val_accuracy: 0.8929\n",
      "Epoch 136/200\n",
      "15/15 [==============================] - 0s 12ms/step - loss: 0.1505 - accuracy: 0.9359 - val_loss: 0.2624 - val_accuracy: 0.8924\n",
      "Epoch 137/200\n",
      "15/15 [==============================] - 0s 13ms/step - loss: 0.1422 - accuracy: 0.9437 - val_loss: 0.2520 - val_accuracy: 0.8998\n",
      "Epoch 138/200\n",
      "15/15 [==============================] - 0s 12ms/step - loss: 0.1395 - accuracy: 0.9455 - val_loss: 0.3088 - val_accuracy: 0.8677\n",
      "Epoch 139/200\n",
      "15/15 [==============================] - 0s 12ms/step - loss: 0.1426 - accuracy: 0.9421 - val_loss: 0.2746 - val_accuracy: 0.8870\n",
      "Epoch 140/200\n",
      "15/15 [==============================] - 0s 13ms/step - loss: 0.1440 - accuracy: 0.9397 - val_loss: 0.2907 - val_accuracy: 0.8850\n",
      "Epoch 141/200\n",
      "15/15 [==============================] - 0s 12ms/step - loss: 0.1412 - accuracy: 0.9421 - val_loss: 0.2634 - val_accuracy: 0.8963\n",
      "Epoch 142/200\n",
      "15/15 [==============================] - 0s 13ms/step - loss: 0.1468 - accuracy: 0.9390 - val_loss: 0.2615 - val_accuracy: 0.8993\n",
      "Epoch 143/200\n",
      "15/15 [==============================] - 0s 13ms/step - loss: 0.1400 - accuracy: 0.9410 - val_loss: 0.2535 - val_accuracy: 0.8973\n",
      "Epoch 144/200\n",
      "15/15 [==============================] - 0s 12ms/step - loss: 0.1413 - accuracy: 0.9429 - val_loss: 0.2595 - val_accuracy: 0.8919\n",
      "Epoch 145/200\n",
      "15/15 [==============================] - 0s 13ms/step - loss: 0.1355 - accuracy: 0.9466 - val_loss: 0.2623 - val_accuracy: 0.8919\n",
      "Epoch 146/200\n",
      "15/15 [==============================] - 0s 12ms/step - loss: 0.1475 - accuracy: 0.9414 - val_loss: 0.2493 - val_accuracy: 0.8973\n",
      "Epoch 147/200\n",
      "15/15 [==============================] - 0s 12ms/step - loss: 0.1356 - accuracy: 0.9454 - val_loss: 0.2327 - val_accuracy: 0.9062\n",
      "Epoch 148/200\n",
      "15/15 [==============================] - 0s 13ms/step - loss: 0.1451 - accuracy: 0.9436 - val_loss: 0.2235 - val_accuracy: 0.9151\n",
      "Epoch 149/200\n",
      "15/15 [==============================] - 0s 12ms/step - loss: 0.1388 - accuracy: 0.9418 - val_loss: 0.2247 - val_accuracy: 0.9097\n",
      "Epoch 150/200\n",
      "15/15 [==============================] - 0s 13ms/step - loss: 0.1480 - accuracy: 0.9403 - val_loss: 0.2302 - val_accuracy: 0.9102\n",
      "Epoch 151/200\n",
      "15/15 [==============================] - 0s 13ms/step - loss: 0.1405 - accuracy: 0.9406 - val_loss: 0.2438 - val_accuracy: 0.9042\n",
      "Epoch 152/200\n",
      "15/15 [==============================] - 0s 12ms/step - loss: 0.1403 - accuracy: 0.9411 - val_loss: 0.2582 - val_accuracy: 0.9028\n",
      "Epoch 153/200\n",
      "15/15 [==============================] - 0s 13ms/step - loss: 0.1451 - accuracy: 0.9379 - val_loss: 0.2268 - val_accuracy: 0.9062\n",
      "Epoch 154/200\n",
      "15/15 [==============================] - 0s 13ms/step - loss: 0.1322 - accuracy: 0.9428 - val_loss: 0.2908 - val_accuracy: 0.8939\n",
      "Epoch 155/200\n",
      "15/15 [==============================] - 0s 13ms/step - loss: 0.1413 - accuracy: 0.9408 - val_loss: 0.2466 - val_accuracy: 0.9003\n",
      "Epoch 156/200\n",
      "15/15 [==============================] - 0s 13ms/step - loss: 0.1330 - accuracy: 0.9473 - val_loss: 0.2476 - val_accuracy: 0.9013\n",
      "Epoch 157/200\n",
      "15/15 [==============================] - 0s 12ms/step - loss: 0.1408 - accuracy: 0.9428 - val_loss: 0.2477 - val_accuracy: 0.9047\n",
      "Epoch 158/200\n",
      "15/15 [==============================] - 0s 13ms/step - loss: 0.1359 - accuracy: 0.9416 - val_loss: 0.2594 - val_accuracy: 0.9028\n",
      "Epoch 159/200\n",
      "15/15 [==============================] - 0s 13ms/step - loss: 0.1364 - accuracy: 0.9456 - val_loss: 0.2734 - val_accuracy: 0.8968\n",
      "Epoch 160/200\n",
      "15/15 [==============================] - 0s 12ms/step - loss: 0.1374 - accuracy: 0.9441 - val_loss: 0.2422 - val_accuracy: 0.9087\n",
      "Epoch 161/200\n",
      "15/15 [==============================] - 0s 14ms/step - loss: 0.1375 - accuracy: 0.9418 - val_loss: 0.2550 - val_accuracy: 0.8973\n",
      "Epoch 162/200\n",
      "15/15 [==============================] - 0s 12ms/step - loss: 0.1340 - accuracy: 0.9468 - val_loss: 0.2642 - val_accuracy: 0.8993\n",
      "Epoch 163/200\n",
      "15/15 [==============================] - 0s 13ms/step - loss: 0.1319 - accuracy: 0.9455 - val_loss: 0.2367 - val_accuracy: 0.9057\n",
      "Epoch 164/200\n",
      "15/15 [==============================] - 0s 13ms/step - loss: 0.1456 - accuracy: 0.9410 - val_loss: 0.2766 - val_accuracy: 0.8934\n",
      "Epoch 165/200\n",
      "15/15 [==============================] - 0s 12ms/step - loss: 0.1276 - accuracy: 0.9468 - val_loss: 0.2678 - val_accuracy: 0.8929\n",
      "Epoch 166/200\n",
      "15/15 [==============================] - 0s 13ms/step - loss: 0.1267 - accuracy: 0.9481 - val_loss: 0.2941 - val_accuracy: 0.8889\n",
      "Epoch 167/200\n",
      "15/15 [==============================] - 0s 13ms/step - loss: 0.1314 - accuracy: 0.9466 - val_loss: 0.2887 - val_accuracy: 0.8885\n",
      "Epoch 168/200\n",
      "15/15 [==============================] - 0s 12ms/step - loss: 0.1304 - accuracy: 0.9483 - val_loss: 0.2272 - val_accuracy: 0.9072\n",
      "Epoch 169/200\n",
      "15/15 [==============================] - 0s 13ms/step - loss: 0.1289 - accuracy: 0.9487 - val_loss: 0.2480 - val_accuracy: 0.9013\n",
      "Epoch 170/200\n",
      "15/15 [==============================] - 0s 11ms/step - loss: 0.1305 - accuracy: 0.9446 - val_loss: 0.2531 - val_accuracy: 0.9023\n",
      "Epoch 171/200\n",
      "15/15 [==============================] - 0s 13ms/step - loss: 0.1272 - accuracy: 0.9480 - val_loss: 0.2802 - val_accuracy: 0.8919\n"
     ]
    },
    {
     "name": "stdout",
     "output_type": "stream",
     "text": [
      "Epoch 172/200\n",
      "15/15 [==============================] - 0s 13ms/step - loss: 0.1390 - accuracy: 0.9443 - val_loss: 0.2560 - val_accuracy: 0.8988\n",
      "Epoch 173/200\n",
      "15/15 [==============================] - 0s 12ms/step - loss: 0.1325 - accuracy: 0.9437 - val_loss: 0.2792 - val_accuracy: 0.8929\n",
      "Epoch 174/200\n",
      "15/15 [==============================] - 0s 13ms/step - loss: 0.1288 - accuracy: 0.9440 - val_loss: 0.2800 - val_accuracy: 0.8885\n",
      "Epoch 175/200\n",
      "15/15 [==============================] - 0s 12ms/step - loss: 0.1319 - accuracy: 0.9438 - val_loss: 0.3122 - val_accuracy: 0.8806\n",
      "Epoch 176/200\n",
      "15/15 [==============================] - 0s 12ms/step - loss: 0.1367 - accuracy: 0.9437 - val_loss: 0.3004 - val_accuracy: 0.8810\n",
      "Epoch 177/200\n",
      "15/15 [==============================] - 0s 13ms/step - loss: 0.1333 - accuracy: 0.9435 - val_loss: 0.2817 - val_accuracy: 0.8919\n",
      "Epoch 178/200\n",
      "15/15 [==============================] - 0s 12ms/step - loss: 0.1353 - accuracy: 0.9420 - val_loss: 0.2753 - val_accuracy: 0.8929\n",
      "Epoch 179/200\n",
      "15/15 [==============================] - 0s 13ms/step - loss: 0.1339 - accuracy: 0.9490 - val_loss: 0.3307 - val_accuracy: 0.8845\n",
      "Epoch 180/200\n",
      "15/15 [==============================] - 0s 13ms/step - loss: 0.1253 - accuracy: 0.9480 - val_loss: 0.2996 - val_accuracy: 0.8944\n",
      "Epoch 181/200\n",
      "15/15 [==============================] - 0s 12ms/step - loss: 0.1377 - accuracy: 0.9447 - val_loss: 0.3335 - val_accuracy: 0.8865\n",
      "Epoch 182/200\n",
      "15/15 [==============================] - 0s 13ms/step - loss: 0.1376 - accuracy: 0.9424 - val_loss: 0.2912 - val_accuracy: 0.8924\n",
      "Epoch 183/200\n",
      "15/15 [==============================] - 0s 13ms/step - loss: 0.1312 - accuracy: 0.9452 - val_loss: 0.2585 - val_accuracy: 0.9003\n",
      "Epoch 184/200\n",
      "15/15 [==============================] - 0s 12ms/step - loss: 0.1267 - accuracy: 0.9456 - val_loss: 0.2752 - val_accuracy: 0.9047\n",
      "Epoch 185/200\n",
      "15/15 [==============================] - 0s 13ms/step - loss: 0.1303 - accuracy: 0.9462 - val_loss: 0.2970 - val_accuracy: 0.8968\n",
      "Epoch 186/200\n",
      "15/15 [==============================] - 0s 12ms/step - loss: 0.1354 - accuracy: 0.9457 - val_loss: 0.2570 - val_accuracy: 0.9023\n",
      "Epoch 187/200\n",
      "15/15 [==============================] - 0s 13ms/step - loss: 0.1177 - accuracy: 0.9549 - val_loss: 0.2461 - val_accuracy: 0.9102\n",
      "Epoch 188/200\n",
      "15/15 [==============================] - 0s 12ms/step - loss: 0.1332 - accuracy: 0.9455 - val_loss: 0.2517 - val_accuracy: 0.8988\n",
      "Epoch 189/200\n",
      "15/15 [==============================] - 0s 11ms/step - loss: 0.1279 - accuracy: 0.9462 - val_loss: 0.2522 - val_accuracy: 0.9023\n",
      "Epoch 190/200\n",
      "15/15 [==============================] - 0s 13ms/step - loss: 0.1330 - accuracy: 0.9448 - val_loss: 0.2506 - val_accuracy: 0.9003\n",
      "Epoch 191/200\n",
      "15/15 [==============================] - 0s 13ms/step - loss: 0.1278 - accuracy: 0.9490 - val_loss: 0.2459 - val_accuracy: 0.8998\n",
      "Epoch 192/200\n",
      "15/15 [==============================] - 0s 12ms/step - loss: 0.1311 - accuracy: 0.9445 - val_loss: 0.2459 - val_accuracy: 0.9038\n",
      "Epoch 193/200\n",
      "15/15 [==============================] - 0s 13ms/step - loss: 0.1263 - accuracy: 0.9486 - val_loss: 0.2379 - val_accuracy: 0.9102\n",
      "Epoch 194/200\n",
      "15/15 [==============================] - 0s 12ms/step - loss: 0.1251 - accuracy: 0.9458 - val_loss: 0.2439 - val_accuracy: 0.9082\n",
      "Epoch 195/200\n",
      "15/15 [==============================] - 0s 13ms/step - loss: 0.1312 - accuracy: 0.9436 - val_loss: 0.2987 - val_accuracy: 0.8929\n",
      "Epoch 196/200\n",
      "15/15 [==============================] - 0s 13ms/step - loss: 0.1258 - accuracy: 0.9481 - val_loss: 0.2635 - val_accuracy: 0.8998\n",
      "Epoch 197/200\n",
      "15/15 [==============================] - 0s 12ms/step - loss: 0.1271 - accuracy: 0.9474 - val_loss: 0.2815 - val_accuracy: 0.8914\n",
      "Epoch 198/200\n",
      "15/15 [==============================] - 0s 13ms/step - loss: 0.1317 - accuracy: 0.9455 - val_loss: 0.2903 - val_accuracy: 0.8929\n",
      "Epoch 199/200\n",
      "15/15 [==============================] - 0s 13ms/step - loss: 0.1254 - accuracy: 0.9482 - val_loss: 0.3100 - val_accuracy: 0.8845\n",
      "Epoch 200/200\n",
      "15/15 [==============================] - 0s 12ms/step - loss: 0.1238 - accuracy: 0.9491 - val_loss: 0.3060 - val_accuracy: 0.8885\n",
      "Time:  39.89522910800588\n"
     ]
    }
   ],
   "source": [
    "import timeit\n",
    "\n",
    "start = timeit.default_timer()\n",
    "\n",
    "#Your statements here\n",
    "\n",
    "bestNNNEW=create_modelWithDropBatch(hidden_layers= 2, learning_rate= 0.001)\n",
    "historyNEW= bestNNNEW.fit(\n",
    "     IndependentComponentValues, y_train_res,\n",
    "    validation_data=(icavalidData, y_valid),\n",
    "    batch_size=512,\n",
    "    epochs=200,\n",
    "#     callbacks=[early_stopping],\n",
    ")\n",
    "stop = timeit.default_timer()\n",
    "\n",
    "print('Time: ', stop - start)  \n",
    "\n"
   ]
  },
  {
   "cell_type": "code",
   "execution_count": 30,
   "metadata": {},
   "outputs": [],
   "source": [
    "\n",
    "def plotconfusionMatrix(modelObj,ytest,xtest):\n",
    "#     model_DecTreeClass2.fit(X_train_res, y_train_res)\n",
    "    y_pred_DecTreeClass2 = modelObj.predict_classes(xtest)\n",
    "    conf_mat2 = metrics.confusion_matrix(ytest, y_pred_DecTreeClass2)\n",
    "    plt.figure(figsize=(8,6))\n",
    "    sns.heatmap(conf_mat2,annot=True)\n",
    "    plt.title(\"Confusion_matrix\")\n",
    "    plt.xlabel(\"Predicted Class\")\n",
    "    plt.ylabel(\"Actual class\")\n",
    "    plt.show()\n",
    "    print('Confusion matrix: \\n', conf_mat2)\n",
    "    print('TP: ', conf_mat2[1,1])\n",
    "    print('TN: ', conf_mat2[0,0])\n",
    "    print('FP: ', conf_mat2[0,1])\n",
    "    print('FN: ', conf_mat2[1,0])\n",
    "\n",
    "def getMetrics(modelObj,xTrain,yTrain,xValid,yValid):\n",
    "    y_pred_DecTreeClass2 = modelObj.predict_classes(xValid)\n",
    "    print('Classification report: \\n', metrics.classification_report(yValid, y_pred_DecTreeClass2))\n",
    "    print('Training Accuracy_Score:',metrics.accuracy_score(yTrain, modelObj.predict_classes(xTrain))*100,'%')\n",
    "    print('Training Precision:',metrics.precision_score(yTrain, modelObj.predict_classes(xTrain))*100,'%')\n",
    "    print('Training Recall:',metrics.recall_score(yTrain, modelObj.predict_classes(xTrain))*100,'%')\n",
    "    \n",
    "    print('Training F1 Score:',metrics.f1_score(yTrain, modelObj.predict_classes(xTrain))*100,'%')\n",
    "\n",
    "    \n",
    "    print('Validation Accuracy_Score:',metrics.accuracy_score(yValid, y_pred_DecTreeClass2)*100,'%')\n",
    "    print('Validation Precision:',metrics.precision_score(yValid, y_pred_DecTreeClass2)*100,'%')\n",
    "    print('Validation Recall:',metrics.recall_score(yValid, y_pred_DecTreeClass2)*100,'%')\n",
    "    \n",
    "    print('Validation F1 Score:',metrics.f1_score(yValid, y_pred_DecTreeClass2)*100,'%')\n",
    "\n"
   ]
  },
  {
   "cell_type": "code",
   "execution_count": 31,
   "metadata": {},
   "outputs": [
    {
     "data": {
      "text/plain": [
       "<AxesSubplot:title={'center':'Accuracy'}>"
      ]
     },
     "execution_count": 31,
     "metadata": {},
     "output_type": "execute_result"
    },
    {
     "data": {
      "image/png": "[encoded data removed]",
      "text/plain": [
       "<Figure size 432x288 with 1 Axes>"
      ]
     },
     "metadata": {
      "needs_background": "light"
     },
     "output_type": "display_data"
    },
    {
     "data": {
      "image/png": "[encoded data removed]",
      "text/plain": [
       "<Figure size 432x288 with 1 Axes>"
      ]
     },
     "metadata": {
      "needs_background": "light"
     },
     "output_type": "display_data"
    }
   ],
   "source": [
    "history_df = pd.DataFrame(historyNEW.history)\n",
    "history_df.loc[:, ['loss', 'val_loss']].plot(title=\"Cross-entropy\")\n",
    "history_df.loc[:, ['accuracy', 'val_accuracy']].plot(title=\"Accuracy\")\n",
    "\n",
    "\n"
   ]
  },
  {
   "cell_type": "code",
   "execution_count": 32,
   "metadata": {},
   "outputs": [
    {
     "name": "stderr",
     "output_type": "stream",
     "text": [
      "/home/dheekshitha-vibha/miniconda3/envs/myenv/lib/python3.6/site-packages/tensorflow/python/keras/engine/sequential.py:450: UserWarning: `model.predict_classes()` is deprecated and will be removed after 2021-01-01. Please use instead:* `np.argmax(model.predict(x), axis=-1)`,   if your model does multi-class classification   (e.g. if it uses a `softmax` last-layer activation).* `(model.predict(x) > 0.5).astype(\"int32\")`,   if your model does binary classification   (e.g. if it uses a `sigmoid` last-layer activation).\n",
      "  warnings.warn('`model.predict_classes()` is deprecated and '\n"
     ]
    },
    {
     "data": {
      "image/png": "[encoded data removed]",
      "text/plain": [
       "<Figure size 576x432 with 2 Axes>"
      ]
     },
     "metadata": {
      "needs_background": "light"
     },
     "output_type": "display_data"
    },
    {
     "name": "stdout",
     "output_type": "stream",
     "text": [
      "Confusion matrix: \n",
      " [[ 236  103]\n",
      " [ 123 1564]]\n",
      "TP:  1564\n",
      "TN:  236\n",
      "FP:  103\n",
      "FN:  123\n",
      "Classification report: \n",
      "               precision    recall  f1-score   support\n",
      "\n",
      "           0       0.66      0.70      0.68       339\n",
      "           1       0.94      0.93      0.93      1687\n",
      "\n",
      "    accuracy                           0.89      2026\n",
      "   macro avg       0.80      0.81      0.80      2026\n",
      "weighted avg       0.89      0.89      0.89      2026\n",
      "\n"
     ]
    },
    {
     "name": "stderr",
     "output_type": "stream",
     "text": [
      "/home/dheekshitha-vibha/miniconda3/envs/myenv/lib/python3.6/site-packages/tensorflow/python/keras/engine/sequential.py:450: UserWarning: `model.predict_classes()` is deprecated and will be removed after 2021-01-01. Please use instead:* `np.argmax(model.predict(x), axis=-1)`,   if your model does multi-class classification   (e.g. if it uses a `softmax` last-layer activation).* `(model.predict(x) > 0.5).astype(\"int32\")`,   if your model does binary classification   (e.g. if it uses a `sigmoid` last-layer activation).\n",
      "  warnings.warn('`model.predict_classes()` is deprecated and '\n",
      "/home/dheekshitha-vibha/miniconda3/envs/myenv/lib/python3.6/site-packages/tensorflow/python/keras/engine/sequential.py:450: UserWarning: `model.predict_classes()` is deprecated and will be removed after 2021-01-01. Please use instead:* `np.argmax(model.predict(x), axis=-1)`,   if your model does multi-class classification   (e.g. if it uses a `softmax` last-layer activation).* `(model.predict(x) > 0.5).astype(\"int32\")`,   if your model does binary classification   (e.g. if it uses a `sigmoid` last-layer activation).\n",
      "  warnings.warn('`model.predict_classes()` is deprecated and '\n"
     ]
    },
    {
     "name": "stdout",
     "output_type": "stream",
     "text": [
      "Training Accuracy_Score: 91.93485342019544 %\n"
     ]
    },
    {
     "name": "stderr",
     "output_type": "stream",
     "text": [
      "/home/dheekshitha-vibha/miniconda3/envs/myenv/lib/python3.6/site-packages/tensorflow/python/keras/engine/sequential.py:450: UserWarning: `model.predict_classes()` is deprecated and will be removed after 2021-01-01. Please use instead:* `np.argmax(model.predict(x), axis=-1)`,   if your model does multi-class classification   (e.g. if it uses a `softmax` last-layer activation).* `(model.predict(x) > 0.5).astype(\"int32\")`,   if your model does binary classification   (e.g. if it uses a `sigmoid` last-layer activation).\n",
      "  warnings.warn('`model.predict_classes()` is deprecated and '\n"
     ]
    },
    {
     "name": "stdout",
     "output_type": "stream",
     "text": [
      "Training Precision: 93.38348765432099 %\n"
     ]
    },
    {
     "name": "stderr",
     "output_type": "stream",
     "text": [
      "/home/dheekshitha-vibha/miniconda3/envs/myenv/lib/python3.6/site-packages/tensorflow/python/keras/engine/sequential.py:450: UserWarning: `model.predict_classes()` is deprecated and will be removed after 2021-01-01. Please use instead:* `np.argmax(model.predict(x), axis=-1)`,   if your model does multi-class classification   (e.g. if it uses a `softmax` last-layer activation).* `(model.predict(x) > 0.5).astype(\"int32\")`,   if your model does binary classification   (e.g. if it uses a `sigmoid` last-layer activation).\n",
      "  warnings.warn('`model.predict_classes()` is deprecated and '\n"
     ]
    },
    {
     "name": "stdout",
     "output_type": "stream",
     "text": [
      "Training Recall: 94.6062145788548 %\n"
     ]
    },
    {
     "name": "stderr",
     "output_type": "stream",
     "text": [
      "/home/dheekshitha-vibha/miniconda3/envs/myenv/lib/python3.6/site-packages/tensorflow/python/keras/engine/sequential.py:450: UserWarning: `model.predict_classes()` is deprecated and will be removed after 2021-01-01. Please use instead:* `np.argmax(model.predict(x), axis=-1)`,   if your model does multi-class classification   (e.g. if it uses a `softmax` last-layer activation).* `(model.predict(x) > 0.5).astype(\"int32\")`,   if your model does binary classification   (e.g. if it uses a `sigmoid` last-layer activation).\n",
      "  warnings.warn('`model.predict_classes()` is deprecated and '\n"
     ]
    },
    {
     "name": "stdout",
     "output_type": "stream",
     "text": [
      "Training F1 Score: 93.9908746723619 %\n",
      "Validation Accuracy_Score: 88.84501480750247 %\n",
      "Validation Precision: 93.82123575284943 %\n",
      "Validation Recall: 92.7089508002371 %\n",
      "Validation F1 Score: 93.26177698270722 %\n"
     ]
    }
   ],
   "source": [
    "plotconfusionMatrix(bestNNNEW,y_valid['Attrition_Flag'],icavalidData)\n",
    "\n",
    "getMetrics(bestNNNEW,IndependentComponentValues,y_train_res['Attrition_Flag'],icavalidData,y_valid['Attrition_Flag'])"
   ]
  },
  {
   "cell_type": "code",
   "execution_count": null,
   "metadata": {},
   "outputs": [],
   "source": []
  }
 ],
 "metadata": {
  "kernelspec": {
   "display_name": "myenv",
   "language": "python",
   "name": "myenv"
  },
  "language_info": {
   "codemirror_mode": {
    "name": "ipython",
    "version": 3
   },
   "file_extension": ".py",
   "mimetype": "text/x-python",
   "name": "python",
   "nbconvert_exporter": "python",
   "pygments_lexer": "ipython3",
   "version": "3.6.12"
  }
 },
 "nbformat": 4,
 "nbformat_minor": 4
}
