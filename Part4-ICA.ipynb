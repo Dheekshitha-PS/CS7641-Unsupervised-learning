{
 "cells": [
  {
   "cell_type": "code",
   "execution_count": 1,
   "metadata": {},
   "outputs": [],
   "source": [
    "import pickle as pk\n",
    "import pandas as pd\n",
    "import numpy as np\n",
    "import copy\n",
    "\n",
    "data=pd.read_csv(\"./Data/BankChurners.csv\")\n",
    "\n",
    "data['Attrition_Flag'] = data['Attrition_Flag'].map({1: 'Existing Customer', 0: 'Attrited Customer'})\n"
   ]
  },
  {
   "cell_type": "code",
   "execution_count": 2,
   "metadata": {},
   "outputs": [],
   "source": [
    "import numpy as np # linear algebra\n",
    "import pandas as pd # data processing, CSV file I/O (e.g. pd.read_csv)\n",
    "import matplotlib.pyplot as plt\n",
    "import seaborn as sns\n",
    "%matplotlib inline\n",
    "\n",
    "\n",
    "from sklearn.tree import DecisionTreeClassifier\n",
    "from sklearn.metrics import roc_curve, auc\n",
    "\n",
    "from sklearn.model_selection import KFold, cross_val_score\n",
    "from sklearn.preprocessing import StandardScaler, OneHotEncoder, LabelEncoder\n",
    "\n",
    "# # print)str\n",
    "# scaled_x_train=pd.read_csv(\"./Data/scaled_x_train_smote2.csv\")\n",
    "# scaled_x_test=pd.read_csv(\"./Data/scaled_x_test_smote2.csv\")\n",
    "# # pd.read_csv(\"./Data/scaled_x_test_smote2.csv\")\n",
    "# scaled_x_cv=pd.read_csv(\"./Data/scaled_x_cv_smote2.csv\")\n",
    "\n",
    "y_test_copy=pd.read_csv(\"./Data/y_test_smote3.csv\")\n",
    "x_test=pd.read_csv(\"./Data/x_test_smote3.csv\")\n",
    "\n",
    "X_train_res=pd.read_csv(\"./Data/X_train_res_smote3.csv\")\n",
    "y_train_res=pd.read_csv(\"./Data/y_train_res_smote3.csv\")\n",
    "\n",
    "X_train_res=X_train_res.drop('Unnamed: 0',axis=1)\n",
    "y_train_res=y_train_res.drop('Unnamed: 0',axis=1)\n",
    "x_test=x_test.drop('Unnamed: 0',axis=1)\n",
    "\n",
    "\n",
    "y_test_copy=y_test_copy.drop('Unnamed: 0',axis=1)\n",
    "# scaled_x_test=scaled_x_test.drop('Unnamed: 0',axis=1)\n",
    "# scaled_x_cv=scaled_x_cv.drop('Unnamed: 0',axis=1)\n",
    "\n",
    "\n",
    "y_test=y_test_copy\n",
    "\n",
    "y_valid=pd.read_csv(\"./Data/y_valid_smote3.csv\")\n",
    "x_valid=pd.read_csv(\"./Data/x_valid_smote3.csv\")\n",
    "\n",
    "x_valid=x_valid.drop('Unnamed: 0',axis=1)\n",
    "y_valid=y_valid.drop('Unnamed: 0',axis=1)\n",
    "\n",
    "y_valid.shape\n",
    "\n",
    "\n",
    "\n",
    "\n",
    "y_train_res['Attrition_Flag']=y_train_res['Attrition_Flag'].map({'Existing Customer': 1, 'Attrited Customer': 0})\n",
    "y_valid['Attrition_Flag']=y_valid['Attrition_Flag'].map({'Existing Customer': 1, 'Attrited Customer': 0})\n",
    "y_test_copy['Attrition_Flag']=y_test_copy['Attrition_Flag'].map({'Existing Customer': 1, 'Attrited Customer': 0})\n",
    "\n"
   ]
  },
  {
   "cell_type": "code",
   "execution_count": 3,
   "metadata": {},
   "outputs": [
    {
     "data": {
      "text/plain": [
       "(7675, 32)"
      ]
     },
     "execution_count": 3,
     "metadata": {},
     "output_type": "execute_result"
    }
   ],
   "source": [
    "#  Scaling features\n",
    "scaler = StandardScaler()\n",
    "scaler.fit(X_train_res)\n",
    "\n",
    "scaled_x_train = scaler.transform(X_train_res)\n",
    "scaled_x_test = scaler.transform(x_test)\n",
    "\n",
    "\n",
    "scaled_x_valid=scaler.transform(x_valid)\n",
    "# scaled_y_cv =scaler.transform(y_cv)\n",
    "\n",
    "scaled_x_train.shape\n",
    "\n",
    "\n",
    "scaled_x_train.shape"
   ]
  },
  {
   "cell_type": "code",
   "execution_count": 4,
   "metadata": {},
   "outputs": [],
   "source": [
    "from sklearn.decomposition import FastICA\n",
    "ICAFinal = FastICA(n_components=23)\n",
    "IndependentComponentValues=ICAFinal.fit_transform(scaled_x_train)"
   ]
  },
  {
   "cell_type": "code",
   "execution_count": 5,
   "metadata": {},
   "outputs": [],
   "source": [
    "icaTestData=ICAFinal.transform(scaled_x_test)\n",
    "icavalidData=ICAFinal.transform(scaled_x_valid)"
   ]
  },
  {
   "cell_type": "code",
   "execution_count": 23,
   "metadata": {},
   "outputs": [
    {
     "data": {
      "text/plain": [
       "array([[ 0.00461802, -0.00551663,  0.0175603 , ..., -0.00377041,\n",
       "         0.00245851, -0.01310097],\n",
       "       [ 0.00349665, -0.00186684,  0.00987765, ..., -0.00147589,\n",
       "         0.00094835, -0.01290331],\n",
       "       [ 0.00212189,  0.00190269,  0.00980882, ..., -0.0019781 ,\n",
       "         0.00171047,  0.01188609],\n",
       "       ...,\n",
       "       [ 0.00419987, -0.00219551, -0.00524866, ..., -0.00578505,\n",
       "         0.00392358, -0.01397355],\n",
       "       [ 0.00102356, -0.00378594, -0.01357186, ..., -0.00527492,\n",
       "         0.00287264, -0.00038979],\n",
       "       [ 0.00303201, -0.00540123, -0.00359942, ..., -0.0022023 ,\n",
       "         0.00166978,  0.01255029]])"
      ]
     },
     "execution_count": 23,
     "metadata": {},
     "output_type": "execute_result"
    }
   ],
   "source": [
    "icavalidData"
   ]
  },
  {
   "cell_type": "code",
   "execution_count": 6,
   "metadata": {},
   "outputs": [],
   "source": [
    "# pca_reload = pk.load(open(\"pca_finalDF_data1.pkl\",'rb'))\n",
    "# result_new = pca_reload .transform(X)"
   ]
  },
  {
   "cell_type": "code",
   "execution_count": 7,
   "metadata": {},
   "outputs": [],
   "source": [
    "# pca_reload.shape"
   ]
  },
  {
   "cell_type": "code",
   "execution_count": 8,
   "metadata": {},
   "outputs": [],
   "source": [
    "def create_model(  hidden_layers,learning_rate):\n",
    "  # Initialize the constructor\n",
    "    model =  keras.Sequential()\n",
    "      # Add an input layer\n",
    "    activation='sigmoid'\n",
    "    model.add(layers.Dense(256, activation=activation, input_shape=input_shape))\n",
    "    for i in range(hidden_layers):\n",
    "          # Add one hidden layer\n",
    "        model.add(layers.Dense(8, activation=activation))\n",
    "\n",
    "      # Add an output layer \n",
    "    model.add(layers.Dense(1, activation=activation))\n",
    "    opt = keras.optimizers.Adam(learning_rate=learning_rate)\n",
    "      #compile model\n",
    "    model.compile(loss='binary_crossentropy', optimizer=opt, metrics=\n",
    "      ['accuracy'])\n",
    "\n",
    "    return model\n"
   ]
  },
  {
   "cell_type": "code",
   "execution_count": 9,
   "metadata": {},
   "outputs": [],
   "source": [
    "\n",
    "import joblib\n",
    "\n",
    "# joblib.dump(DTmodel, 'DTgrid_NLP.pkl')\n",
    "\n",
    "from sklearn import metrics\n",
    "\n",
    "# tfidf_vector_X = xtrain_tfidf_ngram.toarray()  #//shape - (3,6)\n",
    "# tfidf_vector_valid= xvalid_tfidf_ngram.toarray() #//shape - (3,6)\n",
    "# tfidf_vector_X = tfidf_vector_X[:, :, None] #//shape - (3,6,1) \n",
    "# tfidf_vector_valid = tfidf_vector_valid[:, :, None] #//shape - (3,6,1)\n",
    "\n",
    "\n",
    "# tfidf_vector_X.shape[1:]\n",
    "\n",
    "from tensorflow import keras\n",
    "from tensorflow.keras import layers\n",
    "\n",
    "# input_shape= [x_train.shape[1]]\n",
    "\n",
    "# NNmodel = create_model(optimizer='adam', activation = 'sigmoid', hidden_layers=1,learning_rate=0.01)\n",
    "\n",
    "\n",
    "\n",
    "\n",
    "from sklearn.model_selection import RandomizedSearchCV, GridSearchCV\n",
    "from sklearn.metrics import roc_auc_score\n",
    "from sklearn.model_selection import StratifiedKFold\n"
   ]
  },
  {
   "cell_type": "code",
   "execution_count": 41,
   "metadata": {},
   "outputs": [],
   "source": [
    "# sess.run(optimizer._lr)\n",
    "def create_modelWithDropBatch(  hidden_layers,learning_rate):\n",
    "  # Initialize the constructor\n",
    "    model =  keras.Sequential()\n",
    "      # Add an input layer\n",
    "    activation='sigmoid'\n",
    "    model.add(layers.Dense(256, activation=activation, input_shape=input_shape))\n",
    "    for i in range(hidden_layers):\n",
    "          # Add one hidden layer\n",
    "#         model.add(layers.BatchNormalization())\n",
    "#         model.add(layers.Dropout(0.5))\n",
    "        model.add(layers.Dense(256, activation='relu'))\n",
    "\n",
    "      # Add an output layer \n",
    "    model.add(layers.Dense(1, activation=activation))\n",
    "    opt = keras.optimizers.Adam(learning_rate=learning_rate)\n",
    "      #compile model\n",
    "    model.compile(loss='binary_crossentropy', optimizer=opt, metrics=\n",
    "      ['accuracy'])\n",
    "\n",
    "    return model\n",
    "\n"
   ]
  },
  {
   "cell_type": "code",
   "execution_count": 25,
   "metadata": {},
   "outputs": [],
   "source": [
    "from tensorflow.keras.wrappers.scikit_learn import KerasClassifier"
   ]
  },
  {
   "cell_type": "code",
   "execution_count": 12,
   "metadata": {},
   "outputs": [],
   "source": [
    "# pca_finalDF.shape\n",
    "# input_shape"
   ]
  },
  {
   "cell_type": "code",
   "execution_count": 26,
   "metadata": {},
   "outputs": [
    {
     "name": "stdout",
     "output_type": "stream",
     "text": [
      "{'hidden_layers': 2, 'learning_rate': 0.001}\n",
      "0.9009772062301635\n"
     ]
    }
   ],
   "source": [
    "\n",
    "input_shape=[23]\n",
    "#\n",
    "model_Batch_drop_relu =  KerasClassifier(build_fn=create_modelWithDropBatch, verbose = False)  \n",
    "\n",
    "param_grid={'learning_rate':[0.1,0.001,0.01,0.05,0.05,0.5],'hidden_layers':[2,4,6,8,10]}\n",
    "\n",
    "gridNN_Batch_drop_relu = GridSearchCV(estimator = model_Batch_drop_relu, param_grid = param_grid)\n",
    "\n",
    "model_Batch_drop_relu.get_params()\n",
    "\n",
    "history_Batch_drop_relu = gridNN_Batch_drop_relu.fit(\n",
    "     IndependentComponentValues, y_train_res,\n",
    "    validation_data=(icavalidData, y_valid),\n",
    "    batch_size=512,\n",
    "    epochs=200,\n",
    "#     callbacks=[early_stopping],\n",
    ")\n",
    "\n",
    "print(history_Batch_drop_relu.best_params_)\n",
    "\n",
    "print(history_Batch_drop_relu.best_score_)\n",
    "# print(grid.best_params_)"
   ]
  },
  {
   "cell_type": "code",
   "execution_count": 28,
   "metadata": {},
   "outputs": [],
   "source": [
    "# jb"
   ]
  },
  {
   "cell_type": "code",
   "execution_count": 42,
   "metadata": {
    "scrolled": true
   },
   "outputs": [
    {
     "name": "stdout",
     "output_type": "stream",
     "text": [
      "Epoch 1/200\n",
      "15/15 [==============================] - 1s 21ms/step - loss: 0.6510 - accuracy: 0.6618 - val_loss: 0.5090 - val_accuracy: 0.8327\n",
      "Epoch 2/200\n",
      "15/15 [==============================] - 0s 10ms/step - loss: 0.6351 - accuracy: 0.6731 - val_loss: 0.5247 - val_accuracy: 0.8327\n",
      "Epoch 3/200\n",
      "15/15 [==============================] - 0s 10ms/step - loss: 0.6409 - accuracy: 0.6627 - val_loss: 0.5057 - val_accuracy: 0.8327\n",
      "Epoch 4/200\n",
      "15/15 [==============================] - 0s 10ms/step - loss: 0.6457 - accuracy: 0.6565 - val_loss: 0.5453 - val_accuracy: 0.8327\n",
      "Epoch 5/200\n",
      "15/15 [==============================] - 0s 9ms/step - loss: 0.6375 - accuracy: 0.6663 - val_loss: 0.5400 - val_accuracy: 0.8327\n",
      "Epoch 6/200\n",
      "15/15 [==============================] - 0s 10ms/step - loss: 0.6391 - accuracy: 0.6638 - val_loss: 0.5140 - val_accuracy: 0.8327\n",
      "Epoch 7/200\n",
      "15/15 [==============================] - 0s 11ms/step - loss: 0.6375 - accuracy: 0.6659 - val_loss: 0.5032 - val_accuracy: 0.8327\n",
      "Epoch 8/200\n",
      "15/15 [==============================] - 0s 10ms/step - loss: 0.6378 - accuracy: 0.6656 - val_loss: 0.5301 - val_accuracy: 0.8327\n",
      "Epoch 9/200\n",
      "15/15 [==============================] - 0s 9ms/step - loss: 0.6327 - accuracy: 0.6726 - val_loss: 0.5197 - val_accuracy: 0.8327\n",
      "Epoch 10/200\n",
      "15/15 [==============================] - 0s 10ms/step - loss: 0.6326 - accuracy: 0.6713 - val_loss: 0.5277 - val_accuracy: 0.8327\n",
      "Epoch 11/200\n",
      "15/15 [==============================] - 0s 9ms/step - loss: 0.6332 - accuracy: 0.6721 - val_loss: 0.5276 - val_accuracy: 0.8327\n",
      "Epoch 12/200\n",
      "15/15 [==============================] - 0s 10ms/step - loss: 0.6361 - accuracy: 0.6705 - val_loss: 0.5049 - val_accuracy: 0.8327\n",
      "Epoch 13/200\n",
      "15/15 [==============================] - 0s 10ms/step - loss: 0.6364 - accuracy: 0.6659 - val_loss: 0.5102 - val_accuracy: 0.8327\n",
      "Epoch 14/200\n",
      "15/15 [==============================] - 0s 22ms/step - loss: 0.6386 - accuracy: 0.6627 - val_loss: 0.5336 - val_accuracy: 0.8327\n",
      "Epoch 15/200\n",
      "15/15 [==============================] - 0s 10ms/step - loss: 0.6414 - accuracy: 0.6579 - val_loss: 0.5191 - val_accuracy: 0.8327\n",
      "Epoch 16/200\n",
      "15/15 [==============================] - 0s 10ms/step - loss: 0.6321 - accuracy: 0.6697 - val_loss: 0.5397 - val_accuracy: 0.8327\n",
      "Epoch 17/200\n",
      "15/15 [==============================] - 0s 10ms/step - loss: 0.6324 - accuracy: 0.6681 - val_loss: 0.5273 - val_accuracy: 0.8327\n",
      "Epoch 18/200\n",
      "15/15 [==============================] - 0s 9ms/step - loss: 0.6340 - accuracy: 0.6694 - val_loss: 0.5328 - val_accuracy: 0.8327\n",
      "Epoch 19/200\n",
      "15/15 [==============================] - 0s 10ms/step - loss: 0.6333 - accuracy: 0.6634 - val_loss: 0.5248 - val_accuracy: 0.8327\n",
      "Epoch 20/200\n",
      "15/15 [==============================] - 0s 10ms/step - loss: 0.6323 - accuracy: 0.6640 - val_loss: 0.4868 - val_accuracy: 0.8327\n",
      "Epoch 21/200\n",
      "15/15 [==============================] - 0s 12ms/step - loss: 0.6211 - accuracy: 0.6678 - val_loss: 0.5846 - val_accuracy: 0.8327\n",
      "Epoch 22/200\n",
      "15/15 [==============================] - 0s 10ms/step - loss: 0.6210 - accuracy: 0.6772 - val_loss: 0.4983 - val_accuracy: 0.8327\n",
      "Epoch 23/200\n",
      "15/15 [==============================] - 0s 9ms/step - loss: 0.5948 - accuracy: 0.6639 - val_loss: 0.7835 - val_accuracy: 0.1673\n",
      "Epoch 24/200\n",
      "15/15 [==============================] - 0s 9ms/step - loss: 0.6888 - accuracy: 0.5077 - val_loss: 0.5220 - val_accuracy: 0.8327\n",
      "Epoch 25/200\n",
      "15/15 [==============================] - 0s 9ms/step - loss: 0.6390 - accuracy: 0.6691 - val_loss: 0.5166 - val_accuracy: 0.8327\n",
      "Epoch 26/200\n",
      "15/15 [==============================] - 0s 9ms/step - loss: 0.6386 - accuracy: 0.6657 - val_loss: 0.5155 - val_accuracy: 0.8327\n",
      "Epoch 27/200\n",
      "15/15 [==============================] - 0s 9ms/step - loss: 0.6303 - accuracy: 0.6713 - val_loss: 0.5304 - val_accuracy: 0.8327\n",
      "Epoch 28/200\n",
      "15/15 [==============================] - 0s 8ms/step - loss: 0.6290 - accuracy: 0.6692 - val_loss: 0.5487 - val_accuracy: 0.8327\n",
      "Epoch 29/200\n",
      "15/15 [==============================] - 0s 9ms/step - loss: 0.6198 - accuracy: 0.6714 - val_loss: 0.5517 - val_accuracy: 0.8327\n",
      "Epoch 30/200\n",
      "15/15 [==============================] - 0s 8ms/step - loss: 0.6011 - accuracy: 0.6667 - val_loss: 0.4708 - val_accuracy: 0.8327\n",
      "Epoch 31/200\n",
      "15/15 [==============================] - 0s 9ms/step - loss: 0.5604 - accuracy: 0.6779 - val_loss: 0.5893 - val_accuracy: 0.7162\n",
      "Epoch 32/200\n",
      "15/15 [==============================] - 0s 10ms/step - loss: 0.5395 - accuracy: 0.7445 - val_loss: 0.4712 - val_accuracy: 0.8263\n",
      "Epoch 33/200\n",
      "15/15 [==============================] - 0s 9ms/step - loss: 0.5135 - accuracy: 0.7510 - val_loss: 0.3546 - val_accuracy: 0.8500\n",
      "Epoch 34/200\n",
      "15/15 [==============================] - 0s 9ms/step - loss: 0.4769 - accuracy: 0.7797 - val_loss: 0.3911 - val_accuracy: 0.8564\n",
      "Epoch 35/200\n",
      "15/15 [==============================] - 0s 9ms/step - loss: 0.4069 - accuracy: 0.8420 - val_loss: 0.3318 - val_accuracy: 0.8717\n",
      "Epoch 36/200\n",
      "15/15 [==============================] - 0s 9ms/step - loss: 0.3876 - accuracy: 0.8345 - val_loss: 0.3243 - val_accuracy: 0.8653\n",
      "Epoch 37/200\n",
      "15/15 [==============================] - 0s 11ms/step - loss: 0.4058 - accuracy: 0.8194 - val_loss: 0.3281 - val_accuracy: 0.8662\n",
      "Epoch 38/200\n",
      "15/15 [==============================] - 0s 9ms/step - loss: 0.3456 - accuracy: 0.8573 - val_loss: 0.3055 - val_accuracy: 0.8791\n",
      "Epoch 39/200\n",
      "15/15 [==============================] - 0s 9ms/step - loss: 0.3467 - accuracy: 0.8523 - val_loss: 0.4243 - val_accuracy: 0.8233\n",
      "Epoch 40/200\n",
      "15/15 [==============================] - 0s 10ms/step - loss: 0.3753 - accuracy: 0.8430 - val_loss: 0.3383 - val_accuracy: 0.8618\n",
      "Epoch 41/200\n",
      "15/15 [==============================] - 0s 9ms/step - loss: 0.3678 - accuracy: 0.8401 - val_loss: 0.2893 - val_accuracy: 0.8850\n",
      "Epoch 42/200\n",
      "15/15 [==============================] - 0s 9ms/step - loss: 0.3353 - accuracy: 0.8652 - val_loss: 0.3270 - val_accuracy: 0.8653\n",
      "Epoch 43/200\n",
      "15/15 [==============================] - 0s 10ms/step - loss: 0.3243 - accuracy: 0.8658 - val_loss: 0.3370 - val_accuracy: 0.8593\n",
      "Epoch 44/200\n",
      "15/15 [==============================] - 0s 10ms/step - loss: 0.3200 - accuracy: 0.8726 - val_loss: 0.3067 - val_accuracy: 0.8722\n",
      "Epoch 45/200\n",
      "15/15 [==============================] - 0s 11ms/step - loss: 0.3221 - accuracy: 0.8693 - val_loss: 0.2848 - val_accuracy: 0.8870\n",
      "Epoch 46/200\n",
      "15/15 [==============================] - 0s 10ms/step - loss: 0.3103 - accuracy: 0.8755 - val_loss: 0.3302 - val_accuracy: 0.8648\n",
      "Epoch 47/200\n",
      "15/15 [==============================] - 0s 10ms/step - loss: 0.3349 - accuracy: 0.8645 - val_loss: 0.2874 - val_accuracy: 0.8894\n",
      "Epoch 48/200\n",
      "15/15 [==============================] - 0s 9ms/step - loss: 0.3419 - accuracy: 0.8574 - val_loss: 0.2970 - val_accuracy: 0.8899\n",
      "Epoch 49/200\n",
      "15/15 [==============================] - 0s 9ms/step - loss: 0.3337 - accuracy: 0.8601 - val_loss: 0.3524 - val_accuracy: 0.8544\n",
      "Epoch 50/200\n",
      "15/15 [==============================] - 0s 9ms/step - loss: 0.3172 - accuracy: 0.8686 - val_loss: 0.2840 - val_accuracy: 0.8909\n",
      "Epoch 51/200\n",
      "15/15 [==============================] - 0s 8ms/step - loss: 0.3172 - accuracy: 0.8675 - val_loss: 0.3181 - val_accuracy: 0.8697\n",
      "Epoch 52/200\n",
      "15/15 [==============================] - 0s 9ms/step - loss: 0.3095 - accuracy: 0.8742 - val_loss: 0.2909 - val_accuracy: 0.8820\n",
      "Epoch 53/200\n",
      "15/15 [==============================] - 0s 9ms/step - loss: 0.3102 - accuracy: 0.8750 - val_loss: 0.2910 - val_accuracy: 0.8810\n",
      "Epoch 54/200\n",
      "15/15 [==============================] - 0s 9ms/step - loss: 0.3157 - accuracy: 0.8712 - val_loss: 0.3799 - val_accuracy: 0.8421\n",
      "Epoch 55/200\n",
      "15/15 [==============================] - 0s 9ms/step - loss: 0.3219 - accuracy: 0.8663 - val_loss: 0.3205 - val_accuracy: 0.8677\n",
      "Epoch 56/200\n",
      "15/15 [==============================] - 0s 9ms/step - loss: 0.3309 - accuracy: 0.8596 - val_loss: 0.2931 - val_accuracy: 0.8899\n",
      "Epoch 57/200\n",
      "15/15 [==============================] - 0s 8ms/step - loss: 0.3433 - accuracy: 0.8564 - val_loss: 0.3162 - val_accuracy: 0.8697\n",
      "Epoch 58/200\n"
     ]
    },
    {
     "name": "stdout",
     "output_type": "stream",
     "text": [
      "15/15 [==============================] - 0s 9ms/step - loss: 0.3205 - accuracy: 0.8669 - val_loss: 0.3088 - val_accuracy: 0.8756\n",
      "Epoch 59/200\n",
      "15/15 [==============================] - 0s 9ms/step - loss: 0.3197 - accuracy: 0.8707 - val_loss: 0.2869 - val_accuracy: 0.8885\n",
      "Epoch 60/200\n",
      "15/15 [==============================] - 0s 8ms/step - loss: 0.3191 - accuracy: 0.8667 - val_loss: 0.3127 - val_accuracy: 0.8717\n",
      "Epoch 61/200\n",
      "15/15 [==============================] - 0s 9ms/step - loss: 0.3090 - accuracy: 0.8747 - val_loss: 0.4036 - val_accuracy: 0.8268\n",
      "Epoch 62/200\n",
      "15/15 [==============================] - 0s 8ms/step - loss: 0.3186 - accuracy: 0.8678 - val_loss: 0.2920 - val_accuracy: 0.8835\n",
      "Epoch 63/200\n",
      "15/15 [==============================] - 0s 9ms/step - loss: 0.3198 - accuracy: 0.8712 - val_loss: 0.3027 - val_accuracy: 0.8771\n",
      "Epoch 64/200\n",
      "15/15 [==============================] - 0s 9ms/step - loss: 0.3181 - accuracy: 0.8751 - val_loss: 0.2860 - val_accuracy: 0.8885\n",
      "Epoch 65/200\n",
      "15/15 [==============================] - 0s 9ms/step - loss: 0.3483 - accuracy: 0.8550 - val_loss: 0.2938 - val_accuracy: 0.8825\n",
      "Epoch 66/200\n",
      "15/15 [==============================] - 0s 9ms/step - loss: 0.3380 - accuracy: 0.8592 - val_loss: 0.2870 - val_accuracy: 0.8924\n",
      "Epoch 67/200\n",
      "15/15 [==============================] - 0s 9ms/step - loss: 0.3220 - accuracy: 0.8670 - val_loss: 0.2884 - val_accuracy: 0.8909\n",
      "Epoch 68/200\n",
      "15/15 [==============================] - 0s 9ms/step - loss: 0.3154 - accuracy: 0.8718 - val_loss: 0.2845 - val_accuracy: 0.8894\n",
      "Epoch 69/200\n",
      "15/15 [==============================] - 0s 9ms/step - loss: 0.3239 - accuracy: 0.8715 - val_loss: 0.2888 - val_accuracy: 0.8885\n",
      "Epoch 70/200\n",
      "15/15 [==============================] - 0s 9ms/step - loss: 0.3119 - accuracy: 0.8673 - val_loss: 0.2846 - val_accuracy: 0.8894\n",
      "Epoch 71/200\n",
      "15/15 [==============================] - 0s 9ms/step - loss: 0.3189 - accuracy: 0.8664 - val_loss: 0.2872 - val_accuracy: 0.8894\n",
      "Epoch 72/200\n",
      "15/15 [==============================] - 0s 9ms/step - loss: 0.3133 - accuracy: 0.8721 - val_loss: 0.2896 - val_accuracy: 0.8865\n",
      "Epoch 73/200\n",
      "15/15 [==============================] - 0s 9ms/step - loss: 0.3013 - accuracy: 0.8808 - val_loss: 0.3025 - val_accuracy: 0.8771\n",
      "Epoch 74/200\n",
      "15/15 [==============================] - 0s 9ms/step - loss: 0.3091 - accuracy: 0.8743 - val_loss: 0.3261 - val_accuracy: 0.8667\n",
      "Epoch 75/200\n",
      "15/15 [==============================] - 0s 9ms/step - loss: 0.3160 - accuracy: 0.8720 - val_loss: 0.3003 - val_accuracy: 0.8791\n",
      "Epoch 76/200\n",
      "15/15 [==============================] - 0s 9ms/step - loss: 0.3107 - accuracy: 0.8764 - val_loss: 0.2912 - val_accuracy: 0.8845\n",
      "Epoch 77/200\n",
      "15/15 [==============================] - 0s 9ms/step - loss: 0.3077 - accuracy: 0.8742 - val_loss: 0.3196 - val_accuracy: 0.8687\n",
      "Epoch 78/200\n",
      "15/15 [==============================] - 0s 9ms/step - loss: 0.3107 - accuracy: 0.8738 - val_loss: 0.2879 - val_accuracy: 0.8880\n",
      "Epoch 79/200\n",
      "15/15 [==============================] - 0s 9ms/step - loss: 0.2969 - accuracy: 0.8776 - val_loss: 0.3744 - val_accuracy: 0.8495\n",
      "Epoch 80/200\n",
      "15/15 [==============================] - 0s 9ms/step - loss: 0.3169 - accuracy: 0.8694 - val_loss: 0.3265 - val_accuracy: 0.8682\n",
      "Epoch 81/200\n",
      "15/15 [==============================] - 0s 9ms/step - loss: 0.3190 - accuracy: 0.8705 - val_loss: 0.3980 - val_accuracy: 0.8406\n",
      "Epoch 82/200\n",
      "15/15 [==============================] - 0s 9ms/step - loss: 0.3340 - accuracy: 0.8616 - val_loss: 0.3100 - val_accuracy: 0.8781\n",
      "Epoch 83/200\n",
      "15/15 [==============================] - 0s 9ms/step - loss: 0.3069 - accuracy: 0.8763 - val_loss: 0.2845 - val_accuracy: 0.8899\n",
      "Epoch 84/200\n",
      "15/15 [==============================] - 0s 9ms/step - loss: 0.3285 - accuracy: 0.8629 - val_loss: 0.2847 - val_accuracy: 0.8894\n",
      "Epoch 85/200\n",
      "15/15 [==============================] - 0s 9ms/step - loss: 0.3221 - accuracy: 0.8674 - val_loss: 0.2986 - val_accuracy: 0.8825\n",
      "Epoch 86/200\n",
      "15/15 [==============================] - 0s 10ms/step - loss: 0.3017 - accuracy: 0.8800 - val_loss: 0.2866 - val_accuracy: 0.8909\n",
      "Epoch 87/200\n",
      "15/15 [==============================] - 0s 9ms/step - loss: 0.3094 - accuracy: 0.8748 - val_loss: 0.2951 - val_accuracy: 0.8840\n",
      "Epoch 88/200\n",
      "15/15 [==============================] - 0s 8ms/step - loss: 0.3201 - accuracy: 0.8700 - val_loss: 0.3085 - val_accuracy: 0.8771\n",
      "Epoch 89/200\n",
      "15/15 [==============================] - 0s 9ms/step - loss: 0.3133 - accuracy: 0.8741 - val_loss: 0.3080 - val_accuracy: 0.8776\n",
      "Epoch 90/200\n",
      "15/15 [==============================] - 0s 9ms/step - loss: 0.2987 - accuracy: 0.8769 - val_loss: 0.2881 - val_accuracy: 0.8904\n",
      "Epoch 91/200\n",
      "15/15 [==============================] - 0s 9ms/step - loss: 0.3067 - accuracy: 0.8717 - val_loss: 0.2847 - val_accuracy: 0.8914\n",
      "Epoch 92/200\n",
      "15/15 [==============================] - 0s 9ms/step - loss: 0.3043 - accuracy: 0.8758 - val_loss: 0.2882 - val_accuracy: 0.8904\n",
      "Epoch 93/200\n",
      "15/15 [==============================] - 0s 8ms/step - loss: 0.2995 - accuracy: 0.8824 - val_loss: 0.3154 - val_accuracy: 0.8736\n",
      "Epoch 94/200\n",
      "15/15 [==============================] - 0s 9ms/step - loss: 0.3027 - accuracy: 0.8806 - val_loss: 0.3311 - val_accuracy: 0.8667\n",
      "Epoch 95/200\n",
      "15/15 [==============================] - 0s 9ms/step - loss: 0.3078 - accuracy: 0.8739 - val_loss: 0.2990 - val_accuracy: 0.8820\n",
      "Epoch 96/200\n",
      "15/15 [==============================] - 0s 9ms/step - loss: 0.3048 - accuracy: 0.8734 - val_loss: 0.3321 - val_accuracy: 0.8667\n",
      "Epoch 97/200\n",
      "15/15 [==============================] - 0s 9ms/step - loss: 0.3120 - accuracy: 0.8685 - val_loss: 0.2931 - val_accuracy: 0.8845\n",
      "Epoch 98/200\n",
      "15/15 [==============================] - 0s 9ms/step - loss: 0.3256 - accuracy: 0.8682 - val_loss: 0.3343 - val_accuracy: 0.8672\n",
      "Epoch 99/200\n",
      "15/15 [==============================] - 0s 9ms/step - loss: 0.3139 - accuracy: 0.8716 - val_loss: 0.2869 - val_accuracy: 0.8899\n",
      "Epoch 100/200\n",
      "15/15 [==============================] - 0s 9ms/step - loss: 0.3367 - accuracy: 0.8650 - val_loss: 0.2842 - val_accuracy: 0.8889\n",
      "Epoch 101/200\n",
      "15/15 [==============================] - 0s 9ms/step - loss: 0.3224 - accuracy: 0.8678 - val_loss: 0.3022 - val_accuracy: 0.8820\n",
      "Epoch 102/200\n",
      "15/15 [==============================] - 0s 10ms/step - loss: 0.3137 - accuracy: 0.8716 - val_loss: 0.3187 - val_accuracy: 0.8741\n",
      "Epoch 103/200\n",
      "15/15 [==============================] - 0s 11ms/step - loss: 0.3040 - accuracy: 0.8752 - val_loss: 0.2966 - val_accuracy: 0.8835\n",
      "Epoch 104/200\n",
      "15/15 [==============================] - 0s 20ms/step - loss: 0.3044 - accuracy: 0.8789 - val_loss: 0.2865 - val_accuracy: 0.8885\n",
      "Epoch 105/200\n",
      "15/15 [==============================] - 0s 9ms/step - loss: 0.3136 - accuracy: 0.8717 - val_loss: 0.2893 - val_accuracy: 0.8894\n",
      "Epoch 106/200\n",
      "15/15 [==============================] - 0s 9ms/step - loss: 0.3005 - accuracy: 0.8792 - val_loss: 0.2928 - val_accuracy: 0.8870\n",
      "Epoch 107/200\n",
      "15/15 [==============================] - 0s 10ms/step - loss: 0.3010 - accuracy: 0.8775 - val_loss: 0.2928 - val_accuracy: 0.8870\n",
      "Epoch 108/200\n",
      "15/15 [==============================] - 0s 11ms/step - loss: 0.3134 - accuracy: 0.8679 - val_loss: 0.3181 - val_accuracy: 0.8741\n",
      "Epoch 109/200\n",
      "15/15 [==============================] - 0s 9ms/step - loss: 0.3015 - accuracy: 0.8758 - val_loss: 0.2844 - val_accuracy: 0.8894\n",
      "Epoch 110/200\n",
      "15/15 [==============================] - 0s 9ms/step - loss: 0.3102 - accuracy: 0.8711 - val_loss: 0.2902 - val_accuracy: 0.8894\n",
      "Epoch 111/200\n",
      "15/15 [==============================] - 0s 8ms/step - loss: 0.3069 - accuracy: 0.8738 - val_loss: 0.2844 - val_accuracy: 0.8899\n",
      "Epoch 112/200\n",
      "15/15 [==============================] - 0s 9ms/step - loss: 0.3101 - accuracy: 0.8768 - val_loss: 0.2844 - val_accuracy: 0.8899\n",
      "Epoch 113/200\n",
      "15/15 [==============================] - 0s 10ms/step - loss: 0.3107 - accuracy: 0.8681 - val_loss: 0.2931 - val_accuracy: 0.8860\n",
      "Epoch 114/200\n",
      "15/15 [==============================] - 0s 11ms/step - loss: 0.3078 - accuracy: 0.8768 - val_loss: 0.3245 - val_accuracy: 0.8736\n",
      "Epoch 115/200\n"
     ]
    },
    {
     "name": "stdout",
     "output_type": "stream",
     "text": [
      "15/15 [==============================] - 0s 9ms/step - loss: 0.3078 - accuracy: 0.8748 - val_loss: 0.3293 - val_accuracy: 0.8727\n",
      "Epoch 116/200\n",
      "15/15 [==============================] - 0s 9ms/step - loss: 0.3098 - accuracy: 0.8692 - val_loss: 0.2904 - val_accuracy: 0.8904\n",
      "Epoch 117/200\n",
      "15/15 [==============================] - 0s 10ms/step - loss: 0.2950 - accuracy: 0.8834 - val_loss: 0.3338 - val_accuracy: 0.8682\n",
      "Epoch 118/200\n",
      "15/15 [==============================] - 0s 10ms/step - loss: 0.3010 - accuracy: 0.8770 - val_loss: 0.3032 - val_accuracy: 0.8835\n",
      "Epoch 119/200\n",
      "15/15 [==============================] - 0s 9ms/step - loss: 0.3202 - accuracy: 0.8702 - val_loss: 0.2855 - val_accuracy: 0.8924\n",
      "Epoch 120/200\n",
      "15/15 [==============================] - 0s 9ms/step - loss: 0.3113 - accuracy: 0.8737 - val_loss: 0.2869 - val_accuracy: 0.8894\n",
      "Epoch 121/200\n",
      "15/15 [==============================] - 0s 10ms/step - loss: 0.3188 - accuracy: 0.8682 - val_loss: 0.2846 - val_accuracy: 0.8899\n",
      "Epoch 122/200\n",
      "15/15 [==============================] - 0s 9ms/step - loss: 0.3157 - accuracy: 0.8703 - val_loss: 0.2840 - val_accuracy: 0.8894\n",
      "Epoch 123/200\n",
      "15/15 [==============================] - 0s 9ms/step - loss: 0.3092 - accuracy: 0.8760 - val_loss: 0.2868 - val_accuracy: 0.8929\n",
      "Epoch 124/200\n",
      "15/15 [==============================] - 0s 10ms/step - loss: 0.2978 - accuracy: 0.8751 - val_loss: 0.3099 - val_accuracy: 0.8776\n",
      "Epoch 125/200\n",
      "15/15 [==============================] - 0s 9ms/step - loss: 0.3147 - accuracy: 0.8714 - val_loss: 0.2957 - val_accuracy: 0.8870\n",
      "Epoch 126/200\n",
      "15/15 [==============================] - 0s 9ms/step - loss: 0.3012 - accuracy: 0.8783 - val_loss: 0.2839 - val_accuracy: 0.8875\n",
      "Epoch 127/200\n",
      "15/15 [==============================] - 0s 11ms/step - loss: 0.3193 - accuracy: 0.8754 - val_loss: 0.3036 - val_accuracy: 0.8835\n",
      "Epoch 128/200\n",
      "15/15 [==============================] - 0s 8ms/step - loss: 0.3006 - accuracy: 0.8769 - val_loss: 0.2878 - val_accuracy: 0.8904\n",
      "Epoch 129/200\n",
      "15/15 [==============================] - 0s 10ms/step - loss: 0.3059 - accuracy: 0.8757 - val_loss: 0.3021 - val_accuracy: 0.8825\n",
      "Epoch 130/200\n",
      "15/15 [==============================] - 0s 9ms/step - loss: 0.2947 - accuracy: 0.8825 - val_loss: 0.3110 - val_accuracy: 0.8761\n",
      "Epoch 131/200\n",
      "15/15 [==============================] - 0s 9ms/step - loss: 0.3084 - accuracy: 0.8735 - val_loss: 0.3163 - val_accuracy: 0.8736\n",
      "Epoch 132/200\n",
      "15/15 [==============================] - 0s 9ms/step - loss: 0.3084 - accuracy: 0.8778 - val_loss: 0.2891 - val_accuracy: 0.8889\n",
      "Epoch 133/200\n",
      "15/15 [==============================] - 0s 9ms/step - loss: 0.3079 - accuracy: 0.8724 - val_loss: 0.2872 - val_accuracy: 0.8899\n",
      "Epoch 134/200\n",
      "15/15 [==============================] - 0s 9ms/step - loss: 0.3248 - accuracy: 0.8637 - val_loss: 0.2844 - val_accuracy: 0.8880\n",
      "Epoch 135/200\n",
      "15/15 [==============================] - 0s 9ms/step - loss: 0.3225 - accuracy: 0.8678 - val_loss: 0.2945 - val_accuracy: 0.8860\n",
      "Epoch 136/200\n",
      "15/15 [==============================] - 0s 9ms/step - loss: 0.3041 - accuracy: 0.8794 - val_loss: 0.3052 - val_accuracy: 0.8815\n",
      "Epoch 137/200\n",
      "15/15 [==============================] - 0s 8ms/step - loss: 0.3068 - accuracy: 0.8749 - val_loss: 0.3077 - val_accuracy: 0.8791\n",
      "Epoch 138/200\n",
      "15/15 [==============================] - 0s 9ms/step - loss: 0.3022 - accuracy: 0.8774 - val_loss: 0.2841 - val_accuracy: 0.8875\n",
      "Epoch 139/200\n",
      "15/15 [==============================] - 0s 9ms/step - loss: 0.3114 - accuracy: 0.8715 - val_loss: 0.3476 - val_accuracy: 0.8648\n",
      "Epoch 140/200\n",
      "15/15 [==============================] - 0s 9ms/step - loss: 0.2979 - accuracy: 0.8818 - val_loss: 0.3019 - val_accuracy: 0.8825\n",
      "Epoch 141/200\n",
      "15/15 [==============================] - 0s 9ms/step - loss: 0.3029 - accuracy: 0.8801 - val_loss: 0.3306 - val_accuracy: 0.8707\n",
      "Epoch 142/200\n",
      "15/15 [==============================] - 0s 9ms/step - loss: 0.3070 - accuracy: 0.8764 - val_loss: 0.2891 - val_accuracy: 0.8894\n",
      "Epoch 143/200\n",
      "15/15 [==============================] - 0s 9ms/step - loss: 0.3044 - accuracy: 0.8741 - val_loss: 0.3107 - val_accuracy: 0.8751\n",
      "Epoch 144/200\n",
      "15/15 [==============================] - 0s 9ms/step - loss: 0.2946 - accuracy: 0.8818 - val_loss: 0.2834 - val_accuracy: 0.8894\n",
      "Epoch 145/200\n",
      "15/15 [==============================] - 0s 9ms/step - loss: 0.3155 - accuracy: 0.8705 - val_loss: 0.2846 - val_accuracy: 0.8889\n",
      "Epoch 146/200\n",
      "15/15 [==============================] - 0s 9ms/step - loss: 0.3223 - accuracy: 0.8636 - val_loss: 0.2943 - val_accuracy: 0.8855\n",
      "Epoch 147/200\n",
      "15/15 [==============================] - 0s 10ms/step - loss: 0.3054 - accuracy: 0.8767 - val_loss: 0.3137 - val_accuracy: 0.8717\n",
      "Epoch 148/200\n",
      "15/15 [==============================] - 0s 9ms/step - loss: 0.3097 - accuracy: 0.8721 - val_loss: 0.3268 - val_accuracy: 0.8712\n",
      "Epoch 149/200\n",
      "15/15 [==============================] - 0s 9ms/step - loss: 0.3114 - accuracy: 0.8735 - val_loss: 0.2986 - val_accuracy: 0.8830\n",
      "Epoch 150/200\n",
      "15/15 [==============================] - 0s 9ms/step - loss: 0.2984 - accuracy: 0.8759 - val_loss: 0.3294 - val_accuracy: 0.8697\n",
      "Epoch 151/200\n",
      "15/15 [==============================] - 0s 9ms/step - loss: 0.3024 - accuracy: 0.8809 - val_loss: 0.3017 - val_accuracy: 0.8815\n",
      "Epoch 152/200\n",
      "15/15 [==============================] - 0s 9ms/step - loss: 0.3064 - accuracy: 0.8778 - val_loss: 0.3403 - val_accuracy: 0.8662\n",
      "Epoch 153/200\n",
      "15/15 [==============================] - 0s 9ms/step - loss: 0.3069 - accuracy: 0.8725 - val_loss: 0.3330 - val_accuracy: 0.8682\n",
      "Epoch 154/200\n",
      "15/15 [==============================] - 0s 8ms/step - loss: 0.3019 - accuracy: 0.8768 - val_loss: 0.2902 - val_accuracy: 0.8880\n",
      "Epoch 155/200\n",
      "15/15 [==============================] - 0s 9ms/step - loss: 0.3072 - accuracy: 0.8718 - val_loss: 0.2846 - val_accuracy: 0.8914\n",
      "Epoch 156/200\n",
      "15/15 [==============================] - 0s 9ms/step - loss: 0.3023 - accuracy: 0.8782 - val_loss: 0.2878 - val_accuracy: 0.8885\n",
      "Epoch 157/200\n",
      "15/15 [==============================] - 0s 9ms/step - loss: 0.2932 - accuracy: 0.8802 - val_loss: 0.3136 - val_accuracy: 0.8727\n",
      "Epoch 158/200\n",
      "15/15 [==============================] - 0s 9ms/step - loss: 0.3048 - accuracy: 0.8753 - val_loss: 0.3400 - val_accuracy: 0.8653\n",
      "Epoch 159/200\n",
      "15/15 [==============================] - 0s 9ms/step - loss: 0.3013 - accuracy: 0.8736 - val_loss: 0.3282 - val_accuracy: 0.8697\n",
      "Epoch 160/200\n",
      "15/15 [==============================] - 0s 9ms/step - loss: 0.3100 - accuracy: 0.8714 - val_loss: 0.3171 - val_accuracy: 0.8722\n",
      "Epoch 161/200\n",
      "15/15 [==============================] - 0s 9ms/step - loss: 0.3141 - accuracy: 0.8762 - val_loss: 0.2833 - val_accuracy: 0.8909\n",
      "Epoch 162/200\n",
      "15/15 [==============================] - 0s 8ms/step - loss: 0.2994 - accuracy: 0.8758 - val_loss: 0.2854 - val_accuracy: 0.8885\n",
      "Epoch 163/200\n",
      "15/15 [==============================] - 0s 9ms/step - loss: 0.3089 - accuracy: 0.8719 - val_loss: 0.2828 - val_accuracy: 0.8909\n",
      "Epoch 164/200\n",
      "15/15 [==============================] - 0s 10ms/step - loss: 0.3173 - accuracy: 0.8670 - val_loss: 0.2915 - val_accuracy: 0.8860\n",
      "Epoch 165/200\n",
      "15/15 [==============================] - 0s 9ms/step - loss: 0.3106 - accuracy: 0.8704 - val_loss: 0.2842 - val_accuracy: 0.8904\n",
      "Epoch 166/200\n",
      "15/15 [==============================] - 0s 9ms/step - loss: 0.2944 - accuracy: 0.8808 - val_loss: 0.2962 - val_accuracy: 0.8845\n",
      "Epoch 167/200\n",
      "15/15 [==============================] - 0s 9ms/step - loss: 0.2979 - accuracy: 0.8779 - val_loss: 0.2872 - val_accuracy: 0.8885\n",
      "Epoch 168/200\n",
      "15/15 [==============================] - 0s 9ms/step - loss: 0.2995 - accuracy: 0.8782 - val_loss: 0.2860 - val_accuracy: 0.8909\n",
      "Epoch 169/200\n",
      "15/15 [==============================] - 0s 10ms/step - loss: 0.3048 - accuracy: 0.8759 - val_loss: 0.2862 - val_accuracy: 0.8899\n",
      "Epoch 170/200\n",
      "15/15 [==============================] - 0s 9ms/step - loss: 0.3080 - accuracy: 0.8728 - val_loss: 0.2927 - val_accuracy: 0.8855\n",
      "Epoch 171/200\n",
      "15/15 [==============================] - 0s 9ms/step - loss: 0.2950 - accuracy: 0.8826 - val_loss: 0.2887 - val_accuracy: 0.8880\n",
      "Epoch 172/200\n"
     ]
    },
    {
     "name": "stdout",
     "output_type": "stream",
     "text": [
      "15/15 [==============================] - 0s 9ms/step - loss: 0.3011 - accuracy: 0.8751 - val_loss: 0.2829 - val_accuracy: 0.8870\n",
      "Epoch 173/200\n",
      "15/15 [==============================] - 0s 9ms/step - loss: 0.3034 - accuracy: 0.8755 - val_loss: 0.2831 - val_accuracy: 0.8929\n",
      "Epoch 174/200\n",
      "15/15 [==============================] - 0s 9ms/step - loss: 0.3078 - accuracy: 0.8751 - val_loss: 0.2880 - val_accuracy: 0.8885\n",
      "Epoch 175/200\n",
      "15/15 [==============================] - 0s 9ms/step - loss: 0.2915 - accuracy: 0.8809 - val_loss: 0.2840 - val_accuracy: 0.8914\n",
      "Epoch 176/200\n",
      "15/15 [==============================] - 0s 9ms/step - loss: 0.3056 - accuracy: 0.8711 - val_loss: 0.2825 - val_accuracy: 0.8909\n",
      "Epoch 177/200\n",
      "15/15 [==============================] - 0s 9ms/step - loss: 0.3043 - accuracy: 0.8724 - val_loss: 0.3057 - val_accuracy: 0.8810\n",
      "Epoch 178/200\n",
      "15/15 [==============================] - 0s 9ms/step - loss: 0.3199 - accuracy: 0.8674 - val_loss: 0.3246 - val_accuracy: 0.8697\n",
      "Epoch 179/200\n",
      "15/15 [==============================] - 0s 8ms/step - loss: 0.3042 - accuracy: 0.8736 - val_loss: 0.2889 - val_accuracy: 0.8894\n",
      "Epoch 180/200\n",
      "15/15 [==============================] - 0s 9ms/step - loss: 0.3010 - accuracy: 0.8745 - val_loss: 0.3012 - val_accuracy: 0.8845\n",
      "Epoch 181/200\n",
      "15/15 [==============================] - 0s 9ms/step - loss: 0.3068 - accuracy: 0.8729 - val_loss: 0.2828 - val_accuracy: 0.8914\n",
      "Epoch 182/200\n",
      "15/15 [==============================] - 0s 9ms/step - loss: 0.3014 - accuracy: 0.8780 - val_loss: 0.2897 - val_accuracy: 0.8899\n",
      "Epoch 183/200\n",
      "15/15 [==============================] - 0s 9ms/step - loss: 0.2902 - accuracy: 0.8842 - val_loss: 0.2831 - val_accuracy: 0.8924\n",
      "Epoch 184/200\n",
      "15/15 [==============================] - 0s 9ms/step - loss: 0.2974 - accuracy: 0.8799 - val_loss: 0.3128 - val_accuracy: 0.8722\n",
      "Epoch 185/200\n",
      "15/15 [==============================] - 0s 9ms/step - loss: 0.2989 - accuracy: 0.8745 - val_loss: 0.2938 - val_accuracy: 0.8850\n",
      "Epoch 186/200\n",
      "15/15 [==============================] - 0s 9ms/step - loss: 0.3004 - accuracy: 0.8755 - val_loss: 0.2850 - val_accuracy: 0.8889\n",
      "Epoch 187/200\n",
      "15/15 [==============================] - 0s 9ms/step - loss: 0.3194 - accuracy: 0.8690 - val_loss: 0.2854 - val_accuracy: 0.8909\n",
      "Epoch 188/200\n",
      "15/15 [==============================] - 0s 9ms/step - loss: 0.3054 - accuracy: 0.8743 - val_loss: 0.2930 - val_accuracy: 0.8870\n",
      "Epoch 189/200\n",
      "15/15 [==============================] - 0s 9ms/step - loss: 0.3070 - accuracy: 0.8708 - val_loss: 0.3367 - val_accuracy: 0.8672\n",
      "Epoch 190/200\n",
      "15/15 [==============================] - 0s 9ms/step - loss: 0.3128 - accuracy: 0.8699 - val_loss: 0.3129 - val_accuracy: 0.8761\n",
      "Epoch 191/200\n",
      "15/15 [==============================] - 0s 9ms/step - loss: 0.3153 - accuracy: 0.8701 - val_loss: 0.2934 - val_accuracy: 0.8855\n",
      "Epoch 192/200\n",
      "15/15 [==============================] - 0s 20ms/step - loss: 0.3006 - accuracy: 0.8752 - val_loss: 0.2838 - val_accuracy: 0.8914\n",
      "Epoch 193/200\n",
      "15/15 [==============================] - 0s 9ms/step - loss: 0.2911 - accuracy: 0.8793 - val_loss: 0.2899 - val_accuracy: 0.8875\n",
      "Epoch 194/200\n",
      "15/15 [==============================] - 0s 8ms/step - loss: 0.3021 - accuracy: 0.8743 - val_loss: 0.2862 - val_accuracy: 0.8904\n",
      "Epoch 195/200\n",
      "15/15 [==============================] - 0s 9ms/step - loss: 0.2941 - accuracy: 0.8817 - val_loss: 0.2856 - val_accuracy: 0.8909\n",
      "Epoch 196/200\n",
      "15/15 [==============================] - 0s 9ms/step - loss: 0.3069 - accuracy: 0.8786 - val_loss: 0.2876 - val_accuracy: 0.8889\n",
      "Epoch 197/200\n",
      "15/15 [==============================] - 0s 9ms/step - loss: 0.3032 - accuracy: 0.8744 - val_loss: 0.2965 - val_accuracy: 0.8825\n",
      "Epoch 198/200\n",
      "15/15 [==============================] - 0s 9ms/step - loss: 0.2968 - accuracy: 0.8754 - val_loss: 0.3055 - val_accuracy: 0.8756\n",
      "Epoch 199/200\n",
      "15/15 [==============================] - 0s 8ms/step - loss: 0.3031 - accuracy: 0.8765 - val_loss: 0.2990 - val_accuracy: 0.8840\n",
      "Epoch 200/200\n",
      "15/15 [==============================] - 0s 9ms/step - loss: 0.2984 - accuracy: 0.8778 - val_loss: 0.3242 - val_accuracy: 0.8697\n",
      "Time:  28.504519028996583\n"
     ]
    }
   ],
   "source": [
    "import timeit\n",
    "\n",
    "start = timeit.default_timer()\n",
    "\n",
    "#Your statements here\n",
    "\n",
    "bestNNNEW=create_modelWithDropBatch(hidden_layers= 4, learning_rate= 0.001)\n",
    "historyNEW= bestNNNEW.fit(\n",
    "     IndependentComponentValues, y_train_res,\n",
    "    validation_data=(icavalidData, y_valid),\n",
    "    batch_size=512,\n",
    "    epochs=200,\n",
    "#     callbacks=[early_stopping],\n",
    ")\n",
    "stop = timeit.default_timer()\n",
    "\n",
    "print('Time: ', stop - start)  \n",
    "\n"
   ]
  },
  {
   "cell_type": "code",
   "execution_count": 30,
   "metadata": {},
   "outputs": [],
   "source": [
    "\n",
    "def plotconfusionMatrix(modelObj,ytest,xtest):\n",
    "#     model_DecTreeClass2.fit(X_train_res, y_train_res)\n",
    "    y_pred_DecTreeClass2 = modelObj.predict_classes(xtest)\n",
    "    conf_mat2 = metrics.confusion_matrix(ytest, y_pred_DecTreeClass2)\n",
    "    plt.figure(figsize=(8,6))\n",
    "    sns.heatmap(conf_mat2,annot=True)\n",
    "    plt.title(\"Confusion_matrix\")\n",
    "    plt.xlabel(\"Predicted Class\")\n",
    "    plt.ylabel(\"Actual class\")\n",
    "    plt.show()\n",
    "    print('Confusion matrix: \\n', conf_mat2)\n",
    "    print('TP: ', conf_mat2[1,1])\n",
    "    print('TN: ', conf_mat2[0,0])\n",
    "    print('FP: ', conf_mat2[0,1])\n",
    "    print('FN: ', conf_mat2[1,0])\n",
    "\n",
    "def getMetrics(modelObj,xTrain,yTrain,xValid,yValid):\n",
    "    y_pred_DecTreeClass2 = modelObj.predict_classes(xValid)\n",
    "    print('Classification report: \\n', metrics.classification_report(yValid, y_pred_DecTreeClass2))\n",
    "    print('Training Accuracy_Score:',metrics.accuracy_score(yTrain, modelObj.predict_classes(xTrain))*100,'%')\n",
    "    print('Training Precision:',metrics.precision_score(yTrain, modelObj.predict_classes(xTrain))*100,'%')\n",
    "    print('Training Recall:',metrics.recall_score(yTrain, modelObj.predict_classes(xTrain))*100,'%')\n",
    "    \n",
    "    print('Training F1 Score:',metrics.f1_score(yTrain, modelObj.predict_classes(xTrain))*100,'%')\n",
    "\n",
    "    \n",
    "    print('Validation Accuracy_Score:',metrics.accuracy_score(yValid, y_pred_DecTreeClass2)*100,'%')\n",
    "    print('Validation Precision:',metrics.precision_score(yValid, y_pred_DecTreeClass2)*100,'%')\n",
    "    print('Validation Recall:',metrics.recall_score(yValid, y_pred_DecTreeClass2)*100,'%')\n",
    "    \n",
    "    print('Validation F1 Score:',metrics.f1_score(yValid, y_pred_DecTreeClass2)*100,'%')\n",
    "\n"
   ]
  },
  {
   "cell_type": "code",
   "execution_count": 43,
   "metadata": {
    "scrolled": false
   },
   "outputs": [
    {
     "data": {
      "text/plain": [
       "<AxesSubplot:title={'center':'Accuracy'}>"
      ]
     },
     "execution_count": 43,
     "metadata": {},
     "output_type": "execute_result"
    },
    {
     "data": {
      "image/png": "[encoded data removed]",
      "text/plain": [
       "<Figure size 432x288 with 1 Axes>"
      ]
     },
     "metadata": {
      "needs_background": "light"
     },
     "output_type": "display_data"
    },
    {
     "data": {
      "image/png": "[encoded data removed]",
      "text/plain": [
       "<Figure size 432x288 with 1 Axes>"
      ]
     },
     "metadata": {
      "needs_background": "light"
     },
     "output_type": "display_data"
    }
   ],
   "source": [
    "history_df = pd.DataFrame(historyNEW.history)\n",
    "history_df.loc[:, ['loss', 'val_loss']].plot(title=\"Cross-entropy\")\n",
    "history_df.loc[:, ['accuracy', 'val_accuracy']].plot(title=\"Accuracy\")\n",
    "\n",
    "\n"
   ]
  },
  {
   "cell_type": "code",
   "execution_count": 45,
   "metadata": {},
   "outputs": [
    {
     "name": "stderr",
     "output_type": "stream",
     "text": [
      "/home/dheekshitha-vibha/miniconda3/envs/myenv/lib/python3.6/site-packages/tensorflow/python/keras/engine/sequential.py:450: UserWarning: `model.predict_classes()` is deprecated and will be removed after 2021-01-01. Please use instead:* `np.argmax(model.predict(x), axis=-1)`,   if your model does multi-class classification   (e.g. if it uses a `softmax` last-layer activation).* `(model.predict(x) > 0.5).astype(\"int32\")`,   if your model does binary classification   (e.g. if it uses a `sigmoid` last-layer activation).\n",
      "  warnings.warn('`model.predict_classes()` is deprecated and '\n"
     ]
    },
    {
     "data": {
      "image/png": "[encoded data removed]",
      "text/plain": [
       "<Figure size 576x432 with 2 Axes>"
      ]
     },
     "metadata": {
      "needs_background": "light"
     },
     "output_type": "display_data"
    },
    {
     "name": "stdout",
     "output_type": "stream",
     "text": [
      "Confusion matrix: \n",
      " [[ 220  119]\n",
      " [ 145 1542]]\n",
      "TP:  1542\n",
      "TN:  220\n",
      "FP:  119\n",
      "FN:  145\n",
      "Classification report: \n",
      "               precision    recall  f1-score   support\n",
      "\n",
      "           0       0.60      0.65      0.62       339\n",
      "           1       0.93      0.91      0.92      1687\n",
      "\n",
      "    accuracy                           0.87      2026\n",
      "   macro avg       0.77      0.78      0.77      2026\n",
      "weighted avg       0.87      0.87      0.87      2026\n",
      "\n"
     ]
    },
    {
     "name": "stderr",
     "output_type": "stream",
     "text": [
      "/home/dheekshitha-vibha/miniconda3/envs/myenv/lib/python3.6/site-packages/tensorflow/python/keras/engine/sequential.py:450: UserWarning: `model.predict_classes()` is deprecated and will be removed after 2021-01-01. Please use instead:* `np.argmax(model.predict(x), axis=-1)`,   if your model does multi-class classification   (e.g. if it uses a `softmax` last-layer activation).* `(model.predict(x) > 0.5).astype(\"int32\")`,   if your model does binary classification   (e.g. if it uses a `sigmoid` last-layer activation).\n",
      "  warnings.warn('`model.predict_classes()` is deprecated and '\n",
      "/home/dheekshitha-vibha/miniconda3/envs/myenv/lib/python3.6/site-packages/tensorflow/python/keras/engine/sequential.py:450: UserWarning: `model.predict_classes()` is deprecated and will be removed after 2021-01-01. Please use instead:* `np.argmax(model.predict(x), axis=-1)`,   if your model does multi-class classification   (e.g. if it uses a `softmax` last-layer activation).* `(model.predict(x) > 0.5).astype(\"int32\")`,   if your model does binary classification   (e.g. if it uses a `sigmoid` last-layer activation).\n",
      "  warnings.warn('`model.predict_classes()` is deprecated and '\n"
     ]
    },
    {
     "name": "stdout",
     "output_type": "stream",
     "text": [
      "Training Accuracy_Score: 87.55700325732899 %\n"
     ]
    },
    {
     "name": "stderr",
     "output_type": "stream",
     "text": [
      "/home/dheekshitha-vibha/miniconda3/envs/myenv/lib/python3.6/site-packages/tensorflow/python/keras/engine/sequential.py:450: UserWarning: `model.predict_classes()` is deprecated and will be removed after 2021-01-01. Please use instead:* `np.argmax(model.predict(x), axis=-1)`,   if your model does multi-class classification   (e.g. if it uses a `softmax` last-layer activation).* `(model.predict(x) > 0.5).astype(\"int32\")`,   if your model does binary classification   (e.g. if it uses a `sigmoid` last-layer activation).\n",
      "  warnings.warn('`model.predict_classes()` is deprecated and '\n"
     ]
    },
    {
     "name": "stdout",
     "output_type": "stream",
     "text": [
      "Training Precision: 89.91177598772535 %\n"
     ]
    },
    {
     "name": "stderr",
     "output_type": "stream",
     "text": [
      "/home/dheekshitha-vibha/miniconda3/envs/myenv/lib/python3.6/site-packages/tensorflow/python/keras/engine/sequential.py:450: UserWarning: `model.predict_classes()` is deprecated and will be removed after 2021-01-01. Please use instead:* `np.argmax(model.predict(x), axis=-1)`,   if your model does multi-class classification   (e.g. if it uses a `softmax` last-layer activation).* `(model.predict(x) > 0.5).astype(\"int32\")`,   if your model does binary classification   (e.g. if it uses a `sigmoid` last-layer activation).\n",
      "  warnings.warn('`model.predict_classes()` is deprecated and '\n"
     ]
    },
    {
     "name": "stdout",
     "output_type": "stream",
     "text": [
      "Training Recall: 91.61618135626344 %\n"
     ]
    },
    {
     "name": "stderr",
     "output_type": "stream",
     "text": [
      "/home/dheekshitha-vibha/miniconda3/envs/myenv/lib/python3.6/site-packages/tensorflow/python/keras/engine/sequential.py:450: UserWarning: `model.predict_classes()` is deprecated and will be removed after 2021-01-01. Please use instead:* `np.argmax(model.predict(x), axis=-1)`,   if your model does multi-class classification   (e.g. if it uses a `softmax` last-layer activation).* `(model.predict(x) > 0.5).astype(\"int32\")`,   if your model does binary classification   (e.g. if it uses a `sigmoid` last-layer activation).\n",
      "  warnings.warn('`model.predict_classes()` is deprecated and '\n"
     ]
    },
    {
     "name": "stdout",
     "output_type": "stream",
     "text": [
      "Training F1 Score: 90.75597715613203 %\n",
      "Validation Accuracy_Score: 86.96939782823297 %\n",
      "Validation Precision: 92.83564118001205 %\n",
      "Validation Recall: 91.40486069946651 %\n",
      "Validation F1 Score: 92.11469534050178 %\n"
     ]
    }
   ],
   "source": [
    "plotconfusionMatrix(bestNNNEW,y_valid['Attrition_Flag'],icavalidData)\n",
    "\n",
    "getMetrics(bestNNNEW,IndependentComponentValues,y_train_res['Attrition_Flag'],icavalidData,y_valid['Attrition_Flag'])"
   ]
  },
  {
   "cell_type": "code",
   "execution_count": null,
   "metadata": {},
   "outputs": [],
   "source": []
  }
 ],
 "metadata": {
  "kernelspec": {
   "display_name": "myenv",
   "language": "python",
   "name": "myenv"
  },
  "language_info": {
   "codemirror_mode": {
    "name": "ipython",
    "version": 3
   },
   "file_extension": ".py",
   "mimetype": "text/x-python",
   "name": "python",
   "nbconvert_exporter": "python",
   "pygments_lexer": "ipython3",
   "version": "3.6.12"
  }
 },
 "nbformat": 4,
 "nbformat_minor": 4
}
