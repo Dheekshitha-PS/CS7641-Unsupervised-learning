{
 "cells": [
  {
   "cell_type": "code",
   "execution_count": 43,
   "metadata": {},
   "outputs": [],
   "source": [
    "import pickle as pk\n",
    "import pandas as pd\n",
    "import numpy as np\n",
    "import copy\n",
    "\n",
    "data=pd.read_csv(\"./Data/BankChurners.csv\")\n",
    "\n",
    "data['Attrition_Flag'] = data['Attrition_Flag'].map({1: 'Existing Customer', 0: 'Attrited Customer'})\n"
   ]
  },
  {
   "cell_type": "code",
   "execution_count": 44,
   "metadata": {},
   "outputs": [],
   "source": [
    "import numpy as np # linear algebra\n",
    "import pandas as pd # data processing, CSV file I/O (e.g. pd.read_csv)\n",
    "import matplotlib.pyplot as plt\n",
    "import seaborn as sns\n",
    "%matplotlib inline\n",
    "\n",
    "\n",
    "from sklearn.tree import DecisionTreeClassifier\n",
    "from sklearn.metrics import roc_curve, auc\n",
    "\n",
    "from sklearn.model_selection import KFold, cross_val_score\n",
    "from sklearn.preprocessing import StandardScaler, OneHotEncoder, LabelEncoder\n",
    "\n",
    "# # print)str\n",
    "# scaled_x_train=pd.read_csv(\"./Data/scaled_x_train_smote2.csv\")\n",
    "# scaled_x_test=pd.read_csv(\"./Data/scaled_x_test_smote2.csv\")\n",
    "# # pd.read_csv(\"./Data/scaled_x_test_smote2.csv\")\n",
    "# scaled_x_cv=pd.read_csv(\"./Data/scaled_x_cv_smote2.csv\")\n",
    "\n",
    "y_test_copy=pd.read_csv(\"./Data/y_test_smote3.csv\")\n",
    "x_test=pd.read_csv(\"./Data/x_test_smote3.csv\")\n",
    "\n",
    "X_train_res=pd.read_csv(\"./Data/X_train_res_smote3.csv\")\n",
    "y_train_res=pd.read_csv(\"./Data/y_train_res_smote3.csv\")\n",
    "\n",
    "X_train_res=X_train_res.drop('Unnamed: 0',axis=1)\n",
    "y_train_res=y_train_res.drop('Unnamed: 0',axis=1)\n",
    "x_test=x_test.drop('Unnamed: 0',axis=1)\n",
    "\n",
    "\n",
    "y_test_copy=y_test_copy.drop('Unnamed: 0',axis=1)\n",
    "# scaled_x_test=scaled_x_test.drop('Unnamed: 0',axis=1)\n",
    "# scaled_x_cv=scaled_x_cv.drop('Unnamed: 0',axis=1)\n",
    "\n",
    "\n",
    "y_test=y_test_copy\n",
    "\n",
    "y_valid=pd.read_csv(\"./Data/y_valid_smote3.csv\")\n",
    "x_valid=pd.read_csv(\"./Data/x_valid_smote3.csv\")\n",
    "\n",
    "x_valid=x_valid.drop('Unnamed: 0',axis=1)\n",
    "y_valid=y_valid.drop('Unnamed: 0',axis=1)\n",
    "\n",
    "y_valid.shape\n",
    "\n",
    "\n",
    "\n",
    "\n",
    "y_train_res['Attrition_Flag']=y_train_res['Attrition_Flag'].map({'Existing Customer': 1, 'Attrited Customer': 0})\n",
    "y_valid['Attrition_Flag']=y_valid['Attrition_Flag'].map({'Existing Customer': 1, 'Attrited Customer': 0})\n",
    "y_test_copy['Attrition_Flag']=y_test_copy['Attrition_Flag'].map({'Existing Customer': 1, 'Attrited Customer': 0})\n",
    "\n"
   ]
  },
  {
   "cell_type": "code",
   "execution_count": 3,
   "metadata": {},
   "outputs": [
    {
     "data": {
      "text/plain": [
       "(7675, 32)"
      ]
     },
     "execution_count": 3,
     "metadata": {},
     "output_type": "execute_result"
    }
   ],
   "source": [
    "#  Scaling features\n",
    "scaler = StandardScaler()\n",
    "scaler.fit(X_train_res)\n",
    "\n",
    "scaled_x_train = scaler.transform(X_train_res)\n",
    "scaled_x_test = scaler.transform(x_test)\n",
    "\n",
    "\n",
    "scaled_x_valid=scaler.transform(x_valid)\n",
    "# scaled_y_cv =scaler.transform(y_cv)\n",
    "\n",
    "scaled_x_train.shape\n",
    "\n",
    "\n",
    "scaled_x_train.shape"
   ]
  },
  {
   "cell_type": "code",
   "execution_count": 45,
   "metadata": {},
   "outputs": [],
   "source": [
    "from sklearn.cluster import KMeans\n",
    "from sklearn.metrics import silhouette_samples, silhouette_score"
   ]
  },
  {
   "cell_type": "code",
   "execution_count": 46,
   "metadata": {},
   "outputs": [],
   "source": [
    "X=scaled_x_train\n",
    "from sklearn import mixture"
   ]
  },
  {
   "cell_type": "code",
   "execution_count": 9,
   "metadata": {
    "scrolled": true
   },
   "outputs": [],
   "source": [
    "gmm = mixture.GaussianMixture(n_components=5,\n",
    "                                      covariance_type='diag')\n",
    "gmmData=gmm.fit(X)\n",
    "\n",
    "\n",
    "\n",
    "df=pd.DataFrame(columns=X_train_res.columns)\n",
    "df.shape\n",
    "\n",
    "df=pd.DataFrame(scaled_x_train)\n",
    "df.columns=X_train_res.columns\n",
    "\n",
    "\n",
    "\n",
    "#                 ['k_means','target','1','2','3','4','5'])\n",
    "# df['5']=scaled_x_train[:,5]\n",
    "# df['6']=scaled_x_train[:,6]\n",
    "# df['k_means']\n",
    "=gmmData.predict_proba(X)\n",
    "# df['target']=y_train_res\n",
    "# print(df.shape)"
   ]
  },
  {
   "cell_type": "code",
   "execution_count": 47,
   "metadata": {},
   "outputs": [],
   "source": [
    "Xvalid=gmm.predict_proba(scaled_x_valid)"
   ]
  },
  {
   "cell_type": "code",
   "execution_count": 48,
   "metadata": {},
   "outputs": [
    {
     "data": {
      "text/plain": [
       "array([[1.00000000e+00, 0.00000000e+00, 3.16147350e-16, 0.00000000e+00,\n",
       "        4.79056587e-36],\n",
       "       [0.00000000e+00, 1.00000000e+00, 0.00000000e+00, 0.00000000e+00,\n",
       "        0.00000000e+00],\n",
       "       [1.00000000e+00, 0.00000000e+00, 0.00000000e+00, 0.00000000e+00,\n",
       "        5.67792316e-23],\n",
       "       ...,\n",
       "       [0.00000000e+00, 0.00000000e+00, 0.00000000e+00, 1.00000000e+00,\n",
       "        0.00000000e+00],\n",
       "       [0.00000000e+00, 0.00000000e+00, 1.00000000e+00, 0.00000000e+00,\n",
       "        1.79222636e-24],\n",
       "       [1.00000000e+00, 0.00000000e+00, 4.52297816e-14, 0.00000000e+00,\n",
       "        8.91451607e-37]])"
      ]
     },
     "execution_count": 48,
     "metadata": {},
     "output_type": "execute_result"
    }
   ],
   "source": [
    "Xvalid"
   ]
  },
  {
   "cell_type": "code",
   "execution_count": 49,
   "metadata": {},
   "outputs": [
    {
     "data": {
      "text/plain": [
       "array([0, 1, 0, ..., 3, 2, 0])"
      ]
     },
     "execution_count": 49,
     "metadata": {},
     "output_type": "execute_result"
    }
   ],
   "source": [
    "XValidclusters=gmm.predict(scaled_x_valid)\n",
    "XValidclusters"
   ]
  },
  {
   "cell_type": "code",
   "execution_count": 50,
   "metadata": {
    "scrolled": true
   },
   "outputs": [],
   "source": [
    "XValidclusters=pd.DataFrame(XValidclusters,columns=[\"Cluster\"])"
   ]
  },
  {
   "cell_type": "code",
   "execution_count": 51,
   "metadata": {
    "scrolled": true
   },
   "outputs": [
    {
     "data": {
      "text/plain": [
       "(7675, 5)"
      ]
     },
     "execution_count": 51,
     "metadata": {},
     "output_type": "execute_result"
    }
   ],
   "source": [
    "XtrainClusters=gmm.predict(scaled_x_train)\n",
    "XtrainClusters=pd.DataFrame(XtrainClusters,columns=[\"Cluster\"])\n",
    "XtrainClustersEn = pd.get_dummies(XtrainClusters['Cluster'])\n",
    "XtrainClustersEn.shape"
   ]
  },
  {
   "cell_type": "code",
   "execution_count": 52,
   "metadata": {},
   "outputs": [],
   "source": [
    "Xtrain=gmmData.predict_proba(X)\n"
   ]
  },
  {
   "cell_type": "code",
   "execution_count": 53,
   "metadata": {},
   "outputs": [
    {
     "data": {
      "text/plain": [
       "(7675, 10)"
      ]
     },
     "execution_count": 53,
     "metadata": {},
     "output_type": "execute_result"
    }
   ],
   "source": [
    "z=np.array(XtrainClustersEn)\n",
    "z\n",
    "\n",
    "# XValidclustersEn[[0,1],]\n",
    "\n",
    "k=Xtrain\n",
    "\n",
    "\n",
    "XtrainData=np.append(k,z,1)\n",
    "XtrainData.shape"
   ]
  },
  {
   "cell_type": "code",
   "execution_count": 28,
   "metadata": {},
   "outputs": [],
   "source": [
    "# enc = OneHotEncoder(handle_unknown='ignore')"
   ]
  },
  {
   "cell_type": "code",
   "execution_count": 33,
   "metadata": {},
   "outputs": [],
   "source": [
    "# enc.fit(XValidclusters)"
   ]
  },
  {
   "cell_type": "code",
   "execution_count": 18,
   "metadata": {
    "scrolled": true
   },
   "outputs": [
    {
     "data": {
      "text/plain": [
       "array([0, 1, 2, 3, 4])"
      ]
     },
     "execution_count": 18,
     "metadata": {},
     "output_type": "execute_result"
    }
   ],
   "source": [
    "XValidclusters.Cluster.unique()"
   ]
  },
  {
   "cell_type": "code",
   "execution_count": 54,
   "metadata": {},
   "outputs": [
    {
     "data": {
      "text/plain": [
       "(2026, 5)"
      ]
     },
     "execution_count": 54,
     "metadata": {},
     "output_type": "execute_result"
    }
   ],
   "source": [
    "XValidclustersEn = pd.get_dummies(XValidclusters['Cluster'])\n",
    "XValidclustersEn.shape"
   ]
  },
  {
   "cell_type": "code",
   "execution_count": 46,
   "metadata": {
    "scrolled": true
   },
   "outputs": [
    {
     "data": {
      "text/plain": [
       "array([[ 7.35582623,  5.60375117,  7.18623168, ...,  5.14904066,\n",
       "         6.7546215 , 27.46151671],\n",
       "       [ 9.71587409,  8.92641324,  9.03088296, ...,  8.55344962,\n",
       "         9.24700354, 27.63178362],\n",
       "       [ 8.12208827,  7.48258923,  7.41857019, ...,  7.18346448,\n",
       "         7.68531536, 27.27520064],\n",
       "       ...,\n",
       "       [ 6.99264225,  5.48579692,  6.06326103, ...,  4.93452826,\n",
       "         6.32122702, 27.14940592],\n",
       "       [ 8.05842462,  7.22606344,  8.15337096, ...,  7.16621905,\n",
       "         4.44736499, 27.62435391],\n",
       "       [ 7.4890939 ,  5.34455036,  7.40699903, ...,  6.25830121,\n",
       "         6.86015692, 27.12932602]])"
      ]
     },
     "execution_count": 46,
     "metadata": {},
     "output_type": "execute_result"
    }
   ],
   "source": [
    "Xvalid"
   ]
  },
  {
   "cell_type": "code",
   "execution_count": 53,
   "metadata": {},
   "outputs": [
    {
     "data": {
      "text/plain": [
       "array([ 7.35582623,  5.60375117,  7.18623168,  6.49747395,  4.63301126,\n",
       "        5.90254497,  8.16734168, 12.38278229,  6.96429959,  7.46312683,\n",
       "        3.88727625,  6.54522355,  6.11853051,  5.14904066,  6.7546215 ,\n",
       "       27.46151671])"
      ]
     },
     "execution_count": 53,
     "metadata": {},
     "output_type": "execute_result"
    }
   ],
   "source": [
    "Xvalid[0]"
   ]
  },
  {
   "cell_type": "code",
   "execution_count": 55,
   "metadata": {
    "scrolled": false
   },
   "outputs": [
    {
     "data": {
      "text/plain": [
       "array([[1, 0, 0, 0, 0],\n",
       "       [0, 1, 0, 0, 0],\n",
       "       [1, 0, 0, 0, 0],\n",
       "       ...,\n",
       "       [0, 0, 0, 1, 0],\n",
       "       [0, 0, 1, 0, 0],\n",
       "       [1, 0, 0, 0, 0]], dtype=uint8)"
      ]
     },
     "execution_count": 55,
     "metadata": {},
     "output_type": "execute_result"
    }
   ],
   "source": [
    "z=np.array(XValidclustersEn)\n",
    "z"
   ]
  },
  {
   "cell_type": "code",
   "execution_count": 64,
   "metadata": {
    "scrolled": true
   },
   "outputs": [],
   "source": [
    "# XValidclustersEn[[0,1],]"
   ]
  },
  {
   "cell_type": "code",
   "execution_count": 56,
   "metadata": {},
   "outputs": [],
   "source": [
    "k=Xvalid\n"
   ]
  },
  {
   "cell_type": "code",
   "execution_count": 57,
   "metadata": {},
   "outputs": [],
   "source": [
    "XvalidData=np.append(k,z,1)"
   ]
  },
  {
   "cell_type": "code",
   "execution_count": null,
   "metadata": {},
   "outputs": [],
   "source": []
  },
  {
   "cell_type": "code",
   "execution_count": 14,
   "metadata": {},
   "outputs": [],
   "source": [
    "# df['k_means']=kmeanModel.predict(scaled_x_train)\n",
    "# df['target']=y_train_res\n"
   ]
  },
  {
   "cell_type": "code",
   "execution_count": 5,
   "metadata": {},
   "outputs": [],
   "source": [
    "# pca_reload = pk.load(open(\"pca_finalDF_data1.pkl\",'rb'))\n",
    "# result_new = pca_reload .transform(X)"
   ]
  },
  {
   "cell_type": "code",
   "execution_count": 59,
   "metadata": {},
   "outputs": [],
   "source": [
    "# pca_reload.shape\n",
    "# df['k_means']=kmeanModel.predict(scaled_x_train)\n",
    "# df['target']=y_train_res\n",
    "from sklearn.preprocessing import normalize\n",
    "scaled_XKmeans=normalize(XtrainData, norm='l2', axis=1, copy=True, return_norm=False)\n",
    "scaled_XValid=normalize(XvalidData, norm='l2', axis=1, copy=True, return_norm=False)"
   ]
  },
  {
   "cell_type": "code",
   "execution_count": 11,
   "metadata": {},
   "outputs": [],
   "source": [
    "def create_model(  hidden_layers,learning_rate):\n",
    "  # Initialize the constructor\n",
    "    model =  keras.Sequential()\n",
    "      # Add an input layer\n",
    "    activation='sigmoid'\n",
    "    model.add(layers.Dense(256, activation=activation, input_shape=input_shape))\n",
    "    for i in range(hidden_layers):\n",
    "          # Add one hidden layer\n",
    "        model.add(layers.Dense(8, activation=activation))\n",
    "\n",
    "      # Add an output layer \n",
    "    model.add(layers.Dense(1, activation=activation))\n",
    "    opt = keras.optimizers.Adam(learning_rate=learning_rate)\n",
    "      #compile model\n",
    "    model.compile(loss='binary_crossentropy', optimizer=opt, metrics=\n",
    "      ['accuracy'])\n",
    "\n",
    "    return model\n"
   ]
  },
  {
   "cell_type": "code",
   "execution_count": 60,
   "metadata": {},
   "outputs": [],
   "source": [
    "\n",
    "import joblib\n",
    "\n",
    "# joblib.dump(DTmodel, 'DTgrid_NLP.pkl')\n",
    "\n",
    "from sklearn import metrics\n",
    "\n",
    "# tfidf_vector_X = xtrain_tfidf_ngram.toarray()  #//shape - (3,6)\n",
    "# tfidf_vector_valid= xvalid_tfidf_ngram.toarray() #//shape - (3,6)\n",
    "# tfidf_vector_X = tfidf_vector_X[:, :, None] #//shape - (3,6,1) \n",
    "# tfidf_vector_valid = tfidf_vector_valid[:, :, None] #//shape - (3,6,1)\n",
    "\n",
    "\n",
    "# tfidf_vector_X.shape[1:]\n",
    "\n",
    "from tensorflow import keras\n",
    "from tensorflow.keras import layers\n",
    "\n",
    "# input_shape= [x_train.shape[1]]\n",
    "\n",
    "# NNmodel = create_model(optimizer='adam', activation = 'sigmoid', hidden_layers=1,learning_rate=0.01)\n",
    "\n",
    "\n",
    "\n",
    "\n",
    "from sklearn.model_selection import RandomizedSearchCV, GridSearchCV\n",
    "from sklearn.metrics import roc_auc_score\n",
    "from sklearn.model_selection import StratifiedKFold\n"
   ]
  },
  {
   "cell_type": "code",
   "execution_count": 61,
   "metadata": {},
   "outputs": [],
   "source": [
    "# sess.run(optimizer._lr)\n",
    "def create_modelWithDropBatch(  hidden_layers,learning_rate):\n",
    "  # Initialize the constructor\n",
    "    model =  keras.Sequential()\n",
    "      # Add an input layer\n",
    "    activation='sigmoid'\n",
    "    model.add(layers.Dense(256, activation=activation, input_shape=input_shape))\n",
    "    for i in range(hidden_layers):\n",
    "          # Add one hidden layer\n",
    "        model.add(layers.BatchNormalization())\n",
    "        model.add(layers.Dropout(0.5))\n",
    "        model.add(layers.Dense(8, activation='relu'))\n",
    "\n",
    "      # Add an output layer \n",
    "    model.add(layers.Dense(1, activation=activation))\n",
    "    opt = keras.optimizers.Adam(learning_rate=learning_rate)\n",
    "      #compile model\n",
    "    model.compile(loss='binary_crossentropy', optimizer=opt, metrics=\n",
    "      ['accuracy'])\n",
    "\n",
    "    return model\n",
    "\n"
   ]
  },
  {
   "cell_type": "code",
   "execution_count": 62,
   "metadata": {},
   "outputs": [],
   "source": [
    "from tensorflow.keras.wrappers.scikit_learn import KerasClassifier"
   ]
  },
  {
   "cell_type": "code",
   "execution_count": 20,
   "metadata": {},
   "outputs": [
    {
     "data": {
      "text/plain": [
       "[32]"
      ]
     },
     "execution_count": 20,
     "metadata": {},
     "output_type": "execute_result"
    }
   ],
   "source": [
    "# pca_finalDF.shape\n",
    "# input_shape"
   ]
  },
  {
   "cell_type": "code",
   "execution_count": 63,
   "metadata": {},
   "outputs": [],
   "source": [
    "model_Batch_drop_relu =  KerasClassifier(build_fn=create_modelWithDropBatch, verbose = False)  "
   ]
  },
  {
   "cell_type": "code",
   "execution_count": 27,
   "metadata": {},
   "outputs": [
    {
     "data": {
      "text/plain": [
       "(2026, 10)"
      ]
     },
     "execution_count": 27,
     "metadata": {},
     "output_type": "execute_result"
    }
   ],
   "source": [
    "XvalidData.shape"
   ]
  },
  {
   "cell_type": "code",
   "execution_count": 28,
   "metadata": {},
   "outputs": [],
   "source": [
    "# Xvalid."
   ]
  },
  {
   "cell_type": "code",
   "execution_count": 29,
   "metadata": {
    "scrolled": true
   },
   "outputs": [
    {
     "name": "stdout",
     "output_type": "stream",
     "text": [
      "{'hidden_layers': 2, 'learning_rate': 0.5}\n",
      "0.666710102558136\n"
     ]
    }
   ],
   "source": [
    "\n",
    "input_shape=[10]\n",
    "#\n",
    "model_Batch_drop_relu =  KerasClassifier(build_fn=create_modelWithDropBatch, verbose = False)  \n",
    "\n",
    "param_grid={'learning_rate':[0.1,0.001,0.01,0.05,0.05,0.5],'hidden_layers':[2,4,6,8,10]}\n",
    "\n",
    "gridNN_Batch_drop_relu = GridSearchCV(estimator = model_Batch_drop_relu, param_grid = param_grid)\n",
    "\n",
    "model_Batch_drop_relu.get_params()\n",
    "\n",
    "history_Batch_drop_relu = gridNN_Batch_drop_relu.fit(\n",
    "     XtrainData, y_train_res,\n",
    "    validation_data=(XvalidData, y_valid),\n",
    "    batch_size=512,\n",
    "    epochs=200,\n",
    "#     callbacks=[early_stopping],\n",
    ")\n",
    "\n",
    "print(history_Batch_drop_relu.best_params_)\n",
    "\n",
    "print(history_Batch_drop_relu.best_score_)\n",
    "# print(grid.best_params_)"
   ]
  },
  {
   "cell_type": "code",
   "execution_count": 39,
   "metadata": {
    "collapsed": true
   },
   "outputs": [
    {
     "ename": "AttributeError",
     "evalue": "'GridSearchCV' object has no attribute 'history'",
     "output_type": "error",
     "traceback": [
      "\u001b[0;31m---------------------------------------------------------------------------\u001b[0m",
      "\u001b[0;31mAttributeError\u001b[0m                            Traceback (most recent call last)",
      "\u001b[0;32m<ipython-input-39-fe634b9d4efb>\u001b[0m in \u001b[0;36m<module>\u001b[0;34m\u001b[0m\n\u001b[0;32m----> 1\u001b[0;31m \u001b[0mhistory_df\u001b[0m \u001b[0;34m=\u001b[0m \u001b[0mpd\u001b[0m\u001b[0;34m.\u001b[0m\u001b[0mDataFrame\u001b[0m\u001b[0;34m(\u001b[0m\u001b[0mhistory_Batch_drop_relu\u001b[0m\u001b[0;34m.\u001b[0m\u001b[0mhistory\u001b[0m\u001b[0;34m)\u001b[0m\u001b[0;34m\u001b[0m\u001b[0;34m\u001b[0m\u001b[0m\n\u001b[0m\u001b[1;32m      2\u001b[0m \u001b[0mhistory_df\u001b[0m\u001b[0;34m.\u001b[0m\u001b[0mloc\u001b[0m\u001b[0;34m[\u001b[0m\u001b[0;34m:\u001b[0m\u001b[0;34m,\u001b[0m \u001b[0;34m[\u001b[0m\u001b[0;34m'loss'\u001b[0m\u001b[0;34m,\u001b[0m \u001b[0;34m'val_loss'\u001b[0m\u001b[0;34m]\u001b[0m\u001b[0;34m]\u001b[0m\u001b[0;34m.\u001b[0m\u001b[0mplot\u001b[0m\u001b[0;34m(\u001b[0m\u001b[0mtitle\u001b[0m\u001b[0;34m=\u001b[0m\u001b[0;34m\"Cross-entropy\"\u001b[0m\u001b[0;34m)\u001b[0m\u001b[0;34m\u001b[0m\u001b[0;34m\u001b[0m\u001b[0m\n\u001b[1;32m      3\u001b[0m \u001b[0mhistory_df\u001b[0m\u001b[0;34m.\u001b[0m\u001b[0mloc\u001b[0m\u001b[0;34m[\u001b[0m\u001b[0;34m:\u001b[0m\u001b[0;34m,\u001b[0m \u001b[0;34m[\u001b[0m\u001b[0;34m'accuracy'\u001b[0m\u001b[0;34m,\u001b[0m \u001b[0;34m'val_accuracy'\u001b[0m\u001b[0;34m]\u001b[0m\u001b[0;34m]\u001b[0m\u001b[0;34m.\u001b[0m\u001b[0mplot\u001b[0m\u001b[0;34m(\u001b[0m\u001b[0mtitle\u001b[0m\u001b[0;34m=\u001b[0m\u001b[0;34m\"Accuracy\"\u001b[0m\u001b[0;34m)\u001b[0m\u001b[0;34m\u001b[0m\u001b[0;34m\u001b[0m\u001b[0m\n\u001b[1;32m      4\u001b[0m \u001b[0;34m\u001b[0m\u001b[0m\n\u001b[1;32m      5\u001b[0m \u001b[0my_pred_SVM\u001b[0m \u001b[0;34m=\u001b[0m \u001b[0mbestNN2\u001b[0m\u001b[0;34m.\u001b[0m\u001b[0mpredict_classes\u001b[0m\u001b[0;34m(\u001b[0m\u001b[0mpca_finalDF\u001b[0m\u001b[0;34m)\u001b[0m\u001b[0;34m\u001b[0m\u001b[0;34m\u001b[0m\u001b[0m\n",
      "\u001b[0;31mAttributeError\u001b[0m: 'GridSearchCV' object has no attribute 'history'"
     ]
    }
   ],
   "source": [
    "history_df = pd.DataFrame(history_Batch_drop_relu.history)\n",
    "history_df.loc[:, ['loss', 'val_loss']].plot(title=\"Cross-entropy\")\n",
    "history_df.loc[:, ['accuracy', 'val_accuracy']].plot(title=\"Accuracy\")\n",
    "\n",
    "y_pred_SVM = bestNN2.predict_classes(pca_finalDF)\n",
    "\n",
    "\n",
    "# print('Classification report: \\n', metrics.classification_report(y_test, model))\n",
    "print('Accuracy_Score:',metrics.accuracy_score(y_train_res, y_pred_SVM)*100,'%')\n",
    "\n",
    "\n",
    "print('precision_score:',metrics.precision_score(y_train_res, y_pred_SVM)*100,'%')\n",
    "\n",
    "print('recall_score:',metrics.recall_score(y_train_res, y_pred_SVM)*100,'%')"
   ]
  },
  {
   "cell_type": "code",
   "execution_count": null,
   "metadata": {},
   "outputs": [],
   "source": []
  },
  {
   "cell_type": "code",
   "execution_count": 64,
   "metadata": {},
   "outputs": [],
   "source": [
    "def plotconfusionMatrix(modelObj,ytest,xtest):\n",
    "#     model_DecTreeClass2.fit(X_train_res, y_train_res)\n",
    "    y_pred_DecTreeClass2 = modelObj.predict_classes(xtest)\n",
    "    conf_mat2 = metrics.confusion_matrix(ytest, y_pred_DecTreeClass2)\n",
    "    plt.figure(figsize=(8,6))\n",
    "    sns.heatmap(conf_mat2,annot=True)\n",
    "    plt.title(\"Confusion_matrix\")\n",
    "    plt.xlabel(\"Predicted Class\")\n",
    "    plt.ylabel(\"Actual class\")\n",
    "    plt.show()\n",
    "    print('Confusion matrix: \\n', conf_mat2)\n",
    "    print('TP: ', conf_mat2[1,1])\n",
    "    print('TN: ', conf_mat2[0,0])\n",
    "    print('FP: ', conf_mat2[0,1])\n",
    "    print('FN: ', conf_mat2[1,0])\n",
    "\n",
    "def getMetrics(modelObj,xTrain,yTrain,xValid,yValid):\n",
    "    y_pred_DecTreeClass2 = modelObj.predict_classes(xValid)\n",
    "    print('Classification report: \\n', metrics.classification_report(yValid, y_pred_DecTreeClass2))\n",
    "    print('Training Accuracy_Score:',metrics.accuracy_score(yTrain, modelObj.predict_classes(xTrain))*100,'%')\n",
    "    print('Training Precision:',metrics.precision_score(yTrain, modelObj.predict_classes(xTrain))*100,'%')\n",
    "    print('Training Recall:',metrics.recall_score(yTrain, modelObj.predict_classes(xTrain))*100,'%')\n",
    "    \n",
    "    print('Training F1 Score:',metrics.f1_score(yTrain, modelObj.predict_classes(xTrain))*100,'%')\n",
    "\n",
    "    \n",
    "    print('Validation Accuracy_Score:',metrics.accuracy_score(yValid, y_pred_DecTreeClass2)*100,'%')\n",
    "    print('Validation Precision:',metrics.precision_score(yValid, y_pred_DecTreeClass2)*100,'%')\n",
    "    print('Validation Recall:',metrics.recall_score(yValid, y_pred_DecTreeClass2)*100,'%')\n",
    "    \n",
    "    print('Validation F1 Score:',metrics.f1_score(yValid, y_pred_DecTreeClass2)*100,'%')\n",
    "\n"
   ]
  },
  {
   "cell_type": "code",
   "execution_count": 32,
   "metadata": {},
   "outputs": [
    {
     "ename": "NameError",
     "evalue": "name 'bestNN2' is not defined",
     "output_type": "error",
     "traceback": [
      "\u001b[0;31m---------------------------------------------------------------------------\u001b[0m",
      "\u001b[0;31mNameError\u001b[0m                                 Traceback (most recent call last)",
      "\u001b[0;32m<ipython-input-32-606624df9271>\u001b[0m in \u001b[0;36m<module>\u001b[0;34m\u001b[0m\n\u001b[0;32m----> 1\u001b[0;31m \u001b[0mplotconfusionMatrix\u001b[0m\u001b[0;34m(\u001b[0m\u001b[0mbestNN2\u001b[0m\u001b[0;34m,\u001b[0m\u001b[0my_valid\u001b[0m\u001b[0;34m[\u001b[0m\u001b[0;34m'Attrition_Flag'\u001b[0m\u001b[0;34m]\u001b[0m\u001b[0;34m,\u001b[0m\u001b[0mXvalidData\u001b[0m\u001b[0;34m)\u001b[0m\u001b[0;34m\u001b[0m\u001b[0;34m\u001b[0m\u001b[0m\n\u001b[0m\u001b[1;32m      2\u001b[0m \u001b[0;34m\u001b[0m\u001b[0m\n\u001b[1;32m      3\u001b[0m \u001b[0mgetMetrics\u001b[0m\u001b[0;34m(\u001b[0m\u001b[0mbestNN2\u001b[0m\u001b[0;34m,\u001b[0m\u001b[0mXtrainData\u001b[0m\u001b[0;34m,\u001b[0m\u001b[0my_train_res\u001b[0m\u001b[0;34m[\u001b[0m\u001b[0;34m'Attrition_Flag'\u001b[0m\u001b[0;34m]\u001b[0m\u001b[0;34m,\u001b[0m\u001b[0mXvalidData\u001b[0m\u001b[0;34m,\u001b[0m\u001b[0my_valid\u001b[0m\u001b[0;34m[\u001b[0m\u001b[0;34m'Attrition_Flag'\u001b[0m\u001b[0;34m]\u001b[0m\u001b[0;34m)\u001b[0m\u001b[0;34m\u001b[0m\u001b[0;34m\u001b[0m\u001b[0m\n",
      "\u001b[0;31mNameError\u001b[0m: name 'bestNN2' is not defined"
     ]
    }
   ],
   "source": [
    "\n",
    "plotconfusionMatrix(bestNN2,y_valid['Attrition_Flag'],XvalidData)\n",
    "\n",
    "getMetrics(bestNN2,XtrainData,y_train_res['Attrition_Flag'],XvalidData,y_valid['Attrition_Flag'])"
   ]
  },
  {
   "cell_type": "code",
   "execution_count": 43,
   "metadata": {},
   "outputs": [],
   "source": [
    "# import timeit\n",
    "\n",
    "# start = timeit.default_timer()\n",
    "\n",
    "# #Your statements here\n",
    "\n",
    "# bestNN=create_modelWithDropBatch(hidden_layers= 6, learning_rate= 0.05)\n",
    "# history2 = bestNN.fit(\n",
    "#      pca_finalDF, y_train_res,\n",
    "#     validation_data=(pcavalidData, y_valid),\n",
    "#     batch_size=512,\n",
    "#     epochs=200,\n",
    "# #     callbacks=[early_stopping],\n",
    "# )\n",
    "# stop = timeit.default_timer()\n",
    "\n",
    "# print('Time: ', stop - start)  \n"
   ]
  },
  {
   "cell_type": "code",
   "execution_count": 65,
   "metadata": {},
   "outputs": [],
   "source": [
    "# sess.run(optimizer._lr)\n",
    "def create_modelWithDropBatchOpt(  hidden_layers,learning_rate):\n",
    "  # Initialize the constructor\n",
    "    model =  keras.Sequential()\n",
    "      # Add an input layer\n",
    "    activation='sigmoid'\n",
    "    model.add(layers.Dense(256, activation=activation, input_shape=input_shape))\n",
    "    for i in range(hidden_layers):\n",
    "          # Add one hidden layer\n",
    "        model.add(layers.BatchNormalization())\n",
    "        model.add(layers.Dropout(0.5))\n",
    "        model.add(layers.Dense(8, activation='tanh'))\n",
    "\n",
    "      # Add an output layer \n",
    "    model.add(layers.Dense(1, activation=activation))\n",
    "    opt = keras.optimizers.Adam(learning_rate=learning_rate)\n",
    "      #compile model\n",
    "    model.compile(loss='binary_crossentropy', optimizer=opt, metrics=\n",
    "      ['accuracy'])\n",
    "\n",
    "    return model\n",
    "\n"
   ]
  },
  {
   "cell_type": "code",
   "execution_count": 67,
   "metadata": {
    "collapsed": true
   },
   "outputs": [
    {
     "name": "stdout",
     "output_type": "stream",
     "text": [
      "Epoch 1/200\n",
      "15/15 [==============================] - 2s 36ms/step - loss: 0.6912 - accuracy: 0.5871 - val_loss: 0.5020 - val_accuracy: 0.8327\n",
      "Epoch 2/200\n",
      "15/15 [==============================] - 0s 8ms/step - loss: 0.6424 - accuracy: 0.6615 - val_loss: 0.5820 - val_accuracy: 0.8327\n",
      "Epoch 3/200\n",
      "15/15 [==============================] - 0s 8ms/step - loss: 0.6385 - accuracy: 0.6593 - val_loss: 0.5690 - val_accuracy: 0.8327\n",
      "Epoch 4/200\n",
      "15/15 [==============================] - 0s 9ms/step - loss: 0.6263 - accuracy: 0.6639 - val_loss: 0.6124 - val_accuracy: 0.8327\n",
      "Epoch 5/200\n",
      "15/15 [==============================] - 0s 9ms/step - loss: 0.6149 - accuracy: 0.6679 - val_loss: 0.7111 - val_accuracy: 0.1673\n",
      "Epoch 6/200\n",
      "15/15 [==============================] - 0s 8ms/step - loss: 0.6096 - accuracy: 0.6553 - val_loss: 0.6070 - val_accuracy: 0.8327\n",
      "Epoch 7/200\n",
      "15/15 [==============================] - 0s 8ms/step - loss: 0.6120 - accuracy: 0.6658 - val_loss: 0.5943 - val_accuracy: 0.8327\n",
      "Epoch 8/200\n",
      "15/15 [==============================] - 0s 8ms/step - loss: 0.6033 - accuracy: 0.6690 - val_loss: 0.5277 - val_accuracy: 0.8327\n",
      "Epoch 9/200\n",
      "15/15 [==============================] - 0s 8ms/step - loss: 0.6173 - accuracy: 0.6556 - val_loss: 0.5225 - val_accuracy: 0.8327\n",
      "Epoch 10/200\n",
      "15/15 [==============================] - 0s 8ms/step - loss: 0.5987 - accuracy: 0.6733 - val_loss: 0.5223 - val_accuracy: 0.8327\n",
      "Epoch 11/200\n",
      "15/15 [==============================] - 0s 8ms/step - loss: 0.6043 - accuracy: 0.6705 - val_loss: 0.5240 - val_accuracy: 0.8327\n",
      "Epoch 12/200\n",
      "15/15 [==============================] - 0s 8ms/step - loss: 0.6023 - accuracy: 0.6671 - val_loss: 0.5206 - val_accuracy: 0.8327\n",
      "Epoch 13/200\n",
      "15/15 [==============================] - 0s 8ms/step - loss: 0.6059 - accuracy: 0.6619 - val_loss: 0.5306 - val_accuracy: 0.8327\n",
      "Epoch 14/200\n",
      "15/15 [==============================] - 0s 8ms/step - loss: 0.6007 - accuracy: 0.6781 - val_loss: 0.5681 - val_accuracy: 0.5395\n",
      "Epoch 15/200\n",
      "15/15 [==============================] - 0s 8ms/step - loss: 0.6099 - accuracy: 0.6493 - val_loss: 0.5273 - val_accuracy: 0.8327\n",
      "Epoch 16/200\n",
      "15/15 [==============================] - 0s 8ms/step - loss: 0.6102 - accuracy: 0.6666 - val_loss: 0.5340 - val_accuracy: 0.8327\n",
      "Epoch 17/200\n",
      "15/15 [==============================] - 0s 8ms/step - loss: 0.6065 - accuracy: 0.6648 - val_loss: 0.5283 - val_accuracy: 0.8327\n",
      "Epoch 18/200\n",
      "15/15 [==============================] - 0s 9ms/step - loss: 0.6075 - accuracy: 0.6720 - val_loss: 0.5359 - val_accuracy: 0.8327\n",
      "Epoch 19/200\n",
      "15/15 [==============================] - 0s 8ms/step - loss: 0.6105 - accuracy: 0.6731 - val_loss: 0.5491 - val_accuracy: 0.8327\n",
      "Epoch 20/200\n",
      "15/15 [==============================] - 0s 8ms/step - loss: 0.6140 - accuracy: 0.6527 - val_loss: 0.5257 - val_accuracy: 0.8327\n",
      "Epoch 21/200\n",
      "15/15 [==============================] - 0s 8ms/step - loss: 0.6160 - accuracy: 0.6668 - val_loss: 0.5214 - val_accuracy: 0.8327\n",
      "Epoch 22/200\n",
      "15/15 [==============================] - 0s 8ms/step - loss: 0.6201 - accuracy: 0.6601 - val_loss: 0.5296 - val_accuracy: 0.8327\n",
      "Epoch 23/200\n",
      "15/15 [==============================] - 0s 8ms/step - loss: 0.6184 - accuracy: 0.6659 - val_loss: 0.5187 - val_accuracy: 0.8327\n",
      "Epoch 24/200\n",
      "15/15 [==============================] - 0s 8ms/step - loss: 0.6165 - accuracy: 0.6663 - val_loss: 0.5186 - val_accuracy: 0.8327\n",
      "Epoch 25/200\n",
      "15/15 [==============================] - 0s 8ms/step - loss: 0.6152 - accuracy: 0.6613 - val_loss: 0.5245 - val_accuracy: 0.8327\n",
      "Epoch 26/200\n",
      "15/15 [==============================] - 0s 9ms/step - loss: 0.6097 - accuracy: 0.6619 - val_loss: 0.5089 - val_accuracy: 0.8327\n",
      "Epoch 27/200\n",
      "15/15 [==============================] - 0s 8ms/step - loss: 0.6214 - accuracy: 0.6537 - val_loss: 0.5087 - val_accuracy: 0.8327\n",
      "Epoch 28/200\n",
      "15/15 [==============================] - 0s 9ms/step - loss: 0.6099 - accuracy: 0.6661 - val_loss: 0.5218 - val_accuracy: 0.8327\n",
      "Epoch 29/200\n",
      "15/15 [==============================] - 0s 8ms/step - loss: 0.6050 - accuracy: 0.6711 - val_loss: 0.5296 - val_accuracy: 0.8327\n",
      "Epoch 30/200\n",
      "15/15 [==============================] - 0s 8ms/step - loss: 0.6035 - accuracy: 0.6675 - val_loss: 0.5173 - val_accuracy: 0.8327\n",
      "Epoch 31/200\n",
      "15/15 [==============================] - 0s 8ms/step - loss: 0.6113 - accuracy: 0.6652 - val_loss: 0.5289 - val_accuracy: 0.8327\n",
      "Epoch 32/200\n",
      "15/15 [==============================] - 0s 8ms/step - loss: 0.5989 - accuracy: 0.6683 - val_loss: 0.5133 - val_accuracy: 0.8327\n",
      "Epoch 33/200\n",
      "15/15 [==============================] - 0s 8ms/step - loss: 0.6080 - accuracy: 0.6698 - val_loss: 0.5150 - val_accuracy: 0.8327\n",
      "Epoch 34/200\n",
      "15/15 [==============================] - 0s 10ms/step - loss: 0.6150 - accuracy: 0.6631 - val_loss: 0.5068 - val_accuracy: 0.8327\n",
      "Epoch 35/200\n",
      "15/15 [==============================] - 0s 9ms/step - loss: 0.6069 - accuracy: 0.6722 - val_loss: 0.5238 - val_accuracy: 0.8327\n",
      "Epoch 36/200\n",
      "15/15 [==============================] - 0s 9ms/step - loss: 0.6072 - accuracy: 0.6638 - val_loss: 0.5221 - val_accuracy: 0.8327\n",
      "Epoch 37/200\n",
      "15/15 [==============================] - 0s 8ms/step - loss: 0.6073 - accuracy: 0.6648 - val_loss: 0.5275 - val_accuracy: 0.8327\n",
      "Epoch 38/200\n",
      "15/15 [==============================] - 0s 9ms/step - loss: 0.6024 - accuracy: 0.6723 - val_loss: 0.5252 - val_accuracy: 0.8327\n",
      "Epoch 39/200\n",
      "15/15 [==============================] - 0s 9ms/step - loss: 0.6047 - accuracy: 0.6639 - val_loss: 0.5153 - val_accuracy: 0.8327\n",
      "Epoch 40/200\n",
      "15/15 [==============================] - 0s 8ms/step - loss: 0.5978 - accuracy: 0.6822 - val_loss: 0.5496 - val_accuracy: 0.8327\n",
      "Epoch 41/200\n",
      "15/15 [==============================] - 0s 9ms/step - loss: 0.6005 - accuracy: 0.6725 - val_loss: 0.5229 - val_accuracy: 0.8327\n",
      "Epoch 42/200\n",
      "15/15 [==============================] - 0s 9ms/step - loss: 0.6041 - accuracy: 0.6734 - val_loss: 0.5303 - val_accuracy: 0.8327\n",
      "Epoch 43/200\n",
      "15/15 [==============================] - 0s 8ms/step - loss: 0.6169 - accuracy: 0.6636 - val_loss: 0.5332 - val_accuracy: 0.8327\n",
      "Epoch 44/200\n",
      "15/15 [==============================] - 0s 8ms/step - loss: 0.6049 - accuracy: 0.6723 - val_loss: 0.5335 - val_accuracy: 0.8327\n",
      "Epoch 45/200\n",
      "15/15 [==============================] - 0s 8ms/step - loss: 0.6174 - accuracy: 0.6644 - val_loss: 0.5238 - val_accuracy: 0.8327\n",
      "Epoch 46/200\n",
      "15/15 [==============================] - 0s 8ms/step - loss: 0.6154 - accuracy: 0.6649 - val_loss: 0.5132 - val_accuracy: 0.8327\n",
      "Epoch 47/200\n",
      "15/15 [==============================] - 0s 9ms/step - loss: 0.6285 - accuracy: 0.6645 - val_loss: 0.5230 - val_accuracy: 0.8327\n",
      "Epoch 48/200\n",
      "15/15 [==============================] - 0s 9ms/step - loss: 0.6250 - accuracy: 0.6687 - val_loss: 0.4923 - val_accuracy: 0.8327\n",
      "Epoch 49/200\n",
      "15/15 [==============================] - 0s 8ms/step - loss: 0.6322 - accuracy: 0.6739 - val_loss: 0.5489 - val_accuracy: 0.8327\n",
      "Epoch 50/200\n",
      "15/15 [==============================] - 0s 8ms/step - loss: 0.6366 - accuracy: 0.6677 - val_loss: 0.5518 - val_accuracy: 0.8327\n",
      "Epoch 51/200\n",
      "15/15 [==============================] - 0s 8ms/step - loss: 0.6387 - accuracy: 0.6633 - val_loss: 0.5494 - val_accuracy: 0.8327\n",
      "Epoch 52/200\n",
      "15/15 [==============================] - 0s 7ms/step - loss: 0.6333 - accuracy: 0.6708 - val_loss: 0.5363 - val_accuracy: 0.8327\n",
      "Epoch 53/200\n",
      "15/15 [==============================] - 0s 7ms/step - loss: 0.6377 - accuracy: 0.6633 - val_loss: 0.5118 - val_accuracy: 0.8327\n",
      "Epoch 54/200\n",
      "15/15 [==============================] - 0s 8ms/step - loss: 0.6365 - accuracy: 0.6666 - val_loss: 0.5411 - val_accuracy: 0.8327\n",
      "Epoch 55/200\n",
      "15/15 [==============================] - 0s 8ms/step - loss: 0.6374 - accuracy: 0.6624 - val_loss: 0.5191 - val_accuracy: 0.8327\n",
      "Epoch 56/200\n",
      "15/15 [==============================] - 0s 7ms/step - loss: 0.6353 - accuracy: 0.6664 - val_loss: 0.5273 - val_accuracy: 0.8327\n",
      "Epoch 57/200\n",
      "15/15 [==============================] - 0s 9ms/step - loss: 0.6346 - accuracy: 0.6697 - val_loss: 0.5239 - val_accuracy: 0.8327\n",
      "Epoch 58/200\n",
      "15/15 [==============================] - 0s 9ms/step - loss: 0.6357 - accuracy: 0.6654 - val_loss: 0.5186 - val_accuracy: 0.8327\n"
     ]
    },
    {
     "name": "stdout",
     "output_type": "stream",
     "text": [
      "Epoch 59/200\n",
      "15/15 [==============================] - 0s 8ms/step - loss: 0.6427 - accuracy: 0.6589 - val_loss: 0.5138 - val_accuracy: 0.8327\n",
      "Epoch 60/200\n",
      "15/15 [==============================] - 0s 8ms/step - loss: 0.6338 - accuracy: 0.6692 - val_loss: 0.5272 - val_accuracy: 0.8327\n",
      "Epoch 61/200\n",
      "15/15 [==============================] - 0s 8ms/step - loss: 0.6345 - accuracy: 0.6692 - val_loss: 0.5297 - val_accuracy: 0.8327\n",
      "Epoch 62/200\n",
      "15/15 [==============================] - 0s 9ms/step - loss: 0.6364 - accuracy: 0.6645 - val_loss: 0.5256 - val_accuracy: 0.8327\n",
      "Epoch 63/200\n",
      "15/15 [==============================] - 0s 8ms/step - loss: 0.6462 - accuracy: 0.6582 - val_loss: 0.5324 - val_accuracy: 0.8327\n",
      "Epoch 64/200\n",
      "15/15 [==============================] - 0s 8ms/step - loss: 0.6449 - accuracy: 0.6568 - val_loss: 0.5201 - val_accuracy: 0.8327\n",
      "Epoch 65/200\n",
      "15/15 [==============================] - 0s 8ms/step - loss: 0.6364 - accuracy: 0.6672 - val_loss: 0.5343 - val_accuracy: 0.8327\n",
      "Epoch 66/200\n",
      "15/15 [==============================] - 0s 8ms/step - loss: 0.6371 - accuracy: 0.6661 - val_loss: 0.5472 - val_accuracy: 0.8327\n",
      "Epoch 67/200\n",
      "15/15 [==============================] - 0s 8ms/step - loss: 0.6363 - accuracy: 0.6703 - val_loss: 0.5351 - val_accuracy: 0.8327\n",
      "Epoch 68/200\n",
      "15/15 [==============================] - 0s 8ms/step - loss: 0.6361 - accuracy: 0.6660 - val_loss: 0.5283 - val_accuracy: 0.8327\n",
      "Epoch 69/200\n",
      "15/15 [==============================] - 0s 8ms/step - loss: 0.6408 - accuracy: 0.6617 - val_loss: 0.5169 - val_accuracy: 0.8327\n",
      "Epoch 70/200\n",
      "15/15 [==============================] - 0s 8ms/step - loss: 0.6342 - accuracy: 0.6718 - val_loss: 0.5292 - val_accuracy: 0.8327\n",
      "Epoch 71/200\n",
      "15/15 [==============================] - 0s 8ms/step - loss: 0.6356 - accuracy: 0.6685 - val_loss: 0.5202 - val_accuracy: 0.8327\n",
      "Epoch 72/200\n",
      "15/15 [==============================] - 0s 8ms/step - loss: 0.6366 - accuracy: 0.6669 - val_loss: 0.5181 - val_accuracy: 0.8327\n",
      "Epoch 73/200\n",
      "15/15 [==============================] - 0s 7ms/step - loss: 0.6284 - accuracy: 0.6782 - val_loss: 0.5392 - val_accuracy: 0.8327\n",
      "Epoch 74/200\n",
      "15/15 [==============================] - 0s 8ms/step - loss: 0.6453 - accuracy: 0.6537 - val_loss: 0.4993 - val_accuracy: 0.8327\n",
      "Epoch 75/200\n",
      "15/15 [==============================] - 0s 8ms/step - loss: 0.6383 - accuracy: 0.6662 - val_loss: 0.5232 - val_accuracy: 0.8327\n",
      "Epoch 76/200\n",
      "15/15 [==============================] - 0s 8ms/step - loss: 0.6386 - accuracy: 0.6633 - val_loss: 0.5241 - val_accuracy: 0.8327\n",
      "Epoch 77/200\n",
      "15/15 [==============================] - 0s 8ms/step - loss: 0.6379 - accuracy: 0.6646 - val_loss: 0.5291 - val_accuracy: 0.8327\n",
      "Epoch 78/200\n",
      "15/15 [==============================] - 0s 8ms/step - loss: 0.6407 - accuracy: 0.6608 - val_loss: 0.5195 - val_accuracy: 0.8327\n",
      "Epoch 79/200\n",
      "15/15 [==============================] - 0s 8ms/step - loss: 0.6321 - accuracy: 0.6724 - val_loss: 0.5322 - val_accuracy: 0.8327\n",
      "Epoch 80/200\n",
      "15/15 [==============================] - 0s 9ms/step - loss: 0.6376 - accuracy: 0.6654 - val_loss: 0.5207 - val_accuracy: 0.8327\n",
      "Epoch 81/200\n",
      "15/15 [==============================] - 0s 8ms/step - loss: 0.6381 - accuracy: 0.6638 - val_loss: 0.5192 - val_accuracy: 0.8327\n",
      "Epoch 82/200\n",
      "15/15 [==============================] - 0s 8ms/step - loss: 0.6384 - accuracy: 0.6638 - val_loss: 0.5382 - val_accuracy: 0.8327\n",
      "Epoch 83/200\n",
      "15/15 [==============================] - 0s 8ms/step - loss: 0.6386 - accuracy: 0.6636 - val_loss: 0.5197 - val_accuracy: 0.8327\n",
      "Epoch 84/200\n",
      "15/15 [==============================] - 0s 8ms/step - loss: 0.6366 - accuracy: 0.6671 - val_loss: 0.5090 - val_accuracy: 0.8327\n",
      "Epoch 85/200\n",
      "15/15 [==============================] - 0s 19ms/step - loss: 0.6353 - accuracy: 0.6684 - val_loss: 0.5127 - val_accuracy: 0.8327\n",
      "Epoch 86/200\n",
      "15/15 [==============================] - 0s 8ms/step - loss: 0.6398 - accuracy: 0.6622 - val_loss: 0.5178 - val_accuracy: 0.8327\n",
      "Epoch 87/200\n",
      "15/15 [==============================] - 0s 9ms/step - loss: 0.6408 - accuracy: 0.6611 - val_loss: 0.5181 - val_accuracy: 0.8327\n",
      "Epoch 88/200\n",
      "15/15 [==============================] - 0s 8ms/step - loss: 0.6419 - accuracy: 0.6604 - val_loss: 0.5139 - val_accuracy: 0.8327\n",
      "Epoch 89/200\n",
      "15/15 [==============================] - 0s 8ms/step - loss: 0.6362 - accuracy: 0.6677 - val_loss: 0.5244 - val_accuracy: 0.8327\n",
      "Epoch 90/200\n",
      "15/15 [==============================] - 0s 8ms/step - loss: 0.6348 - accuracy: 0.6694 - val_loss: 0.5246 - val_accuracy: 0.8327\n",
      "Epoch 91/200\n",
      "15/15 [==============================] - 0s 8ms/step - loss: 0.6374 - accuracy: 0.6661 - val_loss: 0.5012 - val_accuracy: 0.8327\n",
      "Epoch 92/200\n",
      "15/15 [==============================] - 0s 8ms/step - loss: 0.6392 - accuracy: 0.6645 - val_loss: 0.5093 - val_accuracy: 0.8327\n",
      "Epoch 93/200\n",
      "15/15 [==============================] - 0s 9ms/step - loss: 0.6355 - accuracy: 0.6685 - val_loss: 0.5378 - val_accuracy: 0.8327\n",
      "Epoch 94/200\n",
      "15/15 [==============================] - 0s 8ms/step - loss: 0.6387 - accuracy: 0.6657 - val_loss: 0.5229 - val_accuracy: 0.8327\n",
      "Epoch 95/200\n",
      "15/15 [==============================] - 0s 8ms/step - loss: 0.6437 - accuracy: 0.6564 - val_loss: 0.5078 - val_accuracy: 0.8327\n",
      "Epoch 96/200\n",
      "15/15 [==============================] - 0s 8ms/step - loss: 0.6388 - accuracy: 0.6650 - val_loss: 0.5252 - val_accuracy: 0.8327\n",
      "Epoch 97/200\n",
      "15/15 [==============================] - 0s 8ms/step - loss: 0.6403 - accuracy: 0.6610 - val_loss: 0.5217 - val_accuracy: 0.8327\n",
      "Epoch 98/200\n",
      "15/15 [==============================] - 0s 9ms/step - loss: 0.6361 - accuracy: 0.6687 - val_loss: 0.5228 - val_accuracy: 0.8327\n",
      "Epoch 99/200\n",
      "15/15 [==============================] - 0s 9ms/step - loss: 0.6408 - accuracy: 0.6609 - val_loss: 0.5253 - val_accuracy: 0.8327\n",
      "Epoch 100/200\n",
      "15/15 [==============================] - 0s 9ms/step - loss: 0.6398 - accuracy: 0.6622 - val_loss: 0.5151 - val_accuracy: 0.8327\n",
      "Epoch 101/200\n",
      "15/15 [==============================] - 0s 8ms/step - loss: 0.6361 - accuracy: 0.6689 - val_loss: 0.5177 - val_accuracy: 0.8327\n",
      "Epoch 102/200\n",
      "15/15 [==============================] - 0s 8ms/step - loss: 0.6438 - accuracy: 0.6591 - val_loss: 0.5194 - val_accuracy: 0.8327\n",
      "Epoch 103/200\n",
      "15/15 [==============================] - 0s 8ms/step - loss: 0.6367 - accuracy: 0.6671 - val_loss: 0.5224 - val_accuracy: 0.8327\n",
      "Epoch 104/200\n",
      "15/15 [==============================] - 0s 8ms/step - loss: 0.6382 - accuracy: 0.6642 - val_loss: 0.5124 - val_accuracy: 0.8327\n",
      "Epoch 105/200\n",
      "15/15 [==============================] - 0s 8ms/step - loss: 0.6371 - accuracy: 0.6661 - val_loss: 0.5385 - val_accuracy: 0.8327\n",
      "Epoch 106/200\n",
      "15/15 [==============================] - 0s 8ms/step - loss: 0.6397 - accuracy: 0.6620 - val_loss: 0.5187 - val_accuracy: 0.8327\n",
      "Epoch 107/200\n",
      "15/15 [==============================] - 0s 8ms/step - loss: 0.6396 - accuracy: 0.6632 - val_loss: 0.5021 - val_accuracy: 0.8327\n",
      "Epoch 108/200\n",
      "15/15 [==============================] - 0s 8ms/step - loss: 0.6399 - accuracy: 0.6638 - val_loss: 0.5161 - val_accuracy: 0.8327\n",
      "Epoch 109/200\n",
      "15/15 [==============================] - 0s 8ms/step - loss: 0.6373 - accuracy: 0.6666 - val_loss: 0.5324 - val_accuracy: 0.8327\n",
      "Epoch 110/200\n",
      "15/15 [==============================] - 0s 8ms/step - loss: 0.6347 - accuracy: 0.6693 - val_loss: 0.5290 - val_accuracy: 0.8327\n",
      "Epoch 111/200\n",
      "15/15 [==============================] - 0s 8ms/step - loss: 0.6359 - accuracy: 0.6679 - val_loss: 0.5264 - val_accuracy: 0.8327\n",
      "Epoch 112/200\n",
      "15/15 [==============================] - 0s 8ms/step - loss: 0.6401 - accuracy: 0.6621 - val_loss: 0.5168 - val_accuracy: 0.8327\n",
      "Epoch 113/200\n",
      "15/15 [==============================] - 0s 8ms/step - loss: 0.6306 - accuracy: 0.6747 - val_loss: 0.5401 - val_accuracy: 0.8327\n",
      "Epoch 114/200\n",
      "15/15 [==============================] - 0s 8ms/step - loss: 0.6380 - accuracy: 0.6648 - val_loss: 0.5227 - val_accuracy: 0.8327\n",
      "Epoch 115/200\n",
      "15/15 [==============================] - 0s 8ms/step - loss: 0.6363 - accuracy: 0.6665 - val_loss: 0.5280 - val_accuracy: 0.8327\n",
      "Epoch 116/200\n"
     ]
    },
    {
     "name": "stdout",
     "output_type": "stream",
     "text": [
      "15/15 [==============================] - 0s 8ms/step - loss: 0.6341 - accuracy: 0.6705 - val_loss: 0.5385 - val_accuracy: 0.8327\n",
      "Epoch 117/200\n",
      "15/15 [==============================] - 0s 8ms/step - loss: 0.6312 - accuracy: 0.6751 - val_loss: 0.5469 - val_accuracy: 0.8327\n",
      "Epoch 118/200\n",
      "15/15 [==============================] - 0s 8ms/step - loss: 0.6362 - accuracy: 0.6693 - val_loss: 0.5521 - val_accuracy: 0.8327\n",
      "Epoch 119/200\n",
      "15/15 [==============================] - 0s 9ms/step - loss: 0.6421 - accuracy: 0.6638 - val_loss: 0.5077 - val_accuracy: 0.8327\n",
      "Epoch 120/200\n",
      "15/15 [==============================] - 0s 8ms/step - loss: 0.6389 - accuracy: 0.6654 - val_loss: 0.5090 - val_accuracy: 0.8327\n",
      "Epoch 121/200\n",
      "15/15 [==============================] - 0s 9ms/step - loss: 0.6337 - accuracy: 0.6718 - val_loss: 0.5233 - val_accuracy: 0.8327\n",
      "Epoch 122/200\n",
      "15/15 [==============================] - 0s 8ms/step - loss: 0.6342 - accuracy: 0.6700 - val_loss: 0.5266 - val_accuracy: 0.8327\n",
      "Epoch 123/200\n",
      "15/15 [==============================] - 0s 9ms/step - loss: 0.6387 - accuracy: 0.6636 - val_loss: 0.5193 - val_accuracy: 0.8327\n",
      "Epoch 124/200\n",
      "15/15 [==============================] - 0s 8ms/step - loss: 0.6343 - accuracy: 0.6694 - val_loss: 0.5179 - val_accuracy: 0.8327\n",
      "Epoch 125/200\n",
      "15/15 [==============================] - 0s 8ms/step - loss: 0.6339 - accuracy: 0.6708 - val_loss: 0.5443 - val_accuracy: 0.8327\n",
      "Epoch 126/200\n",
      "15/15 [==============================] - 0s 8ms/step - loss: 0.6306 - accuracy: 0.6768 - val_loss: 0.5337 - val_accuracy: 0.8327\n",
      "Epoch 127/200\n",
      "15/15 [==============================] - 0s 9ms/step - loss: 0.6366 - accuracy: 0.6659 - val_loss: 0.5289 - val_accuracy: 0.8327\n",
      "Epoch 128/200\n",
      "15/15 [==============================] - 0s 9ms/step - loss: 0.6368 - accuracy: 0.6669 - val_loss: 0.5106 - val_accuracy: 0.8327\n",
      "Epoch 129/200\n",
      "15/15 [==============================] - 0s 9ms/step - loss: 0.6392 - accuracy: 0.6647 - val_loss: 0.5231 - val_accuracy: 0.8327\n",
      "Epoch 130/200\n",
      "15/15 [==============================] - 0s 9ms/step - loss: 0.6363 - accuracy: 0.6663 - val_loss: 0.5199 - val_accuracy: 0.8327\n",
      "Epoch 131/200\n",
      "15/15 [==============================] - 0s 9ms/step - loss: 0.6337 - accuracy: 0.6703 - val_loss: 0.5377 - val_accuracy: 0.8327\n",
      "Epoch 132/200\n",
      "15/15 [==============================] - 0s 8ms/step - loss: 0.6382 - accuracy: 0.6625 - val_loss: 0.5158 - val_accuracy: 0.8327\n",
      "Epoch 133/200\n",
      "15/15 [==============================] - 0s 8ms/step - loss: 0.6419 - accuracy: 0.6606 - val_loss: 0.5183 - val_accuracy: 0.8327\n",
      "Epoch 134/200\n",
      "15/15 [==============================] - 0s 8ms/step - loss: 0.6391 - accuracy: 0.6635 - val_loss: 0.5097 - val_accuracy: 0.8327\n",
      "Epoch 135/200\n",
      "15/15 [==============================] - 0s 9ms/step - loss: 0.6299 - accuracy: 0.6762 - val_loss: 0.5274 - val_accuracy: 0.8327\n",
      "Epoch 136/200\n",
      "15/15 [==============================] - 0s 9ms/step - loss: 0.6301 - accuracy: 0.6767 - val_loss: 0.5441 - val_accuracy: 0.8327\n",
      "Epoch 137/200\n",
      "15/15 [==============================] - 0s 8ms/step - loss: 0.6368 - accuracy: 0.6687 - val_loss: 0.5276 - val_accuracy: 0.8327\n",
      "Epoch 138/200\n",
      "15/15 [==============================] - 0s 9ms/step - loss: 0.6407 - accuracy: 0.6609 - val_loss: 0.5098 - val_accuracy: 0.8327\n",
      "Epoch 139/200\n",
      "15/15 [==============================] - 0s 8ms/step - loss: 0.6335 - accuracy: 0.6722 - val_loss: 0.5375 - val_accuracy: 0.8327\n",
      "Epoch 140/200\n",
      "15/15 [==============================] - 0s 9ms/step - loss: 0.6369 - accuracy: 0.6669 - val_loss: 0.5245 - val_accuracy: 0.8327\n",
      "Epoch 141/200\n",
      "15/15 [==============================] - 0s 8ms/step - loss: 0.6349 - accuracy: 0.6691 - val_loss: 0.5254 - val_accuracy: 0.8327\n",
      "Epoch 142/200\n",
      "15/15 [==============================] - 0s 8ms/step - loss: 0.6359 - accuracy: 0.6677 - val_loss: 0.5256 - val_accuracy: 0.8327\n",
      "Epoch 143/200\n",
      "15/15 [==============================] - 0s 8ms/step - loss: 0.6363 - accuracy: 0.6673 - val_loss: 0.5258 - val_accuracy: 0.8327\n",
      "Epoch 144/200\n",
      "15/15 [==============================] - 0s 8ms/step - loss: 0.6371 - accuracy: 0.6659 - val_loss: 0.5248 - val_accuracy: 0.8327\n",
      "Epoch 145/200\n",
      "15/15 [==============================] - 0s 8ms/step - loss: 0.6375 - accuracy: 0.6650 - val_loss: 0.5251 - val_accuracy: 0.8327\n",
      "Epoch 146/200\n",
      "15/15 [==============================] - 0s 8ms/step - loss: 0.6438 - accuracy: 0.6572 - val_loss: 0.5056 - val_accuracy: 0.8327\n",
      "Epoch 147/200\n",
      "15/15 [==============================] - 0s 8ms/step - loss: 0.6357 - accuracy: 0.6684 - val_loss: 0.5167 - val_accuracy: 0.8327\n",
      "Epoch 148/200\n",
      "15/15 [==============================] - 0s 8ms/step - loss: 0.6379 - accuracy: 0.6646 - val_loss: 0.5404 - val_accuracy: 0.8327\n",
      "Epoch 149/200\n",
      "15/15 [==============================] - 0s 8ms/step - loss: 0.6309 - accuracy: 0.6759 - val_loss: 0.5381 - val_accuracy: 0.8327\n",
      "Epoch 150/200\n",
      "15/15 [==============================] - 0s 8ms/step - loss: 0.6361 - accuracy: 0.6691 - val_loss: 0.5205 - val_accuracy: 0.8327\n",
      "Epoch 151/200\n",
      "15/15 [==============================] - 0s 8ms/step - loss: 0.6405 - accuracy: 0.6619 - val_loss: 0.5183 - val_accuracy: 0.8327\n",
      "Epoch 152/200\n",
      "15/15 [==============================] - 0s 8ms/step - loss: 0.6412 - accuracy: 0.6597 - val_loss: 0.5152 - val_accuracy: 0.8327\n",
      "Epoch 153/200\n",
      "15/15 [==============================] - 0s 8ms/step - loss: 0.6353 - accuracy: 0.6688 - val_loss: 0.5278 - val_accuracy: 0.8327\n",
      "Epoch 154/200\n",
      "15/15 [==============================] - 0s 8ms/step - loss: 0.6420 - accuracy: 0.6590 - val_loss: 0.5217 - val_accuracy: 0.8327\n",
      "Epoch 155/200\n",
      "15/15 [==============================] - 0s 8ms/step - loss: 0.6350 - accuracy: 0.6687 - val_loss: 0.5366 - val_accuracy: 0.8327\n",
      "Epoch 156/200\n",
      "15/15 [==============================] - 0s 8ms/step - loss: 0.6378 - accuracy: 0.6649 - val_loss: 0.5278 - val_accuracy: 0.8327\n",
      "Epoch 157/200\n",
      "15/15 [==============================] - 0s 8ms/step - loss: 0.6362 - accuracy: 0.6677 - val_loss: 0.5092 - val_accuracy: 0.8327\n",
      "Epoch 158/200\n",
      "15/15 [==============================] - 0s 8ms/step - loss: 0.6345 - accuracy: 0.6704 - val_loss: 0.5292 - val_accuracy: 0.8327\n",
      "Epoch 159/200\n",
      "15/15 [==============================] - 0s 8ms/step - loss: 0.6354 - accuracy: 0.6710 - val_loss: 0.5038 - val_accuracy: 0.8327\n",
      "Epoch 160/200\n",
      "15/15 [==============================] - 0s 8ms/step - loss: 0.6382 - accuracy: 0.6656 - val_loss: 0.5220 - val_accuracy: 0.8327\n",
      "Epoch 161/200\n",
      "15/15 [==============================] - 0s 8ms/step - loss: 0.6424 - accuracy: 0.6595 - val_loss: 0.5178 - val_accuracy: 0.8327\n",
      "Epoch 162/200\n",
      "15/15 [==============================] - 0s 7ms/step - loss: 0.6382 - accuracy: 0.6659 - val_loss: 0.5003 - val_accuracy: 0.8327\n",
      "Epoch 163/200\n",
      "15/15 [==============================] - 0s 8ms/step - loss: 0.6355 - accuracy: 0.6700 - val_loss: 0.5401 - val_accuracy: 0.8327\n",
      "Epoch 164/200\n",
      "15/15 [==============================] - 0s 7ms/step - loss: 0.6349 - accuracy: 0.6700 - val_loss: 0.5353 - val_accuracy: 0.8327\n",
      "Epoch 165/200\n",
      "15/15 [==============================] - 0s 8ms/step - loss: 0.6378 - accuracy: 0.6663 - val_loss: 0.5258 - val_accuracy: 0.8327\n",
      "Epoch 166/200\n",
      "15/15 [==============================] - 0s 8ms/step - loss: 0.6318 - accuracy: 0.6740 - val_loss: 0.5242 - val_accuracy: 0.8327\n",
      "Epoch 167/200\n",
      "15/15 [==============================] - 0s 8ms/step - loss: 0.6381 - accuracy: 0.6660 - val_loss: 0.5474 - val_accuracy: 0.8327\n",
      "Epoch 168/200\n",
      "15/15 [==============================] - 0s 8ms/step - loss: 0.6380 - accuracy: 0.6680 - val_loss: 0.5205 - val_accuracy: 0.8327\n",
      "Epoch 169/200\n",
      "15/15 [==============================] - 0s 9ms/step - loss: 0.6339 - accuracy: 0.6701 - val_loss: 0.5560 - val_accuracy: 0.8327\n",
      "Epoch 170/200\n",
      "15/15 [==============================] - 0s 8ms/step - loss: 0.6422 - accuracy: 0.6604 - val_loss: 0.5050 - val_accuracy: 0.8327\n",
      "Epoch 171/200\n",
      "15/15 [==============================] - 0s 21ms/step - loss: 0.6418 - accuracy: 0.6603 - val_loss: 0.5155 - val_accuracy: 0.8327\n",
      "Epoch 172/200\n",
      "15/15 [==============================] - 0s 9ms/step - loss: 0.6374 - accuracy: 0.6669 - val_loss: 0.5441 - val_accuracy: 0.8327\n",
      "Epoch 173/200\n"
     ]
    },
    {
     "name": "stdout",
     "output_type": "stream",
     "text": [
      "15/15 [==============================] - 0s 9ms/step - loss: 0.6391 - accuracy: 0.6650 - val_loss: 0.5199 - val_accuracy: 0.8327\n",
      "Epoch 174/200\n",
      "15/15 [==============================] - 0s 8ms/step - loss: 0.6374 - accuracy: 0.6665 - val_loss: 0.5234 - val_accuracy: 0.8327\n",
      "Epoch 175/200\n",
      "15/15 [==============================] - 0s 10ms/step - loss: 0.6390 - accuracy: 0.6651 - val_loss: 0.5349 - val_accuracy: 0.8327\n",
      "Epoch 176/200\n",
      "15/15 [==============================] - 0s 8ms/step - loss: 0.6308 - accuracy: 0.6761 - val_loss: 0.5206 - val_accuracy: 0.8327\n",
      "Epoch 177/200\n",
      "15/15 [==============================] - 0s 8ms/step - loss: 0.6387 - accuracy: 0.6653 - val_loss: 0.5152 - val_accuracy: 0.8327\n",
      "Epoch 178/200\n",
      "15/15 [==============================] - 0s 8ms/step - loss: 0.6378 - accuracy: 0.6641 - val_loss: 0.5027 - val_accuracy: 0.8327\n",
      "Epoch 179/200\n",
      "15/15 [==============================] - 0s 8ms/step - loss: 0.6337 - accuracy: 0.6722 - val_loss: 0.5275 - val_accuracy: 0.8327\n",
      "Epoch 180/200\n",
      "15/15 [==============================] - 0s 7ms/step - loss: 0.6377 - accuracy: 0.6649 - val_loss: 0.5160 - val_accuracy: 0.8327\n",
      "Epoch 181/200\n",
      "15/15 [==============================] - 0s 8ms/step - loss: 0.6377 - accuracy: 0.6649 - val_loss: 0.5225 - val_accuracy: 0.8327\n",
      "Epoch 182/200\n",
      "15/15 [==============================] - 0s 8ms/step - loss: 0.6415 - accuracy: 0.6597 - val_loss: 0.5183 - val_accuracy: 0.8327\n",
      "Epoch 183/200\n",
      "15/15 [==============================] - 0s 8ms/step - loss: 0.6333 - accuracy: 0.6715 - val_loss: 0.5357 - val_accuracy: 0.8327\n",
      "Epoch 184/200\n",
      "15/15 [==============================] - 0s 9ms/step - loss: 0.6397 - accuracy: 0.6633 - val_loss: 0.5198 - val_accuracy: 0.8327\n",
      "Epoch 185/200\n",
      "15/15 [==============================] - 0s 7ms/step - loss: 0.6338 - accuracy: 0.6709 - val_loss: 0.5354 - val_accuracy: 0.8327\n",
      "Epoch 186/200\n",
      "15/15 [==============================] - 0s 8ms/step - loss: 0.6366 - accuracy: 0.6674 - val_loss: 0.5266 - val_accuracy: 0.8327\n",
      "Epoch 187/200\n",
      "15/15 [==============================] - 0s 8ms/step - loss: 0.6353 - accuracy: 0.6695 - val_loss: 0.5354 - val_accuracy: 0.8327\n",
      "Epoch 188/200\n",
      "15/15 [==============================] - 0s 8ms/step - loss: 0.6382 - accuracy: 0.6641 - val_loss: 0.5251 - val_accuracy: 0.8327\n",
      "Epoch 189/200\n",
      "15/15 [==============================] - 0s 8ms/step - loss: 0.6338 - accuracy: 0.6711 - val_loss: 0.5263 - val_accuracy: 0.8327\n",
      "Epoch 190/200\n",
      "15/15 [==============================] - 0s 8ms/step - loss: 0.6349 - accuracy: 0.6680 - val_loss: 0.5424 - val_accuracy: 0.8327\n",
      "Epoch 191/200\n",
      "15/15 [==============================] - 0s 8ms/step - loss: 0.6392 - accuracy: 0.6644 - val_loss: 0.5144 - val_accuracy: 0.8327\n",
      "Epoch 192/200\n",
      "15/15 [==============================] - 0s 9ms/step - loss: 0.6354 - accuracy: 0.6689 - val_loss: 0.5285 - val_accuracy: 0.8327\n",
      "Epoch 193/200\n",
      "15/15 [==============================] - 0s 8ms/step - loss: 0.6395 - accuracy: 0.6628 - val_loss: 0.5054 - val_accuracy: 0.8327\n",
      "Epoch 194/200\n",
      "15/15 [==============================] - 0s 9ms/step - loss: 0.6361 - accuracy: 0.6682 - val_loss: 0.5247 - val_accuracy: 0.8327\n",
      "Epoch 195/200\n",
      "15/15 [==============================] - 0s 9ms/step - loss: 0.6367 - accuracy: 0.6662 - val_loss: 0.5143 - val_accuracy: 0.8327\n",
      "Epoch 196/200\n",
      "15/15 [==============================] - 0s 8ms/step - loss: 0.6330 - accuracy: 0.6718 - val_loss: 0.5317 - val_accuracy: 0.8327\n",
      "Epoch 197/200\n",
      "15/15 [==============================] - 0s 9ms/step - loss: 0.6364 - accuracy: 0.6685 - val_loss: 0.5301 - val_accuracy: 0.8327\n",
      "Epoch 198/200\n",
      "15/15 [==============================] - 0s 9ms/step - loss: 0.6369 - accuracy: 0.6669 - val_loss: 0.5253 - val_accuracy: 0.8327\n",
      "Epoch 199/200\n",
      "15/15 [==============================] - 0s 10ms/step - loss: 0.6339 - accuracy: 0.6716 - val_loss: 0.5346 - val_accuracy: 0.8327\n",
      "Epoch 200/200\n",
      "15/15 [==============================] - 0s 9ms/step - loss: 0.6409 - accuracy: 0.6609 - val_loss: 0.5119 - val_accuracy: 0.8327\n",
      "Time:  27.197180249000667\n"
     ]
    }
   ],
   "source": [
    "import timeit\n",
    "\n",
    "start = timeit.default_timer()\n",
    "\n",
    "#Your statements here\n",
    "\n",
    "bestNN2=create_modelWithDropBatchOpt(hidden_layers= 6, learning_rate= 0.05)\n",
    "history3 = bestNN2.fit(\n",
    "     scaled_XKmeans, y_train_res,\n",
    "    validation_data=(scaled_XValid, y_valid),\n",
    "    batch_size=512,\n",
    "    epochs=200,\n",
    "#     callbacks=[early_stopping],\n",
    ")\n",
    "stop = timeit.default_timer()\n",
    "\n",
    "print('Time: ', stop - start)  \n"
   ]
  },
  {
   "cell_type": "code",
   "execution_count": 76,
   "metadata": {},
   "outputs": [
    {
     "data": {
      "text/html": [
       "<div>\n",
       "<style scoped>\n",
       "    .dataframe tbody tr th:only-of-type {\n",
       "        vertical-align: middle;\n",
       "    }\n",
       "\n",
       "    .dataframe tbody tr th {\n",
       "        vertical-align: top;\n",
       "    }\n",
       "\n",
       "    .dataframe thead th {\n",
       "        text-align: right;\n",
       "    }\n",
       "</style>\n",
       "<table border=\"1\" class=\"dataframe\">\n",
       "  <thead>\n",
       "    <tr style=\"text-align: right;\">\n",
       "      <th></th>\n",
       "      <th>Attrition_Flag</th>\n",
       "    </tr>\n",
       "  </thead>\n",
       "  <tbody>\n",
       "    <tr>\n",
       "      <th>0</th>\n",
       "      <td>1</td>\n",
       "    </tr>\n",
       "    <tr>\n",
       "      <th>1</th>\n",
       "      <td>1</td>\n",
       "    </tr>\n",
       "    <tr>\n",
       "      <th>2</th>\n",
       "      <td>1</td>\n",
       "    </tr>\n",
       "    <tr>\n",
       "      <th>3</th>\n",
       "      <td>1</td>\n",
       "    </tr>\n",
       "    <tr>\n",
       "      <th>4</th>\n",
       "      <td>1</td>\n",
       "    </tr>\n",
       "    <tr>\n",
       "      <th>5</th>\n",
       "      <td>1</td>\n",
       "    </tr>\n",
       "    <tr>\n",
       "      <th>6</th>\n",
       "      <td>1</td>\n",
       "    </tr>\n",
       "    <tr>\n",
       "      <th>7</th>\n",
       "      <td>1</td>\n",
       "    </tr>\n",
       "    <tr>\n",
       "      <th>8</th>\n",
       "      <td>1</td>\n",
       "    </tr>\n",
       "    <tr>\n",
       "      <th>9</th>\n",
       "      <td>1</td>\n",
       "    </tr>\n",
       "    <tr>\n",
       "      <th>10</th>\n",
       "      <td>1</td>\n",
       "    </tr>\n",
       "    <tr>\n",
       "      <th>11</th>\n",
       "      <td>1</td>\n",
       "    </tr>\n",
       "    <tr>\n",
       "      <th>12</th>\n",
       "      <td>1</td>\n",
       "    </tr>\n",
       "    <tr>\n",
       "      <th>13</th>\n",
       "      <td>1</td>\n",
       "    </tr>\n",
       "    <tr>\n",
       "      <th>14</th>\n",
       "      <td>1</td>\n",
       "    </tr>\n",
       "    <tr>\n",
       "      <th>15</th>\n",
       "      <td>1</td>\n",
       "    </tr>\n",
       "    <tr>\n",
       "      <th>16</th>\n",
       "      <td>1</td>\n",
       "    </tr>\n",
       "    <tr>\n",
       "      <th>17</th>\n",
       "      <td>0</td>\n",
       "    </tr>\n",
       "    <tr>\n",
       "      <th>18</th>\n",
       "      <td>1</td>\n",
       "    </tr>\n",
       "    <tr>\n",
       "      <th>19</th>\n",
       "      <td>1</td>\n",
       "    </tr>\n",
       "  </tbody>\n",
       "</table>\n",
       "</div>"
      ],
      "text/plain": [
       "    Attrition_Flag\n",
       "0                1\n",
       "1                1\n",
       "2                1\n",
       "3                1\n",
       "4                1\n",
       "5                1\n",
       "6                1\n",
       "7                1\n",
       "8                1\n",
       "9                1\n",
       "10               1\n",
       "11               1\n",
       "12               1\n",
       "13               1\n",
       "14               1\n",
       "15               1\n",
       "16               1\n",
       "17               0\n",
       "18               1\n",
       "19               1"
      ]
     },
     "execution_count": 76,
     "metadata": {},
     "output_type": "execute_result"
    }
   ],
   "source": [
    "y_train_res[0:20]"
   ]
  },
  {
   "cell_type": "code",
   "execution_count": 75,
   "metadata": {},
   "outputs": [
    {
     "data": {
      "text/plain": [
       "1    1687\n",
       "0     339\n",
       "Name: Attrition_Flag, dtype: int64"
      ]
     },
     "execution_count": 75,
     "metadata": {},
     "output_type": "execute_result"
    }
   ],
   "source": [
    "y_valid['Attrition_Flag'].value_counts()"
   ]
  },
  {
   "cell_type": "code",
   "execution_count": 68,
   "metadata": {},
   "outputs": [
    {
     "name": "stderr",
     "output_type": "stream",
     "text": [
      "/home/dheekshitha-vibha/miniconda3/envs/myenv/lib/python3.6/site-packages/tensorflow/python/keras/engine/sequential.py:450: UserWarning: `model.predict_classes()` is deprecated and will be removed after 2021-01-01. Please use instead:* `np.argmax(model.predict(x), axis=-1)`,   if your model does multi-class classification   (e.g. if it uses a `softmax` last-layer activation).* `(model.predict(x) > 0.5).astype(\"int32\")`,   if your model does binary classification   (e.g. if it uses a `sigmoid` last-layer activation).\n",
      "  warnings.warn('`model.predict_classes()` is deprecated and '\n"
     ]
    },
    {
     "data": {
      "image/png": "[encoded data removed]",
      "text/plain": [
       "<Figure size 576x432 with 2 Axes>"
      ]
     },
     "metadata": {
      "needs_background": "light"
     },
     "output_type": "display_data"
    },
    {
     "name": "stdout",
     "output_type": "stream",
     "text": [
      "Confusion matrix: \n",
      " [[   0  339]\n",
      " [   0 1687]]\n",
      "TP:  1687\n",
      "TN:  0\n",
      "FP:  339\n",
      "FN:  0\n",
      "Classification report: \n",
      "               precision    recall  f1-score   support\n",
      "\n",
      "           0       0.00      0.00      0.00       339\n",
      "           1       0.83      1.00      0.91      1687\n",
      "\n",
      "    accuracy                           0.83      2026\n",
      "   macro avg       0.42      0.50      0.45      2026\n",
      "weighted avg       0.69      0.83      0.76      2026\n",
      "\n"
     ]
    },
    {
     "name": "stderr",
     "output_type": "stream",
     "text": [
      "/home/dheekshitha-vibha/miniconda3/envs/myenv/lib/python3.6/site-packages/tensorflow/python/keras/engine/sequential.py:450: UserWarning: `model.predict_classes()` is deprecated and will be removed after 2021-01-01. Please use instead:* `np.argmax(model.predict(x), axis=-1)`,   if your model does multi-class classification   (e.g. if it uses a `softmax` last-layer activation).* `(model.predict(x) > 0.5).astype(\"int32\")`,   if your model does binary classification   (e.g. if it uses a `sigmoid` last-layer activation).\n",
      "  warnings.warn('`model.predict_classes()` is deprecated and '\n",
      "/home/dheekshitha-vibha/miniconda3/envs/myenv/lib/python3.6/site-packages/sklearn/metrics/_classification.py:1245: UndefinedMetricWarning: Precision and F-score are ill-defined and being set to 0.0 in labels with no predicted samples. Use `zero_division` parameter to control this behavior.\n",
      "  _warn_prf(average, modifier, msg_start, len(result))\n",
      "/home/dheekshitha-vibha/miniconda3/envs/myenv/lib/python3.6/site-packages/sklearn/metrics/_classification.py:1245: UndefinedMetricWarning: Precision and F-score are ill-defined and being set to 0.0 in labels with no predicted samples. Use `zero_division` parameter to control this behavior.\n",
      "  _warn_prf(average, modifier, msg_start, len(result))\n",
      "/home/dheekshitha-vibha/miniconda3/envs/myenv/lib/python3.6/site-packages/sklearn/metrics/_classification.py:1245: UndefinedMetricWarning: Precision and F-score are ill-defined and being set to 0.0 in labels with no predicted samples. Use `zero_division` parameter to control this behavior.\n",
      "  _warn_prf(average, modifier, msg_start, len(result))\n",
      "/home/dheekshitha-vibha/miniconda3/envs/myenv/lib/python3.6/site-packages/tensorflow/python/keras/engine/sequential.py:450: UserWarning: `model.predict_classes()` is deprecated and will be removed after 2021-01-01. Please use instead:* `np.argmax(model.predict(x), axis=-1)`,   if your model does multi-class classification   (e.g. if it uses a `softmax` last-layer activation).* `(model.predict(x) > 0.5).astype(\"int32\")`,   if your model does binary classification   (e.g. if it uses a `sigmoid` last-layer activation).\n",
      "  warnings.warn('`model.predict_classes()` is deprecated and '\n"
     ]
    },
    {
     "name": "stdout",
     "output_type": "stream",
     "text": [
      "Training Accuracy_Score: 66.67100977198697 %\n",
      "Training Precision: 66.67100977198697 %\n"
     ]
    },
    {
     "name": "stderr",
     "output_type": "stream",
     "text": [
      "/home/dheekshitha-vibha/miniconda3/envs/myenv/lib/python3.6/site-packages/tensorflow/python/keras/engine/sequential.py:450: UserWarning: `model.predict_classes()` is deprecated and will be removed after 2021-01-01. Please use instead:* `np.argmax(model.predict(x), axis=-1)`,   if your model does multi-class classification   (e.g. if it uses a `softmax` last-layer activation).* `(model.predict(x) > 0.5).astype(\"int32\")`,   if your model does binary classification   (e.g. if it uses a `sigmoid` last-layer activation).\n",
      "  warnings.warn('`model.predict_classes()` is deprecated and '\n",
      "/home/dheekshitha-vibha/miniconda3/envs/myenv/lib/python3.6/site-packages/tensorflow/python/keras/engine/sequential.py:450: UserWarning: `model.predict_classes()` is deprecated and will be removed after 2021-01-01. Please use instead:* `np.argmax(model.predict(x), axis=-1)`,   if your model does multi-class classification   (e.g. if it uses a `softmax` last-layer activation).* `(model.predict(x) > 0.5).astype(\"int32\")`,   if your model does binary classification   (e.g. if it uses a `sigmoid` last-layer activation).\n",
      "  warnings.warn('`model.predict_classes()` is deprecated and '\n"
     ]
    },
    {
     "name": "stdout",
     "output_type": "stream",
     "text": [
      "Training Recall: 100.0 %\n"
     ]
    },
    {
     "name": "stderr",
     "output_type": "stream",
     "text": [
      "/home/dheekshitha-vibha/miniconda3/envs/myenv/lib/python3.6/site-packages/tensorflow/python/keras/engine/sequential.py:450: UserWarning: `model.predict_classes()` is deprecated and will be removed after 2021-01-01. Please use instead:* `np.argmax(model.predict(x), axis=-1)`,   if your model does multi-class classification   (e.g. if it uses a `softmax` last-layer activation).* `(model.predict(x) > 0.5).astype(\"int32\")`,   if your model does binary classification   (e.g. if it uses a `sigmoid` last-layer activation).\n",
      "  warnings.warn('`model.predict_classes()` is deprecated and '\n"
     ]
    },
    {
     "name": "stdout",
     "output_type": "stream",
     "text": [
      "Training F1 Score: 80.00312695434646 %\n",
      "Validation Accuracy_Score: 83.26752221125369 %\n",
      "Validation Precision: 83.26752221125369 %\n",
      "Validation Recall: 100.0 %\n",
      "Validation F1 Score: 90.869916509561 %\n"
     ]
    }
   ],
   "source": [
    "\n",
    "plotconfusionMatrix(bestNN2,y_valid['Attrition_Flag'],scaled_XValid)\n",
    "\n",
    "getMetrics(bestNN2,scaled_XKmeans,y_train_res['Attrition_Flag'],scaled_XValid,y_valid['Attrition_Flag'])"
   ]
  },
  {
   "cell_type": "code",
   "execution_count": 37,
   "metadata": {
    "scrolled": true
   },
   "outputs": [
    {
     "ename": "NameError",
     "evalue": "name 'pca_finalDF' is not defined",
     "output_type": "error",
     "traceback": [
      "\u001b[0;31m---------------------------------------------------------------------------\u001b[0m",
      "\u001b[0;31mNameError\u001b[0m                                 Traceback (most recent call last)",
      "\u001b[0;32m<ipython-input-37-306829ce6385>\u001b[0m in \u001b[0;36m<module>\u001b[0;34m\u001b[0m\n\u001b[1;32m      7\u001b[0m \u001b[0mbestNN\u001b[0m\u001b[0;34m=\u001b[0m\u001b[0mcreate_modelWithDropBatch\u001b[0m\u001b[0;34m(\u001b[0m\u001b[0mhidden_layers\u001b[0m\u001b[0;34m=\u001b[0m \u001b[0;36m6\u001b[0m\u001b[0;34m,\u001b[0m \u001b[0mlearning_rate\u001b[0m\u001b[0;34m=\u001b[0m \u001b[0;36m0.05\u001b[0m\u001b[0;34m)\u001b[0m\u001b[0;34m\u001b[0m\u001b[0;34m\u001b[0m\u001b[0m\n\u001b[1;32m      8\u001b[0m history2 = bestNN.fit(\n\u001b[0;32m----> 9\u001b[0;31m      \u001b[0mpca_finalDF\u001b[0m\u001b[0;34m,\u001b[0m \u001b[0my_train_res\u001b[0m\u001b[0;34m,\u001b[0m\u001b[0;34m\u001b[0m\u001b[0;34m\u001b[0m\u001b[0m\n\u001b[0m\u001b[1;32m     10\u001b[0m     \u001b[0mvalidation_data\u001b[0m\u001b[0;34m=\u001b[0m\u001b[0;34m(\u001b[0m\u001b[0mpcavalidData\u001b[0m\u001b[0;34m,\u001b[0m \u001b[0my_valid\u001b[0m\u001b[0;34m)\u001b[0m\u001b[0;34m,\u001b[0m\u001b[0;34m\u001b[0m\u001b[0;34m\u001b[0m\u001b[0m\n\u001b[1;32m     11\u001b[0m     \u001b[0mbatch_size\u001b[0m\u001b[0;34m=\u001b[0m\u001b[0;36m512\u001b[0m\u001b[0;34m,\u001b[0m\u001b[0;34m\u001b[0m\u001b[0;34m\u001b[0m\u001b[0m\n",
      "\u001b[0;31mNameError\u001b[0m: name 'pca_finalDF' is not defined"
     ]
    }
   ],
   "source": [
    "import timeit\n",
    "\n",
    "start = timeit.default_timer()\n",
    "\n",
    "#Your statements here\n",
    "\n",
    "bestNN=create_modelWithDropBatch(hidden_layers= 6, learning_rate= 0.05)\n",
    "history2 = bestNN.fit(\n",
    "     pca_finalDF, y_train_res,\n",
    "    validation_data=(pcavalidData, y_valid),\n",
    "    batch_size=512,\n",
    "    epochs=200,\n",
    "#     callbacks=[early_stopping],\n",
    ")\n",
    "stop = timeit.default_timer()\n",
    "\n",
    "print('Time: ', stop - start)  \n"
   ]
  },
  {
   "cell_type": "code",
   "execution_count": 51,
   "metadata": {},
   "outputs": [],
   "source": [
    "def plotconfusionMatrix(modelObj,ytest,xtest):\n",
    "#     model_DecTreeClass2.fit(X_train_res, y_train_res)\n",
    "    y_pred_DecTreeClass2 = modelObj.predict_classes(xtest)\n",
    "    conf_mat2 = metrics.confusion_matrix(ytest, y_pred_DecTreeClass2)\n",
    "    plt.figure(figsize=(8,6))\n",
    "    sns.heatmap(conf_mat2,annot=True)\n",
    "    plt.title(\"Confusion_matrix\")\n",
    "    plt.xlabel(\"Predicted Class\")\n",
    "    plt.ylabel(\"Actual class\")\n",
    "    plt.show()\n",
    "    print('Confusion matrix: \\n', conf_mat2)\n",
    "    print('TP: ', conf_mat2[1,1])\n",
    "    print('TN: ', conf_mat2[0,0])\n",
    "    print('FP: ', conf_mat2[0,1])\n",
    "    print('FN: ', conf_mat2[1,0])\n",
    "\n",
    "def getMetrics(modelObj,xTrain,yTrain,xValid,yValid):\n",
    "    y_pred_DecTreeClass2 = modelObj.predict_classes(xValid)\n",
    "    print('Classification report: \\n', metrics.classification_report(yValid, y_pred_DecTreeClass2))\n",
    "    print('Training Accuracy_Score:',metrics.accuracy_score(yTrain, modelObj.predict_classes(xTrain))*100,'%')\n",
    "    print('Training Precision:',metrics.precision_score(yTrain, modelObj.predict_classes(xTrain))*100,'%')\n",
    "    print('Training Recall:',metrics.recall_score(yTrain, modelObj.predict_classes(xTrain))*100,'%')\n",
    "    \n",
    "    print('Training F1 Score:',metrics.f1_score(yTrain, modelObj.predict_classes(xTrain))*100,'%')\n",
    "\n",
    "    \n",
    "    print('Validation Accuracy_Score:',metrics.accuracy_score(yValid, y_pred_DecTreeClass2)*100,'%')\n",
    "    print('Validation Precision:',metrics.precision_score(yValid, y_pred_DecTreeClass2)*100,'%')\n",
    "    print('Validation Recall:',metrics.recall_score(yValid, y_pred_DecTreeClass2)*100,'%')\n",
    "    \n",
    "    print('Validation F1 Score:',metrics.f1_score(yValid, y_pred_DecTreeClass2)*100,'%')"
   ]
  },
  {
   "cell_type": "code",
   "execution_count": 26,
   "metadata": {},
   "outputs": [
    {
     "data": {
      "text/plain": [
       "<AxesSubplot:title={'center':'Accuracy'}>"
      ]
     },
     "execution_count": 26,
     "metadata": {},
     "output_type": "execute_result"
    },
    {
     "data": {
      "image/png": "[encoded data removed]",
      "text/plain": [
       "<Figure size 432x288 with 1 Axes>"
      ]
     },
     "metadata": {
      "needs_background": "light"
     },
     "output_type": "display_data"
    },
    {
     "data": {
      "image/png": "[encoded data removed]",
      "text/plain": [
       "<Figure size 432x288 with 1 Axes>"
      ]
     },
     "metadata": {
      "needs_background": "light"
     },
     "output_type": "display_data"
    }
   ],
   "source": [
    "history_df = pd.DataFrame(history2.history)\n",
    "history_df.loc[:, ['loss', 'val_loss']].plot(title=\"Cross-entropy\")\n",
    "history_df.loc[:, ['accuracy', 'val_accuracy']].plot(title=\"Accuracy\")"
   ]
  },
  {
   "cell_type": "code",
   "execution_count": 36,
   "metadata": {},
   "outputs": [],
   "source": [
    "# scaled_x_test"
   ]
  },
  {
   "cell_type": "code",
   "execution_count": 34,
   "metadata": {
    "scrolled": true
   },
   "outputs": [
    {
     "ename": "NameError",
     "evalue": "name 'bestNN2' is not defined",
     "output_type": "error",
     "traceback": [
      "\u001b[0;31m---------------------------------------------------------------------------\u001b[0m",
      "\u001b[0;31mNameError\u001b[0m                                 Traceback (most recent call last)",
      "\u001b[0;32m<ipython-input-34-464f13e42beb>\u001b[0m in \u001b[0;36m<module>\u001b[0;34m\u001b[0m\n\u001b[0;32m----> 1\u001b[0;31m \u001b[0my_pred_SVM\u001b[0m \u001b[0;34m=\u001b[0m \u001b[0mbestNN2\u001b[0m\u001b[0;34m.\u001b[0m\u001b[0mpredict_classes\u001b[0m\u001b[0;34m(\u001b[0m\u001b[0mpca_finalDF\u001b[0m\u001b[0;34m)\u001b[0m\u001b[0;34m\u001b[0m\u001b[0;34m\u001b[0m\u001b[0m\n\u001b[0m\u001b[1;32m      2\u001b[0m \u001b[0;34m\u001b[0m\u001b[0m\n\u001b[1;32m      3\u001b[0m \u001b[0;34m\u001b[0m\u001b[0m\n\u001b[1;32m      4\u001b[0m \u001b[0;31m# print('Classification report: \\n', metrics.classification_report(y_test, model))\u001b[0m\u001b[0;34m\u001b[0m\u001b[0;34m\u001b[0m\u001b[0;34m\u001b[0m\u001b[0m\n\u001b[1;32m      5\u001b[0m \u001b[0mprint\u001b[0m\u001b[0;34m(\u001b[0m\u001b[0;34m'Accuracy_Score:'\u001b[0m\u001b[0;34m,\u001b[0m\u001b[0mmetrics\u001b[0m\u001b[0;34m.\u001b[0m\u001b[0maccuracy_score\u001b[0m\u001b[0;34m(\u001b[0m\u001b[0my_train_res\u001b[0m\u001b[0;34m,\u001b[0m \u001b[0my_pred_SVM\u001b[0m\u001b[0;34m)\u001b[0m\u001b[0;34m*\u001b[0m\u001b[0;36m100\u001b[0m\u001b[0;34m,\u001b[0m\u001b[0;34m'%'\u001b[0m\u001b[0;34m)\u001b[0m\u001b[0;34m\u001b[0m\u001b[0;34m\u001b[0m\u001b[0m\n",
      "\u001b[0;31mNameError\u001b[0m: name 'bestNN2' is not defined"
     ]
    }
   ],
   "source": [
    "y_pred_SVM = bestNN2.predict_classes(pca_finalDF)\n",
    "\n",
    "\n",
    "# print('Classification report: \\n', metrics.classification_report(y_test, model))\n",
    "print('Accuracy_Score:',metrics.accuracy_score(y_train_res, y_pred_SVM)*100,'%')\n",
    "\n",
    "\n",
    "print('precision_score:',metrics.precision_score(y_train_res, y_pred_SVM)*100,'%')\n",
    "\n",
    "print('recall_score:',metrics.recall_score(y_train_res, y_pred_SVM)*100,'%')"
   ]
  },
  {
   "cell_type": "code",
   "execution_count": 52,
   "metadata": {
    "scrolled": false
   },
   "outputs": [
    {
     "name": "stderr",
     "output_type": "stream",
     "text": [
      "/home/dheekshitha-vibha/miniconda3/envs/myenv/lib/python3.6/site-packages/tensorflow/python/keras/engine/sequential.py:450: UserWarning: `model.predict_classes()` is deprecated and will be removed after 2021-01-01. Please use instead:* `np.argmax(model.predict(x), axis=-1)`,   if your model does multi-class classification   (e.g. if it uses a `softmax` last-layer activation).* `(model.predict(x) > 0.5).astype(\"int32\")`,   if your model does binary classification   (e.g. if it uses a `sigmoid` last-layer activation).\n",
      "  warnings.warn('`model.predict_classes()` is deprecated and '\n"
     ]
    },
    {
     "data": {
      "image/png": "[encoded data removed]",
      "text/plain": [
       "<Figure size 576x432 with 2 Axes>"
      ]
     },
     "metadata": {
      "needs_background": "light"
     },
     "output_type": "display_data"
    },
    {
     "name": "stdout",
     "output_type": "stream",
     "text": [
      "Confusion matrix: \n",
      " [[ 339    0]\n",
      " [1687    0]]\n",
      "TP:  0\n",
      "TN:  339\n",
      "FP:  0\n",
      "FN:  1687\n",
      "Classification report: \n",
      "               precision    recall  f1-score   support\n",
      "\n",
      "           0       0.17      1.00      0.29       339\n",
      "           1       0.00      0.00      0.00      1687\n",
      "\n",
      "    accuracy                           0.17      2026\n",
      "   macro avg       0.08      0.50      0.14      2026\n",
      "weighted avg       0.03      0.17      0.05      2026\n",
      "\n"
     ]
    },
    {
     "name": "stderr",
     "output_type": "stream",
     "text": [
      "/home/dheekshitha-vibha/miniconda3/envs/myenv/lib/python3.6/site-packages/tensorflow/python/keras/engine/sequential.py:450: UserWarning: `model.predict_classes()` is deprecated and will be removed after 2021-01-01. Please use instead:* `np.argmax(model.predict(x), axis=-1)`,   if your model does multi-class classification   (e.g. if it uses a `softmax` last-layer activation).* `(model.predict(x) > 0.5).astype(\"int32\")`,   if your model does binary classification   (e.g. if it uses a `sigmoid` last-layer activation).\n",
      "  warnings.warn('`model.predict_classes()` is deprecated and '\n",
      "/home/dheekshitha-vibha/miniconda3/envs/myenv/lib/python3.6/site-packages/sklearn/metrics/_classification.py:1245: UndefinedMetricWarning: Precision and F-score are ill-defined and being set to 0.0 in labels with no predicted samples. Use `zero_division` parameter to control this behavior.\n",
      "  _warn_prf(average, modifier, msg_start, len(result))\n",
      "/home/dheekshitha-vibha/miniconda3/envs/myenv/lib/python3.6/site-packages/sklearn/metrics/_classification.py:1245: UndefinedMetricWarning: Precision and F-score are ill-defined and being set to 0.0 in labels with no predicted samples. Use `zero_division` parameter to control this behavior.\n",
      "  _warn_prf(average, modifier, msg_start, len(result))\n",
      "/home/dheekshitha-vibha/miniconda3/envs/myenv/lib/python3.6/site-packages/sklearn/metrics/_classification.py:1245: UndefinedMetricWarning: Precision and F-score are ill-defined and being set to 0.0 in labels with no predicted samples. Use `zero_division` parameter to control this behavior.\n",
      "  _warn_prf(average, modifier, msg_start, len(result))\n",
      "/home/dheekshitha-vibha/miniconda3/envs/myenv/lib/python3.6/site-packages/tensorflow/python/keras/engine/sequential.py:450: UserWarning: `model.predict_classes()` is deprecated and will be removed after 2021-01-01. Please use instead:* `np.argmax(model.predict(x), axis=-1)`,   if your model does multi-class classification   (e.g. if it uses a `softmax` last-layer activation).* `(model.predict(x) > 0.5).astype(\"int32\")`,   if your model does binary classification   (e.g. if it uses a `sigmoid` last-layer activation).\n",
      "  warnings.warn('`model.predict_classes()` is deprecated and '\n"
     ]
    },
    {
     "name": "stdout",
     "output_type": "stream",
     "text": [
      "Training Accuracy_Score: 33.328990228013026 %\n",
      "Training Precision: 0.0 %\n"
     ]
    },
    {
     "name": "stderr",
     "output_type": "stream",
     "text": [
      "/home/dheekshitha-vibha/miniconda3/envs/myenv/lib/python3.6/site-packages/tensorflow/python/keras/engine/sequential.py:450: UserWarning: `model.predict_classes()` is deprecated and will be removed after 2021-01-01. Please use instead:* `np.argmax(model.predict(x), axis=-1)`,   if your model does multi-class classification   (e.g. if it uses a `softmax` last-layer activation).* `(model.predict(x) > 0.5).astype(\"int32\")`,   if your model does binary classification   (e.g. if it uses a `sigmoid` last-layer activation).\n",
      "  warnings.warn('`model.predict_classes()` is deprecated and '\n",
      "/home/dheekshitha-vibha/miniconda3/envs/myenv/lib/python3.6/site-packages/sklearn/metrics/_classification.py:1245: UndefinedMetricWarning: Precision is ill-defined and being set to 0.0 due to no predicted samples. Use `zero_division` parameter to control this behavior.\n",
      "  _warn_prf(average, modifier, msg_start, len(result))\n",
      "/home/dheekshitha-vibha/miniconda3/envs/myenv/lib/python3.6/site-packages/tensorflow/python/keras/engine/sequential.py:450: UserWarning: `model.predict_classes()` is deprecated and will be removed after 2021-01-01. Please use instead:* `np.argmax(model.predict(x), axis=-1)`,   if your model does multi-class classification   (e.g. if it uses a `softmax` last-layer activation).* `(model.predict(x) > 0.5).astype(\"int32\")`,   if your model does binary classification   (e.g. if it uses a `sigmoid` last-layer activation).\n",
      "  warnings.warn('`model.predict_classes()` is deprecated and '\n"
     ]
    },
    {
     "name": "stdout",
     "output_type": "stream",
     "text": [
      "Training Recall: 0.0 %\n"
     ]
    },
    {
     "name": "stderr",
     "output_type": "stream",
     "text": [
      "/home/dheekshitha-vibha/miniconda3/envs/myenv/lib/python3.6/site-packages/tensorflow/python/keras/engine/sequential.py:450: UserWarning: `model.predict_classes()` is deprecated and will be removed after 2021-01-01. Please use instead:* `np.argmax(model.predict(x), axis=-1)`,   if your model does multi-class classification   (e.g. if it uses a `softmax` last-layer activation).* `(model.predict(x) > 0.5).astype(\"int32\")`,   if your model does binary classification   (e.g. if it uses a `sigmoid` last-layer activation).\n",
      "  warnings.warn('`model.predict_classes()` is deprecated and '\n"
     ]
    },
    {
     "name": "stdout",
     "output_type": "stream",
     "text": [
      "Training F1 Score: 0.0 %\n",
      "Validation Accuracy_Score: 16.732477788746298 %\n",
      "Validation Precision: 0.0 %\n",
      "Validation Recall: 0.0 %\n",
      "Validation F1 Score: 0.0 %\n"
     ]
    },
    {
     "name": "stderr",
     "output_type": "stream",
     "text": [
      "/home/dheekshitha-vibha/miniconda3/envs/myenv/lib/python3.6/site-packages/sklearn/metrics/_classification.py:1245: UndefinedMetricWarning: Precision is ill-defined and being set to 0.0 due to no predicted samples. Use `zero_division` parameter to control this behavior.\n",
      "  _warn_prf(average, modifier, msg_start, len(result))\n"
     ]
    }
   ],
   "source": [
    "\n",
    "plotconfusionMatrix(bestNN,y_valid['Attrition_Flag'],pcavalidData)\n",
    "\n",
    "getMetrics(bestNN,pca_finalDF,y_train_res['Attrition_Flag'],pcavalidData,y_valid['Attrition_Flag'])"
   ]
  }
 ],
 "metadata": {
  "kernelspec": {
   "display_name": "myenv",
   "language": "python",
   "name": "myenv"
  },
  "language_info": {
   "codemirror_mode": {
    "name": "ipython",
    "version": 3
   },
   "file_extension": ".py",
   "mimetype": "text/x-python",
   "name": "python",
   "nbconvert_exporter": "python",
   "pygments_lexer": "ipython3",
   "version": "3.6.12"
  }
 },
 "nbformat": 4,
 "nbformat_minor": 4
}
