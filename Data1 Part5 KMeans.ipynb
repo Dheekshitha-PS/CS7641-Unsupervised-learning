{
 "cells": [
  {
   "cell_type": "code",
   "execution_count": 145,
   "metadata": {},
   "outputs": [],
   "source": [
    "import pickle as pk\n",
    "import pandas as pd\n",
    "import numpy as np\n",
    "import copy\n",
    "\n",
    "data=pd.read_csv(\"./Data/BankChurners.csv\")\n",
    "\n",
    "data['Attrition_Flag'] = data['Attrition_Flag'].map({1: 'Existing Customer', 0: 'Attrited Customer'})\n"
   ]
  },
  {
   "cell_type": "code",
   "execution_count": 146,
   "metadata": {},
   "outputs": [],
   "source": [
    "import numpy as np # linear algebra\n",
    "import pandas as pd # data processing, CSV file I/O (e.g. pd.read_csv)\n",
    "import matplotlib.pyplot as plt\n",
    "import seaborn as sns\n",
    "%matplotlib inline\n",
    "\n",
    "\n",
    "from sklearn.tree import DecisionTreeClassifier\n",
    "from sklearn.metrics import roc_curve, auc\n",
    "\n",
    "from sklearn.model_selection import KFold, cross_val_score\n",
    "from sklearn.preprocessing import StandardScaler, OneHotEncoder, LabelEncoder\n",
    "\n",
    "# # print)str\n",
    "# scaled_x_train=pd.read_csv(\"./Data/scaled_x_train_smote2.csv\")\n",
    "# scaled_x_test=pd.read_csv(\"./Data/scaled_x_test_smote2.csv\")\n",
    "# # pd.read_csv(\"./Data/scaled_x_test_smote2.csv\")\n",
    "# scaled_x_cv=pd.read_csv(\"./Data/scaled_x_cv_smote2.csv\")\n",
    "\n",
    "y_test_copy=pd.read_csv(\"./Data/y_test_smote3.csv\")\n",
    "x_test=pd.read_csv(\"./Data/x_test_smote3.csv\")\n",
    "\n",
    "X_train_res=pd.read_csv(\"./Data/X_train_res_smote3.csv\")\n",
    "y_train_res=pd.read_csv(\"./Data/y_train_res_smote3.csv\")\n",
    "\n",
    "X_train_res=X_train_res.drop('Unnamed: 0',axis=1)\n",
    "y_train_res=y_train_res.drop('Unnamed: 0',axis=1)\n",
    "x_test=x_test.drop('Unnamed: 0',axis=1)\n",
    "\n",
    "\n",
    "y_test_copy=y_test_copy.drop('Unnamed: 0',axis=1)\n",
    "# scaled_x_test=scaled_x_test.drop('Unnamed: 0',axis=1)\n",
    "# scaled_x_cv=scaled_x_cv.drop('Unnamed: 0',axis=1)\n",
    "\n",
    "\n",
    "y_test=y_test_copy\n",
    "\n",
    "y_valid=pd.read_csv(\"./Data/y_valid_smote3.csv\")\n",
    "x_valid=pd.read_csv(\"./Data/x_valid_smote3.csv\")\n",
    "\n",
    "x_valid=x_valid.drop('Unnamed: 0',axis=1)\n",
    "y_valid=y_valid.drop('Unnamed: 0',axis=1)\n",
    "\n",
    "y_valid.shape\n",
    "\n",
    "\n",
    "\n",
    "\n",
    "y_train_res['Attrition_Flag']=y_train_res['Attrition_Flag'].map({'Existing Customer': 1, 'Attrited Customer': 0})\n",
    "y_valid['Attrition_Flag']=y_valid['Attrition_Flag'].map({'Existing Customer': 1, 'Attrited Customer': 0})\n",
    "y_test_copy['Attrition_Flag']=y_test_copy['Attrition_Flag'].map({'Existing Customer': 1, 'Attrited Customer': 0})\n",
    "\n"
   ]
  },
  {
   "cell_type": "code",
   "execution_count": 147,
   "metadata": {},
   "outputs": [
    {
     "data": {
      "text/plain": [
       "(7675, 32)"
      ]
     },
     "execution_count": 147,
     "metadata": {},
     "output_type": "execute_result"
    }
   ],
   "source": [
    "#  Scaling features\n",
    "scaler = StandardScaler()\n",
    "scaler.fit(X_train_res)\n",
    "\n",
    "scaled_x_train = scaler.transform(X_train_res)\n",
    "scaled_x_test = scaler.transform(x_test)\n",
    "\n",
    "\n",
    "scaled_x_valid=scaler.transform(x_valid)\n",
    "# scaled_y_cv =scaler.transform(y_cv)\n",
    "\n",
    "scaled_x_train.shape\n",
    "\n",
    "\n",
    "scaled_x_train.shape"
   ]
  },
  {
   "cell_type": "code",
   "execution_count": 148,
   "metadata": {},
   "outputs": [],
   "source": [
    "from sklearn.cluster import KMeans\n",
    "from sklearn.metrics import silhouette_samples, silhouette_score"
   ]
  },
  {
   "cell_type": "code",
   "execution_count": 149,
   "metadata": {},
   "outputs": [
    {
     "name": "stdout",
     "output_type": "stream",
     "text": [
      "(7675, 34)\n"
     ]
    }
   ],
   "source": [
    "kmeanModel= KMeans(n_clusters=16, init='k-means++', max_iter=1000, n_init=10, random_state=0)\n",
    "Xtrain=kmeanModel.fit_transform(scaled_x_train)\n",
    "\n",
    "# scaled_x_train[:,5].shape\n",
    "kmeanModel.predict(scaled_x_train)\n",
    "y_train_res.shape\n",
    "\n",
    "df=pd.DataFrame(columns=X_train_res.columns)\n",
    "df.shape\n",
    "\n",
    "df=pd.DataFrame(scaled_x_train)\n",
    "df.columns=X_train_res.columns\n",
    "\n",
    "\n",
    "\n",
    "#                 ['k_means','target','1','2','3','4','5'])\n",
    "# df['5']=scaled_x_train[:,5]\n",
    "# df['6']=scaled_x_train[:,6]\n",
    "df['k_means']=kmeanModel.predict(scaled_x_train)\n",
    "df['target']=y_train_res\n",
    "print(df.shape)"
   ]
  },
  {
   "cell_type": "code",
   "execution_count": 150,
   "metadata": {},
   "outputs": [],
   "source": [
    "Xvalid=kmeanModel.transform(scaled_x_valid)"
   ]
  },
  {
   "cell_type": "code",
   "execution_count": 151,
   "metadata": {},
   "outputs": [
    {
     "data": {
      "text/plain": [
       "(7675, 32)"
      ]
     },
     "execution_count": 151,
     "metadata": {},
     "output_type": "execute_result"
    }
   ],
   "source": [
    "XtrainData.shape"
   ]
  },
  {
   "cell_type": "code",
   "execution_count": 152,
   "metadata": {},
   "outputs": [
    {
     "data": {
      "text/plain": [
       "array([[ 7.35582623,  5.60375117,  7.18623168, ...,  5.14904066,\n",
       "         6.7546215 , 27.46151671],\n",
       "       [ 9.71587409,  8.92641324,  9.03088296, ...,  8.55344962,\n",
       "         9.24700354, 27.63178362],\n",
       "       [ 8.12208827,  7.48258923,  7.41857019, ...,  7.18346448,\n",
       "         7.68531536, 27.27520064],\n",
       "       ...,\n",
       "       [ 6.99264225,  5.48579692,  6.06326103, ...,  4.93452826,\n",
       "         6.32122702, 27.14940592],\n",
       "       [ 8.05842462,  7.22606344,  8.15337096, ...,  7.16621905,\n",
       "         4.44736499, 27.62435391],\n",
       "       [ 7.4890939 ,  5.34455036,  7.40699903, ...,  6.25830121,\n",
       "         6.86015692, 27.12932602]])"
      ]
     },
     "execution_count": 152,
     "metadata": {},
     "output_type": "execute_result"
    }
   ],
   "source": [
    "Xvalid"
   ]
  },
  {
   "cell_type": "code",
   "execution_count": 153,
   "metadata": {},
   "outputs": [
    {
     "data": {
      "text/plain": [
       "array([10,  6,  8, ..., 11, 14,  8], dtype=int32)"
      ]
     },
     "execution_count": 153,
     "metadata": {},
     "output_type": "execute_result"
    }
   ],
   "source": [
    "XValidclusters=kmeanModel.predict(scaled_x_valid)\n",
    "XValidclusters"
   ]
  },
  {
   "cell_type": "code",
   "execution_count": 154,
   "metadata": {
    "scrolled": true
   },
   "outputs": [],
   "source": [
    "XValidclusters=pd.DataFrame(XValidclusters,columns=[\"Cluster\"])"
   ]
  },
  {
   "cell_type": "code",
   "execution_count": 155,
   "metadata": {},
   "outputs": [
    {
     "data": {
      "text/plain": [
       "(7675, 16)"
      ]
     },
     "execution_count": 155,
     "metadata": {},
     "output_type": "execute_result"
    }
   ],
   "source": [
    "XtrainClusters=kmeanModel.predict(scaled_x_train)\n",
    "XtrainClusters=pd.DataFrame(XtrainClusters,columns=[\"Cluster\"])\n",
    "XtrainClustersEn = pd.get_dummies(XtrainClusters['Cluster'])\n",
    "XtrainClustersEn.shape"
   ]
  },
  {
   "cell_type": "code",
   "execution_count": 156,
   "metadata": {},
   "outputs": [
    {
     "data": {
      "text/plain": [
       "(7675, 32)"
      ]
     },
     "execution_count": 156,
     "metadata": {},
     "output_type": "execute_result"
    }
   ],
   "source": [
    "z=np.array(XtrainClustersEn)\n",
    "z\n",
    "\n",
    "# XValidclustersEn[[0,1],]\n",
    "\n",
    "k=Xtrain\n",
    "\n",
    "\n",
    "XtrainData=np.append(k,z,1)\n",
    "XtrainData.shape"
   ]
  },
  {
   "cell_type": "code",
   "execution_count": 157,
   "metadata": {},
   "outputs": [],
   "source": [
    "# enc = OneHotEncoder(handle_unknown='ignore')"
   ]
  },
  {
   "cell_type": "code",
   "execution_count": 158,
   "metadata": {},
   "outputs": [],
   "source": [
    "# enc.fit(XValidclusters)"
   ]
  },
  {
   "cell_type": "code",
   "execution_count": 159,
   "metadata": {},
   "outputs": [
    {
     "data": {
      "text/plain": [
       "array([10,  6,  8, 14, 11,  0,  3,  5,  9, 12,  1,  4,  2,  7, 13, 15],\n",
       "      dtype=int32)"
      ]
     },
     "execution_count": 159,
     "metadata": {},
     "output_type": "execute_result"
    }
   ],
   "source": [
    "XValidclusters.Cluster.unique()"
   ]
  },
  {
   "cell_type": "code",
   "execution_count": 160,
   "metadata": {},
   "outputs": [
    {
     "data": {
      "text/plain": [
       "(2026, 16)"
      ]
     },
     "execution_count": 160,
     "metadata": {},
     "output_type": "execute_result"
    }
   ],
   "source": [
    "XValidclustersEn = pd.get_dummies(XValidclusters['Cluster'])\n",
    "XValidclustersEn.shape"
   ]
  },
  {
   "cell_type": "code",
   "execution_count": 161,
   "metadata": {},
   "outputs": [
    {
     "data": {
      "text/plain": [
       "array([[ 7.35582623,  5.60375117,  7.18623168, ...,  5.14904066,\n",
       "         6.7546215 , 27.46151671],\n",
       "       [ 9.71587409,  8.92641324,  9.03088296, ...,  8.55344962,\n",
       "         9.24700354, 27.63178362],\n",
       "       [ 8.12208827,  7.48258923,  7.41857019, ...,  7.18346448,\n",
       "         7.68531536, 27.27520064],\n",
       "       ...,\n",
       "       [ 6.99264225,  5.48579692,  6.06326103, ...,  4.93452826,\n",
       "         6.32122702, 27.14940592],\n",
       "       [ 8.05842462,  7.22606344,  8.15337096, ...,  7.16621905,\n",
       "         4.44736499, 27.62435391],\n",
       "       [ 7.4890939 ,  5.34455036,  7.40699903, ...,  6.25830121,\n",
       "         6.86015692, 27.12932602]])"
      ]
     },
     "execution_count": 161,
     "metadata": {},
     "output_type": "execute_result"
    }
   ],
   "source": [
    "Xvalid"
   ]
  },
  {
   "cell_type": "code",
   "execution_count": 162,
   "metadata": {},
   "outputs": [
    {
     "data": {
      "text/plain": [
       "array([ 7.35582623,  5.60375117,  7.18623168,  6.49747395,  4.63301126,\n",
       "        5.90254497,  8.16734168, 12.38278229,  6.96429959,  7.46312683,\n",
       "        3.88727625,  6.54522355,  6.11853051,  5.14904066,  6.7546215 ,\n",
       "       27.46151671])"
      ]
     },
     "execution_count": 162,
     "metadata": {},
     "output_type": "execute_result"
    }
   ],
   "source": [
    "Xvalid[0]"
   ]
  },
  {
   "cell_type": "code",
   "execution_count": 163,
   "metadata": {},
   "outputs": [
    {
     "data": {
      "text/plain": [
       "array([[0, 0, 0, ..., 0, 0, 0],\n",
       "       [0, 0, 0, ..., 0, 0, 0],\n",
       "       [0, 0, 0, ..., 0, 0, 0],\n",
       "       ...,\n",
       "       [0, 0, 0, ..., 0, 0, 0],\n",
       "       [0, 0, 0, ..., 0, 1, 0],\n",
       "       [0, 0, 0, ..., 0, 0, 0]], dtype=uint8)"
      ]
     },
     "execution_count": 163,
     "metadata": {},
     "output_type": "execute_result"
    }
   ],
   "source": [
    "z=np.array(XValidclustersEn)\n",
    "z"
   ]
  },
  {
   "cell_type": "code",
   "execution_count": 164,
   "metadata": {
    "scrolled": true
   },
   "outputs": [],
   "source": [
    "# XValidclustersEn[[0,1],]"
   ]
  },
  {
   "cell_type": "code",
   "execution_count": 165,
   "metadata": {},
   "outputs": [],
   "source": [
    "k=Xvalid\n"
   ]
  },
  {
   "cell_type": "code",
   "execution_count": 166,
   "metadata": {},
   "outputs": [],
   "source": [
    "XvalidData=np.append(k,z,1)"
   ]
  },
  {
   "cell_type": "code",
   "execution_count": 167,
   "metadata": {},
   "outputs": [],
   "source": [
    "scaled_XKmeans = scaler.transform(XtrainData)\n",
    "scaled_XValid = scaler.transform(XvalidData)\n",
    "\n",
    "\n",
    "# scaled_x_valid=scaler.transform(x_valid)\n"
   ]
  },
  {
   "cell_type": "code",
   "execution_count": 168,
   "metadata": {},
   "outputs": [],
   "source": [
    "# df['k_means']=kmeanModel.predict(scaled_x_train)\n",
    "# df['target']=y_train_res\n",
    "from sklearn.preprocessing import normalize\n",
    "scaled_XKmeans=normalize(scaled_XKmeans, norm='l2', axis=1, copy=True, return_norm=False)\n",
    "scaled_XValid=normalize(scaled_XValid, norm='l2', axis=1, copy=True, return_norm=False)"
   ]
  },
  {
   "cell_type": "code",
   "execution_count": 5,
   "metadata": {},
   "outputs": [],
   "source": [
    "# pca_reload = pk.load(open(\"pca_finalDF_data1.pkl\",'rb'))\n",
    "# result_new = pca_reload .transform(X)"
   ]
  },
  {
   "cell_type": "code",
   "execution_count": 7,
   "metadata": {},
   "outputs": [
    {
     "data": {
      "text/plain": [
       "(7675, 23)"
      ]
     },
     "execution_count": 7,
     "metadata": {},
     "output_type": "execute_result"
    }
   ],
   "source": [
    "# pca_reload.shape"
   ]
  },
  {
   "cell_type": "code",
   "execution_count": 11,
   "metadata": {},
   "outputs": [],
   "source": [
    "def create_model(  hidden_layers,learning_rate):\n",
    "  # Initialize the constructor\n",
    "    model =  keras.Sequential()\n",
    "      # Add an input layer\n",
    "    activation='sigmoid'\n",
    "    model.add(layers.Dense(256, activation=activation, input_shape=input_shape))\n",
    "    for i in range(hidden_layers):\n",
    "          # Add one hidden layer\n",
    "        model.add(layers.Dense(8, activation=activation))\n",
    "\n",
    "      # Add an output layer \n",
    "    model.add(layers.Dense(1, activation=activation))\n",
    "    opt = keras.optimizers.Adam(learning_rate=learning_rate)\n",
    "      #compile model\n",
    "    model.compile(loss='binary_crossentropy', optimizer=opt, metrics=\n",
    "      ['accuracy'])\n",
    "\n",
    "    return model\n"
   ]
  },
  {
   "cell_type": "code",
   "execution_count": 169,
   "metadata": {},
   "outputs": [],
   "source": [
    "\n",
    "import joblib\n",
    "\n",
    "# joblib.dump(DTmodel, 'DTgrid_NLP.pkl')\n",
    "\n",
    "from sklearn import metrics\n",
    "\n",
    "# tfidf_vector_X = xtrain_tfidf_ngram.toarray()  #//shape - (3,6)\n",
    "# tfidf_vector_valid= xvalid_tfidf_ngram.toarray() #//shape - (3,6)\n",
    "# tfidf_vector_X = tfidf_vector_X[:, :, None] #//shape - (3,6,1) \n",
    "# tfidf_vector_valid = tfidf_vector_valid[:, :, None] #//shape - (3,6,1)\n",
    "\n",
    "\n",
    "# tfidf_vector_X.shape[1:]\n",
    "\n",
    "from tensorflow import keras\n",
    "from tensorflow.keras import layers\n",
    "\n",
    "# input_shape= [x_train.shape[1]]\n",
    "\n",
    "# NNmodel = create_model(optimizer='adam', activation = 'sigmoid', hidden_layers=1,learning_rate=0.01)\n",
    "\n",
    "\n",
    "\n",
    "\n",
    "from sklearn.model_selection import RandomizedSearchCV, GridSearchCV\n",
    "from sklearn.metrics import roc_auc_score\n",
    "from sklearn.model_selection import StratifiedKFold\n"
   ]
  },
  {
   "cell_type": "code",
   "execution_count": 170,
   "metadata": {},
   "outputs": [],
   "source": [
    "# sess.run(optimizer._lr)\n",
    "def create_modelWithDropBatch(  hidden_layers,learning_rate):\n",
    "  # Initialize the constructor\n",
    "    model =  keras.Sequential()\n",
    "      # Add an input layer\n",
    "    activation='sigmoid'\n",
    "    model.add(layers.Dense(256, activation=activation, input_shape=input_shape)) #thisone inc\n",
    "    for i in range(hidden_layers):\n",
    "          # Add one hidden layer\n",
    "        model.add(layers.BatchNormalization())\n",
    "        model.add(layers.Dropout(0.5))\n",
    "        model.add(layers.Dense(8, activation='relu')) #thisone inc 256\n",
    "\n",
    "      # Add an output layer \n",
    "    model.add(layers.Dense(1, activation=activation))\n",
    "    opt = keras.optimizers.Adam(learning_rate=learning_rate)\n",
    "      #compile model\n",
    "    model.compile(loss='binary_crossentropy', optimizer=opt, metrics=\n",
    "      ['accuracy'])\n",
    "\n",
    "    return model\n",
    "\n"
   ]
  },
  {
   "cell_type": "code",
   "execution_count": 171,
   "metadata": {},
   "outputs": [],
   "source": [
    "from tensorflow.keras.wrappers.scikit_learn import KerasClassifier"
   ]
  },
  {
   "cell_type": "code",
   "execution_count": 172,
   "metadata": {},
   "outputs": [],
   "source": [
    "# pca_finalDF.shape\n",
    "# input_shape"
   ]
  },
  {
   "cell_type": "code",
   "execution_count": 173,
   "metadata": {},
   "outputs": [],
   "source": [
    "model_Batch_drop_relu =  KerasClassifier(build_fn=create_modelWithDropBatch, verbose = False)  "
   ]
  },
  {
   "cell_type": "code",
   "execution_count": 174,
   "metadata": {},
   "outputs": [
    {
     "data": {
      "text/plain": [
       "(2026, 32)"
      ]
     },
     "execution_count": 174,
     "metadata": {},
     "output_type": "execute_result"
    }
   ],
   "source": [
    "XvalidData.shape"
   ]
  },
  {
   "cell_type": "code",
   "execution_count": 175,
   "metadata": {},
   "outputs": [
    {
     "ename": "SyntaxError",
     "evalue": "invalid syntax (<ipython-input-175-3c6c48f96c49>, line 1)",
     "output_type": "error",
     "traceback": [
      "\u001b[0;36m  File \u001b[0;32m\"<ipython-input-175-3c6c48f96c49>\"\u001b[0;36m, line \u001b[0;32m1\u001b[0m\n\u001b[0;31m    Xvalid.\u001b[0m\n\u001b[0m           ^\u001b[0m\n\u001b[0;31mSyntaxError\u001b[0m\u001b[0;31m:\u001b[0m invalid syntax\n"
     ]
    }
   ],
   "source": [
    "Xvalid."
   ]
  },
  {
   "cell_type": "code",
   "execution_count": 176,
   "metadata": {
    "scrolled": true
   },
   "outputs": [
    {
     "ename": "KeyboardInterrupt",
     "evalue": "",
     "output_type": "error",
     "traceback": [
      "\u001b[0;31m---------------------------------------------------------------------------\u001b[0m",
      "\u001b[0;31mKeyboardInterrupt\u001b[0m                         Traceback (most recent call last)",
      "\u001b[0;32m<ipython-input-176-6a3d947f818c>\u001b[0m in \u001b[0;36m<module>\u001b[0;34m\u001b[0m\n\u001b[1;32m     13\u001b[0m     \u001b[0mvalidation_data\u001b[0m\u001b[0;34m=\u001b[0m\u001b[0;34m(\u001b[0m\u001b[0mXvalidData\u001b[0m\u001b[0;34m,\u001b[0m \u001b[0my_valid\u001b[0m\u001b[0;34m)\u001b[0m\u001b[0;34m,\u001b[0m\u001b[0;34m\u001b[0m\u001b[0;34m\u001b[0m\u001b[0m\n\u001b[1;32m     14\u001b[0m     \u001b[0mbatch_size\u001b[0m\u001b[0;34m=\u001b[0m\u001b[0;36m512\u001b[0m\u001b[0;34m,\u001b[0m\u001b[0;34m\u001b[0m\u001b[0;34m\u001b[0m\u001b[0m\n\u001b[0;32m---> 15\u001b[0;31m     \u001b[0mepochs\u001b[0m\u001b[0;34m=\u001b[0m\u001b[0;36m200\u001b[0m\u001b[0;34m,\u001b[0m\u001b[0;34m\u001b[0m\u001b[0;34m\u001b[0m\u001b[0m\n\u001b[0m\u001b[1;32m     16\u001b[0m \u001b[0;31m#     callbacks=[early_stopping],\u001b[0m\u001b[0;34m\u001b[0m\u001b[0;34m\u001b[0m\u001b[0;34m\u001b[0m\u001b[0m\n\u001b[1;32m     17\u001b[0m )\n",
      "\u001b[0;32m~/miniconda3/envs/myenv/lib/python3.6/site-packages/sklearn/utils/validation.py\u001b[0m in \u001b[0;36minner_f\u001b[0;34m(*args, **kwargs)\u001b[0m\n\u001b[1;32m     61\u001b[0m             \u001b[0mextra_args\u001b[0m \u001b[0;34m=\u001b[0m \u001b[0mlen\u001b[0m\u001b[0;34m(\u001b[0m\u001b[0margs\u001b[0m\u001b[0;34m)\u001b[0m \u001b[0;34m-\u001b[0m \u001b[0mlen\u001b[0m\u001b[0;34m(\u001b[0m\u001b[0mall_args\u001b[0m\u001b[0;34m)\u001b[0m\u001b[0;34m\u001b[0m\u001b[0;34m\u001b[0m\u001b[0m\n\u001b[1;32m     62\u001b[0m             \u001b[0;32mif\u001b[0m \u001b[0mextra_args\u001b[0m \u001b[0;34m<=\u001b[0m \u001b[0;36m0\u001b[0m\u001b[0;34m:\u001b[0m\u001b[0;34m\u001b[0m\u001b[0;34m\u001b[0m\u001b[0m\n\u001b[0;32m---> 63\u001b[0;31m                 \u001b[0;32mreturn\u001b[0m \u001b[0mf\u001b[0m\u001b[0;34m(\u001b[0m\u001b[0;34m*\u001b[0m\u001b[0margs\u001b[0m\u001b[0;34m,\u001b[0m \u001b[0;34m**\u001b[0m\u001b[0mkwargs\u001b[0m\u001b[0;34m)\u001b[0m\u001b[0;34m\u001b[0m\u001b[0;34m\u001b[0m\u001b[0m\n\u001b[0m\u001b[1;32m     64\u001b[0m \u001b[0;34m\u001b[0m\u001b[0m\n\u001b[1;32m     65\u001b[0m             \u001b[0;31m# extra_args > 0\u001b[0m\u001b[0;34m\u001b[0m\u001b[0;34m\u001b[0m\u001b[0;34m\u001b[0m\u001b[0m\n",
      "\u001b[0;32m~/miniconda3/envs/myenv/lib/python3.6/site-packages/sklearn/model_selection/_search.py\u001b[0m in \u001b[0;36mfit\u001b[0;34m(self, X, y, groups, **fit_params)\u001b[0m\n\u001b[1;32m    839\u001b[0m                 \u001b[0;32mreturn\u001b[0m \u001b[0mresults\u001b[0m\u001b[0;34m\u001b[0m\u001b[0;34m\u001b[0m\u001b[0m\n\u001b[1;32m    840\u001b[0m \u001b[0;34m\u001b[0m\u001b[0m\n\u001b[0;32m--> 841\u001b[0;31m             \u001b[0mself\u001b[0m\u001b[0;34m.\u001b[0m\u001b[0m_run_search\u001b[0m\u001b[0;34m(\u001b[0m\u001b[0mevaluate_candidates\u001b[0m\u001b[0;34m)\u001b[0m\u001b[0;34m\u001b[0m\u001b[0;34m\u001b[0m\u001b[0m\n\u001b[0m\u001b[1;32m    842\u001b[0m \u001b[0;34m\u001b[0m\u001b[0m\n\u001b[1;32m    843\u001b[0m             \u001b[0;31m# multimetric is determined here because in the case of a callable\u001b[0m\u001b[0;34m\u001b[0m\u001b[0;34m\u001b[0m\u001b[0;34m\u001b[0m\u001b[0m\n",
      "\u001b[0;32m~/miniconda3/envs/myenv/lib/python3.6/site-packages/sklearn/model_selection/_search.py\u001b[0m in \u001b[0;36m_run_search\u001b[0;34m(self, evaluate_candidates)\u001b[0m\n\u001b[1;32m   1286\u001b[0m     \u001b[0;32mdef\u001b[0m \u001b[0m_run_search\u001b[0m\u001b[0;34m(\u001b[0m\u001b[0mself\u001b[0m\u001b[0;34m,\u001b[0m \u001b[0mevaluate_candidates\u001b[0m\u001b[0;34m)\u001b[0m\u001b[0;34m:\u001b[0m\u001b[0;34m\u001b[0m\u001b[0;34m\u001b[0m\u001b[0m\n\u001b[1;32m   1287\u001b[0m         \u001b[0;34m\"\"\"Search all candidates in param_grid\"\"\"\u001b[0m\u001b[0;34m\u001b[0m\u001b[0;34m\u001b[0m\u001b[0m\n\u001b[0;32m-> 1288\u001b[0;31m         \u001b[0mevaluate_candidates\u001b[0m\u001b[0;34m(\u001b[0m\u001b[0mParameterGrid\u001b[0m\u001b[0;34m(\u001b[0m\u001b[0mself\u001b[0m\u001b[0;34m.\u001b[0m\u001b[0mparam_grid\u001b[0m\u001b[0;34m)\u001b[0m\u001b[0;34m)\u001b[0m\u001b[0;34m\u001b[0m\u001b[0;34m\u001b[0m\u001b[0m\n\u001b[0m\u001b[1;32m   1289\u001b[0m \u001b[0;34m\u001b[0m\u001b[0m\n\u001b[1;32m   1290\u001b[0m \u001b[0;34m\u001b[0m\u001b[0m\n",
      "\u001b[0;32m~/miniconda3/envs/myenv/lib/python3.6/site-packages/sklearn/model_selection/_search.py\u001b[0m in \u001b[0;36mevaluate_candidates\u001b[0;34m(candidate_params, cv, more_results)\u001b[0m\n\u001b[1;32m    807\u001b[0m                                    (split_idx, (train, test)) in product(\n\u001b[1;32m    808\u001b[0m                                    \u001b[0menumerate\u001b[0m\u001b[0;34m(\u001b[0m\u001b[0mcandidate_params\u001b[0m\u001b[0;34m)\u001b[0m\u001b[0;34m,\u001b[0m\u001b[0;34m\u001b[0m\u001b[0;34m\u001b[0m\u001b[0m\n\u001b[0;32m--> 809\u001b[0;31m                                    enumerate(cv.split(X, y, groups))))\n\u001b[0m\u001b[1;32m    810\u001b[0m \u001b[0;34m\u001b[0m\u001b[0m\n\u001b[1;32m    811\u001b[0m                 \u001b[0;32mif\u001b[0m \u001b[0mlen\u001b[0m\u001b[0;34m(\u001b[0m\u001b[0mout\u001b[0m\u001b[0;34m)\u001b[0m \u001b[0;34m<\u001b[0m \u001b[0;36m1\u001b[0m\u001b[0;34m:\u001b[0m\u001b[0;34m\u001b[0m\u001b[0;34m\u001b[0m\u001b[0m\n",
      "\u001b[0;32m~/miniconda3/envs/myenv/lib/python3.6/site-packages/joblib/parallel.py\u001b[0m in \u001b[0;36m__call__\u001b[0;34m(self, iterable)\u001b[0m\n\u001b[1;32m   1042\u001b[0m                 \u001b[0mself\u001b[0m\u001b[0;34m.\u001b[0m\u001b[0m_iterating\u001b[0m \u001b[0;34m=\u001b[0m \u001b[0mself\u001b[0m\u001b[0;34m.\u001b[0m\u001b[0m_original_iterator\u001b[0m \u001b[0;32mis\u001b[0m \u001b[0;32mnot\u001b[0m \u001b[0;32mNone\u001b[0m\u001b[0;34m\u001b[0m\u001b[0;34m\u001b[0m\u001b[0m\n\u001b[1;32m   1043\u001b[0m \u001b[0;34m\u001b[0m\u001b[0m\n\u001b[0;32m-> 1044\u001b[0;31m             \u001b[0;32mwhile\u001b[0m \u001b[0mself\u001b[0m\u001b[0;34m.\u001b[0m\u001b[0mdispatch_one_batch\u001b[0m\u001b[0;34m(\u001b[0m\u001b[0miterator\u001b[0m\u001b[0;34m)\u001b[0m\u001b[0;34m:\u001b[0m\u001b[0;34m\u001b[0m\u001b[0;34m\u001b[0m\u001b[0m\n\u001b[0m\u001b[1;32m   1045\u001b[0m                 \u001b[0;32mpass\u001b[0m\u001b[0;34m\u001b[0m\u001b[0;34m\u001b[0m\u001b[0m\n\u001b[1;32m   1046\u001b[0m \u001b[0;34m\u001b[0m\u001b[0m\n",
      "\u001b[0;32m~/miniconda3/envs/myenv/lib/python3.6/site-packages/joblib/parallel.py\u001b[0m in \u001b[0;36mdispatch_one_batch\u001b[0;34m(self, iterator)\u001b[0m\n\u001b[1;32m    857\u001b[0m                 \u001b[0;32mreturn\u001b[0m \u001b[0;32mFalse\u001b[0m\u001b[0;34m\u001b[0m\u001b[0;34m\u001b[0m\u001b[0m\n\u001b[1;32m    858\u001b[0m             \u001b[0;32melse\u001b[0m\u001b[0;34m:\u001b[0m\u001b[0;34m\u001b[0m\u001b[0;34m\u001b[0m\u001b[0m\n\u001b[0;32m--> 859\u001b[0;31m                 \u001b[0mself\u001b[0m\u001b[0;34m.\u001b[0m\u001b[0m_dispatch\u001b[0m\u001b[0;34m(\u001b[0m\u001b[0mtasks\u001b[0m\u001b[0;34m)\u001b[0m\u001b[0;34m\u001b[0m\u001b[0;34m\u001b[0m\u001b[0m\n\u001b[0m\u001b[1;32m    860\u001b[0m                 \u001b[0;32mreturn\u001b[0m \u001b[0;32mTrue\u001b[0m\u001b[0;34m\u001b[0m\u001b[0;34m\u001b[0m\u001b[0m\n\u001b[1;32m    861\u001b[0m \u001b[0;34m\u001b[0m\u001b[0m\n",
      "\u001b[0;32m~/miniconda3/envs/myenv/lib/python3.6/site-packages/joblib/parallel.py\u001b[0m in \u001b[0;36m_dispatch\u001b[0;34m(self, batch)\u001b[0m\n\u001b[1;32m    775\u001b[0m         \u001b[0;32mwith\u001b[0m \u001b[0mself\u001b[0m\u001b[0;34m.\u001b[0m\u001b[0m_lock\u001b[0m\u001b[0;34m:\u001b[0m\u001b[0;34m\u001b[0m\u001b[0;34m\u001b[0m\u001b[0m\n\u001b[1;32m    776\u001b[0m             \u001b[0mjob_idx\u001b[0m \u001b[0;34m=\u001b[0m \u001b[0mlen\u001b[0m\u001b[0;34m(\u001b[0m\u001b[0mself\u001b[0m\u001b[0;34m.\u001b[0m\u001b[0m_jobs\u001b[0m\u001b[0;34m)\u001b[0m\u001b[0;34m\u001b[0m\u001b[0;34m\u001b[0m\u001b[0m\n\u001b[0;32m--> 777\u001b[0;31m             \u001b[0mjob\u001b[0m \u001b[0;34m=\u001b[0m \u001b[0mself\u001b[0m\u001b[0;34m.\u001b[0m\u001b[0m_backend\u001b[0m\u001b[0;34m.\u001b[0m\u001b[0mapply_async\u001b[0m\u001b[0;34m(\u001b[0m\u001b[0mbatch\u001b[0m\u001b[0;34m,\u001b[0m \u001b[0mcallback\u001b[0m\u001b[0;34m=\u001b[0m\u001b[0mcb\u001b[0m\u001b[0;34m)\u001b[0m\u001b[0;34m\u001b[0m\u001b[0;34m\u001b[0m\u001b[0m\n\u001b[0m\u001b[1;32m    778\u001b[0m             \u001b[0;31m# A job can complete so quickly than its callback is\u001b[0m\u001b[0;34m\u001b[0m\u001b[0;34m\u001b[0m\u001b[0;34m\u001b[0m\u001b[0m\n\u001b[1;32m    779\u001b[0m             \u001b[0;31m# called before we get here, causing self._jobs to\u001b[0m\u001b[0;34m\u001b[0m\u001b[0;34m\u001b[0m\u001b[0;34m\u001b[0m\u001b[0m\n",
      "\u001b[0;32m~/miniconda3/envs/myenv/lib/python3.6/site-packages/joblib/_parallel_backends.py\u001b[0m in \u001b[0;36mapply_async\u001b[0;34m(self, func, callback)\u001b[0m\n\u001b[1;32m    206\u001b[0m     \u001b[0;32mdef\u001b[0m \u001b[0mapply_async\u001b[0m\u001b[0;34m(\u001b[0m\u001b[0mself\u001b[0m\u001b[0;34m,\u001b[0m \u001b[0mfunc\u001b[0m\u001b[0;34m,\u001b[0m \u001b[0mcallback\u001b[0m\u001b[0;34m=\u001b[0m\u001b[0;32mNone\u001b[0m\u001b[0;34m)\u001b[0m\u001b[0;34m:\u001b[0m\u001b[0;34m\u001b[0m\u001b[0;34m\u001b[0m\u001b[0m\n\u001b[1;32m    207\u001b[0m         \u001b[0;34m\"\"\"Schedule a func to be run\"\"\"\u001b[0m\u001b[0;34m\u001b[0m\u001b[0;34m\u001b[0m\u001b[0m\n\u001b[0;32m--> 208\u001b[0;31m         \u001b[0mresult\u001b[0m \u001b[0;34m=\u001b[0m \u001b[0mImmediateResult\u001b[0m\u001b[0;34m(\u001b[0m\u001b[0mfunc\u001b[0m\u001b[0;34m)\u001b[0m\u001b[0;34m\u001b[0m\u001b[0;34m\u001b[0m\u001b[0m\n\u001b[0m\u001b[1;32m    209\u001b[0m         \u001b[0;32mif\u001b[0m \u001b[0mcallback\u001b[0m\u001b[0;34m:\u001b[0m\u001b[0;34m\u001b[0m\u001b[0;34m\u001b[0m\u001b[0m\n\u001b[1;32m    210\u001b[0m             \u001b[0mcallback\u001b[0m\u001b[0;34m(\u001b[0m\u001b[0mresult\u001b[0m\u001b[0;34m)\u001b[0m\u001b[0;34m\u001b[0m\u001b[0;34m\u001b[0m\u001b[0m\n",
      "\u001b[0;32m~/miniconda3/envs/myenv/lib/python3.6/site-packages/joblib/_parallel_backends.py\u001b[0m in \u001b[0;36m__init__\u001b[0;34m(self, batch)\u001b[0m\n\u001b[1;32m    570\u001b[0m         \u001b[0;31m# Don't delay the application, to avoid keeping the input\u001b[0m\u001b[0;34m\u001b[0m\u001b[0;34m\u001b[0m\u001b[0;34m\u001b[0m\u001b[0m\n\u001b[1;32m    571\u001b[0m         \u001b[0;31m# arguments in memory\u001b[0m\u001b[0;34m\u001b[0m\u001b[0;34m\u001b[0m\u001b[0;34m\u001b[0m\u001b[0m\n\u001b[0;32m--> 572\u001b[0;31m         \u001b[0mself\u001b[0m\u001b[0;34m.\u001b[0m\u001b[0mresults\u001b[0m \u001b[0;34m=\u001b[0m \u001b[0mbatch\u001b[0m\u001b[0;34m(\u001b[0m\u001b[0;34m)\u001b[0m\u001b[0;34m\u001b[0m\u001b[0;34m\u001b[0m\u001b[0m\n\u001b[0m\u001b[1;32m    573\u001b[0m \u001b[0;34m\u001b[0m\u001b[0m\n\u001b[1;32m    574\u001b[0m     \u001b[0;32mdef\u001b[0m \u001b[0mget\u001b[0m\u001b[0;34m(\u001b[0m\u001b[0mself\u001b[0m\u001b[0;34m)\u001b[0m\u001b[0;34m:\u001b[0m\u001b[0;34m\u001b[0m\u001b[0;34m\u001b[0m\u001b[0m\n",
      "\u001b[0;32m~/miniconda3/envs/myenv/lib/python3.6/site-packages/joblib/parallel.py\u001b[0m in \u001b[0;36m__call__\u001b[0;34m(self)\u001b[0m\n\u001b[1;32m    261\u001b[0m         \u001b[0;32mwith\u001b[0m \u001b[0mparallel_backend\u001b[0m\u001b[0;34m(\u001b[0m\u001b[0mself\u001b[0m\u001b[0;34m.\u001b[0m\u001b[0m_backend\u001b[0m\u001b[0;34m,\u001b[0m \u001b[0mn_jobs\u001b[0m\u001b[0;34m=\u001b[0m\u001b[0mself\u001b[0m\u001b[0;34m.\u001b[0m\u001b[0m_n_jobs\u001b[0m\u001b[0;34m)\u001b[0m\u001b[0;34m:\u001b[0m\u001b[0;34m\u001b[0m\u001b[0;34m\u001b[0m\u001b[0m\n\u001b[1;32m    262\u001b[0m             return [func(*args, **kwargs)\n\u001b[0;32m--> 263\u001b[0;31m                     for func, args, kwargs in self.items]\n\u001b[0m\u001b[1;32m    264\u001b[0m \u001b[0;34m\u001b[0m\u001b[0m\n\u001b[1;32m    265\u001b[0m     \u001b[0;32mdef\u001b[0m \u001b[0m__reduce__\u001b[0m\u001b[0;34m(\u001b[0m\u001b[0mself\u001b[0m\u001b[0;34m)\u001b[0m\u001b[0;34m:\u001b[0m\u001b[0;34m\u001b[0m\u001b[0;34m\u001b[0m\u001b[0m\n",
      "\u001b[0;32m~/miniconda3/envs/myenv/lib/python3.6/site-packages/joblib/parallel.py\u001b[0m in \u001b[0;36m<listcomp>\u001b[0;34m(.0)\u001b[0m\n\u001b[1;32m    261\u001b[0m         \u001b[0;32mwith\u001b[0m \u001b[0mparallel_backend\u001b[0m\u001b[0;34m(\u001b[0m\u001b[0mself\u001b[0m\u001b[0;34m.\u001b[0m\u001b[0m_backend\u001b[0m\u001b[0;34m,\u001b[0m \u001b[0mn_jobs\u001b[0m\u001b[0;34m=\u001b[0m\u001b[0mself\u001b[0m\u001b[0;34m.\u001b[0m\u001b[0m_n_jobs\u001b[0m\u001b[0;34m)\u001b[0m\u001b[0;34m:\u001b[0m\u001b[0;34m\u001b[0m\u001b[0;34m\u001b[0m\u001b[0m\n\u001b[1;32m    262\u001b[0m             return [func(*args, **kwargs)\n\u001b[0;32m--> 263\u001b[0;31m                     for func, args, kwargs in self.items]\n\u001b[0m\u001b[1;32m    264\u001b[0m \u001b[0;34m\u001b[0m\u001b[0m\n\u001b[1;32m    265\u001b[0m     \u001b[0;32mdef\u001b[0m \u001b[0m__reduce__\u001b[0m\u001b[0;34m(\u001b[0m\u001b[0mself\u001b[0m\u001b[0;34m)\u001b[0m\u001b[0;34m:\u001b[0m\u001b[0;34m\u001b[0m\u001b[0;34m\u001b[0m\u001b[0m\n",
      "\u001b[0;32m~/miniconda3/envs/myenv/lib/python3.6/site-packages/sklearn/utils/fixes.py\u001b[0m in \u001b[0;36m__call__\u001b[0;34m(self, *args, **kwargs)\u001b[0m\n\u001b[1;32m    220\u001b[0m     \u001b[0;32mdef\u001b[0m \u001b[0m__call__\u001b[0m\u001b[0;34m(\u001b[0m\u001b[0mself\u001b[0m\u001b[0;34m,\u001b[0m \u001b[0;34m*\u001b[0m\u001b[0margs\u001b[0m\u001b[0;34m,\u001b[0m \u001b[0;34m**\u001b[0m\u001b[0mkwargs\u001b[0m\u001b[0;34m)\u001b[0m\u001b[0;34m:\u001b[0m\u001b[0;34m\u001b[0m\u001b[0;34m\u001b[0m\u001b[0m\n\u001b[1;32m    221\u001b[0m         \u001b[0;32mwith\u001b[0m \u001b[0mconfig_context\u001b[0m\u001b[0;34m(\u001b[0m\u001b[0;34m**\u001b[0m\u001b[0mself\u001b[0m\u001b[0;34m.\u001b[0m\u001b[0mconfig\u001b[0m\u001b[0;34m)\u001b[0m\u001b[0;34m:\u001b[0m\u001b[0;34m\u001b[0m\u001b[0;34m\u001b[0m\u001b[0m\n\u001b[0;32m--> 222\u001b[0;31m             \u001b[0;32mreturn\u001b[0m \u001b[0mself\u001b[0m\u001b[0;34m.\u001b[0m\u001b[0mfunction\u001b[0m\u001b[0;34m(\u001b[0m\u001b[0;34m*\u001b[0m\u001b[0margs\u001b[0m\u001b[0;34m,\u001b[0m \u001b[0;34m**\u001b[0m\u001b[0mkwargs\u001b[0m\u001b[0;34m)\u001b[0m\u001b[0;34m\u001b[0m\u001b[0;34m\u001b[0m\u001b[0m\n\u001b[0m",
      "\u001b[0;32m~/miniconda3/envs/myenv/lib/python3.6/site-packages/sklearn/model_selection/_validation.py\u001b[0m in \u001b[0;36m_fit_and_score\u001b[0;34m(estimator, X, y, scorer, train, test, verbose, parameters, fit_params, return_train_score, return_parameters, return_n_test_samples, return_times, return_estimator, split_progress, candidate_progress, error_score)\u001b[0m\n\u001b[1;32m    591\u001b[0m             \u001b[0mestimator\u001b[0m\u001b[0;34m.\u001b[0m\u001b[0mfit\u001b[0m\u001b[0;34m(\u001b[0m\u001b[0mX_train\u001b[0m\u001b[0;34m,\u001b[0m \u001b[0;34m**\u001b[0m\u001b[0mfit_params\u001b[0m\u001b[0;34m)\u001b[0m\u001b[0;34m\u001b[0m\u001b[0;34m\u001b[0m\u001b[0m\n\u001b[1;32m    592\u001b[0m         \u001b[0;32melse\u001b[0m\u001b[0;34m:\u001b[0m\u001b[0;34m\u001b[0m\u001b[0;34m\u001b[0m\u001b[0m\n\u001b[0;32m--> 593\u001b[0;31m             \u001b[0mestimator\u001b[0m\u001b[0;34m.\u001b[0m\u001b[0mfit\u001b[0m\u001b[0;34m(\u001b[0m\u001b[0mX_train\u001b[0m\u001b[0;34m,\u001b[0m \u001b[0my_train\u001b[0m\u001b[0;34m,\u001b[0m \u001b[0;34m**\u001b[0m\u001b[0mfit_params\u001b[0m\u001b[0;34m)\u001b[0m\u001b[0;34m\u001b[0m\u001b[0;34m\u001b[0m\u001b[0m\n\u001b[0m\u001b[1;32m    594\u001b[0m \u001b[0;34m\u001b[0m\u001b[0m\n\u001b[1;32m    595\u001b[0m     \u001b[0;32mexcept\u001b[0m \u001b[0mException\u001b[0m \u001b[0;32mas\u001b[0m \u001b[0me\u001b[0m\u001b[0;34m:\u001b[0m\u001b[0;34m\u001b[0m\u001b[0;34m\u001b[0m\u001b[0m\n",
      "\u001b[0;32m~/miniconda3/envs/myenv/lib/python3.6/site-packages/tensorflow/python/keras/wrappers/scikit_learn.py\u001b[0m in \u001b[0;36mfit\u001b[0;34m(self, x, y, **kwargs)\u001b[0m\n\u001b[1;32m    221\u001b[0m       \u001b[0;32mraise\u001b[0m \u001b[0mValueError\u001b[0m\u001b[0;34m(\u001b[0m\u001b[0;34m'Invalid shape for y: '\u001b[0m \u001b[0;34m+\u001b[0m \u001b[0mstr\u001b[0m\u001b[0;34m(\u001b[0m\u001b[0my\u001b[0m\u001b[0;34m.\u001b[0m\u001b[0mshape\u001b[0m\u001b[0;34m)\u001b[0m\u001b[0;34m)\u001b[0m\u001b[0;34m\u001b[0m\u001b[0;34m\u001b[0m\u001b[0m\n\u001b[1;32m    222\u001b[0m     \u001b[0mself\u001b[0m\u001b[0;34m.\u001b[0m\u001b[0mn_classes_\u001b[0m \u001b[0;34m=\u001b[0m \u001b[0mlen\u001b[0m\u001b[0;34m(\u001b[0m\u001b[0mself\u001b[0m\u001b[0;34m.\u001b[0m\u001b[0mclasses_\u001b[0m\u001b[0;34m)\u001b[0m\u001b[0;34m\u001b[0m\u001b[0;34m\u001b[0m\u001b[0m\n\u001b[0;32m--> 223\u001b[0;31m     \u001b[0;32mreturn\u001b[0m \u001b[0msuper\u001b[0m\u001b[0;34m(\u001b[0m\u001b[0mKerasClassifier\u001b[0m\u001b[0;34m,\u001b[0m \u001b[0mself\u001b[0m\u001b[0;34m)\u001b[0m\u001b[0;34m.\u001b[0m\u001b[0mfit\u001b[0m\u001b[0;34m(\u001b[0m\u001b[0mx\u001b[0m\u001b[0;34m,\u001b[0m \u001b[0my\u001b[0m\u001b[0;34m,\u001b[0m \u001b[0;34m**\u001b[0m\u001b[0mkwargs\u001b[0m\u001b[0;34m)\u001b[0m\u001b[0;34m\u001b[0m\u001b[0;34m\u001b[0m\u001b[0m\n\u001b[0m\u001b[1;32m    224\u001b[0m \u001b[0;34m\u001b[0m\u001b[0m\n\u001b[1;32m    225\u001b[0m   \u001b[0;32mdef\u001b[0m \u001b[0mpredict\u001b[0m\u001b[0;34m(\u001b[0m\u001b[0mself\u001b[0m\u001b[0;34m,\u001b[0m \u001b[0mx\u001b[0m\u001b[0;34m,\u001b[0m \u001b[0;34m**\u001b[0m\u001b[0mkwargs\u001b[0m\u001b[0;34m)\u001b[0m\u001b[0;34m:\u001b[0m\u001b[0;34m\u001b[0m\u001b[0;34m\u001b[0m\u001b[0m\n",
      "\u001b[0;32m~/miniconda3/envs/myenv/lib/python3.6/site-packages/tensorflow/python/keras/wrappers/scikit_learn.py\u001b[0m in \u001b[0;36mfit\u001b[0;34m(self, x, y, **kwargs)\u001b[0m\n\u001b[1;32m    164\u001b[0m     \u001b[0mfit_args\u001b[0m\u001b[0;34m.\u001b[0m\u001b[0mupdate\u001b[0m\u001b[0;34m(\u001b[0m\u001b[0mkwargs\u001b[0m\u001b[0;34m)\u001b[0m\u001b[0;34m\u001b[0m\u001b[0;34m\u001b[0m\u001b[0m\n\u001b[1;32m    165\u001b[0m \u001b[0;34m\u001b[0m\u001b[0m\n\u001b[0;32m--> 166\u001b[0;31m     \u001b[0mhistory\u001b[0m \u001b[0;34m=\u001b[0m \u001b[0mself\u001b[0m\u001b[0;34m.\u001b[0m\u001b[0mmodel\u001b[0m\u001b[0;34m.\u001b[0m\u001b[0mfit\u001b[0m\u001b[0;34m(\u001b[0m\u001b[0mx\u001b[0m\u001b[0;34m,\u001b[0m \u001b[0my\u001b[0m\u001b[0;34m,\u001b[0m \u001b[0;34m**\u001b[0m\u001b[0mfit_args\u001b[0m\u001b[0;34m)\u001b[0m\u001b[0;34m\u001b[0m\u001b[0;34m\u001b[0m\u001b[0m\n\u001b[0m\u001b[1;32m    167\u001b[0m \u001b[0;34m\u001b[0m\u001b[0m\n\u001b[1;32m    168\u001b[0m     \u001b[0;32mreturn\u001b[0m \u001b[0mhistory\u001b[0m\u001b[0;34m\u001b[0m\u001b[0;34m\u001b[0m\u001b[0m\n",
      "\u001b[0;32m~/miniconda3/envs/myenv/lib/python3.6/site-packages/tensorflow/python/keras/engine/training.py\u001b[0m in \u001b[0;36mfit\u001b[0;34m(self, x, y, batch_size, epochs, verbose, callbacks, validation_split, validation_data, shuffle, class_weight, sample_weight, initial_epoch, steps_per_epoch, validation_steps, validation_batch_size, validation_freq, max_queue_size, workers, use_multiprocessing)\u001b[0m\n\u001b[1;32m   1098\u001b[0m                 _r=1):\n\u001b[1;32m   1099\u001b[0m               \u001b[0mcallbacks\u001b[0m\u001b[0;34m.\u001b[0m\u001b[0mon_train_batch_begin\u001b[0m\u001b[0;34m(\u001b[0m\u001b[0mstep\u001b[0m\u001b[0;34m)\u001b[0m\u001b[0;34m\u001b[0m\u001b[0;34m\u001b[0m\u001b[0m\n\u001b[0;32m-> 1100\u001b[0;31m               \u001b[0mtmp_logs\u001b[0m \u001b[0;34m=\u001b[0m \u001b[0mself\u001b[0m\u001b[0;34m.\u001b[0m\u001b[0mtrain_function\u001b[0m\u001b[0;34m(\u001b[0m\u001b[0miterator\u001b[0m\u001b[0;34m)\u001b[0m\u001b[0;34m\u001b[0m\u001b[0;34m\u001b[0m\u001b[0m\n\u001b[0m\u001b[1;32m   1101\u001b[0m               \u001b[0;32mif\u001b[0m \u001b[0mdata_handler\u001b[0m\u001b[0;34m.\u001b[0m\u001b[0mshould_sync\u001b[0m\u001b[0;34m:\u001b[0m\u001b[0;34m\u001b[0m\u001b[0;34m\u001b[0m\u001b[0m\n\u001b[1;32m   1102\u001b[0m                 \u001b[0mcontext\u001b[0m\u001b[0;34m.\u001b[0m\u001b[0masync_wait\u001b[0m\u001b[0;34m(\u001b[0m\u001b[0;34m)\u001b[0m\u001b[0;34m\u001b[0m\u001b[0;34m\u001b[0m\u001b[0m\n",
      "\u001b[0;32m~/miniconda3/envs/myenv/lib/python3.6/site-packages/tensorflow/python/eager/def_function.py\u001b[0m in \u001b[0;36m__call__\u001b[0;34m(self, *args, **kwds)\u001b[0m\n\u001b[1;32m    826\u001b[0m     \u001b[0mtracing_count\u001b[0m \u001b[0;34m=\u001b[0m \u001b[0mself\u001b[0m\u001b[0;34m.\u001b[0m\u001b[0mexperimental_get_tracing_count\u001b[0m\u001b[0;34m(\u001b[0m\u001b[0;34m)\u001b[0m\u001b[0;34m\u001b[0m\u001b[0;34m\u001b[0m\u001b[0m\n\u001b[1;32m    827\u001b[0m     \u001b[0;32mwith\u001b[0m \u001b[0mtrace\u001b[0m\u001b[0;34m.\u001b[0m\u001b[0mTrace\u001b[0m\u001b[0;34m(\u001b[0m\u001b[0mself\u001b[0m\u001b[0;34m.\u001b[0m\u001b[0m_name\u001b[0m\u001b[0;34m)\u001b[0m \u001b[0;32mas\u001b[0m \u001b[0mtm\u001b[0m\u001b[0;34m:\u001b[0m\u001b[0;34m\u001b[0m\u001b[0;34m\u001b[0m\u001b[0m\n\u001b[0;32m--> 828\u001b[0;31m       \u001b[0mresult\u001b[0m \u001b[0;34m=\u001b[0m \u001b[0mself\u001b[0m\u001b[0;34m.\u001b[0m\u001b[0m_call\u001b[0m\u001b[0;34m(\u001b[0m\u001b[0;34m*\u001b[0m\u001b[0margs\u001b[0m\u001b[0;34m,\u001b[0m \u001b[0;34m**\u001b[0m\u001b[0mkwds\u001b[0m\u001b[0;34m)\u001b[0m\u001b[0;34m\u001b[0m\u001b[0;34m\u001b[0m\u001b[0m\n\u001b[0m\u001b[1;32m    829\u001b[0m       \u001b[0mcompiler\u001b[0m \u001b[0;34m=\u001b[0m \u001b[0;34m\"xla\"\u001b[0m \u001b[0;32mif\u001b[0m \u001b[0mself\u001b[0m\u001b[0;34m.\u001b[0m\u001b[0m_experimental_compile\u001b[0m \u001b[0;32melse\u001b[0m \u001b[0;34m\"nonXla\"\u001b[0m\u001b[0;34m\u001b[0m\u001b[0;34m\u001b[0m\u001b[0m\n\u001b[1;32m    830\u001b[0m       \u001b[0mnew_tracing_count\u001b[0m \u001b[0;34m=\u001b[0m \u001b[0mself\u001b[0m\u001b[0;34m.\u001b[0m\u001b[0mexperimental_get_tracing_count\u001b[0m\u001b[0;34m(\u001b[0m\u001b[0;34m)\u001b[0m\u001b[0;34m\u001b[0m\u001b[0;34m\u001b[0m\u001b[0m\n",
      "\u001b[0;32m~/miniconda3/envs/myenv/lib/python3.6/site-packages/tensorflow/python/eager/def_function.py\u001b[0m in \u001b[0;36m_call\u001b[0;34m(self, *args, **kwds)\u001b[0m\n\u001b[1;32m    853\u001b[0m       \u001b[0;31m# In this case we have created variables on the first call, so we run the\u001b[0m\u001b[0;34m\u001b[0m\u001b[0;34m\u001b[0m\u001b[0;34m\u001b[0m\u001b[0m\n\u001b[1;32m    854\u001b[0m       \u001b[0;31m# defunned version which is guaranteed to never create variables.\u001b[0m\u001b[0;34m\u001b[0m\u001b[0;34m\u001b[0m\u001b[0;34m\u001b[0m\u001b[0m\n\u001b[0;32m--> 855\u001b[0;31m       \u001b[0;32mreturn\u001b[0m \u001b[0mself\u001b[0m\u001b[0;34m.\u001b[0m\u001b[0m_stateless_fn\u001b[0m\u001b[0;34m(\u001b[0m\u001b[0;34m*\u001b[0m\u001b[0margs\u001b[0m\u001b[0;34m,\u001b[0m \u001b[0;34m**\u001b[0m\u001b[0mkwds\u001b[0m\u001b[0;34m)\u001b[0m  \u001b[0;31m# pylint: disable=not-callable\u001b[0m\u001b[0;34m\u001b[0m\u001b[0;34m\u001b[0m\u001b[0m\n\u001b[0m\u001b[1;32m    856\u001b[0m     \u001b[0;32melif\u001b[0m \u001b[0mself\u001b[0m\u001b[0;34m.\u001b[0m\u001b[0m_stateful_fn\u001b[0m \u001b[0;32mis\u001b[0m \u001b[0;32mnot\u001b[0m \u001b[0;32mNone\u001b[0m\u001b[0;34m:\u001b[0m\u001b[0;34m\u001b[0m\u001b[0;34m\u001b[0m\u001b[0m\n\u001b[1;32m    857\u001b[0m       \u001b[0;31m# Release the lock early so that multiple threads can perform the call\u001b[0m\u001b[0;34m\u001b[0m\u001b[0;34m\u001b[0m\u001b[0;34m\u001b[0m\u001b[0m\n",
      "\u001b[0;32m~/miniconda3/envs/myenv/lib/python3.6/site-packages/tensorflow/python/eager/function.py\u001b[0m in \u001b[0;36m__call__\u001b[0;34m(self, *args, **kwargs)\u001b[0m\n\u001b[1;32m   2941\u001b[0m        filtered_flat_args) = self._maybe_define_function(args, kwargs)\n\u001b[1;32m   2942\u001b[0m     return graph_function._call_flat(\n\u001b[0;32m-> 2943\u001b[0;31m         filtered_flat_args, captured_inputs=graph_function.captured_inputs)  # pylint: disable=protected-access\n\u001b[0m\u001b[1;32m   2944\u001b[0m \u001b[0;34m\u001b[0m\u001b[0m\n\u001b[1;32m   2945\u001b[0m   \u001b[0;34m@\u001b[0m\u001b[0mproperty\u001b[0m\u001b[0;34m\u001b[0m\u001b[0;34m\u001b[0m\u001b[0m\n",
      "\u001b[0;32m~/miniconda3/envs/myenv/lib/python3.6/site-packages/tensorflow/python/eager/function.py\u001b[0m in \u001b[0;36m_call_flat\u001b[0;34m(self, args, captured_inputs, cancellation_manager)\u001b[0m\n\u001b[1;32m   1917\u001b[0m       \u001b[0;31m# No tape is watching; skip to running the function.\u001b[0m\u001b[0;34m\u001b[0m\u001b[0;34m\u001b[0m\u001b[0;34m\u001b[0m\u001b[0m\n\u001b[1;32m   1918\u001b[0m       return self._build_call_outputs(self._inference_function.call(\n\u001b[0;32m-> 1919\u001b[0;31m           ctx, args, cancellation_manager=cancellation_manager))\n\u001b[0m\u001b[1;32m   1920\u001b[0m     forward_backward = self._select_forward_and_backward_functions(\n\u001b[1;32m   1921\u001b[0m         \u001b[0margs\u001b[0m\u001b[0;34m,\u001b[0m\u001b[0;34m\u001b[0m\u001b[0;34m\u001b[0m\u001b[0m\n",
      "\u001b[0;32m~/miniconda3/envs/myenv/lib/python3.6/site-packages/tensorflow/python/eager/function.py\u001b[0m in \u001b[0;36mcall\u001b[0;34m(self, ctx, args, cancellation_manager)\u001b[0m\n\u001b[1;32m    558\u001b[0m               \u001b[0minputs\u001b[0m\u001b[0;34m=\u001b[0m\u001b[0margs\u001b[0m\u001b[0;34m,\u001b[0m\u001b[0;34m\u001b[0m\u001b[0;34m\u001b[0m\u001b[0m\n\u001b[1;32m    559\u001b[0m               \u001b[0mattrs\u001b[0m\u001b[0;34m=\u001b[0m\u001b[0mattrs\u001b[0m\u001b[0;34m,\u001b[0m\u001b[0;34m\u001b[0m\u001b[0;34m\u001b[0m\u001b[0m\n\u001b[0;32m--> 560\u001b[0;31m               ctx=ctx)\n\u001b[0m\u001b[1;32m    561\u001b[0m         \u001b[0;32melse\u001b[0m\u001b[0;34m:\u001b[0m\u001b[0;34m\u001b[0m\u001b[0;34m\u001b[0m\u001b[0m\n\u001b[1;32m    562\u001b[0m           outputs = execute.execute_with_cancellation(\n",
      "\u001b[0;32m~/miniconda3/envs/myenv/lib/python3.6/site-packages/tensorflow/python/eager/execute.py\u001b[0m in \u001b[0;36mquick_execute\u001b[0;34m(op_name, num_outputs, inputs, attrs, ctx, name)\u001b[0m\n\u001b[1;32m     58\u001b[0m     \u001b[0mctx\u001b[0m\u001b[0;34m.\u001b[0m\u001b[0mensure_initialized\u001b[0m\u001b[0;34m(\u001b[0m\u001b[0;34m)\u001b[0m\u001b[0;34m\u001b[0m\u001b[0;34m\u001b[0m\u001b[0m\n\u001b[1;32m     59\u001b[0m     tensors = pywrap_tfe.TFE_Py_Execute(ctx._handle, device_name, op_name,\n\u001b[0;32m---> 60\u001b[0;31m                                         inputs, attrs, num_outputs)\n\u001b[0m\u001b[1;32m     61\u001b[0m   \u001b[0;32mexcept\u001b[0m \u001b[0mcore\u001b[0m\u001b[0;34m.\u001b[0m\u001b[0m_NotOkStatusException\u001b[0m \u001b[0;32mas\u001b[0m \u001b[0me\u001b[0m\u001b[0;34m:\u001b[0m\u001b[0;34m\u001b[0m\u001b[0;34m\u001b[0m\u001b[0m\n\u001b[1;32m     62\u001b[0m     \u001b[0;32mif\u001b[0m \u001b[0mname\u001b[0m \u001b[0;32mis\u001b[0m \u001b[0;32mnot\u001b[0m \u001b[0;32mNone\u001b[0m\u001b[0;34m:\u001b[0m\u001b[0;34m\u001b[0m\u001b[0;34m\u001b[0m\u001b[0m\n",
      "\u001b[0;31mKeyboardInterrupt\u001b[0m: "
     ]
    }
   ],
   "source": [
    "\n",
    "input_shape=[32]\n",
    "#\n",
    "model_Batch_drop_relu =  KerasClassifier(build_fn=create_modelWithDropBatch, verbose = False)  \n",
    "\n",
    "param_grid={'learning_rate':[0.1,0.001,0.01,0.05,0.05,0.5],'hidden_layers':[2,4,6,8,10]}\n",
    "\n",
    "gridNN_Batch_drop_relu = GridSearchCV(estimator = model_Batch_drop_relu, param_grid = param_grid)\n",
    "\n",
    "model_Batch_drop_relu.get_params()\n",
    "\n",
    "history_Batch_drop_relu = gridNN_Batch_drop_relu.fit(\n",
    "     XtrainData, y_train_res,\n",
    "    validation_data=(XvalidData, y_valid),\n",
    "    batch_size=512,\n",
    "    epochs=200,\n",
    "#     callbacks=[early_stopping],\n",
    ")\n",
    "\n",
    "print(history_Batch_drop_relu.best_params_)\n",
    "\n",
    "print(history_Batch_drop_relu.best_score_)\n",
    "# print(grid.best_params_)"
   ]
  },
  {
   "cell_type": "code",
   "execution_count": 87,
   "metadata": {},
   "outputs": [],
   "source": [
    "# import timeit\n",
    "\n",
    "# start = timeit.default_timer()\n",
    "\n",
    "# #Your statements here\n",
    "\n",
    "# bestNN=create_modelWithDropBatch(hidden_layers= 6, learning_rate= 0.05)\n",
    "# history2 = bestNN.fit(\n",
    "#      pca_finalDF, y_train_res,\n",
    "#     validation_data=(pcavalidData, y_valid),\n",
    "#     batch_size=512,\n",
    "#     epochs=200,\n",
    "# #     callbacks=[early_stopping],\n",
    "# )\n",
    "# stop = timeit.default_timer()\n",
    "\n",
    "# print('Time: ', stop - start)  \n"
   ]
  },
  {
   "cell_type": "code",
   "execution_count": 58,
   "metadata": {},
   "outputs": [],
   "source": [
    "# sess.run(optimizer._lr)\n",
    "def create_modelWithDropBatchOpt(  hidden_layers,learning_rate):\n",
    "  # Initialize the constructor\n",
    "    model =  keras.Sequential()\n",
    "      # Add an input layer\n",
    "    activation='sigmoid'\n",
    "    model.add(layers.Dense(256, activation=activation, input_shape=input_shape))\n",
    "    for i in range(hidden_layers):\n",
    "          # Add one hidden layer\n",
    "        model.add(layers.BatchNormalization())\n",
    "        model.add(layers.Dropout(0.5))\n",
    "        model.add(layers.Dense(8, activation='tanh'))\n",
    "\n",
    "      # Add an output layer \n",
    "    model.add(layers.Dense(1, activation=activation))\n",
    "    opt = keras.optimizers.Adam(learning_rate=learning_rate)\n",
    "      #compile model\n",
    "    model.compile(loss='binary_crossentropy', optimizer=opt, metrics=\n",
    "      ['accuracy'])\n",
    "\n",
    "    return model\n",
    "\n"
   ]
  },
  {
   "cell_type": "code",
   "execution_count": 96,
   "metadata": {
    "collapsed": true
   },
   "outputs": [
    {
     "data": {
      "text/html": [
       "<div>\n",
       "<style scoped>\n",
       "    .dataframe tbody tr th:only-of-type {\n",
       "        vertical-align: middle;\n",
       "    }\n",
       "\n",
       "    .dataframe tbody tr th {\n",
       "        vertical-align: top;\n",
       "    }\n",
       "\n",
       "    .dataframe thead th {\n",
       "        text-align: right;\n",
       "    }\n",
       "</style>\n",
       "<table border=\"1\" class=\"dataframe\">\n",
       "  <thead>\n",
       "    <tr style=\"text-align: right;\">\n",
       "      <th></th>\n",
       "      <th>Attrition_Flag</th>\n",
       "    </tr>\n",
       "  </thead>\n",
       "  <tbody>\n",
       "    <tr>\n",
       "      <th>0</th>\n",
       "      <td>1</td>\n",
       "    </tr>\n",
       "    <tr>\n",
       "      <th>1</th>\n",
       "      <td>1</td>\n",
       "    </tr>\n",
       "    <tr>\n",
       "      <th>2</th>\n",
       "      <td>1</td>\n",
       "    </tr>\n",
       "    <tr>\n",
       "      <th>3</th>\n",
       "      <td>1</td>\n",
       "    </tr>\n",
       "    <tr>\n",
       "      <th>4</th>\n",
       "      <td>1</td>\n",
       "    </tr>\n",
       "    <tr>\n",
       "      <th>...</th>\n",
       "      <td>...</td>\n",
       "    </tr>\n",
       "    <tr>\n",
       "      <th>2021</th>\n",
       "      <td>1</td>\n",
       "    </tr>\n",
       "    <tr>\n",
       "      <th>2022</th>\n",
       "      <td>0</td>\n",
       "    </tr>\n",
       "    <tr>\n",
       "      <th>2023</th>\n",
       "      <td>1</td>\n",
       "    </tr>\n",
       "    <tr>\n",
       "      <th>2024</th>\n",
       "      <td>1</td>\n",
       "    </tr>\n",
       "    <tr>\n",
       "      <th>2025</th>\n",
       "      <td>1</td>\n",
       "    </tr>\n",
       "  </tbody>\n",
       "</table>\n",
       "<p>2026 rows × 1 columns</p>\n",
       "</div>"
      ],
      "text/plain": [
       "      Attrition_Flag\n",
       "0                  1\n",
       "1                  1\n",
       "2                  1\n",
       "3                  1\n",
       "4                  1\n",
       "...              ...\n",
       "2021               1\n",
       "2022               0\n",
       "2023               1\n",
       "2024               1\n",
       "2025               1\n",
       "\n",
       "[2026 rows x 1 columns]"
      ]
     },
     "execution_count": 96,
     "metadata": {},
     "output_type": "execute_result"
    }
   ],
   "source": [
    "y_valid"
   ]
  },
  {
   "cell_type": "code",
   "execution_count": 127,
   "metadata": {},
   "outputs": [
    {
     "data": {
      "text/plain": [
       "array([[ 0.01948457,  0.02918462,  0.03451587, ..., -0.00055809,\n",
       "         0.15137822, -0.00123852],\n",
       "       [ 0.01721252,  0.02667761,  0.02651348, ..., -0.00059958,\n",
       "        -0.00023342, -0.0013306 ],\n",
       "       [ 0.0190794 ,  0.03337567,  0.03016379, ..., -0.00059295,\n",
       "        -0.00023084, -0.00131588],\n",
       "       ...,\n",
       "       [ 0.01277982,  0.01521045,  0.01948226, ...,  0.06456833,\n",
       "        -0.00023805, -0.00135696],\n",
       "       [ 0.01438093,  0.02352488,  0.02788791, ..., -0.00060237,\n",
       "        -0.00023451, -0.00133679],\n",
       "       [ 0.01223158,  0.01222023,  0.01984454, ...,  0.06543778,\n",
       "        -0.00024125, -0.00137523]])"
      ]
     },
     "execution_count": 127,
     "metadata": {},
     "output_type": "execute_result"
    }
   ],
   "source": [
    "scaled_XKmeans"
   ]
  },
  {
   "cell_type": "code",
   "execution_count": 126,
   "metadata": {
    "scrolled": true
   },
   "outputs": [
    {
     "data": {
      "text/plain": [
       "array([[ 0.01503103,  0.02082295,  0.02752151, ..., -0.0006037 ,\n",
       "        -0.00023503, -0.00133973],\n",
       "       [ 0.02267979,  0.03898833,  0.03545706, ..., -0.00055858,\n",
       "        -0.00021746, -0.0012396 ],\n",
       "       [ 0.01788544,  0.03246936,  0.02852477, ..., -0.00059624,\n",
       "        -0.00023212, -0.00132317],\n",
       "       ...,\n",
       "       [ 0.01390084,  0.02055242,  0.02145434, ..., -0.00061832,\n",
       "        -0.00024072, -0.00137219],\n",
       "       [ 0.01714393,  0.02998885,  0.03186489, ..., -0.0005797 ,\n",
       "         0.15724032, -0.00128648],\n",
       "       [ 0.01565251,  0.01926616,  0.02897343, ..., -0.00060704,\n",
       "        -0.00023633, -0.00134715]])"
      ]
     },
     "execution_count": 126,
     "metadata": {},
     "output_type": "execute_result"
    }
   ],
   "source": [
    "scaled_XValid"
   ]
  },
  {
   "cell_type": "code",
   "execution_count": 137,
   "metadata": {},
   "outputs": [],
   "source": [
    "# create_modelWithDropBatch3\n",
    "# sess.run(optimizer._lr)\n",
    "def create_modelWithDropBatch3(  hidden_layers,learning_rate):\n",
    "  # Initialize the constructor\n",
    "    model =  keras.Sequential()\n",
    "      # Add an input layer\n",
    "    activation='sigmoid'\n",
    "    model.add(layers.Dense(256, activation=activation, input_shape=input_shape)) #thisone inc\n",
    "    for i in range(hidden_layers):\n",
    "          # Add one hidden layer\n",
    "#         model.add(layers.BatchNormalization())\n",
    "#         model.add(layers.Dropout(0.5))\n",
    "        model.add(layers.Dense(256, activation='relu')) #thisone inc 256\n",
    "\n",
    "      # Add an output layer \n",
    "    model.add(layers.Dense(1, activation=activation))\n",
    "    opt = keras.optimizers.Adam(learning_rate=learning_rate)\n",
    "      #compile model\n",
    "    model.compile(loss='binary_crossentropy', optimizer=opt, metrics=\n",
    "      ['accuracy'])\n",
    "\n",
    "    return model\n",
    "\n"
   ]
  },
  {
   "cell_type": "code",
   "execution_count": 140,
   "metadata": {
    "scrolled": true
   },
   "outputs": [
    {
     "name": "stdout",
     "output_type": "stream",
     "text": [
      "Epoch 1/200\n",
      "15/15 [==============================] - 1s 16ms/step - loss: 0.6555 - accuracy: 0.6038 - val_loss: 0.5079 - val_accuracy: 0.8327\n",
      "Epoch 2/200\n",
      "15/15 [==============================] - 0s 7ms/step - loss: 0.6404 - accuracy: 0.6634 - val_loss: 0.5197 - val_accuracy: 0.8327\n",
      "Epoch 3/200\n",
      "15/15 [==============================] - 0s 7ms/step - loss: 0.6329 - accuracy: 0.6721 - val_loss: 0.5203 - val_accuracy: 0.8327\n",
      "Epoch 4/200\n",
      "15/15 [==============================] - 0s 7ms/step - loss: 0.6372 - accuracy: 0.6644 - val_loss: 0.5318 - val_accuracy: 0.8327\n",
      "Epoch 5/200\n",
      "15/15 [==============================] - 0s 8ms/step - loss: 0.6368 - accuracy: 0.6643 - val_loss: 0.5054 - val_accuracy: 0.8327\n",
      "Epoch 6/200\n",
      "15/15 [==============================] - 0s 7ms/step - loss: 0.6354 - accuracy: 0.6674 - val_loss: 0.5288 - val_accuracy: 0.8327\n",
      "Epoch 7/200\n",
      "15/15 [==============================] - 0s 7ms/step - loss: 0.6357 - accuracy: 0.6657 - val_loss: 0.5324 - val_accuracy: 0.8327\n",
      "Epoch 8/200\n",
      "15/15 [==============================] - 0s 6ms/step - loss: 0.6353 - accuracy: 0.6665 - val_loss: 0.4989 - val_accuracy: 0.8327\n",
      "Epoch 9/200\n",
      "15/15 [==============================] - 0s 7ms/step - loss: 0.6299 - accuracy: 0.6706 - val_loss: 0.5054 - val_accuracy: 0.8327\n",
      "Epoch 10/200\n",
      "15/15 [==============================] - 0s 7ms/step - loss: 0.6310 - accuracy: 0.6672 - val_loss: 0.5256 - val_accuracy: 0.8327\n",
      "Epoch 11/200\n",
      "15/15 [==============================] - 0s 7ms/step - loss: 0.6311 - accuracy: 0.6628 - val_loss: 0.5012 - val_accuracy: 0.8327\n",
      "Epoch 12/200\n",
      "15/15 [==============================] - 0s 6ms/step - loss: 0.6242 - accuracy: 0.6667 - val_loss: 0.4889 - val_accuracy: 0.8327\n",
      "Epoch 13/200\n",
      "15/15 [==============================] - 0s 7ms/step - loss: 0.6253 - accuracy: 0.6635 - val_loss: 0.4979 - val_accuracy: 0.8327\n",
      "Epoch 14/200\n",
      "15/15 [==============================] - 0s 6ms/step - loss: 0.6223 - accuracy: 0.6608 - val_loss: 0.5030 - val_accuracy: 0.8327\n",
      "Epoch 15/200\n",
      "15/15 [==============================] - 0s 6ms/step - loss: 0.6138 - accuracy: 0.6668 - val_loss: 0.5427 - val_accuracy: 0.8327\n",
      "Epoch 16/200\n",
      "15/15 [==============================] - 0s 7ms/step - loss: 0.6056 - accuracy: 0.6720 - val_loss: 0.5226 - val_accuracy: 0.8327\n",
      "Epoch 17/200\n",
      "15/15 [==============================] - 0s 7ms/step - loss: 0.5856 - accuracy: 0.6802 - val_loss: 0.5400 - val_accuracy: 0.8327\n",
      "Epoch 18/200\n",
      "15/15 [==============================] - 0s 7ms/step - loss: 0.5712 - accuracy: 0.7381 - val_loss: 0.5536 - val_accuracy: 0.8277\n",
      "Epoch 19/200\n",
      "15/15 [==============================] - 0s 6ms/step - loss: 0.5535 - accuracy: 0.7726 - val_loss: 0.4622 - val_accuracy: 0.8327\n",
      "Epoch 20/200\n",
      "15/15 [==============================] - 0s 6ms/step - loss: 0.5359 - accuracy: 0.7814 - val_loss: 0.5407 - val_accuracy: 0.8085\n",
      "Epoch 21/200\n",
      "15/15 [==============================] - 0s 7ms/step - loss: 0.5264 - accuracy: 0.7852 - val_loss: 0.4896 - val_accuracy: 0.8277\n",
      "Epoch 22/200\n",
      "15/15 [==============================] - 0s 6ms/step - loss: 0.5043 - accuracy: 0.8044 - val_loss: 0.4779 - val_accuracy: 0.8268\n",
      "Epoch 23/200\n",
      "15/15 [==============================] - 0s 7ms/step - loss: 0.4878 - accuracy: 0.8159 - val_loss: 0.4729 - val_accuracy: 0.8253\n",
      "Epoch 24/200\n",
      "15/15 [==============================] - 0s 7ms/step - loss: 0.4744 - accuracy: 0.8128 - val_loss: 0.5077 - val_accuracy: 0.8134\n",
      "Epoch 25/200\n",
      "15/15 [==============================] - 0s 6ms/step - loss: 0.4634 - accuracy: 0.8147 - val_loss: 0.4634 - val_accuracy: 0.8277\n",
      "Epoch 26/200\n",
      "15/15 [==============================] - 0s 6ms/step - loss: 0.4625 - accuracy: 0.8118 - val_loss: 0.4682 - val_accuracy: 0.8268\n",
      "Epoch 27/200\n",
      "15/15 [==============================] - 0s 22ms/step - loss: 0.4463 - accuracy: 0.8221 - val_loss: 0.4723 - val_accuracy: 0.8243\n",
      "Epoch 28/200\n",
      "15/15 [==============================] - 0s 7ms/step - loss: 0.4510 - accuracy: 0.8203 - val_loss: 0.4478 - val_accuracy: 0.8327\n",
      "Epoch 29/200\n",
      "15/15 [==============================] - 0s 7ms/step - loss: 0.4689 - accuracy: 0.8063 - val_loss: 0.4482 - val_accuracy: 0.8302\n",
      "Epoch 30/200\n",
      "15/15 [==============================] - 0s 6ms/step - loss: 0.4491 - accuracy: 0.8108 - val_loss: 0.4888 - val_accuracy: 0.8144\n",
      "Epoch 31/200\n",
      "15/15 [==============================] - 0s 7ms/step - loss: 0.4521 - accuracy: 0.8097 - val_loss: 0.4534 - val_accuracy: 0.8282\n",
      "Epoch 32/200\n",
      "15/15 [==============================] - 0s 7ms/step - loss: 0.4364 - accuracy: 0.8219 - val_loss: 0.4478 - val_accuracy: 0.8282\n",
      "Epoch 33/200\n",
      "15/15 [==============================] - 0s 7ms/step - loss: 0.4398 - accuracy: 0.8171 - val_loss: 0.4415 - val_accuracy: 0.8346\n",
      "Epoch 34/200\n",
      "15/15 [==============================] - 0s 6ms/step - loss: 0.4441 - accuracy: 0.8104 - val_loss: 0.4420 - val_accuracy: 0.8327\n",
      "Epoch 35/200\n",
      "15/15 [==============================] - 0s 7ms/step - loss: 0.4426 - accuracy: 0.8156 - val_loss: 0.4440 - val_accuracy: 0.8322\n",
      "Epoch 36/200\n",
      "15/15 [==============================] - 0s 6ms/step - loss: 0.4484 - accuracy: 0.8112 - val_loss: 0.4397 - val_accuracy: 0.8327\n",
      "Epoch 37/200\n",
      "15/15 [==============================] - 0s 7ms/step - loss: 0.4457 - accuracy: 0.8130 - val_loss: 0.4573 - val_accuracy: 0.8272\n",
      "Epoch 38/200\n",
      "15/15 [==============================] - 0s 6ms/step - loss: 0.4226 - accuracy: 0.8273 - val_loss: 0.4773 - val_accuracy: 0.8272\n",
      "Epoch 39/200\n",
      "15/15 [==============================] - 0s 7ms/step - loss: 0.4367 - accuracy: 0.8208 - val_loss: 0.4431 - val_accuracy: 0.8332\n",
      "Epoch 40/200\n",
      "15/15 [==============================] - 0s 7ms/step - loss: 0.4488 - accuracy: 0.8157 - val_loss: 0.4755 - val_accuracy: 0.8253\n",
      "Epoch 41/200\n",
      "15/15 [==============================] - 0s 6ms/step - loss: 0.4238 - accuracy: 0.8267 - val_loss: 0.4408 - val_accuracy: 0.8292\n",
      "Epoch 42/200\n",
      "15/15 [==============================] - 0s 6ms/step - loss: 0.4268 - accuracy: 0.8206 - val_loss: 0.4374 - val_accuracy: 0.8302\n",
      "Epoch 43/200\n",
      "15/15 [==============================] - 0s 7ms/step - loss: 0.4183 - accuracy: 0.8291 - val_loss: 0.4367 - val_accuracy: 0.8312\n",
      "Epoch 44/200\n",
      "15/15 [==============================] - 0s 8ms/step - loss: 0.4351 - accuracy: 0.8169 - val_loss: 0.4395 - val_accuracy: 0.8287\n",
      "Epoch 45/200\n",
      "15/15 [==============================] - 0s 7ms/step - loss: 0.4279 - accuracy: 0.8233 - val_loss: 0.4365 - val_accuracy: 0.8327\n",
      "Epoch 46/200\n",
      "15/15 [==============================] - 0s 6ms/step - loss: 0.4505 - accuracy: 0.8093 - val_loss: 0.4371 - val_accuracy: 0.8337\n",
      "Epoch 47/200\n",
      "15/15 [==============================] - 0s 7ms/step - loss: 0.4293 - accuracy: 0.8237 - val_loss: 0.4640 - val_accuracy: 0.8297\n",
      "Epoch 48/200\n",
      "15/15 [==============================] - 0s 6ms/step - loss: 0.4182 - accuracy: 0.8316 - val_loss: 0.5417 - val_accuracy: 0.7596\n",
      "Epoch 49/200\n",
      "15/15 [==============================] - 0s 6ms/step - loss: 0.4537 - accuracy: 0.8121 - val_loss: 0.4531 - val_accuracy: 0.8327\n",
      "Epoch 50/200\n",
      "15/15 [==============================] - 0s 6ms/step - loss: 0.4344 - accuracy: 0.8132 - val_loss: 0.4346 - val_accuracy: 0.8317\n",
      "Epoch 51/200\n",
      "15/15 [==============================] - 0s 7ms/step - loss: 0.4207 - accuracy: 0.8278 - val_loss: 0.4358 - val_accuracy: 0.8342\n",
      "Epoch 52/200\n",
      "15/15 [==============================] - 0s 7ms/step - loss: 0.4160 - accuracy: 0.8282 - val_loss: 0.4396 - val_accuracy: 0.8297\n",
      "Epoch 53/200\n",
      "15/15 [==============================] - 0s 8ms/step - loss: 0.4162 - accuracy: 0.8252 - val_loss: 0.4335 - val_accuracy: 0.8307\n",
      "Epoch 54/200\n",
      "15/15 [==============================] - 0s 7ms/step - loss: 0.4099 - accuracy: 0.8330 - val_loss: 0.4601 - val_accuracy: 0.8253\n",
      "Epoch 55/200\n",
      "15/15 [==============================] - 0s 8ms/step - loss: 0.4130 - accuracy: 0.8264 - val_loss: 0.4858 - val_accuracy: 0.8026\n",
      "Epoch 56/200\n",
      "15/15 [==============================] - 0s 7ms/step - loss: 0.4322 - accuracy: 0.8188 - val_loss: 0.4366 - val_accuracy: 0.8346\n",
      "Epoch 57/200\n",
      "15/15 [==============================] - 0s 8ms/step - loss: 0.4195 - accuracy: 0.8260 - val_loss: 0.4431 - val_accuracy: 0.8332\n",
      "Epoch 58/200\n",
      "15/15 [==============================] - 0s 7ms/step - loss: 0.4529 - accuracy: 0.8067 - val_loss: 0.4366 - val_accuracy: 0.8332\n"
     ]
    },
    {
     "name": "stdout",
     "output_type": "stream",
     "text": [
      "Epoch 59/200\n",
      "15/15 [==============================] - 0s 7ms/step - loss: 0.4440 - accuracy: 0.8116 - val_loss: 0.4351 - val_accuracy: 0.8327\n",
      "Epoch 60/200\n",
      "15/15 [==============================] - 0s 7ms/step - loss: 0.4139 - accuracy: 0.8300 - val_loss: 0.4462 - val_accuracy: 0.8282\n",
      "Epoch 61/200\n",
      "15/15 [==============================] - 0s 7ms/step - loss: 0.4156 - accuracy: 0.8267 - val_loss: 0.4311 - val_accuracy: 0.8376\n",
      "Epoch 62/200\n",
      "15/15 [==============================] - 0s 7ms/step - loss: 0.4622 - accuracy: 0.8072 - val_loss: 0.4390 - val_accuracy: 0.8327\n",
      "Epoch 63/200\n",
      "15/15 [==============================] - 0s 7ms/step - loss: 0.4569 - accuracy: 0.8125 - val_loss: 0.5380 - val_accuracy: 0.7902\n",
      "Epoch 64/200\n",
      "15/15 [==============================] - 0s 7ms/step - loss: 0.4461 - accuracy: 0.8114 - val_loss: 0.4710 - val_accuracy: 0.8282\n",
      "Epoch 65/200\n",
      "15/15 [==============================] - 0s 7ms/step - loss: 0.4240 - accuracy: 0.8283 - val_loss: 0.4370 - val_accuracy: 0.8297\n",
      "Epoch 66/200\n",
      "15/15 [==============================] - 0s 7ms/step - loss: 0.3936 - accuracy: 0.8412 - val_loss: 0.4539 - val_accuracy: 0.8238\n",
      "Epoch 67/200\n",
      "15/15 [==============================] - 0s 7ms/step - loss: 0.4048 - accuracy: 0.8327 - val_loss: 0.4275 - val_accuracy: 0.8366\n",
      "Epoch 68/200\n",
      "15/15 [==============================] - 0s 7ms/step - loss: 0.4078 - accuracy: 0.8315 - val_loss: 0.4282 - val_accuracy: 0.8302\n",
      "Epoch 69/200\n",
      "15/15 [==============================] - 0s 7ms/step - loss: 0.4033 - accuracy: 0.8321 - val_loss: 0.4305 - val_accuracy: 0.8322\n",
      "Epoch 70/200\n",
      "15/15 [==============================] - 0s 8ms/step - loss: 0.4171 - accuracy: 0.8261 - val_loss: 0.4301 - val_accuracy: 0.8327\n",
      "Epoch 71/200\n",
      "15/15 [==============================] - 0s 7ms/step - loss: 0.4103 - accuracy: 0.8288 - val_loss: 0.4796 - val_accuracy: 0.8332\n",
      "Epoch 72/200\n",
      "15/15 [==============================] - 0s 7ms/step - loss: 0.4898 - accuracy: 0.8005 - val_loss: 0.5826 - val_accuracy: 0.8105\n",
      "Epoch 73/200\n",
      "15/15 [==============================] - 0s 7ms/step - loss: 0.4671 - accuracy: 0.8165 - val_loss: 0.4717 - val_accuracy: 0.8371\n",
      "Epoch 74/200\n",
      "15/15 [==============================] - 0s 7ms/step - loss: 0.4234 - accuracy: 0.8253 - val_loss: 0.4290 - val_accuracy: 0.8371\n",
      "Epoch 75/200\n",
      "15/15 [==============================] - 0s 8ms/step - loss: 0.3984 - accuracy: 0.8370 - val_loss: 0.4330 - val_accuracy: 0.8332\n",
      "Epoch 76/200\n",
      "15/15 [==============================] - 0s 7ms/step - loss: 0.4041 - accuracy: 0.8341 - val_loss: 0.4253 - val_accuracy: 0.8346\n",
      "Epoch 77/200\n",
      "15/15 [==============================] - 0s 7ms/step - loss: 0.3939 - accuracy: 0.8379 - val_loss: 0.4253 - val_accuracy: 0.8366\n",
      "Epoch 78/200\n",
      "15/15 [==============================] - 0s 7ms/step - loss: 0.3945 - accuracy: 0.8349 - val_loss: 0.4198 - val_accuracy: 0.8366\n",
      "Epoch 79/200\n",
      "15/15 [==============================] - 0s 8ms/step - loss: 0.3874 - accuracy: 0.8371 - val_loss: 0.4199 - val_accuracy: 0.8381\n",
      "Epoch 80/200\n",
      "15/15 [==============================] - 0s 8ms/step - loss: 0.3942 - accuracy: 0.8361 - val_loss: 0.4246 - val_accuracy: 0.8371\n",
      "Epoch 81/200\n",
      "15/15 [==============================] - 0s 8ms/step - loss: 0.4296 - accuracy: 0.8140 - val_loss: 0.4346 - val_accuracy: 0.8332\n",
      "Epoch 82/200\n",
      "15/15 [==============================] - 0s 7ms/step - loss: 0.4172 - accuracy: 0.8259 - val_loss: 0.4293 - val_accuracy: 0.8396\n",
      "Epoch 83/200\n",
      "15/15 [==============================] - 0s 6ms/step - loss: 0.3929 - accuracy: 0.8387 - val_loss: 0.4544 - val_accuracy: 0.8332\n",
      "Epoch 84/200\n",
      "15/15 [==============================] - 0s 6ms/step - loss: 0.4355 - accuracy: 0.8134 - val_loss: 0.5594 - val_accuracy: 0.7774\n",
      "Epoch 85/200\n",
      "15/15 [==============================] - 0s 6ms/step - loss: 0.4369 - accuracy: 0.8130 - val_loss: 0.4993 - val_accuracy: 0.8174\n",
      "Epoch 86/200\n",
      "15/15 [==============================] - 0s 6ms/step - loss: 0.4191 - accuracy: 0.8281 - val_loss: 0.4407 - val_accuracy: 0.8332\n",
      "Epoch 87/200\n",
      "15/15 [==============================] - 0s 6ms/step - loss: 0.3987 - accuracy: 0.8331 - val_loss: 0.4171 - val_accuracy: 0.8371\n",
      "Epoch 88/200\n",
      "15/15 [==============================] - 0s 6ms/step - loss: 0.3802 - accuracy: 0.8418 - val_loss: 0.4147 - val_accuracy: 0.8376\n",
      "Epoch 89/200\n",
      "15/15 [==============================] - 0s 8ms/step - loss: 0.3964 - accuracy: 0.8348 - val_loss: 0.4200 - val_accuracy: 0.8396\n",
      "Epoch 90/200\n",
      "15/15 [==============================] - 0s 7ms/step - loss: 0.4250 - accuracy: 0.8198 - val_loss: 0.4384 - val_accuracy: 0.8342\n",
      "Epoch 91/200\n",
      "15/15 [==============================] - 0s 6ms/step - loss: 0.4505 - accuracy: 0.8019 - val_loss: 0.4811 - val_accuracy: 0.8386\n",
      "Epoch 92/200\n",
      "15/15 [==============================] - 0s 7ms/step - loss: 0.4336 - accuracy: 0.8132 - val_loss: 0.4723 - val_accuracy: 0.8307\n",
      "Epoch 93/200\n",
      "15/15 [==============================] - 0s 7ms/step - loss: 0.4049 - accuracy: 0.8365 - val_loss: 0.4160 - val_accuracy: 0.8401\n",
      "Epoch 94/200\n",
      "15/15 [==============================] - 0s 7ms/step - loss: 0.4127 - accuracy: 0.8256 - val_loss: 0.4814 - val_accuracy: 0.8139\n",
      "Epoch 95/200\n",
      "15/15 [==============================] - 0s 6ms/step - loss: 0.4156 - accuracy: 0.8270 - val_loss: 0.4185 - val_accuracy: 0.8346\n",
      "Epoch 96/200\n",
      "15/15 [==============================] - 0s 6ms/step - loss: 0.4004 - accuracy: 0.8336 - val_loss: 0.4178 - val_accuracy: 0.8411\n",
      "Epoch 97/200\n",
      "15/15 [==============================] - 0s 6ms/step - loss: 0.4000 - accuracy: 0.8342 - val_loss: 0.4166 - val_accuracy: 0.8391\n",
      "Epoch 98/200\n",
      "15/15 [==============================] - 0s 6ms/step - loss: 0.3806 - accuracy: 0.8414 - val_loss: 0.4131 - val_accuracy: 0.8371\n",
      "Epoch 99/200\n",
      "15/15 [==============================] - 0s 6ms/step - loss: 0.3789 - accuracy: 0.8437 - val_loss: 0.4289 - val_accuracy: 0.8272\n",
      "Epoch 100/200\n",
      "15/15 [==============================] - 0s 7ms/step - loss: 0.3705 - accuracy: 0.8507 - val_loss: 0.4333 - val_accuracy: 0.8332\n",
      "Epoch 101/200\n",
      "15/15 [==============================] - 0s 6ms/step - loss: 0.4320 - accuracy: 0.8179 - val_loss: 0.4326 - val_accuracy: 0.8332\n",
      "Epoch 102/200\n",
      "15/15 [==============================] - 0s 6ms/step - loss: 0.4272 - accuracy: 0.8162 - val_loss: 0.4650 - val_accuracy: 0.8332\n",
      "Epoch 103/200\n",
      "15/15 [==============================] - 0s 7ms/step - loss: 0.4143 - accuracy: 0.8319 - val_loss: 0.4274 - val_accuracy: 0.8332\n",
      "Epoch 104/200\n",
      "15/15 [==============================] - 0s 6ms/step - loss: 0.4099 - accuracy: 0.8283 - val_loss: 0.4376 - val_accuracy: 0.8332\n",
      "Epoch 105/200\n",
      "15/15 [==============================] - 0s 7ms/step - loss: 0.4286 - accuracy: 0.8161 - val_loss: 0.4193 - val_accuracy: 0.8391\n",
      "Epoch 106/200\n",
      "15/15 [==============================] - 0s 7ms/step - loss: 0.3910 - accuracy: 0.8393 - val_loss: 0.4174 - val_accuracy: 0.8342\n",
      "Epoch 107/200\n",
      "15/15 [==============================] - 0s 6ms/step - loss: 0.3768 - accuracy: 0.8440 - val_loss: 0.4059 - val_accuracy: 0.8396\n",
      "Epoch 108/200\n",
      "15/15 [==============================] - 0s 7ms/step - loss: 0.3907 - accuracy: 0.8349 - val_loss: 0.4008 - val_accuracy: 0.8435\n",
      "Epoch 109/200\n",
      "15/15 [==============================] - 0s 6ms/step - loss: 0.3715 - accuracy: 0.8464 - val_loss: 0.3998 - val_accuracy: 0.8411\n",
      "Epoch 110/200\n",
      "15/15 [==============================] - 0s 6ms/step - loss: 0.3729 - accuracy: 0.8445 - val_loss: 0.4098 - val_accuracy: 0.8346\n",
      "Epoch 111/200\n",
      "15/15 [==============================] - 0s 6ms/step - loss: 0.3912 - accuracy: 0.8344 - val_loss: 0.5030 - val_accuracy: 0.8332\n",
      "Epoch 112/200\n",
      "15/15 [==============================] - 0s 6ms/step - loss: 0.5117 - accuracy: 0.8113 - val_loss: 0.4366 - val_accuracy: 0.8332\n",
      "Epoch 113/200\n",
      "15/15 [==============================] - 0s 6ms/step - loss: 0.4234 - accuracy: 0.8248 - val_loss: 0.4405 - val_accuracy: 0.8416\n",
      "Epoch 114/200\n",
      "15/15 [==============================] - 0s 6ms/step - loss: 0.3858 - accuracy: 0.8474 - val_loss: 0.4440 - val_accuracy: 0.8297\n",
      "Epoch 115/200\n",
      "15/15 [==============================] - 0s 6ms/step - loss: 0.3914 - accuracy: 0.8358 - val_loss: 0.3998 - val_accuracy: 0.8401\n",
      "Epoch 116/200\n"
     ]
    },
    {
     "name": "stdout",
     "output_type": "stream",
     "text": [
      "15/15 [==============================] - 0s 6ms/step - loss: 0.3865 - accuracy: 0.8414 - val_loss: 0.5458 - val_accuracy: 0.7562\n",
      "Epoch 117/200\n",
      "15/15 [==============================] - 0s 6ms/step - loss: 0.4152 - accuracy: 0.8116 - val_loss: 0.4766 - val_accuracy: 0.8100\n",
      "Epoch 118/200\n",
      "15/15 [==============================] - 0s 6ms/step - loss: 0.3853 - accuracy: 0.8398 - val_loss: 0.4046 - val_accuracy: 0.8435\n",
      "Epoch 119/200\n",
      "15/15 [==============================] - 0s 7ms/step - loss: 0.3655 - accuracy: 0.8536 - val_loss: 0.4116 - val_accuracy: 0.8342\n",
      "Epoch 120/200\n",
      "15/15 [==============================] - 0s 6ms/step - loss: 0.3630 - accuracy: 0.8523 - val_loss: 0.3906 - val_accuracy: 0.8475\n",
      "Epoch 121/200\n",
      "15/15 [==============================] - 0s 6ms/step - loss: 0.3537 - accuracy: 0.8574 - val_loss: 0.3885 - val_accuracy: 0.8470\n",
      "Epoch 122/200\n",
      "15/15 [==============================] - 0s 6ms/step - loss: 0.3629 - accuracy: 0.8503 - val_loss: 0.3869 - val_accuracy: 0.8460\n",
      "Epoch 123/200\n",
      "15/15 [==============================] - 0s 7ms/step - loss: 0.3778 - accuracy: 0.8422 - val_loss: 0.5191 - val_accuracy: 0.7646\n",
      "Epoch 124/200\n",
      "15/15 [==============================] - 0s 7ms/step - loss: 0.3946 - accuracy: 0.8300 - val_loss: 0.3965 - val_accuracy: 0.8406\n",
      "Epoch 125/200\n",
      "15/15 [==============================] - 0s 7ms/step - loss: 0.3953 - accuracy: 0.8312 - val_loss: 0.3905 - val_accuracy: 0.8480\n",
      "Epoch 126/200\n",
      "15/15 [==============================] - 0s 7ms/step - loss: 0.3600 - accuracy: 0.8501 - val_loss: 0.3924 - val_accuracy: 0.8490\n",
      "Epoch 127/200\n",
      "15/15 [==============================] - 0s 7ms/step - loss: 0.3642 - accuracy: 0.8500 - val_loss: 0.4086 - val_accuracy: 0.8356\n",
      "Epoch 128/200\n",
      "15/15 [==============================] - 0s 7ms/step - loss: 0.3985 - accuracy: 0.8362 - val_loss: 0.7555 - val_accuracy: 0.5227\n",
      "Epoch 129/200\n",
      "15/15 [==============================] - 0s 8ms/step - loss: 0.4938 - accuracy: 0.7640 - val_loss: 0.4341 - val_accuracy: 0.8332\n",
      "Epoch 130/200\n",
      "15/15 [==============================] - 0s 7ms/step - loss: 0.4488 - accuracy: 0.8097 - val_loss: 0.4325 - val_accuracy: 0.8332\n",
      "Epoch 131/200\n",
      "15/15 [==============================] - 0s 7ms/step - loss: 0.4096 - accuracy: 0.8273 - val_loss: 0.4164 - val_accuracy: 0.8445\n",
      "Epoch 132/200\n",
      "15/15 [==============================] - 0s 7ms/step - loss: 0.3699 - accuracy: 0.8560 - val_loss: 0.4244 - val_accuracy: 0.8327\n",
      "Epoch 133/200\n",
      "15/15 [==============================] - 0s 7ms/step - loss: 0.3719 - accuracy: 0.8472 - val_loss: 0.3852 - val_accuracy: 0.8500\n",
      "Epoch 134/200\n",
      "15/15 [==============================] - 0s 7ms/step - loss: 0.3631 - accuracy: 0.8505 - val_loss: 0.3833 - val_accuracy: 0.8480\n",
      "Epoch 135/200\n",
      "15/15 [==============================] - 0s 7ms/step - loss: 0.3619 - accuracy: 0.8539 - val_loss: 0.3835 - val_accuracy: 0.8455\n",
      "Epoch 136/200\n",
      "15/15 [==============================] - 0s 7ms/step - loss: 0.3654 - accuracy: 0.8464 - val_loss: 0.4067 - val_accuracy: 0.8371\n",
      "Epoch 137/200\n",
      "15/15 [==============================] - 0s 7ms/step - loss: 0.3573 - accuracy: 0.8533 - val_loss: 0.3789 - val_accuracy: 0.8490\n",
      "Epoch 138/200\n",
      "15/15 [==============================] - 0s 7ms/step - loss: 0.3524 - accuracy: 0.8557 - val_loss: 0.3770 - val_accuracy: 0.8500\n",
      "Epoch 139/200\n",
      "15/15 [==============================] - 0s 6ms/step - loss: 0.3458 - accuracy: 0.8613 - val_loss: 0.3898 - val_accuracy: 0.8450\n",
      "Epoch 140/200\n",
      "15/15 [==============================] - 0s 6ms/step - loss: 0.3630 - accuracy: 0.8485 - val_loss: 0.4410 - val_accuracy: 0.8208\n",
      "Epoch 141/200\n",
      "15/15 [==============================] - 0s 6ms/step - loss: 0.3844 - accuracy: 0.8366 - val_loss: 0.3951 - val_accuracy: 0.8386\n",
      "Epoch 142/200\n",
      "15/15 [==============================] - 0s 6ms/step - loss: 0.3546 - accuracy: 0.8555 - val_loss: 0.3901 - val_accuracy: 0.8411\n",
      "Epoch 143/200\n",
      "15/15 [==============================] - 0s 6ms/step - loss: 0.3675 - accuracy: 0.8518 - val_loss: 0.3733 - val_accuracy: 0.8495\n",
      "Epoch 144/200\n",
      "15/15 [==============================] - 0s 6ms/step - loss: 0.3525 - accuracy: 0.8583 - val_loss: 0.3762 - val_accuracy: 0.8465\n",
      "Epoch 145/200\n",
      "15/15 [==============================] - 0s 7ms/step - loss: 0.3749 - accuracy: 0.8379 - val_loss: 0.3955 - val_accuracy: 0.8371\n",
      "Epoch 146/200\n",
      "15/15 [==============================] - 0s 6ms/step - loss: 0.3633 - accuracy: 0.8440 - val_loss: 0.3836 - val_accuracy: 0.8421\n",
      "Epoch 147/200\n",
      "15/15 [==============================] - 0s 7ms/step - loss: 0.3527 - accuracy: 0.8487 - val_loss: 0.3711 - val_accuracy: 0.8509\n",
      "Epoch 148/200\n",
      "15/15 [==============================] - 0s 6ms/step - loss: 0.3595 - accuracy: 0.8505 - val_loss: 0.3701 - val_accuracy: 0.8534\n",
      "Epoch 149/200\n",
      "15/15 [==============================] - 0s 7ms/step - loss: 0.3655 - accuracy: 0.8495 - val_loss: 0.3696 - val_accuracy: 0.8539\n",
      "Epoch 150/200\n",
      "15/15 [==============================] - 0s 6ms/step - loss: 0.3405 - accuracy: 0.8582 - val_loss: 0.3723 - val_accuracy: 0.8529\n",
      "Epoch 151/200\n",
      "15/15 [==============================] - 0s 7ms/step - loss: 0.3446 - accuracy: 0.8598 - val_loss: 0.3669 - val_accuracy: 0.8524\n",
      "Epoch 152/200\n",
      "15/15 [==============================] - 0s 6ms/step - loss: 0.3401 - accuracy: 0.8646 - val_loss: 0.3668 - val_accuracy: 0.8495\n",
      "Epoch 153/200\n",
      "15/15 [==============================] - 0s 6ms/step - loss: 0.3476 - accuracy: 0.8592 - val_loss: 0.3861 - val_accuracy: 0.8416\n",
      "Epoch 154/200\n",
      "15/15 [==============================] - 0s 6ms/step - loss: 0.3468 - accuracy: 0.8520 - val_loss: 0.3657 - val_accuracy: 0.8559\n",
      "Epoch 155/200\n",
      "15/15 [==============================] - 0s 6ms/step - loss: 0.3438 - accuracy: 0.8615 - val_loss: 0.3737 - val_accuracy: 0.8524\n",
      "Epoch 156/200\n",
      "15/15 [==============================] - 0s 6ms/step - loss: 0.3448 - accuracy: 0.8634 - val_loss: 0.3657 - val_accuracy: 0.8500\n",
      "Epoch 157/200\n",
      "15/15 [==============================] - 0s 7ms/step - loss: 0.3338 - accuracy: 0.8628 - val_loss: 0.3658 - val_accuracy: 0.8559\n",
      "Epoch 158/200\n",
      "15/15 [==============================] - 0s 6ms/step - loss: 0.3338 - accuracy: 0.8654 - val_loss: 0.3617 - val_accuracy: 0.8569\n",
      "Epoch 159/200\n",
      "15/15 [==============================] - 0s 7ms/step - loss: 0.3367 - accuracy: 0.8661 - val_loss: 0.3601 - val_accuracy: 0.8564\n",
      "Epoch 160/200\n",
      "15/15 [==============================] - 0s 6ms/step - loss: 0.3287 - accuracy: 0.8687 - val_loss: 0.3694 - val_accuracy: 0.8549\n",
      "Epoch 161/200\n",
      "15/15 [==============================] - 0s 19ms/step - loss: 0.3408 - accuracy: 0.8598 - val_loss: 0.3693 - val_accuracy: 0.8554\n",
      "Epoch 162/200\n",
      "15/15 [==============================] - 0s 7ms/step - loss: 0.3367 - accuracy: 0.8638 - val_loss: 0.3602 - val_accuracy: 0.8519\n",
      "Epoch 163/200\n",
      "15/15 [==============================] - 0s 6ms/step - loss: 0.3314 - accuracy: 0.8682 - val_loss: 0.3706 - val_accuracy: 0.8450\n",
      "Epoch 164/200\n",
      "15/15 [==============================] - 0s 7ms/step - loss: 0.3396 - accuracy: 0.8570 - val_loss: 0.3643 - val_accuracy: 0.8455\n",
      "Epoch 165/200\n",
      "15/15 [==============================] - 0s 6ms/step - loss: 0.3481 - accuracy: 0.8510 - val_loss: 0.3593 - val_accuracy: 0.8509\n",
      "Epoch 166/200\n",
      "15/15 [==============================] - 0s 6ms/step - loss: 0.3320 - accuracy: 0.8586 - val_loss: 0.3906 - val_accuracy: 0.8475\n",
      "Epoch 167/200\n",
      "15/15 [==============================] - 0s 6ms/step - loss: 0.3465 - accuracy: 0.8552 - val_loss: 0.3560 - val_accuracy: 0.8539\n",
      "Epoch 168/200\n",
      "15/15 [==============================] - 0s 7ms/step - loss: 0.3330 - accuracy: 0.8649 - val_loss: 0.3738 - val_accuracy: 0.8440\n",
      "Epoch 169/200\n",
      "15/15 [==============================] - 0s 6ms/step - loss: 0.3376 - accuracy: 0.8601 - val_loss: 0.3561 - val_accuracy: 0.8539\n",
      "Epoch 170/200\n",
      "15/15 [==============================] - 0s 7ms/step - loss: 0.3346 - accuracy: 0.8673 - val_loss: 0.4365 - val_accuracy: 0.8342\n",
      "Epoch 171/200\n",
      "15/15 [==============================] - 0s 6ms/step - loss: 0.4074 - accuracy: 0.8282 - val_loss: 0.4257 - val_accuracy: 0.8342\n",
      "Epoch 172/200\n",
      "15/15 [==============================] - 0s 7ms/step - loss: 0.3755 - accuracy: 0.8378 - val_loss: 0.4524 - val_accuracy: 0.8332\n",
      "Epoch 173/200\n"
     ]
    },
    {
     "name": "stdout",
     "output_type": "stream",
     "text": [
      "15/15 [==============================] - 0s 6ms/step - loss: 0.4068 - accuracy: 0.8255 - val_loss: 0.4122 - val_accuracy: 0.8529\n",
      "Epoch 174/200\n",
      "15/15 [==============================] - 0s 7ms/step - loss: 0.3560 - accuracy: 0.8511 - val_loss: 0.3898 - val_accuracy: 0.8598\n",
      "Epoch 175/200\n",
      "15/15 [==============================] - 0s 6ms/step - loss: 0.3428 - accuracy: 0.8640 - val_loss: 0.3615 - val_accuracy: 0.8583\n",
      "Epoch 176/200\n",
      "15/15 [==============================] - 0s 6ms/step - loss: 0.3450 - accuracy: 0.8587 - val_loss: 0.3855 - val_accuracy: 0.8406\n",
      "Epoch 177/200\n",
      "15/15 [==============================] - 0s 6ms/step - loss: 0.3455 - accuracy: 0.8579 - val_loss: 0.4513 - val_accuracy: 0.8045\n",
      "Epoch 178/200\n",
      "15/15 [==============================] - 0s 6ms/step - loss: 0.3550 - accuracy: 0.8548 - val_loss: 0.3549 - val_accuracy: 0.8569\n",
      "Epoch 179/200\n",
      "15/15 [==============================] - 0s 6ms/step - loss: 0.3304 - accuracy: 0.8622 - val_loss: 0.3547 - val_accuracy: 0.8578\n",
      "Epoch 180/200\n",
      "15/15 [==============================] - 0s 6ms/step - loss: 0.3302 - accuracy: 0.8661 - val_loss: 0.3897 - val_accuracy: 0.8396\n",
      "Epoch 181/200\n",
      "15/15 [==============================] - 0s 7ms/step - loss: 0.3777 - accuracy: 0.8349 - val_loss: 0.4454 - val_accuracy: 0.8332\n",
      "Epoch 182/200\n",
      "15/15 [==============================] - 0s 7ms/step - loss: 0.3941 - accuracy: 0.8276 - val_loss: 0.3608 - val_accuracy: 0.8534\n",
      "Epoch 183/200\n",
      "15/15 [==============================] - 0s 7ms/step - loss: 0.3362 - accuracy: 0.8627 - val_loss: 0.3617 - val_accuracy: 0.8495\n",
      "Epoch 184/200\n",
      "15/15 [==============================] - 0s 6ms/step - loss: 0.3384 - accuracy: 0.8635 - val_loss: 0.3696 - val_accuracy: 0.8445\n",
      "Epoch 185/200\n",
      "15/15 [==============================] - 0s 7ms/step - loss: 0.3561 - accuracy: 0.8461 - val_loss: 0.4316 - val_accuracy: 0.8164\n",
      "Epoch 186/200\n",
      "15/15 [==============================] - 0s 6ms/step - loss: 0.3323 - accuracy: 0.8647 - val_loss: 0.3597 - val_accuracy: 0.8593\n",
      "Epoch 187/200\n",
      "15/15 [==============================] - 0s 7ms/step - loss: 0.3189 - accuracy: 0.8724 - val_loss: 0.3488 - val_accuracy: 0.8588\n",
      "Epoch 188/200\n",
      "15/15 [==============================] - 0s 6ms/step - loss: 0.3245 - accuracy: 0.8716 - val_loss: 0.3491 - val_accuracy: 0.8593\n",
      "Epoch 189/200\n",
      "15/15 [==============================] - 0s 7ms/step - loss: 0.3352 - accuracy: 0.8606 - val_loss: 0.3608 - val_accuracy: 0.8470\n",
      "Epoch 190/200\n",
      "15/15 [==============================] - 0s 6ms/step - loss: 0.3437 - accuracy: 0.8543 - val_loss: 0.4105 - val_accuracy: 0.8302\n",
      "Epoch 191/200\n",
      "15/15 [==============================] - 0s 6ms/step - loss: 0.3413 - accuracy: 0.8585 - val_loss: 0.3560 - val_accuracy: 0.8490\n",
      "Epoch 192/200\n",
      "15/15 [==============================] - 0s 6ms/step - loss: 0.3173 - accuracy: 0.8684 - val_loss: 0.3558 - val_accuracy: 0.8648\n",
      "Epoch 193/200\n",
      "15/15 [==============================] - 0s 6ms/step - loss: 0.3141 - accuracy: 0.8781 - val_loss: 0.3456 - val_accuracy: 0.8593\n",
      "Epoch 194/200\n",
      "15/15 [==============================] - 0s 6ms/step - loss: 0.3252 - accuracy: 0.8668 - val_loss: 0.3567 - val_accuracy: 0.8672\n",
      "Epoch 195/200\n",
      "15/15 [==============================] - 0s 6ms/step - loss: 0.3280 - accuracy: 0.8639 - val_loss: 0.3433 - val_accuracy: 0.8618\n",
      "Epoch 196/200\n",
      "15/15 [==============================] - 0s 6ms/step - loss: 0.3184 - accuracy: 0.8723 - val_loss: 0.3437 - val_accuracy: 0.8593\n",
      "Epoch 197/200\n",
      "15/15 [==============================] - 0s 7ms/step - loss: 0.3241 - accuracy: 0.8665 - val_loss: 0.3786 - val_accuracy: 0.8514\n",
      "Epoch 198/200\n",
      "15/15 [==============================] - 0s 6ms/step - loss: 0.3322 - accuracy: 0.8629 - val_loss: 0.3675 - val_accuracy: 0.8593\n",
      "Epoch 199/200\n",
      "15/15 [==============================] - 0s 6ms/step - loss: 0.3240 - accuracy: 0.8662 - val_loss: 0.3538 - val_accuracy: 0.8672\n",
      "Epoch 200/200\n",
      "15/15 [==============================] - 0s 6ms/step - loss: 0.3210 - accuracy: 0.8691 - val_loss: 0.3506 - val_accuracy: 0.8529\n",
      "Time:  20.80413873901125\n"
     ]
    }
   ],
   "source": [
    "\n",
    "\n",
    "import timeit\n",
    "\n",
    "start = timeit.default_timer()\n",
    "\n",
    "#Your statements here\n",
    "\n",
    "bestNN3=create_modelWithDropBatch3(hidden_layers= 2, learning_rate= 0.001)\n",
    "history4 = bestNN3.fit(\n",
    "     scaled_XKmeans, y_train_res,\n",
    "    validation_data=(scaled_XValid, y_valid),\n",
    "    batch_size=512,\n",
    "    epochs=200,\n",
    "#     callbacks=[early_stopping],\n",
    ")\n",
    "stop = timeit.default_timer()\n",
    "\n",
    "print('Time: ', stop - start)  \n"
   ]
  },
  {
   "cell_type": "code",
   "execution_count": 141,
   "metadata": {},
   "outputs": [
    {
     "name": "stderr",
     "output_type": "stream",
     "text": [
      "/home/dheekshitha-vibha/miniconda3/envs/myenv/lib/python3.6/site-packages/tensorflow/python/keras/engine/sequential.py:450: UserWarning: `model.predict_classes()` is deprecated and will be removed after 2021-01-01. Please use instead:* `np.argmax(model.predict(x), axis=-1)`,   if your model does multi-class classification   (e.g. if it uses a `softmax` last-layer activation).* `(model.predict(x) > 0.5).astype(\"int32\")`,   if your model does binary classification   (e.g. if it uses a `sigmoid` last-layer activation).\n",
      "  warnings.warn('`model.predict_classes()` is deprecated and '\n"
     ]
    },
    {
     "name": "stdout",
     "output_type": "stream",
     "text": [
      "Accuracy_Score: 69.91530944625407 %\n",
      "precision_score: 68.90654457312147 %\n",
      "recall_score: 100.0 %\n"
     ]
    },
    {
     "data": {
      "image/png": "[encoded data removed]",
      "text/plain": [
       "<Figure size 432x288 with 1 Axes>"
      ]
     },
     "metadata": {
      "needs_background": "light"
     },
     "output_type": "display_data"
    },
    {
     "data": {
      "image/png": "[encoded data removed]",
      "text/plain": [
       "<Figure size 432x288 with 1 Axes>"
      ]
     },
     "metadata": {
      "needs_background": "light"
     },
     "output_type": "display_data"
    }
   ],
   "source": [
    "history_df = pd.DataFrame(history4.history)\n",
    "history_df.loc[:, ['loss', 'val_loss']].plot(title=\"Cross-entropy\")\n",
    "history_df.loc[:, ['accuracy', 'val_accuracy']].plot(title=\"Accuracy\")\n",
    "\n",
    "y_pred_SVM = bestNN3.predict_classes(XtrainData)\n",
    "\n",
    "\n",
    "# print('Classification report: \\n', metrics.classification_report(y_test, model))\n",
    "print('Accuracy_Score:',metrics.accuracy_score(y_train_res, y_pred_SVM)*100,'%')\n",
    "\n",
    "\n",
    "print('precision_score:',metrics.precision_score(y_train_res, y_pred_SVM)*100,'%')\n",
    "\n",
    "print('recall_score:',metrics.recall_score(y_train_res, y_pred_SVM)*100,'%')"
   ]
  },
  {
   "cell_type": "code",
   "execution_count": 131,
   "metadata": {
    "scrolled": true
   },
   "outputs": [
    {
     "name": "stdout",
     "output_type": "stream",
     "text": [
      "Epoch 1/200\n",
      "15/15 [==============================] - 1s 22ms/step - loss: 0.5433 - accuracy: 0.7374 - val_loss: 0.9448 - val_accuracy: 0.1673\n",
      "Epoch 2/200\n",
      "15/15 [==============================] - 0s 12ms/step - loss: 0.4138 - accuracy: 0.8215 - val_loss: 1.0830 - val_accuracy: 0.1673\n",
      "Epoch 3/200\n",
      "15/15 [==============================] - 0s 11ms/step - loss: 0.3768 - accuracy: 0.8424 - val_loss: 1.0579 - val_accuracy: 0.1673\n",
      "Epoch 4/200\n",
      "15/15 [==============================] - 0s 11ms/step - loss: 0.3211 - accuracy: 0.8656 - val_loss: 1.0342 - val_accuracy: 0.1673\n",
      "Epoch 5/200\n",
      "15/15 [==============================] - 0s 11ms/step - loss: 0.3259 - accuracy: 0.8645 - val_loss: 0.9897 - val_accuracy: 0.1673\n",
      "Epoch 6/200\n",
      "15/15 [==============================] - 0s 11ms/step - loss: 0.3130 - accuracy: 0.8715 - val_loss: 0.9868 - val_accuracy: 0.1673\n",
      "Epoch 7/200\n",
      "15/15 [==============================] - 0s 11ms/step - loss: 0.3082 - accuracy: 0.8735 - val_loss: 1.0604 - val_accuracy: 0.1673\n",
      "Epoch 8/200\n",
      "15/15 [==============================] - 0s 11ms/step - loss: 0.3024 - accuracy: 0.8774 - val_loss: 1.0969 - val_accuracy: 0.1673\n",
      "Epoch 9/200\n",
      "15/15 [==============================] - 0s 11ms/step - loss: 0.2920 - accuracy: 0.8846 - val_loss: 1.1669 - val_accuracy: 0.1673\n",
      "Epoch 10/200\n",
      "15/15 [==============================] - 0s 11ms/step - loss: 0.3010 - accuracy: 0.8788 - val_loss: 1.1021 - val_accuracy: 0.1673\n",
      "Epoch 11/200\n",
      "15/15 [==============================] - 0s 11ms/step - loss: 0.2906 - accuracy: 0.8811 - val_loss: 1.0913 - val_accuracy: 0.1673\n",
      "Epoch 12/200\n",
      "15/15 [==============================] - 0s 10ms/step - loss: 0.2888 - accuracy: 0.8868 - val_loss: 1.0996 - val_accuracy: 0.1673\n",
      "Epoch 13/200\n",
      "15/15 [==============================] - 0s 11ms/step - loss: 0.2728 - accuracy: 0.8941 - val_loss: 1.1318 - val_accuracy: 0.1673\n",
      "Epoch 14/200\n",
      "15/15 [==============================] - 0s 11ms/step - loss: 0.2692 - accuracy: 0.8920 - val_loss: 1.0293 - val_accuracy: 0.1673\n",
      "Epoch 15/200\n",
      "15/15 [==============================] - 0s 11ms/step - loss: 0.2849 - accuracy: 0.8847 - val_loss: 1.0351 - val_accuracy: 0.1673\n",
      "Epoch 16/200\n",
      "15/15 [==============================] - 0s 11ms/step - loss: 0.2775 - accuracy: 0.8864 - val_loss: 1.0902 - val_accuracy: 0.1673\n",
      "Epoch 17/200\n",
      "15/15 [==============================] - 0s 13ms/step - loss: 0.2773 - accuracy: 0.8891 - val_loss: 1.0960 - val_accuracy: 0.1673\n",
      "Epoch 18/200\n",
      "15/15 [==============================] - 0s 11ms/step - loss: 0.2726 - accuracy: 0.8911 - val_loss: 1.0371 - val_accuracy: 0.1673\n",
      "Epoch 19/200\n",
      "15/15 [==============================] - 0s 11ms/step - loss: 0.2692 - accuracy: 0.8942 - val_loss: 1.0553 - val_accuracy: 0.1673\n",
      "Epoch 20/200\n",
      "15/15 [==============================] - 0s 13ms/step - loss: 0.2555 - accuracy: 0.9003 - val_loss: 1.0359 - val_accuracy: 0.1673\n",
      "Epoch 21/200\n",
      "15/15 [==============================] - 0s 14ms/step - loss: 0.2586 - accuracy: 0.8971 - val_loss: 1.0191 - val_accuracy: 0.1673\n",
      "Epoch 22/200\n",
      "15/15 [==============================] - 0s 12ms/step - loss: 0.2460 - accuracy: 0.9034 - val_loss: 0.9407 - val_accuracy: 0.1673\n",
      "Epoch 23/200\n",
      "15/15 [==============================] - 0s 12ms/step - loss: 0.2492 - accuracy: 0.9010 - val_loss: 0.9083 - val_accuracy: 0.1673\n",
      "Epoch 24/200\n",
      "15/15 [==============================] - 0s 13ms/step - loss: 0.2552 - accuracy: 0.8927 - val_loss: 0.8709 - val_accuracy: 0.1673\n",
      "Epoch 25/200\n",
      "15/15 [==============================] - 0s 13ms/step - loss: 0.2494 - accuracy: 0.8979 - val_loss: 0.9334 - val_accuracy: 0.1673\n",
      "Epoch 26/200\n",
      "15/15 [==============================] - 0s 14ms/step - loss: 0.2620 - accuracy: 0.8964 - val_loss: 0.9677 - val_accuracy: 0.1673\n",
      "Epoch 27/200\n",
      "15/15 [==============================] - 0s 12ms/step - loss: 0.2564 - accuracy: 0.8968 - val_loss: 0.9511 - val_accuracy: 0.1673\n",
      "Epoch 28/200\n",
      "15/15 [==============================] - 0s 12ms/step - loss: 0.2538 - accuracy: 0.8990 - val_loss: 1.1217 - val_accuracy: 0.1673\n",
      "Epoch 29/200\n",
      "15/15 [==============================] - 0s 12ms/step - loss: 0.2470 - accuracy: 0.8975 - val_loss: 0.9455 - val_accuracy: 0.1683\n",
      "Epoch 30/200\n",
      "15/15 [==============================] - 0s 14ms/step - loss: 0.2530 - accuracy: 0.8982 - val_loss: 1.1204 - val_accuracy: 0.1673\n",
      "Epoch 31/200\n",
      "15/15 [==============================] - 0s 12ms/step - loss: 0.2351 - accuracy: 0.9077 - val_loss: 1.1521 - val_accuracy: 0.1703\n",
      "Epoch 32/200\n",
      "15/15 [==============================] - 0s 12ms/step - loss: 0.2436 - accuracy: 0.9019 - val_loss: 1.2400 - val_accuracy: 0.1718\n",
      "Epoch 33/200\n",
      "15/15 [==============================] - 0s 12ms/step - loss: 0.2380 - accuracy: 0.9060 - val_loss: 0.9623 - val_accuracy: 0.2522\n",
      "Epoch 34/200\n",
      "15/15 [==============================] - 0s 14ms/step - loss: 0.2387 - accuracy: 0.9021 - val_loss: 0.9902 - val_accuracy: 0.3124\n",
      "Epoch 35/200\n",
      "15/15 [==============================] - 0s 14ms/step - loss: 0.2369 - accuracy: 0.9020 - val_loss: 0.7607 - val_accuracy: 0.4941\n",
      "Epoch 36/200\n",
      "15/15 [==============================] - 0s 12ms/step - loss: 0.2330 - accuracy: 0.9030 - val_loss: 0.5349 - val_accuracy: 0.7557\n",
      "Epoch 37/200\n",
      "15/15 [==============================] - 0s 13ms/step - loss: 0.2387 - accuracy: 0.8997 - val_loss: 0.4583 - val_accuracy: 0.8193\n",
      "Epoch 38/200\n",
      "15/15 [==============================] - 0s 13ms/step - loss: 0.2227 - accuracy: 0.9080 - val_loss: 0.3918 - val_accuracy: 0.8524\n",
      "Epoch 39/200\n",
      "15/15 [==============================] - 0s 14ms/step - loss: 0.2236 - accuracy: 0.9094 - val_loss: 0.4247 - val_accuracy: 0.8460\n",
      "Epoch 40/200\n",
      "15/15 [==============================] - 0s 12ms/step - loss: 0.2306 - accuracy: 0.9084 - val_loss: 0.5277 - val_accuracy: 0.7517\n",
      "Epoch 41/200\n",
      "15/15 [==============================] - 0s 13ms/step - loss: 0.2373 - accuracy: 0.9061 - val_loss: 0.5130 - val_accuracy: 0.7631\n",
      "Epoch 42/200\n",
      "15/15 [==============================] - 0s 14ms/step - loss: 0.2439 - accuracy: 0.9043 - val_loss: 0.5112 - val_accuracy: 0.7621\n",
      "Epoch 43/200\n",
      "15/15 [==============================] - 0s 14ms/step - loss: 0.2254 - accuracy: 0.9097 - val_loss: 0.3569 - val_accuracy: 0.8549\n",
      "Epoch 44/200\n",
      "15/15 [==============================] - 0s 13ms/step - loss: 0.2307 - accuracy: 0.9064 - val_loss: 0.4790 - val_accuracy: 0.7784\n",
      "Epoch 45/200\n",
      "15/15 [==============================] - 0s 31ms/step - loss: 0.2233 - accuracy: 0.9077 - val_loss: 0.3790 - val_accuracy: 0.8421\n",
      "Epoch 46/200\n",
      "15/15 [==============================] - 0s 13ms/step - loss: 0.2236 - accuracy: 0.9091 - val_loss: 0.3942 - val_accuracy: 0.8416\n",
      "Epoch 47/200\n",
      "15/15 [==============================] - 0s 13ms/step - loss: 0.2319 - accuracy: 0.9053 - val_loss: 0.4740 - val_accuracy: 0.7912\n",
      "Epoch 48/200\n",
      "15/15 [==============================] - 0s 13ms/step - loss: 0.2294 - accuracy: 0.9065 - val_loss: 0.3770 - val_accuracy: 0.8465\n",
      "Epoch 49/200\n",
      "15/15 [==============================] - 0s 13ms/step - loss: 0.2144 - accuracy: 0.9152 - val_loss: 0.2945 - val_accuracy: 0.8736\n",
      "Epoch 50/200\n",
      "15/15 [==============================] - 0s 12ms/step - loss: 0.2286 - accuracy: 0.9095 - val_loss: 0.2863 - val_accuracy: 0.8766\n",
      "Epoch 51/200\n",
      "15/15 [==============================] - 0s 12ms/step - loss: 0.2236 - accuracy: 0.9097 - val_loss: 0.3429 - val_accuracy: 0.8618\n",
      "Epoch 52/200\n",
      "15/15 [==============================] - 0s 11ms/step - loss: 0.2279 - accuracy: 0.9032 - val_loss: 0.3085 - val_accuracy: 0.8692\n",
      "Epoch 53/200\n",
      "15/15 [==============================] - 0s 12ms/step - loss: 0.2258 - accuracy: 0.9063 - val_loss: 0.2848 - val_accuracy: 0.8766\n",
      "Epoch 54/200\n",
      "15/15 [==============================] - 0s 12ms/step - loss: 0.2299 - accuracy: 0.9099 - val_loss: 0.2755 - val_accuracy: 0.8796\n",
      "Epoch 55/200\n",
      "15/15 [==============================] - 0s 11ms/step - loss: 0.2197 - accuracy: 0.9074 - val_loss: 0.2928 - val_accuracy: 0.8825\n",
      "Epoch 56/200\n",
      "15/15 [==============================] - 0s 11ms/step - loss: 0.2123 - accuracy: 0.9154 - val_loss: 0.2807 - val_accuracy: 0.8791\n",
      "Epoch 57/200\n",
      "15/15 [==============================] - 0s 12ms/step - loss: 0.2241 - accuracy: 0.9061 - val_loss: 0.3018 - val_accuracy: 0.8820\n",
      "Epoch 58/200\n"
     ]
    },
    {
     "name": "stdout",
     "output_type": "stream",
     "text": [
      "15/15 [==============================] - 0s 12ms/step - loss: 0.2237 - accuracy: 0.9074 - val_loss: 0.3176 - val_accuracy: 0.8638\n",
      "Epoch 59/200\n",
      "15/15 [==============================] - 0s 13ms/step - loss: 0.2189 - accuracy: 0.9097 - val_loss: 0.2765 - val_accuracy: 0.8830\n",
      "Epoch 60/200\n",
      "15/15 [==============================] - 0s 11ms/step - loss: 0.2104 - accuracy: 0.9122 - val_loss: 0.2816 - val_accuracy: 0.8771\n",
      "Epoch 61/200\n",
      "15/15 [==============================] - 0s 12ms/step - loss: 0.2171 - accuracy: 0.9089 - val_loss: 0.3158 - val_accuracy: 0.8653\n",
      "Epoch 62/200\n",
      "15/15 [==============================] - 0s 13ms/step - loss: 0.2216 - accuracy: 0.9103 - val_loss: 0.2931 - val_accuracy: 0.8801\n",
      "Epoch 63/200\n",
      "15/15 [==============================] - 0s 11ms/step - loss: 0.2247 - accuracy: 0.9059 - val_loss: 0.3176 - val_accuracy: 0.8731\n",
      "Epoch 64/200\n",
      "15/15 [==============================] - 0s 13ms/step - loss: 0.2146 - accuracy: 0.9144 - val_loss: 0.4092 - val_accuracy: 0.8218\n",
      "Epoch 65/200\n",
      "15/15 [==============================] - 0s 11ms/step - loss: 0.2202 - accuracy: 0.9097 - val_loss: 0.5006 - val_accuracy: 0.7966\n",
      "Epoch 66/200\n",
      "15/15 [==============================] - 0s 12ms/step - loss: 0.2213 - accuracy: 0.9085 - val_loss: 0.3533 - val_accuracy: 0.8559\n",
      "Epoch 67/200\n",
      "15/15 [==============================] - 0s 13ms/step - loss: 0.2136 - accuracy: 0.9092 - val_loss: 0.3575 - val_accuracy: 0.8583\n",
      "Epoch 68/200\n",
      "15/15 [==============================] - 0s 13ms/step - loss: 0.2068 - accuracy: 0.9126 - val_loss: 0.3823 - val_accuracy: 0.8514\n",
      "Epoch 69/200\n",
      "15/15 [==============================] - 0s 11ms/step - loss: 0.2130 - accuracy: 0.9132 - val_loss: 0.3334 - val_accuracy: 0.8657\n",
      "Epoch 70/200\n",
      "15/15 [==============================] - 0s 12ms/step - loss: 0.2241 - accuracy: 0.9072 - val_loss: 0.4438 - val_accuracy: 0.8129\n",
      "Epoch 71/200\n",
      "15/15 [==============================] - 0s 11ms/step - loss: 0.2136 - accuracy: 0.9143 - val_loss: 0.4263 - val_accuracy: 0.8233\n",
      "Epoch 72/200\n",
      "15/15 [==============================] - 0s 11ms/step - loss: 0.2104 - accuracy: 0.9156 - val_loss: 0.4587 - val_accuracy: 0.8115\n",
      "Epoch 73/200\n",
      "15/15 [==============================] - 0s 12ms/step - loss: 0.2181 - accuracy: 0.9095 - val_loss: 0.3394 - val_accuracy: 0.8613\n",
      "Epoch 74/200\n",
      "15/15 [==============================] - 0s 11ms/step - loss: 0.2195 - accuracy: 0.9093 - val_loss: 0.3636 - val_accuracy: 0.8569\n",
      "Epoch 75/200\n",
      "15/15 [==============================] - 0s 11ms/step - loss: 0.2069 - accuracy: 0.9185 - val_loss: 0.4193 - val_accuracy: 0.8386\n",
      "Epoch 76/200\n",
      "15/15 [==============================] - 0s 12ms/step - loss: 0.2044 - accuracy: 0.9188 - val_loss: 0.2811 - val_accuracy: 0.8820\n",
      "Epoch 77/200\n",
      "15/15 [==============================] - 0s 10ms/step - loss: 0.1989 - accuracy: 0.9209 - val_loss: 0.3003 - val_accuracy: 0.8751\n",
      "Epoch 78/200\n",
      "15/15 [==============================] - 0s 11ms/step - loss: 0.2126 - accuracy: 0.9099 - val_loss: 0.3013 - val_accuracy: 0.8722\n",
      "Epoch 79/200\n",
      "15/15 [==============================] - 0s 11ms/step - loss: 0.2136 - accuracy: 0.9118 - val_loss: 0.2946 - val_accuracy: 0.8786\n",
      "Epoch 80/200\n",
      "15/15 [==============================] - 0s 11ms/step - loss: 0.2058 - accuracy: 0.9136 - val_loss: 0.2963 - val_accuracy: 0.8662\n",
      "Epoch 81/200\n",
      "15/15 [==============================] - 0s 13ms/step - loss: 0.2199 - accuracy: 0.9097 - val_loss: 0.3040 - val_accuracy: 0.8662\n",
      "Epoch 82/200\n",
      "15/15 [==============================] - 0s 12ms/step - loss: 0.2070 - accuracy: 0.9161 - val_loss: 0.3121 - val_accuracy: 0.8722\n",
      "Epoch 83/200\n",
      "15/15 [==============================] - 0s 12ms/step - loss: 0.2112 - accuracy: 0.9138 - val_loss: 0.2859 - val_accuracy: 0.8801\n",
      "Epoch 84/200\n",
      "15/15 [==============================] - 0s 13ms/step - loss: 0.2078 - accuracy: 0.9158 - val_loss: 0.2933 - val_accuracy: 0.8791\n",
      "Epoch 85/200\n",
      "15/15 [==============================] - 0s 12ms/step - loss: 0.2112 - accuracy: 0.9176 - val_loss: 0.2856 - val_accuracy: 0.8786\n",
      "Epoch 86/200\n",
      "15/15 [==============================] - 0s 11ms/step - loss: 0.2089 - accuracy: 0.9106 - val_loss: 0.3045 - val_accuracy: 0.8786\n",
      "Epoch 87/200\n",
      "15/15 [==============================] - 0s 11ms/step - loss: 0.2129 - accuracy: 0.9119 - val_loss: 0.2650 - val_accuracy: 0.8899\n",
      "Epoch 88/200\n",
      "15/15 [==============================] - 0s 13ms/step - loss: 0.2051 - accuracy: 0.9128 - val_loss: 0.2891 - val_accuracy: 0.8820\n",
      "Epoch 89/200\n",
      "15/15 [==============================] - 0s 12ms/step - loss: 0.2154 - accuracy: 0.9125 - val_loss: 0.2940 - val_accuracy: 0.8791\n",
      "Epoch 90/200\n",
      "15/15 [==============================] - 0s 13ms/step - loss: 0.2093 - accuracy: 0.9147 - val_loss: 0.2807 - val_accuracy: 0.8835\n",
      "Epoch 91/200\n",
      "15/15 [==============================] - 0s 12ms/step - loss: 0.2058 - accuracy: 0.9156 - val_loss: 0.3113 - val_accuracy: 0.8638\n",
      "Epoch 92/200\n",
      "15/15 [==============================] - 0s 13ms/step - loss: 0.2042 - accuracy: 0.9139 - val_loss: 0.2758 - val_accuracy: 0.8880\n",
      "Epoch 93/200\n",
      "15/15 [==============================] - 0s 13ms/step - loss: 0.2072 - accuracy: 0.9191 - val_loss: 0.2642 - val_accuracy: 0.8949\n",
      "Epoch 94/200\n",
      "15/15 [==============================] - 0s 12ms/step - loss: 0.2073 - accuracy: 0.9159 - val_loss: 0.2659 - val_accuracy: 0.8889\n",
      "Epoch 95/200\n",
      "15/15 [==============================] - 0s 14ms/step - loss: 0.2057 - accuracy: 0.9126 - val_loss: 0.3021 - val_accuracy: 0.8741\n",
      "Epoch 96/200\n",
      "15/15 [==============================] - 0s 13ms/step - loss: 0.1999 - accuracy: 0.9194 - val_loss: 0.2786 - val_accuracy: 0.8855\n",
      "Epoch 97/200\n",
      "15/15 [==============================] - 0s 12ms/step - loss: 0.2117 - accuracy: 0.9139 - val_loss: 0.3132 - val_accuracy: 0.8736\n",
      "Epoch 98/200\n",
      "15/15 [==============================] - 0s 14ms/step - loss: 0.2039 - accuracy: 0.9168 - val_loss: 0.2726 - val_accuracy: 0.8894\n",
      "Epoch 99/200\n",
      "15/15 [==============================] - 0s 13ms/step - loss: 0.2132 - accuracy: 0.9116 - val_loss: 0.2860 - val_accuracy: 0.8825\n",
      "Epoch 100/200\n",
      "15/15 [==============================] - 0s 13ms/step - loss: 0.2104 - accuracy: 0.9143 - val_loss: 0.2955 - val_accuracy: 0.8791\n",
      "Epoch 101/200\n",
      "15/15 [==============================] - 0s 14ms/step - loss: 0.1957 - accuracy: 0.9197 - val_loss: 0.4247 - val_accuracy: 0.8406\n",
      "Epoch 102/200\n",
      "15/15 [==============================] - 0s 13ms/step - loss: 0.2046 - accuracy: 0.9162 - val_loss: 0.3956 - val_accuracy: 0.8514\n",
      "Epoch 103/200\n",
      "15/15 [==============================] - 0s 13ms/step - loss: 0.2023 - accuracy: 0.9141 - val_loss: 0.4076 - val_accuracy: 0.8450\n",
      "Epoch 104/200\n",
      "15/15 [==============================] - 0s 13ms/step - loss: 0.1932 - accuracy: 0.9179 - val_loss: 0.3738 - val_accuracy: 0.8564\n",
      "Epoch 105/200\n",
      "15/15 [==============================] - 0s 12ms/step - loss: 0.2047 - accuracy: 0.9181 - val_loss: 0.2769 - val_accuracy: 0.8894\n",
      "Epoch 106/200\n",
      "15/15 [==============================] - 0s 11ms/step - loss: 0.1979 - accuracy: 0.9190 - val_loss: 0.2980 - val_accuracy: 0.8791\n",
      "Epoch 107/200\n",
      "15/15 [==============================] - 0s 11ms/step - loss: 0.2023 - accuracy: 0.9146 - val_loss: 0.2853 - val_accuracy: 0.8810\n",
      "Epoch 108/200\n",
      "15/15 [==============================] - 0s 12ms/step - loss: 0.2129 - accuracy: 0.9120 - val_loss: 0.2762 - val_accuracy: 0.8909\n",
      "Epoch 109/200\n",
      "15/15 [==============================] - 0s 11ms/step - loss: 0.2011 - accuracy: 0.9185 - val_loss: 0.2831 - val_accuracy: 0.8850\n",
      "Epoch 110/200\n",
      "15/15 [==============================] - 0s 12ms/step - loss: 0.2048 - accuracy: 0.9151 - val_loss: 0.2645 - val_accuracy: 0.8885\n",
      "Epoch 111/200\n",
      "15/15 [==============================] - 0s 12ms/step - loss: 0.2097 - accuracy: 0.9120 - val_loss: 0.2617 - val_accuracy: 0.8870\n",
      "Epoch 112/200\n",
      "15/15 [==============================] - 0s 11ms/step - loss: 0.2036 - accuracy: 0.9152 - val_loss: 0.2665 - val_accuracy: 0.8914\n",
      "Epoch 113/200\n",
      "15/15 [==============================] - 0s 13ms/step - loss: 0.1975 - accuracy: 0.9174 - val_loss: 0.2935 - val_accuracy: 0.8766\n",
      "Epoch 114/200\n",
      "15/15 [==============================] - 0s 11ms/step - loss: 0.2026 - accuracy: 0.9173 - val_loss: 0.2684 - val_accuracy: 0.8880\n",
      "Epoch 115/200\n"
     ]
    },
    {
     "name": "stdout",
     "output_type": "stream",
     "text": [
      "15/15 [==============================] - 0s 11ms/step - loss: 0.1991 - accuracy: 0.9184 - val_loss: 0.2854 - val_accuracy: 0.8791\n",
      "Epoch 116/200\n",
      "15/15 [==============================] - 0s 11ms/step - loss: 0.2086 - accuracy: 0.9123 - val_loss: 0.2953 - val_accuracy: 0.8731\n",
      "Epoch 117/200\n",
      "15/15 [==============================] - 0s 12ms/step - loss: 0.2057 - accuracy: 0.9134 - val_loss: 0.2717 - val_accuracy: 0.8845\n",
      "Epoch 118/200\n",
      "15/15 [==============================] - 0s 10ms/step - loss: 0.1984 - accuracy: 0.9203 - val_loss: 0.2934 - val_accuracy: 0.8771\n",
      "Epoch 119/200\n",
      "15/15 [==============================] - 0s 11ms/step - loss: 0.1990 - accuracy: 0.9176 - val_loss: 0.3274 - val_accuracy: 0.8662\n",
      "Epoch 120/200\n",
      "15/15 [==============================] - 0s 11ms/step - loss: 0.1989 - accuracy: 0.9207 - val_loss: 0.3130 - val_accuracy: 0.8702\n",
      "Epoch 121/200\n",
      "15/15 [==============================] - 0s 11ms/step - loss: 0.1955 - accuracy: 0.9204 - val_loss: 0.2737 - val_accuracy: 0.8825\n",
      "Epoch 122/200\n",
      "15/15 [==============================] - 0s 12ms/step - loss: 0.1890 - accuracy: 0.9198 - val_loss: 0.2991 - val_accuracy: 0.8810\n",
      "Epoch 123/200\n",
      "15/15 [==============================] - 0s 12ms/step - loss: 0.1892 - accuracy: 0.9232 - val_loss: 0.3039 - val_accuracy: 0.8736\n",
      "Epoch 124/200\n",
      "15/15 [==============================] - 0s 12ms/step - loss: 0.1921 - accuracy: 0.9240 - val_loss: 0.2710 - val_accuracy: 0.8880\n",
      "Epoch 125/200\n",
      "15/15 [==============================] - 0s 12ms/step - loss: 0.1931 - accuracy: 0.9187 - val_loss: 0.3282 - val_accuracy: 0.8751\n",
      "Epoch 126/200\n",
      "15/15 [==============================] - 0s 11ms/step - loss: 0.2059 - accuracy: 0.9145 - val_loss: 0.2858 - val_accuracy: 0.8870\n",
      "Epoch 127/200\n",
      "15/15 [==============================] - 0s 11ms/step - loss: 0.1984 - accuracy: 0.9193 - val_loss: 0.2863 - val_accuracy: 0.8865\n",
      "Epoch 128/200\n",
      "15/15 [==============================] - 0s 12ms/step - loss: 0.2158 - accuracy: 0.9136 - val_loss: 0.3159 - val_accuracy: 0.8825\n",
      "Epoch 129/200\n",
      "15/15 [==============================] - 0s 12ms/step - loss: 0.2029 - accuracy: 0.9185 - val_loss: 0.3304 - val_accuracy: 0.8736\n",
      "Epoch 130/200\n",
      "15/15 [==============================] - 0s 11ms/step - loss: 0.1906 - accuracy: 0.9242 - val_loss: 0.3312 - val_accuracy: 0.8741\n",
      "Epoch 131/200\n",
      "15/15 [==============================] - 0s 11ms/step - loss: 0.2018 - accuracy: 0.9121 - val_loss: 0.2963 - val_accuracy: 0.8682\n",
      "Epoch 132/200\n",
      "15/15 [==============================] - 0s 11ms/step - loss: 0.1959 - accuracy: 0.9214 - val_loss: 0.3035 - val_accuracy: 0.8687\n",
      "Epoch 133/200\n",
      "15/15 [==============================] - 0s 10ms/step - loss: 0.1999 - accuracy: 0.9185 - val_loss: 0.2517 - val_accuracy: 0.8954\n",
      "Epoch 134/200\n",
      "15/15 [==============================] - 0s 11ms/step - loss: 0.2023 - accuracy: 0.9107 - val_loss: 0.2605 - val_accuracy: 0.8924\n",
      "Epoch 135/200\n",
      "15/15 [==============================] - 0s 11ms/step - loss: 0.1840 - accuracy: 0.9257 - val_loss: 0.3731 - val_accuracy: 0.8411\n",
      "Epoch 136/200\n",
      "15/15 [==============================] - 0s 12ms/step - loss: 0.2002 - accuracy: 0.9168 - val_loss: 0.2724 - val_accuracy: 0.8899\n",
      "Epoch 137/200\n",
      "15/15 [==============================] - 0s 11ms/step - loss: 0.1902 - accuracy: 0.9202 - val_loss: 0.3153 - val_accuracy: 0.8618\n",
      "Epoch 138/200\n",
      "15/15 [==============================] - 0s 11ms/step - loss: 0.1956 - accuracy: 0.9180 - val_loss: 0.3416 - val_accuracy: 0.8574\n",
      "Epoch 139/200\n",
      "15/15 [==============================] - 0s 11ms/step - loss: 0.1952 - accuracy: 0.9214 - val_loss: 0.4599 - val_accuracy: 0.8228\n",
      "Epoch 140/200\n",
      "15/15 [==============================] - 0s 11ms/step - loss: 0.1886 - accuracy: 0.9206 - val_loss: 0.4163 - val_accuracy: 0.8411\n",
      "Epoch 141/200\n",
      "15/15 [==============================] - 0s 11ms/step - loss: 0.1912 - accuracy: 0.9237 - val_loss: 0.4995 - val_accuracy: 0.7991\n",
      "Epoch 142/200\n",
      "15/15 [==============================] - 0s 11ms/step - loss: 0.1901 - accuracy: 0.9226 - val_loss: 0.2846 - val_accuracy: 0.8830\n",
      "Epoch 143/200\n",
      "15/15 [==============================] - 0s 13ms/step - loss: 0.1882 - accuracy: 0.9224 - val_loss: 0.2597 - val_accuracy: 0.8934\n",
      "Epoch 144/200\n",
      "15/15 [==============================] - 0s 12ms/step - loss: 0.1964 - accuracy: 0.9195 - val_loss: 0.2730 - val_accuracy: 0.8845\n",
      "Epoch 145/200\n",
      "15/15 [==============================] - 0s 12ms/step - loss: 0.2056 - accuracy: 0.9163 - val_loss: 0.2820 - val_accuracy: 0.8885\n",
      "Epoch 146/200\n",
      "15/15 [==============================] - 0s 11ms/step - loss: 0.1952 - accuracy: 0.9213 - val_loss: 0.2916 - val_accuracy: 0.8766\n",
      "Epoch 147/200\n",
      "15/15 [==============================] - 0s 11ms/step - loss: 0.1951 - accuracy: 0.9203 - val_loss: 0.2705 - val_accuracy: 0.8889\n",
      "Epoch 148/200\n",
      "15/15 [==============================] - 0s 12ms/step - loss: 0.1935 - accuracy: 0.9212 - val_loss: 0.2693 - val_accuracy: 0.8959\n",
      "Epoch 149/200\n",
      "15/15 [==============================] - 0s 13ms/step - loss: 0.1910 - accuracy: 0.9196 - val_loss: 0.3276 - val_accuracy: 0.8727\n",
      "Epoch 150/200\n",
      "15/15 [==============================] - 0s 12ms/step - loss: 0.2079 - accuracy: 0.9152 - val_loss: 0.3240 - val_accuracy: 0.8731\n",
      "Epoch 151/200\n",
      "15/15 [==============================] - 0s 11ms/step - loss: 0.1900 - accuracy: 0.9242 - val_loss: 0.3101 - val_accuracy: 0.8806\n",
      "Epoch 152/200\n",
      "15/15 [==============================] - 0s 11ms/step - loss: 0.1927 - accuracy: 0.9198 - val_loss: 0.3275 - val_accuracy: 0.8697\n",
      "Epoch 153/200\n",
      "15/15 [==============================] - 0s 11ms/step - loss: 0.1923 - accuracy: 0.9212 - val_loss: 0.3722 - val_accuracy: 0.8588\n",
      "Epoch 154/200\n",
      "15/15 [==============================] - 0s 11ms/step - loss: 0.1943 - accuracy: 0.9213 - val_loss: 0.3587 - val_accuracy: 0.8608\n",
      "Epoch 155/200\n",
      "15/15 [==============================] - 0s 11ms/step - loss: 0.1914 - accuracy: 0.9197 - val_loss: 0.3002 - val_accuracy: 0.8717\n",
      "Epoch 156/200\n",
      "15/15 [==============================] - 0s 12ms/step - loss: 0.1984 - accuracy: 0.9200 - val_loss: 0.3383 - val_accuracy: 0.8569\n",
      "Epoch 157/200\n",
      "15/15 [==============================] - 0s 12ms/step - loss: 0.1908 - accuracy: 0.9242 - val_loss: 0.3166 - val_accuracy: 0.8692\n",
      "Epoch 158/200\n",
      "15/15 [==============================] - 0s 11ms/step - loss: 0.1870 - accuracy: 0.9246 - val_loss: 0.3073 - val_accuracy: 0.8776\n",
      "Epoch 159/200\n",
      "15/15 [==============================] - 0s 11ms/step - loss: 0.2005 - accuracy: 0.9188 - val_loss: 0.2982 - val_accuracy: 0.8746\n",
      "Epoch 160/200\n",
      "15/15 [==============================] - 0s 11ms/step - loss: 0.1965 - accuracy: 0.9221 - val_loss: 0.2777 - val_accuracy: 0.8860\n",
      "Epoch 161/200\n",
      "15/15 [==============================] - 0s 11ms/step - loss: 0.1887 - accuracy: 0.9251 - val_loss: 0.2806 - val_accuracy: 0.8815\n",
      "Epoch 162/200\n",
      "15/15 [==============================] - 0s 11ms/step - loss: 0.1854 - accuracy: 0.9271 - val_loss: 0.2738 - val_accuracy: 0.8914\n",
      "Epoch 163/200\n",
      "15/15 [==============================] - 0s 11ms/step - loss: 0.1907 - accuracy: 0.9211 - val_loss: 0.2763 - val_accuracy: 0.8914\n",
      "Epoch 164/200\n",
      "15/15 [==============================] - 0s 12ms/step - loss: 0.1832 - accuracy: 0.9241 - val_loss: 0.2962 - val_accuracy: 0.8781\n",
      "Epoch 165/200\n",
      "15/15 [==============================] - 0s 12ms/step - loss: 0.1966 - accuracy: 0.9145 - val_loss: 0.2958 - val_accuracy: 0.8840\n",
      "Epoch 166/200\n",
      "15/15 [==============================] - 0s 10ms/step - loss: 0.2041 - accuracy: 0.9135 - val_loss: 0.3006 - val_accuracy: 0.8820\n",
      "Epoch 167/200\n",
      "15/15 [==============================] - 0s 12ms/step - loss: 0.2003 - accuracy: 0.9178 - val_loss: 0.3368 - val_accuracy: 0.8687\n",
      "Epoch 168/200\n",
      "15/15 [==============================] - 0s 12ms/step - loss: 0.1952 - accuracy: 0.9180 - val_loss: 0.2905 - val_accuracy: 0.8860\n",
      "Epoch 169/200\n",
      "15/15 [==============================] - 0s 12ms/step - loss: 0.1833 - accuracy: 0.9252 - val_loss: 0.3224 - val_accuracy: 0.8756\n",
      "Epoch 170/200\n",
      "15/15 [==============================] - 0s 11ms/step - loss: 0.1936 - accuracy: 0.9214 - val_loss: 0.3306 - val_accuracy: 0.8662\n",
      "Epoch 171/200\n",
      "15/15 [==============================] - 0s 13ms/step - loss: 0.1983 - accuracy: 0.9194 - val_loss: 0.4744 - val_accuracy: 0.8228\n"
     ]
    },
    {
     "name": "stdout",
     "output_type": "stream",
     "text": [
      "Epoch 172/200\n",
      "15/15 [==============================] - 0s 10ms/step - loss: 0.1944 - accuracy: 0.9178 - val_loss: 0.3794 - val_accuracy: 0.8514\n",
      "Epoch 173/200\n",
      "15/15 [==============================] - 0s 10ms/step - loss: 0.1890 - accuracy: 0.9236 - val_loss: 0.3352 - val_accuracy: 0.8697\n",
      "Epoch 174/200\n",
      "15/15 [==============================] - 0s 12ms/step - loss: 0.1818 - accuracy: 0.9241 - val_loss: 0.3464 - val_accuracy: 0.8613\n",
      "Epoch 175/200\n",
      "15/15 [==============================] - 0s 24ms/step - loss: 0.1971 - accuracy: 0.9194 - val_loss: 0.3106 - val_accuracy: 0.8756\n",
      "Epoch 176/200\n",
      "15/15 [==============================] - 0s 12ms/step - loss: 0.1952 - accuracy: 0.9199 - val_loss: 0.3194 - val_accuracy: 0.8741\n",
      "Epoch 177/200\n",
      "15/15 [==============================] - 0s 10ms/step - loss: 0.1855 - accuracy: 0.9234 - val_loss: 0.3283 - val_accuracy: 0.8697\n",
      "Epoch 178/200\n",
      "15/15 [==============================] - 0s 10ms/step - loss: 0.1934 - accuracy: 0.9197 - val_loss: 0.3420 - val_accuracy: 0.8583\n",
      "Epoch 179/200\n",
      "15/15 [==============================] - 0s 11ms/step - loss: 0.1895 - accuracy: 0.9203 - val_loss: 0.3273 - val_accuracy: 0.8682\n",
      "Epoch 180/200\n",
      "15/15 [==============================] - 0s 12ms/step - loss: 0.1824 - accuracy: 0.9271 - val_loss: 0.3051 - val_accuracy: 0.8756\n",
      "Epoch 181/200\n",
      "15/15 [==============================] - 0s 10ms/step - loss: 0.2000 - accuracy: 0.9169 - val_loss: 0.2797 - val_accuracy: 0.8781\n",
      "Epoch 182/200\n",
      "15/15 [==============================] - 0s 10ms/step - loss: 0.1862 - accuracy: 0.9200 - val_loss: 0.2844 - val_accuracy: 0.8815\n",
      "Epoch 183/200\n",
      "15/15 [==============================] - 0s 10ms/step - loss: 0.1832 - accuracy: 0.9236 - val_loss: 0.2801 - val_accuracy: 0.8801\n",
      "Epoch 184/200\n",
      "15/15 [==============================] - 0s 12ms/step - loss: 0.1860 - accuracy: 0.9240 - val_loss: 0.2645 - val_accuracy: 0.8894\n",
      "Epoch 185/200\n",
      "15/15 [==============================] - 0s 10ms/step - loss: 0.1923 - accuracy: 0.9188 - val_loss: 0.3146 - val_accuracy: 0.8707\n",
      "Epoch 186/200\n",
      "15/15 [==============================] - 0s 10ms/step - loss: 0.1895 - accuracy: 0.9197 - val_loss: 0.2776 - val_accuracy: 0.8889\n",
      "Epoch 187/200\n",
      "15/15 [==============================] - 0s 11ms/step - loss: 0.1834 - accuracy: 0.9249 - val_loss: 0.2586 - val_accuracy: 0.8949\n",
      "Epoch 188/200\n",
      "15/15 [==============================] - 0s 12ms/step - loss: 0.1944 - accuracy: 0.9217 - val_loss: 0.2616 - val_accuracy: 0.8959\n",
      "Epoch 189/200\n",
      "15/15 [==============================] - 0s 12ms/step - loss: 0.1912 - accuracy: 0.9214 - val_loss: 0.2819 - val_accuracy: 0.8761\n",
      "Epoch 190/200\n",
      "15/15 [==============================] - 0s 11ms/step - loss: 0.1903 - accuracy: 0.9213 - val_loss: 0.2918 - val_accuracy: 0.8806\n",
      "Epoch 191/200\n",
      "15/15 [==============================] - 0s 11ms/step - loss: 0.1834 - accuracy: 0.9273 - val_loss: 0.3032 - val_accuracy: 0.8796\n",
      "Epoch 192/200\n",
      "15/15 [==============================] - 0s 13ms/step - loss: 0.1939 - accuracy: 0.9172 - val_loss: 0.3217 - val_accuracy: 0.8653\n",
      "Epoch 193/200\n",
      "15/15 [==============================] - 0s 12ms/step - loss: 0.1811 - accuracy: 0.9233 - val_loss: 0.2843 - val_accuracy: 0.8825\n",
      "Epoch 194/200\n",
      "15/15 [==============================] - 0s 11ms/step - loss: 0.1839 - accuracy: 0.9215 - val_loss: 0.4098 - val_accuracy: 0.8366\n",
      "Epoch 195/200\n",
      "15/15 [==============================] - 0s 12ms/step - loss: 0.1858 - accuracy: 0.9219 - val_loss: 0.2924 - val_accuracy: 0.8801\n",
      "Epoch 196/200\n",
      "15/15 [==============================] - 0s 12ms/step - loss: 0.1872 - accuracy: 0.9209 - val_loss: 0.3129 - val_accuracy: 0.8766\n",
      "Epoch 197/200\n",
      "15/15 [==============================] - 0s 11ms/step - loss: 0.1938 - accuracy: 0.9211 - val_loss: 0.2868 - val_accuracy: 0.8880\n",
      "Epoch 198/200\n",
      "15/15 [==============================] - 0s 11ms/step - loss: 0.1838 - accuracy: 0.9239 - val_loss: 0.3066 - val_accuracy: 0.8801\n",
      "Epoch 199/200\n",
      "15/15 [==============================] - 0s 13ms/step - loss: 0.1947 - accuracy: 0.9229 - val_loss: 0.3476 - val_accuracy: 0.8603\n",
      "Epoch 200/200\n",
      "15/15 [==============================] - 0s 13ms/step - loss: 0.1907 - accuracy: 0.9202 - val_loss: 0.2982 - val_accuracy: 0.8885\n",
      "Time:  36.664972871003556\n"
     ]
    }
   ],
   "source": [
    "\n",
    "\n",
    "import timeit\n",
    "\n",
    "start = timeit.default_timer()\n",
    "\n",
    "#Your statements here\n",
    "\n",
    "bestNN2=create_modelWithDropBatch2(hidden_layers= 2, learning_rate= 0.001)\n",
    "history3 = bestNN2.fit(\n",
    "     scaled_XKmeans, y_train_res,\n",
    "    validation_data=(scaled_XValid, y_valid),\n",
    "    batch_size=512,\n",
    "    epochs=200,\n",
    "#     callbacks=[early_stopping],\n",
    ")\n",
    "stop = timeit.default_timer()\n",
    "\n",
    "print('Time: ', stop - start)  \n"
   ]
  },
  {
   "cell_type": "code",
   "execution_count": 132,
   "metadata": {
    "scrolled": false
   },
   "outputs": [
    {
     "name": "stderr",
     "output_type": "stream",
     "text": [
      "/home/dheekshitha-vibha/miniconda3/envs/myenv/lib/python3.6/site-packages/tensorflow/python/keras/engine/sequential.py:450: UserWarning: `model.predict_classes()` is deprecated and will be removed after 2021-01-01. Please use instead:* `np.argmax(model.predict(x), axis=-1)`,   if your model does multi-class classification   (e.g. if it uses a `softmax` last-layer activation).* `(model.predict(x) > 0.5).astype(\"int32\")`,   if your model does binary classification   (e.g. if it uses a `sigmoid` last-layer activation).\n",
      "  warnings.warn('`model.predict_classes()` is deprecated and '\n"
     ]
    },
    {
     "name": "stdout",
     "output_type": "stream",
     "text": [
      "Accuracy_Score: 66.67100977198697 %\n",
      "precision_score: 66.67100977198697 %\n",
      "recall_score: 100.0 %\n"
     ]
    },
    {
     "data": {
      "image/png": "[encoded data removed]",
      "text/plain": [
       "<Figure size 432x288 with 1 Axes>"
      ]
     },
     "metadata": {
      "needs_background": "light"
     },
     "output_type": "display_data"
    },
    {
     "data": {
      "image/png": "[encoded data removed]",
      "text/plain": [
       "<Figure size 432x288 with 1 Axes>"
      ]
     },
     "metadata": {
      "needs_background": "light"
     },
     "output_type": "display_data"
    }
   ],
   "source": [
    "history_df = pd.DataFrame(history3.history)\n",
    "history_df.loc[:, ['loss', 'val_loss']].plot(title=\"Cross-entropy\")\n",
    "history_df.loc[:, ['accuracy', 'val_accuracy']].plot(title=\"Accuracy\")\n",
    "\n",
    "# y_pred_SVM = bestNN2.predict_classes(XtrainData)\n",
    "\n",
    "\n",
    "# # print('Classification report: \\n', metrics.classification_report(y_test, model))\n",
    "# print('Accuracy_Score:',metrics.accuracy_score(y_train_res, y_pred_SVM)*100,'%')\n",
    "\n",
    "\n",
    "# print('precision_score:',metrics.precision_score(y_train_res, y_pred_SVM)*100,'%')\n",
    "\n",
    "# print('recall_score:',metrics.recall_score(y_train_res, y_pred_SVM)*100,'%')"
   ]
  },
  {
   "cell_type": "code",
   "execution_count": 142,
   "metadata": {},
   "outputs": [
    {
     "name": "stderr",
     "output_type": "stream",
     "text": [
      "/home/dheekshitha-vibha/miniconda3/envs/myenv/lib/python3.6/site-packages/tensorflow/python/keras/engine/sequential.py:450: UserWarning: `model.predict_classes()` is deprecated and will be removed after 2021-01-01. Please use instead:* `np.argmax(model.predict(x), axis=-1)`,   if your model does multi-class classification   (e.g. if it uses a `softmax` last-layer activation).* `(model.predict(x) > 0.5).astype(\"int32\")`,   if your model does binary classification   (e.g. if it uses a `sigmoid` last-layer activation).\n",
      "  warnings.warn('`model.predict_classes()` is deprecated and '\n"
     ]
    },
    {
     "data": {
      "image/png": "[encoded data removed]",
      "text/plain": [
       "<Figure size 576x432 with 2 Axes>"
      ]
     },
     "metadata": {
      "needs_background": "light"
     },
     "output_type": "display_data"
    },
    {
     "name": "stdout",
     "output_type": "stream",
     "text": [
      "Confusion matrix: \n",
      " [[ 162  177]\n",
      " [  49 1638]]\n",
      "TP:  1638\n",
      "TN:  162\n",
      "FP:  177\n",
      "FN:  49\n",
      "Classification report: \n",
      "               precision    recall  f1-score   support\n",
      "\n",
      "           0       0.77      0.48      0.59       339\n",
      "           1       0.90      0.97      0.94      1687\n",
      "\n",
      "    accuracy                           0.89      2026\n",
      "   macro avg       0.84      0.72      0.76      2026\n",
      "weighted avg       0.88      0.89      0.88      2026\n",
      "\n"
     ]
    },
    {
     "name": "stderr",
     "output_type": "stream",
     "text": [
      "/home/dheekshitha-vibha/miniconda3/envs/myenv/lib/python3.6/site-packages/tensorflow/python/keras/engine/sequential.py:450: UserWarning: `model.predict_classes()` is deprecated and will be removed after 2021-01-01. Please use instead:* `np.argmax(model.predict(x), axis=-1)`,   if your model does multi-class classification   (e.g. if it uses a `softmax` last-layer activation).* `(model.predict(x) > 0.5).astype(\"int32\")`,   if your model does binary classification   (e.g. if it uses a `sigmoid` last-layer activation).\n",
      "  warnings.warn('`model.predict_classes()` is deprecated and '\n",
      "/home/dheekshitha-vibha/miniconda3/envs/myenv/lib/python3.6/site-packages/tensorflow/python/keras/engine/sequential.py:450: UserWarning: `model.predict_classes()` is deprecated and will be removed after 2021-01-01. Please use instead:* `np.argmax(model.predict(x), axis=-1)`,   if your model does multi-class classification   (e.g. if it uses a `softmax` last-layer activation).* `(model.predict(x) > 0.5).astype(\"int32\")`,   if your model does binary classification   (e.g. if it uses a `sigmoid` last-layer activation).\n",
      "  warnings.warn('`model.predict_classes()` is deprecated and '\n"
     ]
    },
    {
     "name": "stdout",
     "output_type": "stream",
     "text": [
      "Training Accuracy_Score: 92.33876221498372 %\n"
     ]
    },
    {
     "name": "stderr",
     "output_type": "stream",
     "text": [
      "/home/dheekshitha-vibha/miniconda3/envs/myenv/lib/python3.6/site-packages/tensorflow/python/keras/engine/sequential.py:450: UserWarning: `model.predict_classes()` is deprecated and will be removed after 2021-01-01. Please use instead:* `np.argmax(model.predict(x), axis=-1)`,   if your model does multi-class classification   (e.g. if it uses a `softmax` last-layer activation).* `(model.predict(x) > 0.5).astype(\"int32\")`,   if your model does binary classification   (e.g. if it uses a `sigmoid` last-layer activation).\n",
      "  warnings.warn('`model.predict_classes()` is deprecated and '\n"
     ]
    },
    {
     "name": "stdout",
     "output_type": "stream",
     "text": [
      "Training Precision: 91.04585825629871 %\n"
     ]
    },
    {
     "name": "stderr",
     "output_type": "stream",
     "text": [
      "/home/dheekshitha-vibha/miniconda3/envs/myenv/lib/python3.6/site-packages/tensorflow/python/keras/engine/sequential.py:450: UserWarning: `model.predict_classes()` is deprecated and will be removed after 2021-01-01. Please use instead:* `np.argmax(model.predict(x), axis=-1)`,   if your model does multi-class classification   (e.g. if it uses a `softmax` last-layer activation).* `(model.predict(x) > 0.5).astype(\"int32\")`,   if your model does binary classification   (e.g. if it uses a `sigmoid` last-layer activation).\n",
      "  warnings.warn('`model.predict_classes()` is deprecated and '\n"
     ]
    },
    {
     "name": "stdout",
     "output_type": "stream",
     "text": [
      "Training Recall: 98.16298612468243 %\n"
     ]
    },
    {
     "name": "stderr",
     "output_type": "stream",
     "text": [
      "/home/dheekshitha-vibha/miniconda3/envs/myenv/lib/python3.6/site-packages/tensorflow/python/keras/engine/sequential.py:450: UserWarning: `model.predict_classes()` is deprecated and will be removed after 2021-01-01. Please use instead:* `np.argmax(model.predict(x), axis=-1)`,   if your model does multi-class classification   (e.g. if it uses a `softmax` last-layer activation).* `(model.predict(x) > 0.5).astype(\"int32\")`,   if your model does binary classification   (e.g. if it uses a `sigmoid` last-layer activation).\n",
      "  warnings.warn('`model.predict_classes()` is deprecated and '\n"
     ]
    },
    {
     "name": "stdout",
     "output_type": "stream",
     "text": [
      "Training F1 Score: 94.47056610870793 %\n",
      "Validation Accuracy_Score: 88.84501480750247 %\n",
      "Validation Precision: 90.24793388429751 %\n",
      "Validation Recall: 97.0954356846473 %\n",
      "Validation F1 Score: 93.54654483152484 %\n"
     ]
    }
   ],
   "source": [
    "\n",
    "plotconfusionMatrix(bestNN2,y_valid['Attrition_Flag'],scaled_XValid)\n",
    "\n",
    "getMetrics(bestNN2,scaled_XKmeans,y_train_res['Attrition_Flag'],scaled_XValid,y_valid['Attrition_Flag'])"
   ]
  },
  {
   "cell_type": "code",
   "execution_count": 90,
   "metadata": {
    "scrolled": true
   },
   "outputs": [
    {
     "name": "stdout",
     "output_type": "stream",
     "text": [
      "Epoch 1/200\n",
      "15/15 [==============================] - 1s 18ms/step - loss: 0.8632 - accuracy: 0.4324 - val_loss: 0.5199 - val_accuracy: 0.8327\n",
      "Epoch 2/200\n",
      "15/15 [==============================] - 0s 7ms/step - loss: 0.6379 - accuracy: 0.5595 - val_loss: 0.5136 - val_accuracy: 0.8327\n",
      "Epoch 3/200\n",
      "15/15 [==============================] - 0s 7ms/step - loss: 0.5906 - accuracy: 0.6102 - val_loss: 0.5506 - val_accuracy: 0.8327\n",
      "Epoch 4/200\n",
      "15/15 [==============================] - 0s 7ms/step - loss: 0.5462 - accuracy: 0.6781 - val_loss: 0.5859 - val_accuracy: 0.8327\n",
      "Epoch 5/200\n",
      "15/15 [==============================] - 0s 7ms/step - loss: 0.5108 - accuracy: 0.7391 - val_loss: 0.5972 - val_accuracy: 0.8327\n",
      "Epoch 6/200\n",
      "15/15 [==============================] - 0s 7ms/step - loss: 0.4679 - accuracy: 0.7746 - val_loss: 0.6064 - val_accuracy: 0.8346\n",
      "Epoch 7/200\n",
      "15/15 [==============================] - 0s 7ms/step - loss: 0.4433 - accuracy: 0.7987 - val_loss: 0.5476 - val_accuracy: 0.8327\n",
      "Epoch 8/200\n",
      "15/15 [==============================] - 0s 7ms/step - loss: 0.4204 - accuracy: 0.8156 - val_loss: 0.5760 - val_accuracy: 0.8386\n",
      "Epoch 9/200\n",
      "15/15 [==============================] - 0s 8ms/step - loss: 0.4033 - accuracy: 0.8294 - val_loss: 0.5384 - val_accuracy: 0.8475\n",
      "Epoch 10/200\n",
      "15/15 [==============================] - 0s 7ms/step - loss: 0.3877 - accuracy: 0.8376 - val_loss: 0.5112 - val_accuracy: 0.8583\n",
      "Epoch 11/200\n",
      "15/15 [==============================] - 0s 7ms/step - loss: 0.3813 - accuracy: 0.8411 - val_loss: 0.5718 - val_accuracy: 0.8361\n",
      "Epoch 12/200\n",
      "15/15 [==============================] - 0s 7ms/step - loss: 0.3661 - accuracy: 0.8514 - val_loss: 0.5552 - val_accuracy: 0.8455\n",
      "Epoch 13/200\n",
      "15/15 [==============================] - 0s 7ms/step - loss: 0.3593 - accuracy: 0.8538 - val_loss: 0.6510 - val_accuracy: 0.6269\n",
      "Epoch 14/200\n",
      "15/15 [==============================] - 0s 7ms/step - loss: 0.3557 - accuracy: 0.8642 - val_loss: 0.7086 - val_accuracy: 0.3327\n",
      "Epoch 15/200\n",
      "15/15 [==============================] - 0s 6ms/step - loss: 0.3427 - accuracy: 0.8688 - val_loss: 0.6699 - val_accuracy: 0.5513\n",
      "Epoch 16/200\n",
      "15/15 [==============================] - 0s 7ms/step - loss: 0.3379 - accuracy: 0.8691 - val_loss: 0.5357 - val_accuracy: 0.8213\n",
      "Epoch 17/200\n",
      "15/15 [==============================] - 0s 8ms/step - loss: 0.3324 - accuracy: 0.8747 - val_loss: 0.6561 - val_accuracy: 0.5587\n",
      "Epoch 18/200\n",
      "15/15 [==============================] - 0s 7ms/step - loss: 0.3157 - accuracy: 0.8814 - val_loss: 0.8999 - val_accuracy: 0.1871\n",
      "Epoch 19/200\n",
      "15/15 [==============================] - 0s 7ms/step - loss: 0.3194 - accuracy: 0.8808 - val_loss: 0.7891 - val_accuracy: 0.2868\n",
      "Epoch 20/200\n",
      "15/15 [==============================] - 0s 7ms/step - loss: 0.3241 - accuracy: 0.8756 - val_loss: 0.7251 - val_accuracy: 0.3687\n",
      "Epoch 21/200\n",
      "15/15 [==============================] - 0s 7ms/step - loss: 0.3127 - accuracy: 0.8755 - val_loss: 0.4412 - val_accuracy: 0.8786\n",
      "Epoch 22/200\n",
      "15/15 [==============================] - 0s 7ms/step - loss: 0.3084 - accuracy: 0.8796 - val_loss: 0.4761 - val_accuracy: 0.8500\n",
      "Epoch 23/200\n",
      "15/15 [==============================] - 0s 7ms/step - loss: 0.3085 - accuracy: 0.8914 - val_loss: 0.5112 - val_accuracy: 0.7971\n",
      "Epoch 24/200\n",
      "15/15 [==============================] - 0s 7ms/step - loss: 0.3044 - accuracy: 0.8819 - val_loss: 0.5718 - val_accuracy: 0.6974\n",
      "Epoch 25/200\n",
      "15/15 [==============================] - 0s 6ms/step - loss: 0.3031 - accuracy: 0.8877 - val_loss: 0.4717 - val_accuracy: 0.8307\n",
      "Epoch 26/200\n",
      "15/15 [==============================] - 0s 7ms/step - loss: 0.2939 - accuracy: 0.8907 - val_loss: 0.3683 - val_accuracy: 0.8835\n",
      "Epoch 27/200\n",
      "15/15 [==============================] - 0s 8ms/step - loss: 0.2870 - accuracy: 0.8911 - val_loss: 0.3881 - val_accuracy: 0.8840\n",
      "Epoch 28/200\n",
      "15/15 [==============================] - 0s 8ms/step - loss: 0.2971 - accuracy: 0.8883 - val_loss: 0.3753 - val_accuracy: 0.8855\n",
      "Epoch 29/200\n",
      "15/15 [==============================] - 0s 8ms/step - loss: 0.2974 - accuracy: 0.8867 - val_loss: 0.6996 - val_accuracy: 0.5721\n",
      "Epoch 30/200\n",
      "15/15 [==============================] - 0s 6ms/step - loss: 0.2992 - accuracy: 0.8868 - val_loss: 0.6250 - val_accuracy: 0.6333\n",
      "Epoch 31/200\n",
      "15/15 [==============================] - 0s 7ms/step - loss: 0.2943 - accuracy: 0.8918 - val_loss: 0.3999 - val_accuracy: 0.8588\n",
      "Epoch 32/200\n",
      "15/15 [==============================] - 0s 7ms/step - loss: 0.2894 - accuracy: 0.8925 - val_loss: 0.3481 - val_accuracy: 0.8781\n",
      "Epoch 33/200\n",
      "15/15 [==============================] - 0s 7ms/step - loss: 0.2834 - accuracy: 0.8919 - val_loss: 0.4138 - val_accuracy: 0.8248\n",
      "Epoch 34/200\n",
      "15/15 [==============================] - 0s 7ms/step - loss: 0.2813 - accuracy: 0.8966 - val_loss: 0.4094 - val_accuracy: 0.8268\n",
      "Epoch 35/200\n",
      "15/15 [==============================] - 0s 7ms/step - loss: 0.2890 - accuracy: 0.8888 - val_loss: 0.3626 - val_accuracy: 0.8667\n",
      "Epoch 36/200\n",
      "15/15 [==============================] - 0s 6ms/step - loss: 0.2895 - accuracy: 0.8939 - val_loss: 0.3528 - val_accuracy: 0.8707\n",
      "Epoch 37/200\n",
      "15/15 [==============================] - 0s 6ms/step - loss: 0.2818 - accuracy: 0.8954 - val_loss: 0.4190 - val_accuracy: 0.8342\n",
      "Epoch 38/200\n",
      "15/15 [==============================] - 0s 7ms/step - loss: 0.2770 - accuracy: 0.8970 - val_loss: 0.4685 - val_accuracy: 0.7720\n",
      "Epoch 39/200\n",
      "15/15 [==============================] - 0s 7ms/step - loss: 0.2946 - accuracy: 0.8912 - val_loss: 0.3487 - val_accuracy: 0.8598\n",
      "Epoch 40/200\n",
      "15/15 [==============================] - 0s 7ms/step - loss: 0.2788 - accuracy: 0.8984 - val_loss: 0.3573 - val_accuracy: 0.8578\n",
      "Epoch 41/200\n",
      "15/15 [==============================] - 0s 6ms/step - loss: 0.2772 - accuracy: 0.8965 - val_loss: 0.3432 - val_accuracy: 0.8534\n",
      "Epoch 42/200\n",
      "15/15 [==============================] - 0s 7ms/step - loss: 0.2683 - accuracy: 0.8954 - val_loss: 0.3186 - val_accuracy: 0.8687\n",
      "Epoch 43/200\n",
      "15/15 [==============================] - 0s 7ms/step - loss: 0.2762 - accuracy: 0.9001 - val_loss: 0.3607 - val_accuracy: 0.8554\n",
      "Epoch 44/200\n",
      "15/15 [==============================] - 0s 6ms/step - loss: 0.2792 - accuracy: 0.8958 - val_loss: 0.4562 - val_accuracy: 0.7991\n",
      "Epoch 45/200\n",
      "15/15 [==============================] - 0s 7ms/step - loss: 0.2815 - accuracy: 0.8964 - val_loss: 0.3111 - val_accuracy: 0.8840\n",
      "Epoch 46/200\n",
      "15/15 [==============================] - 0s 7ms/step - loss: 0.2809 - accuracy: 0.8978 - val_loss: 0.3518 - val_accuracy: 0.8524\n",
      "Epoch 47/200\n",
      "15/15 [==============================] - 0s 7ms/step - loss: 0.2791 - accuracy: 0.8947 - val_loss: 0.3088 - val_accuracy: 0.8850\n",
      "Epoch 48/200\n",
      "15/15 [==============================] - 0s 6ms/step - loss: 0.2687 - accuracy: 0.9015 - val_loss: 0.3720 - val_accuracy: 0.8519\n",
      "Epoch 49/200\n",
      "15/15 [==============================] - 0s 7ms/step - loss: 0.2671 - accuracy: 0.8970 - val_loss: 0.3468 - val_accuracy: 0.8613\n",
      "Epoch 50/200\n",
      "15/15 [==============================] - 0s 7ms/step - loss: 0.2715 - accuracy: 0.9000 - val_loss: 0.3514 - val_accuracy: 0.8667\n",
      "Epoch 51/200\n",
      "15/15 [==============================] - 0s 7ms/step - loss: 0.2734 - accuracy: 0.8952 - val_loss: 0.5702 - val_accuracy: 0.7468\n",
      "Epoch 52/200\n",
      "15/15 [==============================] - 0s 7ms/step - loss: 0.2663 - accuracy: 0.8977 - val_loss: 0.3065 - val_accuracy: 0.8776\n",
      "Epoch 53/200\n",
      "15/15 [==============================] - 0s 7ms/step - loss: 0.2617 - accuracy: 0.9034 - val_loss: 1.1162 - val_accuracy: 0.5291\n",
      "Epoch 54/200\n",
      "15/15 [==============================] - 0s 6ms/step - loss: 0.2750 - accuracy: 0.9025 - val_loss: 0.6701 - val_accuracy: 0.7127\n",
      "Epoch 55/200\n",
      "15/15 [==============================] - 0s 7ms/step - loss: 0.2634 - accuracy: 0.9023 - val_loss: 0.8575 - val_accuracy: 0.6249\n",
      "Epoch 56/200\n",
      "15/15 [==============================] - 0s 7ms/step - loss: 0.2695 - accuracy: 0.8976 - val_loss: 0.3058 - val_accuracy: 0.8771\n",
      "Epoch 57/200\n",
      "15/15 [==============================] - 0s 8ms/step - loss: 0.2675 - accuracy: 0.8968 - val_loss: 0.3425 - val_accuracy: 0.8593\n",
      "Epoch 58/200\n",
      "15/15 [==============================] - 0s 6ms/step - loss: 0.2704 - accuracy: 0.8972 - val_loss: 0.3104 - val_accuracy: 0.8712\n"
     ]
    },
    {
     "name": "stdout",
     "output_type": "stream",
     "text": [
      "Epoch 59/200\n",
      "15/15 [==============================] - 0s 6ms/step - loss: 0.2634 - accuracy: 0.9008 - val_loss: 1.1163 - val_accuracy: 0.4773\n",
      "Epoch 60/200\n",
      "15/15 [==============================] - 0s 6ms/step - loss: 0.2686 - accuracy: 0.9001 - val_loss: 1.0017 - val_accuracy: 0.5000\n",
      "Epoch 61/200\n",
      "15/15 [==============================] - 0s 6ms/step - loss: 0.2553 - accuracy: 0.9005 - val_loss: 0.4226 - val_accuracy: 0.8169\n",
      "Epoch 62/200\n",
      "15/15 [==============================] - 0s 8ms/step - loss: 0.2711 - accuracy: 0.8972 - val_loss: 0.3241 - val_accuracy: 0.8736\n",
      "Epoch 63/200\n",
      "15/15 [==============================] - 0s 7ms/step - loss: 0.2693 - accuracy: 0.8999 - val_loss: 0.3060 - val_accuracy: 0.8756\n",
      "Epoch 64/200\n",
      "15/15 [==============================] - 0s 6ms/step - loss: 0.2668 - accuracy: 0.8977 - val_loss: 0.3825 - val_accuracy: 0.8460\n",
      "Epoch 65/200\n",
      "15/15 [==============================] - 0s 6ms/step - loss: 0.2654 - accuracy: 0.8986 - val_loss: 0.4579 - val_accuracy: 0.8124\n",
      "Epoch 66/200\n",
      "15/15 [==============================] - 0s 18ms/step - loss: 0.2671 - accuracy: 0.9011 - val_loss: 0.4442 - val_accuracy: 0.8203\n",
      "Epoch 67/200\n",
      "15/15 [==============================] - 0s 6ms/step - loss: 0.2676 - accuracy: 0.9003 - val_loss: 0.2947 - val_accuracy: 0.8835\n",
      "Epoch 68/200\n",
      "15/15 [==============================] - 0s 7ms/step - loss: 0.2748 - accuracy: 0.8977 - val_loss: 0.3425 - val_accuracy: 0.8633\n",
      "Epoch 69/200\n",
      "15/15 [==============================] - 0s 6ms/step - loss: 0.2610 - accuracy: 0.8989 - val_loss: 0.2981 - val_accuracy: 0.8820\n",
      "Epoch 70/200\n",
      "15/15 [==============================] - 0s 8ms/step - loss: 0.2642 - accuracy: 0.8978 - val_loss: 0.3036 - val_accuracy: 0.8835\n",
      "Epoch 71/200\n",
      "15/15 [==============================] - 0s 6ms/step - loss: 0.2673 - accuracy: 0.9016 - val_loss: 0.3161 - val_accuracy: 0.8771\n",
      "Epoch 72/200\n",
      "15/15 [==============================] - 0s 6ms/step - loss: 0.2643 - accuracy: 0.9041 - val_loss: 0.3446 - val_accuracy: 0.8603\n",
      "Epoch 73/200\n",
      "15/15 [==============================] - 0s 6ms/step - loss: 0.2664 - accuracy: 0.8997 - val_loss: 0.3004 - val_accuracy: 0.8820\n",
      "Epoch 74/200\n",
      "15/15 [==============================] - 0s 6ms/step - loss: 0.2623 - accuracy: 0.8986 - val_loss: 0.3016 - val_accuracy: 0.8830\n",
      "Epoch 75/200\n",
      "15/15 [==============================] - 0s 7ms/step - loss: 0.2703 - accuracy: 0.8959 - val_loss: 0.3337 - val_accuracy: 0.8751\n",
      "Epoch 76/200\n",
      "15/15 [==============================] - 0s 7ms/step - loss: 0.2659 - accuracy: 0.9006 - val_loss: 0.3720 - val_accuracy: 0.8569\n",
      "Epoch 77/200\n",
      "15/15 [==============================] - 0s 7ms/step - loss: 0.2686 - accuracy: 0.8922 - val_loss: 0.3415 - val_accuracy: 0.8613\n",
      "Epoch 78/200\n",
      "15/15 [==============================] - 0s 6ms/step - loss: 0.2618 - accuracy: 0.9044 - val_loss: 0.3184 - val_accuracy: 0.8746\n",
      "Epoch 79/200\n",
      "15/15 [==============================] - 0s 7ms/step - loss: 0.2672 - accuracy: 0.8985 - val_loss: 0.4184 - val_accuracy: 0.8485\n",
      "Epoch 80/200\n",
      "15/15 [==============================] - 0s 7ms/step - loss: 0.2729 - accuracy: 0.8973 - val_loss: 0.3030 - val_accuracy: 0.8791\n",
      "Epoch 81/200\n",
      "15/15 [==============================] - 0s 7ms/step - loss: 0.2706 - accuracy: 0.8955 - val_loss: 0.3096 - val_accuracy: 0.8820\n",
      "Epoch 82/200\n",
      "15/15 [==============================] - 0s 7ms/step - loss: 0.2646 - accuracy: 0.9013 - val_loss: 0.4063 - val_accuracy: 0.8401\n",
      "Epoch 83/200\n",
      "15/15 [==============================] - 0s 7ms/step - loss: 0.2472 - accuracy: 0.9036 - val_loss: 0.4007 - val_accuracy: 0.8366\n",
      "Epoch 84/200\n",
      "15/15 [==============================] - 0s 7ms/step - loss: 0.2525 - accuracy: 0.9055 - val_loss: 0.3206 - val_accuracy: 0.8771\n",
      "Epoch 85/200\n",
      "15/15 [==============================] - 0s 8ms/step - loss: 0.2625 - accuracy: 0.9026 - val_loss: 0.3059 - val_accuracy: 0.8786\n",
      "Epoch 86/200\n",
      "15/15 [==============================] - 0s 7ms/step - loss: 0.2596 - accuracy: 0.9008 - val_loss: 0.2998 - val_accuracy: 0.8840\n",
      "Epoch 87/200\n",
      "15/15 [==============================] - 0s 7ms/step - loss: 0.2684 - accuracy: 0.8981 - val_loss: 0.3109 - val_accuracy: 0.8781\n",
      "Epoch 88/200\n",
      "15/15 [==============================] - 0s 6ms/step - loss: 0.2686 - accuracy: 0.8950 - val_loss: 0.2986 - val_accuracy: 0.8801\n",
      "Epoch 89/200\n",
      "15/15 [==============================] - 0s 7ms/step - loss: 0.2685 - accuracy: 0.8977 - val_loss: 0.4168 - val_accuracy: 0.8287\n",
      "Epoch 90/200\n",
      "15/15 [==============================] - 0s 7ms/step - loss: 0.2706 - accuracy: 0.8943 - val_loss: 0.5359 - val_accuracy: 0.7700\n",
      "Epoch 91/200\n",
      "15/15 [==============================] - 0s 8ms/step - loss: 0.2684 - accuracy: 0.8992 - val_loss: 2.4397 - val_accuracy: 0.2438\n",
      "Epoch 92/200\n",
      "15/15 [==============================] - 0s 6ms/step - loss: 0.2526 - accuracy: 0.9075 - val_loss: 0.6629 - val_accuracy: 0.7241\n",
      "Epoch 93/200\n",
      "15/15 [==============================] - 0s 7ms/step - loss: 0.2666 - accuracy: 0.8967 - val_loss: 0.5566 - val_accuracy: 0.7636\n",
      "Epoch 94/200\n",
      "15/15 [==============================] - 0s 6ms/step - loss: 0.2644 - accuracy: 0.9032 - val_loss: 0.4748 - val_accuracy: 0.8139\n",
      "Epoch 95/200\n",
      "15/15 [==============================] - 0s 7ms/step - loss: 0.2595 - accuracy: 0.9009 - val_loss: 0.3405 - val_accuracy: 0.8628\n",
      "Epoch 96/200\n",
      "15/15 [==============================] - 0s 6ms/step - loss: 0.2722 - accuracy: 0.8975 - val_loss: 0.3953 - val_accuracy: 0.8401\n",
      "Epoch 97/200\n",
      "15/15 [==============================] - 0s 6ms/step - loss: 0.2670 - accuracy: 0.8988 - val_loss: 0.3864 - val_accuracy: 0.8455\n",
      "Epoch 98/200\n",
      "15/15 [==============================] - 0s 6ms/step - loss: 0.2651 - accuracy: 0.8988 - val_loss: 0.3021 - val_accuracy: 0.8810\n",
      "Epoch 99/200\n",
      "15/15 [==============================] - 0s 6ms/step - loss: 0.2692 - accuracy: 0.9008 - val_loss: 0.5167 - val_accuracy: 0.7848\n",
      "Epoch 100/200\n",
      "15/15 [==============================] - 0s 6ms/step - loss: 0.2628 - accuracy: 0.8995 - val_loss: 1.2072 - val_accuracy: 0.5202\n",
      "Epoch 101/200\n",
      "15/15 [==============================] - 0s 6ms/step - loss: 0.2685 - accuracy: 0.8977 - val_loss: 0.3069 - val_accuracy: 0.8791\n",
      "Epoch 102/200\n",
      "15/15 [==============================] - 0s 6ms/step - loss: 0.2572 - accuracy: 0.9025 - val_loss: 0.3355 - val_accuracy: 0.8662\n",
      "Epoch 103/200\n",
      "15/15 [==============================] - 0s 6ms/step - loss: 0.2559 - accuracy: 0.9055 - val_loss: 0.7489 - val_accuracy: 0.6836\n",
      "Epoch 104/200\n",
      "15/15 [==============================] - 0s 6ms/step - loss: 0.2610 - accuracy: 0.9020 - val_loss: 0.3087 - val_accuracy: 0.8771\n",
      "Epoch 105/200\n",
      "15/15 [==============================] - 0s 6ms/step - loss: 0.2658 - accuracy: 0.9031 - val_loss: 0.3606 - val_accuracy: 0.8648\n",
      "Epoch 106/200\n",
      "15/15 [==============================] - 0s 7ms/step - loss: 0.2650 - accuracy: 0.9015 - val_loss: 0.3095 - val_accuracy: 0.8776\n",
      "Epoch 107/200\n",
      "15/15 [==============================] - 0s 6ms/step - loss: 0.2657 - accuracy: 0.8995 - val_loss: 0.4105 - val_accuracy: 0.8480\n",
      "Epoch 108/200\n",
      "15/15 [==============================] - 0s 7ms/step - loss: 0.2735 - accuracy: 0.8943 - val_loss: 0.4078 - val_accuracy: 0.8238\n",
      "Epoch 109/200\n",
      "15/15 [==============================] - 0s 6ms/step - loss: 0.2552 - accuracy: 0.9039 - val_loss: 0.3014 - val_accuracy: 0.8806\n",
      "Epoch 110/200\n",
      "15/15 [==============================] - 0s 6ms/step - loss: 0.2694 - accuracy: 0.8994 - val_loss: 0.3086 - val_accuracy: 0.8776\n",
      "Epoch 111/200\n",
      "15/15 [==============================] - 0s 6ms/step - loss: 0.2534 - accuracy: 0.9000 - val_loss: 0.3500 - val_accuracy: 0.8603\n",
      "Epoch 112/200\n",
      "15/15 [==============================] - 0s 6ms/step - loss: 0.2674 - accuracy: 0.8999 - val_loss: 0.3423 - val_accuracy: 0.8712\n",
      "Epoch 113/200\n",
      "15/15 [==============================] - 0s 6ms/step - loss: 0.2634 - accuracy: 0.8987 - val_loss: 0.3821 - val_accuracy: 0.8475\n",
      "Epoch 114/200\n",
      "15/15 [==============================] - 0s 6ms/step - loss: 0.2625 - accuracy: 0.8992 - val_loss: 0.5507 - val_accuracy: 0.7779\n",
      "Epoch 115/200\n",
      "15/15 [==============================] - 0s 6ms/step - loss: 0.2516 - accuracy: 0.9033 - val_loss: 0.3173 - val_accuracy: 0.8761\n",
      "Epoch 116/200\n"
     ]
    },
    {
     "name": "stdout",
     "output_type": "stream",
     "text": [
      "15/15 [==============================] - 0s 6ms/step - loss: 0.2608 - accuracy: 0.8996 - val_loss: 0.3047 - val_accuracy: 0.8835\n",
      "Epoch 117/200\n",
      "15/15 [==============================] - 0s 6ms/step - loss: 0.2610 - accuracy: 0.9006 - val_loss: 0.3922 - val_accuracy: 0.8534\n",
      "Epoch 118/200\n",
      "15/15 [==============================] - 0s 6ms/step - loss: 0.2678 - accuracy: 0.8987 - val_loss: 0.3104 - val_accuracy: 0.8761\n",
      "Epoch 119/200\n",
      "15/15 [==============================] - 0s 8ms/step - loss: 0.2629 - accuracy: 0.9019 - val_loss: 0.3981 - val_accuracy: 0.8337\n",
      "Epoch 120/200\n",
      "15/15 [==============================] - 0s 7ms/step - loss: 0.2521 - accuracy: 0.9075 - val_loss: 0.2984 - val_accuracy: 0.8835\n",
      "Epoch 121/200\n",
      "15/15 [==============================] - 0s 6ms/step - loss: 0.2759 - accuracy: 0.8949 - val_loss: 0.6519 - val_accuracy: 0.7103\n",
      "Epoch 122/200\n",
      "15/15 [==============================] - 0s 6ms/step - loss: 0.2641 - accuracy: 0.9012 - val_loss: 1.0256 - val_accuracy: 0.5686\n",
      "Epoch 123/200\n",
      "15/15 [==============================] - 0s 6ms/step - loss: 0.2653 - accuracy: 0.9010 - val_loss: 0.3441 - val_accuracy: 0.8618\n",
      "Epoch 124/200\n",
      "15/15 [==============================] - 0s 6ms/step - loss: 0.2685 - accuracy: 0.9017 - val_loss: 0.3149 - val_accuracy: 0.8801\n",
      "Epoch 125/200\n",
      "15/15 [==============================] - 0s 6ms/step - loss: 0.2848 - accuracy: 0.8939 - val_loss: 0.3270 - val_accuracy: 0.8722\n",
      "Epoch 126/200\n",
      "15/15 [==============================] - 0s 6ms/step - loss: 0.2607 - accuracy: 0.9021 - val_loss: 0.3024 - val_accuracy: 0.8835\n",
      "Epoch 127/200\n",
      "15/15 [==============================] - 0s 7ms/step - loss: 0.2580 - accuracy: 0.8990 - val_loss: 0.4329 - val_accuracy: 0.8425\n",
      "Epoch 128/200\n",
      "15/15 [==============================] - 0s 7ms/step - loss: 0.2409 - accuracy: 0.9114 - val_loss: 0.2993 - val_accuracy: 0.8840\n",
      "Epoch 129/200\n",
      "15/15 [==============================] - 0s 7ms/step - loss: 0.2534 - accuracy: 0.9006 - val_loss: 0.3802 - val_accuracy: 0.8564\n",
      "Epoch 130/200\n",
      "15/15 [==============================] - 0s 6ms/step - loss: 0.2585 - accuracy: 0.9044 - val_loss: 0.4273 - val_accuracy: 0.8139\n",
      "Epoch 131/200\n",
      "15/15 [==============================] - 0s 7ms/step - loss: 0.2599 - accuracy: 0.9006 - val_loss: 0.3044 - val_accuracy: 0.8820\n",
      "Epoch 132/200\n",
      "15/15 [==============================] - 0s 6ms/step - loss: 0.2664 - accuracy: 0.8948 - val_loss: 0.2987 - val_accuracy: 0.8830\n",
      "Epoch 133/200\n",
      "15/15 [==============================] - 0s 6ms/step - loss: 0.2635 - accuracy: 0.8987 - val_loss: 0.5693 - val_accuracy: 0.7359\n",
      "Epoch 134/200\n",
      "15/15 [==============================] - 0s 7ms/step - loss: 0.2533 - accuracy: 0.9003 - val_loss: 0.4723 - val_accuracy: 0.7586\n",
      "Epoch 135/200\n",
      "15/15 [==============================] - 0s 6ms/step - loss: 0.2759 - accuracy: 0.8942 - val_loss: 0.3090 - val_accuracy: 0.8766\n",
      "Epoch 136/200\n",
      "15/15 [==============================] - 0s 7ms/step - loss: 0.2667 - accuracy: 0.9001 - val_loss: 0.3840 - val_accuracy: 0.8386\n",
      "Epoch 137/200\n",
      "15/15 [==============================] - 0s 8ms/step - loss: 0.2511 - accuracy: 0.9056 - val_loss: 0.3046 - val_accuracy: 0.8815\n",
      "Epoch 138/200\n",
      "15/15 [==============================] - 0s 7ms/step - loss: 0.2627 - accuracy: 0.8999 - val_loss: 0.2958 - val_accuracy: 0.8825\n",
      "Epoch 139/200\n",
      "15/15 [==============================] - 0s 7ms/step - loss: 0.2544 - accuracy: 0.9058 - val_loss: 0.3591 - val_accuracy: 0.8524\n",
      "Epoch 140/200\n",
      "15/15 [==============================] - 0s 8ms/step - loss: 0.2613 - accuracy: 0.8973 - val_loss: 0.2989 - val_accuracy: 0.8860\n",
      "Epoch 141/200\n",
      "15/15 [==============================] - 0s 7ms/step - loss: 0.2537 - accuracy: 0.9010 - val_loss: 0.3030 - val_accuracy: 0.8766\n",
      "Epoch 142/200\n",
      "15/15 [==============================] - 0s 6ms/step - loss: 0.2553 - accuracy: 0.8993 - val_loss: 0.3323 - val_accuracy: 0.8707\n",
      "Epoch 143/200\n",
      "15/15 [==============================] - 0s 6ms/step - loss: 0.2548 - accuracy: 0.9049 - val_loss: 0.2958 - val_accuracy: 0.8835\n",
      "Epoch 144/200\n",
      "15/15 [==============================] - 0s 6ms/step - loss: 0.2634 - accuracy: 0.9017 - val_loss: 0.3165 - val_accuracy: 0.8712\n",
      "Epoch 145/200\n",
      "15/15 [==============================] - 0s 6ms/step - loss: 0.2512 - accuracy: 0.9069 - val_loss: 0.4712 - val_accuracy: 0.8406\n",
      "Epoch 146/200\n",
      "15/15 [==============================] - 0s 6ms/step - loss: 0.2561 - accuracy: 0.9063 - val_loss: 0.3587 - val_accuracy: 0.8623\n",
      "Epoch 147/200\n",
      "15/15 [==============================] - 0s 6ms/step - loss: 0.2636 - accuracy: 0.8954 - val_loss: 0.3102 - val_accuracy: 0.8825\n",
      "Epoch 148/200\n",
      "15/15 [==============================] - 0s 6ms/step - loss: 0.2582 - accuracy: 0.9014 - val_loss: 0.3105 - val_accuracy: 0.8825\n",
      "Epoch 149/200\n",
      "15/15 [==============================] - 0s 6ms/step - loss: 0.2650 - accuracy: 0.9000 - val_loss: 0.3215 - val_accuracy: 0.8687\n",
      "Epoch 150/200\n",
      "15/15 [==============================] - 0s 6ms/step - loss: 0.2564 - accuracy: 0.9029 - val_loss: 0.4631 - val_accuracy: 0.7957\n",
      "Epoch 151/200\n",
      "15/15 [==============================] - 0s 7ms/step - loss: 0.2657 - accuracy: 0.8934 - val_loss: 0.3251 - val_accuracy: 0.8677\n",
      "Epoch 152/200\n",
      "15/15 [==============================] - 0s 10ms/step - loss: 0.2579 - accuracy: 0.9031 - val_loss: 0.3265 - val_accuracy: 0.8741\n",
      "Epoch 153/200\n",
      "15/15 [==============================] - 0s 9ms/step - loss: 0.2561 - accuracy: 0.9022 - val_loss: 0.2976 - val_accuracy: 0.8880\n",
      "Epoch 154/200\n",
      "15/15 [==============================] - 0s 9ms/step - loss: 0.2489 - accuracy: 0.9022 - val_loss: 0.3309 - val_accuracy: 0.8756\n",
      "Epoch 155/200\n",
      "15/15 [==============================] - 0s 9ms/step - loss: 0.2598 - accuracy: 0.9016 - val_loss: 0.3682 - val_accuracy: 0.8495\n",
      "Epoch 156/200\n",
      "15/15 [==============================] - 0s 8ms/step - loss: 0.2576 - accuracy: 0.8998 - val_loss: 0.3988 - val_accuracy: 0.8598\n",
      "Epoch 157/200\n",
      "15/15 [==============================] - 0s 7ms/step - loss: 0.2586 - accuracy: 0.8982 - val_loss: 0.4079 - val_accuracy: 0.8524\n",
      "Epoch 158/200\n",
      "15/15 [==============================] - 0s 6ms/step - loss: 0.2685 - accuracy: 0.8950 - val_loss: 0.4246 - val_accuracy: 0.8504\n",
      "Epoch 159/200\n",
      "15/15 [==============================] - 0s 7ms/step - loss: 0.2508 - accuracy: 0.9070 - val_loss: 0.4252 - val_accuracy: 0.8534\n",
      "Epoch 160/200\n",
      "15/15 [==============================] - 0s 7ms/step - loss: 0.2586 - accuracy: 0.9011 - val_loss: 0.3112 - val_accuracy: 0.8845\n",
      "Epoch 161/200\n",
      "15/15 [==============================] - 0s 7ms/step - loss: 0.2439 - accuracy: 0.9096 - val_loss: 0.3133 - val_accuracy: 0.8806\n",
      "Epoch 162/200\n",
      "15/15 [==============================] - 0s 6ms/step - loss: 0.2621 - accuracy: 0.8990 - val_loss: 0.3253 - val_accuracy: 0.8702\n",
      "Epoch 163/200\n",
      "15/15 [==============================] - 0s 7ms/step - loss: 0.2628 - accuracy: 0.8997 - val_loss: 0.3773 - val_accuracy: 0.8608\n",
      "Epoch 164/200\n",
      "15/15 [==============================] - 0s 7ms/step - loss: 0.2498 - accuracy: 0.9090 - val_loss: 0.3465 - val_accuracy: 0.8741\n",
      "Epoch 165/200\n",
      "15/15 [==============================] - 0s 7ms/step - loss: 0.2606 - accuracy: 0.8983 - val_loss: 0.3674 - val_accuracy: 0.8578\n",
      "Epoch 166/200\n",
      "15/15 [==============================] - 0s 7ms/step - loss: 0.2628 - accuracy: 0.9030 - val_loss: 0.3871 - val_accuracy: 0.8455\n",
      "Epoch 167/200\n",
      "15/15 [==============================] - 0s 6ms/step - loss: 0.2538 - accuracy: 0.9038 - val_loss: 0.3434 - val_accuracy: 0.8588\n",
      "Epoch 168/200\n",
      "15/15 [==============================] - 0s 6ms/step - loss: 0.2589 - accuracy: 0.9007 - val_loss: 0.3338 - val_accuracy: 0.8687\n",
      "Epoch 169/200\n",
      "15/15 [==============================] - 0s 6ms/step - loss: 0.2609 - accuracy: 0.9023 - val_loss: 0.2970 - val_accuracy: 0.8885\n",
      "Epoch 170/200\n",
      "15/15 [==============================] - 0s 7ms/step - loss: 0.2642 - accuracy: 0.9013 - val_loss: 0.3111 - val_accuracy: 0.8761\n",
      "Epoch 171/200\n",
      "15/15 [==============================] - 0s 7ms/step - loss: 0.2638 - accuracy: 0.8986 - val_loss: 0.3379 - val_accuracy: 0.8662\n",
      "Epoch 172/200\n",
      "15/15 [==============================] - 0s 19ms/step - loss: 0.2585 - accuracy: 0.9017 - val_loss: 0.3487 - val_accuracy: 0.8574\n",
      "Epoch 173/200\n"
     ]
    },
    {
     "name": "stdout",
     "output_type": "stream",
     "text": [
      "15/15 [==============================] - 0s 7ms/step - loss: 0.2494 - accuracy: 0.9023 - val_loss: 0.3096 - val_accuracy: 0.8756\n",
      "Epoch 174/200\n",
      "15/15 [==============================] - 0s 7ms/step - loss: 0.2481 - accuracy: 0.9063 - val_loss: 0.2952 - val_accuracy: 0.8840\n",
      "Epoch 175/200\n",
      "15/15 [==============================] - 0s 6ms/step - loss: 0.2464 - accuracy: 0.9070 - val_loss: 0.2966 - val_accuracy: 0.8835\n",
      "Epoch 176/200\n",
      "15/15 [==============================] - 0s 7ms/step - loss: 0.2581 - accuracy: 0.9025 - val_loss: 0.4157 - val_accuracy: 0.8233\n",
      "Epoch 177/200\n",
      "15/15 [==============================] - 0s 7ms/step - loss: 0.2579 - accuracy: 0.9071 - val_loss: 0.3303 - val_accuracy: 0.8712\n",
      "Epoch 178/200\n",
      "15/15 [==============================] - 0s 6ms/step - loss: 0.2564 - accuracy: 0.9049 - val_loss: 0.2924 - val_accuracy: 0.8825\n",
      "Epoch 179/200\n",
      "15/15 [==============================] - 0s 6ms/step - loss: 0.2641 - accuracy: 0.8954 - val_loss: 0.2920 - val_accuracy: 0.8860\n",
      "Epoch 180/200\n",
      "15/15 [==============================] - 0s 6ms/step - loss: 0.2622 - accuracy: 0.8987 - val_loss: 0.2960 - val_accuracy: 0.8840\n",
      "Epoch 181/200\n",
      "15/15 [==============================] - 0s 7ms/step - loss: 0.2515 - accuracy: 0.9013 - val_loss: 0.3079 - val_accuracy: 0.8806\n",
      "Epoch 182/200\n",
      "15/15 [==============================] - 0s 6ms/step - loss: 0.2569 - accuracy: 0.9006 - val_loss: 0.3100 - val_accuracy: 0.8810\n",
      "Epoch 183/200\n",
      "15/15 [==============================] - 0s 7ms/step - loss: 0.2550 - accuracy: 0.9032 - val_loss: 0.3109 - val_accuracy: 0.8810\n",
      "Epoch 184/200\n",
      "15/15 [==============================] - 0s 6ms/step - loss: 0.2491 - accuracy: 0.9042 - val_loss: 0.3766 - val_accuracy: 0.8509\n",
      "Epoch 185/200\n",
      "15/15 [==============================] - 0s 7ms/step - loss: 0.2558 - accuracy: 0.9010 - val_loss: 0.5473 - val_accuracy: 0.7804\n",
      "Epoch 186/200\n",
      "15/15 [==============================] - 0s 7ms/step - loss: 0.2539 - accuracy: 0.9045 - val_loss: 0.3193 - val_accuracy: 0.8746\n",
      "Epoch 187/200\n",
      "15/15 [==============================] - 0s 6ms/step - loss: 0.2641 - accuracy: 0.9002 - val_loss: 0.3099 - val_accuracy: 0.8776\n",
      "Epoch 188/200\n",
      "15/15 [==============================] - 0s 6ms/step - loss: 0.2561 - accuracy: 0.9005 - val_loss: 0.3107 - val_accuracy: 0.8746\n",
      "Epoch 189/200\n",
      "15/15 [==============================] - 0s 7ms/step - loss: 0.2503 - accuracy: 0.9057 - val_loss: 0.3596 - val_accuracy: 0.8539\n",
      "Epoch 190/200\n",
      "15/15 [==============================] - 0s 6ms/step - loss: 0.2596 - accuracy: 0.8988 - val_loss: 0.3116 - val_accuracy: 0.8820\n",
      "Epoch 191/200\n",
      "15/15 [==============================] - 0s 8ms/step - loss: 0.2516 - accuracy: 0.9013 - val_loss: 0.3140 - val_accuracy: 0.8830\n",
      "Epoch 192/200\n",
      "15/15 [==============================] - 0s 7ms/step - loss: 0.2486 - accuracy: 0.9057 - val_loss: 0.3633 - val_accuracy: 0.8544\n",
      "Epoch 193/200\n",
      "15/15 [==============================] - 0s 7ms/step - loss: 0.2440 - accuracy: 0.9103 - val_loss: 0.6831 - val_accuracy: 0.7009\n",
      "Epoch 194/200\n",
      "15/15 [==============================] - 0s 6ms/step - loss: 0.2605 - accuracy: 0.9001 - val_loss: 0.4258 - val_accuracy: 0.8213\n",
      "Epoch 195/200\n",
      "15/15 [==============================] - 0s 7ms/step - loss: 0.2609 - accuracy: 0.8969 - val_loss: 0.3570 - val_accuracy: 0.8702\n",
      "Epoch 196/200\n",
      "15/15 [==============================] - 0s 7ms/step - loss: 0.2546 - accuracy: 0.9029 - val_loss: 0.3718 - val_accuracy: 0.8460\n",
      "Epoch 197/200\n",
      "15/15 [==============================] - 0s 6ms/step - loss: 0.2692 - accuracy: 0.8968 - val_loss: 0.3004 - val_accuracy: 0.8835\n",
      "Epoch 198/200\n",
      "15/15 [==============================] - 0s 6ms/step - loss: 0.2630 - accuracy: 0.9010 - val_loss: 0.2950 - val_accuracy: 0.8830\n",
      "Epoch 199/200\n",
      "15/15 [==============================] - 0s 6ms/step - loss: 0.2630 - accuracy: 0.8991 - val_loss: 0.3135 - val_accuracy: 0.8751\n",
      "Epoch 200/200\n",
      "15/15 [==============================] - 0s 6ms/step - loss: 0.2501 - accuracy: 0.9027 - val_loss: 0.3227 - val_accuracy: 0.8766\n",
      "Time:  21.352326711996284\n"
     ]
    }
   ],
   "source": [
    "import timeit\n",
    "\n",
    "start = timeit.default_timer()\n",
    "\n",
    "#Your statements here\n",
    "\n",
    "bestNN2=create_modelWithDropBatch(hidden_layers= 2, learning_rate= 0.001)\n",
    "history3 = bestNN2.fit(\n",
    "     XtrainData, y_train_res,\n",
    "    validation_data=(XvalidData, y_valid),\n",
    "    batch_size=512,\n",
    "    epochs=200,\n",
    "#     callbacks=[early_stopping],\n",
    ")\n",
    "stop = timeit.default_timer()\n",
    "\n",
    "print('Time: ', stop - start)  \n"
   ]
  },
  {
   "cell_type": "code",
   "execution_count": 93,
   "metadata": {
    "scrolled": false
   },
   "outputs": [
    {
     "name": "stderr",
     "output_type": "stream",
     "text": [
      "/home/dheekshitha-vibha/miniconda3/envs/myenv/lib/python3.6/site-packages/tensorflow/python/keras/engine/sequential.py:450: UserWarning: `model.predict_classes()` is deprecated and will be removed after 2021-01-01. Please use instead:* `np.argmax(model.predict(x), axis=-1)`,   if your model does multi-class classification   (e.g. if it uses a `softmax` last-layer activation).* `(model.predict(x) > 0.5).astype(\"int32\")`,   if your model does binary classification   (e.g. if it uses a `sigmoid` last-layer activation).\n",
      "  warnings.warn('`model.predict_classes()` is deprecated and '\n"
     ]
    },
    {
     "name": "stdout",
     "output_type": "stream",
     "text": [
      "Accuracy_Score: 90.76221498371335 %\n",
      "precision_score: 91.64777021919879 %\n",
      "recall_score: 94.78209888606605 %\n"
     ]
    },
    {
     "data": {
      "image/png": "[encoded data removed]",
      "text/plain": [
       "<Figure size 432x288 with 1 Axes>"
      ]
     },
     "metadata": {
      "needs_background": "light"
     },
     "output_type": "display_data"
    },
    {
     "data": {
      "image/png": "[encoded data removed]",
      "text/plain": [
       "<Figure size 432x288 with 1 Axes>"
      ]
     },
     "metadata": {
      "needs_background": "light"
     },
     "output_type": "display_data"
    }
   ],
   "source": [
    "history_df = pd.DataFrame(history3.history)\n",
    "history_df.loc[:, ['loss', 'val_loss']].plot(title=\"Cross-entropy\")\n",
    "history_df.loc[:, ['accuracy', 'val_accuracy']].plot(title=\"Accuracy\")\n",
    "\n",
    "y_pred_SVM = bestNN2.predict_classes(XtrainData)\n",
    "\n",
    "\n",
    "# print('Classification report: \\n', metrics.classification_report(y_test, model))\n",
    "print('Accuracy_Score:',metrics.accuracy_score(y_train_res, y_pred_SVM)*100,'%')\n",
    "\n",
    "\n",
    "print('precision_score:',metrics.precision_score(y_train_res, y_pred_SVM)*100,'%')\n",
    "\n",
    "print('recall_score:',metrics.recall_score(y_train_res, y_pred_SVM)*100,'%')"
   ]
  },
  {
   "cell_type": "code",
   "execution_count": 130,
   "metadata": {},
   "outputs": [],
   "source": [
    "# sess.run(optimizer._lr)\n",
    "def create_modelWithDropBatch2(  hidden_layers,learning_rate):\n",
    "  # Initialize the constructor\n",
    "    model =  keras.Sequential()\n",
    "      # Add an input layer\n",
    "    activation='sigmoid'\n",
    "    model.add(layers.Dense(256, activation=activation, input_shape=input_shape)) #thisone inc\n",
    "    for i in range(hidden_layers):\n",
    "          # Add one hidden layer\n",
    "        model.add(layers.BatchNormalization())\n",
    "        model.add(layers.Dropout(0.5))\n",
    "        model.add(layers.Dense(256, activation='relu')) #thisone inc 256\n",
    "\n",
    "      # Add an output layer \n",
    "    model.add(layers.Dense(1, activation=activation))\n",
    "    opt = keras.optimizers.Adam(learning_rate=learning_rate)\n",
    "      #compile model\n",
    "    model.compile(loss='binary_crossentropy', optimizer=opt, metrics=\n",
    "      ['accuracy'])\n",
    "\n",
    "    return model\n",
    "\n"
   ]
  },
  {
   "cell_type": "code",
   "execution_count": 94,
   "metadata": {},
   "outputs": [],
   "source": [
    "def plotconfusionMatrix(modelObj,ytest,xtest):\n",
    "#     model_DecTreeClass2.fit(X_train_res, y_train_res)\n",
    "    y_pred_DecTreeClass2 = modelObj.predict_classes(xtest)\n",
    "    conf_mat2 = metrics.confusion_matrix(ytest, y_pred_DecTreeClass2)\n",
    "    plt.figure(figsize=(8,6))\n",
    "    sns.heatmap(conf_mat2,annot=True)\n",
    "    plt.title(\"Confusion_matrix\")\n",
    "    plt.xlabel(\"Predicted Class\")\n",
    "    plt.ylabel(\"Actual class\")\n",
    "    plt.show()\n",
    "    print('Confusion matrix: \\n', conf_mat2)\n",
    "    print('TP: ', conf_mat2[1,1])\n",
    "    print('TN: ', conf_mat2[0,0])\n",
    "    print('FP: ', conf_mat2[0,1])\n",
    "    print('FN: ', conf_mat2[1,0])\n",
    "\n",
    "def getMetrics(modelObj,xTrain,yTrain,xValid,yValid):\n",
    "    y_pred_DecTreeClass2 = modelObj.predict_classes(xValid)\n",
    "    print('Classification report: \\n', metrics.classification_report(yValid, y_pred_DecTreeClass2))\n",
    "    print('Training Accuracy_Score:',metrics.accuracy_score(yTrain, modelObj.predict_classes(xTrain))*100,'%')\n",
    "    print('Training Precision:',metrics.precision_score(yTrain, modelObj.predict_classes(xTrain))*100,'%')\n",
    "    print('Training Recall:',metrics.recall_score(yTrain, modelObj.predict_classes(xTrain))*100,'%')\n",
    "    \n",
    "    print('Training F1 Score:',metrics.f1_score(yTrain, modelObj.predict_classes(xTrain))*100,'%')\n",
    "\n",
    "    \n",
    "    print('Validation Accuracy_Score:',metrics.accuracy_score(yValid, y_pred_DecTreeClass2)*100,'%')\n",
    "    print('Validation Precision:',metrics.precision_score(yValid, y_pred_DecTreeClass2)*100,'%')\n",
    "    print('Validation Recall:',metrics.recall_score(yValid, y_pred_DecTreeClass2)*100,'%')\n",
    "    \n",
    "    print('Validation F1 Score:',metrics.f1_score(yValid, y_pred_DecTreeClass2)*100,'%')"
   ]
  },
  {
   "cell_type": "code",
   "execution_count": 95,
   "metadata": {},
   "outputs": [
    {
     "name": "stderr",
     "output_type": "stream",
     "text": [
      "/home/dheekshitha-vibha/miniconda3/envs/myenv/lib/python3.6/site-packages/tensorflow/python/keras/engine/sequential.py:450: UserWarning: `model.predict_classes()` is deprecated and will be removed after 2021-01-01. Please use instead:* `np.argmax(model.predict(x), axis=-1)`,   if your model does multi-class classification   (e.g. if it uses a `softmax` last-layer activation).* `(model.predict(x) > 0.5).astype(\"int32\")`,   if your model does binary classification   (e.g. if it uses a `sigmoid` last-layer activation).\n",
      "  warnings.warn('`model.predict_classes()` is deprecated and '\n"
     ]
    },
    {
     "data": {
      "image/png": "[encoded data removed]",
      "text/plain": [
       "<Figure size 576x432 with 2 Axes>"
      ]
     },
     "metadata": {
      "needs_background": "light"
     },
     "output_type": "display_data"
    },
    {
     "name": "stdout",
     "output_type": "stream",
     "text": [
      "Confusion matrix: \n",
      " [[ 181  158]\n",
      " [  92 1595]]\n",
      "TP:  1595\n",
      "TN:  181\n",
      "FP:  158\n",
      "FN:  92\n",
      "Classification report: \n",
      "               precision    recall  f1-score   support\n",
      "\n",
      "           0       0.66      0.53      0.59       339\n",
      "           1       0.91      0.95      0.93      1687\n",
      "\n",
      "    accuracy                           0.88      2026\n",
      "   macro avg       0.79      0.74      0.76      2026\n",
      "weighted avg       0.87      0.88      0.87      2026\n",
      "\n"
     ]
    },
    {
     "name": "stderr",
     "output_type": "stream",
     "text": [
      "/home/dheekshitha-vibha/miniconda3/envs/myenv/lib/python3.6/site-packages/tensorflow/python/keras/engine/sequential.py:450: UserWarning: `model.predict_classes()` is deprecated and will be removed after 2021-01-01. Please use instead:* `np.argmax(model.predict(x), axis=-1)`,   if your model does multi-class classification   (e.g. if it uses a `softmax` last-layer activation).* `(model.predict(x) > 0.5).astype(\"int32\")`,   if your model does binary classification   (e.g. if it uses a `sigmoid` last-layer activation).\n",
      "  warnings.warn('`model.predict_classes()` is deprecated and '\n",
      "/home/dheekshitha-vibha/miniconda3/envs/myenv/lib/python3.6/site-packages/tensorflow/python/keras/engine/sequential.py:450: UserWarning: `model.predict_classes()` is deprecated and will be removed after 2021-01-01. Please use instead:* `np.argmax(model.predict(x), axis=-1)`,   if your model does multi-class classification   (e.g. if it uses a `softmax` last-layer activation).* `(model.predict(x) > 0.5).astype(\"int32\")`,   if your model does binary classification   (e.g. if it uses a `sigmoid` last-layer activation).\n",
      "  warnings.warn('`model.predict_classes()` is deprecated and '\n"
     ]
    },
    {
     "name": "stdout",
     "output_type": "stream",
     "text": [
      "Training Accuracy_Score: 90.76221498371335 %\n",
      "Training Precision: 91.64777021919879 %\n"
     ]
    },
    {
     "name": "stderr",
     "output_type": "stream",
     "text": [
      "/home/dheekshitha-vibha/miniconda3/envs/myenv/lib/python3.6/site-packages/tensorflow/python/keras/engine/sequential.py:450: UserWarning: `model.predict_classes()` is deprecated and will be removed after 2021-01-01. Please use instead:* `np.argmax(model.predict(x), axis=-1)`,   if your model does multi-class classification   (e.g. if it uses a `softmax` last-layer activation).* `(model.predict(x) > 0.5).astype(\"int32\")`,   if your model does binary classification   (e.g. if it uses a `sigmoid` last-layer activation).\n",
      "  warnings.warn('`model.predict_classes()` is deprecated and '\n",
      "/home/dheekshitha-vibha/miniconda3/envs/myenv/lib/python3.6/site-packages/tensorflow/python/keras/engine/sequential.py:450: UserWarning: `model.predict_classes()` is deprecated and will be removed after 2021-01-01. Please use instead:* `np.argmax(model.predict(x), axis=-1)`,   if your model does multi-class classification   (e.g. if it uses a `softmax` last-layer activation).* `(model.predict(x) > 0.5).astype(\"int32\")`,   if your model does binary classification   (e.g. if it uses a `sigmoid` last-layer activation).\n",
      "  warnings.warn('`model.predict_classes()` is deprecated and '\n"
     ]
    },
    {
     "name": "stdout",
     "output_type": "stream",
     "text": [
      "Training Recall: 94.78209888606605 %\n",
      "Training F1 Score: 93.1885867998847 %\n",
      "Validation Accuracy_Score: 87.6604146100691 %\n",
      "Validation Precision: 90.98687963491157 %\n",
      "Validation Recall: 94.5465323058684 %\n",
      "Validation F1 Score: 92.73255813953489 %\n"
     ]
    },
    {
     "name": "stderr",
     "output_type": "stream",
     "text": [
      "/home/dheekshitha-vibha/miniconda3/envs/myenv/lib/python3.6/site-packages/tensorflow/python/keras/engine/sequential.py:450: UserWarning: `model.predict_classes()` is deprecated and will be removed after 2021-01-01. Please use instead:* `np.argmax(model.predict(x), axis=-1)`,   if your model does multi-class classification   (e.g. if it uses a `softmax` last-layer activation).* `(model.predict(x) > 0.5).astype(\"int32\")`,   if your model does binary classification   (e.g. if it uses a `sigmoid` last-layer activation).\n",
      "  warnings.warn('`model.predict_classes()` is deprecated and '\n"
     ]
    }
   ],
   "source": [
    "\n",
    "plotconfusionMatrix(bestNN2,y_valid['Attrition_Flag'],XvalidData)\n",
    "\n",
    "getMetrics(bestNN2,XtrainData,y_train_res['Attrition_Flag'],XvalidData,y_valid['Attrition_Flag'])"
   ]
  },
  {
   "cell_type": "code",
   "execution_count": 144,
   "metadata": {},
   "outputs": [
    {
     "ename": "NameError",
     "evalue": "name 'pca_finalDF' is not defined",
     "output_type": "error",
     "traceback": [
      "\u001b[0;31m---------------------------------------------------------------------------\u001b[0m",
      "\u001b[0;31mNameError\u001b[0m                                 Traceback (most recent call last)",
      "\u001b[0;32m<ipython-input-144-306829ce6385>\u001b[0m in \u001b[0;36m<module>\u001b[0;34m\u001b[0m\n\u001b[1;32m      7\u001b[0m \u001b[0mbestNN\u001b[0m\u001b[0;34m=\u001b[0m\u001b[0mcreate_modelWithDropBatch\u001b[0m\u001b[0;34m(\u001b[0m\u001b[0mhidden_layers\u001b[0m\u001b[0;34m=\u001b[0m \u001b[0;36m6\u001b[0m\u001b[0;34m,\u001b[0m \u001b[0mlearning_rate\u001b[0m\u001b[0;34m=\u001b[0m \u001b[0;36m0.05\u001b[0m\u001b[0;34m)\u001b[0m\u001b[0;34m\u001b[0m\u001b[0;34m\u001b[0m\u001b[0m\n\u001b[1;32m      8\u001b[0m history2 = bestNN.fit(\n\u001b[0;32m----> 9\u001b[0;31m      \u001b[0mpca_finalDF\u001b[0m\u001b[0;34m,\u001b[0m \u001b[0my_train_res\u001b[0m\u001b[0;34m,\u001b[0m\u001b[0;34m\u001b[0m\u001b[0;34m\u001b[0m\u001b[0m\n\u001b[0m\u001b[1;32m     10\u001b[0m     \u001b[0mvalidation_data\u001b[0m\u001b[0;34m=\u001b[0m\u001b[0;34m(\u001b[0m\u001b[0mpcavalidData\u001b[0m\u001b[0;34m,\u001b[0m \u001b[0my_valid\u001b[0m\u001b[0;34m)\u001b[0m\u001b[0;34m,\u001b[0m\u001b[0;34m\u001b[0m\u001b[0;34m\u001b[0m\u001b[0m\n\u001b[1;32m     11\u001b[0m     \u001b[0mbatch_size\u001b[0m\u001b[0;34m=\u001b[0m\u001b[0;36m512\u001b[0m\u001b[0;34m,\u001b[0m\u001b[0;34m\u001b[0m\u001b[0;34m\u001b[0m\u001b[0m\n",
      "\u001b[0;31mNameError\u001b[0m: name 'pca_finalDF' is not defined"
     ]
    }
   ],
   "source": [
    "import timeit\n",
    "\n",
    "start = timeit.default_timer()\n",
    "\n",
    "#Your statements here\n",
    "\n",
    "bestNN=create_modelWithDropBatch(hidden_layers= 6, learning_rate= 0.05)\n",
    "history2 = bestNN.fit(\n",
    "     pca_finalDF, y_train_res,\n",
    "    validation_data=(pcavalidData, y_valid),\n",
    "    batch_size=512,\n",
    "    epochs=200,\n",
    "#     callbacks=[early_stopping],\n",
    ")\n",
    "stop = timeit.default_timer()\n",
    "\n",
    "print('Time: ', stop - start)  \n"
   ]
  },
  {
   "cell_type": "code",
   "execution_count": 26,
   "metadata": {},
   "outputs": [
    {
     "data": {
      "text/plain": [
       "<AxesSubplot:title={'center':'Accuracy'}>"
      ]
     },
     "execution_count": 26,
     "metadata": {},
     "output_type": "execute_result"
    },
    {
     "data": {
      "image/png": "[encoded data removed]",
      "text/plain": [
       "<Figure size 432x288 with 1 Axes>"
      ]
     },
     "metadata": {
      "needs_background": "light"
     },
     "output_type": "display_data"
    },
    {
     "data": {
      "image/png": "[encoded data removed]",
      "text/plain": [
       "<Figure size 432x288 with 1 Axes>"
      ]
     },
     "metadata": {
      "needs_background": "light"
     },
     "output_type": "display_data"
    }
   ],
   "source": [
    "history_df = pd.DataFrame(history2.history)\n",
    "history_df.loc[:, ['loss', 'val_loss']].plot(title=\"Cross-entropy\")\n",
    "history_df.loc[:, ['accuracy', 'val_accuracy']].plot(title=\"Accuracy\")"
   ]
  },
  {
   "cell_type": "code",
   "execution_count": 55,
   "metadata": {
    "scrolled": true
   },
   "outputs": [
    {
     "name": "stdout",
     "output_type": "stream",
     "text": [
      "Accuracy_Score: 33.328990228013026 %\n",
      "precision_score: 0.0 %\n",
      "recall_score: 0.0 %\n"
     ]
    },
    {
     "name": "stderr",
     "output_type": "stream",
     "text": [
      "/home/dheekshitha-vibha/miniconda3/envs/myenv/lib/python3.6/site-packages/tensorflow/python/keras/engine/sequential.py:450: UserWarning: `model.predict_classes()` is deprecated and will be removed after 2021-01-01. Please use instead:* `np.argmax(model.predict(x), axis=-1)`,   if your model does multi-class classification   (e.g. if it uses a `softmax` last-layer activation).* `(model.predict(x) > 0.5).astype(\"int32\")`,   if your model does binary classification   (e.g. if it uses a `sigmoid` last-layer activation).\n",
      "  warnings.warn('`model.predict_classes()` is deprecated and '\n",
      "/home/dheekshitha-vibha/miniconda3/envs/myenv/lib/python3.6/site-packages/sklearn/metrics/_classification.py:1245: UndefinedMetricWarning: Precision is ill-defined and being set to 0.0 due to no predicted samples. Use `zero_division` parameter to control this behavior.\n",
      "  _warn_prf(average, modifier, msg_start, len(result))\n"
     ]
    }
   ],
   "source": [
    "y_pred_SVM = bestNN.predict_classes(pca_finalDF)\n",
    "\n",
    "\n",
    "# print('Classification report: \\n', metrics.classification_report(y_test, model))\n",
    "print('Accuracy_Score:',metrics.accuracy_score(y_train_res, y_pred_SVM)*100,'%')\n",
    "\n",
    "\n",
    "print('precision_score:',metrics.precision_score(y_train_res, y_pred_SVM)*100,'%')\n",
    "\n",
    "print('recall_score:',metrics.recall_score(y_train_res, y_pred_SVM)*100,'%')"
   ]
  },
  {
   "cell_type": "code",
   "execution_count": 143,
   "metadata": {
    "scrolled": true
   },
   "outputs": [
    {
     "ename": "NameError",
     "evalue": "name 'bestNN' is not defined",
     "output_type": "error",
     "traceback": [
      "\u001b[0;31m---------------------------------------------------------------------------\u001b[0m",
      "\u001b[0;31mNameError\u001b[0m                                 Traceback (most recent call last)",
      "\u001b[0;32m<ipython-input-143-2a45d83f6dec>\u001b[0m in \u001b[0;36m<module>\u001b[0;34m\u001b[0m\n\u001b[0;32m----> 1\u001b[0;31m \u001b[0mplotconfusionMatrix\u001b[0m\u001b[0;34m(\u001b[0m\u001b[0mbestNN\u001b[0m\u001b[0;34m,\u001b[0m\u001b[0my_valid\u001b[0m\u001b[0;34m[\u001b[0m\u001b[0;34m'Attrition_Flag'\u001b[0m\u001b[0;34m]\u001b[0m\u001b[0;34m,\u001b[0m\u001b[0mpcavalidData\u001b[0m\u001b[0;34m)\u001b[0m\u001b[0;34m\u001b[0m\u001b[0;34m\u001b[0m\u001b[0m\n\u001b[0m\u001b[1;32m      2\u001b[0m \u001b[0;34m\u001b[0m\u001b[0m\n\u001b[1;32m      3\u001b[0m \u001b[0mgetMetrics\u001b[0m\u001b[0;34m(\u001b[0m\u001b[0mbestNN\u001b[0m\u001b[0;34m,\u001b[0m\u001b[0mpca_finalDF\u001b[0m\u001b[0;34m,\u001b[0m\u001b[0my_train_res\u001b[0m\u001b[0;34m[\u001b[0m\u001b[0;34m'Attrition_Flag'\u001b[0m\u001b[0;34m]\u001b[0m\u001b[0;34m,\u001b[0m\u001b[0mpcavalidData\u001b[0m\u001b[0;34m,\u001b[0m\u001b[0my_valid\u001b[0m\u001b[0;34m[\u001b[0m\u001b[0;34m'Attrition_Flag'\u001b[0m\u001b[0;34m]\u001b[0m\u001b[0;34m)\u001b[0m\u001b[0;34m\u001b[0m\u001b[0;34m\u001b[0m\u001b[0m\n",
      "\u001b[0;31mNameError\u001b[0m: name 'bestNN' is not defined"
     ]
    }
   ],
   "source": [
    "\n",
    "plotconfusionMatrix(bestNN,y_valid['Attrition_Flag'],pcavalidData)\n",
    "\n",
    "getMetrics(bestNN,pca_finalDF,y_train_res['Attrition_Flag'],pcavalidData,y_valid['Attrition_Flag'])"
   ]
  }
 ],
 "metadata": {
  "kernelspec": {
   "display_name": "myenv",
   "language": "python",
   "name": "myenv"
  },
  "language_info": {
   "codemirror_mode": {
    "name": "ipython",
    "version": 3
   },
   "file_extension": ".py",
   "mimetype": "text/x-python",
   "name": "python",
   "nbconvert_exporter": "python",
   "pygments_lexer": "ipython3",
   "version": "3.6.12"
  }
 },
 "nbformat": 4,
 "nbformat_minor": 4
}
