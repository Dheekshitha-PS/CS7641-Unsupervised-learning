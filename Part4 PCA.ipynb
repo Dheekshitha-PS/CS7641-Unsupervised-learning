{
 "cells": [
  {
   "cell_type": "code",
   "execution_count": 1,
   "metadata": {},
   "outputs": [],
   "source": [
    "import pickle as pk\n",
    "import pandas as pd\n",
    "import numpy as np\n",
    "import copy\n",
    "\n",
    "data=pd.read_csv(\"./Data/BankChurners.csv\")\n",
    "\n",
    "data['Attrition_Flag'] = data['Attrition_Flag'].map({1: 'Existing Customer', 0: 'Attrited Customer'})\n"
   ]
  },
  {
   "cell_type": "code",
   "execution_count": 2,
   "metadata": {},
   "outputs": [],
   "source": [
    "import numpy as np # linear algebra\n",
    "import pandas as pd # data processing, CSV file I/O (e.g. pd.read_csv)\n",
    "import matplotlib.pyplot as plt\n",
    "import seaborn as sns\n",
    "%matplotlib inline\n",
    "\n",
    "\n",
    "from sklearn.tree import DecisionTreeClassifier\n",
    "from sklearn.metrics import roc_curve, auc\n",
    "\n",
    "from sklearn.model_selection import KFold, cross_val_score\n",
    "from sklearn.preprocessing import StandardScaler, OneHotEncoder, LabelEncoder\n",
    "\n",
    "# # print)str\n",
    "# scaled_x_train=pd.read_csv(\"./Data/scaled_x_train_smote2.csv\")\n",
    "# scaled_x_test=pd.read_csv(\"./Data/scaled_x_test_smote2.csv\")\n",
    "# # pd.read_csv(\"./Data/scaled_x_test_smote2.csv\")\n",
    "# scaled_x_cv=pd.read_csv(\"./Data/scaled_x_cv_smote2.csv\")\n",
    "\n",
    "y_test_copy=pd.read_csv(\"./Data/y_test_smote3.csv\")\n",
    "x_test=pd.read_csv(\"./Data/x_test_smote3.csv\")\n",
    "\n",
    "X_train_res=pd.read_csv(\"./Data/X_train_res_smote3.csv\")\n",
    "y_train_res=pd.read_csv(\"./Data/y_train_res_smote3.csv\")\n",
    "\n",
    "X_train_res=X_train_res.drop('Unnamed: 0',axis=1)\n",
    "y_train_res=y_train_res.drop('Unnamed: 0',axis=1)\n",
    "x_test=x_test.drop('Unnamed: 0',axis=1)\n",
    "\n",
    "\n",
    "y_test_copy=y_test_copy.drop('Unnamed: 0',axis=1)\n",
    "# scaled_x_test=scaled_x_test.drop('Unnamed: 0',axis=1)\n",
    "# scaled_x_cv=scaled_x_cv.drop('Unnamed: 0',axis=1)\n",
    "\n",
    "\n",
    "y_test=y_test_copy\n",
    "\n",
    "y_valid=pd.read_csv(\"./Data/y_valid_smote3.csv\")\n",
    "x_valid=pd.read_csv(\"./Data/x_valid_smote3.csv\")\n",
    "\n",
    "x_valid=x_valid.drop('Unnamed: 0',axis=1)\n",
    "y_valid=y_valid.drop('Unnamed: 0',axis=1)\n",
    "\n",
    "y_valid.shape\n",
    "\n",
    "\n",
    "\n",
    "\n",
    "y_train_res['Attrition_Flag']=y_train_res['Attrition_Flag'].map({'Existing Customer': 1, 'Attrited Customer': 0})\n",
    "y_valid['Attrition_Flag']=y_valid['Attrition_Flag'].map({'Existing Customer': 1, 'Attrited Customer': 0})\n",
    "y_test_copy['Attrition_Flag']=y_test_copy['Attrition_Flag'].map({'Existing Customer': 1, 'Attrited Customer': 0})\n",
    "\n"
   ]
  },
  {
   "cell_type": "code",
   "execution_count": 3,
   "metadata": {},
   "outputs": [
    {
     "data": {
      "text/plain": [
       "(7675, 32)"
      ]
     },
     "execution_count": 3,
     "metadata": {},
     "output_type": "execute_result"
    }
   ],
   "source": [
    "#  Scaling features\n",
    "scaler = StandardScaler()\n",
    "scaler.fit(X_train_res)\n",
    "\n",
    "scaled_x_train = scaler.transform(X_train_res)\n",
    "scaled_x_test = scaler.transform(x_test)\n",
    "\n",
    "\n",
    "scaled_x_valid=scaler.transform(x_valid)\n",
    "# scaled_y_cv =scaler.transform(y_cv)\n",
    "\n",
    "scaled_x_train.shape\n",
    "\n",
    "\n",
    "scaled_x_train.shape"
   ]
  },
  {
   "cell_type": "code",
   "execution_count": 9,
   "metadata": {},
   "outputs": [],
   "source": [
    "from sklearn.decomposition import PCA\n",
    "pca_final = PCA(n_components=23)\n",
    "pca_finalDF=pca_final.fit_transform(scaled_x_train)\n"
   ]
  },
  {
   "cell_type": "code",
   "execution_count": 14,
   "metadata": {},
   "outputs": [],
   "source": [
    "pcaTestData=pca_final.transform(scaled_x_test)\n",
    "pcavalidData=pca_final.transform(scaled_x_valid)"
   ]
  },
  {
   "cell_type": "code",
   "execution_count": 5,
   "metadata": {},
   "outputs": [],
   "source": [
    "pca_reload = pk.load(open(\"pca_finalDF_data1.pkl\",'rb'))\n",
    "# result_new = pca_reload .transform(X)"
   ]
  },
  {
   "cell_type": "code",
   "execution_count": 7,
   "metadata": {},
   "outputs": [
    {
     "data": {
      "text/plain": [
       "(7675, 23)"
      ]
     },
     "execution_count": 7,
     "metadata": {},
     "output_type": "execute_result"
    }
   ],
   "source": [
    "pca_reload.shape"
   ]
  },
  {
   "cell_type": "code",
   "execution_count": 11,
   "metadata": {},
   "outputs": [],
   "source": [
    "def create_model(  hidden_layers,learning_rate):\n",
    "  # Initialize the constructor\n",
    "    model =  keras.Sequential()\n",
    "      # Add an input layer\n",
    "    activation='sigmoid'\n",
    "    model.add(layers.Dense(256, activation=activation, input_shape=input_shape))\n",
    "    for i in range(hidden_layers):\n",
    "          # Add one hidden layer\n",
    "        model.add(layers.Dense(8, activation=activation))\n",
    "\n",
    "      # Add an output layer \n",
    "    model.add(layers.Dense(1, activation=activation))\n",
    "    opt = keras.optimizers.Adam(learning_rate=learning_rate)\n",
    "      #compile model\n",
    "    model.compile(loss='binary_crossentropy', optimizer=opt, metrics=\n",
    "      ['accuracy'])\n",
    "\n",
    "    return model\n"
   ]
  },
  {
   "cell_type": "code",
   "execution_count": 12,
   "metadata": {},
   "outputs": [],
   "source": [
    "\n",
    "import joblib\n",
    "\n",
    "# joblib.dump(DTmodel, 'DTgrid_NLP.pkl')\n",
    "\n",
    "from sklearn import metrics\n",
    "\n",
    "# tfidf_vector_X = xtrain_tfidf_ngram.toarray()  #//shape - (3,6)\n",
    "# tfidf_vector_valid= xvalid_tfidf_ngram.toarray() #//shape - (3,6)\n",
    "# tfidf_vector_X = tfidf_vector_X[:, :, None] #//shape - (3,6,1) \n",
    "# tfidf_vector_valid = tfidf_vector_valid[:, :, None] #//shape - (3,6,1)\n",
    "\n",
    "\n",
    "# tfidf_vector_X.shape[1:]\n",
    "\n",
    "from tensorflow import keras\n",
    "from tensorflow.keras import layers\n",
    "\n",
    "# input_shape= [x_train.shape[1]]\n",
    "\n",
    "# NNmodel = create_model(optimizer='adam', activation = 'sigmoid', hidden_layers=1,learning_rate=0.01)\n",
    "\n",
    "\n",
    "\n",
    "\n",
    "from sklearn.model_selection import RandomizedSearchCV, GridSearchCV\n",
    "from sklearn.metrics import roc_auc_score\n",
    "from sklearn.model_selection import StratifiedKFold\n"
   ]
  },
  {
   "cell_type": "code",
   "execution_count": 68,
   "metadata": {},
   "outputs": [],
   "source": [
    "# sess.run(optimizer._lr)\n",
    "def create_modelWithDropBatch(  hidden_layers,learning_rate):\n",
    "  # Initialize the constructor\n",
    "    model =  keras.Sequential()\n",
    "      # Add an input layer\n",
    "    activation='sigmoid'\n",
    "    model.add(layers.Dense(256, activation=activation, input_shape=input_shape))\n",
    "    for i in range(hidden_layers):\n",
    "          # Add one hidden layer\n",
    "        model.add(layers.BatchNormalization())\n",
    "        model.add(layers.Dropout(0.5))\n",
    "        model.add(layers.Dense(8, activation='relu'))\n",
    "\n",
    "      # Add an output layer \n",
    "    model.add(layers.Dense(1, activation=activation))\n",
    "    opt = keras.optimizers.Adam(learning_rate=learning_rate)\n",
    "      #compile model\n",
    "    model.compile(loss='binary_crossentropy', optimizer=opt, metrics=\n",
    "      ['accuracy'])\n",
    "\n",
    "    return model\n",
    "\n"
   ]
  },
  {
   "cell_type": "code",
   "execution_count": 16,
   "metadata": {},
   "outputs": [],
   "source": [
    "from tensorflow.keras.wrappers.scikit_learn import KerasClassifier"
   ]
  },
  {
   "cell_type": "code",
   "execution_count": 20,
   "metadata": {},
   "outputs": [
    {
     "data": {
      "text/plain": [
       "[32]"
      ]
     },
     "execution_count": 20,
     "metadata": {},
     "output_type": "execute_result"
    }
   ],
   "source": [
    "pca_finalDF.shape\n",
    "input_shape"
   ]
  },
  {
   "cell_type": "code",
   "execution_count": 41,
   "metadata": {},
   "outputs": [],
   "source": [
    "model_Batch_drop_relu =  KerasClassifier(build_fn=create_modelWithDropBatch, verbose = False)  "
   ]
  },
  {
   "cell_type": "code",
   "execution_count": 22,
   "metadata": {},
   "outputs": [
    {
     "name": "stdout",
     "output_type": "stream",
     "text": [
      "{'hidden_layers': 6, 'learning_rate': 0.05}\n",
      "0.9099674344062805\n"
     ]
    }
   ],
   "source": [
    "\n",
    "input_shape=[23]\n",
    "#\n",
    "model_Batch_drop_relu =  KerasClassifier(build_fn=create_modelWithDropBatch, verbose = False)  \n",
    "\n",
    "param_grid={'learning_rate':[0.1,0.001,0.01,0.05,0.05,0.5],'hidden_layers':[2,4,6,8,10]}\n",
    "\n",
    "gridNN_Batch_drop_relu = GridSearchCV(estimator = model_Batch_drop_relu, param_grid = param_grid)\n",
    "\n",
    "model_Batch_drop_relu.get_params()\n",
    "\n",
    "history_Batch_drop_relu = gridNN_Batch_drop_relu.fit(\n",
    "     pca_finalDF, y_train_res,\n",
    "    validation_data=(pcavalidData, y_valid),\n",
    "    batch_size=512,\n",
    "    epochs=200,\n",
    "#     callbacks=[early_stopping],\n",
    ")\n",
    "\n",
    "print(history_Batch_drop_relu.best_params_)\n",
    "\n",
    "print(history_Batch_drop_relu.best_score_)\n",
    "# print(grid.best_params_)"
   ]
  },
  {
   "cell_type": "code",
   "execution_count": 43,
   "metadata": {},
   "outputs": [],
   "source": [
    "# import timeit\n",
    "\n",
    "# start = timeit.default_timer()\n",
    "\n",
    "# #Your statements here\n",
    "\n",
    "# bestNN=create_modelWithDropBatch(hidden_layers= 6, learning_rate= 0.05)\n",
    "# history2 = bestNN.fit(\n",
    "#      pca_finalDF, y_train_res,\n",
    "#     validation_data=(pcavalidData, y_valid),\n",
    "#     batch_size=512,\n",
    "#     epochs=200,\n",
    "# #     callbacks=[early_stopping],\n",
    "# )\n",
    "# stop = timeit.default_timer()\n",
    "\n",
    "# print('Time: ', stop - start)  \n"
   ]
  },
  {
   "cell_type": "code",
   "execution_count": 58,
   "metadata": {},
   "outputs": [],
   "source": [
    "# sess.run(optimizer._lr)\n",
    "def create_modelWithDropBatchOpt(  hidden_layers,learning_rate):\n",
    "  # Initialize the constructor\n",
    "    model =  keras.Sequential()\n",
    "      # Add an input layer\n",
    "    activation='sigmoid'\n",
    "    model.add(layers.Dense(256, activation=activation, input_shape=input_shape))\n",
    "    for i in range(hidden_layers):\n",
    "          # Add one hidden layer\n",
    "        model.add(layers.BatchNormalization())\n",
    "        model.add(layers.Dropout(0.5))\n",
    "        model.add(layers.Dense(8, activation='tanh'))\n",
    "\n",
    "      # Add an output layer \n",
    "    model.add(layers.Dense(1, activation=activation))\n",
    "    opt = keras.optimizers.Adam(learning_rate=learning_rate)\n",
    "      #compile model\n",
    "    model.compile(loss='binary_crossentropy', optimizer=opt, metrics=\n",
    "      ['accuracy'])\n",
    "\n",
    "    return model\n",
    "\n"
   ]
  },
  {
   "cell_type": "code",
   "execution_count": 59,
   "metadata": {},
   "outputs": [
    {
     "name": "stdout",
     "output_type": "stream",
     "text": [
      "Epoch 1/200\n",
      "15/15 [==============================] - 2s 24ms/step - loss: 0.6749 - accuracy: 0.6062 - val_loss: 0.4747 - val_accuracy: 0.8198\n",
      "Epoch 2/200\n",
      "15/15 [==============================] - 0s 7ms/step - loss: 0.6015 - accuracy: 0.6675 - val_loss: 0.5322 - val_accuracy: 0.6283\n",
      "Epoch 3/200\n",
      "15/15 [==============================] - 0s 8ms/step - loss: 0.5281 - accuracy: 0.7441 - val_loss: 0.4508 - val_accuracy: 0.8346\n",
      "Epoch 4/200\n",
      "15/15 [==============================] - 0s 7ms/step - loss: 0.5596 - accuracy: 0.7346 - val_loss: 0.4505 - val_accuracy: 0.8337\n",
      "Epoch 5/200\n",
      "15/15 [==============================] - 0s 7ms/step - loss: 0.5606 - accuracy: 0.7462 - val_loss: 0.4551 - val_accuracy: 0.8327\n",
      "Epoch 6/200\n",
      "15/15 [==============================] - 0s 7ms/step - loss: 0.5630 - accuracy: 0.7420 - val_loss: 0.4615 - val_accuracy: 0.8351\n",
      "Epoch 7/200\n",
      "15/15 [==============================] - 0s 8ms/step - loss: 0.5641 - accuracy: 0.7366 - val_loss: 0.4525 - val_accuracy: 0.8406\n",
      "Epoch 8/200\n",
      "15/15 [==============================] - 0s 7ms/step - loss: 0.5501 - accuracy: 0.7476 - val_loss: 0.4402 - val_accuracy: 0.8416\n",
      "Epoch 9/200\n",
      "15/15 [==============================] - 0s 7ms/step - loss: 0.5528 - accuracy: 0.7461 - val_loss: 0.4481 - val_accuracy: 0.8411\n",
      "Epoch 10/200\n",
      "15/15 [==============================] - 0s 7ms/step - loss: 0.5554 - accuracy: 0.7469 - val_loss: 0.4371 - val_accuracy: 0.8371\n",
      "Epoch 11/200\n",
      "15/15 [==============================] - 0s 8ms/step - loss: 0.5596 - accuracy: 0.7470 - val_loss: 0.4458 - val_accuracy: 0.8381\n",
      "Epoch 12/200\n",
      "15/15 [==============================] - 0s 8ms/step - loss: 0.5672 - accuracy: 0.7414 - val_loss: 0.4723 - val_accuracy: 0.7912\n",
      "Epoch 13/200\n",
      "15/15 [==============================] - 0s 8ms/step - loss: 0.5331 - accuracy: 0.7625 - val_loss: 0.4603 - val_accuracy: 0.7878\n",
      "Epoch 14/200\n",
      "15/15 [==============================] - 0s 7ms/step - loss: 0.5626 - accuracy: 0.7321 - val_loss: 0.4522 - val_accuracy: 0.7962\n",
      "Epoch 15/200\n",
      "15/15 [==============================] - 0s 7ms/step - loss: 0.5618 - accuracy: 0.7318 - val_loss: 0.4629 - val_accuracy: 0.7670\n",
      "Epoch 16/200\n",
      "15/15 [==============================] - 0s 7ms/step - loss: 0.5806 - accuracy: 0.7185 - val_loss: 0.5057 - val_accuracy: 0.7192\n",
      "Epoch 17/200\n",
      "15/15 [==============================] - 0s 7ms/step - loss: 0.5834 - accuracy: 0.7156 - val_loss: 0.5229 - val_accuracy: 0.7221\n",
      "Epoch 18/200\n",
      "15/15 [==============================] - 0s 8ms/step - loss: 0.5832 - accuracy: 0.7180 - val_loss: 0.4980 - val_accuracy: 0.7354\n",
      "Epoch 19/200\n",
      "15/15 [==============================] - 0s 7ms/step - loss: 0.5803 - accuracy: 0.7199 - val_loss: 0.5054 - val_accuracy: 0.7364\n",
      "Epoch 20/200\n",
      "15/15 [==============================] - 0s 7ms/step - loss: 0.5639 - accuracy: 0.7394 - val_loss: 0.4885 - val_accuracy: 0.7739\n",
      "Epoch 21/200\n",
      "15/15 [==============================] - 0s 7ms/step - loss: 0.5664 - accuracy: 0.7337 - val_loss: 0.4635 - val_accuracy: 0.8031\n",
      "Epoch 22/200\n",
      "15/15 [==============================] - 0s 8ms/step - loss: 0.5616 - accuracy: 0.7262 - val_loss: 0.4577 - val_accuracy: 0.7843\n",
      "Epoch 23/200\n",
      "15/15 [==============================] - 0s 8ms/step - loss: 0.5605 - accuracy: 0.7220 - val_loss: 0.4574 - val_accuracy: 0.7838\n",
      "Epoch 24/200\n",
      "15/15 [==============================] - 0s 8ms/step - loss: 0.5497 - accuracy: 0.7372 - val_loss: 0.4604 - val_accuracy: 0.7853\n",
      "Epoch 25/200\n",
      "15/15 [==============================] - 0s 8ms/step - loss: 0.5595 - accuracy: 0.7300 - val_loss: 0.4663 - val_accuracy: 0.7675\n",
      "Epoch 26/200\n",
      "15/15 [==============================] - 0s 7ms/step - loss: 0.5436 - accuracy: 0.7429 - val_loss: 0.4642 - val_accuracy: 0.7562\n",
      "Epoch 27/200\n",
      "15/15 [==============================] - 0s 7ms/step - loss: 0.5411 - accuracy: 0.7369 - val_loss: 0.4628 - val_accuracy: 0.7463\n",
      "Epoch 28/200\n",
      "15/15 [==============================] - 0s 7ms/step - loss: 0.5337 - accuracy: 0.7421 - val_loss: 0.4682 - val_accuracy: 0.7330\n",
      "Epoch 29/200\n",
      "15/15 [==============================] - 0s 7ms/step - loss: 0.5399 - accuracy: 0.7386 - val_loss: 0.4660 - val_accuracy: 0.7340\n",
      "Epoch 30/200\n",
      "15/15 [==============================] - 0s 8ms/step - loss: 0.5231 - accuracy: 0.7575 - val_loss: 0.4730 - val_accuracy: 0.7552\n",
      "Epoch 31/200\n",
      "15/15 [==============================] - 0s 8ms/step - loss: 0.5386 - accuracy: 0.7431 - val_loss: 0.4867 - val_accuracy: 0.7246\n",
      "Epoch 32/200\n",
      "15/15 [==============================] - 0s 8ms/step - loss: 0.5279 - accuracy: 0.7465 - val_loss: 0.4566 - val_accuracy: 0.7843\n",
      "Epoch 33/200\n",
      "15/15 [==============================] - 0s 8ms/step - loss: 0.5478 - accuracy: 0.7315 - val_loss: 0.4465 - val_accuracy: 0.7695\n",
      "Epoch 34/200\n",
      "15/15 [==============================] - 0s 8ms/step - loss: 0.5643 - accuracy: 0.7179 - val_loss: 0.4334 - val_accuracy: 0.8268\n",
      "Epoch 35/200\n",
      "15/15 [==============================] - 0s 8ms/step - loss: 0.5662 - accuracy: 0.7074 - val_loss: 0.4385 - val_accuracy: 0.8277\n",
      "Epoch 36/200\n",
      "15/15 [==============================] - 0s 19ms/step - loss: 0.5713 - accuracy: 0.7074 - val_loss: 0.4304 - val_accuracy: 0.8159\n",
      "Epoch 37/200\n",
      "15/15 [==============================] - 0s 7ms/step - loss: 0.5679 - accuracy: 0.7253 - val_loss: 0.4456 - val_accuracy: 0.8006\n",
      "Epoch 38/200\n",
      "15/15 [==============================] - 0s 8ms/step - loss: 0.5557 - accuracy: 0.7349 - val_loss: 0.4857 - val_accuracy: 0.7241\n",
      "Epoch 39/200\n",
      "15/15 [==============================] - 0s 8ms/step - loss: 0.5695 - accuracy: 0.7149 - val_loss: 0.5214 - val_accuracy: 0.6767\n",
      "Epoch 40/200\n",
      "15/15 [==============================] - 0s 7ms/step - loss: 0.5783 - accuracy: 0.6935 - val_loss: 0.5089 - val_accuracy: 0.6807\n",
      "Epoch 41/200\n",
      "15/15 [==============================] - 0s 8ms/step - loss: 0.5779 - accuracy: 0.7065 - val_loss: 0.4978 - val_accuracy: 0.6821\n",
      "Epoch 42/200\n",
      "15/15 [==============================] - 0s 7ms/step - loss: 0.5581 - accuracy: 0.7221 - val_loss: 0.4937 - val_accuracy: 0.6964\n",
      "Epoch 43/200\n",
      "15/15 [==============================] - 0s 7ms/step - loss: 0.5730 - accuracy: 0.7099 - val_loss: 0.4906 - val_accuracy: 0.6994\n",
      "Epoch 44/200\n",
      "15/15 [==============================] - 0s 7ms/step - loss: 0.5722 - accuracy: 0.7004 - val_loss: 0.4488 - val_accuracy: 0.7912\n",
      "Epoch 45/200\n",
      "15/15 [==============================] - 0s 7ms/step - loss: 0.5543 - accuracy: 0.7401 - val_loss: 0.4409 - val_accuracy: 0.8421\n",
      "Epoch 46/200\n",
      "15/15 [==============================] - 0s 7ms/step - loss: 0.5620 - accuracy: 0.7363 - val_loss: 0.4392 - val_accuracy: 0.8485\n",
      "Epoch 47/200\n",
      "15/15 [==============================] - 0s 7ms/step - loss: 0.5643 - accuracy: 0.7403 - val_loss: 0.4339 - val_accuracy: 0.8460\n",
      "Epoch 48/200\n",
      "15/15 [==============================] - 0s 7ms/step - loss: 0.5601 - accuracy: 0.7386 - val_loss: 0.4371 - val_accuracy: 0.8475\n",
      "Epoch 49/200\n",
      "15/15 [==============================] - 0s 7ms/step - loss: 0.5689 - accuracy: 0.7311 - val_loss: 0.4537 - val_accuracy: 0.8302\n",
      "Epoch 50/200\n",
      "15/15 [==============================] - 0s 7ms/step - loss: 0.5635 - accuracy: 0.7338 - val_loss: 0.4958 - val_accuracy: 0.7246\n",
      "Epoch 51/200\n",
      "15/15 [==============================] - 0s 7ms/step - loss: 0.5686 - accuracy: 0.7283 - val_loss: 0.5195 - val_accuracy: 0.6945\n",
      "Epoch 52/200\n",
      "15/15 [==============================] - 0s 7ms/step - loss: 0.5768 - accuracy: 0.7090 - val_loss: 0.4697 - val_accuracy: 0.7498\n",
      "Epoch 53/200\n",
      "15/15 [==============================] - 0s 7ms/step - loss: 0.5701 - accuracy: 0.7119 - val_loss: 0.4549 - val_accuracy: 0.8327\n",
      "Epoch 54/200\n",
      "15/15 [==============================] - 0s 7ms/step - loss: 0.5946 - accuracy: 0.6579 - val_loss: 0.4579 - val_accuracy: 0.7818\n",
      "Epoch 55/200\n",
      "15/15 [==============================] - 0s 7ms/step - loss: 0.5965 - accuracy: 0.6736 - val_loss: 0.4721 - val_accuracy: 0.8327\n",
      "Epoch 56/200\n",
      "15/15 [==============================] - 0s 7ms/step - loss: 0.5952 - accuracy: 0.6740 - val_loss: 0.4787 - val_accuracy: 0.7246\n",
      "Epoch 57/200\n",
      "15/15 [==============================] - 0s 8ms/step - loss: 0.6003 - accuracy: 0.6616 - val_loss: 0.5028 - val_accuracy: 0.6555\n",
      "Epoch 58/200\n",
      "15/15 [==============================] - 0s 7ms/step - loss: 0.6005 - accuracy: 0.6584 - val_loss: 0.4806 - val_accuracy: 0.8327\n"
     ]
    },
    {
     "name": "stdout",
     "output_type": "stream",
     "text": [
      "Epoch 59/200\n",
      "15/15 [==============================] - 0s 7ms/step - loss: 0.6115 - accuracy: 0.6544 - val_loss: 0.4730 - val_accuracy: 0.8327\n",
      "Epoch 60/200\n",
      "15/15 [==============================] - 0s 7ms/step - loss: 0.6130 - accuracy: 0.6618 - val_loss: 0.4931 - val_accuracy: 0.8327\n",
      "Epoch 61/200\n",
      "15/15 [==============================] - 0s 7ms/step - loss: 0.6045 - accuracy: 0.6698 - val_loss: 0.4777 - val_accuracy: 0.7522\n",
      "Epoch 62/200\n",
      "15/15 [==============================] - 0s 8ms/step - loss: 0.6067 - accuracy: 0.6675 - val_loss: 0.4762 - val_accuracy: 0.8327\n",
      "Epoch 63/200\n",
      "15/15 [==============================] - 0s 8ms/step - loss: 0.6098 - accuracy: 0.6595 - val_loss: 0.4785 - val_accuracy: 0.8327\n",
      "Epoch 64/200\n",
      "15/15 [==============================] - 0s 7ms/step - loss: 0.6053 - accuracy: 0.6601 - val_loss: 0.4672 - val_accuracy: 0.8327\n",
      "Epoch 65/200\n",
      "15/15 [==============================] - 0s 7ms/step - loss: 0.6093 - accuracy: 0.6726 - val_loss: 0.4873 - val_accuracy: 0.8327\n",
      "Epoch 66/200\n",
      "15/15 [==============================] - 0s 7ms/step - loss: 0.6273 - accuracy: 0.6680 - val_loss: 0.4873 - val_accuracy: 0.8327\n",
      "Epoch 67/200\n",
      "15/15 [==============================] - 0s 8ms/step - loss: 0.6349 - accuracy: 0.6650 - val_loss: 0.4953 - val_accuracy: 0.8327\n",
      "Epoch 68/200\n",
      "15/15 [==============================] - 0s 7ms/step - loss: 0.6356 - accuracy: 0.6599 - val_loss: 0.4835 - val_accuracy: 0.8327\n",
      "Epoch 69/200\n",
      "15/15 [==============================] - 0s 7ms/step - loss: 0.6388 - accuracy: 0.6638 - val_loss: 0.4983 - val_accuracy: 0.8327\n",
      "Epoch 70/200\n",
      "15/15 [==============================] - 0s 7ms/step - loss: 0.6351 - accuracy: 0.6690 - val_loss: 0.5153 - val_accuracy: 0.8327\n",
      "Epoch 71/200\n",
      "15/15 [==============================] - 0s 7ms/step - loss: 0.6371 - accuracy: 0.6669 - val_loss: 0.5237 - val_accuracy: 0.8327\n",
      "Epoch 72/200\n",
      "15/15 [==============================] - 0s 8ms/step - loss: 0.6421 - accuracy: 0.6612 - val_loss: 0.4812 - val_accuracy: 0.8327\n",
      "Epoch 73/200\n",
      "15/15 [==============================] - 0s 8ms/step - loss: 0.6407 - accuracy: 0.6673 - val_loss: 0.5399 - val_accuracy: 0.8327\n",
      "Epoch 74/200\n",
      "15/15 [==============================] - 0s 7ms/step - loss: 0.6401 - accuracy: 0.6655 - val_loss: 0.4987 - val_accuracy: 0.8327\n",
      "Epoch 75/200\n",
      "15/15 [==============================] - 0s 7ms/step - loss: 0.6389 - accuracy: 0.6650 - val_loss: 0.5218 - val_accuracy: 0.8327\n",
      "Epoch 76/200\n",
      "15/15 [==============================] - 0s 7ms/step - loss: 0.6344 - accuracy: 0.6705 - val_loss: 0.5177 - val_accuracy: 0.8327\n",
      "Epoch 77/200\n",
      "15/15 [==============================] - 0s 7ms/step - loss: 0.6403 - accuracy: 0.6633 - val_loss: 0.5334 - val_accuracy: 0.8327\n",
      "Epoch 78/200\n",
      "15/15 [==============================] - 0s 9ms/step - loss: 0.6367 - accuracy: 0.6675 - val_loss: 0.5021 - val_accuracy: 0.8327\n",
      "Epoch 79/200\n",
      "15/15 [==============================] - 0s 7ms/step - loss: 0.6391 - accuracy: 0.6663 - val_loss: 0.5282 - val_accuracy: 0.8327\n",
      "Epoch 80/200\n",
      "15/15 [==============================] - 0s 7ms/step - loss: 0.6403 - accuracy: 0.6628 - val_loss: 0.5360 - val_accuracy: 0.8327\n",
      "Epoch 81/200\n",
      "15/15 [==============================] - 0s 7ms/step - loss: 0.6370 - accuracy: 0.6689 - val_loss: 0.5586 - val_accuracy: 0.8327\n",
      "Epoch 82/200\n",
      "15/15 [==============================] - 0s 7ms/step - loss: 0.6378 - accuracy: 0.6688 - val_loss: 0.5408 - val_accuracy: 0.8327\n",
      "Epoch 83/200\n",
      "15/15 [==============================] - 0s 8ms/step - loss: 0.6348 - accuracy: 0.6710 - val_loss: 0.5241 - val_accuracy: 0.8327\n",
      "Epoch 84/200\n",
      "15/15 [==============================] - 0s 8ms/step - loss: 0.6346 - accuracy: 0.6705 - val_loss: 0.5264 - val_accuracy: 0.8327\n",
      "Epoch 85/200\n",
      "15/15 [==============================] - 0s 7ms/step - loss: 0.6386 - accuracy: 0.6647 - val_loss: 0.5196 - val_accuracy: 0.8327\n",
      "Epoch 86/200\n",
      "15/15 [==============================] - 0s 8ms/step - loss: 0.6412 - accuracy: 0.6617 - val_loss: 0.5202 - val_accuracy: 0.8327\n",
      "Epoch 87/200\n",
      "15/15 [==============================] - 0s 8ms/step - loss: 0.6384 - accuracy: 0.6643 - val_loss: 0.5154 - val_accuracy: 0.8327\n",
      "Epoch 88/200\n",
      "15/15 [==============================] - 0s 8ms/step - loss: 0.6392 - accuracy: 0.6621 - val_loss: 0.5159 - val_accuracy: 0.8327\n",
      "Epoch 89/200\n",
      "15/15 [==============================] - 0s 7ms/step - loss: 0.6365 - accuracy: 0.6685 - val_loss: 0.4746 - val_accuracy: 0.8327\n",
      "Epoch 90/200\n",
      "15/15 [==============================] - 0s 7ms/step - loss: 0.6396 - accuracy: 0.6637 - val_loss: 0.4835 - val_accuracy: 0.8327\n",
      "Epoch 91/200\n",
      "15/15 [==============================] - 0s 7ms/step - loss: 0.6365 - accuracy: 0.6673 - val_loss: 0.5071 - val_accuracy: 0.8327\n",
      "Epoch 92/200\n",
      "15/15 [==============================] - 0s 8ms/step - loss: 0.6380 - accuracy: 0.6662 - val_loss: 0.5140 - val_accuracy: 0.8327\n",
      "Epoch 93/200\n",
      "15/15 [==============================] - 0s 8ms/step - loss: 0.6369 - accuracy: 0.6700 - val_loss: 0.5385 - val_accuracy: 0.8327\n",
      "Epoch 94/200\n",
      "15/15 [==============================] - 0s 7ms/step - loss: 0.6328 - accuracy: 0.6727 - val_loss: 0.5231 - val_accuracy: 0.8327\n",
      "Epoch 95/200\n",
      "15/15 [==============================] - 0s 7ms/step - loss: 0.6329 - accuracy: 0.6727 - val_loss: 0.5203 - val_accuracy: 0.8327\n",
      "Epoch 96/200\n",
      "15/15 [==============================] - 0s 7ms/step - loss: 0.6385 - accuracy: 0.6660 - val_loss: 0.5124 - val_accuracy: 0.8327\n",
      "Epoch 97/200\n",
      "15/15 [==============================] - 0s 7ms/step - loss: 0.6328 - accuracy: 0.6743 - val_loss: 0.5603 - val_accuracy: 0.8327\n",
      "Epoch 98/200\n",
      "15/15 [==============================] - 0s 7ms/step - loss: 0.6387 - accuracy: 0.6665 - val_loss: 0.5505 - val_accuracy: 0.8327\n",
      "Epoch 99/200\n",
      "15/15 [==============================] - 0s 7ms/step - loss: 0.6386 - accuracy: 0.6639 - val_loss: 0.5156 - val_accuracy: 0.8327\n",
      "Epoch 100/200\n",
      "15/15 [==============================] - 0s 7ms/step - loss: 0.6359 - accuracy: 0.6692 - val_loss: 0.5386 - val_accuracy: 0.8327\n",
      "Epoch 101/200\n",
      "15/15 [==============================] - 0s 8ms/step - loss: 0.6375 - accuracy: 0.6681 - val_loss: 0.5281 - val_accuracy: 0.8327\n",
      "Epoch 102/200\n",
      "15/15 [==============================] - 0s 8ms/step - loss: 0.6376 - accuracy: 0.6669 - val_loss: 0.5440 - val_accuracy: 0.8327\n",
      "Epoch 103/200\n",
      "15/15 [==============================] - 0s 8ms/step - loss: 0.6355 - accuracy: 0.6720 - val_loss: 0.5323 - val_accuracy: 0.8327\n",
      "Epoch 104/200\n",
      "15/15 [==============================] - 0s 9ms/step - loss: 0.6413 - accuracy: 0.6607 - val_loss: 0.5111 - val_accuracy: 0.8327\n",
      "Epoch 105/200\n",
      "15/15 [==============================] - 0s 7ms/step - loss: 0.6360 - accuracy: 0.6688 - val_loss: 0.5173 - val_accuracy: 0.8327\n",
      "Epoch 106/200\n",
      "15/15 [==============================] - 0s 8ms/step - loss: 0.6354 - accuracy: 0.6718 - val_loss: 0.5273 - val_accuracy: 0.8327\n",
      "Epoch 107/200\n",
      "15/15 [==============================] - 0s 7ms/step - loss: 0.6391 - accuracy: 0.6639 - val_loss: 0.5257 - val_accuracy: 0.8327\n",
      "Epoch 108/200\n",
      "15/15 [==============================] - 0s 8ms/step - loss: 0.6387 - accuracy: 0.6684 - val_loss: 0.5324 - val_accuracy: 0.8327\n",
      "Epoch 109/200\n",
      "15/15 [==============================] - 0s 8ms/step - loss: 0.6361 - accuracy: 0.6689 - val_loss: 0.5467 - val_accuracy: 0.8327\n",
      "Epoch 110/200\n",
      "15/15 [==============================] - 0s 8ms/step - loss: 0.6403 - accuracy: 0.6657 - val_loss: 0.5117 - val_accuracy: 0.8327\n",
      "Epoch 111/200\n",
      "15/15 [==============================] - 0s 7ms/step - loss: 0.6365 - accuracy: 0.6645 - val_loss: 0.5208 - val_accuracy: 0.8327\n",
      "Epoch 112/200\n",
      "15/15 [==============================] - 0s 7ms/step - loss: 0.6315 - accuracy: 0.6734 - val_loss: 0.5575 - val_accuracy: 0.8327\n",
      "Epoch 113/200\n",
      "15/15 [==============================] - 0s 7ms/step - loss: 0.6346 - accuracy: 0.6715 - val_loss: 0.5209 - val_accuracy: 0.8327\n",
      "Epoch 114/200\n",
      "15/15 [==============================] - 0s 8ms/step - loss: 0.6372 - accuracy: 0.6666 - val_loss: 0.5033 - val_accuracy: 0.8327\n",
      "Epoch 115/200\n",
      "15/15 [==============================] - 0s 7ms/step - loss: 0.6375 - accuracy: 0.6659 - val_loss: 0.5399 - val_accuracy: 0.8327\n",
      "Epoch 116/200\n"
     ]
    },
    {
     "name": "stdout",
     "output_type": "stream",
     "text": [
      "15/15 [==============================] - 0s 7ms/step - loss: 0.6392 - accuracy: 0.6629 - val_loss: 0.5096 - val_accuracy: 0.8327\n",
      "Epoch 117/200\n",
      "15/15 [==============================] - 0s 7ms/step - loss: 0.6407 - accuracy: 0.6631 - val_loss: 0.5436 - val_accuracy: 0.8327\n",
      "Epoch 118/200\n",
      "15/15 [==============================] - 0s 7ms/step - loss: 0.6394 - accuracy: 0.6642 - val_loss: 0.5815 - val_accuracy: 0.8327\n",
      "Epoch 119/200\n",
      "15/15 [==============================] - 0s 7ms/step - loss: 0.6368 - accuracy: 0.6664 - val_loss: 0.5300 - val_accuracy: 0.8327\n",
      "Epoch 120/200\n",
      "15/15 [==============================] - 0s 7ms/step - loss: 0.6353 - accuracy: 0.6697 - val_loss: 0.5474 - val_accuracy: 0.8327\n",
      "Epoch 121/200\n",
      "15/15 [==============================] - 0s 7ms/step - loss: 0.6346 - accuracy: 0.6678 - val_loss: 0.5407 - val_accuracy: 0.8327\n",
      "Epoch 122/200\n",
      "15/15 [==============================] - 0s 7ms/step - loss: 0.6402 - accuracy: 0.6650 - val_loss: 0.5666 - val_accuracy: 0.8327\n",
      "Epoch 123/200\n",
      "15/15 [==============================] - 0s 7ms/step - loss: 0.6404 - accuracy: 0.6670 - val_loss: 0.5395 - val_accuracy: 0.8327\n",
      "Epoch 124/200\n",
      "15/15 [==============================] - 0s 7ms/step - loss: 0.6371 - accuracy: 0.6709 - val_loss: 0.5390 - val_accuracy: 0.8327\n",
      "Epoch 125/200\n",
      "15/15 [==============================] - 0s 7ms/step - loss: 0.6390 - accuracy: 0.6640 - val_loss: 0.4861 - val_accuracy: 0.8327\n",
      "Epoch 126/200\n",
      "15/15 [==============================] - 0s 7ms/step - loss: 0.6360 - accuracy: 0.6721 - val_loss: 0.5335 - val_accuracy: 0.8327\n",
      "Epoch 127/200\n",
      "15/15 [==============================] - 0s 7ms/step - loss: 0.6417 - accuracy: 0.6606 - val_loss: 0.5102 - val_accuracy: 0.8327\n",
      "Epoch 128/200\n",
      "15/15 [==============================] - 0s 7ms/step - loss: 0.6346 - accuracy: 0.6709 - val_loss: 0.5318 - val_accuracy: 0.8327\n",
      "Epoch 129/200\n",
      "15/15 [==============================] - 0s 7ms/step - loss: 0.6359 - accuracy: 0.6695 - val_loss: 0.5602 - val_accuracy: 0.8327\n",
      "Epoch 130/200\n",
      "15/15 [==============================] - 0s 18ms/step - loss: 0.6348 - accuracy: 0.6717 - val_loss: 0.5417 - val_accuracy: 0.8327\n",
      "Epoch 131/200\n",
      "15/15 [==============================] - 0s 7ms/step - loss: 0.6330 - accuracy: 0.6742 - val_loss: 0.5286 - val_accuracy: 0.8327\n",
      "Epoch 132/200\n",
      "15/15 [==============================] - 0s 8ms/step - loss: 0.6400 - accuracy: 0.6643 - val_loss: 0.5177 - val_accuracy: 0.8327\n",
      "Epoch 133/200\n",
      "15/15 [==============================] - 0s 7ms/step - loss: 0.6372 - accuracy: 0.6670 - val_loss: 0.5312 - val_accuracy: 0.8327\n",
      "Epoch 134/200\n",
      "15/15 [==============================] - 0s 7ms/step - loss: 0.6306 - accuracy: 0.6750 - val_loss: 0.5584 - val_accuracy: 0.8327\n",
      "Epoch 135/200\n",
      "15/15 [==============================] - 0s 7ms/step - loss: 0.6378 - accuracy: 0.6650 - val_loss: 0.5115 - val_accuracy: 0.8327\n",
      "Epoch 136/200\n",
      "15/15 [==============================] - 0s 7ms/step - loss: 0.6389 - accuracy: 0.6657 - val_loss: 0.5263 - val_accuracy: 0.8327\n",
      "Epoch 137/200\n",
      "15/15 [==============================] - 0s 7ms/step - loss: 0.6427 - accuracy: 0.6587 - val_loss: 0.5139 - val_accuracy: 0.8327\n",
      "Epoch 138/200\n",
      "15/15 [==============================] - 0s 7ms/step - loss: 0.6366 - accuracy: 0.6688 - val_loss: 0.5105 - val_accuracy: 0.8327\n",
      "Epoch 139/200\n",
      "15/15 [==============================] - 0s 7ms/step - loss: 0.6457 - accuracy: 0.6557 - val_loss: 0.4773 - val_accuracy: 0.8327\n",
      "Epoch 140/200\n",
      "15/15 [==============================] - 0s 7ms/step - loss: 0.6363 - accuracy: 0.6703 - val_loss: 0.5452 - val_accuracy: 0.8327\n",
      "Epoch 141/200\n",
      "15/15 [==============================] - 0s 7ms/step - loss: 0.6362 - accuracy: 0.6698 - val_loss: 0.5260 - val_accuracy: 0.8327\n",
      "Epoch 142/200\n",
      "15/15 [==============================] - 0s 7ms/step - loss: 0.6327 - accuracy: 0.6729 - val_loss: 0.5263 - val_accuracy: 0.8327\n",
      "Epoch 143/200\n",
      "15/15 [==============================] - 0s 7ms/step - loss: 0.6410 - accuracy: 0.6611 - val_loss: 0.4792 - val_accuracy: 0.8327\n",
      "Epoch 144/200\n",
      "15/15 [==============================] - 0s 8ms/step - loss: 0.6385 - accuracy: 0.6666 - val_loss: 0.5165 - val_accuracy: 0.8327\n",
      "Epoch 145/200\n",
      "15/15 [==============================] - 0s 7ms/step - loss: 0.6343 - accuracy: 0.6702 - val_loss: 0.5249 - val_accuracy: 0.8327\n",
      "Epoch 146/200\n",
      "15/15 [==============================] - 0s 8ms/step - loss: 0.6397 - accuracy: 0.6648 - val_loss: 0.5109 - val_accuracy: 0.8327\n",
      "Epoch 147/200\n",
      "15/15 [==============================] - 0s 8ms/step - loss: 0.6409 - accuracy: 0.6646 - val_loss: 0.5255 - val_accuracy: 0.8327\n",
      "Epoch 148/200\n",
      "15/15 [==============================] - 0s 9ms/step - loss: 0.6385 - accuracy: 0.6670 - val_loss: 0.4874 - val_accuracy: 0.8327\n",
      "Epoch 149/200\n",
      "15/15 [==============================] - 0s 9ms/step - loss: 0.6378 - accuracy: 0.6673 - val_loss: 0.5039 - val_accuracy: 0.8327\n",
      "Epoch 150/200\n",
      "15/15 [==============================] - 0s 9ms/step - loss: 0.6388 - accuracy: 0.6640 - val_loss: 0.5392 - val_accuracy: 0.8327\n",
      "Epoch 151/200\n",
      "15/15 [==============================] - 0s 8ms/step - loss: 0.6395 - accuracy: 0.6667 - val_loss: 0.5044 - val_accuracy: 0.8327\n",
      "Epoch 152/200\n",
      "15/15 [==============================] - 0s 7ms/step - loss: 0.6353 - accuracy: 0.6708 - val_loss: 0.5300 - val_accuracy: 0.8327\n",
      "Epoch 153/200\n",
      "15/15 [==============================] - 0s 7ms/step - loss: 0.6376 - accuracy: 0.6657 - val_loss: 0.5438 - val_accuracy: 0.8327\n",
      "Epoch 154/200\n",
      "15/15 [==============================] - 0s 8ms/step - loss: 0.6355 - accuracy: 0.6699 - val_loss: 0.5640 - val_accuracy: 0.8327\n",
      "Epoch 155/200\n",
      "15/15 [==============================] - 0s 8ms/step - loss: 0.6403 - accuracy: 0.6649 - val_loss: 0.5500 - val_accuracy: 0.8327\n",
      "Epoch 156/200\n",
      "15/15 [==============================] - 0s 8ms/step - loss: 0.6426 - accuracy: 0.6593 - val_loss: 0.4885 - val_accuracy: 0.8327\n",
      "Epoch 157/200\n",
      "15/15 [==============================] - 0s 7ms/step - loss: 0.6380 - accuracy: 0.6666 - val_loss: 0.5013 - val_accuracy: 0.8327\n",
      "Epoch 158/200\n",
      "15/15 [==============================] - 0s 8ms/step - loss: 0.6377 - accuracy: 0.6677 - val_loss: 0.5135 - val_accuracy: 0.8327\n",
      "Epoch 159/200\n",
      "15/15 [==============================] - 0s 8ms/step - loss: 0.6422 - accuracy: 0.6600 - val_loss: 0.4908 - val_accuracy: 0.8327\n",
      "Epoch 160/200\n",
      "15/15 [==============================] - 0s 8ms/step - loss: 0.6366 - accuracy: 0.6700 - val_loss: 0.5025 - val_accuracy: 0.8327\n",
      "Epoch 161/200\n",
      "15/15 [==============================] - 0s 7ms/step - loss: 0.6392 - accuracy: 0.6654 - val_loss: 0.5002 - val_accuracy: 0.8327\n",
      "Epoch 162/200\n",
      "15/15 [==============================] - 0s 8ms/step - loss: 0.6364 - accuracy: 0.6705 - val_loss: 0.5375 - val_accuracy: 0.8327\n",
      "Epoch 163/200\n",
      "15/15 [==============================] - 0s 7ms/step - loss: 0.6397 - accuracy: 0.6628 - val_loss: 0.5251 - val_accuracy: 0.8327\n",
      "Epoch 164/200\n",
      "15/15 [==============================] - 0s 7ms/step - loss: 0.6357 - accuracy: 0.6708 - val_loss: 0.5396 - val_accuracy: 0.8327\n",
      "Epoch 165/200\n",
      "15/15 [==============================] - 0s 7ms/step - loss: 0.6371 - accuracy: 0.6691 - val_loss: 0.5063 - val_accuracy: 0.8327\n",
      "Epoch 166/200\n",
      "15/15 [==============================] - 0s 7ms/step - loss: 0.6391 - accuracy: 0.6659 - val_loss: 0.5147 - val_accuracy: 0.8327\n",
      "Epoch 167/200\n",
      "15/15 [==============================] - 0s 8ms/step - loss: 0.6304 - accuracy: 0.6760 - val_loss: 0.5596 - val_accuracy: 0.8327\n",
      "Epoch 168/200\n",
      "15/15 [==============================] - 0s 7ms/step - loss: 0.6375 - accuracy: 0.6718 - val_loss: 0.5525 - val_accuracy: 0.8327\n",
      "Epoch 169/200\n",
      "15/15 [==============================] - 0s 7ms/step - loss: 0.6363 - accuracy: 0.6693 - val_loss: 0.4934 - val_accuracy: 0.8327\n",
      "Epoch 170/200\n",
      "15/15 [==============================] - 0s 8ms/step - loss: 0.6364 - accuracy: 0.6677 - val_loss: 0.5192 - val_accuracy: 0.8327\n",
      "Epoch 171/200\n",
      "15/15 [==============================] - 0s 8ms/step - loss: 0.6326 - accuracy: 0.6736 - val_loss: 0.5047 - val_accuracy: 0.8327\n",
      "Epoch 172/200\n",
      "15/15 [==============================] - 0s 7ms/step - loss: 0.6377 - accuracy: 0.6675 - val_loss: 0.5252 - val_accuracy: 0.8327\n",
      "Epoch 173/200\n"
     ]
    },
    {
     "name": "stdout",
     "output_type": "stream",
     "text": [
      "15/15 [==============================] - 0s 7ms/step - loss: 0.6415 - accuracy: 0.6625 - val_loss: 0.5094 - val_accuracy: 0.8327\n",
      "Epoch 174/200\n",
      "15/15 [==============================] - 0s 8ms/step - loss: 0.6454 - accuracy: 0.6586 - val_loss: 0.5074 - val_accuracy: 0.8327\n",
      "Epoch 175/200\n",
      "15/15 [==============================] - 0s 7ms/step - loss: 0.6376 - accuracy: 0.6669 - val_loss: 0.5518 - val_accuracy: 0.8327\n",
      "Epoch 176/200\n",
      "15/15 [==============================] - 0s 7ms/step - loss: 0.6365 - accuracy: 0.6712 - val_loss: 0.5627 - val_accuracy: 0.8327\n",
      "Epoch 177/200\n",
      "15/15 [==============================] - 0s 7ms/step - loss: 0.6370 - accuracy: 0.6690 - val_loss: 0.5200 - val_accuracy: 0.8327\n",
      "Epoch 178/200\n",
      "15/15 [==============================] - 0s 7ms/step - loss: 0.6412 - accuracy: 0.6620 - val_loss: 0.5074 - val_accuracy: 0.8327\n",
      "Epoch 179/200\n",
      "15/15 [==============================] - 0s 7ms/step - loss: 0.6368 - accuracy: 0.6699 - val_loss: 0.5526 - val_accuracy: 0.8327\n",
      "Epoch 180/200\n",
      "15/15 [==============================] - 0s 8ms/step - loss: 0.6352 - accuracy: 0.6719 - val_loss: 0.5655 - val_accuracy: 0.8327\n",
      "Epoch 181/200\n",
      "15/15 [==============================] - 0s 8ms/step - loss: 0.6409 - accuracy: 0.6645 - val_loss: 0.5105 - val_accuracy: 0.8327\n",
      "Epoch 182/200\n",
      "15/15 [==============================] - 0s 8ms/step - loss: 0.6345 - accuracy: 0.6720 - val_loss: 0.5481 - val_accuracy: 0.8327\n",
      "Epoch 183/200\n",
      "15/15 [==============================] - 0s 7ms/step - loss: 0.6414 - accuracy: 0.6618 - val_loss: 0.5406 - val_accuracy: 0.8327\n",
      "Epoch 184/200\n",
      "15/15 [==============================] - 0s 8ms/step - loss: 0.6378 - accuracy: 0.6663 - val_loss: 0.5187 - val_accuracy: 0.8327\n",
      "Epoch 185/200\n",
      "15/15 [==============================] - 0s 8ms/step - loss: 0.6337 - accuracy: 0.6711 - val_loss: 0.5758 - val_accuracy: 0.8327\n",
      "Epoch 186/200\n",
      "15/15 [==============================] - 0s 7ms/step - loss: 0.6388 - accuracy: 0.6696 - val_loss: 0.5262 - val_accuracy: 0.8327\n",
      "Epoch 187/200\n",
      "15/15 [==============================] - 0s 8ms/step - loss: 0.6372 - accuracy: 0.6669 - val_loss: 0.5400 - val_accuracy: 0.8327\n",
      "Epoch 188/200\n",
      "15/15 [==============================] - 0s 7ms/step - loss: 0.6364 - accuracy: 0.6684 - val_loss: 0.6024 - val_accuracy: 0.8327\n",
      "Epoch 189/200\n",
      "15/15 [==============================] - 0s 7ms/step - loss: 0.6401 - accuracy: 0.6710 - val_loss: 0.5852 - val_accuracy: 0.8327\n",
      "Epoch 190/200\n",
      "15/15 [==============================] - 0s 8ms/step - loss: 0.6387 - accuracy: 0.6657 - val_loss: 0.5154 - val_accuracy: 0.8327\n",
      "Epoch 191/200\n",
      "15/15 [==============================] - 0s 8ms/step - loss: 0.6345 - accuracy: 0.6727 - val_loss: 0.5099 - val_accuracy: 0.8327\n",
      "Epoch 192/200\n",
      "15/15 [==============================] - 0s 7ms/step - loss: 0.6371 - accuracy: 0.6685 - val_loss: 0.5300 - val_accuracy: 0.8327\n",
      "Epoch 193/200\n",
      "15/15 [==============================] - 0s 8ms/step - loss: 0.6347 - accuracy: 0.6721 - val_loss: 0.5290 - val_accuracy: 0.8327\n",
      "Epoch 194/200\n",
      "15/15 [==============================] - 0s 8ms/step - loss: 0.6415 - accuracy: 0.6626 - val_loss: 0.4902 - val_accuracy: 0.8327\n",
      "Epoch 195/200\n",
      "15/15 [==============================] - 0s 7ms/step - loss: 0.6384 - accuracy: 0.6674 - val_loss: 0.5324 - val_accuracy: 0.8327\n",
      "Epoch 196/200\n",
      "15/15 [==============================] - 0s 7ms/step - loss: 0.6434 - accuracy: 0.6571 - val_loss: 0.5045 - val_accuracy: 0.8327\n",
      "Epoch 197/200\n",
      "15/15 [==============================] - 0s 8ms/step - loss: 0.6427 - accuracy: 0.6599 - val_loss: 0.5033 - val_accuracy: 0.8327\n",
      "Epoch 198/200\n",
      "15/15 [==============================] - 0s 7ms/step - loss: 0.6354 - accuracy: 0.6705 - val_loss: 0.4987 - val_accuracy: 0.8327\n",
      "Epoch 199/200\n",
      "15/15 [==============================] - 0s 8ms/step - loss: 0.6453 - accuracy: 0.6594 - val_loss: 0.4828 - val_accuracy: 0.8327\n",
      "Epoch 200/200\n",
      "15/15 [==============================] - 0s 8ms/step - loss: 0.6412 - accuracy: 0.6680 - val_loss: 0.4917 - val_accuracy: 0.8327\n",
      "Time:  24.75034437099748\n"
     ]
    }
   ],
   "source": [
    "import timeit\n",
    "\n",
    "start = timeit.default_timer()\n",
    "\n",
    "#Your statements here\n",
    "\n",
    "bestNN2=create_modelWithDropBatchOpt(hidden_layers= 6, learning_rate= 0.05)\n",
    "history3 = bestNN2.fit(\n",
    "     pca_finalDF, y_train_res,\n",
    "    validation_data=(pcavalidData, y_valid),\n",
    "    batch_size=512,\n",
    "    epochs=200,\n",
    "#     callbacks=[early_stopping],\n",
    ")\n",
    "stop = timeit.default_timer()\n",
    "\n",
    "print('Time: ', stop - start)  \n"
   ]
  },
  {
   "cell_type": "code",
   "execution_count": 61,
   "metadata": {},
   "outputs": [
    {
     "name": "stderr",
     "output_type": "stream",
     "text": [
      "/home/dheekshitha-vibha/miniconda3/envs/myenv/lib/python3.6/site-packages/tensorflow/python/keras/engine/sequential.py:450: UserWarning: `model.predict_classes()` is deprecated and will be removed after 2021-01-01. Please use instead:* `np.argmax(model.predict(x), axis=-1)`,   if your model does multi-class classification   (e.g. if it uses a `softmax` last-layer activation).* `(model.predict(x) > 0.5).astype(\"int32\")`,   if your model does binary classification   (e.g. if it uses a `sigmoid` last-layer activation).\n",
      "  warnings.warn('`model.predict_classes()` is deprecated and '\n"
     ]
    },
    {
     "name": "stdout",
     "output_type": "stream",
     "text": [
      "Accuracy_Score: 66.67100977198697 %\n",
      "precision_score: 66.67100977198697 %\n",
      "recall_score: 100.0 %\n"
     ]
    },
    {
     "data": {
      "image/png": "[encoded data removed]",
      "text/plain": [
       "<Figure size 432x288 with 1 Axes>"
      ]
     },
     "metadata": {
      "needs_background": "light"
     },
     "output_type": "display_data"
    },
    {
     "data": {
      "image/png": "[encoded data removed]",
      "text/plain": [
       "<Figure size 432x288 with 1 Axes>"
      ]
     },
     "metadata": {
      "needs_background": "light"
     },
     "output_type": "display_data"
    }
   ],
   "source": [
    "history_df = pd.DataFrame(history3.history)\n",
    "history_df.loc[:, ['loss', 'val_loss']].plot(title=\"Cross-entropy\")\n",
    "history_df.loc[:, ['accuracy', 'val_accuracy']].plot(title=\"Accuracy\")\n",
    "\n",
    "y_pred_SVM = bestNN2.predict_classes(pca_finalDF)\n",
    "\n",
    "\n",
    "# print('Classification report: \\n', metrics.classification_report(y_test, model))\n",
    "print('Accuracy_Score:',metrics.accuracy_score(y_train_res, y_pred_SVM)*100,'%')\n",
    "\n",
    "\n",
    "print('precision_score:',metrics.precision_score(y_train_res, y_pred_SVM)*100,'%')\n",
    "\n",
    "print('recall_score:',metrics.recall_score(y_train_res, y_pred_SVM)*100,'%')"
   ]
  },
  {
   "cell_type": "code",
   "execution_count": 73,
   "metadata": {},
   "outputs": [
    {
     "data": {
      "text/plain": [
       "(7675, 23)"
      ]
     },
     "execution_count": 73,
     "metadata": {},
     "output_type": "execute_result"
    }
   ],
   "source": [
    "pca_finalDF.shape"
   ]
  },
  {
   "cell_type": "code",
   "execution_count": 66,
   "metadata": {
    "scrolled": true
   },
   "outputs": [],
   "source": [
    "# scaled_XKmeans = scaler.transform(pca_finalDF)\n",
    "# scaled_XValid = scaler.transform(pcavalidData)\n",
    "\n",
    "\n",
    "# scaled_x_valid=scaler.transform(x_valid)\n",
    "\n",
    "\n",
    "# df['k_means']=kmeanModel.predict(scaled_x_train)\n",
    "# df['target']=y_train_res\n",
    "from sklearn.preprocessing import normalize\n",
    "scaled_XKmeans=normalize(pca_finalDF, norm='l2', axis=1, copy=True, return_norm=False)\n",
    "scaled_XValid=normalize(pcavalidData, norm='l2', axis=1, copy=True, return_norm=False)"
   ]
  },
  {
   "cell_type": "code",
   "execution_count": 69,
   "metadata": {
    "scrolled": true
   },
   "outputs": [
    {
     "name": "stdout",
     "output_type": "stream",
     "text": [
      "Epoch 1/200\n",
      "15/15 [==============================] - 2s 26ms/step - loss: 0.7435 - accuracy: 0.5950 - val_loss: 0.5494 - val_accuracy: 0.8327\n",
      "Epoch 2/200\n",
      "15/15 [==============================] - 0s 9ms/step - loss: 0.6377 - accuracy: 0.6664 - val_loss: 0.5285 - val_accuracy: 0.8327\n",
      "Epoch 3/200\n",
      "15/15 [==============================] - 0s 9ms/step - loss: 0.6377 - accuracy: 0.6661 - val_loss: 0.5250 - val_accuracy: 0.8327\n",
      "Epoch 4/200\n",
      "15/15 [==============================] - 0s 8ms/step - loss: 0.6375 - accuracy: 0.6647 - val_loss: 0.5173 - val_accuracy: 0.8327\n",
      "Epoch 5/200\n",
      "15/15 [==============================] - 0s 8ms/step - loss: 0.6373 - accuracy: 0.6663 - val_loss: 0.5196 - val_accuracy: 0.8327\n",
      "Epoch 6/200\n",
      "15/15 [==============================] - 0s 8ms/step - loss: 0.6351 - accuracy: 0.6663 - val_loss: 0.5102 - val_accuracy: 0.8327\n",
      "Epoch 7/200\n",
      "15/15 [==============================] - 0s 9ms/step - loss: 0.6244 - accuracy: 0.6754 - val_loss: 0.4357 - val_accuracy: 0.8327\n",
      "Epoch 8/200\n",
      "15/15 [==============================] - 0s 8ms/step - loss: 0.5994 - accuracy: 0.6909 - val_loss: 0.3264 - val_accuracy: 0.8850\n",
      "Epoch 9/200\n",
      "15/15 [==============================] - 0s 8ms/step - loss: 0.5215 - accuracy: 0.7609 - val_loss: 0.6027 - val_accuracy: 0.8376\n",
      "Epoch 10/200\n",
      "15/15 [==============================] - 0s 7ms/step - loss: 0.4468 - accuracy: 0.8175 - val_loss: 0.4746 - val_accuracy: 0.8559\n",
      "Epoch 11/200\n",
      "15/15 [==============================] - 0s 8ms/step - loss: 0.4283 - accuracy: 0.8383 - val_loss: 0.5448 - val_accuracy: 0.8692\n",
      "Epoch 12/200\n",
      "15/15 [==============================] - 0s 8ms/step - loss: 0.4054 - accuracy: 0.8523 - val_loss: 0.3289 - val_accuracy: 0.8731\n",
      "Epoch 13/200\n",
      "15/15 [==============================] - 0s 8ms/step - loss: 0.3866 - accuracy: 0.8622 - val_loss: 0.3227 - val_accuracy: 0.8860\n",
      "Epoch 14/200\n",
      "15/15 [==============================] - 0s 8ms/step - loss: 0.3915 - accuracy: 0.8604 - val_loss: 0.3365 - val_accuracy: 0.8855\n",
      "Epoch 15/200\n",
      "15/15 [==============================] - 0s 8ms/step - loss: 0.3807 - accuracy: 0.8662 - val_loss: 0.4410 - val_accuracy: 0.8692\n",
      "Epoch 16/200\n",
      "15/15 [==============================] - 0s 8ms/step - loss: 0.3740 - accuracy: 0.8691 - val_loss: 0.4294 - val_accuracy: 0.8613\n",
      "Epoch 17/200\n",
      "15/15 [==============================] - 0s 8ms/step - loss: 0.3758 - accuracy: 0.8645 - val_loss: 0.3788 - val_accuracy: 0.8697\n",
      "Epoch 18/200\n",
      "15/15 [==============================] - 0s 8ms/step - loss: 0.3571 - accuracy: 0.8765 - val_loss: 0.3880 - val_accuracy: 0.8707\n",
      "Epoch 19/200\n",
      "15/15 [==============================] - 0s 8ms/step - loss: 0.3505 - accuracy: 0.8801 - val_loss: 0.5118 - val_accuracy: 0.8450\n",
      "Epoch 20/200\n",
      "15/15 [==============================] - 0s 8ms/step - loss: 0.3550 - accuracy: 0.8777 - val_loss: 0.3928 - val_accuracy: 0.8771\n",
      "Epoch 21/200\n",
      "15/15 [==============================] - 0s 8ms/step - loss: 0.3552 - accuracy: 0.8721 - val_loss: 0.3553 - val_accuracy: 0.8810\n",
      "Epoch 22/200\n",
      "15/15 [==============================] - 0s 8ms/step - loss: 0.3361 - accuracy: 0.8825 - val_loss: 0.3752 - val_accuracy: 0.8722\n",
      "Epoch 23/200\n",
      "15/15 [==============================] - 0s 8ms/step - loss: 0.3368 - accuracy: 0.8891 - val_loss: 0.4175 - val_accuracy: 0.8534\n",
      "Epoch 24/200\n",
      "15/15 [==============================] - 0s 8ms/step - loss: 0.3283 - accuracy: 0.8880 - val_loss: 0.4068 - val_accuracy: 0.8554\n",
      "Epoch 25/200\n",
      "15/15 [==============================] - 0s 8ms/step - loss: 0.3466 - accuracy: 0.8827 - val_loss: 0.3139 - val_accuracy: 0.8919\n",
      "Epoch 26/200\n",
      "15/15 [==============================] - 0s 8ms/step - loss: 0.3380 - accuracy: 0.8846 - val_loss: 0.3187 - val_accuracy: 0.8939\n",
      "Epoch 27/200\n",
      "15/15 [==============================] - 0s 9ms/step - loss: 0.3318 - accuracy: 0.8818 - val_loss: 0.3838 - val_accuracy: 0.8776\n",
      "Epoch 28/200\n",
      "15/15 [==============================] - 0s 9ms/step - loss: 0.3121 - accuracy: 0.8967 - val_loss: 0.3264 - val_accuracy: 0.8875\n",
      "Epoch 29/200\n",
      "15/15 [==============================] - 0s 8ms/step - loss: 0.3277 - accuracy: 0.8839 - val_loss: 0.3804 - val_accuracy: 0.8712\n",
      "Epoch 30/200\n",
      "15/15 [==============================] - 0s 8ms/step - loss: 0.3211 - accuracy: 0.8883 - val_loss: 0.3823 - val_accuracy: 0.8692\n",
      "Epoch 31/200\n",
      "15/15 [==============================] - 0s 8ms/step - loss: 0.3235 - accuracy: 0.8891 - val_loss: 0.3476 - val_accuracy: 0.8850\n",
      "Epoch 32/200\n",
      "15/15 [==============================] - 0s 8ms/step - loss: 0.3248 - accuracy: 0.8899 - val_loss: 0.3857 - val_accuracy: 0.8672\n",
      "Epoch 33/200\n",
      "15/15 [==============================] - 0s 9ms/step - loss: 0.3039 - accuracy: 0.8949 - val_loss: 0.3921 - val_accuracy: 0.8628\n",
      "Epoch 34/200\n",
      "15/15 [==============================] - 0s 8ms/step - loss: 0.3054 - accuracy: 0.8941 - val_loss: 0.3831 - val_accuracy: 0.8672\n",
      "Epoch 35/200\n",
      "15/15 [==============================] - 0s 8ms/step - loss: 0.3204 - accuracy: 0.8847 - val_loss: 0.3445 - val_accuracy: 0.8815\n",
      "Epoch 36/200\n",
      "15/15 [==============================] - 0s 8ms/step - loss: 0.3062 - accuracy: 0.8944 - val_loss: 0.3268 - val_accuracy: 0.8885\n",
      "Epoch 37/200\n",
      "15/15 [==============================] - 0s 8ms/step - loss: 0.3088 - accuracy: 0.8946 - val_loss: 0.3863 - val_accuracy: 0.8653\n",
      "Epoch 38/200\n",
      "15/15 [==============================] - 0s 8ms/step - loss: 0.3144 - accuracy: 0.8903 - val_loss: 0.3871 - val_accuracy: 0.8702\n",
      "Epoch 39/200\n",
      "15/15 [==============================] - 0s 8ms/step - loss: 0.2857 - accuracy: 0.9013 - val_loss: 0.3770 - val_accuracy: 0.8682\n",
      "Epoch 40/200\n",
      "15/15 [==============================] - 0s 8ms/step - loss: 0.3007 - accuracy: 0.8947 - val_loss: 0.3317 - val_accuracy: 0.8835\n",
      "Epoch 41/200\n",
      "15/15 [==============================] - 0s 8ms/step - loss: 0.3023 - accuracy: 0.8937 - val_loss: 0.3374 - val_accuracy: 0.8806\n",
      "Epoch 42/200\n",
      "15/15 [==============================] - 0s 8ms/step - loss: 0.2949 - accuracy: 0.8980 - val_loss: 0.3208 - val_accuracy: 0.8939\n",
      "Epoch 43/200\n",
      "15/15 [==============================] - 0s 8ms/step - loss: 0.2878 - accuracy: 0.8982 - val_loss: 0.3446 - val_accuracy: 0.8781\n",
      "Epoch 44/200\n",
      "15/15 [==============================] - 0s 8ms/step - loss: 0.2950 - accuracy: 0.8965 - val_loss: 0.3129 - val_accuracy: 0.8929\n",
      "Epoch 45/200\n",
      "15/15 [==============================] - 0s 8ms/step - loss: 0.2938 - accuracy: 0.8935 - val_loss: 0.2862 - val_accuracy: 0.8988\n",
      "Epoch 46/200\n",
      "15/15 [==============================] - 0s 9ms/step - loss: 0.2953 - accuracy: 0.8931 - val_loss: 0.3090 - val_accuracy: 0.8959\n",
      "Epoch 47/200\n",
      "15/15 [==============================] - 0s 8ms/step - loss: 0.2793 - accuracy: 0.8986 - val_loss: 0.3113 - val_accuracy: 0.8963\n",
      "Epoch 48/200\n",
      "15/15 [==============================] - 0s 8ms/step - loss: 0.2965 - accuracy: 0.8939 - val_loss: 0.3163 - val_accuracy: 0.8978\n",
      "Epoch 49/200\n",
      "15/15 [==============================] - 0s 8ms/step - loss: 0.2815 - accuracy: 0.9015 - val_loss: 0.2844 - val_accuracy: 0.9042\n",
      "Epoch 50/200\n",
      "15/15 [==============================] - 0s 8ms/step - loss: 0.2947 - accuracy: 0.8959 - val_loss: 0.3008 - val_accuracy: 0.8983\n",
      "Epoch 51/200\n",
      "15/15 [==============================] - 0s 8ms/step - loss: 0.2746 - accuracy: 0.9048 - val_loss: 0.2893 - val_accuracy: 0.9052\n",
      "Epoch 52/200\n",
      "15/15 [==============================] - 0s 8ms/step - loss: 0.2959 - accuracy: 0.8964 - val_loss: 0.2761 - val_accuracy: 0.9047\n",
      "Epoch 53/200\n",
      "15/15 [==============================] - 0s 9ms/step - loss: 0.2839 - accuracy: 0.9011 - val_loss: 0.2801 - val_accuracy: 0.9018\n",
      "Epoch 54/200\n",
      "15/15 [==============================] - 0s 10ms/step - loss: 0.2822 - accuracy: 0.9045 - val_loss: 0.2968 - val_accuracy: 0.9013\n",
      "Epoch 55/200\n",
      "15/15 [==============================] - 0s 8ms/step - loss: 0.2764 - accuracy: 0.9054 - val_loss: 0.2921 - val_accuracy: 0.9028\n",
      "Epoch 56/200\n",
      "15/15 [==============================] - 0s 8ms/step - loss: 0.2864 - accuracy: 0.8983 - val_loss: 0.2975 - val_accuracy: 0.8929\n",
      "Epoch 57/200\n",
      "15/15 [==============================] - 0s 8ms/step - loss: 0.2792 - accuracy: 0.9060 - val_loss: 0.2905 - val_accuracy: 0.9018\n",
      "Epoch 58/200\n",
      "15/15 [==============================] - 0s 8ms/step - loss: 0.2734 - accuracy: 0.9064 - val_loss: 0.2827 - val_accuracy: 0.9077\n"
     ]
    },
    {
     "name": "stdout",
     "output_type": "stream",
     "text": [
      "Epoch 59/200\n",
      "15/15 [==============================] - 0s 8ms/step - loss: 0.2825 - accuracy: 0.9025 - val_loss: 0.2826 - val_accuracy: 0.9018\n",
      "Epoch 60/200\n",
      "15/15 [==============================] - 0s 9ms/step - loss: 0.2876 - accuracy: 0.8998 - val_loss: 0.2797 - val_accuracy: 0.9067\n",
      "Epoch 61/200\n",
      "15/15 [==============================] - 0s 7ms/step - loss: 0.2842 - accuracy: 0.8991 - val_loss: 0.2864 - val_accuracy: 0.8983\n",
      "Epoch 62/200\n",
      "15/15 [==============================] - 0s 7ms/step - loss: 0.2778 - accuracy: 0.8981 - val_loss: 0.3040 - val_accuracy: 0.8963\n",
      "Epoch 63/200\n",
      "15/15 [==============================] - 0s 7ms/step - loss: 0.2827 - accuracy: 0.9056 - val_loss: 0.3050 - val_accuracy: 0.9028\n",
      "Epoch 64/200\n",
      "15/15 [==============================] - 0s 8ms/step - loss: 0.2751 - accuracy: 0.9001 - val_loss: 0.2752 - val_accuracy: 0.9013\n",
      "Epoch 65/200\n",
      "15/15 [==============================] - 0s 8ms/step - loss: 0.2805 - accuracy: 0.8985 - val_loss: 0.3189 - val_accuracy: 0.8894\n",
      "Epoch 66/200\n",
      "15/15 [==============================] - 0s 7ms/step - loss: 0.2804 - accuracy: 0.9024 - val_loss: 0.2853 - val_accuracy: 0.9008\n",
      "Epoch 67/200\n",
      "15/15 [==============================] - 0s 8ms/step - loss: 0.2784 - accuracy: 0.8986 - val_loss: 0.2729 - val_accuracy: 0.9077\n",
      "Epoch 68/200\n",
      "15/15 [==============================] - 0s 8ms/step - loss: 0.2760 - accuracy: 0.9023 - val_loss: 0.2681 - val_accuracy: 0.9107\n",
      "Epoch 69/200\n",
      "15/15 [==============================] - 0s 9ms/step - loss: 0.2906 - accuracy: 0.8977 - val_loss: 0.2755 - val_accuracy: 0.9047\n",
      "Epoch 70/200\n",
      "15/15 [==============================] - 0s 8ms/step - loss: 0.2780 - accuracy: 0.8997 - val_loss: 0.2784 - val_accuracy: 0.8988\n",
      "Epoch 71/200\n",
      "15/15 [==============================] - 0s 8ms/step - loss: 0.2624 - accuracy: 0.9040 - val_loss: 0.2896 - val_accuracy: 0.9062\n",
      "Epoch 72/200\n",
      "15/15 [==============================] - 0s 7ms/step - loss: 0.2720 - accuracy: 0.9034 - val_loss: 0.2821 - val_accuracy: 0.9072\n",
      "Epoch 73/200\n",
      "15/15 [==============================] - 0s 21ms/step - loss: 0.2592 - accuracy: 0.9099 - val_loss: 0.2983 - val_accuracy: 0.8988\n",
      "Epoch 74/200\n",
      "15/15 [==============================] - 0s 7ms/step - loss: 0.2685 - accuracy: 0.9069 - val_loss: 0.2828 - val_accuracy: 0.8988\n",
      "Epoch 75/200\n",
      "15/15 [==============================] - 0s 8ms/step - loss: 0.2661 - accuracy: 0.9042 - val_loss: 0.2745 - val_accuracy: 0.9072\n",
      "Epoch 76/200\n",
      "15/15 [==============================] - 0s 8ms/step - loss: 0.2816 - accuracy: 0.9012 - val_loss: 0.2911 - val_accuracy: 0.9067\n",
      "Epoch 77/200\n",
      "15/15 [==============================] - 0s 8ms/step - loss: 0.2701 - accuracy: 0.9061 - val_loss: 0.2820 - val_accuracy: 0.8855\n",
      "Epoch 78/200\n",
      "15/15 [==============================] - 0s 8ms/step - loss: 0.2837 - accuracy: 0.8968 - val_loss: 0.2666 - val_accuracy: 0.8944\n",
      "Epoch 79/200\n",
      "15/15 [==============================] - 0s 9ms/step - loss: 0.2694 - accuracy: 0.9036 - val_loss: 0.2761 - val_accuracy: 0.9102\n",
      "Epoch 80/200\n",
      "15/15 [==============================] - 0s 8ms/step - loss: 0.2878 - accuracy: 0.9005 - val_loss: 0.3107 - val_accuracy: 0.8889\n",
      "Epoch 81/200\n",
      "15/15 [==============================] - 0s 8ms/step - loss: 0.2627 - accuracy: 0.9048 - val_loss: 0.2908 - val_accuracy: 0.8865\n",
      "Epoch 82/200\n",
      "15/15 [==============================] - 0s 9ms/step - loss: 0.2738 - accuracy: 0.9043 - val_loss: 0.2977 - val_accuracy: 0.8998\n",
      "Epoch 83/200\n",
      "15/15 [==============================] - 0s 8ms/step - loss: 0.2644 - accuracy: 0.9108 - val_loss: 0.2805 - val_accuracy: 0.8865\n",
      "Epoch 84/200\n",
      "15/15 [==============================] - 0s 8ms/step - loss: 0.2696 - accuracy: 0.9077 - val_loss: 0.2780 - val_accuracy: 0.9077\n",
      "Epoch 85/200\n",
      "15/15 [==============================] - 0s 8ms/step - loss: 0.2639 - accuracy: 0.9065 - val_loss: 0.2812 - val_accuracy: 0.9038\n",
      "Epoch 86/200\n",
      "15/15 [==============================] - 0s 8ms/step - loss: 0.2599 - accuracy: 0.9083 - val_loss: 0.2736 - val_accuracy: 0.8949\n",
      "Epoch 87/200\n",
      "15/15 [==============================] - 0s 8ms/step - loss: 0.2724 - accuracy: 0.9068 - val_loss: 0.2651 - val_accuracy: 0.9087\n",
      "Epoch 88/200\n",
      "15/15 [==============================] - 0s 8ms/step - loss: 0.2602 - accuracy: 0.9057 - val_loss: 0.2681 - val_accuracy: 0.9033\n",
      "Epoch 89/200\n",
      "15/15 [==============================] - 0s 8ms/step - loss: 0.2606 - accuracy: 0.9112 - val_loss: 0.2709 - val_accuracy: 0.9097\n",
      "Epoch 90/200\n",
      "15/15 [==============================] - 0s 8ms/step - loss: 0.2578 - accuracy: 0.9112 - val_loss: 0.2702 - val_accuracy: 0.9052\n",
      "Epoch 91/200\n",
      "15/15 [==============================] - 0s 9ms/step - loss: 0.2704 - accuracy: 0.9042 - val_loss: 0.3077 - val_accuracy: 0.9003\n",
      "Epoch 92/200\n",
      "15/15 [==============================] - 0s 8ms/step - loss: 0.2857 - accuracy: 0.9005 - val_loss: 0.2795 - val_accuracy: 0.9033\n",
      "Epoch 93/200\n",
      "15/15 [==============================] - 0s 8ms/step - loss: 0.2580 - accuracy: 0.9094 - val_loss: 0.2838 - val_accuracy: 0.9072\n",
      "Epoch 94/200\n",
      "15/15 [==============================] - 0s 8ms/step - loss: 0.2705 - accuracy: 0.9085 - val_loss: 0.2885 - val_accuracy: 0.8944\n",
      "Epoch 95/200\n",
      "15/15 [==============================] - 0s 8ms/step - loss: 0.2670 - accuracy: 0.9102 - val_loss: 0.2820 - val_accuracy: 0.8944\n",
      "Epoch 96/200\n",
      "15/15 [==============================] - 0s 9ms/step - loss: 0.2666 - accuracy: 0.9075 - val_loss: 0.2682 - val_accuracy: 0.9028\n",
      "Epoch 97/200\n",
      "15/15 [==============================] - 0s 8ms/step - loss: 0.2683 - accuracy: 0.9044 - val_loss: 0.2669 - val_accuracy: 0.9033\n",
      "Epoch 98/200\n",
      "15/15 [==============================] - 0s 8ms/step - loss: 0.2484 - accuracy: 0.9130 - val_loss: 0.2745 - val_accuracy: 0.8894\n",
      "Epoch 99/200\n",
      "15/15 [==============================] - 0s 8ms/step - loss: 0.2695 - accuracy: 0.9044 - val_loss: 0.2826 - val_accuracy: 0.9023\n",
      "Epoch 100/200\n",
      "15/15 [==============================] - 0s 8ms/step - loss: 0.2661 - accuracy: 0.9066 - val_loss: 0.2632 - val_accuracy: 0.8988\n",
      "Epoch 101/200\n",
      "15/15 [==============================] - 0s 8ms/step - loss: 0.2611 - accuracy: 0.9034 - val_loss: 0.3150 - val_accuracy: 0.8806\n",
      "Epoch 102/200\n",
      "15/15 [==============================] - 0s 8ms/step - loss: 0.2574 - accuracy: 0.9101 - val_loss: 0.2781 - val_accuracy: 0.9047\n",
      "Epoch 103/200\n",
      "15/15 [==============================] - 0s 9ms/step - loss: 0.2596 - accuracy: 0.9103 - val_loss: 0.2810 - val_accuracy: 0.8954\n",
      "Epoch 104/200\n",
      "15/15 [==============================] - 0s 7ms/step - loss: 0.2502 - accuracy: 0.9108 - val_loss: 0.2734 - val_accuracy: 0.8968\n",
      "Epoch 105/200\n",
      "15/15 [==============================] - 0s 8ms/step - loss: 0.2497 - accuracy: 0.9126 - val_loss: 0.2652 - val_accuracy: 0.8959\n",
      "Epoch 106/200\n",
      "15/15 [==============================] - 0s 8ms/step - loss: 0.2531 - accuracy: 0.9089 - val_loss: 0.2608 - val_accuracy: 0.9112\n",
      "Epoch 107/200\n",
      "15/15 [==============================] - 0s 8ms/step - loss: 0.2544 - accuracy: 0.9112 - val_loss: 0.2609 - val_accuracy: 0.9062\n",
      "Epoch 108/200\n",
      "15/15 [==============================] - 0s 8ms/step - loss: 0.2575 - accuracy: 0.9099 - val_loss: 0.2683 - val_accuracy: 0.8983\n",
      "Epoch 109/200\n",
      "15/15 [==============================] - 0s 9ms/step - loss: 0.2547 - accuracy: 0.9105 - val_loss: 0.2704 - val_accuracy: 0.9062\n",
      "Epoch 110/200\n",
      "15/15 [==============================] - 0s 8ms/step - loss: 0.2541 - accuracy: 0.9122 - val_loss: 0.2700 - val_accuracy: 0.8954\n",
      "Epoch 111/200\n",
      "15/15 [==============================] - 0s 8ms/step - loss: 0.2713 - accuracy: 0.9056 - val_loss: 0.2685 - val_accuracy: 0.8988\n",
      "Epoch 112/200\n",
      "15/15 [==============================] - 0s 8ms/step - loss: 0.2535 - accuracy: 0.9084 - val_loss: 0.2721 - val_accuracy: 0.9023\n",
      "Epoch 113/200\n",
      "15/15 [==============================] - 0s 8ms/step - loss: 0.2615 - accuracy: 0.9080 - val_loss: 0.2709 - val_accuracy: 0.9023\n",
      "Epoch 114/200\n",
      "15/15 [==============================] - 0s 9ms/step - loss: 0.2502 - accuracy: 0.9132 - val_loss: 0.2688 - val_accuracy: 0.8988\n",
      "Epoch 115/200\n",
      "15/15 [==============================] - 0s 9ms/step - loss: 0.2566 - accuracy: 0.9067 - val_loss: 0.2752 - val_accuracy: 0.8968\n",
      "Epoch 116/200\n"
     ]
    },
    {
     "name": "stdout",
     "output_type": "stream",
     "text": [
      "15/15 [==============================] - 0s 8ms/step - loss: 0.2446 - accuracy: 0.9148 - val_loss: 0.2814 - val_accuracy: 0.9087\n",
      "Epoch 117/200\n",
      "15/15 [==============================] - 0s 8ms/step - loss: 0.2570 - accuracy: 0.9127 - val_loss: 0.2614 - val_accuracy: 0.9062\n",
      "Epoch 118/200\n",
      "15/15 [==============================] - 0s 8ms/step - loss: 0.2634 - accuracy: 0.9081 - val_loss: 0.2783 - val_accuracy: 0.9008\n",
      "Epoch 119/200\n",
      "15/15 [==============================] - 0s 8ms/step - loss: 0.2426 - accuracy: 0.9161 - val_loss: 0.2830 - val_accuracy: 0.8968\n",
      "Epoch 120/200\n",
      "15/15 [==============================] - 0s 8ms/step - loss: 0.2685 - accuracy: 0.9041 - val_loss: 0.2706 - val_accuracy: 0.8954\n",
      "Epoch 121/200\n",
      "15/15 [==============================] - 0s 9ms/step - loss: 0.2622 - accuracy: 0.9047 - val_loss: 0.3139 - val_accuracy: 0.8894\n",
      "Epoch 122/200\n",
      "15/15 [==============================] - 0s 8ms/step - loss: 0.2671 - accuracy: 0.9058 - val_loss: 0.2701 - val_accuracy: 0.8978\n",
      "Epoch 123/200\n",
      "15/15 [==============================] - 0s 8ms/step - loss: 0.2554 - accuracy: 0.9098 - val_loss: 0.2705 - val_accuracy: 0.9038\n",
      "Epoch 124/200\n",
      "15/15 [==============================] - 0s 8ms/step - loss: 0.2502 - accuracy: 0.9099 - val_loss: 0.2619 - val_accuracy: 0.9018\n",
      "Epoch 125/200\n",
      "15/15 [==============================] - 0s 9ms/step - loss: 0.2558 - accuracy: 0.9091 - val_loss: 0.2795 - val_accuracy: 0.9062\n",
      "Epoch 126/200\n",
      "15/15 [==============================] - 0s 8ms/step - loss: 0.2502 - accuracy: 0.9148 - val_loss: 0.2927 - val_accuracy: 0.8919\n",
      "Epoch 127/200\n",
      "15/15 [==============================] - 0s 8ms/step - loss: 0.2609 - accuracy: 0.9042 - val_loss: 0.2708 - val_accuracy: 0.8988\n",
      "Epoch 128/200\n",
      "15/15 [==============================] - 0s 7ms/step - loss: 0.2651 - accuracy: 0.9075 - val_loss: 0.2572 - val_accuracy: 0.9097\n",
      "Epoch 129/200\n",
      "15/15 [==============================] - 0s 8ms/step - loss: 0.2435 - accuracy: 0.9152 - val_loss: 0.2674 - val_accuracy: 0.9077\n",
      "Epoch 130/200\n",
      "15/15 [==============================] - 0s 9ms/step - loss: 0.2464 - accuracy: 0.9150 - val_loss: 0.3038 - val_accuracy: 0.8904\n",
      "Epoch 131/200\n",
      "15/15 [==============================] - 0s 8ms/step - loss: 0.2603 - accuracy: 0.9139 - val_loss: 0.2737 - val_accuracy: 0.9038\n",
      "Epoch 132/200\n",
      "15/15 [==============================] - 0s 8ms/step - loss: 0.2524 - accuracy: 0.9102 - val_loss: 0.2737 - val_accuracy: 0.9067\n",
      "Epoch 133/200\n",
      "15/15 [==============================] - 0s 8ms/step - loss: 0.2609 - accuracy: 0.9122 - val_loss: 0.2749 - val_accuracy: 0.9062\n",
      "Epoch 134/200\n",
      "15/15 [==============================] - 0s 8ms/step - loss: 0.2643 - accuracy: 0.9058 - val_loss: 0.2786 - val_accuracy: 0.8968\n",
      "Epoch 135/200\n",
      "15/15 [==============================] - 0s 8ms/step - loss: 0.2488 - accuracy: 0.9156 - val_loss: 0.2960 - val_accuracy: 0.8998\n",
      "Epoch 136/200\n",
      "15/15 [==============================] - 0s 8ms/step - loss: 0.2445 - accuracy: 0.9184 - val_loss: 0.2858 - val_accuracy: 0.8954\n",
      "Epoch 137/200\n",
      "15/15 [==============================] - 0s 9ms/step - loss: 0.2408 - accuracy: 0.9170 - val_loss: 0.2796 - val_accuracy: 0.8959\n",
      "Epoch 138/200\n",
      "15/15 [==============================] - 0s 8ms/step - loss: 0.2424 - accuracy: 0.9140 - val_loss: 0.2698 - val_accuracy: 0.9023\n",
      "Epoch 139/200\n",
      "15/15 [==============================] - 0s 8ms/step - loss: 0.2310 - accuracy: 0.9183 - val_loss: 0.2773 - val_accuracy: 0.8983\n",
      "Epoch 140/200\n",
      "15/15 [==============================] - 0s 8ms/step - loss: 0.2437 - accuracy: 0.9144 - val_loss: 0.2722 - val_accuracy: 0.8973\n",
      "Epoch 141/200\n",
      "15/15 [==============================] - 0s 8ms/step - loss: 0.2531 - accuracy: 0.9093 - val_loss: 0.2714 - val_accuracy: 0.8959\n",
      "Epoch 142/200\n",
      "15/15 [==============================] - 0s 7ms/step - loss: 0.2373 - accuracy: 0.9200 - val_loss: 0.2743 - val_accuracy: 0.9042\n",
      "Epoch 143/200\n",
      "15/15 [==============================] - 0s 8ms/step - loss: 0.2574 - accuracy: 0.9144 - val_loss: 0.2801 - val_accuracy: 0.9042\n",
      "Epoch 144/200\n",
      "15/15 [==============================] - 0s 8ms/step - loss: 0.2416 - accuracy: 0.9142 - val_loss: 0.2654 - val_accuracy: 0.9033\n",
      "Epoch 145/200\n",
      "15/15 [==============================] - 0s 7ms/step - loss: 0.2491 - accuracy: 0.9141 - val_loss: 0.2722 - val_accuracy: 0.8998\n",
      "Epoch 146/200\n",
      "15/15 [==============================] - 0s 8ms/step - loss: 0.2453 - accuracy: 0.9127 - val_loss: 0.2736 - val_accuracy: 0.8998\n",
      "Epoch 147/200\n",
      "15/15 [==============================] - 0s 8ms/step - loss: 0.2501 - accuracy: 0.9127 - val_loss: 0.2760 - val_accuracy: 0.9023\n",
      "Epoch 148/200\n",
      "15/15 [==============================] - 0s 8ms/step - loss: 0.2446 - accuracy: 0.9141 - val_loss: 0.2670 - val_accuracy: 0.9097\n",
      "Epoch 149/200\n",
      "15/15 [==============================] - 0s 8ms/step - loss: 0.2380 - accuracy: 0.9189 - val_loss: 0.2843 - val_accuracy: 0.8894\n",
      "Epoch 150/200\n",
      "15/15 [==============================] - 0s 8ms/step - loss: 0.2414 - accuracy: 0.9172 - val_loss: 0.2618 - val_accuracy: 0.9057\n",
      "Epoch 151/200\n",
      "15/15 [==============================] - 0s 9ms/step - loss: 0.2454 - accuracy: 0.9119 - val_loss: 0.2571 - val_accuracy: 0.9057\n",
      "Epoch 152/200\n",
      "15/15 [==============================] - 0s 9ms/step - loss: 0.2501 - accuracy: 0.9113 - val_loss: 0.2750 - val_accuracy: 0.8934\n",
      "Epoch 153/200\n",
      "15/15 [==============================] - 0s 8ms/step - loss: 0.2464 - accuracy: 0.9122 - val_loss: 0.2792 - val_accuracy: 0.9077\n",
      "Epoch 154/200\n",
      "15/15 [==============================] - 0s 8ms/step - loss: 0.2515 - accuracy: 0.9154 - val_loss: 0.2710 - val_accuracy: 0.9003\n",
      "Epoch 155/200\n",
      "15/15 [==============================] - 0s 8ms/step - loss: 0.2481 - accuracy: 0.9123 - val_loss: 0.2615 - val_accuracy: 0.8968\n",
      "Epoch 156/200\n",
      "15/15 [==============================] - 0s 8ms/step - loss: 0.2399 - accuracy: 0.9159 - val_loss: 0.2675 - val_accuracy: 0.9102\n",
      "Epoch 157/200\n",
      "15/15 [==============================] - 0s 8ms/step - loss: 0.2369 - accuracy: 0.9163 - val_loss: 0.2753 - val_accuracy: 0.9077\n",
      "Epoch 158/200\n",
      "15/15 [==============================] - 0s 8ms/step - loss: 0.2529 - accuracy: 0.9085 - val_loss: 0.2655 - val_accuracy: 0.9082\n",
      "Epoch 159/200\n",
      "15/15 [==============================] - 0s 8ms/step - loss: 0.2438 - accuracy: 0.9151 - val_loss: 0.2623 - val_accuracy: 0.9057\n",
      "Epoch 160/200\n",
      "15/15 [==============================] - 0s 8ms/step - loss: 0.2563 - accuracy: 0.9088 - val_loss: 0.2754 - val_accuracy: 0.8963\n",
      "Epoch 161/200\n",
      "15/15 [==============================] - 0s 8ms/step - loss: 0.2493 - accuracy: 0.9128 - val_loss: 0.2617 - val_accuracy: 0.9033\n",
      "Epoch 162/200\n",
      "15/15 [==============================] - 0s 7ms/step - loss: 0.2590 - accuracy: 0.9062 - val_loss: 0.2710 - val_accuracy: 0.9112\n",
      "Epoch 163/200\n",
      "15/15 [==============================] - 0s 7ms/step - loss: 0.2371 - accuracy: 0.9161 - val_loss: 0.2746 - val_accuracy: 0.9013\n",
      "Epoch 164/200\n",
      "15/15 [==============================] - 0s 8ms/step - loss: 0.2355 - accuracy: 0.9160 - val_loss: 0.2728 - val_accuracy: 0.9003\n",
      "Epoch 165/200\n",
      "15/15 [==============================] - 0s 8ms/step - loss: 0.2369 - accuracy: 0.9163 - val_loss: 0.2722 - val_accuracy: 0.9062\n",
      "Epoch 166/200\n",
      "15/15 [==============================] - 0s 8ms/step - loss: 0.2466 - accuracy: 0.9151 - val_loss: 0.2716 - val_accuracy: 0.9008\n",
      "Epoch 167/200\n",
      "15/15 [==============================] - 0s 8ms/step - loss: 0.2304 - accuracy: 0.9216 - val_loss: 0.2771 - val_accuracy: 0.9028\n",
      "Epoch 168/200\n",
      "15/15 [==============================] - 0s 7ms/step - loss: 0.2459 - accuracy: 0.9158 - val_loss: 0.2846 - val_accuracy: 0.9013\n",
      "Epoch 169/200\n",
      "15/15 [==============================] - 0s 8ms/step - loss: 0.2451 - accuracy: 0.9176 - val_loss: 0.2848 - val_accuracy: 0.9042\n",
      "Epoch 170/200\n",
      "15/15 [==============================] - 0s 8ms/step - loss: 0.2555 - accuracy: 0.9105 - val_loss: 0.2845 - val_accuracy: 0.9042\n",
      "Epoch 171/200\n",
      "15/15 [==============================] - 0s 19ms/step - loss: 0.2369 - accuracy: 0.9194 - val_loss: 0.2759 - val_accuracy: 0.9038\n",
      "Epoch 172/200\n",
      "15/15 [==============================] - 0s 8ms/step - loss: 0.2339 - accuracy: 0.9192 - val_loss: 0.2794 - val_accuracy: 0.8998\n",
      "Epoch 173/200\n"
     ]
    },
    {
     "name": "stdout",
     "output_type": "stream",
     "text": [
      "15/15 [==============================] - 0s 8ms/step - loss: 0.2645 - accuracy: 0.9062 - val_loss: 0.2751 - val_accuracy: 0.9067\n",
      "Epoch 174/200\n",
      "15/15 [==============================] - 0s 8ms/step - loss: 0.2523 - accuracy: 0.9107 - val_loss: 0.2880 - val_accuracy: 0.8959\n",
      "Epoch 175/200\n",
      "15/15 [==============================] - 0s 10ms/step - loss: 0.2394 - accuracy: 0.9170 - val_loss: 0.2915 - val_accuracy: 0.9033\n",
      "Epoch 176/200\n",
      "15/15 [==============================] - 0s 9ms/step - loss: 0.2424 - accuracy: 0.9175 - val_loss: 0.2932 - val_accuracy: 0.8968\n",
      "Epoch 177/200\n",
      "15/15 [==============================] - 0s 8ms/step - loss: 0.2407 - accuracy: 0.9162 - val_loss: 0.2868 - val_accuracy: 0.8973\n",
      "Epoch 178/200\n",
      "15/15 [==============================] - 0s 8ms/step - loss: 0.2523 - accuracy: 0.9096 - val_loss: 0.3086 - val_accuracy: 0.8835\n",
      "Epoch 179/200\n",
      "15/15 [==============================] - 0s 8ms/step - loss: 0.2435 - accuracy: 0.9179 - val_loss: 0.2931 - val_accuracy: 0.8939\n",
      "Epoch 180/200\n",
      "15/15 [==============================] - 0s 8ms/step - loss: 0.2401 - accuracy: 0.9148 - val_loss: 0.2871 - val_accuracy: 0.8988\n",
      "Epoch 181/200\n",
      "15/15 [==============================] - 0s 8ms/step - loss: 0.2311 - accuracy: 0.9177 - val_loss: 0.2780 - val_accuracy: 0.9057\n",
      "Epoch 182/200\n",
      "15/15 [==============================] - 0s 8ms/step - loss: 0.2367 - accuracy: 0.9200 - val_loss: 0.2707 - val_accuracy: 0.9028\n",
      "Epoch 183/200\n",
      "15/15 [==============================] - 0s 8ms/step - loss: 0.2491 - accuracy: 0.9143 - val_loss: 0.2816 - val_accuracy: 0.9018\n",
      "Epoch 184/200\n",
      "15/15 [==============================] - 0s 8ms/step - loss: 0.2370 - accuracy: 0.9187 - val_loss: 0.2825 - val_accuracy: 0.9067\n",
      "Epoch 185/200\n",
      "15/15 [==============================] - 0s 8ms/step - loss: 0.2549 - accuracy: 0.9119 - val_loss: 0.2895 - val_accuracy: 0.8968\n",
      "Epoch 186/200\n",
      "15/15 [==============================] - 0s 8ms/step - loss: 0.2395 - accuracy: 0.9164 - val_loss: 0.3044 - val_accuracy: 0.8899\n",
      "Epoch 187/200\n",
      "15/15 [==============================] - 0s 8ms/step - loss: 0.2361 - accuracy: 0.9163 - val_loss: 0.2672 - val_accuracy: 0.9042\n",
      "Epoch 188/200\n",
      "15/15 [==============================] - 0s 8ms/step - loss: 0.2321 - accuracy: 0.9188 - val_loss: 0.2765 - val_accuracy: 0.9028\n",
      "Epoch 189/200\n",
      "15/15 [==============================] - 0s 8ms/step - loss: 0.2531 - accuracy: 0.9093 - val_loss: 0.2937 - val_accuracy: 0.9042\n",
      "Epoch 190/200\n",
      "15/15 [==============================] - 0s 8ms/step - loss: 0.2416 - accuracy: 0.9159 - val_loss: 0.2815 - val_accuracy: 0.8870\n",
      "Epoch 191/200\n",
      "15/15 [==============================] - 0s 8ms/step - loss: 0.2402 - accuracy: 0.9172 - val_loss: 0.2980 - val_accuracy: 0.8993\n",
      "Epoch 192/200\n",
      "15/15 [==============================] - 0s 8ms/step - loss: 0.2427 - accuracy: 0.9160 - val_loss: 0.2740 - val_accuracy: 0.9077\n",
      "Epoch 193/200\n",
      "15/15 [==============================] - 0s 8ms/step - loss: 0.2280 - accuracy: 0.9195 - val_loss: 0.2659 - val_accuracy: 0.9047\n",
      "Epoch 194/200\n",
      "15/15 [==============================] - 0s 8ms/step - loss: 0.2418 - accuracy: 0.9126 - val_loss: 0.2683 - val_accuracy: 0.9028\n",
      "Epoch 195/200\n",
      "15/15 [==============================] - 0s 8ms/step - loss: 0.2344 - accuracy: 0.9175 - val_loss: 0.2668 - val_accuracy: 0.9072\n",
      "Epoch 196/200\n",
      "15/15 [==============================] - 0s 8ms/step - loss: 0.2315 - accuracy: 0.9225 - val_loss: 0.2869 - val_accuracy: 0.9042\n",
      "Epoch 197/200\n",
      "15/15 [==============================] - 0s 9ms/step - loss: 0.2435 - accuracy: 0.9181 - val_loss: 0.2832 - val_accuracy: 0.9023\n",
      "Epoch 198/200\n",
      "15/15 [==============================] - 0s 8ms/step - loss: 0.2411 - accuracy: 0.9176 - val_loss: 0.2743 - val_accuracy: 0.9082\n",
      "Epoch 199/200\n",
      "15/15 [==============================] - 0s 8ms/step - loss: 0.2301 - accuracy: 0.9228 - val_loss: 0.2974 - val_accuracy: 0.9047\n",
      "Epoch 200/200\n",
      "15/15 [==============================] - 0s 8ms/step - loss: 0.2314 - accuracy: 0.9231 - val_loss: 0.2784 - val_accuracy: 0.9042\n",
      "Time:  26.808970283993403\n"
     ]
    }
   ],
   "source": [
    "import timeit\n",
    "\n",
    "start = timeit.default_timer()\n",
    "\n",
    "#Your statements here\n",
    "\n",
    "bestNN=create_modelWithDropBatch(hidden_layers= 6, learning_rate= 0.05)\n",
    "history2 = bestNN.fit(\n",
    "     scaled_XKmeans, y_train_res,\n",
    "    validation_data=(scaled_XValid, y_valid),\n",
    "    batch_size=512,\n",
    "    epochs=200,\n",
    "#     callbacks=[early_stopping],\n",
    ")\n",
    "stop = timeit.default_timer()\n",
    "\n",
    "print('Time: ', stop - start)  \n"
   ]
  },
  {
   "cell_type": "code",
   "execution_count": 70,
   "metadata": {},
   "outputs": [],
   "source": [
    "def plotconfusionMatrix(modelObj,ytest,xtest):\n",
    "#     model_DecTreeClass2.fit(X_train_res, y_train_res)\n",
    "    y_pred_DecTreeClass2 = modelObj.predict_classes(xtest)\n",
    "    conf_mat2 = metrics.confusion_matrix(ytest, y_pred_DecTreeClass2)\n",
    "    plt.figure(figsize=(8,6))\n",
    "    sns.heatmap(conf_mat2,annot=True)\n",
    "    plt.title(\"Confusion_matrix\")\n",
    "    plt.xlabel(\"Predicted Class\")\n",
    "    plt.ylabel(\"Actual class\")\n",
    "    plt.show()\n",
    "    print('Confusion matrix: \\n', conf_mat2)\n",
    "    print('TP: ', conf_mat2[1,1])\n",
    "    print('TN: ', conf_mat2[0,0])\n",
    "    print('FP: ', conf_mat2[0,1])\n",
    "    print('FN: ', conf_mat2[1,0])\n",
    "\n",
    "def getMetrics(modelObj,xTrain,yTrain,xValid,yValid):\n",
    "    y_pred_DecTreeClass2 = modelObj.predict_classes(xValid)\n",
    "    print('Classification report: \\n', metrics.classification_report(yValid, y_pred_DecTreeClass2))\n",
    "    print('Training Accuracy_Score:',metrics.accuracy_score(yTrain, modelObj.predict_classes(xTrain))*100,'%')\n",
    "    print('Training Precision:',metrics.precision_score(yTrain, modelObj.predict_classes(xTrain))*100,'%')\n",
    "    print('Training Recall:',metrics.recall_score(yTrain, modelObj.predict_classes(xTrain))*100,'%')\n",
    "    \n",
    "    print('Training F1 Score:',metrics.f1_score(yTrain, modelObj.predict_classes(xTrain))*100,'%')\n",
    "\n",
    "    \n",
    "    print('Validation Accuracy_Score:',metrics.accuracy_score(yValid, y_pred_DecTreeClass2)*100,'%')\n",
    "    print('Validation Precision:',metrics.precision_score(yValid, y_pred_DecTreeClass2)*100,'%')\n",
    "    print('Validation Recall:',metrics.recall_score(yValid, y_pred_DecTreeClass2)*100,'%')\n",
    "    \n",
    "    print('Validation F1 Score:',metrics.f1_score(yValid, y_pred_DecTreeClass2)*100,'%')"
   ]
  },
  {
   "cell_type": "code",
   "execution_count": 71,
   "metadata": {},
   "outputs": [
    {
     "data": {
      "text/plain": [
       "<AxesSubplot:title={'center':'Accuracy'}>"
      ]
     },
     "execution_count": 71,
     "metadata": {},
     "output_type": "execute_result"
    },
    {
     "data": {
      "image/png": "[encoded data removed]",
      "text/plain": [
       "<Figure size 432x288 with 1 Axes>"
      ]
     },
     "metadata": {
      "needs_background": "light"
     },
     "output_type": "display_data"
    },
    {
     "data": {
      "image/png": "[encoded data removed]",
      "text/plain": [
       "<Figure size 432x288 with 1 Axes>"
      ]
     },
     "metadata": {
      "needs_background": "light"
     },
     "output_type": "display_data"
    }
   ],
   "source": [
    "history_df = pd.DataFrame(history2.history)\n",
    "history_df.loc[:, ['loss', 'val_loss']].plot(title=\"Cross-entropy\")\n",
    "history_df.loc[:, ['accuracy', 'val_accuracy']].plot(title=\"Accuracy\")"
   ]
  },
  {
   "cell_type": "code",
   "execution_count": 72,
   "metadata": {},
   "outputs": [
    {
     "name": "stderr",
     "output_type": "stream",
     "text": [
      "/home/dheekshitha-vibha/miniconda3/envs/myenv/lib/python3.6/site-packages/tensorflow/python/keras/engine/sequential.py:450: UserWarning: `model.predict_classes()` is deprecated and will be removed after 2021-01-01. Please use instead:* `np.argmax(model.predict(x), axis=-1)`,   if your model does multi-class classification   (e.g. if it uses a `softmax` last-layer activation).* `(model.predict(x) > 0.5).astype(\"int32\")`,   if your model does binary classification   (e.g. if it uses a `sigmoid` last-layer activation).\n",
      "  warnings.warn('`model.predict_classes()` is deprecated and '\n"
     ]
    },
    {
     "data": {
      "image/png": "[encoded data removed]",
      "text/plain": [
       "<Figure size 576x432 with 2 Axes>"
      ]
     },
     "metadata": {
      "needs_background": "light"
     },
     "output_type": "display_data"
    },
    {
     "name": "stdout",
     "output_type": "stream",
     "text": [
      "Confusion matrix: \n",
      " [[ 210  129]\n",
      " [  65 1622]]\n",
      "TP:  1622\n",
      "TN:  210\n",
      "FP:  129\n",
      "FN:  65\n",
      "Classification report: \n",
      "               precision    recall  f1-score   support\n",
      "\n",
      "           0       0.76      0.62      0.68       339\n",
      "           1       0.93      0.96      0.94      1687\n",
      "\n",
      "    accuracy                           0.90      2026\n",
      "   macro avg       0.84      0.79      0.81      2026\n",
      "weighted avg       0.90      0.90      0.90      2026\n",
      "\n"
     ]
    },
    {
     "name": "stderr",
     "output_type": "stream",
     "text": [
      "/home/dheekshitha-vibha/miniconda3/envs/myenv/lib/python3.6/site-packages/tensorflow/python/keras/engine/sequential.py:450: UserWarning: `model.predict_classes()` is deprecated and will be removed after 2021-01-01. Please use instead:* `np.argmax(model.predict(x), axis=-1)`,   if your model does multi-class classification   (e.g. if it uses a `softmax` last-layer activation).* `(model.predict(x) > 0.5).astype(\"int32\")`,   if your model does binary classification   (e.g. if it uses a `sigmoid` last-layer activation).\n",
      "  warnings.warn('`model.predict_classes()` is deprecated and '\n",
      "/home/dheekshitha-vibha/miniconda3/envs/myenv/lib/python3.6/site-packages/tensorflow/python/keras/engine/sequential.py:450: UserWarning: `model.predict_classes()` is deprecated and will be removed after 2021-01-01. Please use instead:* `np.argmax(model.predict(x), axis=-1)`,   if your model does multi-class classification   (e.g. if it uses a `softmax` last-layer activation).* `(model.predict(x) > 0.5).astype(\"int32\")`,   if your model does binary classification   (e.g. if it uses a `sigmoid` last-layer activation).\n",
      "  warnings.warn('`model.predict_classes()` is deprecated and '\n"
     ]
    },
    {
     "name": "stdout",
     "output_type": "stream",
     "text": [
      "Training Accuracy_Score: 94.4885993485342 %\n"
     ]
    },
    {
     "name": "stderr",
     "output_type": "stream",
     "text": [
      "/home/dheekshitha-vibha/miniconda3/envs/myenv/lib/python3.6/site-packages/tensorflow/python/keras/engine/sequential.py:450: UserWarning: `model.predict_classes()` is deprecated and will be removed after 2021-01-01. Please use instead:* `np.argmax(model.predict(x), axis=-1)`,   if your model does multi-class classification   (e.g. if it uses a `softmax` last-layer activation).* `(model.predict(x) > 0.5).astype(\"int32\")`,   if your model does binary classification   (e.g. if it uses a `sigmoid` last-layer activation).\n",
      "  warnings.warn('`model.predict_classes()` is deprecated and '\n"
     ]
    },
    {
     "name": "stdout",
     "output_type": "stream",
     "text": [
      "Training Precision: 94.06684190762297 %\n",
      "Training Recall: 97.90893101426617 %\n"
     ]
    },
    {
     "name": "stderr",
     "output_type": "stream",
     "text": [
      "/home/dheekshitha-vibha/miniconda3/envs/myenv/lib/python3.6/site-packages/tensorflow/python/keras/engine/sequential.py:450: UserWarning: `model.predict_classes()` is deprecated and will be removed after 2021-01-01. Please use instead:* `np.argmax(model.predict(x), axis=-1)`,   if your model does multi-class classification   (e.g. if it uses a `softmax` last-layer activation).* `(model.predict(x) > 0.5).astype(\"int32\")`,   if your model does binary classification   (e.g. if it uses a `sigmoid` last-layer activation).\n",
      "  warnings.warn('`model.predict_classes()` is deprecated and '\n",
      "/home/dheekshitha-vibha/miniconda3/envs/myenv/lib/python3.6/site-packages/tensorflow/python/keras/engine/sequential.py:450: UserWarning: `model.predict_classes()` is deprecated and will be removed after 2021-01-01. Please use instead:* `np.argmax(model.predict(x), axis=-1)`,   if your model does multi-class classification   (e.g. if it uses a `softmax` last-layer activation).* `(model.predict(x) > 0.5).astype(\"int32\")`,   if your model does binary classification   (e.g. if it uses a `sigmoid` last-layer activation).\n",
      "  warnings.warn('`model.predict_classes()` is deprecated and '\n"
     ]
    },
    {
     "name": "stdout",
     "output_type": "stream",
     "text": [
      "Training F1 Score: 95.94943981614477 %\n",
      "Validation Accuracy_Score: 90.42448173741361 %\n",
      "Validation Precision: 92.63278126784694 %\n",
      "Validation Recall: 96.1470065204505 %\n",
      "Validation F1 Score: 94.35718440954042 %\n"
     ]
    }
   ],
   "source": [
    "\n",
    "plotconfusionMatrix(bestNN,y_valid['Attrition_Flag'],scaled_XValid)\n",
    "\n",
    "getMetrics(bestNN,scaled_XKmeans,y_train_res['Attrition_Flag'],scaled_XValid,y_valid['Attrition_Flag'])"
   ]
  },
  {
   "cell_type": "code",
   "execution_count": 26,
   "metadata": {},
   "outputs": [
    {
     "data": {
      "text/plain": [
       "<AxesSubplot:title={'center':'Accuracy'}>"
      ]
     },
     "execution_count": 26,
     "metadata": {},
     "output_type": "execute_result"
    },
    {
     "data": {
      "image/png": "[encoded data removed]",
      "text/plain": [
       "<Figure size 432x288 with 1 Axes>"
      ]
     },
     "metadata": {
      "needs_background": "light"
     },
     "output_type": "display_data"
    },
    {
     "data": {
      "image/png": "[encoded data removed]",
      "text/plain": [
       "<Figure size 432x288 with 1 Axes>"
      ]
     },
     "metadata": {
      "needs_background": "light"
     },
     "output_type": "display_data"
    }
   ],
   "source": [
    "history_df = pd.DataFrame(history2.history)\n",
    "history_df.loc[:, ['loss', 'val_loss']].plot(title=\"Cross-entropy\")\n",
    "history_df.loc[:, ['accuracy', 'val_accuracy']].plot(title=\"Accuracy\")"
   ]
  },
  {
   "cell_type": "code",
   "execution_count": 62,
   "metadata": {
    "scrolled": true
   },
   "outputs": [],
   "source": [
    "# y_pred_SVM = bestNN.predict_classes(pca_finalDF)\n",
    "\n",
    "\n",
    "# # print('Classification report: \\n', metrics.classification_report(y_test, model))\n",
    "# print('Accuracy_Score:',metrics.accuracy_score(y_train_res, y_pred_SVM)*100,'%')\n",
    "\n",
    "\n",
    "# print('precision_score:',metrics.precision_score(y_train_res, y_pred_SVM)*100,'%')\n",
    "\n",
    "# print('recall_score:',metrics.recall_score(y_train_res, y_pred_SVM)*100,'%')"
   ]
  },
  {
   "cell_type": "code",
   "execution_count": 52,
   "metadata": {
    "scrolled": false
   },
   "outputs": [
    {
     "name": "stderr",
     "output_type": "stream",
     "text": [
      "/home/dheekshitha-vibha/miniconda3/envs/myenv/lib/python3.6/site-packages/tensorflow/python/keras/engine/sequential.py:450: UserWarning: `model.predict_classes()` is deprecated and will be removed after 2021-01-01. Please use instead:* `np.argmax(model.predict(x), axis=-1)`,   if your model does multi-class classification   (e.g. if it uses a `softmax` last-layer activation).* `(model.predict(x) > 0.5).astype(\"int32\")`,   if your model does binary classification   (e.g. if it uses a `sigmoid` last-layer activation).\n",
      "  warnings.warn('`model.predict_classes()` is deprecated and '\n"
     ]
    },
    {
     "data": {
      "image/png": "[encoded data removed]",
      "text/plain": [
       "<Figure size 576x432 with 2 Axes>"
      ]
     },
     "metadata": {
      "needs_background": "light"
     },
     "output_type": "display_data"
    },
    {
     "name": "stdout",
     "output_type": "stream",
     "text": [
      "Confusion matrix: \n",
      " [[ 339    0]\n",
      " [1687    0]]\n",
      "TP:  0\n",
      "TN:  339\n",
      "FP:  0\n",
      "FN:  1687\n",
      "Classification report: \n",
      "               precision    recall  f1-score   support\n",
      "\n",
      "           0       0.17      1.00      0.29       339\n",
      "           1       0.00      0.00      0.00      1687\n",
      "\n",
      "    accuracy                           0.17      2026\n",
      "   macro avg       0.08      0.50      0.14      2026\n",
      "weighted avg       0.03      0.17      0.05      2026\n",
      "\n"
     ]
    },
    {
     "name": "stderr",
     "output_type": "stream",
     "text": [
      "/home/dheekshitha-vibha/miniconda3/envs/myenv/lib/python3.6/site-packages/tensorflow/python/keras/engine/sequential.py:450: UserWarning: `model.predict_classes()` is deprecated and will be removed after 2021-01-01. Please use instead:* `np.argmax(model.predict(x), axis=-1)`,   if your model does multi-class classification   (e.g. if it uses a `softmax` last-layer activation).* `(model.predict(x) > 0.5).astype(\"int32\")`,   if your model does binary classification   (e.g. if it uses a `sigmoid` last-layer activation).\n",
      "  warnings.warn('`model.predict_classes()` is deprecated and '\n",
      "/home/dheekshitha-vibha/miniconda3/envs/myenv/lib/python3.6/site-packages/sklearn/metrics/_classification.py:1245: UndefinedMetricWarning: Precision and F-score are ill-defined and being set to 0.0 in labels with no predicted samples. Use `zero_division` parameter to control this behavior.\n",
      "  _warn_prf(average, modifier, msg_start, len(result))\n",
      "/home/dheekshitha-vibha/miniconda3/envs/myenv/lib/python3.6/site-packages/sklearn/metrics/_classification.py:1245: UndefinedMetricWarning: Precision and F-score are ill-defined and being set to 0.0 in labels with no predicted samples. Use `zero_division` parameter to control this behavior.\n",
      "  _warn_prf(average, modifier, msg_start, len(result))\n",
      "/home/dheekshitha-vibha/miniconda3/envs/myenv/lib/python3.6/site-packages/sklearn/metrics/_classification.py:1245: UndefinedMetricWarning: Precision and F-score are ill-defined and being set to 0.0 in labels with no predicted samples. Use `zero_division` parameter to control this behavior.\n",
      "  _warn_prf(average, modifier, msg_start, len(result))\n",
      "/home/dheekshitha-vibha/miniconda3/envs/myenv/lib/python3.6/site-packages/tensorflow/python/keras/engine/sequential.py:450: UserWarning: `model.predict_classes()` is deprecated and will be removed after 2021-01-01. Please use instead:* `np.argmax(model.predict(x), axis=-1)`,   if your model does multi-class classification   (e.g. if it uses a `softmax` last-layer activation).* `(model.predict(x) > 0.5).astype(\"int32\")`,   if your model does binary classification   (e.g. if it uses a `sigmoid` last-layer activation).\n",
      "  warnings.warn('`model.predict_classes()` is deprecated and '\n"
     ]
    },
    {
     "name": "stdout",
     "output_type": "stream",
     "text": [
      "Training Accuracy_Score: 33.328990228013026 %\n",
      "Training Precision: 0.0 %\n"
     ]
    },
    {
     "name": "stderr",
     "output_type": "stream",
     "text": [
      "/home/dheekshitha-vibha/miniconda3/envs/myenv/lib/python3.6/site-packages/tensorflow/python/keras/engine/sequential.py:450: UserWarning: `model.predict_classes()` is deprecated and will be removed after 2021-01-01. Please use instead:* `np.argmax(model.predict(x), axis=-1)`,   if your model does multi-class classification   (e.g. if it uses a `softmax` last-layer activation).* `(model.predict(x) > 0.5).astype(\"int32\")`,   if your model does binary classification   (e.g. if it uses a `sigmoid` last-layer activation).\n",
      "  warnings.warn('`model.predict_classes()` is deprecated and '\n",
      "/home/dheekshitha-vibha/miniconda3/envs/myenv/lib/python3.6/site-packages/sklearn/metrics/_classification.py:1245: UndefinedMetricWarning: Precision is ill-defined and being set to 0.0 due to no predicted samples. Use `zero_division` parameter to control this behavior.\n",
      "  _warn_prf(average, modifier, msg_start, len(result))\n",
      "/home/dheekshitha-vibha/miniconda3/envs/myenv/lib/python3.6/site-packages/tensorflow/python/keras/engine/sequential.py:450: UserWarning: `model.predict_classes()` is deprecated and will be removed after 2021-01-01. Please use instead:* `np.argmax(model.predict(x), axis=-1)`,   if your model does multi-class classification   (e.g. if it uses a `softmax` last-layer activation).* `(model.predict(x) > 0.5).astype(\"int32\")`,   if your model does binary classification   (e.g. if it uses a `sigmoid` last-layer activation).\n",
      "  warnings.warn('`model.predict_classes()` is deprecated and '\n"
     ]
    },
    {
     "name": "stdout",
     "output_type": "stream",
     "text": [
      "Training Recall: 0.0 %\n"
     ]
    },
    {
     "name": "stderr",
     "output_type": "stream",
     "text": [
      "/home/dheekshitha-vibha/miniconda3/envs/myenv/lib/python3.6/site-packages/tensorflow/python/keras/engine/sequential.py:450: UserWarning: `model.predict_classes()` is deprecated and will be removed after 2021-01-01. Please use instead:* `np.argmax(model.predict(x), axis=-1)`,   if your model does multi-class classification   (e.g. if it uses a `softmax` last-layer activation).* `(model.predict(x) > 0.5).astype(\"int32\")`,   if your model does binary classification   (e.g. if it uses a `sigmoid` last-layer activation).\n",
      "  warnings.warn('`model.predict_classes()` is deprecated and '\n"
     ]
    },
    {
     "name": "stdout",
     "output_type": "stream",
     "text": [
      "Training F1 Score: 0.0 %\n",
      "Validation Accuracy_Score: 16.732477788746298 %\n",
      "Validation Precision: 0.0 %\n",
      "Validation Recall: 0.0 %\n",
      "Validation F1 Score: 0.0 %\n"
     ]
    },
    {
     "name": "stderr",
     "output_type": "stream",
     "text": [
      "/home/dheekshitha-vibha/miniconda3/envs/myenv/lib/python3.6/site-packages/sklearn/metrics/_classification.py:1245: UndefinedMetricWarning: Precision is ill-defined and being set to 0.0 due to no predicted samples. Use `zero_division` parameter to control this behavior.\n",
      "  _warn_prf(average, modifier, msg_start, len(result))\n"
     ]
    }
   ],
   "source": [
    "\n",
    "plotconfusionMatrix(bestNN,y_valid['Attrition_Flag'],pcavalidData)\n",
    "\n",
    "getMetrics(bestNN,pca_finalDF,y_train_res['Attrition_Flag'],pcavalidData,y_valid['Attrition_Flag'])"
   ]
  }
 ],
 "metadata": {
  "kernelspec": {
   "display_name": "myenv",
   "language": "python",
   "name": "myenv"
  },
  "language_info": {
   "codemirror_mode": {
    "name": "ipython",
    "version": 3
   },
   "file_extension": ".py",
   "mimetype": "text/x-python",
   "name": "python",
   "nbconvert_exporter": "python",
   "pygments_lexer": "ipython3",
   "version": "3.6.12"
  }
 },
 "nbformat": 4,
 "nbformat_minor": 4
}
